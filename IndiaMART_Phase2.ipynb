{
  "nbformat": 4,
  "nbformat_minor": 0,
  "metadata": {
    "colab": {
      "name": "IndiaMART_Phase2.ipynb",
      "version": "0.3.2",
      "provenance": [],
      "collapsed_sections": [
        "3PxWIGYRHZ9w",
        "JpCjUBDvX1Je",
        "to5tYq-HyMHI"
      ]
    },
    "kernelspec": {
      "name": "python3",
      "display_name": "Python 3"
    },
    "accelerator": "GPU"
  },
  "cells": [
    {
      "cell_type": "markdown",
      "metadata": {
        "id": "iusx9sarbusV",
        "colab_type": "text"
      },
      "source": [
        "# IndiaMart PriceRangePrediction\n",
        "\n",
        "New Section\n",
        "\n",
        "\n",
        "```\n",
        "# To Achieve the target, we have assumed the following things:\n",
        "\n",
        "      1. 85% and above prices should be retained after outlier detection for finding the price range.\n",
        "      2. Units which have counts < 5 are removed.\n",
        "     \n",
        "```\n",
        "\n",
        "\n",
        "```\n",
        "# The following ensemble technique is used to find outliers:\n",
        "\n",
        "        1. Isolation Forests - IF\n",
        "        2. DBScan\n",
        "        3. LOF\n",
        "        4. MaxVote(IF, DBScan, LOF)\n",
        "```\n",
        "\n",
        "```\n",
        "\n",
        "# For estimation of amount of contamination, Inter-Quartile Range Data is considered. If Data(IQR)==100%, it is set to 98% and if <=85%, it is set to 87%\n",
        "```\n",
        "\n",
        "The **contamination**  factor and **epsilon** value are not fixed and infered dynamically by the above technique. Primary test indicate robust nature of this technique.\n"
      ]
    },
    {
      "cell_type": "markdown",
      "metadata": {
        "id": "3PxWIGYRHZ9w",
        "colab_type": "text"
      },
      "source": [
        "##Imports"
      ]
    },
    {
      "cell_type": "code",
      "metadata": {
        "id": "qfAdrYqfEIJC",
        "colab_type": "code",
        "colab": {}
      },
      "source": [
        "import pandas as pd\n",
        "import numpy as np\n",
        "from matplotlib import pyplot as plt\n",
        "\n",
        "import numpy as np \n",
        "import pandas as pd \n",
        "\n",
        "import matplotlib.pyplot as plt\n",
        "import seaborn as sns\n",
        "\n",
        "from sklearn.ensemble import IsolationForest\n",
        "from sklearn.neighbors import LocalOutlierFactor\n",
        "from scipy import stats\n"
      ],
      "execution_count": 0,
      "outputs": []
    },
    {
      "cell_type": "markdown",
      "metadata": {
        "id": "MFGdsMenHeDM",
        "colab_type": "text"
      },
      "source": [
        "##Data Preprocessing\n",
        "\n",
        "1. Remove items with count < 5\n",
        "2. Consolidation and Organization"
      ]
    },
    {
      "cell_type": "code",
      "metadata": {
        "id": "v71eP6_3ENNV",
        "colab_type": "code",
        "colab": {}
      },
      "source": [
        "data = pd.read_csv(\"Data-Table 1.csv\")"
      ],
      "execution_count": 0,
      "outputs": []
    },
    {
      "cell_type": "code",
      "metadata": {
        "id": "rQEcz33UGj77",
        "colab_type": "code",
        "colab": {}
      },
      "source": [
        "data = data.drop(columns={\"Subcat name\", \"PC_ITEM_ID\", \"PC_ITEM_NAME\", })\n",
        "data  = data.rename(index=str, columns={\"Mcat Name\": \"MCAT\", \"FK_IM_SPEC_MASTER_DESC\": \"ISQ\", \"FK_IM_SPEC_OPTIONS_DESC\":\"ISQ Options\", \"PC_ITEM_FOB_PRICE\":\"Prices\",\"PC_ITEM_MOQ_UNIT_TYPE\":\"Unit\"})\n",
        "data.head()\n",
        "\n",
        "\n",
        "#for non isq\n",
        "data1=data.drop(columns={\"ISQ\", \"ISQ Options\"})\n",
        "data1 = data1.groupby(['MCAT','Unit'])\n",
        "data1 = data1.filter(lambda x: x['Unit'].count() > 5)\n",
        "data1 = data1.groupby(['MCAT','Unit'])\n",
        "\n",
        "\n",
        "#for isq\n",
        "data2 = data.groupby(['MCAT','Unit','ISQ','ISQ Options'])\n",
        "data2 = data2.filter(lambda x: x['ISQ Options'].count() > 5)\n",
        "data2 = data2.groupby(['MCAT','Unit','ISQ','ISQ Options'])"
      ],
      "execution_count": 0,
      "outputs": []
    },
    {
      "cell_type": "code",
      "metadata": {
        "id": "rONZ3Kg8Jctv",
        "colab_type": "code",
        "outputId": "cd39d2ac-9ef5-4028-a519-b14a7ba90b87",
        "colab": {
          "base_uri": "https://localhost:8080/",
          "height": 1000
        }
      },
      "source": [
        "data1.describe()"
      ],
      "execution_count": 395,
      "outputs": [
        {
          "output_type": "execute_result",
          "data": {
            "text/html": [
              "<div>\n",
              "<style scoped>\n",
              "    .dataframe tbody tr th:only-of-type {\n",
              "        vertical-align: middle;\n",
              "    }\n",
              "\n",
              "    .dataframe tbody tr th {\n",
              "        vertical-align: top;\n",
              "    }\n",
              "\n",
              "    .dataframe thead tr th {\n",
              "        text-align: left;\n",
              "    }\n",
              "\n",
              "    .dataframe thead tr:last-of-type th {\n",
              "        text-align: right;\n",
              "    }\n",
              "</style>\n",
              "<table border=\"1\" class=\"dataframe\">\n",
              "  <thead>\n",
              "    <tr>\n",
              "      <th></th>\n",
              "      <th></th>\n",
              "      <th colspan=\"8\" halign=\"left\">Prices</th>\n",
              "    </tr>\n",
              "    <tr>\n",
              "      <th></th>\n",
              "      <th></th>\n",
              "      <th>count</th>\n",
              "      <th>mean</th>\n",
              "      <th>std</th>\n",
              "      <th>min</th>\n",
              "      <th>25%</th>\n",
              "      <th>50%</th>\n",
              "      <th>75%</th>\n",
              "      <th>max</th>\n",
              "    </tr>\n",
              "    <tr>\n",
              "      <th>MCAT</th>\n",
              "      <th>Unit</th>\n",
              "      <th></th>\n",
              "      <th></th>\n",
              "      <th></th>\n",
              "      <th></th>\n",
              "      <th></th>\n",
              "      <th></th>\n",
              "      <th></th>\n",
              "      <th></th>\n",
              "    </tr>\n",
              "  </thead>\n",
              "  <tbody>\n",
              "    <tr>\n",
              "      <th rowspan=\"3\" valign=\"top\">AC Motors</th>\n",
              "      <th>Number</th>\n",
              "      <td>10.0</td>\n",
              "      <td>2.320000e+04</td>\n",
              "      <td>1.549193e+03</td>\n",
              "      <td>22000.0</td>\n",
              "      <td>22000.00</td>\n",
              "      <td>22000.0</td>\n",
              "      <td>25000.0</td>\n",
              "      <td>25000.0</td>\n",
              "    </tr>\n",
              "    <tr>\n",
              "      <th>Piece</th>\n",
              "      <td>113.0</td>\n",
              "      <td>6.702504e+03</td>\n",
              "      <td>1.604594e+04</td>\n",
              "      <td>45.0</td>\n",
              "      <td>2500.00</td>\n",
              "      <td>4000.0</td>\n",
              "      <td>5000.0</td>\n",
              "      <td>100000.0</td>\n",
              "    </tr>\n",
              "    <tr>\n",
              "      <th>Unit</th>\n",
              "      <td>40.0</td>\n",
              "      <td>1.370450e+04</td>\n",
              "      <td>2.130280e+04</td>\n",
              "      <td>2000.0</td>\n",
              "      <td>3000.00</td>\n",
              "      <td>5500.0</td>\n",
              "      <td>18160.0</td>\n",
              "      <td>100000.0</td>\n",
              "    </tr>\n",
              "    <tr>\n",
              "      <th rowspan=\"4\" valign=\"top\">Acme Safety Shoes</th>\n",
              "      <th>Box</th>\n",
              "      <td>6.0</td>\n",
              "      <td>8.600000e+02</td>\n",
              "      <td>0.000000e+00</td>\n",
              "      <td>860.0</td>\n",
              "      <td>860.00</td>\n",
              "      <td>860.0</td>\n",
              "      <td>860.0</td>\n",
              "      <td>860.0</td>\n",
              "    </tr>\n",
              "    <tr>\n",
              "      <th>Pair</th>\n",
              "      <td>251.0</td>\n",
              "      <td>8.554622e+02</td>\n",
              "      <td>3.655668e+02</td>\n",
              "      <td>200.0</td>\n",
              "      <td>600.00</td>\n",
              "      <td>835.0</td>\n",
              "      <td>1020.0</td>\n",
              "      <td>1911.0</td>\n",
              "    </tr>\n",
              "    <tr>\n",
              "      <th>Piece</th>\n",
              "      <td>19.0</td>\n",
              "      <td>4.021053e+02</td>\n",
              "      <td>1.749009e+02</td>\n",
              "      <td>200.0</td>\n",
              "      <td>200.00</td>\n",
              "      <td>399.0</td>\n",
              "      <td>500.0</td>\n",
              "      <td>699.0</td>\n",
              "    </tr>\n",
              "    <tr>\n",
              "      <th>Unit</th>\n",
              "      <td>15.0</td>\n",
              "      <td>6.893333e+02</td>\n",
              "      <td>4.589844e+01</td>\n",
              "      <td>540.0</td>\n",
              "      <td>680.00</td>\n",
              "      <td>680.0</td>\n",
              "      <td>720.0</td>\n",
              "      <td>720.0</td>\n",
              "    </tr>\n",
              "    <tr>\n",
              "      <th rowspan=\"3\" valign=\"top\">Air Conditioner Voltage Stabilizer</th>\n",
              "      <th>Box</th>\n",
              "      <td>18.0</td>\n",
              "      <td>1.788889e+03</td>\n",
              "      <td>1.440747e+03</td>\n",
              "      <td>300.0</td>\n",
              "      <td>600.00</td>\n",
              "      <td>1900.0</td>\n",
              "      <td>1900.0</td>\n",
              "      <td>4150.0</td>\n",
              "    </tr>\n",
              "    <tr>\n",
              "      <th>Piece</th>\n",
              "      <td>87.0</td>\n",
              "      <td>5.944126e+03</td>\n",
              "      <td>1.410475e+04</td>\n",
              "      <td>120.0</td>\n",
              "      <td>1600.00</td>\n",
              "      <td>2500.0</td>\n",
              "      <td>3700.0</td>\n",
              "      <td>79000.0</td>\n",
              "    </tr>\n",
              "    <tr>\n",
              "      <th>Unit</th>\n",
              "      <td>37.0</td>\n",
              "      <td>4.181527e+03</td>\n",
              "      <td>2.239604e+03</td>\n",
              "      <td>1439.6</td>\n",
              "      <td>2600.00</td>\n",
              "      <td>3000.0</td>\n",
              "      <td>7000.0</td>\n",
              "      <td>7500.0</td>\n",
              "    </tr>\n",
              "    <tr>\n",
              "      <th rowspan=\"2\" valign=\"top\">Air Spray Gun</th>\n",
              "      <th>Piece</th>\n",
              "      <td>92.0</td>\n",
              "      <td>7.359261e+03</td>\n",
              "      <td>1.378605e+04</td>\n",
              "      <td>100.0</td>\n",
              "      <td>1000.00</td>\n",
              "      <td>2650.0</td>\n",
              "      <td>7300.0</td>\n",
              "      <td>74000.0</td>\n",
              "    </tr>\n",
              "    <tr>\n",
              "      <th>Unit</th>\n",
              "      <td>30.0</td>\n",
              "      <td>2.665333e+04</td>\n",
              "      <td>1.361871e+04</td>\n",
              "      <td>350.0</td>\n",
              "      <td>24000.00</td>\n",
              "      <td>33500.0</td>\n",
              "      <td>34000.0</td>\n",
              "      <td>36000.0</td>\n",
              "    </tr>\n",
              "    <tr>\n",
              "      <th rowspan=\"5\" valign=\"top\">Aluminium False Ceilings</th>\n",
              "      <th>Number</th>\n",
              "      <td>7.0</td>\n",
              "      <td>1.785714e+02</td>\n",
              "      <td>2.672612e+01</td>\n",
              "      <td>150.0</td>\n",
              "      <td>150.00</td>\n",
              "      <td>200.0</td>\n",
              "      <td>200.0</td>\n",
              "      <td>200.0</td>\n",
              "    </tr>\n",
              "    <tr>\n",
              "      <th>Piece</th>\n",
              "      <td>15.0</td>\n",
              "      <td>4.993333e+02</td>\n",
              "      <td>1.248556e+03</td>\n",
              "      <td>40.0</td>\n",
              "      <td>90.00</td>\n",
              "      <td>230.0</td>\n",
              "      <td>270.0</td>\n",
              "      <td>5000.0</td>\n",
              "    </tr>\n",
              "    <tr>\n",
              "      <th>Square Feet</th>\n",
              "      <td>103.0</td>\n",
              "      <td>1.127621e+02</td>\n",
              "      <td>7.335245e+01</td>\n",
              "      <td>8.5</td>\n",
              "      <td>65.00</td>\n",
              "      <td>90.0</td>\n",
              "      <td>180.0</td>\n",
              "      <td>300.0</td>\n",
              "    </tr>\n",
              "    <tr>\n",
              "      <th>Square Feet(s)</th>\n",
              "      <td>7.0</td>\n",
              "      <td>7.500000e+01</td>\n",
              "      <td>0.000000e+00</td>\n",
              "      <td>75.0</td>\n",
              "      <td>75.00</td>\n",
              "      <td>75.0</td>\n",
              "      <td>75.0</td>\n",
              "      <td>75.0</td>\n",
              "    </tr>\n",
              "    <tr>\n",
              "      <th>Square Meter</th>\n",
              "      <td>6.0</td>\n",
              "      <td>6.500000e+02</td>\n",
              "      <td>0.000000e+00</td>\n",
              "      <td>650.0</td>\n",
              "      <td>650.00</td>\n",
              "      <td>650.0</td>\n",
              "      <td>650.0</td>\n",
              "      <td>650.0</td>\n",
              "    </tr>\n",
              "    <tr>\n",
              "      <th rowspan=\"2\" valign=\"top\">Aluminium Melting Furnace</th>\n",
              "      <th>Piece</th>\n",
              "      <td>33.0</td>\n",
              "      <td>4.128788e+05</td>\n",
              "      <td>3.451767e+05</td>\n",
              "      <td>50000.0</td>\n",
              "      <td>180000.00</td>\n",
              "      <td>300000.0</td>\n",
              "      <td>500000.0</td>\n",
              "      <td>1150000.0</td>\n",
              "    </tr>\n",
              "    <tr>\n",
              "      <th>Unit</th>\n",
              "      <td>45.0</td>\n",
              "      <td>6.311111e+05</td>\n",
              "      <td>6.265063e+05</td>\n",
              "      <td>100000.0</td>\n",
              "      <td>100000.00</td>\n",
              "      <td>360000.0</td>\n",
              "      <td>1200000.0</td>\n",
              "      <td>2000000.0</td>\n",
              "    </tr>\n",
              "    <tr>\n",
              "      <th rowspan=\"2\" valign=\"top\">Aluminum Cables</th>\n",
              "      <th>Meter</th>\n",
              "      <td>166.0</td>\n",
              "      <td>1.518795e+02</td>\n",
              "      <td>2.572809e+02</td>\n",
              "      <td>0.5</td>\n",
              "      <td>19.25</td>\n",
              "      <td>45.0</td>\n",
              "      <td>128.0</td>\n",
              "      <td>1011.0</td>\n",
              "    </tr>\n",
              "    <tr>\n",
              "      <th>Roll</th>\n",
              "      <td>22.0</td>\n",
              "      <td>5.884091e+02</td>\n",
              "      <td>2.796996e+02</td>\n",
              "      <td>160.0</td>\n",
              "      <td>300.00</td>\n",
              "      <td>780.0</td>\n",
              "      <td>850.0</td>\n",
              "      <td>900.0</td>\n",
              "    </tr>\n",
              "    <tr>\n",
              "      <th rowspan=\"2\" valign=\"top\">Audio Amplifiers</th>\n",
              "      <th>Piece</th>\n",
              "      <td>224.0</td>\n",
              "      <td>1.922165e+04</td>\n",
              "      <td>2.123994e+04</td>\n",
              "      <td>40.0</td>\n",
              "      <td>3500.00</td>\n",
              "      <td>12409.0</td>\n",
              "      <td>26925.0</td>\n",
              "      <td>103000.0</td>\n",
              "    </tr>\n",
              "    <tr>\n",
              "      <th>Unit</th>\n",
              "      <td>7.0</td>\n",
              "      <td>3.087571e+04</td>\n",
              "      <td>1.599400e+04</td>\n",
              "      <td>130.0</td>\n",
              "      <td>24000.00</td>\n",
              "      <td>42000.0</td>\n",
              "      <td>42000.0</td>\n",
              "      <td>42000.0</td>\n",
              "    </tr>\n",
              "    <tr>\n",
              "      <th rowspan=\"7\" valign=\"top\">Backhoe Loader</th>\n",
              "      <th>Hour</th>\n",
              "      <td>7.0</td>\n",
              "      <td>9.000000e+02</td>\n",
              "      <td>0.000000e+00</td>\n",
              "      <td>900.0</td>\n",
              "      <td>900.00</td>\n",
              "      <td>900.0</td>\n",
              "      <td>900.0</td>\n",
              "      <td>900.0</td>\n",
              "    </tr>\n",
              "    <tr>\n",
              "      <th>No</th>\n",
              "      <td>7.0</td>\n",
              "      <td>1.000000e+05</td>\n",
              "      <td>0.000000e+00</td>\n",
              "      <td>100000.0</td>\n",
              "      <td>100000.00</td>\n",
              "      <td>100000.0</td>\n",
              "      <td>100000.0</td>\n",
              "      <td>100000.0</td>\n",
              "    </tr>\n",
              "    <tr>\n",
              "      <th>Number</th>\n",
              "      <td>18.0</td>\n",
              "      <td>2.456111e+06</td>\n",
              "      <td>3.276680e+05</td>\n",
              "      <td>1600000.0</td>\n",
              "      <td>2495000.00</td>\n",
              "      <td>2585000.0</td>\n",
              "      <td>2600000.0</td>\n",
              "      <td>2690000.0</td>\n",
              "    </tr>\n",
              "    <tr>\n",
              "      <th>Piece</th>\n",
              "      <td>76.0</td>\n",
              "      <td>1.317211e+06</td>\n",
              "      <td>8.058134e+05</td>\n",
              "      <td>22000.0</td>\n",
              "      <td>850000.00</td>\n",
              "      <td>1230000.0</td>\n",
              "      <td>2000000.0</td>\n",
              "      <td>2600000.0</td>\n",
              "    </tr>\n",
              "    <tr>\n",
              "      <th>Set</th>\n",
              "      <td>9.0</td>\n",
              "      <td>1.690000e+07</td>\n",
              "      <td>1.215000e+07</td>\n",
              "      <td>700000.0</td>\n",
              "      <td>700000.00</td>\n",
              "      <td>25000000.0</td>\n",
              "      <td>25000000.0</td>\n",
              "      <td>25000000.0</td>\n",
              "    </tr>\n",
              "    <tr>\n",
              "      <th>Unit</th>\n",
              "      <td>102.0</td>\n",
              "      <td>1.936524e+06</td>\n",
              "      <td>8.131400e+05</td>\n",
              "      <td>290000.0</td>\n",
              "      <td>885000.00</td>\n",
              "      <td>2285133.0</td>\n",
              "      <td>2550000.0</td>\n",
              "      <td>2795000.0</td>\n",
              "    </tr>\n",
              "    <tr>\n",
              "      <th>one</th>\n",
              "      <td>8.0</td>\n",
              "      <td>1.025000e+06</td>\n",
              "      <td>8.811518e+05</td>\n",
              "      <td>550000.0</td>\n",
              "      <td>550000.00</td>\n",
              "      <td>550000.0</td>\n",
              "      <td>1000000.0</td>\n",
              "      <td>2550000.0</td>\n",
              "    </tr>\n",
              "    <tr>\n",
              "      <th>...</th>\n",
              "      <th>...</th>\n",
              "      <td>...</td>\n",
              "      <td>...</td>\n",
              "      <td>...</td>\n",
              "      <td>...</td>\n",
              "      <td>...</td>\n",
              "      <td>...</td>\n",
              "      <td>...</td>\n",
              "      <td>...</td>\n",
              "    </tr>\n",
              "    <tr>\n",
              "      <th>Tube Filling Machine</th>\n",
              "      <th>Unit</th>\n",
              "      <td>42.0</td>\n",
              "      <td>5.703571e+05</td>\n",
              "      <td>2.668776e+05</td>\n",
              "      <td>275000.0</td>\n",
              "      <td>347500.00</td>\n",
              "      <td>490000.0</td>\n",
              "      <td>575000.0</td>\n",
              "      <td>1100000.0</td>\n",
              "    </tr>\n",
              "    <tr>\n",
              "      <th>Twisted Yarn</th>\n",
              "      <th>Kilogram</th>\n",
              "      <td>83.0</td>\n",
              "      <td>5.574819e+02</td>\n",
              "      <td>1.074810e+03</td>\n",
              "      <td>25.0</td>\n",
              "      <td>120.00</td>\n",
              "      <td>205.0</td>\n",
              "      <td>260.0</td>\n",
              "      <td>4000.0</td>\n",
              "    </tr>\n",
              "    <tr>\n",
              "      <th rowspan=\"4\" valign=\"top\">Vertical Form Fill Seal Machines</th>\n",
              "      <th>Number</th>\n",
              "      <td>7.0</td>\n",
              "      <td>1.200000e+06</td>\n",
              "      <td>0.000000e+00</td>\n",
              "      <td>1200000.0</td>\n",
              "      <td>1200000.00</td>\n",
              "      <td>1200000.0</td>\n",
              "      <td>1200000.0</td>\n",
              "      <td>1200000.0</td>\n",
              "    </tr>\n",
              "    <tr>\n",
              "      <th>Piece</th>\n",
              "      <td>31.0</td>\n",
              "      <td>1.326774e+05</td>\n",
              "      <td>7.472099e+04</td>\n",
              "      <td>90000.0</td>\n",
              "      <td>90000.00</td>\n",
              "      <td>98000.0</td>\n",
              "      <td>125000.0</td>\n",
              "      <td>360000.0</td>\n",
              "    </tr>\n",
              "    <tr>\n",
              "      <th>Set</th>\n",
              "      <td>7.0</td>\n",
              "      <td>1.907143e+06</td>\n",
              "      <td>1.200357e+06</td>\n",
              "      <td>150000.0</td>\n",
              "      <td>1380000.00</td>\n",
              "      <td>2610000.0</td>\n",
              "      <td>2610000.0</td>\n",
              "      <td>2610000.0</td>\n",
              "    </tr>\n",
              "    <tr>\n",
              "      <th>Unit</th>\n",
              "      <td>21.0</td>\n",
              "      <td>2.748095e+05</td>\n",
              "      <td>1.324797e+05</td>\n",
              "      <td>3000.0</td>\n",
              "      <td>165000.00</td>\n",
              "      <td>325000.0</td>\n",
              "      <td>360000.0</td>\n",
              "      <td>400000.0</td>\n",
              "    </tr>\n",
              "    <tr>\n",
              "      <th rowspan=\"4\" valign=\"top\">Water Demineralization Plant</th>\n",
              "      <th>Number</th>\n",
              "      <td>9.0</td>\n",
              "      <td>1.388889e+05</td>\n",
              "      <td>6.009252e+04</td>\n",
              "      <td>50000.0</td>\n",
              "      <td>150000.00</td>\n",
              "      <td>150000.0</td>\n",
              "      <td>150000.0</td>\n",
              "      <td>250000.0</td>\n",
              "    </tr>\n",
              "    <tr>\n",
              "      <th>Piece</th>\n",
              "      <td>30.0</td>\n",
              "      <td>2.681667e+05</td>\n",
              "      <td>2.005058e+05</td>\n",
              "      <td>10000.0</td>\n",
              "      <td>125000.00</td>\n",
              "      <td>160000.0</td>\n",
              "      <td>500000.0</td>\n",
              "      <td>750000.0</td>\n",
              "    </tr>\n",
              "    <tr>\n",
              "      <th>Set</th>\n",
              "      <td>9.0</td>\n",
              "      <td>2.722222e+05</td>\n",
              "      <td>2.463624e+05</td>\n",
              "      <td>100000.0</td>\n",
              "      <td>100000.00</td>\n",
              "      <td>100000.0</td>\n",
              "      <td>600000.0</td>\n",
              "      <td>600000.0</td>\n",
              "    </tr>\n",
              "    <tr>\n",
              "      <th>Unit</th>\n",
              "      <td>96.0</td>\n",
              "      <td>1.175729e+05</td>\n",
              "      <td>9.724167e+04</td>\n",
              "      <td>5000.0</td>\n",
              "      <td>50000.00</td>\n",
              "      <td>100000.0</td>\n",
              "      <td>150000.0</td>\n",
              "      <td>572000.0</td>\n",
              "    </tr>\n",
              "    <tr>\n",
              "      <th rowspan=\"5\" valign=\"top\">Water Packaging Machine</th>\n",
              "      <th>Pair</th>\n",
              "      <td>12.0</td>\n",
              "      <td>3.300000e+05</td>\n",
              "      <td>2.297825e+05</td>\n",
              "      <td>110000.0</td>\n",
              "      <td>110000.00</td>\n",
              "      <td>330000.0</td>\n",
              "      <td>550000.0</td>\n",
              "      <td>550000.0</td>\n",
              "    </tr>\n",
              "    <tr>\n",
              "      <th>Piece</th>\n",
              "      <td>92.0</td>\n",
              "      <td>3.405435e+05</td>\n",
              "      <td>4.196718e+05</td>\n",
              "      <td>105000.0</td>\n",
              "      <td>135000.00</td>\n",
              "      <td>200000.0</td>\n",
              "      <td>230000.0</td>\n",
              "      <td>1500000.0</td>\n",
              "    </tr>\n",
              "    <tr>\n",
              "      <th>Set</th>\n",
              "      <td>12.0</td>\n",
              "      <td>1.500000e+06</td>\n",
              "      <td>0.000000e+00</td>\n",
              "      <td>1500000.0</td>\n",
              "      <td>1500000.00</td>\n",
              "      <td>1500000.0</td>\n",
              "      <td>1500000.0</td>\n",
              "      <td>1500000.0</td>\n",
              "    </tr>\n",
              "    <tr>\n",
              "      <th>Unit</th>\n",
              "      <td>58.0</td>\n",
              "      <td>3.668966e+05</td>\n",
              "      <td>4.259961e+05</td>\n",
              "      <td>100000.0</td>\n",
              "      <td>120000.00</td>\n",
              "      <td>155000.0</td>\n",
              "      <td>155000.0</td>\n",
              "      <td>1250000.0</td>\n",
              "    </tr>\n",
              "    <tr>\n",
              "      <th>nos</th>\n",
              "      <td>8.0</td>\n",
              "      <td>4.000000e+04</td>\n",
              "      <td>0.000000e+00</td>\n",
              "      <td>40000.0</td>\n",
              "      <td>40000.00</td>\n",
              "      <td>40000.0</td>\n",
              "      <td>40000.0</td>\n",
              "      <td>40000.0</td>\n",
              "    </tr>\n",
              "    <tr>\n",
              "      <th rowspan=\"3\" valign=\"top\">Wheel Loader</th>\n",
              "      <th>No</th>\n",
              "      <td>6.0</td>\n",
              "      <td>1.600000e+06</td>\n",
              "      <td>0.000000e+00</td>\n",
              "      <td>1600000.0</td>\n",
              "      <td>1600000.00</td>\n",
              "      <td>1600000.0</td>\n",
              "      <td>1600000.0</td>\n",
              "      <td>1600000.0</td>\n",
              "    </tr>\n",
              "    <tr>\n",
              "      <th>Piece</th>\n",
              "      <td>53.0</td>\n",
              "      <td>2.037126e+06</td>\n",
              "      <td>1.661693e+06</td>\n",
              "      <td>10.0</td>\n",
              "      <td>210000.00</td>\n",
              "      <td>2500000.0</td>\n",
              "      <td>3500000.0</td>\n",
              "      <td>5900000.0</td>\n",
              "    </tr>\n",
              "    <tr>\n",
              "      <th>Unit</th>\n",
              "      <td>50.0</td>\n",
              "      <td>3.415713e+06</td>\n",
              "      <td>2.336573e+06</td>\n",
              "      <td>515000.0</td>\n",
              "      <td>1937500.00</td>\n",
              "      <td>3150000.0</td>\n",
              "      <td>3600000.0</td>\n",
              "      <td>15000000.0</td>\n",
              "    </tr>\n",
              "    <tr>\n",
              "      <th rowspan=\"4\" valign=\"top\">Wire Drawing Machines</th>\n",
              "      <th>1 Unit</th>\n",
              "      <td>6.0</td>\n",
              "      <td>5.866667e+05</td>\n",
              "      <td>6.713171e+04</td>\n",
              "      <td>500000.0</td>\n",
              "      <td>532500.00</td>\n",
              "      <td>630000.0</td>\n",
              "      <td>630000.0</td>\n",
              "      <td>630000.0</td>\n",
              "    </tr>\n",
              "    <tr>\n",
              "      <th>Piece</th>\n",
              "      <td>59.0</td>\n",
              "      <td>3.476407e+05</td>\n",
              "      <td>2.354505e+05</td>\n",
              "      <td>5800.0</td>\n",
              "      <td>200000.00</td>\n",
              "      <td>325000.0</td>\n",
              "      <td>450000.0</td>\n",
              "      <td>1000000.0</td>\n",
              "    </tr>\n",
              "    <tr>\n",
              "      <th>Set</th>\n",
              "      <td>8.0</td>\n",
              "      <td>1.794625e+06</td>\n",
              "      <td>1.845498e+06</td>\n",
              "      <td>250000.0</td>\n",
              "      <td>300000.00</td>\n",
              "      <td>770000.0</td>\n",
              "      <td>3989000.0</td>\n",
              "      <td>3989000.0</td>\n",
              "    </tr>\n",
              "    <tr>\n",
              "      <th>Unit</th>\n",
              "      <td>85.0</td>\n",
              "      <td>1.039041e+06</td>\n",
              "      <td>1.363790e+06</td>\n",
              "      <td>20000.0</td>\n",
              "      <td>90000.00</td>\n",
              "      <td>500000.0</td>\n",
              "      <td>2000000.0</td>\n",
              "      <td>6500000.0</td>\n",
              "    </tr>\n",
              "    <tr>\n",
              "      <th rowspan=\"3\" valign=\"top\">Womens Capri</th>\n",
              "      <th>Piece</th>\n",
              "      <td>244.0</td>\n",
              "      <td>3.964631e+02</td>\n",
              "      <td>4.572227e+02</td>\n",
              "      <td>60.0</td>\n",
              "      <td>190.00</td>\n",
              "      <td>220.0</td>\n",
              "      <td>300.0</td>\n",
              "      <td>1799.0</td>\n",
              "    </tr>\n",
              "    <tr>\n",
              "      <th>Set</th>\n",
              "      <td>14.0</td>\n",
              "      <td>3.142857e+02</td>\n",
              "      <td>2.578440e+01</td>\n",
              "      <td>275.0</td>\n",
              "      <td>288.75</td>\n",
              "      <td>330.0</td>\n",
              "      <td>330.0</td>\n",
              "      <td>330.0</td>\n",
              "    </tr>\n",
              "    <tr>\n",
              "      <th>Unit</th>\n",
              "      <td>10.0</td>\n",
              "      <td>3.345000e+02</td>\n",
              "      <td>1.618204e+02</td>\n",
              "      <td>100.0</td>\n",
              "      <td>183.75</td>\n",
              "      <td>435.0</td>\n",
              "      <td>435.0</td>\n",
              "      <td>435.0</td>\n",
              "    </tr>\n",
              "    <tr>\n",
              "      <th rowspan=\"5\" valign=\"top\">Wooden Crates</th>\n",
              "      <th>Cubic Feet</th>\n",
              "      <td>58.0</td>\n",
              "      <td>4.612931e+02</td>\n",
              "      <td>1.377372e+02</td>\n",
              "      <td>280.0</td>\n",
              "      <td>330.00</td>\n",
              "      <td>500.0</td>\n",
              "      <td>500.0</td>\n",
              "      <td>1000.0</td>\n",
              "    </tr>\n",
              "    <tr>\n",
              "      <th>Kilogram</th>\n",
              "      <td>6.0</td>\n",
              "      <td>7.500000e+01</td>\n",
              "      <td>2.738613e+01</td>\n",
              "      <td>50.0</td>\n",
              "      <td>50.00</td>\n",
              "      <td>75.0</td>\n",
              "      <td>100.0</td>\n",
              "      <td>100.0</td>\n",
              "    </tr>\n",
              "    <tr>\n",
              "      <th>Number</th>\n",
              "      <td>6.0</td>\n",
              "      <td>3.850000e+02</td>\n",
              "      <td>0.000000e+00</td>\n",
              "      <td>385.0</td>\n",
              "      <td>385.00</td>\n",
              "      <td>385.0</td>\n",
              "      <td>385.0</td>\n",
              "      <td>385.0</td>\n",
              "    </tr>\n",
              "    <tr>\n",
              "      <th>Piece</th>\n",
              "      <td>58.0</td>\n",
              "      <td>1.404690e+03</td>\n",
              "      <td>2.382200e+03</td>\n",
              "      <td>200.0</td>\n",
              "      <td>425.00</td>\n",
              "      <td>700.0</td>\n",
              "      <td>750.0</td>\n",
              "      <td>10500.0</td>\n",
              "    </tr>\n",
              "    <tr>\n",
              "      <th>Square Feet</th>\n",
              "      <td>11.0</td>\n",
              "      <td>1.790909e+02</td>\n",
              "      <td>1.895233e+02</td>\n",
              "      <td>35.0</td>\n",
              "      <td>35.00</td>\n",
              "      <td>70.0</td>\n",
              "      <td>320.0</td>\n",
              "      <td>600.0</td>\n",
              "    </tr>\n",
              "  </tbody>\n",
              "</table>\n",
              "<p>395 rows × 8 columns</p>\n",
              "</div>"
            ],
            "text/plain": [
              "                                                  Prices  ...            \n",
              "                                                   count  ...         max\n",
              "MCAT                               Unit                   ...            \n",
              "AC Motors                          Number           10.0  ...     25000.0\n",
              "                                   Piece           113.0  ...    100000.0\n",
              "                                   Unit             40.0  ...    100000.0\n",
              "Acme Safety Shoes                  Box               6.0  ...       860.0\n",
              "                                   Pair            251.0  ...      1911.0\n",
              "                                   Piece            19.0  ...       699.0\n",
              "                                   Unit             15.0  ...       720.0\n",
              "Air Conditioner Voltage Stabilizer Box              18.0  ...      4150.0\n",
              "                                   Piece            87.0  ...     79000.0\n",
              "                                   Unit             37.0  ...      7500.0\n",
              "Air Spray Gun                      Piece            92.0  ...     74000.0\n",
              "                                   Unit             30.0  ...     36000.0\n",
              "Aluminium False Ceilings           Number            7.0  ...       200.0\n",
              "                                   Piece            15.0  ...      5000.0\n",
              "                                   Square Feet     103.0  ...       300.0\n",
              "                                   Square Feet(s)    7.0  ...        75.0\n",
              "                                   Square Meter      6.0  ...       650.0\n",
              "Aluminium Melting Furnace          Piece            33.0  ...   1150000.0\n",
              "                                   Unit             45.0  ...   2000000.0\n",
              "Aluminum Cables                    Meter           166.0  ...      1011.0\n",
              "                                   Roll             22.0  ...       900.0\n",
              "Audio Amplifiers                   Piece           224.0  ...    103000.0\n",
              "                                   Unit              7.0  ...     42000.0\n",
              "Backhoe Loader                     Hour              7.0  ...       900.0\n",
              "                                   No                7.0  ...    100000.0\n",
              "                                   Number           18.0  ...   2690000.0\n",
              "                                   Piece            76.0  ...   2600000.0\n",
              "                                   Set               9.0  ...  25000000.0\n",
              "                                   Unit            102.0  ...   2795000.0\n",
              "                                   one               8.0  ...   2550000.0\n",
              "...                                                  ...  ...         ...\n",
              "Tube Filling Machine               Unit             42.0  ...   1100000.0\n",
              "Twisted Yarn                       Kilogram         83.0  ...      4000.0\n",
              "Vertical Form Fill Seal Machines   Number            7.0  ...   1200000.0\n",
              "                                   Piece            31.0  ...    360000.0\n",
              "                                   Set               7.0  ...   2610000.0\n",
              "                                   Unit             21.0  ...    400000.0\n",
              "Water Demineralization Plant       Number            9.0  ...    250000.0\n",
              "                                   Piece            30.0  ...    750000.0\n",
              "                                   Set               9.0  ...    600000.0\n",
              "                                   Unit             96.0  ...    572000.0\n",
              "Water Packaging Machine            Pair             12.0  ...    550000.0\n",
              "                                   Piece            92.0  ...   1500000.0\n",
              "                                   Set              12.0  ...   1500000.0\n",
              "                                   Unit             58.0  ...   1250000.0\n",
              "                                   nos               8.0  ...     40000.0\n",
              "Wheel Loader                       No                6.0  ...   1600000.0\n",
              "                                   Piece            53.0  ...   5900000.0\n",
              "                                   Unit             50.0  ...  15000000.0\n",
              "Wire Drawing Machines              1 Unit            6.0  ...    630000.0\n",
              "                                   Piece            59.0  ...   1000000.0\n",
              "                                   Set               8.0  ...   3989000.0\n",
              "                                   Unit             85.0  ...   6500000.0\n",
              "Womens Capri                       Piece           244.0  ...      1799.0\n",
              "                                   Set              14.0  ...       330.0\n",
              "                                   Unit             10.0  ...       435.0\n",
              "Wooden Crates                      Cubic Feet       58.0  ...      1000.0\n",
              "                                   Kilogram          6.0  ...       100.0\n",
              "                                   Number            6.0  ...       385.0\n",
              "                                   Piece            58.0  ...     10500.0\n",
              "                                   Square Feet      11.0  ...       600.0\n",
              "\n",
              "[395 rows x 8 columns]"
            ]
          },
          "metadata": {
            "tags": []
          },
          "execution_count": 395
        }
      ]
    },
    {
      "cell_type": "code",
      "metadata": {
        "id": "VFlMrhUAYzyI",
        "colab_type": "code",
        "colab": {
          "base_uri": "https://localhost:8080/",
          "height": 1000
        },
        "outputId": "3d6e2c58-8ec4-4420-bbb9-c71a495f3aa5"
      },
      "source": [
        "data2.describe()"
      ],
      "execution_count": 396,
      "outputs": [
        {
          "output_type": "execute_result",
          "data": {
            "text/html": [
              "<div>\n",
              "<style scoped>\n",
              "    .dataframe tbody tr th:only-of-type {\n",
              "        vertical-align: middle;\n",
              "    }\n",
              "\n",
              "    .dataframe tbody tr th {\n",
              "        vertical-align: top;\n",
              "    }\n",
              "\n",
              "    .dataframe thead tr th {\n",
              "        text-align: left;\n",
              "    }\n",
              "\n",
              "    .dataframe thead tr:last-of-type th {\n",
              "        text-align: right;\n",
              "    }\n",
              "</style>\n",
              "<table border=\"1\" class=\"dataframe\">\n",
              "  <thead>\n",
              "    <tr>\n",
              "      <th></th>\n",
              "      <th></th>\n",
              "      <th></th>\n",
              "      <th></th>\n",
              "      <th colspan=\"8\" halign=\"left\">Prices</th>\n",
              "    </tr>\n",
              "    <tr>\n",
              "      <th></th>\n",
              "      <th></th>\n",
              "      <th></th>\n",
              "      <th></th>\n",
              "      <th>count</th>\n",
              "      <th>mean</th>\n",
              "      <th>std</th>\n",
              "      <th>min</th>\n",
              "      <th>25%</th>\n",
              "      <th>50%</th>\n",
              "      <th>75%</th>\n",
              "      <th>max</th>\n",
              "    </tr>\n",
              "    <tr>\n",
              "      <th>MCAT</th>\n",
              "      <th>Unit</th>\n",
              "      <th>ISQ</th>\n",
              "      <th>ISQ Options</th>\n",
              "      <th></th>\n",
              "      <th></th>\n",
              "      <th></th>\n",
              "      <th></th>\n",
              "      <th></th>\n",
              "      <th></th>\n",
              "      <th></th>\n",
              "      <th></th>\n",
              "    </tr>\n",
              "  </thead>\n",
              "  <tbody>\n",
              "    <tr>\n",
              "      <th rowspan=\"2\" valign=\"top\">AC Motors</th>\n",
              "      <th>Piece</th>\n",
              "      <th>No of Phase</th>\n",
              "      <th>Three Phase</th>\n",
              "      <td>12.0</td>\n",
              "      <td>1.460833e+04</td>\n",
              "      <td>2.889239e+04</td>\n",
              "      <td>2000.0</td>\n",
              "      <td>2500.00</td>\n",
              "      <td>3900.0</td>\n",
              "      <td>5375.00</td>\n",
              "      <td>100000.0</td>\n",
              "    </tr>\n",
              "    <tr>\n",
              "      <th>Unit</th>\n",
              "      <th>No of Phase</th>\n",
              "      <th>Three Phase</th>\n",
              "      <td>6.0</td>\n",
              "      <td>8.975000e+03</td>\n",
              "      <td>8.600218e+03</td>\n",
              "      <td>2000.0</td>\n",
              "      <td>3137.50</td>\n",
              "      <td>4500.0</td>\n",
              "      <td>16250.00</td>\n",
              "      <td>20000.0</td>\n",
              "    </tr>\n",
              "    <tr>\n",
              "      <th rowspan=\"11\" valign=\"top\">Acme Safety Shoes</th>\n",
              "      <th rowspan=\"10\" valign=\"top\">Pair</th>\n",
              "      <th>Brand</th>\n",
              "      <th>Acme</th>\n",
              "      <td>18.0</td>\n",
              "      <td>9.332778e+02</td>\n",
              "      <td>3.413052e+02</td>\n",
              "      <td>349.0</td>\n",
              "      <td>712.50</td>\n",
              "      <td>900.0</td>\n",
              "      <td>1050.00</td>\n",
              "      <td>1850.0</td>\n",
              "    </tr>\n",
              "    <tr>\n",
              "      <th rowspan=\"2\" valign=\"top\">Certification</th>\n",
              "      <th>CE</th>\n",
              "      <td>6.0</td>\n",
              "      <td>8.756667e+02</td>\n",
              "      <td>2.832572e+02</td>\n",
              "      <td>349.0</td>\n",
              "      <td>838.75</td>\n",
              "      <td>935.0</td>\n",
              "      <td>1080.00</td>\n",
              "      <td>1100.0</td>\n",
              "    </tr>\n",
              "    <tr>\n",
              "      <th>ISI</th>\n",
              "      <td>6.0</td>\n",
              "      <td>9.306667e+02</td>\n",
              "      <td>4.701241e+02</td>\n",
              "      <td>575.0</td>\n",
              "      <td>662.50</td>\n",
              "      <td>799.5</td>\n",
              "      <td>907.25</td>\n",
              "      <td>1850.0</td>\n",
              "    </tr>\n",
              "    <tr>\n",
              "      <th>Color</th>\n",
              "      <th>Black</th>\n",
              "      <td>37.0</td>\n",
              "      <td>6.570270e+02</td>\n",
              "      <td>3.291708e+02</td>\n",
              "      <td>200.0</td>\n",
              "      <td>410.00</td>\n",
              "      <td>650.0</td>\n",
              "      <td>750.00</td>\n",
              "      <td>1650.0</td>\n",
              "    </tr>\n",
              "    <tr>\n",
              "      <th>Length</th>\n",
              "      <th>Low ankle</th>\n",
              "      <td>16.0</td>\n",
              "      <td>8.909375e+02</td>\n",
              "      <td>3.956668e+02</td>\n",
              "      <td>349.0</td>\n",
              "      <td>632.50</td>\n",
              "      <td>912.5</td>\n",
              "      <td>970.00</td>\n",
              "      <td>1911.0</td>\n",
              "    </tr>\n",
              "    <tr>\n",
              "      <th>Material</th>\n",
              "      <th>Leather</th>\n",
              "      <td>20.0</td>\n",
              "      <td>8.663000e+02</td>\n",
              "      <td>3.063265e+02</td>\n",
              "      <td>475.0</td>\n",
              "      <td>687.50</td>\n",
              "      <td>880.0</td>\n",
              "      <td>962.50</td>\n",
              "      <td>1911.0</td>\n",
              "    </tr>\n",
              "    <tr>\n",
              "      <th rowspan=\"2\" valign=\"top\">Size</th>\n",
              "      <th>7</th>\n",
              "      <td>7.0</td>\n",
              "      <td>9.501429e+02</td>\n",
              "      <td>4.809489e+02</td>\n",
              "      <td>475.0</td>\n",
              "      <td>667.50</td>\n",
              "      <td>950.0</td>\n",
              "      <td>990.00</td>\n",
              "      <td>1911.0</td>\n",
              "    </tr>\n",
              "    <tr>\n",
              "      <th>All Sizes</th>\n",
              "      <td>15.0</td>\n",
              "      <td>8.962667e+02</td>\n",
              "      <td>3.910121e+02</td>\n",
              "      <td>349.0</td>\n",
              "      <td>650.00</td>\n",
              "      <td>835.0</td>\n",
              "      <td>1050.00</td>\n",
              "      <td>1850.0</td>\n",
              "    </tr>\n",
              "    <tr>\n",
              "      <th>Sole</th>\n",
              "      <th>PU</th>\n",
              "      <td>20.0</td>\n",
              "      <td>9.463000e+02</td>\n",
              "      <td>3.220144e+02</td>\n",
              "      <td>400.0</td>\n",
              "      <td>747.50</td>\n",
              "      <td>955.0</td>\n",
              "      <td>1027.50</td>\n",
              "      <td>1911.0</td>\n",
              "    </tr>\n",
              "    <tr>\n",
              "      <th>Sole Type</th>\n",
              "      <th>PU</th>\n",
              "      <td>9.0</td>\n",
              "      <td>7.955556e+02</td>\n",
              "      <td>1.965872e+02</td>\n",
              "      <td>575.0</td>\n",
              "      <td>650.00</td>\n",
              "      <td>750.0</td>\n",
              "      <td>850.00</td>\n",
              "      <td>1100.0</td>\n",
              "    </tr>\n",
              "    <tr>\n",
              "      <th>Piece</th>\n",
              "      <th>Color</th>\n",
              "      <th>Black, Brown</th>\n",
              "      <td>6.0</td>\n",
              "      <td>2.000000e+02</td>\n",
              "      <td>0.000000e+00</td>\n",
              "      <td>200.0</td>\n",
              "      <td>200.00</td>\n",
              "      <td>200.0</td>\n",
              "      <td>200.00</td>\n",
              "      <td>200.0</td>\n",
              "    </tr>\n",
              "    <tr>\n",
              "      <th rowspan=\"2\" valign=\"top\">Air Conditioner Voltage Stabilizer</th>\n",
              "      <th rowspan=\"2\" valign=\"top\">Piece</th>\n",
              "      <th rowspan=\"2\" valign=\"top\">Power</th>\n",
              "      <th>4KVA</th>\n",
              "      <td>11.0</td>\n",
              "      <td>1.652727e+03</td>\n",
              "      <td>1.023221e+03</td>\n",
              "      <td>330.0</td>\n",
              "      <td>1075.00</td>\n",
              "      <td>1300.0</td>\n",
              "      <td>1875.00</td>\n",
              "      <td>3500.0</td>\n",
              "    </tr>\n",
              "    <tr>\n",
              "      <th>5KVA</th>\n",
              "      <td>9.0</td>\n",
              "      <td>2.400000e+03</td>\n",
              "      <td>9.912114e+02</td>\n",
              "      <td>1250.0</td>\n",
              "      <td>1550.00</td>\n",
              "      <td>2400.0</td>\n",
              "      <td>2800.00</td>\n",
              "      <td>4000.0</td>\n",
              "    </tr>\n",
              "    <tr>\n",
              "      <th rowspan=\"2\" valign=\"top\">Aluminium False Ceilings</th>\n",
              "      <th rowspan=\"2\" valign=\"top\">Square Feet</th>\n",
              "      <th>Color</th>\n",
              "      <th>White</th>\n",
              "      <td>11.0</td>\n",
              "      <td>1.023182e+02</td>\n",
              "      <td>8.406672e+01</td>\n",
              "      <td>8.5</td>\n",
              "      <td>60.00</td>\n",
              "      <td>75.0</td>\n",
              "      <td>100.00</td>\n",
              "      <td>300.0</td>\n",
              "    </tr>\n",
              "    <tr>\n",
              "      <th>Material</th>\n",
              "      <th>Aluminum</th>\n",
              "      <td>18.0</td>\n",
              "      <td>1.043056e+02</td>\n",
              "      <td>6.548532e+01</td>\n",
              "      <td>8.5</td>\n",
              "      <td>66.25</td>\n",
              "      <td>75.0</td>\n",
              "      <td>113.75</td>\n",
              "      <td>250.0</td>\n",
              "    </tr>\n",
              "    <tr>\n",
              "      <th rowspan=\"4\" valign=\"top\">Aluminium Melting Furnace</th>\n",
              "      <th rowspan=\"2\" valign=\"top\">Piece</th>\n",
              "      <th>Melting Material</th>\n",
              "      <th>Aluminium</th>\n",
              "      <td>9.0</td>\n",
              "      <td>4.533333e+05</td>\n",
              "      <td>3.765053e+05</td>\n",
              "      <td>50000.0</td>\n",
              "      <td>200000.00</td>\n",
              "      <td>325000.0</td>\n",
              "      <td>500000.00</td>\n",
              "      <td>1150000.0</td>\n",
              "    </tr>\n",
              "    <tr>\n",
              "      <th>Power Source</th>\n",
              "      <th>Electric</th>\n",
              "      <td>6.0</td>\n",
              "      <td>2.991667e+05</td>\n",
              "      <td>2.159263e+05</td>\n",
              "      <td>50000.0</td>\n",
              "      <td>150000.00</td>\n",
              "      <td>252500.0</td>\n",
              "      <td>456250.00</td>\n",
              "      <td>600000.0</td>\n",
              "    </tr>\n",
              "    <tr>\n",
              "      <th rowspan=\"2\" valign=\"top\">Unit</th>\n",
              "      <th>Melting Material</th>\n",
              "      <th>Aluminium</th>\n",
              "      <td>9.0</td>\n",
              "      <td>1.090000e+06</td>\n",
              "      <td>7.017122e+05</td>\n",
              "      <td>250000.0</td>\n",
              "      <td>500000.00</td>\n",
              "      <td>1200000.0</td>\n",
              "      <td>1500000.00</td>\n",
              "      <td>2000000.0</td>\n",
              "    </tr>\n",
              "    <tr>\n",
              "      <th>Power Source</th>\n",
              "      <th>Electric</th>\n",
              "      <td>10.0</td>\n",
              "      <td>9.670000e+05</td>\n",
              "      <td>7.534226e+05</td>\n",
              "      <td>100000.0</td>\n",
              "      <td>285000.00</td>\n",
              "      <td>850000.0</td>\n",
              "      <td>1500000.00</td>\n",
              "      <td>2000000.0</td>\n",
              "    </tr>\n",
              "    <tr>\n",
              "      <th rowspan=\"3\" valign=\"top\">Aluminum Cables</th>\n",
              "      <th rowspan=\"3\" valign=\"top\">Meter</th>\n",
              "      <th>Conductor Type</th>\n",
              "      <th>Solid</th>\n",
              "      <td>7.0</td>\n",
              "      <td>1.957143e+01</td>\n",
              "      <td>1.576766e+01</td>\n",
              "      <td>6.0</td>\n",
              "      <td>10.50</td>\n",
              "      <td>14.0</td>\n",
              "      <td>23.00</td>\n",
              "      <td>50.0</td>\n",
              "    </tr>\n",
              "    <tr>\n",
              "      <th>Is It Armoured</th>\n",
              "      <th>Armoured</th>\n",
              "      <td>11.0</td>\n",
              "      <td>1.813636e+02</td>\n",
              "      <td>2.850703e+02</td>\n",
              "      <td>14.0</td>\n",
              "      <td>42.50</td>\n",
              "      <td>84.0</td>\n",
              "      <td>164.00</td>\n",
              "      <td>1011.0</td>\n",
              "    </tr>\n",
              "    <tr>\n",
              "      <th>Power/Voltage</th>\n",
              "      <th>230 Volt</th>\n",
              "      <td>11.0</td>\n",
              "      <td>3.377273e+01</td>\n",
              "      <td>2.399517e+01</td>\n",
              "      <td>7.5</td>\n",
              "      <td>18.00</td>\n",
              "      <td>20.0</td>\n",
              "      <td>48.50</td>\n",
              "      <td>85.0</td>\n",
              "    </tr>\n",
              "    <tr>\n",
              "      <th rowspan=\"4\" valign=\"top\">Audio Amplifiers</th>\n",
              "      <th rowspan=\"4\" valign=\"top\">Piece</th>\n",
              "      <th rowspan=\"3\" valign=\"top\">Brand</th>\n",
              "      <th>APART AUDIO</th>\n",
              "      <td>6.0</td>\n",
              "      <td>4.474500e+04</td>\n",
              "      <td>1.107007e+04</td>\n",
              "      <td>27100.0</td>\n",
              "      <td>39522.50</td>\n",
              "      <td>47990.0</td>\n",
              "      <td>49790.00</td>\n",
              "      <td>58300.0</td>\n",
              "    </tr>\n",
              "    <tr>\n",
              "      <th>BOSCH</th>\n",
              "      <td>9.0</td>\n",
              "      <td>2.030267e+04</td>\n",
              "      <td>7.570803e+03</td>\n",
              "      <td>12369.0</td>\n",
              "      <td>14801.00</td>\n",
              "      <td>18499.0</td>\n",
              "      <td>25383.00</td>\n",
              "      <td>31746.0</td>\n",
              "    </tr>\n",
              "    <tr>\n",
              "      <th>RBM</th>\n",
              "      <td>6.0</td>\n",
              "      <td>5.100000e+03</td>\n",
              "      <td>3.801579e+03</td>\n",
              "      <td>1900.0</td>\n",
              "      <td>3050.00</td>\n",
              "      <td>3550.0</td>\n",
              "      <td>5775.00</td>\n",
              "      <td>12200.0</td>\n",
              "    </tr>\n",
              "    <tr>\n",
              "      <th>Channel</th>\n",
              "      <th>2</th>\n",
              "      <td>6.0</td>\n",
              "      <td>1.568167e+04</td>\n",
              "      <td>1.707686e+04</td>\n",
              "      <td>40.0</td>\n",
              "      <td>2237.50</td>\n",
              "      <td>11250.0</td>\n",
              "      <td>24800.00</td>\n",
              "      <td>43000.0</td>\n",
              "    </tr>\n",
              "    <tr>\n",
              "      <th>Backhoe Loader</th>\n",
              "      <th>Unit</th>\n",
              "      <th>Condition</th>\n",
              "      <th>Brand New</th>\n",
              "      <td>13.0</td>\n",
              "      <td>2.062318e+06</td>\n",
              "      <td>7.373172e+05</td>\n",
              "      <td>760000.0</td>\n",
              "      <td>2250000.00</td>\n",
              "      <td>2285133.0</td>\n",
              "      <td>2550000.00</td>\n",
              "      <td>2750000.0</td>\n",
              "    </tr>\n",
              "    <tr>\n",
              "      <th>Bag Filling Machine</th>\n",
              "      <th>Unit</th>\n",
              "      <th>Brand</th>\n",
              "      <th>Kvson</th>\n",
              "      <td>10.0</td>\n",
              "      <td>3.475000e+05</td>\n",
              "      <td>2.486072e+04</td>\n",
              "      <td>300000.0</td>\n",
              "      <td>331250.00</td>\n",
              "      <td>350000.0</td>\n",
              "      <td>368750.00</td>\n",
              "      <td>375000.0</td>\n",
              "    </tr>\n",
              "    <tr>\n",
              "      <th>...</th>\n",
              "      <th>...</th>\n",
              "      <th>...</th>\n",
              "      <th>...</th>\n",
              "      <td>...</td>\n",
              "      <td>...</td>\n",
              "      <td>...</td>\n",
              "      <td>...</td>\n",
              "      <td>...</td>\n",
              "      <td>...</td>\n",
              "      <td>...</td>\n",
              "      <td>...</td>\n",
              "    </tr>\n",
              "    <tr>\n",
              "      <th rowspan=\"4\" valign=\"top\">Tractor Front End Loader</th>\n",
              "      <th>Piece</th>\n",
              "      <th>Condition</th>\n",
              "      <th>Brand New</th>\n",
              "      <td>6.0</td>\n",
              "      <td>1.791667e+05</td>\n",
              "      <td>2.905455e+04</td>\n",
              "      <td>150000.0</td>\n",
              "      <td>167500.00</td>\n",
              "      <td>175000.0</td>\n",
              "      <td>175000.00</td>\n",
              "      <td>235000.0</td>\n",
              "    </tr>\n",
              "    <tr>\n",
              "      <th rowspan=\"3\" valign=\"top\">Unit</th>\n",
              "      <th>Condition</th>\n",
              "      <th>Brand New</th>\n",
              "      <td>7.0</td>\n",
              "      <td>3.412857e+05</td>\n",
              "      <td>3.228285e+05</td>\n",
              "      <td>190000.0</td>\n",
              "      <td>197500.00</td>\n",
              "      <td>205000.0</td>\n",
              "      <td>267000.00</td>\n",
              "      <td>1065000.0</td>\n",
              "    </tr>\n",
              "    <tr>\n",
              "      <th rowspan=\"2\" valign=\"top\">Material</th>\n",
              "      <th>MS</th>\n",
              "      <td>6.0</td>\n",
              "      <td>1.841667e+05</td>\n",
              "      <td>5.370444e+04</td>\n",
              "      <td>135000.0</td>\n",
              "      <td>170000.00</td>\n",
              "      <td>170000.0</td>\n",
              "      <td>170000.00</td>\n",
              "      <td>290000.0</td>\n",
              "    </tr>\n",
              "    <tr>\n",
              "      <th>Mild Steel</th>\n",
              "      <td>7.0</td>\n",
              "      <td>2.797143e+05</td>\n",
              "      <td>2.651017e+05</td>\n",
              "      <td>35000.0</td>\n",
              "      <td>140000.00</td>\n",
              "      <td>170000.0</td>\n",
              "      <td>325000.00</td>\n",
              "      <td>823000.0</td>\n",
              "    </tr>\n",
              "    <tr>\n",
              "      <th rowspan=\"6\" valign=\"top\">Tractor Mounted Air Compressor</th>\n",
              "      <th rowspan=\"6\" valign=\"top\">Piece</th>\n",
              "      <th>Compressor Brand</th>\n",
              "      <th>Atlas Copco</th>\n",
              "      <td>9.0</td>\n",
              "      <td>2.166667e+03</td>\n",
              "      <td>2.465132e+03</td>\n",
              "      <td>600.0</td>\n",
              "      <td>650.00</td>\n",
              "      <td>1850.0</td>\n",
              "      <td>2000.00</td>\n",
              "      <td>8500.0</td>\n",
              "    </tr>\n",
              "    <tr>\n",
              "      <th>Compressor Technology</th>\n",
              "      <th>Reciprocating Compressor</th>\n",
              "      <td>8.0</td>\n",
              "      <td>2.300000e+03</td>\n",
              "      <td>2.600412e+03</td>\n",
              "      <td>600.0</td>\n",
              "      <td>637.50</td>\n",
              "      <td>1925.0</td>\n",
              "      <td>2050.00</td>\n",
              "      <td>8500.0</td>\n",
              "    </tr>\n",
              "    <tr>\n",
              "      <th>Horse Power</th>\n",
              "      <th>42</th>\n",
              "      <td>9.0</td>\n",
              "      <td>2.166667e+03</td>\n",
              "      <td>2.465132e+03</td>\n",
              "      <td>600.0</td>\n",
              "      <td>650.00</td>\n",
              "      <td>1850.0</td>\n",
              "      <td>2000.00</td>\n",
              "      <td>8500.0</td>\n",
              "    </tr>\n",
              "    <tr>\n",
              "      <th>Maximum Flow Rate</th>\n",
              "      <th>121 - 500 cfm</th>\n",
              "      <td>9.0</td>\n",
              "      <td>2.166667e+03</td>\n",
              "      <td>2.465132e+03</td>\n",
              "      <td>600.0</td>\n",
              "      <td>650.00</td>\n",
              "      <td>1850.0</td>\n",
              "      <td>2000.00</td>\n",
              "      <td>8500.0</td>\n",
              "    </tr>\n",
              "    <tr>\n",
              "      <th>Model Number/Name</th>\n",
              "      <th>VT4</th>\n",
              "      <td>8.0</td>\n",
              "      <td>2.187500e+03</td>\n",
              "      <td>2.634490e+03</td>\n",
              "      <td>600.0</td>\n",
              "      <td>637.50</td>\n",
              "      <td>1475.0</td>\n",
              "      <td>2050.00</td>\n",
              "      <td>8500.0</td>\n",
              "    </tr>\n",
              "    <tr>\n",
              "      <th>Power Source</th>\n",
              "      <th>Pneumatic</th>\n",
              "      <td>7.0</td>\n",
              "      <td>2.607143e+03</td>\n",
              "      <td>2.661520e+03</td>\n",
              "      <td>600.0</td>\n",
              "      <td>1475.00</td>\n",
              "      <td>2000.0</td>\n",
              "      <td>2100.00</td>\n",
              "      <td>8500.0</td>\n",
              "    </tr>\n",
              "    <tr>\n",
              "      <th>Tube Filling Machine</th>\n",
              "      <th>Number</th>\n",
              "      <th>Packaging Type</th>\n",
              "      <th>Plastics Tubes</th>\n",
              "      <td>6.0</td>\n",
              "      <td>8.750000e+05</td>\n",
              "      <td>2.361144e+05</td>\n",
              "      <td>550000.0</td>\n",
              "      <td>800000.00</td>\n",
              "      <td>800000.0</td>\n",
              "      <td>1025000.00</td>\n",
              "      <td>1200000.0</td>\n",
              "    </tr>\n",
              "    <tr>\n",
              "      <th rowspan=\"3\" valign=\"top\">Water Demineralization Plant</th>\n",
              "      <th rowspan=\"3\" valign=\"top\">Unit</th>\n",
              "      <th>Automation Grade</th>\n",
              "      <th>Automatic</th>\n",
              "      <td>15.0</td>\n",
              "      <td>1.224667e+05</td>\n",
              "      <td>9.895083e+04</td>\n",
              "      <td>7000.0</td>\n",
              "      <td>65000.00</td>\n",
              "      <td>100000.0</td>\n",
              "      <td>150000.00</td>\n",
              "      <td>400000.0</td>\n",
              "    </tr>\n",
              "    <tr>\n",
              "      <th>Flow rate</th>\n",
              "      <th>500 m3/hour</th>\n",
              "      <td>9.0</td>\n",
              "      <td>1.258889e+05</td>\n",
              "      <td>1.176844e+05</td>\n",
              "      <td>20000.0</td>\n",
              "      <td>50000.00</td>\n",
              "      <td>98000.0</td>\n",
              "      <td>150000.00</td>\n",
              "      <td>375000.0</td>\n",
              "    </tr>\n",
              "    <tr>\n",
              "      <th>Water Source</th>\n",
              "      <th>Borewell Water</th>\n",
              "      <td>9.0</td>\n",
              "      <td>9.833333e+04</td>\n",
              "      <td>4.663690e+04</td>\n",
              "      <td>20000.0</td>\n",
              "      <td>70000.00</td>\n",
              "      <td>100000.0</td>\n",
              "      <td>100000.00</td>\n",
              "      <td>180000.0</td>\n",
              "    </tr>\n",
              "    <tr>\n",
              "      <th>Water Packaging Machine</th>\n",
              "      <th>Unit</th>\n",
              "      <th>Material</th>\n",
              "      <th>Stainless Steel</th>\n",
              "      <td>8.0</td>\n",
              "      <td>3.425000e+05</td>\n",
              "      <td>4.058237e+05</td>\n",
              "      <td>120000.0</td>\n",
              "      <td>123750.00</td>\n",
              "      <td>125000.0</td>\n",
              "      <td>343750.00</td>\n",
              "      <td>1000000.0</td>\n",
              "    </tr>\n",
              "    <tr>\n",
              "      <th rowspan=\"3\" valign=\"top\">Wire Drawing Machines</th>\n",
              "      <th rowspan=\"3\" valign=\"top\">Unit</th>\n",
              "      <th>Max Inlet Wire Diameter</th>\n",
              "      <th>3-6 mm</th>\n",
              "      <td>6.0</td>\n",
              "      <td>3.937500e+05</td>\n",
              "      <td>1.244362e+05</td>\n",
              "      <td>212500.0</td>\n",
              "      <td>312500.00</td>\n",
              "      <td>425000.0</td>\n",
              "      <td>500000.00</td>\n",
              "      <td>500000.0</td>\n",
              "    </tr>\n",
              "    <tr>\n",
              "      <th>Types of Metal</th>\n",
              "      <th>Copper</th>\n",
              "      <td>12.0</td>\n",
              "      <td>1.278333e+06</td>\n",
              "      <td>1.076789e+06</td>\n",
              "      <td>400000.0</td>\n",
              "      <td>575000.00</td>\n",
              "      <td>637500.0</td>\n",
              "      <td>2000000.00</td>\n",
              "      <td>3500000.0</td>\n",
              "    </tr>\n",
              "    <tr>\n",
              "      <th>Usage/Application</th>\n",
              "      <th>Wire Drawing</th>\n",
              "      <td>8.0</td>\n",
              "      <td>1.723750e+06</td>\n",
              "      <td>1.268342e+06</td>\n",
              "      <td>600000.0</td>\n",
              "      <td>622500.00</td>\n",
              "      <td>1475000.0</td>\n",
              "      <td>2250000.00</td>\n",
              "      <td>4000000.0</td>\n",
              "    </tr>\n",
              "    <tr>\n",
              "      <th rowspan=\"9\" valign=\"top\">Womens Capri</th>\n",
              "      <th rowspan=\"9\" valign=\"top\">Piece</th>\n",
              "      <th rowspan=\"2\" valign=\"top\">Brand</th>\n",
              "      <th>Onesport</th>\n",
              "      <td>14.0</td>\n",
              "      <td>2.471429e+02</td>\n",
              "      <td>2.771519e+01</td>\n",
              "      <td>225.0</td>\n",
              "      <td>225.00</td>\n",
              "      <td>237.5</td>\n",
              "      <td>257.50</td>\n",
              "      <td>300.0</td>\n",
              "    </tr>\n",
              "    <tr>\n",
              "      <th>Westwood</th>\n",
              "      <td>8.0</td>\n",
              "      <td>1.561500e+03</td>\n",
              "      <td>8.762746e+01</td>\n",
              "      <td>1499.0</td>\n",
              "      <td>1499.00</td>\n",
              "      <td>1499.0</td>\n",
              "      <td>1649.00</td>\n",
              "      <td>1699.0</td>\n",
              "    </tr>\n",
              "    <tr>\n",
              "      <th>Color</th>\n",
              "      <th>Black</th>\n",
              "      <td>7.0</td>\n",
              "      <td>2.092857e+02</td>\n",
              "      <td>3.564040e+01</td>\n",
              "      <td>175.0</td>\n",
              "      <td>182.50</td>\n",
              "      <td>200.0</td>\n",
              "      <td>225.00</td>\n",
              "      <td>275.0</td>\n",
              "    </tr>\n",
              "    <tr>\n",
              "      <th rowspan=\"4\" valign=\"top\">Fabric</th>\n",
              "      <th>Cotton</th>\n",
              "      <td>21.0</td>\n",
              "      <td>6.970476e+02</td>\n",
              "      <td>7.005617e+02</td>\n",
              "      <td>60.0</td>\n",
              "      <td>140.00</td>\n",
              "      <td>230.0</td>\n",
              "      <td>1499.00</td>\n",
              "      <td>1699.0</td>\n",
              "    </tr>\n",
              "    <tr>\n",
              "      <th>Cotton and Lycra blended</th>\n",
              "      <td>16.0</td>\n",
              "      <td>2.000000e+02</td>\n",
              "      <td>0.000000e+00</td>\n",
              "      <td>200.0</td>\n",
              "      <td>200.00</td>\n",
              "      <td>200.0</td>\n",
              "      <td>200.00</td>\n",
              "      <td>200.0</td>\n",
              "    </tr>\n",
              "    <tr>\n",
              "      <th>Lycra Cotton</th>\n",
              "      <td>8.0</td>\n",
              "      <td>2.087500e+02</td>\n",
              "      <td>1.761645e+02</td>\n",
              "      <td>90.0</td>\n",
              "      <td>95.00</td>\n",
              "      <td>115.0</td>\n",
              "      <td>255.00</td>\n",
              "      <td>500.0</td>\n",
              "    </tr>\n",
              "    <tr>\n",
              "      <th>Polyester Spandex Jersey</th>\n",
              "      <td>6.0</td>\n",
              "      <td>2.583333e+02</td>\n",
              "      <td>3.415650e+01</td>\n",
              "      <td>225.0</td>\n",
              "      <td>231.25</td>\n",
              "      <td>250.0</td>\n",
              "      <td>287.50</td>\n",
              "      <td>300.0</td>\n",
              "    </tr>\n",
              "    <tr>\n",
              "      <th rowspan=\"2\" valign=\"top\">Size</th>\n",
              "      <th>All Sizes</th>\n",
              "      <td>15.0</td>\n",
              "      <td>3.545333e+02</td>\n",
              "      <td>3.975230e+02</td>\n",
              "      <td>95.0</td>\n",
              "      <td>190.00</td>\n",
              "      <td>275.0</td>\n",
              "      <td>287.50</td>\n",
              "      <td>1749.0</td>\n",
              "    </tr>\n",
              "    <tr>\n",
              "      <th>S, M, L, XL</th>\n",
              "      <td>17.0</td>\n",
              "      <td>1.923529e+02</td>\n",
              "      <td>3.152963e+01</td>\n",
              "      <td>70.0</td>\n",
              "      <td>200.00</td>\n",
              "      <td>200.0</td>\n",
              "      <td>200.00</td>\n",
              "      <td>200.0</td>\n",
              "    </tr>\n",
              "    <tr>\n",
              "      <th rowspan=\"3\" valign=\"top\">Wooden Crates</th>\n",
              "      <th rowspan=\"2\" valign=\"top\">Cubic Feet</th>\n",
              "      <th>Shape</th>\n",
              "      <th>Rectangular</th>\n",
              "      <td>7.0</td>\n",
              "      <td>5.292857e+02</td>\n",
              "      <td>2.265765e+02</td>\n",
              "      <td>280.0</td>\n",
              "      <td>425.00</td>\n",
              "      <td>500.0</td>\n",
              "      <td>537.50</td>\n",
              "      <td>1000.0</td>\n",
              "    </tr>\n",
              "    <tr>\n",
              "      <th>Wood Type</th>\n",
              "      <th>Rubber Wood</th>\n",
              "      <td>8.0</td>\n",
              "      <td>4.756250e+02</td>\n",
              "      <td>9.201853e+01</td>\n",
              "      <td>280.0</td>\n",
              "      <td>475.00</td>\n",
              "      <td>500.0</td>\n",
              "      <td>531.25</td>\n",
              "      <td>550.0</td>\n",
              "    </tr>\n",
              "    <tr>\n",
              "      <th>Piece</th>\n",
              "      <th>Shape</th>\n",
              "      <th>Rectangular</th>\n",
              "      <td>9.0</td>\n",
              "      <td>1.705444e+03</td>\n",
              "      <td>3.305761e+03</td>\n",
              "      <td>200.0</td>\n",
              "      <td>500.00</td>\n",
              "      <td>700.0</td>\n",
              "      <td>750.00</td>\n",
              "      <td>10500.0</td>\n",
              "    </tr>\n",
              "  </tbody>\n",
              "</table>\n",
              "<p>590 rows × 8 columns</p>\n",
              "</div>"
            ],
            "text/plain": [
              "                                                                                                Prices  ...           \n",
              "                                                                                                 count  ...        max\n",
              "MCAT                               Unit        ISQ                     ISQ Options                      ...           \n",
              "AC Motors                          Piece       No of Phase             Three Phase                12.0  ...   100000.0\n",
              "                                   Unit        No of Phase             Three Phase                 6.0  ...    20000.0\n",
              "Acme Safety Shoes                  Pair        Brand                   Acme                       18.0  ...     1850.0\n",
              "                                               Certification           CE                          6.0  ...     1100.0\n",
              "                                                                       ISI                         6.0  ...     1850.0\n",
              "                                               Color                   Black                      37.0  ...     1650.0\n",
              "                                               Length                  Low ankle                  16.0  ...     1911.0\n",
              "                                               Material                Leather                    20.0  ...     1911.0\n",
              "                                               Size                    7                           7.0  ...     1911.0\n",
              "                                                                       All Sizes                  15.0  ...     1850.0\n",
              "                                               Sole                    PU                         20.0  ...     1911.0\n",
              "                                               Sole Type               PU                          9.0  ...     1100.0\n",
              "                                   Piece       Color                   Black, Brown                6.0  ...      200.0\n",
              "Air Conditioner Voltage Stabilizer Piece       Power                   4KVA                       11.0  ...     3500.0\n",
              "                                                                       5KVA                        9.0  ...     4000.0\n",
              "Aluminium False Ceilings           Square Feet Color                   White                      11.0  ...      300.0\n",
              "                                               Material                Aluminum                   18.0  ...      250.0\n",
              "Aluminium Melting Furnace          Piece       Melting Material        Aluminium                   9.0  ...  1150000.0\n",
              "                                               Power Source            Electric                    6.0  ...   600000.0\n",
              "                                   Unit        Melting Material        Aluminium                   9.0  ...  2000000.0\n",
              "                                               Power Source            Electric                   10.0  ...  2000000.0\n",
              "Aluminum Cables                    Meter       Conductor Type          Solid                       7.0  ...       50.0\n",
              "                                               Is It Armoured          Armoured                   11.0  ...     1011.0\n",
              "                                               Power/Voltage           230 Volt                   11.0  ...       85.0\n",
              "Audio Amplifiers                   Piece       Brand                   APART AUDIO                 6.0  ...    58300.0\n",
              "                                                                       BOSCH                       9.0  ...    31746.0\n",
              "                                                                       RBM                         6.0  ...    12200.0\n",
              "                                               Channel                 2                           6.0  ...    43000.0\n",
              "Backhoe Loader                     Unit        Condition               Brand New                  13.0  ...  2750000.0\n",
              "Bag Filling Machine                Unit        Brand                   Kvson                      10.0  ...   375000.0\n",
              "...                                                                                                ...  ...        ...\n",
              "Tractor Front End Loader           Piece       Condition               Brand New                   6.0  ...   235000.0\n",
              "                                   Unit        Condition               Brand New                   7.0  ...  1065000.0\n",
              "                                               Material                MS                          6.0  ...   290000.0\n",
              "                                                                       Mild Steel                  7.0  ...   823000.0\n",
              "Tractor Mounted Air Compressor     Piece       Compressor Brand        Atlas Copco                 9.0  ...     8500.0\n",
              "                                               Compressor Technology   Reciprocating Compressor    8.0  ...     8500.0\n",
              "                                               Horse Power             42                          9.0  ...     8500.0\n",
              "                                               Maximum Flow Rate       121 - 500 cfm               9.0  ...     8500.0\n",
              "                                               Model Number/Name       VT4                         8.0  ...     8500.0\n",
              "                                               Power Source            Pneumatic                   7.0  ...     8500.0\n",
              "Tube Filling Machine               Number      Packaging Type          Plastics Tubes              6.0  ...  1200000.0\n",
              "Water Demineralization Plant       Unit        Automation Grade        Automatic                  15.0  ...   400000.0\n",
              "                                               Flow rate               500 m3/hour                 9.0  ...   375000.0\n",
              "                                               Water Source            Borewell Water              9.0  ...   180000.0\n",
              "Water Packaging Machine            Unit        Material                Stainless Steel             8.0  ...  1000000.0\n",
              "Wire Drawing Machines              Unit        Max Inlet Wire Diameter 3-6 mm                      6.0  ...   500000.0\n",
              "                                               Types of Metal          Copper                     12.0  ...  3500000.0\n",
              "                                               Usage/Application       Wire Drawing                8.0  ...  4000000.0\n",
              "Womens Capri                       Piece       Brand                   Onesport                   14.0  ...      300.0\n",
              "                                                                       Westwood                    8.0  ...     1699.0\n",
              "                                               Color                   Black                       7.0  ...      275.0\n",
              "                                               Fabric                  Cotton                     21.0  ...     1699.0\n",
              "                                                                       Cotton and Lycra blended   16.0  ...      200.0\n",
              "                                                                       Lycra Cotton                8.0  ...      500.0\n",
              "                                                                       Polyester Spandex Jersey    6.0  ...      300.0\n",
              "                                               Size                    All Sizes                  15.0  ...     1749.0\n",
              "                                                                       S, M, L, XL                17.0  ...      200.0\n",
              "Wooden Crates                      Cubic Feet  Shape                   Rectangular                 7.0  ...     1000.0\n",
              "                                               Wood Type               Rubber Wood                 8.0  ...      550.0\n",
              "                                   Piece       Shape                   Rectangular                 9.0  ...    10500.0\n",
              "\n",
              "[590 rows x 8 columns]"
            ]
          },
          "metadata": {
            "tags": []
          },
          "execution_count": 396
        }
      ]
    },
    {
      "cell_type": "markdown",
      "metadata": {
        "id": "6Vn8311txr4i",
        "colab_type": "text"
      },
      "source": [
        "# Driver Program"
      ]
    },
    {
      "cell_type": "markdown",
      "metadata": {
        "id": "unQNTys3y94S",
        "colab_type": "text"
      },
      "source": [
        "**The Main Ensembled Function**"
      ]
    },
    {
      "cell_type": "code",
      "metadata": {
        "id": "KLK3sH2Auf32",
        "colab_type": "code",
        "colab": {}
      },
      "source": [
        "chunks = []\n",
        "names = []\n",
        "\n",
        "for name,c in data1:\n",
        "  chunks.append(pd.DataFrame({\"Price\":c['Prices']}))\n",
        "  names.append(name)\n",
        "  \n",
        "chunks2 = []\n",
        "names2 = []\n",
        "for name,c in data2:\n",
        "  chunks2.append(pd.DataFrame({\"Price\":c['Prices']}))\n",
        "  names2.append(name)\n",
        "\n",
        "col_names =  ['MCAT Name', 'Unit', 'Unit Wise Min Price', 'Unit Wise Max Price', 'Most Common Price 1', 'Most Common Price 2', 'Most Common Price 3']\n",
        "my_df1  = pd.DataFrame()\n",
        "my_df2  = pd.DataFrame()"
      ],
      "execution_count": 0,
      "outputs": []
    },
    {
      "cell_type": "code",
      "metadata": {
        "id": "tEki1_RKYBoe",
        "colab_type": "code",
        "colab": {}
      },
      "source": [
        "def findPriceRange(datas,contamination_factor,seed_percentage):\n",
        "    \n",
        "    datas = datas.sort_values(by=['Price'])\n",
        "    datax = datas\n",
        "    datay = datas\n",
        "    dataz = datas\n",
        "    \n",
        "    original_std = np.std(np.array(datas))\n",
        "    \n",
        "    print(\"Seed Percentage :\",seed_percentage, end=\" \")\n",
        "    print(\"Contamination: \",contamination_factor)\n",
        "    print(\"original_std : \",original_std)\n",
        "                      \n",
        "\n",
        "    ######_____Isolation Forests\n",
        "\n",
        "    isolation_forest = IsolationForest(contamination=contamination_factor, behaviour=\"new\")\n",
        "    if_vote = isolation_forest.fit_predict(dataz['Price'].values.reshape(-1,1))\n",
        "    ######_____DBScan\n",
        "    from sklearn.preprocessing import MinMaxScaler\n",
        "    from sklearn.cluster import DBSCAN\n",
        "     \n",
        "    scaler = MinMaxScaler()\n",
        "    sd = scaler.fit_transform(datax)\n",
        "    sd = pd.DataFrame(sd,columns=['Price'])\n",
        "    \n",
        "    \n",
        "    outlier_detection = DBSCAN(eps = getHyperparameters(sd,seed_percentage) ,metric=\"euclidean\",min_samples = 3,n_jobs = -1)\n",
        "    clusters = outlier_detection.fit_predict(sd)\n",
        "    clusters[clusters!=-1]=1\n",
        "    \n",
        "    dbscan_vote = clusters\n",
        "    \n",
        "    ######_____Local Outlier Factor\n",
        "    clf = LocalOutlierFactor(n_neighbors=20, contamination=contamination_factor)\n",
        "    y_pred = clf.fit_predict(np.array(datay['Price']).reshape(-1,1))\n",
        "    X_scores = clf.negative_outlier_factor_\n",
        "\n",
        "    lof_vote = y_pred\n",
        "    \n",
        "    ###genetic mixing\n",
        "    \n",
        "    \n",
        "    v1 = if_vote \n",
        "    v1[v1>0] = 1\n",
        "    v1[v1<0]=0\n",
        "   \n",
        "    v2 = dbscan_vote\n",
        "    v2[v2>0] = 1\n",
        "    v2[v2<0] = 0\n",
        "                        \n",
        "    v3 = lof_vote\n",
        "\n",
        "    v3[v3>0] = 1\n",
        "    v3[v3<0] = 0\n",
        "    \n",
        "      \n",
        "    v4 = v1 + v2\n",
        "    v4[v4>0] = 1\n",
        "    v4[v4<0] = 0\n",
        "    \n",
        "    v5 = v2 + v3\n",
        "    v5[v5>0] = 1\n",
        "    v5[v5<0] = 0                      \n",
        "                          \n",
        "    v6 = v1 + v3\n",
        "    v6[v6>0] = 1\n",
        "    v6[v6<0] = 0 \n",
        "     \n",
        "    v7 = v1 + v2 + v3\n",
        "    \n",
        "    v7[v7<2] = 0\n",
        "    v7[v7!=0] = 1\n",
        "    \n",
        "    \n",
        "    l = [\"v1\", \"v2\", \"v3\", \"v4\", \"v5\", \"v6\", \"v7\"]\n",
        "    index = {\"v1\":v1, \"v2\":v2, \"v3\":v3, \"v4\":v4, \"v5\":v5, \"v6\":v6, \"v7\":v7}\n",
        "    \n",
        "    minn = original_std+1\n",
        "    best = []\n",
        "    k = 0\n",
        "    for i in l:\n",
        "        \n",
        "        t = index[i]*np.array(dataz['Price'])\n",
        "        t = np.trim_zeros(t)\n",
        "        k  = np.std(np.array(t))\n",
        "        if(k<minn):\n",
        "          minn = k\n",
        "          best = t\n",
        "    \n",
        "    min_price, max_price = np.min(best), np.max(best)           \n",
        "        \n",
        "\n",
        "\n",
        "    return(min_price, max_price, best)\n",
        "    "
      ],
      "execution_count": 0,
      "outputs": []
    },
    {
      "cell_type": "code",
      "metadata": {
        "id": "ruWBcvWMLaty",
        "colab_type": "code",
        "colab": {}
      },
      "source": [
        "def threeModes(dataChunk):\n",
        "  \n",
        "  dataChunk2 = dataChunk\n",
        "  m1=0\n",
        "  m2=0\n",
        "  m3=0\n",
        " \n",
        "  m1 = int(stats.mode(dataChunk2)[0])\n",
        "  dataChunk2 = dataChunk2[dataChunk2 != m1]\n",
        "  \n",
        "  if(len(dataChunk2)!=0):\n",
        "    m2 = int(stats.mode(dataChunk2)[0])\n",
        "    \n",
        "    dataChunk2 = dataChunk2[dataChunk2 != m2]\n",
        "  if(len(dataChunk2)!=0):\n",
        "    m3 = int(stats.mode(dataChunk2)[0])\n",
        "  \n",
        "\n",
        "\n",
        "  return([m1, m2, m3])\n",
        "  "
      ],
      "execution_count": 0,
      "outputs": []
    },
    {
      "cell_type": "code",
      "metadata": {
        "id": "FmNpxsrhQVaj",
        "colab_type": "code",
        "colab": {}
      },
      "source": [
        "\n",
        "def plot_figure(x,c,u,min_price,max_price):\n",
        "    \n",
        "    k = x\n",
        "    fig, ax = plt.subplots()\n",
        "    num_bins = 10\n",
        "    n, bins, patches = ax.hist(k['Price'], num_bins, color=['grey'])\n",
        "    d = ax.fill_betweenx(n,min_price,max_price,color='g',alpha=0.5)\n",
        "    ax.set_xlabel('Prices')\n",
        "    ax.set_ylabel('Counts')\n",
        "    ax.set_title(r'Histogram for item-'+ c +' and unit - '+ u)\n",
        "    fig.tight_layout()\n",
        "    plt.show()\n",
        "\n",
        "def getHyperparameters(sd,retain):\n",
        "  \n",
        "  import math\n",
        "  \n",
        "  dis=[]\n",
        "  temp =list(sd['Price'])\n",
        "  for i in range(0,len(temp)-1):\n",
        "    dis.append(temp[i+1]-temp[i])\n",
        "\n",
        "  arr = np.array(dis)\n",
        "  diss = pd.DataFrame(dis,columns=['dis'])\n",
        "  std=diss['dis'].std()\n",
        "  ma = diss['dis'].max()\n",
        "  n=len(dis)\n",
        "  \n",
        "  cnt={}\n",
        "  unique_dis=list(set(dis))\n",
        "  for i in unique_dis:\n",
        "    cnt[i]=dis.count(i)\n",
        "  keys = cnt.keys()\n",
        "  keys=sorted(keys)\n",
        "  cands=[]\n",
        "  full = int(round((retain*n),0))\n",
        "  for i in keys:\n",
        "    full = full - cnt[i]\n",
        "    cands.append(i)\n",
        "    if(full<=0):\n",
        "      break\n",
        "    \n",
        "  \n",
        "  b = pd.DataFrame(cands)\n",
        "  epsilon = round(np.max(np.array(b))*1000,0)/1000\n",
        "  \n",
        "  if(epsilon==0):\n",
        "    epsilon=0.5\n",
        "    \n",
        "  print(\"Epsilon: \",epsilon)\n",
        "  return(epsilon)\n",
        "  "
      ],
      "execution_count": 0,
      "outputs": []
    },
    {
      "cell_type": "code",
      "metadata": {
        "id": "CbEK8KSZwhIy",
        "colab_type": "code",
        "colab": {}
      },
      "source": [
        "def estimateContamination(dataChunk):\n",
        "  \n",
        "  #index column addition\n",
        "  unnormal_data=pd.DataFrame(dataChunk)\n",
        "\n",
        "  # Computing IQR\n",
        "  Q1 = unnormal_data['Price'].quantile(0.25)\n",
        "  Q3 = unnormal_data['Price'].quantile(0.75)\n",
        "  IQR = Q3 - Q1 \n",
        "\n",
        "  import random\n",
        "  label_data = list(unnormal_data['Price'])\n",
        "  t=[]\n",
        "  for i in range(len(unnormal_data['Price'])):\n",
        "    if( (label_data[i] <= (Q1 - 1.5 * IQR)) or (label_data[i] >= (Q3 + 1.5 * IQR))):\n",
        "      pass\n",
        "    else:\n",
        "      t.append(label_data[i])\n",
        "\n",
        "  filtered = t\n",
        "  \n",
        "  \n",
        "  #keep seed percentage == IQR range or 85% or 98%\n",
        "  #assume 85%-98% purityz\n",
        "  \n",
        "\n",
        " # double IQR\n",
        "  \n",
        "  import math\n",
        "    \n",
        "  seed_percentage  = math.floor((len(filtered)/len(unnormal_data))*100)\n",
        "  if(seed_percentage<=85):\n",
        "    seed_percentage = 88\n",
        "  elif(seed_percentage>=99):\n",
        "    seed_percentage = 88\n",
        "    \n",
        "  contamination_factor=0.5*((100-seed_percentage)/100) \n",
        "   \n",
        "\n",
        "\n",
        "  \n",
        "  return([seed_percentage, contamination_factor, filtered])"
      ],
      "execution_count": 0,
      "outputs": []
    },
    {
      "cell_type": "code",
      "metadata": {
        "id": "m_OiJSuwzyZb",
        "colab_type": "code",
        "outputId": "08494017-1d72-49c0-bf77-f613e8a62482",
        "colab": {
          "base_uri": "https://localhost:8080/",
          "height": 1000
        }
      },
      "source": [
        "debug = 0\n",
        "\n",
        "for i in range(len(chunks)):\n",
        "  contam = estimateContamination(chunks[i])\n",
        "  minn, maxx, pdata = findPriceRange(chunks[i],contam[1], contam[0])\n",
        "  t = threeModes(pdata)\n",
        "  my_df1 = my_df1.append({'MCAT Name': names[i][0], 'Unit': names[i][1], 'Unit Wise Min Price': minn, 'Unit Wise Max Price': maxx, 'Most Common Price 1':t[0], 'Most Common Price 2':t[1], 'Most Common Price 3':t[2] }, ignore_index=True)\n",
        "\n",
        "for i in range(len(chunks2)):\n",
        "  \n",
        "  contam = estimateContamination(chunks2[i])\n",
        "  minn, maxx, pdata = findPriceRange(chunks2[i],contam[1], contam[0])\n",
        "  my_df2 = my_df2.append({'MCAT Name': names2[i][0], 'Unit': names2[i][1], 'ISQ Name' : names2[i][2], 'ISQ Options' :names2[i][3], 'ISQ Min Price': minn, 'ISQ Max Price': maxx}, ignore_index=True)\n",
        "\n",
        "my_df1 = my_df1[col_names]\n",
        "my_df2 = my_df2[['MCAT Name', 'Unit', 'ISQ Name', 'ISQ Options', 'ISQ Min Price', 'ISQ Max Price']]\n",
        "  \n",
        "\n"
      ],
      "execution_count": 403,
      "outputs": [
        {
          "output_type": "stream",
          "text": [
            "Seed Percentage : 88 Contamination:  0.06\n",
            "original_std :  1469.6938456699068\n",
            "Epsilon:  1.0\n"
          ],
          "name": "stdout"
        },
        {
          "output_type": "stream",
          "text": [
            "/usr/local/lib/python3.6/dist-packages/sklearn/neighbors/lof.py:253: UserWarning: n_neighbors (20) is greater than the total number of samples (10). n_neighbors will be set to (n_samples - 1) for estimation.\n",
            "  % (self.n_neighbors, n_samples))\n"
          ],
          "name": "stderr"
        },
        {
          "output_type": "stream",
          "text": [
            "Seed Percentage : 91 Contamination:  0.045\n",
            "original_std :  15974.786521555538\n",
            "Epsilon:  0.6\n",
            "Seed Percentage : 95 Contamination:  0.025\n",
            "original_std :  21034.83360404831\n",
            "Epsilon:  0.735\n",
            "Seed Percentage : 88 Contamination:  0.06\n",
            "original_std :  0.0\n",
            "Epsilon:  0.5\n",
            "Seed Percentage : 95 Contamination:  0.025\n",
            "original_std :  364.83785838384773\n"
          ],
          "name": "stdout"
        },
        {
          "output_type": "stream",
          "text": [
            "/usr/local/lib/python3.6/dist-packages/sklearn/neighbors/lof.py:253: UserWarning: n_neighbors (20) is greater than the total number of samples (6). n_neighbors will be set to (n_samples - 1) for estimation.\n",
            "  % (self.n_neighbors, n_samples))\n"
          ],
          "name": "stderr"
        },
        {
          "output_type": "stream",
          "text": [
            "Epsilon:  0.117\n",
            "Seed Percentage : 88 Contamination:  0.06\n",
            "original_std :  170.23602647248694\n",
            "Epsilon:  0.399\n",
            "Seed Percentage : 93 Contamination:  0.035\n",
            "original_std :  44.34210439550904\n"
          ],
          "name": "stdout"
        },
        {
          "output_type": "stream",
          "text": [
            "/usr/local/lib/python3.6/dist-packages/sklearn/neighbors/lof.py:253: UserWarning: n_neighbors (20) is greater than the total number of samples (19). n_neighbors will be set to (n_samples - 1) for estimation.\n",
            "  % (self.n_neighbors, n_samples))\n"
          ],
          "name": "stderr"
        },
        {
          "output_type": "stream",
          "text": [
            "Epsilon:  0.778\n",
            "Seed Percentage : 88 Contamination:  0.06\n",
            "original_std :  1400.1543124832465\n"
          ],
          "name": "stdout"
        },
        {
          "output_type": "stream",
          "text": [
            "/usr/local/lib/python3.6/dist-packages/sklearn/neighbors/lof.py:253: UserWarning: n_neighbors (20) is greater than the total number of samples (15). n_neighbors will be set to (n_samples - 1) for estimation.\n",
            "  % (self.n_neighbors, n_samples))\n"
          ],
          "name": "stderr"
        },
        {
          "output_type": "stream",
          "text": [
            "Epsilon:  0.584\n",
            "Seed Percentage : 88 Contamination:  0.06\n",
            "original_std :  14023.457687487398\n"
          ],
          "name": "stdout"
        },
        {
          "output_type": "stream",
          "text": [
            "/usr/local/lib/python3.6/dist-packages/sklearn/neighbors/lof.py:253: UserWarning: n_neighbors (20) is greater than the total number of samples (18). n_neighbors will be set to (n_samples - 1) for estimation.\n",
            "  % (self.n_neighbors, n_samples))\n"
          ],
          "name": "stderr"
        },
        {
          "output_type": "stream",
          "text": [
            "Epsilon:  0.875\n",
            "Seed Percentage : 88 Contamination:  0.06\n",
            "original_std :  2209.131587194346\n",
            "Epsilon:  0.352\n",
            "Seed Percentage : 88 Contamination:  0.06\n",
            "original_std :  13710.924634146722\n",
            "Epsilon:  0.704\n",
            "Seed Percentage : 88 Contamination:  0.06\n",
            "original_std :  13389.802919469063\n",
            "Epsilon:  0.544\n",
            "Seed Percentage : 88 Contamination:  0.06\n",
            "original_std :  24.743582965269674\n",
            "Epsilon:  1.0\n",
            "Seed Percentage : 93 Contamination:  0.035\n",
            "original_std :  1206.2198067608667\n"
          ],
          "name": "stdout"
        },
        {
          "output_type": "stream",
          "text": [
            "/usr/local/lib/python3.6/dist-packages/sklearn/neighbors/lof.py:253: UserWarning: n_neighbors (20) is greater than the total number of samples (7). n_neighbors will be set to (n_samples - 1) for estimation.\n",
            "  % (self.n_neighbors, n_samples))\n"
          ],
          "name": "stderr"
        },
        {
          "output_type": "stream",
          "text": [
            "Epsilon:  0.954\n",
            "Seed Percentage : 88 Contamination:  0.06\n",
            "original_std :  72.99550606795907\n"
          ],
          "name": "stdout"
        },
        {
          "output_type": "stream",
          "text": [
            "/usr/local/lib/python3.6/dist-packages/sklearn/neighbors/lof.py:253: UserWarning: n_neighbors (20) is greater than the total number of samples (15). n_neighbors will be set to (n_samples - 1) for estimation.\n",
            "  % (self.n_neighbors, n_samples))\n"
          ],
          "name": "stderr"
        },
        {
          "output_type": "stream",
          "text": [
            "Epsilon:  0.172\n",
            "Seed Percentage : 88 Contamination:  0.06\n",
            "original_std :  0.0\n",
            "Epsilon:  0.5\n",
            "Seed Percentage : 88 Contamination:  0.06\n",
            "original_std :  0.0\n"
          ],
          "name": "stdout"
        },
        {
          "output_type": "stream",
          "text": [
            "/usr/local/lib/python3.6/dist-packages/sklearn/neighbors/lof.py:253: UserWarning: n_neighbors (20) is greater than the total number of samples (7). n_neighbors will be set to (n_samples - 1) for estimation.\n",
            "  % (self.n_neighbors, n_samples))\n"
          ],
          "name": "stderr"
        },
        {
          "output_type": "stream",
          "text": [
            "Epsilon:  0.5\n",
            "Seed Percentage : 88 Contamination:  0.06\n",
            "original_std :  339906.47176840564\n"
          ],
          "name": "stdout"
        },
        {
          "output_type": "stream",
          "text": [
            "/usr/local/lib/python3.6/dist-packages/sklearn/neighbors/lof.py:253: UserWarning: n_neighbors (20) is greater than the total number of samples (6). n_neighbors will be set to (n_samples - 1) for estimation.\n",
            "  % (self.n_neighbors, n_samples))\n"
          ],
          "name": "stderr"
        },
        {
          "output_type": "stream",
          "text": [
            "Epsilon:  0.364\n",
            "Seed Percentage : 88 Contamination:  0.06\n",
            "original_std :  619505.976017171\n",
            "Epsilon:  0.342\n",
            "Seed Percentage : 88 Contamination:  0.06\n",
            "original_std :  256.5048214671848\n",
            "Epsilon:  0.333\n",
            "Seed Percentage : 88 Contamination:  0.06\n",
            "original_std :  273.2688751013799\n",
            "Epsilon:  0.264\n",
            "Seed Percentage : 94 Contamination:  0.03\n",
            "original_std :  21192.478460280694\n",
            "Epsilon:  0.16\n",
            "Seed Percentage : 88 Contamination:  0.06\n",
            "original_std :  14807.56935503196\n",
            "Epsilon:  0.57\n",
            "Seed Percentage : 88 Contamination:  0.06\n",
            "original_std :  0.0\n"
          ],
          "name": "stdout"
        },
        {
          "output_type": "stream",
          "text": [
            "/usr/local/lib/python3.6/dist-packages/sklearn/neighbors/lof.py:253: UserWarning: n_neighbors (20) is greater than the total number of samples (7). n_neighbors will be set to (n_samples - 1) for estimation.\n",
            "  % (self.n_neighbors, n_samples))\n"
          ],
          "name": "stderr"
        },
        {
          "output_type": "stream",
          "text": [
            "Epsilon:  0.5\n",
            "Seed Percentage : 88 Contamination:  0.06\n",
            "original_std :  0.0\n"
          ],
          "name": "stdout"
        },
        {
          "output_type": "stream",
          "text": [
            "/usr/local/lib/python3.6/dist-packages/sklearn/neighbors/lof.py:253: UserWarning: n_neighbors (20) is greater than the total number of samples (7). n_neighbors will be set to (n_samples - 1) for estimation.\n",
            "  % (self.n_neighbors, n_samples))\n"
          ],
          "name": "stderr"
        },
        {
          "output_type": "stream",
          "text": [
            "Epsilon:  0.5\n",
            "Seed Percentage : 88 Contamination:  0.06\n",
            "original_std :  318436.0896787243\n"
          ],
          "name": "stdout"
        },
        {
          "output_type": "stream",
          "text": [
            "/usr/local/lib/python3.6/dist-packages/sklearn/neighbors/lof.py:253: UserWarning: n_neighbors (20) is greater than the total number of samples (7). n_neighbors will be set to (n_samples - 1) for estimation.\n",
            "  % (self.n_neighbors, n_samples))\n"
          ],
          "name": "stderr"
        },
        {
          "output_type": "stream",
          "text": [
            "Epsilon:  0.321\n",
            "Seed Percentage : 88 Contamination:  0.06\n",
            "original_std :  800494.424777414\n"
          ],
          "name": "stdout"
        },
        {
          "output_type": "stream",
          "text": [
            "/usr/local/lib/python3.6/dist-packages/sklearn/neighbors/lof.py:253: UserWarning: n_neighbors (20) is greater than the total number of samples (18). n_neighbors will be set to (n_samples - 1) for estimation.\n",
            "  % (self.n_neighbors, n_samples))\n"
          ],
          "name": "stderr"
        },
        {
          "output_type": "stream",
          "text": [
            "Epsilon:  0.175\n",
            "Seed Percentage : 88 Contamination:  0.06\n",
            "original_std :  11455129.85522207\n",
            "Epsilon:  1.0\n",
            "Seed Percentage : 88 Contamination:  0.06\n",
            "original_std :  809144.2320327067\n"
          ],
          "name": "stdout"
        },
        {
          "output_type": "stream",
          "text": [
            "/usr/local/lib/python3.6/dist-packages/sklearn/neighbors/lof.py:253: UserWarning: n_neighbors (20) is greater than the total number of samples (9). n_neighbors will be set to (n_samples - 1) for estimation.\n",
            "  % (self.n_neighbors, n_samples))\n"
          ],
          "name": "stderr"
        },
        {
          "output_type": "stream",
          "text": [
            "Epsilon:  0.186\n",
            "Seed Percentage : 88 Contamination:  0.06\n",
            "original_std :  824242.0760917268\n",
            "Epsilon:  0.9\n",
            "Seed Percentage : 88 Contamination:  0.06\n",
            "original_std :  445749.0574552258\n"
          ],
          "name": "stdout"
        },
        {
          "output_type": "stream",
          "text": [
            "/usr/local/lib/python3.6/dist-packages/sklearn/neighbors/lof.py:253: UserWarning: n_neighbors (20) is greater than the total number of samples (8). n_neighbors will be set to (n_samples - 1) for estimation.\n",
            "  % (self.n_neighbors, n_samples))\n"
          ],
          "name": "stderr"
        },
        {
          "output_type": "stream",
          "text": [
            "Epsilon:  0.791\n",
            "Seed Percentage : 93 Contamination:  0.035\n",
            "original_std :  88850.6030974942\n"
          ],
          "name": "stdout"
        },
        {
          "output_type": "stream",
          "text": [
            "/usr/local/lib/python3.6/dist-packages/sklearn/neighbors/lof.py:253: UserWarning: n_neighbors (20) is greater than the total number of samples (15). n_neighbors will be set to (n_samples - 1) for estimation.\n",
            "  % (self.n_neighbors, n_samples))\n"
          ],
          "name": "stderr"
        },
        {
          "output_type": "stream",
          "text": [
            "Epsilon:  0.759\n",
            "Seed Percentage : 88 Contamination:  0.06\n",
            "original_std :  0.0\n",
            "Epsilon:  0.5\n",
            "Seed Percentage : 97 Contamination:  0.015\n",
            "original_std :  2693.613846778256\n"
          ],
          "name": "stdout"
        },
        {
          "output_type": "stream",
          "text": [
            "/usr/local/lib/python3.6/dist-packages/sklearn/neighbors/lof.py:253: UserWarning: n_neighbors (20) is greater than the total number of samples (11). n_neighbors will be set to (n_samples - 1) for estimation.\n",
            "  % (self.n_neighbors, n_samples))\n"
          ],
          "name": "stderr"
        },
        {
          "output_type": "stream",
          "text": [
            "Epsilon:  0.44\n",
            "Seed Percentage : 88 Contamination:  0.06\n",
            "original_std :  3116.57753883255\n",
            "Epsilon:  0.275\n",
            "Seed Percentage : 91 Contamination:  0.045\n",
            "original_std :  66163.45584798012\n",
            "Epsilon:  0.82\n",
            "Seed Percentage : 88 Contamination:  0.06\n",
            "original_std :  101785.27916921757\n",
            "Epsilon:  0.755\n",
            "Seed Percentage : 95 Contamination:  0.025\n",
            "original_std :  281449.31033085566\n"
          ],
          "name": "stdout"
        },
        {
          "output_type": "stream",
          "text": [
            "/usr/local/lib/python3.6/dist-packages/sklearn/neighbors/lof.py:253: UserWarning: n_neighbors (20) is greater than the total number of samples (12). n_neighbors will be set to (n_samples - 1) for estimation.\n",
            "  % (self.n_neighbors, n_samples))\n"
          ],
          "name": "stderr"
        },
        {
          "output_type": "stream",
          "text": [
            "Epsilon:  0.803\n",
            "Seed Percentage : 92 Contamination:  0.04\n",
            "original_std :  206265.6335131167\n",
            "Epsilon:  0.3\n",
            "Seed Percentage : 88 Contamination:  0.06\n",
            "original_std :  36698.46514161049\n",
            "Epsilon:  0.52\n",
            "Seed Percentage : 88 Contamination:  0.06\n",
            "original_std :  4478.342947514801\n"
          ],
          "name": "stdout"
        },
        {
          "output_type": "stream",
          "text": [
            "/usr/local/lib/python3.6/dist-packages/sklearn/neighbors/lof.py:253: UserWarning: n_neighbors (20) is greater than the total number of samples (16). n_neighbors will be set to (n_samples - 1) for estimation.\n",
            "  % (self.n_neighbors, n_samples))\n"
          ],
          "name": "stderr"
        },
        {
          "output_type": "stream",
          "text": [
            "Epsilon:  1.0\n",
            "Seed Percentage : 96 Contamination:  0.02\n",
            "original_std :  66991.8920354921\n"
          ],
          "name": "stdout"
        },
        {
          "output_type": "stream",
          "text": [
            "/usr/local/lib/python3.6/dist-packages/sklearn/neighbors/lof.py:253: UserWarning: n_neighbors (20) is greater than the total number of samples (6). n_neighbors will be set to (n_samples - 1) for estimation.\n",
            "  % (self.n_neighbors, n_samples))\n"
          ],
          "name": "stderr"
        },
        {
          "output_type": "stream",
          "text": [
            "Epsilon:  0.345\n",
            "Seed Percentage : 88 Contamination:  0.06\n",
            "original_std :  0.0\n",
            "Epsilon:  0.5\n",
            "Seed Percentage : 91 Contamination:  0.045\n",
            "original_std :  172720.54396035225\n"
          ],
          "name": "stdout"
        },
        {
          "output_type": "stream",
          "text": [
            "/usr/local/lib/python3.6/dist-packages/sklearn/neighbors/lof.py:253: UserWarning: n_neighbors (20) is greater than the total number of samples (8). n_neighbors will be set to (n_samples - 1) for estimation.\n",
            "  % (self.n_neighbors, n_samples))\n"
          ],
          "name": "stderr"
        },
        {
          "output_type": "stream",
          "text": [
            "Epsilon:  0.421\n",
            "Seed Percentage : 90 Contamination:  0.05\n",
            "original_std :  6.06913296937874\n",
            "Epsilon:  0.227\n",
            "Seed Percentage : 88 Contamination:  0.06\n",
            "original_std :  51.88629395129315\n",
            "Epsilon:  0.882\n",
            "Seed Percentage : 88 Contamination:  0.06\n",
            "original_std :  0.0\n"
          ],
          "name": "stdout"
        },
        {
          "output_type": "stream",
          "text": [
            "/usr/local/lib/python3.6/dist-packages/sklearn/neighbors/lof.py:253: UserWarning: n_neighbors (20) is greater than the total number of samples (16). n_neighbors will be set to (n_samples - 1) for estimation.\n",
            "  % (self.n_neighbors, n_samples))\n"
          ],
          "name": "stderr"
        },
        {
          "output_type": "stream",
          "text": [
            "Epsilon:  0.5\n",
            "Seed Percentage : 88 Contamination:  0.06\n",
            "original_std :  2699.045206273916\n"
          ],
          "name": "stdout"
        },
        {
          "output_type": "stream",
          "text": [
            "/usr/local/lib/python3.6/dist-packages/sklearn/neighbors/lof.py:253: UserWarning: n_neighbors (20) is greater than the total number of samples (6). n_neighbors will be set to (n_samples - 1) for estimation.\n",
            "  % (self.n_neighbors, n_samples))\n"
          ],
          "name": "stderr"
        },
        {
          "output_type": "stream",
          "text": [
            "Epsilon:  0.83\n",
            "Seed Percentage : 88 Contamination:  0.06\n",
            "original_std :  51.528511525174096\n"
          ],
          "name": "stdout"
        },
        {
          "output_type": "stream",
          "text": [
            "/usr/local/lib/python3.6/dist-packages/sklearn/neighbors/lof.py:253: UserWarning: n_neighbors (20) is greater than the total number of samples (14). n_neighbors will be set to (n_samples - 1) for estimation.\n",
            "  % (self.n_neighbors, n_samples))\n"
          ],
          "name": "stderr"
        },
        {
          "output_type": "stream",
          "text": [
            "Epsilon:  1.0\n",
            "Seed Percentage : 88 Contamination:  0.06\n",
            "original_std :  1982.1021106643323\n"
          ],
          "name": "stdout"
        },
        {
          "output_type": "stream",
          "text": [
            "/usr/local/lib/python3.6/dist-packages/sklearn/neighbors/lof.py:253: UserWarning: n_neighbors (20) is greater than the total number of samples (8). n_neighbors will be set to (n_samples - 1) for estimation.\n",
            "  % (self.n_neighbors, n_samples))\n"
          ],
          "name": "stderr"
        },
        {
          "output_type": "stream",
          "text": [
            "Epsilon:  0.468\n",
            "Seed Percentage : 88 Contamination:  0.06\n",
            "original_std :  1127.8067480476557\n",
            "Epsilon:  0.736\n",
            "Seed Percentage : 88 Contamination:  0.06\n",
            "original_std :  9314.524781266431\n"
          ],
          "name": "stdout"
        },
        {
          "output_type": "stream",
          "text": [
            "/usr/local/lib/python3.6/dist-packages/sklearn/neighbors/lof.py:253: UserWarning: n_neighbors (20) is greater than the total number of samples (19). n_neighbors will be set to (n_samples - 1) for estimation.\n",
            "  % (self.n_neighbors, n_samples))\n"
          ],
          "name": "stderr"
        },
        {
          "output_type": "stream",
          "text": [
            "Epsilon:  1.0\n",
            "Seed Percentage : 91 Contamination:  0.045\n",
            "original_std :  8683.98488540215\n"
          ],
          "name": "stdout"
        },
        {
          "output_type": "stream",
          "text": [
            "/usr/local/lib/python3.6/dist-packages/sklearn/neighbors/lof.py:253: UserWarning: n_neighbors (20) is greater than the total number of samples (11). n_neighbors will be set to (n_samples - 1) for estimation.\n",
            "  % (self.n_neighbors, n_samples))\n"
          ],
          "name": "stderr"
        },
        {
          "output_type": "stream",
          "text": [
            "Epsilon:  0.486\n",
            "Seed Percentage : 88 Contamination:  0.06\n",
            "original_std :  0.0\n",
            "Epsilon:  0.5\n",
            "Seed Percentage : 88 Contamination:  0.06\n",
            "original_std :  74684.68141669755\n"
          ],
          "name": "stdout"
        },
        {
          "output_type": "stream",
          "text": [
            "/usr/local/lib/python3.6/dist-packages/sklearn/neighbors/lof.py:253: UserWarning: n_neighbors (20) is greater than the total number of samples (7). n_neighbors will be set to (n_samples - 1) for estimation.\n",
            "  % (self.n_neighbors, n_samples))\n"
          ],
          "name": "stderr"
        },
        {
          "output_type": "stream",
          "text": [
            "Epsilon:  0.596\n",
            "Seed Percentage : 88 Contamination:  0.06\n",
            "original_std :  45.564509955381375\n",
            "Epsilon:  1.0\n",
            "Seed Percentage : 88 Contamination:  0.06\n",
            "original_std :  0.0\n"
          ],
          "name": "stdout"
        },
        {
          "output_type": "stream",
          "text": [
            "/usr/local/lib/python3.6/dist-packages/sklearn/neighbors/lof.py:253: UserWarning: n_neighbors (20) is greater than the total number of samples (17). n_neighbors will be set to (n_samples - 1) for estimation.\n",
            "  % (self.n_neighbors, n_samples))\n"
          ],
          "name": "stderr"
        },
        {
          "output_type": "stream",
          "text": [
            "Epsilon:  0.5\n",
            "Seed Percentage : 91 Contamination:  0.045\n",
            "original_std :  1214.124891624538\n"
          ],
          "name": "stdout"
        },
        {
          "output_type": "stream",
          "text": [
            "/usr/local/lib/python3.6/dist-packages/sklearn/neighbors/lof.py:253: UserWarning: n_neighbors (20) is greater than the total number of samples (11). n_neighbors will be set to (n_samples - 1) for estimation.\n",
            "  % (self.n_neighbors, n_samples))\n"
          ],
          "name": "stderr"
        },
        {
          "output_type": "stream",
          "text": [
            "Epsilon:  0.63\n",
            "Seed Percentage : 88 Contamination:  0.06\n",
            "original_std :  17665.729893053413\n",
            "Epsilon:  0.986\n",
            "Seed Percentage : 96 Contamination:  0.02\n",
            "original_std :  307.9069484748952\n"
          ],
          "name": "stdout"
        },
        {
          "output_type": "stream",
          "text": [
            "/usr/local/lib/python3.6/dist-packages/sklearn/neighbors/lof.py:253: UserWarning: n_neighbors (20) is greater than the total number of samples (18). n_neighbors will be set to (n_samples - 1) for estimation.\n",
            "  % (self.n_neighbors, n_samples))\n"
          ],
          "name": "stderr"
        },
        {
          "output_type": "stream",
          "text": [
            "Epsilon:  0.38\n",
            "Seed Percentage : 88 Contamination:  0.06\n",
            "original_std :  1128.8126409617594\n",
            "Epsilon:  0.893\n",
            "Seed Percentage : 88 Contamination:  0.06\n",
            "original_std :  248.75558052629736\n"
          ],
          "name": "stdout"
        },
        {
          "output_type": "stream",
          "text": [
            "/usr/local/lib/python3.6/dist-packages/sklearn/neighbors/lof.py:253: UserWarning: n_neighbors (20) is greater than the total number of samples (18). n_neighbors will be set to (n_samples - 1) for estimation.\n",
            "  % (self.n_neighbors, n_samples))\n"
          ],
          "name": "stderr"
        },
        {
          "output_type": "stream",
          "text": [
            "Epsilon:  0.484\n",
            "Seed Percentage : 88 Contamination:  0.06\n",
            "original_std :  0.0\n",
            "Epsilon:  0.5\n",
            "Seed Percentage : 87 Contamination:  0.065\n",
            "original_std :  1881.2772201429927\n"
          ],
          "name": "stdout"
        },
        {
          "output_type": "stream",
          "text": [
            "/usr/local/lib/python3.6/dist-packages/sklearn/neighbors/lof.py:253: UserWarning: n_neighbors (20) is greater than the total number of samples (15). n_neighbors will be set to (n_samples - 1) for estimation.\n",
            "  % (self.n_neighbors, n_samples))\n"
          ],
          "name": "stderr"
        },
        {
          "output_type": "stream",
          "text": [
            "Epsilon:  0.467\n",
            "Seed Percentage : 88 Contamination:  0.06\n",
            "original_std :  212.36342635225824\n",
            "Epsilon:  0.324\n",
            "Seed Percentage : 96 Contamination:  0.02\n",
            "original_std :  290.0160177894015\n",
            "Epsilon:  0.596\n",
            "Seed Percentage : 88 Contamination:  0.06\n",
            "original_std :  2038.1313104788721\n",
            "Epsilon:  0.509\n",
            "Seed Percentage : 88 Contamination:  0.06\n",
            "original_std :  293.4564135722146\n"
          ],
          "name": "stdout"
        },
        {
          "output_type": "stream",
          "text": [
            "/usr/local/lib/python3.6/dist-packages/sklearn/neighbors/lof.py:253: UserWarning: n_neighbors (20) is greater than the total number of samples (17). n_neighbors will be set to (n_samples - 1) for estimation.\n",
            "  % (self.n_neighbors, n_samples))\n"
          ],
          "name": "stderr"
        },
        {
          "output_type": "stream",
          "text": [
            "Epsilon:  0.992\n",
            "Seed Percentage : 88 Contamination:  0.06\n",
            "original_std :  596.5711548986783\n"
          ],
          "name": "stdout"
        },
        {
          "output_type": "stream",
          "text": [
            "/usr/local/lib/python3.6/dist-packages/sklearn/neighbors/lof.py:253: UserWarning: n_neighbors (20) is greater than the total number of samples (6). n_neighbors will be set to (n_samples - 1) for estimation.\n",
            "  % (self.n_neighbors, n_samples))\n"
          ],
          "name": "stderr"
        },
        {
          "output_type": "stream",
          "text": [
            "Epsilon:  0.317\n",
            "Seed Percentage : 88 Contamination:  0.06\n",
            "original_std :  498.7176291610163\n",
            "Epsilon:  0.48\n",
            "Seed Percentage : 92 Contamination:  0.04\n",
            "original_std :  407.6756901214153\n",
            "Epsilon:  0.47\n",
            "Seed Percentage : 92 Contamination:  0.04\n",
            "original_std :  186.23005303403966\n",
            "Epsilon:  0.271\n",
            "Seed Percentage : 87 Contamination:  0.065\n",
            "original_std :  2939.03401109401\n",
            "Epsilon:  0.313\n",
            "Seed Percentage : 88 Contamination:  0.06\n",
            "original_std :  217.25924793401649\n",
            "Epsilon:  0.425\n",
            "Seed Percentage : 88 Contamination:  0.06\n",
            "original_std :  88.13433439729366\n",
            "Epsilon:  0.677\n",
            "Seed Percentage : 88 Contamination:  0.06\n",
            "original_std :  24.8746859276655\n"
          ],
          "name": "stdout"
        },
        {
          "output_type": "stream",
          "text": [
            "/usr/local/lib/python3.6/dist-packages/sklearn/neighbors/lof.py:253: UserWarning: n_neighbors (20) is greater than the total number of samples (17). n_neighbors will be set to (n_samples - 1) for estimation.\n",
            "  % (self.n_neighbors, n_samples))\n"
          ],
          "name": "stderr"
        },
        {
          "output_type": "stream",
          "text": [
            "Epsilon:  0.571\n",
            "Seed Percentage : 88 Contamination:  0.06\n",
            "original_std :  721.568539381252\n"
          ],
          "name": "stdout"
        },
        {
          "output_type": "stream",
          "text": [
            "/usr/local/lib/python3.6/dist-packages/sklearn/neighbors/lof.py:253: UserWarning: n_neighbors (20) is greater than the total number of samples (8). n_neighbors will be set to (n_samples - 1) for estimation.\n",
            "  % (self.n_neighbors, n_samples))\n"
          ],
          "name": "stderr"
        },
        {
          "output_type": "stream",
          "text": [
            "Epsilon:  1.0\n",
            "Seed Percentage : 88 Contamination:  0.06\n",
            "original_std :  0.0\n"
          ],
          "name": "stdout"
        },
        {
          "output_type": "stream",
          "text": [
            "/usr/local/lib/python3.6/dist-packages/sklearn/neighbors/lof.py:253: UserWarning: n_neighbors (20) is greater than the total number of samples (11). n_neighbors will be set to (n_samples - 1) for estimation.\n",
            "  % (self.n_neighbors, n_samples))\n"
          ],
          "name": "stderr"
        },
        {
          "output_type": "stream",
          "text": [
            "Epsilon:  0.5\n",
            "Seed Percentage : 91 Contamination:  0.045\n",
            "original_std :  7427.339448793698\n"
          ],
          "name": "stdout"
        },
        {
          "output_type": "stream",
          "text": [
            "/usr/local/lib/python3.6/dist-packages/sklearn/neighbors/lof.py:253: UserWarning: n_neighbors (20) is greater than the total number of samples (9). n_neighbors will be set to (n_samples - 1) for estimation.\n",
            "  % (self.n_neighbors, n_samples))\n"
          ],
          "name": "stderr"
        },
        {
          "output_type": "stream",
          "text": [
            "Epsilon:  0.327\n",
            "Seed Percentage : 88 Contamination:  0.06\n",
            "original_std :  2545.8132583081747\n",
            "Epsilon:  0.299\n",
            "Seed Percentage : 88 Contamination:  0.06\n",
            "original_std :  569730.0157142725\n",
            "Epsilon:  0.282\n",
            "Seed Percentage : 88 Contamination:  0.06\n",
            "original_std :  679696.3579792962\n",
            "Epsilon:  0.156\n",
            "Seed Percentage : 88 Contamination:  0.06\n",
            "original_std :  565320.8307884613\n",
            "Epsilon:  0.299\n",
            "Seed Percentage : 91 Contamination:  0.045\n",
            "original_std :  3431299.3098225254\n",
            "Epsilon:  0.759\n",
            "Seed Percentage : 88 Contamination:  0.06\n",
            "original_std :  2834.9751321660656\n",
            "Epsilon:  0.222\n",
            "Seed Percentage : 88 Contamination:  0.06\n",
            "original_std :  325.32035493238556\n",
            "Epsilon:  0.5\n",
            "Seed Percentage : 88 Contamination:  0.06\n",
            "original_std :  2969.2299558323607\n"
          ],
          "name": "stdout"
        },
        {
          "output_type": "stream",
          "text": [
            "/usr/local/lib/python3.6/dist-packages/sklearn/neighbors/lof.py:253: UserWarning: n_neighbors (20) is greater than the total number of samples (6). n_neighbors will be set to (n_samples - 1) for estimation.\n",
            "  % (self.n_neighbors, n_samples))\n"
          ],
          "name": "stderr"
        },
        {
          "output_type": "stream",
          "text": [
            "Epsilon:  1.0\n",
            "Seed Percentage : 88 Contamination:  0.06\n",
            "original_std :  79059.40408958317\n"
          ],
          "name": "stdout"
        },
        {
          "output_type": "stream",
          "text": [
            "/usr/local/lib/python3.6/dist-packages/sklearn/neighbors/lof.py:253: UserWarning: n_neighbors (20) is greater than the total number of samples (7). n_neighbors will be set to (n_samples - 1) for estimation.\n",
            "  % (self.n_neighbors, n_samples))\n"
          ],
          "name": "stderr"
        },
        {
          "output_type": "stream",
          "text": [
            "Epsilon:  0.465\n",
            "Seed Percentage : 90 Contamination:  0.05\n",
            "original_std :  261309.92453611735\n"
          ],
          "name": "stdout"
        },
        {
          "output_type": "stream",
          "text": [
            "/usr/local/lib/python3.6/dist-packages/sklearn/neighbors/lof.py:253: UserWarning: n_neighbors (20) is greater than the total number of samples (8). n_neighbors will be set to (n_samples - 1) for estimation.\n",
            "  % (self.n_neighbors, n_samples))\n"
          ],
          "name": "stderr"
        },
        {
          "output_type": "stream",
          "text": [
            "Epsilon:  0.292\n",
            "Seed Percentage : 97 Contamination:  0.015\n",
            "original_std :  166074.4713201911\n",
            "Epsilon:  0.333\n",
            "Seed Percentage : 87 Contamination:  0.065\n",
            "original_std :  8233.53503187384\n",
            "Epsilon:  0.904\n",
            "Seed Percentage : 89 Contamination:  0.055\n",
            "original_std :  128.31369541920677\n",
            "Epsilon:  0.505\n",
            "Seed Percentage : 88 Contamination:  0.06\n",
            "original_std :  82.96011873315477\n"
          ],
          "name": "stdout"
        },
        {
          "output_type": "stream",
          "text": [
            "/usr/local/lib/python3.6/dist-packages/sklearn/neighbors/lof.py:253: UserWarning: n_neighbors (20) is greater than the total number of samples (19). n_neighbors will be set to (n_samples - 1) for estimation.\n",
            "  % (self.n_neighbors, n_samples))\n"
          ],
          "name": "stderr"
        },
        {
          "output_type": "stream",
          "text": [
            "Epsilon:  0.891\n",
            "Seed Percentage : 88 Contamination:  0.06\n",
            "original_std :  78.48527310513316\n",
            "Epsilon:  0.404\n",
            "Seed Percentage : 88 Contamination:  0.06\n",
            "original_std :  29.227080289043965\n",
            "Epsilon:  1.0\n",
            "Seed Percentage : 88 Contamination:  0.06\n",
            "original_std :  3162.2299029614646\n"
          ],
          "name": "stdout"
        },
        {
          "output_type": "stream",
          "text": [
            "/usr/local/lib/python3.6/dist-packages/sklearn/neighbors/lof.py:253: UserWarning: n_neighbors (20) is greater than the total number of samples (6). n_neighbors will be set to (n_samples - 1) for estimation.\n",
            "  % (self.n_neighbors, n_samples))\n"
          ],
          "name": "stderr"
        },
        {
          "output_type": "stream",
          "text": [
            "Epsilon:  1.0\n",
            "Seed Percentage : 88 Contamination:  0.06\n",
            "original_std :  234.76734675118627\n"
          ],
          "name": "stdout"
        },
        {
          "output_type": "stream",
          "text": [
            "/usr/local/lib/python3.6/dist-packages/sklearn/neighbors/lof.py:253: UserWarning: n_neighbors (20) is greater than the total number of samples (7). n_neighbors will be set to (n_samples - 1) for estimation.\n",
            "  % (self.n_neighbors, n_samples))\n"
          ],
          "name": "stderr"
        },
        {
          "output_type": "stream",
          "text": [
            "Epsilon:  0.897\n",
            "Seed Percentage : 86 Contamination:  0.07\n",
            "original_std :  204100.49767228297\n"
          ],
          "name": "stdout"
        },
        {
          "output_type": "stream",
          "text": [
            "/usr/local/lib/python3.6/dist-packages/sklearn/neighbors/lof.py:253: UserWarning: n_neighbors (20) is greater than the total number of samples (13). n_neighbors will be set to (n_samples - 1) for estimation.\n",
            "  % (self.n_neighbors, n_samples))\n"
          ],
          "name": "stderr"
        },
        {
          "output_type": "stream",
          "text": [
            "Epsilon:  0.48\n",
            "Seed Percentage : 88 Contamination:  0.06\n",
            "original_std :  101706.23563649842\n",
            "Epsilon:  0.694\n",
            "Seed Percentage : 88 Contamination:  0.06\n",
            "original_std :  81428.25062593448\n",
            "Epsilon:  0.771\n",
            "Seed Percentage : 88 Contamination:  0.06\n",
            "original_std :  257864.4656493564\n"
          ],
          "name": "stdout"
        },
        {
          "output_type": "stream",
          "text": [
            "/usr/local/lib/python3.6/dist-packages/sklearn/neighbors/lof.py:253: UserWarning: n_neighbors (20) is greater than the total number of samples (15). n_neighbors will be set to (n_samples - 1) for estimation.\n",
            "  % (self.n_neighbors, n_samples))\n"
          ],
          "name": "stderr"
        },
        {
          "output_type": "stream",
          "text": [
            "Epsilon:  1.0\n",
            "Seed Percentage : 90 Contamination:  0.05\n",
            "original_std :  1563687.583097726\n"
          ],
          "name": "stdout"
        },
        {
          "output_type": "stream",
          "text": [
            "/usr/local/lib/python3.6/dist-packages/sklearn/neighbors/lof.py:253: UserWarning: n_neighbors (20) is greater than the total number of samples (11). n_neighbors will be set to (n_samples - 1) for estimation.\n",
            "  % (self.n_neighbors, n_samples))\n"
          ],
          "name": "stderr"
        },
        {
          "output_type": "stream",
          "text": [
            "Epsilon:  0.5\n",
            "Seed Percentage : 88 Contamination:  0.06\n",
            "original_std :  4442448.225594394\n",
            "Epsilon:  0.814\n",
            "Seed Percentage : 95 Contamination:  0.025\n",
            "original_std :  210394.41153880843\n",
            "Epsilon:  0.801\n",
            "Seed Percentage : 88 Contamination:  0.06\n",
            "original_std :  73469.99051431027\n",
            "Epsilon:  0.8\n",
            "Seed Percentage : 88 Contamination:  0.06\n",
            "original_std :  118442.4427513126\n"
          ],
          "name": "stdout"
        },
        {
          "output_type": "stream",
          "text": [
            "/usr/local/lib/python3.6/dist-packages/sklearn/neighbors/lof.py:253: UserWarning: n_neighbors (20) is greater than the total number of samples (9). n_neighbors will be set to (n_samples - 1) for estimation.\n",
            "  % (self.n_neighbors, n_samples))\n"
          ],
          "name": "stderr"
        },
        {
          "output_type": "stream",
          "text": [
            "Epsilon:  0.87\n",
            "Seed Percentage : 88 Contamination:  0.06\n",
            "original_std :  33229.315063926566\n",
            "Epsilon:  0.357\n",
            "Seed Percentage : 88 Contamination:  0.06\n",
            "original_std :  535.4126134736337\n",
            "Epsilon:  0.615\n",
            "Seed Percentage : 88 Contamination:  0.06\n",
            "original_std :  15300.462348896519\n"
          ],
          "name": "stdout"
        },
        {
          "output_type": "stream",
          "text": [
            "/usr/local/lib/python3.6/dist-packages/sklearn/neighbors/lof.py:253: UserWarning: n_neighbors (20) is greater than the total number of samples (9). n_neighbors will be set to (n_samples - 1) for estimation.\n",
            "  % (self.n_neighbors, n_samples))\n"
          ],
          "name": "stderr"
        },
        {
          "output_type": "stream",
          "text": [
            "Epsilon:  0.708\n",
            "Seed Percentage : 88 Contamination:  0.06\n",
            "original_std :  32144.206320890862\n"
          ],
          "name": "stdout"
        },
        {
          "output_type": "stream",
          "text": [
            "/usr/local/lib/python3.6/dist-packages/sklearn/neighbors/lof.py:253: UserWarning: n_neighbors (20) is greater than the total number of samples (10). n_neighbors will be set to (n_samples - 1) for estimation.\n",
            "  % (self.n_neighbors, n_samples))\n"
          ],
          "name": "stderr"
        },
        {
          "output_type": "stream",
          "text": [
            "Epsilon:  0.638\n",
            "Seed Percentage : 93 Contamination:  0.035\n",
            "original_std :  244160.219541828\n"
          ],
          "name": "stdout"
        },
        {
          "output_type": "stream",
          "text": [
            "/usr/local/lib/python3.6/dist-packages/sklearn/neighbors/lof.py:253: UserWarning: n_neighbors (20) is greater than the total number of samples (6). n_neighbors will be set to (n_samples - 1) for estimation.\n",
            "  % (self.n_neighbors, n_samples))\n"
          ],
          "name": "stderr"
        },
        {
          "output_type": "stream",
          "text": [
            "Epsilon:  0.667\n",
            "Seed Percentage : 88 Contamination:  0.06\n",
            "original_std :  63121.05873284728\n",
            "Epsilon:  0.537\n",
            "Seed Percentage : 95 Contamination:  0.025\n",
            "original_std :  100672.38864830158\n"
          ],
          "name": "stdout"
        },
        {
          "output_type": "stream",
          "text": [
            "/usr/local/lib/python3.6/dist-packages/sklearn/neighbors/lof.py:253: UserWarning: n_neighbors (20) is greater than the total number of samples (6). n_neighbors will be set to (n_samples - 1) for estimation.\n",
            "  % (self.n_neighbors, n_samples))\n"
          ],
          "name": "stderr"
        },
        {
          "output_type": "stream",
          "text": [
            "Epsilon:  0.255\n",
            "Seed Percentage : 88 Contamination:  0.06\n",
            "original_std :  0.0\n",
            "Epsilon:  0.5\n",
            "Seed Percentage : 88 Contamination:  0.06\n",
            "original_std :  275.5\n"
          ],
          "name": "stdout"
        },
        {
          "output_type": "stream",
          "text": [
            "/usr/local/lib/python3.6/dist-packages/sklearn/neighbors/lof.py:253: UserWarning: n_neighbors (20) is greater than the total number of samples (10). n_neighbors will be set to (n_samples - 1) for estimation.\n",
            "  % (self.n_neighbors, n_samples))\n"
          ],
          "name": "stderr"
        },
        {
          "output_type": "stream",
          "text": [
            "Epsilon:  1.0\n",
            "Seed Percentage : 88 Contamination:  0.06\n",
            "original_std :  0.0\n"
          ],
          "name": "stdout"
        },
        {
          "output_type": "stream",
          "text": [
            "/usr/local/lib/python3.6/dist-packages/sklearn/neighbors/lof.py:253: UserWarning: n_neighbors (20) is greater than the total number of samples (12). n_neighbors will be set to (n_samples - 1) for estimation.\n",
            "  % (self.n_neighbors, n_samples))\n"
          ],
          "name": "stderr"
        },
        {
          "output_type": "stream",
          "text": [
            "Epsilon:  0.5\n",
            "Seed Percentage : 88 Contamination:  0.06\n",
            "original_std :  0.0\n",
            "Epsilon:  0.5\n",
            "Seed Percentage : 88 Contamination:  0.06\n",
            "original_std :  17234.775890623005\n"
          ],
          "name": "stdout"
        },
        {
          "output_type": "stream",
          "text": [
            "/usr/local/lib/python3.6/dist-packages/sklearn/neighbors/lof.py:253: UserWarning: n_neighbors (20) is greater than the total number of samples (16). n_neighbors will be set to (n_samples - 1) for estimation.\n",
            "  % (self.n_neighbors, n_samples))\n"
          ],
          "name": "stderr"
        },
        {
          "output_type": "stream",
          "text": [
            "Epsilon:  1.0\n",
            "Seed Percentage : 88 Contamination:  0.06\n",
            "original_std :  30.0\n"
          ],
          "name": "stdout"
        },
        {
          "output_type": "stream",
          "text": [
            "/usr/local/lib/python3.6/dist-packages/sklearn/neighbors/lof.py:253: UserWarning: n_neighbors (20) is greater than the total number of samples (16). n_neighbors will be set to (n_samples - 1) for estimation.\n",
            "  % (self.n_neighbors, n_samples))\n"
          ],
          "name": "stderr"
        },
        {
          "output_type": "stream",
          "text": [
            "Epsilon:  1.0\n",
            "Seed Percentage : 95 Contamination:  0.025\n",
            "original_std :  288.8153880376649\n"
          ],
          "name": "stdout"
        },
        {
          "output_type": "stream",
          "text": [
            "/usr/local/lib/python3.6/dist-packages/sklearn/neighbors/lof.py:253: UserWarning: n_neighbors (20) is greater than the total number of samples (12). n_neighbors will be set to (n_samples - 1) for estimation.\n",
            "  % (self.n_neighbors, n_samples))\n"
          ],
          "name": "stderr"
        },
        {
          "output_type": "stream",
          "text": [
            "Epsilon:  0.549\n",
            "Seed Percentage : 90 Contamination:  0.05\n",
            "original_std :  4584.076379162982\n",
            "Epsilon:  0.69\n",
            "Seed Percentage : 90 Contamination:  0.05\n",
            "original_std :  405.744993807687\n",
            "Epsilon:  0.728\n",
            "Seed Percentage : 88 Contamination:  0.06\n",
            "original_std :  84.16620828624723\n"
          ],
          "name": "stdout"
        },
        {
          "output_type": "stream",
          "text": [
            "/usr/local/lib/python3.6/dist-packages/sklearn/neighbors/lof.py:253: UserWarning: n_neighbors (20) is greater than the total number of samples (10). n_neighbors will be set to (n_samples - 1) for estimation.\n",
            "  % (self.n_neighbors, n_samples))\n"
          ],
          "name": "stderr"
        },
        {
          "output_type": "stream",
          "text": [
            "Epsilon:  0.425\n",
            "Seed Percentage : 88 Contamination:  0.06\n",
            "original_std :  1172.6497886759373\n"
          ],
          "name": "stdout"
        },
        {
          "output_type": "stream",
          "text": [
            "/usr/local/lib/python3.6/dist-packages/sklearn/neighbors/lof.py:253: UserWarning: n_neighbors (20) is greater than the total number of samples (9). n_neighbors will be set to (n_samples - 1) for estimation.\n",
            "  % (self.n_neighbors, n_samples))\n"
          ],
          "name": "stderr"
        },
        {
          "output_type": "stream",
          "text": [
            "Epsilon:  0.185\n",
            "Seed Percentage : 91 Contamination:  0.045\n",
            "original_std :  102615.90281779482\n",
            "Epsilon:  0.982\n",
            "Seed Percentage : 88 Contamination:  0.06\n",
            "original_std :  68147.1900093675\n",
            "Epsilon:  0.535\n",
            "Seed Percentage : 88 Contamination:  0.06\n",
            "original_std :  4210.741378902295\n"
          ],
          "name": "stdout"
        },
        {
          "output_type": "stream",
          "text": [
            "/usr/local/lib/python3.6/dist-packages/sklearn/neighbors/lof.py:253: UserWarning: n_neighbors (20) is greater than the total number of samples (9). n_neighbors will be set to (n_samples - 1) for estimation.\n",
            "  % (self.n_neighbors, n_samples))\n"
          ],
          "name": "stderr"
        },
        {
          "output_type": "stream",
          "text": [
            "Epsilon:  0.669\n",
            "Seed Percentage : 88 Contamination:  0.06\n",
            "original_std :  191.7560353976346\n"
          ],
          "name": "stdout"
        },
        {
          "output_type": "stream",
          "text": [
            "/usr/local/lib/python3.6/dist-packages/sklearn/neighbors/lof.py:253: UserWarning: n_neighbors (20) is greater than the total number of samples (10). n_neighbors will be set to (n_samples - 1) for estimation.\n",
            "  % (self.n_neighbors, n_samples))\n"
          ],
          "name": "stderr"
        },
        {
          "output_type": "stream",
          "text": [
            "Epsilon:  0.358\n",
            "Seed Percentage : 91 Contamination:  0.045\n",
            "original_std :  12826.768129373775\n",
            "Epsilon:  0.384\n",
            "Seed Percentage : 88 Contamination:  0.06\n",
            "original_std :  1826.360804162816\n",
            "Epsilon:  0.919\n",
            "Seed Percentage : 88 Contamination:  0.06\n",
            "original_std :  5248.148144238837\n"
          ],
          "name": "stdout"
        },
        {
          "output_type": "stream",
          "text": [
            "/usr/local/lib/python3.6/dist-packages/sklearn/neighbors/lof.py:253: UserWarning: n_neighbors (20) is greater than the total number of samples (13). n_neighbors will be set to (n_samples - 1) for estimation.\n",
            "  % (self.n_neighbors, n_samples))\n"
          ],
          "name": "stderr"
        },
        {
          "output_type": "stream",
          "text": [
            "Epsilon:  0.469\n",
            "Seed Percentage : 88 Contamination:  0.06\n",
            "original_std :  595.6474782682682\n"
          ],
          "name": "stdout"
        },
        {
          "output_type": "stream",
          "text": [
            "/usr/local/lib/python3.6/dist-packages/sklearn/neighbors/lof.py:253: UserWarning: n_neighbors (20) is greater than the total number of samples (14). n_neighbors will be set to (n_samples - 1) for estimation.\n",
            "  % (self.n_neighbors, n_samples))\n"
          ],
          "name": "stderr"
        },
        {
          "output_type": "stream",
          "text": [
            "Epsilon:  0.903\n",
            "Seed Percentage : 88 Contamination:  0.06\n",
            "original_std :  2259.0686816902557\n"
          ],
          "name": "stdout"
        },
        {
          "output_type": "stream",
          "text": [
            "/usr/local/lib/python3.6/dist-packages/sklearn/neighbors/lof.py:253: UserWarning: n_neighbors (20) is greater than the total number of samples (14). n_neighbors will be set to (n_samples - 1) for estimation.\n",
            "  % (self.n_neighbors, n_samples))\n"
          ],
          "name": "stderr"
        },
        {
          "output_type": "stream",
          "text": [
            "Epsilon:  0.737\n",
            "Seed Percentage : 88 Contamination:  0.06\n",
            "original_std :  5475.592533519793\n",
            "Epsilon:  0.204\n",
            "Seed Percentage : 88 Contamination:  0.06\n",
            "original_std :  5177.408189003022\n",
            "Epsilon:  0.643\n",
            "Seed Percentage : 95 Contamination:  0.025\n",
            "original_std :  1534.222092498844\n"
          ],
          "name": "stdout"
        },
        {
          "output_type": "stream",
          "text": [
            "/usr/local/lib/python3.6/dist-packages/sklearn/neighbors/lof.py:253: UserWarning: n_neighbors (20) is greater than the total number of samples (6). n_neighbors will be set to (n_samples - 1) for estimation.\n",
            "  % (self.n_neighbors, n_samples))\n"
          ],
          "name": "stderr"
        },
        {
          "output_type": "stream",
          "text": [
            "Epsilon:  0.411\n",
            "Seed Percentage : 88 Contamination:  0.06\n",
            "original_std :  2182.80746688754\n",
            "Epsilon:  0.143\n",
            "Seed Percentage : 88 Contamination:  0.06\n",
            "original_std :  116161.1172310226\n",
            "Epsilon:  0.877\n",
            "Seed Percentage : 88 Contamination:  0.06\n",
            "original_std :  24817.957903154696\n"
          ],
          "name": "stdout"
        },
        {
          "output_type": "stream",
          "text": [
            "/usr/local/lib/python3.6/dist-packages/sklearn/neighbors/lof.py:253: UserWarning: n_neighbors (20) is greater than the total number of samples (16). n_neighbors will be set to (n_samples - 1) for estimation.\n",
            "  % (self.n_neighbors, n_samples))\n"
          ],
          "name": "stderr"
        },
        {
          "output_type": "stream",
          "text": [
            "Epsilon:  0.5\n",
            "Seed Percentage : 88 Contamination:  0.06\n",
            "original_std :  2000.0\n",
            "Epsilon:  1.0\n",
            "Seed Percentage : 88 Contamination:  0.06\n",
            "original_std :  12772.766490557715\n"
          ],
          "name": "stdout"
        },
        {
          "output_type": "stream",
          "text": [
            "/usr/local/lib/python3.6/dist-packages/sklearn/neighbors/lof.py:253: UserWarning: n_neighbors (20) is greater than the total number of samples (15). n_neighbors will be set to (n_samples - 1) for estimation.\n",
            "  % (self.n_neighbors, n_samples))\n"
          ],
          "name": "stderr"
        },
        {
          "output_type": "stream",
          "text": [
            "Epsilon:  0.587\n",
            "Seed Percentage : 88 Contamination:  0.06\n",
            "original_std :  347826.7548192441\n"
          ],
          "name": "stdout"
        },
        {
          "output_type": "stream",
          "text": [
            "/usr/local/lib/python3.6/dist-packages/sklearn/neighbors/lof.py:253: UserWarning: n_neighbors (20) is greater than the total number of samples (11). n_neighbors will be set to (n_samples - 1) for estimation.\n",
            "  % (self.n_neighbors, n_samples))\n"
          ],
          "name": "stderr"
        },
        {
          "output_type": "stream",
          "text": [
            "Epsilon:  0.337\n",
            "Seed Percentage : 88 Contamination:  0.06\n",
            "original_std :  243817.3611537948\n",
            "Epsilon:  0.696\n",
            "Seed Percentage : 91 Contamination:  0.045\n",
            "original_std :  128897.54221430635\n",
            "Epsilon:  0.523\n",
            "Seed Percentage : 88 Contamination:  0.06\n",
            "original_std :  0.0\n"
          ],
          "name": "stdout"
        },
        {
          "output_type": "stream",
          "text": [
            "/usr/local/lib/python3.6/dist-packages/sklearn/neighbors/lof.py:253: UserWarning: n_neighbors (20) is greater than the total number of samples (12). n_neighbors will be set to (n_samples - 1) for estimation.\n",
            "  % (self.n_neighbors, n_samples))\n"
          ],
          "name": "stderr"
        },
        {
          "output_type": "stream",
          "text": [
            "Epsilon:  0.5\n",
            "Seed Percentage : 97 Contamination:  0.015\n",
            "original_std :  78.36069264218591\n"
          ],
          "name": "stdout"
        },
        {
          "output_type": "stream",
          "text": [
            "/usr/local/lib/python3.6/dist-packages/sklearn/neighbors/lof.py:253: UserWarning: n_neighbors (20) is greater than the total number of samples (9). n_neighbors will be set to (n_samples - 1) for estimation.\n",
            "  % (self.n_neighbors, n_samples))\n"
          ],
          "name": "stderr"
        },
        {
          "output_type": "stream",
          "text": [
            "Epsilon:  0.333\n",
            "Seed Percentage : 88 Contamination:  0.06\n",
            "original_std :  0.0\n",
            "Epsilon:  0.5\n",
            "Seed Percentage : 88 Contamination:  0.06\n",
            "original_std :  0.0\n"
          ],
          "name": "stdout"
        },
        {
          "output_type": "stream",
          "text": [
            "/usr/local/lib/python3.6/dist-packages/sklearn/neighbors/lof.py:253: UserWarning: n_neighbors (20) is greater than the total number of samples (8). n_neighbors will be set to (n_samples - 1) for estimation.\n",
            "  % (self.n_neighbors, n_samples))\n"
          ],
          "name": "stderr"
        },
        {
          "output_type": "stream",
          "text": [
            "Epsilon:  0.5\n",
            "Seed Percentage : 88 Contamination:  0.06\n",
            "original_std :  204.66822322969438\n"
          ],
          "name": "stdout"
        },
        {
          "output_type": "stream",
          "text": [
            "/usr/local/lib/python3.6/dist-packages/sklearn/neighbors/lof.py:253: UserWarning: n_neighbors (20) is greater than the total number of samples (15). n_neighbors will be set to (n_samples - 1) for estimation.\n",
            "  % (self.n_neighbors, n_samples))\n"
          ],
          "name": "stderr"
        },
        {
          "output_type": "stream",
          "text": [
            "Epsilon:  0.778\n",
            "Seed Percentage : 88 Contamination:  0.06\n",
            "original_std :  0.0\n",
            "Epsilon:  0.5\n",
            "Seed Percentage : 88 Contamination:  0.06\n",
            "original_std :  1998.0066562451686\n"
          ],
          "name": "stdout"
        },
        {
          "output_type": "stream",
          "text": [
            "/usr/local/lib/python3.6/dist-packages/sklearn/neighbors/lof.py:253: UserWarning: n_neighbors (20) is greater than the total number of samples (7). n_neighbors will be set to (n_samples - 1) for estimation.\n",
            "  % (self.n_neighbors, n_samples))\n"
          ],
          "name": "stderr"
        },
        {
          "output_type": "stream",
          "text": [
            "Epsilon:  0.331\n",
            "Seed Percentage : 88 Contamination:  0.06\n",
            "original_std :  0.0\n",
            "Epsilon:  0.5\n",
            "Seed Percentage : 88 Contamination:  0.06\n",
            "original_std :  117.72874828072008\n"
          ],
          "name": "stdout"
        },
        {
          "output_type": "stream",
          "text": [
            "/usr/local/lib/python3.6/dist-packages/sklearn/neighbors/lof.py:253: UserWarning: n_neighbors (20) is greater than the total number of samples (6). n_neighbors will be set to (n_samples - 1) for estimation.\n",
            "  % (self.n_neighbors, n_samples))\n"
          ],
          "name": "stderr"
        },
        {
          "output_type": "stream",
          "text": [
            "Epsilon:  0.525\n",
            "Seed Percentage : 96 Contamination:  0.02\n",
            "original_std :  2.809963896554636\n",
            "Epsilon:  0.159\n",
            "Seed Percentage : 88 Contamination:  0.06\n",
            "original_std :  0.7521398046336104\n",
            "Epsilon:  0.579\n",
            "Seed Percentage : 88 Contamination:  0.06\n",
            "original_std :  1.8516401995451028\n"
          ],
          "name": "stdout"
        },
        {
          "output_type": "stream",
          "text": [
            "/usr/local/lib/python3.6/dist-packages/sklearn/neighbors/lof.py:253: UserWarning: n_neighbors (20) is greater than the total number of samples (14). n_neighbors will be set to (n_samples - 1) for estimation.\n",
            "  % (self.n_neighbors, n_samples))\n"
          ],
          "name": "stderr"
        },
        {
          "output_type": "stream",
          "text": [
            "Epsilon:  0.6\n",
            "Seed Percentage : 88 Contamination:  0.06\n",
            "original_std :  0.0\n"
          ],
          "name": "stdout"
        },
        {
          "output_type": "stream",
          "text": [
            "/usr/local/lib/python3.6/dist-packages/sklearn/neighbors/lof.py:253: UserWarning: n_neighbors (20) is greater than the total number of samples (14). n_neighbors will be set to (n_samples - 1) for estimation.\n",
            "  % (self.n_neighbors, n_samples))\n"
          ],
          "name": "stderr"
        },
        {
          "output_type": "stream",
          "text": [
            "Epsilon:  0.5\n",
            "Seed Percentage : 88 Contamination:  0.06\n",
            "original_std :  113893.29259778836\n"
          ],
          "name": "stdout"
        },
        {
          "output_type": "stream",
          "text": [
            "/usr/local/lib/python3.6/dist-packages/sklearn/neighbors/lof.py:253: UserWarning: n_neighbors (20) is greater than the total number of samples (6). n_neighbors will be set to (n_samples - 1) for estimation.\n",
            "  % (self.n_neighbors, n_samples))\n"
          ],
          "name": "stderr"
        },
        {
          "output_type": "stream",
          "text": [
            "Epsilon:  0.49\n",
            "Seed Percentage : 88 Contamination:  0.06\n",
            "original_std :  171604.2998044835\n"
          ],
          "name": "stdout"
        },
        {
          "output_type": "stream",
          "text": [
            "/usr/local/lib/python3.6/dist-packages/sklearn/neighbors/lof.py:253: UserWarning: n_neighbors (20) is greater than the total number of samples (18). n_neighbors will be set to (n_samples - 1) for estimation.\n",
            "  % (self.n_neighbors, n_samples))\n"
          ],
          "name": "stderr"
        },
        {
          "output_type": "stream",
          "text": [
            "Epsilon:  0.66\n",
            "Seed Percentage : 94 Contamination:  0.03\n",
            "original_std :  140662.56546823718\n",
            "Epsilon:  0.263\n",
            "Seed Percentage : 88 Contamination:  0.06\n",
            "original_std :  0.0\n",
            "Epsilon:  0.5\n",
            "Seed Percentage : 88 Contamination:  0.06\n",
            "original_std :  695.5605120344111\n"
          ],
          "name": "stdout"
        },
        {
          "output_type": "stream",
          "text": [
            "/usr/local/lib/python3.6/dist-packages/sklearn/neighbors/lof.py:253: UserWarning: n_neighbors (20) is greater than the total number of samples (6). n_neighbors will be set to (n_samples - 1) for estimation.\n",
            "  % (self.n_neighbors, n_samples))\n"
          ],
          "name": "stderr"
        },
        {
          "output_type": "stream",
          "text": [
            "Epsilon:  0.468\n",
            "Seed Percentage : 88 Contamination:  0.06\n",
            "original_std :  705.9624014224994\n",
            "Epsilon:  0.427\n",
            "Seed Percentage : 88 Contamination:  0.06\n",
            "original_std :  87142.12528966687\n",
            "Epsilon:  1.0\n",
            "Seed Percentage : 88 Contamination:  0.06\n",
            "original_std :  1710127.997844444\n"
          ],
          "name": "stdout"
        },
        {
          "output_type": "stream",
          "text": [
            "/usr/local/lib/python3.6/dist-packages/sklearn/neighbors/lof.py:253: UserWarning: n_neighbors (20) is greater than the total number of samples (8). n_neighbors will be set to (n_samples - 1) for estimation.\n",
            "  % (self.n_neighbors, n_samples))\n"
          ],
          "name": "stderr"
        },
        {
          "output_type": "stream",
          "text": [
            "Epsilon:  0.715\n",
            "Seed Percentage : 88 Contamination:  0.06\n",
            "original_std :  455886.6177552258\n",
            "Epsilon:  0.233\n",
            "Seed Percentage : 88 Contamination:  0.06\n",
            "original_std :  778772.3449251712\n",
            "Epsilon:  0.201\n",
            "Seed Percentage : 88 Contamination:  0.06\n",
            "original_std :  77145.95215488817\n",
            "Epsilon:  0.385\n",
            "Seed Percentage : 88 Contamination:  0.06\n",
            "original_std :  757268.780498153\n",
            "Epsilon:  0.524\n",
            "Seed Percentage : 88 Contamination:  0.06\n",
            "original_std :  0.0\n",
            "Epsilon:  0.5\n",
            "Seed Percentage : 88 Contamination:  0.06\n",
            "original_std :  194.8557158514987\n"
          ],
          "name": "stdout"
        },
        {
          "output_type": "stream",
          "text": [
            "/usr/local/lib/python3.6/dist-packages/sklearn/neighbors/lof.py:253: UserWarning: n_neighbors (20) is greater than the total number of samples (6). n_neighbors will be set to (n_samples - 1) for estimation.\n",
            "  % (self.n_neighbors, n_samples))\n"
          ],
          "name": "stderr"
        },
        {
          "output_type": "stream",
          "text": [
            "Epsilon:  1.0\n",
            "Seed Percentage : 97 Contamination:  0.015\n",
            "original_std :  30189.77210773373\n"
          ],
          "name": "stdout"
        },
        {
          "output_type": "stream",
          "text": [
            "/usr/local/lib/python3.6/dist-packages/sklearn/neighbors/lof.py:253: UserWarning: n_neighbors (20) is greater than the total number of samples (16). n_neighbors will be set to (n_samples - 1) for estimation.\n",
            "  % (self.n_neighbors, n_samples))\n"
          ],
          "name": "stderr"
        },
        {
          "output_type": "stream",
          "text": [
            "Epsilon:  0.575\n",
            "Seed Percentage : 88 Contamination:  0.06\n",
            "original_std :  29508.473359359003\n",
            "Epsilon:  0.967\n",
            "Seed Percentage : 88 Contamination:  0.06\n",
            "original_std :  8253.319571579505\n"
          ],
          "name": "stdout"
        },
        {
          "output_type": "stream",
          "text": [
            "/usr/local/lib/python3.6/dist-packages/sklearn/neighbors/lof.py:253: UserWarning: n_neighbors (20) is greater than the total number of samples (8). n_neighbors will be set to (n_samples - 1) for estimation.\n",
            "  % (self.n_neighbors, n_samples))\n"
          ],
          "name": "stderr"
        },
        {
          "output_type": "stream",
          "text": [
            "Epsilon:  0.854\n",
            "Seed Percentage : 97 Contamination:  0.015\n",
            "original_std :  100.53714192494192\n"
          ],
          "name": "stdout"
        },
        {
          "output_type": "stream",
          "text": [
            "/usr/local/lib/python3.6/dist-packages/sklearn/neighbors/lof.py:253: UserWarning: n_neighbors (20) is greater than the total number of samples (18). n_neighbors will be set to (n_samples - 1) for estimation.\n",
            "  % (self.n_neighbors, n_samples))\n"
          ],
          "name": "stderr"
        },
        {
          "output_type": "stream",
          "text": [
            "Epsilon:  0.283\n",
            "Seed Percentage : 92 Contamination:  0.04\n",
            "original_std :  102.24115823810791\n",
            "Epsilon:  0.5\n",
            "Seed Percentage : 88 Contamination:  0.06\n",
            "original_std :  15623.479061134287\n"
          ],
          "name": "stdout"
        },
        {
          "output_type": "stream",
          "text": [
            "/usr/local/lib/python3.6/dist-packages/sklearn/neighbors/lof.py:253: UserWarning: n_neighbors (20) is greater than the total number of samples (13). n_neighbors will be set to (n_samples - 1) for estimation.\n",
            "  % (self.n_neighbors, n_samples))\n"
          ],
          "name": "stderr"
        },
        {
          "output_type": "stream",
          "text": [
            "Epsilon:  0.861\n",
            "Seed Percentage : 88 Contamination:  0.06\n",
            "original_std :  0.0\n",
            "Epsilon:  0.5\n",
            "Seed Percentage : 88 Contamination:  0.06\n",
            "original_std :  2860.0\n"
          ],
          "name": "stdout"
        },
        {
          "output_type": "stream",
          "text": [
            "/usr/local/lib/python3.6/dist-packages/sklearn/neighbors/lof.py:253: UserWarning: n_neighbors (20) is greater than the total number of samples (6). n_neighbors will be set to (n_samples - 1) for estimation.\n",
            "  % (self.n_neighbors, n_samples))\n"
          ],
          "name": "stderr"
        },
        {
          "output_type": "stream",
          "text": [
            "Epsilon:  1.0\n",
            "Seed Percentage : 88 Contamination:  0.06\n",
            "original_std :  146056.39818445916\n"
          ],
          "name": "stdout"
        },
        {
          "output_type": "stream",
          "text": [
            "/usr/local/lib/python3.6/dist-packages/sklearn/neighbors/lof.py:253: UserWarning: n_neighbors (20) is greater than the total number of samples (15). n_neighbors will be set to (n_samples - 1) for estimation.\n",
            "  % (self.n_neighbors, n_samples))\n"
          ],
          "name": "stderr"
        },
        {
          "output_type": "stream",
          "text": [
            "Epsilon:  0.267\n",
            "Seed Percentage : 88 Contamination:  0.06\n",
            "original_std :  201846.94077443928\n",
            "Epsilon:  0.762\n",
            "Seed Percentage : 94 Contamination:  0.03\n",
            "original_std :  134618.89293407174\n"
          ],
          "name": "stdout"
        },
        {
          "output_type": "stream",
          "text": [
            "/usr/local/lib/python3.6/dist-packages/sklearn/neighbors/lof.py:253: UserWarning: n_neighbors (20) is greater than the total number of samples (12). n_neighbors will be set to (n_samples - 1) for estimation.\n",
            "  % (self.n_neighbors, n_samples))\n"
          ],
          "name": "stderr"
        },
        {
          "output_type": "stream",
          "text": [
            "Epsilon:  0.227\n",
            "Seed Percentage : 88 Contamination:  0.06\n",
            "original_std :  22553.639765383028\n",
            "Epsilon:  0.755\n",
            "Seed Percentage : 87 Contamination:  0.065\n",
            "original_std :  35047.688000048736\n"
          ],
          "name": "stdout"
        },
        {
          "output_type": "stream",
          "text": [
            "/usr/local/lib/python3.6/dist-packages/sklearn/neighbors/lof.py:253: UserWarning: n_neighbors (20) is greater than the total number of samples (6). n_neighbors will be set to (n_samples - 1) for estimation.\n",
            "  % (self.n_neighbors, n_samples))\n"
          ],
          "name": "stderr"
        },
        {
          "output_type": "stream",
          "text": [
            "Epsilon:  0.761\n",
            "Seed Percentage : 89 Contamination:  0.055\n",
            "original_std :  36426.708884793145\n",
            "Epsilon:  0.743\n",
            "Seed Percentage : 88 Contamination:  0.06\n",
            "original_std :  39121.9124507857\n",
            "Epsilon:  0.192\n",
            "Seed Percentage : 88 Contamination:  0.06\n",
            "original_std :  193295.6540549818\n",
            "Epsilon:  1.0\n",
            "Seed Percentage : 89 Contamination:  0.055\n",
            "original_std :  453434.9275116456\n"
          ],
          "name": "stdout"
        },
        {
          "output_type": "stream",
          "text": [
            "/usr/local/lib/python3.6/dist-packages/sklearn/neighbors/lof.py:253: UserWarning: n_neighbors (20) is greater than the total number of samples (9). n_neighbors will be set to (n_samples - 1) for estimation.\n",
            "  % (self.n_neighbors, n_samples))\n"
          ],
          "name": "stderr"
        },
        {
          "output_type": "stream",
          "text": [
            "Epsilon:  0.297\n",
            "Seed Percentage : 88 Contamination:  0.06\n",
            "original_std :  0.0\n",
            "Epsilon:  0.5\n",
            "Seed Percentage : 88 Contamination:  0.06\n",
            "original_std :  320580.8082383822\n"
          ],
          "name": "stdout"
        },
        {
          "output_type": "stream",
          "text": [
            "/usr/local/lib/python3.6/dist-packages/sklearn/neighbors/lof.py:253: UserWarning: n_neighbors (20) is greater than the total number of samples (7). n_neighbors will be set to (n_samples - 1) for estimation.\n",
            "  % (self.n_neighbors, n_samples))\n"
          ],
          "name": "stderr"
        },
        {
          "output_type": "stream",
          "text": [
            "Epsilon:  0.25\n",
            "Seed Percentage : 88 Contamination:  0.06\n",
            "original_std :  29456.497139430652\n",
            "Epsilon:  0.329\n",
            "Seed Percentage : 95 Contamination:  0.025\n",
            "original_std :  84430.06657599991\n",
            "Epsilon:  0.329\n",
            "Seed Percentage : 94 Contamination:  0.03\n",
            "original_std :  1521.3841076363524\n",
            "Epsilon:  0.742\n",
            "Seed Percentage : 88 Contamination:  0.06\n",
            "original_std :  247.43582965269678\n",
            "Epsilon:  1.0\n",
            "Seed Percentage : 88 Contamination:  0.06\n",
            "original_std :  911.4072993487173\n"
          ],
          "name": "stdout"
        },
        {
          "output_type": "stream",
          "text": [
            "/usr/local/lib/python3.6/dist-packages/sklearn/neighbors/lof.py:253: UserWarning: n_neighbors (20) is greater than the total number of samples (7). n_neighbors will be set to (n_samples - 1) for estimation.\n",
            "  % (self.n_neighbors, n_samples))\n"
          ],
          "name": "stderr"
        },
        {
          "output_type": "stream",
          "text": [
            "Epsilon:  0.571\n",
            "Seed Percentage : 88 Contamination:  0.06\n",
            "original_std :  0.0\n"
          ],
          "name": "stdout"
        },
        {
          "output_type": "stream",
          "text": [
            "/usr/local/lib/python3.6/dist-packages/sklearn/neighbors/lof.py:253: UserWarning: n_neighbors (20) is greater than the total number of samples (14). n_neighbors will be set to (n_samples - 1) for estimation.\n",
            "  % (self.n_neighbors, n_samples))\n"
          ],
          "name": "stderr"
        },
        {
          "output_type": "stream",
          "text": [
            "Epsilon:  0.5\n",
            "Seed Percentage : 88 Contamination:  0.06\n",
            "original_std :  225653.65452238516\n"
          ],
          "name": "stdout"
        },
        {
          "output_type": "stream",
          "text": [
            "/usr/local/lib/python3.6/dist-packages/sklearn/neighbors/lof.py:253: UserWarning: n_neighbors (20) is greater than the total number of samples (7). n_neighbors will be set to (n_samples - 1) for estimation.\n",
            "  % (self.n_neighbors, n_samples))\n"
          ],
          "name": "stderr"
        },
        {
          "output_type": "stream",
          "text": [
            "Epsilon:  0.791\n",
            "Seed Percentage : 91 Contamination:  0.045\n",
            "original_std :  114835.90906966808\n",
            "Epsilon:  0.573\n",
            "Seed Percentage : 88 Contamination:  0.06\n",
            "original_std :  139161.01995057455\n",
            "Epsilon:  0.854\n",
            "Seed Percentage : 94 Contamination:  0.03\n",
            "original_std :  207744.542783096\n"
          ],
          "name": "stdout"
        },
        {
          "output_type": "stream",
          "text": [
            "/usr/local/lib/python3.6/dist-packages/sklearn/neighbors/lof.py:253: UserWarning: n_neighbors (20) is greater than the total number of samples (19). n_neighbors will be set to (n_samples - 1) for estimation.\n",
            "  % (self.n_neighbors, n_samples))\n"
          ],
          "name": "stderr"
        },
        {
          "output_type": "stream",
          "text": [
            "Epsilon:  0.175\n",
            "Seed Percentage : 86 Contamination:  0.07\n",
            "original_std :  352148.47033537674\n",
            "Epsilon:  0.455\n",
            "Seed Percentage : 88 Contamination:  0.06\n",
            "original_std :  170677.64755526718\n",
            "Epsilon:  0.722\n",
            "Seed Percentage : 97 Contamination:  0.015\n",
            "original_std :  371792.06453405257\n"
          ],
          "name": "stdout"
        },
        {
          "output_type": "stream",
          "text": [
            "/usr/local/lib/python3.6/dist-packages/sklearn/neighbors/lof.py:253: UserWarning: n_neighbors (20) is greater than the total number of samples (8). n_neighbors will be set to (n_samples - 1) for estimation.\n",
            "  % (self.n_neighbors, n_samples))\n"
          ],
          "name": "stderr"
        },
        {
          "output_type": "stream",
          "text": [
            "Epsilon:  0.401\n",
            "Seed Percentage : 88 Contamination:  0.06\n",
            "original_std :  320772.06672786665\n",
            "Epsilon:  0.3\n",
            "Seed Percentage : 98 Contamination:  0.01\n",
            "original_std :  16.013617630297503\n",
            "Epsilon:  0.479\n",
            "Seed Percentage : 88 Contamination:  0.06\n",
            "original_std :  42.71091455614387\n",
            "Epsilon:  0.475\n",
            "Seed Percentage : 88 Contamination:  0.06\n",
            "original_std :  342.90789213024414\n"
          ],
          "name": "stdout"
        },
        {
          "output_type": "stream",
          "text": [
            "/usr/local/lib/python3.6/dist-packages/sklearn/neighbors/lof.py:253: UserWarning: n_neighbors (20) is greater than the total number of samples (18). n_neighbors will be set to (n_samples - 1) for estimation.\n",
            "  % (self.n_neighbors, n_samples))\n"
          ],
          "name": "stderr"
        },
        {
          "output_type": "stream",
          "text": [
            "Epsilon:  0.691\n",
            "Seed Percentage : 88 Contamination:  0.06\n",
            "original_std :  0.0\n"
          ],
          "name": "stdout"
        },
        {
          "output_type": "stream",
          "text": [
            "/usr/local/lib/python3.6/dist-packages/sklearn/neighbors/lof.py:253: UserWarning: n_neighbors (20) is greater than the total number of samples (13). n_neighbors will be set to (n_samples - 1) for estimation.\n",
            "  % (self.n_neighbors, n_samples))\n"
          ],
          "name": "stderr"
        },
        {
          "output_type": "stream",
          "text": [
            "Epsilon:  0.5\n",
            "Seed Percentage : 88 Contamination:  0.06\n",
            "original_std :  0.0\n"
          ],
          "name": "stdout"
        },
        {
          "output_type": "stream",
          "text": [
            "/usr/local/lib/python3.6/dist-packages/sklearn/neighbors/lof.py:253: UserWarning: n_neighbors (20) is greater than the total number of samples (6). n_neighbors will be set to (n_samples - 1) for estimation.\n",
            "  % (self.n_neighbors, n_samples))\n"
          ],
          "name": "stderr"
        },
        {
          "output_type": "stream",
          "text": [
            "Epsilon:  0.5\n",
            "Seed Percentage : 88 Contamination:  0.06\n",
            "original_std :  778.6671125854889\n"
          ],
          "name": "stdout"
        },
        {
          "output_type": "stream",
          "text": [
            "/usr/local/lib/python3.6/dist-packages/sklearn/neighbors/lof.py:253: UserWarning: n_neighbors (20) is greater than the total number of samples (6). n_neighbors will be set to (n_samples - 1) for estimation.\n",
            "  % (self.n_neighbors, n_samples))\n"
          ],
          "name": "stderr"
        },
        {
          "output_type": "stream",
          "text": [
            "Epsilon:  0.778\n",
            "Seed Percentage : 88 Contamination:  0.06\n",
            "original_std :  0.0\n"
          ],
          "name": "stdout"
        },
        {
          "output_type": "stream",
          "text": [
            "/usr/local/lib/python3.6/dist-packages/sklearn/neighbors/lof.py:253: UserWarning: n_neighbors (20) is greater than the total number of samples (6). n_neighbors will be set to (n_samples - 1) for estimation.\n",
            "  % (self.n_neighbors, n_samples))\n"
          ],
          "name": "stderr"
        },
        {
          "output_type": "stream",
          "text": [
            "Epsilon:  0.5\n",
            "Seed Percentage : 88 Contamination:  0.06\n",
            "original_std :  25.0\n"
          ],
          "name": "stdout"
        },
        {
          "output_type": "stream",
          "text": [
            "/usr/local/lib/python3.6/dist-packages/sklearn/neighbors/lof.py:253: UserWarning: n_neighbors (20) is greater than the total number of samples (11). n_neighbors will be set to (n_samples - 1) for estimation.\n",
            "  % (self.n_neighbors, n_samples))\n"
          ],
          "name": "stderr"
        },
        {
          "output_type": "stream",
          "text": [
            "Epsilon:  1.0\n",
            "Seed Percentage : 88 Contamination:  0.06\n",
            "original_std :  0.0\n"
          ],
          "name": "stdout"
        },
        {
          "output_type": "stream",
          "text": [
            "/usr/local/lib/python3.6/dist-packages/sklearn/neighbors/lof.py:253: UserWarning: n_neighbors (20) is greater than the total number of samples (10). n_neighbors will be set to (n_samples - 1) for estimation.\n",
            "  % (self.n_neighbors, n_samples))\n"
          ],
          "name": "stderr"
        },
        {
          "output_type": "stream",
          "text": [
            "Epsilon:  0.5\n",
            "Seed Percentage : 88 Contamination:  0.06\n",
            "original_std :  1613.3145955996927\n"
          ],
          "name": "stdout"
        },
        {
          "output_type": "stream",
          "text": [
            "/usr/local/lib/python3.6/dist-packages/sklearn/neighbors/lof.py:253: UserWarning: n_neighbors (20) is greater than the total number of samples (9). n_neighbors will be set to (n_samples - 1) for estimation.\n",
            "  % (self.n_neighbors, n_samples))\n"
          ],
          "name": "stderr"
        },
        {
          "output_type": "stream",
          "text": [
            "Epsilon:  0.763\n",
            "Seed Percentage : 96 Contamination:  0.02\n",
            "original_std :  8469.35126476887\n"
          ],
          "name": "stdout"
        },
        {
          "output_type": "stream",
          "text": [
            "/usr/local/lib/python3.6/dist-packages/sklearn/neighbors/lof.py:253: UserWarning: n_neighbors (20) is greater than the total number of samples (8). n_neighbors will be set to (n_samples - 1) for estimation.\n",
            "  % (self.n_neighbors, n_samples))\n"
          ],
          "name": "stderr"
        },
        {
          "output_type": "stream",
          "text": [
            "Epsilon:  0.546\n",
            "Seed Percentage : 88 Contamination:  0.06\n",
            "original_std :  1501.703550596867\n",
            "Epsilon:  0.408\n",
            "Seed Percentage : 88 Contamination:  0.06\n",
            "original_std :  2226.7004409688593\n",
            "Epsilon:  0.346\n",
            "Seed Percentage : 88 Contamination:  0.06\n",
            "original_std :  240.02671059552512\n",
            "Epsilon:  0.427\n",
            "Seed Percentage : 88 Contamination:  0.06\n",
            "original_std :  143.03225109069285\n",
            "Epsilon:  1.0\n",
            "Seed Percentage : 88 Contamination:  0.06\n",
            "original_std :  311.1269837220809\n"
          ],
          "name": "stdout"
        },
        {
          "output_type": "stream",
          "text": [
            "/usr/local/lib/python3.6/dist-packages/sklearn/neighbors/lof.py:253: UserWarning: n_neighbors (20) is greater than the total number of samples (13). n_neighbors will be set to (n_samples - 1) for estimation.\n",
            "  % (self.n_neighbors, n_samples))\n"
          ],
          "name": "stderr"
        },
        {
          "output_type": "stream",
          "text": [
            "Epsilon:  1.0\n",
            "Seed Percentage : 88 Contamination:  0.06\n",
            "original_std :  166.06545208140074\n"
          ],
          "name": "stdout"
        },
        {
          "output_type": "stream",
          "text": [
            "/usr/local/lib/python3.6/dist-packages/sklearn/neighbors/lof.py:253: UserWarning: n_neighbors (20) is greater than the total number of samples (9). n_neighbors will be set to (n_samples - 1) for estimation.\n",
            "  % (self.n_neighbors, n_samples))\n"
          ],
          "name": "stderr"
        },
        {
          "output_type": "stream",
          "text": [
            "Epsilon:  0.986\n",
            "Seed Percentage : 88 Contamination:  0.06\n",
            "original_std :  6.680426571226849\n"
          ],
          "name": "stdout"
        },
        {
          "output_type": "stream",
          "text": [
            "/usr/local/lib/python3.6/dist-packages/sklearn/neighbors/lof.py:253: UserWarning: n_neighbors (20) is greater than the total number of samples (16). n_neighbors will be set to (n_samples - 1) for estimation.\n",
            "  % (self.n_neighbors, n_samples))\n"
          ],
          "name": "stderr"
        },
        {
          "output_type": "stream",
          "text": [
            "Epsilon:  1.0\n",
            "Seed Percentage : 88 Contamination:  0.06\n",
            "original_std :  678.2882867925703\n"
          ],
          "name": "stdout"
        },
        {
          "output_type": "stream",
          "text": [
            "/usr/local/lib/python3.6/dist-packages/sklearn/neighbors/lof.py:253: UserWarning: n_neighbors (20) is greater than the total number of samples (11). n_neighbors will be set to (n_samples - 1) for estimation.\n",
            "  % (self.n_neighbors, n_samples))\n"
          ],
          "name": "stderr"
        },
        {
          "output_type": "stream",
          "text": [
            "Epsilon:  0.65\n",
            "Seed Percentage : 88 Contamination:  0.06\n",
            "original_std :  177.04516863088128\n"
          ],
          "name": "stdout"
        },
        {
          "output_type": "stream",
          "text": [
            "/usr/local/lib/python3.6/dist-packages/sklearn/neighbors/lof.py:253: UserWarning: n_neighbors (20) is greater than the total number of samples (8). n_neighbors will be set to (n_samples - 1) for estimation.\n",
            "  % (self.n_neighbors, n_samples))\n"
          ],
          "name": "stderr"
        },
        {
          "output_type": "stream",
          "text": [
            "Epsilon:  0.975\n",
            "Seed Percentage : 92 Contamination:  0.04\n",
            "original_std :  228.45718614693703\n"
          ],
          "name": "stdout"
        },
        {
          "output_type": "stream",
          "text": [
            "/usr/local/lib/python3.6/dist-packages/sklearn/neighbors/lof.py:253: UserWarning: n_neighbors (20) is greater than the total number of samples (11). n_neighbors will be set to (n_samples - 1) for estimation.\n",
            "  % (self.n_neighbors, n_samples))\n"
          ],
          "name": "stderr"
        },
        {
          "output_type": "stream",
          "text": [
            "Epsilon:  0.326\n",
            "Seed Percentage : 88 Contamination:  0.06\n",
            "original_std :  557.4612621730136\n",
            "Epsilon:  0.59\n"
          ],
          "name": "stdout"
        },
        {
          "output_type": "stream",
          "text": [
            "/usr/local/lib/python3.6/dist-packages/sklearn/neighbors/lof.py:253: UserWarning: n_neighbors (20) is greater than the total number of samples (17). n_neighbors will be set to (n_samples - 1) for estimation.\n",
            "  % (self.n_neighbors, n_samples))\n"
          ],
          "name": "stderr"
        },
        {
          "output_type": "stream",
          "text": [
            "Seed Percentage : 90 Contamination:  0.05\n",
            "original_std :  375.4305351655535\n",
            "Epsilon:  0.72\n",
            "Seed Percentage : 88 Contamination:  0.06\n",
            "original_std :  92.60956004778825\n",
            "Epsilon:  1.0\n"
          ],
          "name": "stdout"
        },
        {
          "output_type": "stream",
          "text": [
            "/usr/local/lib/python3.6/dist-packages/sklearn/neighbors/lof.py:253: UserWarning: n_neighbors (20) is greater than the total number of samples (7). n_neighbors will be set to (n_samples - 1) for estimation.\n",
            "  % (self.n_neighbors, n_samples))\n"
          ],
          "name": "stderr"
        },
        {
          "output_type": "stream",
          "text": [
            "Seed Percentage : 88 Contamination:  0.06\n",
            "original_std :  135.11131608171587\n",
            "Epsilon:  0.255\n",
            "Seed Percentage : 88 Contamination:  0.06\n",
            "original_std :  35.156791662493895\n",
            "Epsilon:  0.933\n"
          ],
          "name": "stdout"
        },
        {
          "output_type": "stream",
          "text": [
            "/usr/local/lib/python3.6/dist-packages/sklearn/neighbors/lof.py:253: UserWarning: n_neighbors (20) is greater than the total number of samples (10). n_neighbors will be set to (n_samples - 1) for estimation.\n",
            "  % (self.n_neighbors, n_samples))\n"
          ],
          "name": "stderr"
        },
        {
          "output_type": "stream",
          "text": [
            "Seed Percentage : 88 Contamination:  0.06\n",
            "original_std :  70.66972693981053\n",
            "Epsilon:  0.384\n",
            "Seed Percentage : 88 Contamination:  0.06\n",
            "original_std :  406100.13261304575\n",
            "Epsilon:  0.315\n",
            "Seed Percentage : 87 Contamination:  0.065\n",
            "original_std :  459946.4052823473\n",
            "Epsilon:  0.141\n",
            "Seed Percentage : 88 Contamination:  0.06\n",
            "original_std :  1384035.6325595528\n",
            "Epsilon:  0.587\n",
            "Seed Percentage : 95 Contamination:  0.025\n",
            "original_std :  381463.18997097365\n",
            "Epsilon:  0.156\n",
            "Seed Percentage : 88 Contamination:  0.06\n",
            "original_std :  0.0\n",
            "Epsilon:  0.5\n",
            "Seed Percentage : 88 Contamination:  0.06\n",
            "original_std :  7453.701727406425\n"
          ],
          "name": "stdout"
        },
        {
          "output_type": "stream",
          "text": [
            "/usr/local/lib/python3.6/dist-packages/sklearn/neighbors/lof.py:253: UserWarning: n_neighbors (20) is greater than the total number of samples (10). n_neighbors will be set to (n_samples - 1) for estimation.\n",
            "  % (self.n_neighbors, n_samples))\n"
          ],
          "name": "stderr"
        },
        {
          "output_type": "stream",
          "text": [
            "Epsilon:  0.5\n",
            "Seed Percentage : 88 Contamination:  0.06\n",
            "original_std :  13667.32960155348\n",
            "Epsilon:  0.822\n",
            "Seed Percentage : 90 Contamination:  0.05\n",
            "original_std :  1270.6476516113562\n"
          ],
          "name": "stdout"
        },
        {
          "output_type": "stream",
          "text": [
            "/usr/local/lib/python3.6/dist-packages/sklearn/neighbors/lof.py:253: UserWarning: n_neighbors (20) is greater than the total number of samples (16). n_neighbors will be set to (n_samples - 1) for estimation.\n",
            "  % (self.n_neighbors, n_samples))\n"
          ],
          "name": "stderr"
        },
        {
          "output_type": "stream",
          "text": [
            "Epsilon:  0.442\n",
            "Seed Percentage : 88 Contamination:  0.06\n",
            "original_std :  7812.9546727838115\n"
          ],
          "name": "stdout"
        },
        {
          "output_type": "stream",
          "text": [
            "/usr/local/lib/python3.6/dist-packages/sklearn/neighbors/lof.py:253: UserWarning: n_neighbors (20) is greater than the total number of samples (11). n_neighbors will be set to (n_samples - 1) for estimation.\n",
            "  % (self.n_neighbors, n_samples))\n"
          ],
          "name": "stderr"
        },
        {
          "output_type": "stream",
          "text": [
            "Epsilon:  0.204\n",
            "Seed Percentage : 91 Contamination:  0.045\n",
            "original_std :  39703.37755878249\n",
            "Epsilon:  0.222\n",
            "Seed Percentage : 88 Contamination:  0.06\n",
            "original_std :  23949.125605832684\n",
            "Epsilon:  0.755\n",
            "Seed Percentage : 88 Contamination:  0.06\n",
            "original_std :  12118.749749890008\n",
            "Epsilon:  0.441\n",
            "Seed Percentage : 87 Contamination:  0.065\n",
            "original_std :  91.42422249509049\n",
            "Epsilon:  0.198\n",
            "Seed Percentage : 88 Contamination:  0.06\n",
            "original_std :  243171.19772900463\n",
            "Epsilon:  0.818\n",
            "Seed Percentage : 88 Contamination:  0.06\n",
            "original_std :  470359.92461108195\n"
          ],
          "name": "stdout"
        },
        {
          "output_type": "stream",
          "text": [
            "/usr/local/lib/python3.6/dist-packages/sklearn/neighbors/lof.py:253: UserWarning: n_neighbors (20) is greater than the total number of samples (11). n_neighbors will be set to (n_samples - 1) for estimation.\n",
            "  % (self.n_neighbors, n_samples))\n"
          ],
          "name": "stderr"
        },
        {
          "output_type": "stream",
          "text": [
            "Epsilon:  0.215\n",
            "Seed Percentage : 88 Contamination:  0.06\n",
            "original_std :  344921.7123556025\n",
            "Epsilon:  0.338\n",
            "Seed Percentage : 88 Contamination:  0.06\n",
            "original_std :  6077743.599263022\n",
            "Epsilon:  0.714\n",
            "Seed Percentage : 97 Contamination:  0.015\n",
            "original_std :  11.011584579438717\n",
            "Epsilon:  0.348\n",
            "Seed Percentage : 88 Contamination:  0.06\n",
            "original_std :  78408.50923839615\n",
            "Epsilon:  1.0\n",
            "Seed Percentage : 86 Contamination:  0.07\n",
            "original_std :  1857.1456772872361\n"
          ],
          "name": "stdout"
        },
        {
          "output_type": "stream",
          "text": [
            "/usr/local/lib/python3.6/dist-packages/sklearn/neighbors/lof.py:253: UserWarning: n_neighbors (20) is greater than the total number of samples (9). n_neighbors will be set to (n_samples - 1) for estimation.\n",
            "  % (self.n_neighbors, n_samples))\n"
          ],
          "name": "stderr"
        },
        {
          "output_type": "stream",
          "text": [
            "Epsilon:  0.926\n",
            "Seed Percentage : 92 Contamination:  0.04\n",
            "original_std :  863.3831624528594\n",
            "Epsilon:  0.96\n",
            "Seed Percentage : 88 Contamination:  0.06\n",
            "original_std :  223.1806653252024\n"
          ],
          "name": "stdout"
        },
        {
          "output_type": "stream",
          "text": [
            "/usr/local/lib/python3.6/dist-packages/sklearn/neighbors/lof.py:253: UserWarning: n_neighbors (20) is greater than the total number of samples (13). n_neighbors will be set to (n_samples - 1) for estimation.\n",
            "  % (self.n_neighbors, n_samples))\n"
          ],
          "name": "stderr"
        },
        {
          "output_type": "stream",
          "text": [
            "Epsilon:  1.0\n",
            "Seed Percentage : 93 Contamination:  0.035\n",
            "original_std :  111.3860552483933\n"
          ],
          "name": "stdout"
        },
        {
          "output_type": "stream",
          "text": [
            "/usr/local/lib/python3.6/dist-packages/sklearn/neighbors/lof.py:253: UserWarning: n_neighbors (20) is greater than the total number of samples (8). n_neighbors will be set to (n_samples - 1) for estimation.\n",
            "  % (self.n_neighbors, n_samples))\n"
          ],
          "name": "stderr"
        },
        {
          "output_type": "stream",
          "text": [
            "Epsilon:  0.442\n",
            "Seed Percentage : 88 Contamination:  0.06\n",
            "original_std :  235.4821367634791\n",
            "Epsilon:  0.922\n",
            "Seed Percentage : 88 Contamination:  0.06\n",
            "original_std :  1558.4630253808687\n"
          ],
          "name": "stdout"
        },
        {
          "output_type": "stream",
          "text": [
            "/usr/local/lib/python3.6/dist-packages/sklearn/neighbors/lof.py:253: UserWarning: n_neighbors (20) is greater than the total number of samples (14). n_neighbors will be set to (n_samples - 1) for estimation.\n",
            "  % (self.n_neighbors, n_samples))\n"
          ],
          "name": "stderr"
        },
        {
          "output_type": "stream",
          "text": [
            "Epsilon:  0.446\n",
            "Seed Percentage : 88 Contamination:  0.06\n",
            "original_std :  497.186081864728\n",
            "Epsilon:  0.928\n",
            "Seed Percentage : 88 Contamination:  0.06\n",
            "original_std :  1083.3639413248352\n"
          ],
          "name": "stdout"
        },
        {
          "output_type": "stream",
          "text": [
            "/usr/local/lib/python3.6/dist-packages/sklearn/neighbors/lof.py:253: UserWarning: n_neighbors (20) is greater than the total number of samples (11). n_neighbors will be set to (n_samples - 1) for estimation.\n",
            "  % (self.n_neighbors, n_samples))\n"
          ],
          "name": "stderr"
        },
        {
          "output_type": "stream",
          "text": [
            "Epsilon:  0.673\n",
            "Seed Percentage : 88 Contamination:  0.06\n",
            "original_std :  6.966391622992348\n"
          ],
          "name": "stdout"
        },
        {
          "output_type": "stream",
          "text": [
            "/usr/local/lib/python3.6/dist-packages/sklearn/neighbors/lof.py:253: UserWarning: n_neighbors (20) is greater than the total number of samples (19). n_neighbors will be set to (n_samples - 1) for estimation.\n",
            "  % (self.n_neighbors, n_samples))\n"
          ],
          "name": "stderr"
        },
        {
          "output_type": "stream",
          "text": [
            "Epsilon:  0.455\n",
            "Seed Percentage : 88 Contamination:  0.06\n",
            "original_std :  68.32825184358224\n",
            "Epsilon:  0.867\n",
            "Seed Percentage : 88 Contamination:  0.06\n",
            "original_std :  77.80588337588989\n"
          ],
          "name": "stdout"
        },
        {
          "output_type": "stream",
          "text": [
            "/usr/local/lib/python3.6/dist-packages/sklearn/neighbors/lof.py:253: UserWarning: n_neighbors (20) is greater than the total number of samples (12). n_neighbors will be set to (n_samples - 1) for estimation.\n",
            "  % (self.n_neighbors, n_samples))\n"
          ],
          "name": "stderr"
        },
        {
          "output_type": "stream",
          "text": [
            "Epsilon:  0.37\n",
            "Seed Percentage : 88 Contamination:  0.06\n",
            "original_std :  144.05528479734338\n",
            "Epsilon:  0.359\n",
            "Seed Percentage : 88 Contamination:  0.06\n",
            "original_std :  930.8254326989404\n",
            "Epsilon:  0.455\n",
            "Seed Percentage : 89 Contamination:  0.055\n",
            "original_std :  19621.624808933084\n"
          ],
          "name": "stdout"
        },
        {
          "output_type": "stream",
          "text": [
            "/usr/local/lib/python3.6/dist-packages/sklearn/neighbors/lof.py:253: UserWarning: n_neighbors (20) is greater than the total number of samples (17). n_neighbors will be set to (n_samples - 1) for estimation.\n",
            "  % (self.n_neighbors, n_samples))\n"
          ],
          "name": "stderr"
        },
        {
          "output_type": "stream",
          "text": [
            "Epsilon:  0.367\n",
            "Seed Percentage : 88 Contamination:  0.06\n",
            "original_std :  4027.5478729013403\n",
            "Epsilon:  0.207\n",
            "Seed Percentage : 87 Contamination:  0.065\n",
            "original_std :  462.5280916536314\n"
          ],
          "name": "stdout"
        },
        {
          "output_type": "stream",
          "text": [
            "/usr/local/lib/python3.6/dist-packages/sklearn/neighbors/lof.py:253: UserWarning: n_neighbors (20) is greater than the total number of samples (17). n_neighbors will be set to (n_samples - 1) for estimation.\n",
            "  % (self.n_neighbors, n_samples))\n"
          ],
          "name": "stderr"
        },
        {
          "output_type": "stream",
          "text": [
            "Epsilon:  0.841\n",
            "Seed Percentage : 88 Contamination:  0.06\n",
            "original_std :  0.0\n",
            "Epsilon:  0.5\n",
            "Seed Percentage : 88 Contamination:  0.06\n",
            "original_std :  44.19275958796871\n"
          ],
          "name": "stdout"
        },
        {
          "output_type": "stream",
          "text": [
            "/usr/local/lib/python3.6/dist-packages/sklearn/neighbors/lof.py:253: UserWarning: n_neighbors (20) is greater than the total number of samples (6). n_neighbors will be set to (n_samples - 1) for estimation.\n",
            "  % (self.n_neighbors, n_samples))\n"
          ],
          "name": "stderr"
        },
        {
          "output_type": "stream",
          "text": [
            "Epsilon:  0.943\n",
            "Seed Percentage : 88 Contamination:  0.06\n",
            "original_std :  53.07532909882083\n"
          ],
          "name": "stdout"
        },
        {
          "output_type": "stream",
          "text": [
            "/usr/local/lib/python3.6/dist-packages/sklearn/neighbors/lof.py:253: UserWarning: n_neighbors (20) is greater than the total number of samples (8). n_neighbors will be set to (n_samples - 1) for estimation.\n",
            "  % (self.n_neighbors, n_samples))\n"
          ],
          "name": "stderr"
        },
        {
          "output_type": "stream",
          "text": [
            "Epsilon:  0.494\n",
            "Seed Percentage : 88 Contamination:  0.06\n",
            "original_std :  0.0\n",
            "Epsilon:  0.5\n",
            "Seed Percentage : 88 Contamination:  0.06\n",
            "original_std :  125.64182957698345\n"
          ],
          "name": "stdout"
        },
        {
          "output_type": "stream",
          "text": [
            "/usr/local/lib/python3.6/dist-packages/sklearn/neighbors/lof.py:253: UserWarning: n_neighbors (20) is greater than the total number of samples (16). n_neighbors will be set to (n_samples - 1) for estimation.\n",
            "  % (self.n_neighbors, n_samples))\n"
          ],
          "name": "stderr"
        },
        {
          "output_type": "stream",
          "text": [
            "Epsilon:  0.526\n",
            "Seed Percentage : 86 Contamination:  0.07\n",
            "original_std :  56.23867472071945\n",
            "Epsilon:  0.435\n",
            "Seed Percentage : 88 Contamination:  0.06\n",
            "original_std :  18.973665961010276\n",
            "Epsilon:  1.0\n",
            "Seed Percentage : 88 Contamination:  0.06\n",
            "original_std :  122.72412150836526\n"
          ],
          "name": "stdout"
        },
        {
          "output_type": "stream",
          "text": [
            "/usr/local/lib/python3.6/dist-packages/sklearn/neighbors/lof.py:253: UserWarning: n_neighbors (20) is greater than the total number of samples (7). n_neighbors will be set to (n_samples - 1) for estimation.\n",
            "  % (self.n_neighbors, n_samples))\n"
          ],
          "name": "stderr"
        },
        {
          "output_type": "stream",
          "text": [
            "Epsilon:  0.466\n",
            "Seed Percentage : 88 Contamination:  0.06\n",
            "original_std :  26.95225458887381\n"
          ],
          "name": "stdout"
        },
        {
          "output_type": "stream",
          "text": [
            "/usr/local/lib/python3.6/dist-packages/sklearn/neighbors/lof.py:253: UserWarning: n_neighbors (20) is greater than the total number of samples (10). n_neighbors will be set to (n_samples - 1) for estimation.\n",
            "  % (self.n_neighbors, n_samples))\n"
          ],
          "name": "stderr"
        },
        {
          "output_type": "stream",
          "text": [
            "Epsilon:  0.143\n",
            "Seed Percentage : 88 Contamination:  0.06\n",
            "original_std :  149.49639980186484\n",
            "Epsilon:  0.521\n",
            "Seed Percentage : 88 Contamination:  0.06\n",
            "original_std :  34.797119222327005\n"
          ],
          "name": "stdout"
        },
        {
          "output_type": "stream",
          "text": [
            "/usr/local/lib/python3.6/dist-packages/sklearn/neighbors/lof.py:253: UserWarning: n_neighbors (20) is greater than the total number of samples (11). n_neighbors will be set to (n_samples - 1) for estimation.\n",
            "  % (self.n_neighbors, n_samples))\n"
          ],
          "name": "stderr"
        },
        {
          "output_type": "stream",
          "text": [
            "Epsilon:  0.566\n",
            "Seed Percentage : 88 Contamination:  0.06\n",
            "original_std :  0.0\n"
          ],
          "name": "stdout"
        },
        {
          "output_type": "stream",
          "text": [
            "/usr/local/lib/python3.6/dist-packages/sklearn/neighbors/lof.py:253: UserWarning: n_neighbors (20) is greater than the total number of samples (9). n_neighbors will be set to (n_samples - 1) for estimation.\n",
            "  % (self.n_neighbors, n_samples))\n"
          ],
          "name": "stderr"
        },
        {
          "output_type": "stream",
          "text": [
            "Epsilon:  0.5\n",
            "Seed Percentage : 88 Contamination:  0.06\n",
            "original_std :  349.83115606689756\n"
          ],
          "name": "stdout"
        },
        {
          "output_type": "stream",
          "text": [
            "/usr/local/lib/python3.6/dist-packages/sklearn/neighbors/lof.py:253: UserWarning: n_neighbors (20) is greater than the total number of samples (7). n_neighbors will be set to (n_samples - 1) for estimation.\n",
            "  % (self.n_neighbors, n_samples))\n"
          ],
          "name": "stderr"
        },
        {
          "output_type": "stream",
          "text": [
            "Epsilon:  0.843\n",
            "Seed Percentage : 88 Contamination:  0.06\n",
            "original_std :  93.9259030274161\n",
            "Epsilon:  0.406\n",
            "Seed Percentage : 94 Contamination:  0.03\n",
            "original_std :  3.7682633152635696\n",
            "Epsilon:  0.795\n",
            "Seed Percentage : 88 Contamination:  0.06\n",
            "original_std :  65.50432296063072\n",
            "Epsilon:  1.0\n",
            "Seed Percentage : 88 Contamination:  0.06\n",
            "original_std :  0.0\n"
          ],
          "name": "stdout"
        },
        {
          "output_type": "stream",
          "text": [
            "/usr/local/lib/python3.6/dist-packages/sklearn/neighbors/lof.py:253: UserWarning: n_neighbors (20) is greater than the total number of samples (14). n_neighbors will be set to (n_samples - 1) for estimation.\n",
            "  % (self.n_neighbors, n_samples))\n"
          ],
          "name": "stderr"
        },
        {
          "output_type": "stream",
          "text": [
            "Epsilon:  0.5\n",
            "Seed Percentage : 88 Contamination:  0.06\n",
            "original_std :  91731.46800429077\n"
          ],
          "name": "stdout"
        },
        {
          "output_type": "stream",
          "text": [
            "/usr/local/lib/python3.6/dist-packages/sklearn/neighbors/lof.py:253: UserWarning: n_neighbors (20) is greater than the total number of samples (15). n_neighbors will be set to (n_samples - 1) for estimation.\n",
            "  % (self.n_neighbors, n_samples))\n"
          ],
          "name": "stderr"
        },
        {
          "output_type": "stream",
          "text": [
            "Epsilon:  0.264\n",
            "Seed Percentage : 88 Contamination:  0.06\n",
            "original_std :  30881.22406900348\n",
            "Epsilon:  0.723\n",
            "Seed Percentage : 97 Contamination:  0.015\n",
            "original_std :  98126.95788021653\n"
          ],
          "name": "stdout"
        },
        {
          "output_type": "stream",
          "text": [
            "/usr/local/lib/python3.6/dist-packages/sklearn/neighbors/lof.py:253: UserWarning: n_neighbors (20) is greater than the total number of samples (8). n_neighbors will be set to (n_samples - 1) for estimation.\n",
            "  % (self.n_neighbors, n_samples))\n"
          ],
          "name": "stderr"
        },
        {
          "output_type": "stream",
          "text": [
            "Epsilon:  0.408\n",
            "Seed Percentage : 88 Contamination:  0.06\n",
            "original_std :  344728.69016443234\n",
            "Epsilon:  0.861\n",
            "Seed Percentage : 87 Contamination:  0.065\n",
            "original_std :  1003602.4209629698\n"
          ],
          "name": "stdout"
        },
        {
          "output_type": "stream",
          "text": [
            "/usr/local/lib/python3.6/dist-packages/sklearn/neighbors/lof.py:253: UserWarning: n_neighbors (20) is greater than the total number of samples (13). n_neighbors will be set to (n_samples - 1) for estimation.\n",
            "  % (self.n_neighbors, n_samples))\n"
          ],
          "name": "stderr"
        },
        {
          "output_type": "stream",
          "text": [
            "Epsilon:  0.782\n",
            "Seed Percentage : 87 Contamination:  0.065\n",
            "original_std :  46596.830884057985\n",
            "Epsilon:  0.495\n",
            "Seed Percentage : 88 Contamination:  0.06\n",
            "original_std :  243940.46471016612\n"
          ],
          "name": "stdout"
        },
        {
          "output_type": "stream",
          "text": [
            "/usr/local/lib/python3.6/dist-packages/sklearn/neighbors/lof.py:253: UserWarning: n_neighbors (20) is greater than the total number of samples (16). n_neighbors will be set to (n_samples - 1) for estimation.\n",
            "  % (self.n_neighbors, n_samples))\n"
          ],
          "name": "stderr"
        },
        {
          "output_type": "stream",
          "text": [
            "Epsilon:  0.378\n",
            "Seed Percentage : 88 Contamination:  0.06\n",
            "original_std :  0.0\n",
            "Epsilon:  0.5\n",
            "Seed Percentage : 88 Contamination:  0.06\n",
            "original_std :  38570.993428870876\n"
          ],
          "name": "stdout"
        },
        {
          "output_type": "stream",
          "text": [
            "/usr/local/lib/python3.6/dist-packages/sklearn/neighbors/lof.py:253: UserWarning: n_neighbors (20) is greater than the total number of samples (8). n_neighbors will be set to (n_samples - 1) for estimation.\n",
            "  % (self.n_neighbors, n_samples))\n"
          ],
          "name": "stderr"
        },
        {
          "output_type": "stream",
          "text": [
            "Epsilon:  0.236\n",
            "Seed Percentage : 88 Contamination:  0.06\n",
            "original_std :  1071263.4281745916\n",
            "Epsilon:  0.768\n",
            "Seed Percentage : 95 Contamination:  0.025\n",
            "original_std :  17645.314193193157\n",
            "Epsilon:  0.318\n",
            "Seed Percentage : 88 Contamination:  0.06\n",
            "original_std :  70380.3450456873\n",
            "Epsilon:  0.275\n",
            "Seed Percentage : 88 Contamination:  0.06\n",
            "original_std :  2165.0635094610966\n",
            "Epsilon:  1.0\n",
            "Seed Percentage : 97 Contamination:  0.015\n",
            "original_std :  198611.27824470765\n"
          ],
          "name": "stdout"
        },
        {
          "output_type": "stream",
          "text": [
            "/usr/local/lib/python3.6/dist-packages/sklearn/neighbors/lof.py:253: UserWarning: n_neighbors (20) is greater than the total number of samples (8). n_neighbors will be set to (n_samples - 1) for estimation.\n",
            "  % (self.n_neighbors, n_samples))\n"
          ],
          "name": "stderr"
        },
        {
          "output_type": "stream",
          "text": [
            "Epsilon:  0.467\n",
            "Seed Percentage : 88 Contamination:  0.06\n",
            "original_std :  56514.06904479627\n",
            "Epsilon:  0.774\n",
            "Seed Percentage : 88 Contamination:  0.06\n",
            "original_std :  1571.3484026367723\n",
            "Epsilon:  1.0\n",
            "Seed Percentage : 88 Contamination:  0.06\n",
            "original_std :  0.0\n"
          ],
          "name": "stdout"
        },
        {
          "output_type": "stream",
          "text": [
            "/usr/local/lib/python3.6/dist-packages/sklearn/neighbors/lof.py:253: UserWarning: n_neighbors (20) is greater than the total number of samples (9). n_neighbors will be set to (n_samples - 1) for estimation.\n",
            "  % (self.n_neighbors, n_samples))\n"
          ],
          "name": "stderr"
        },
        {
          "output_type": "stream",
          "text": [
            "Epsilon:  0.5\n",
            "Seed Percentage : 89 Contamination:  0.055\n",
            "original_std :  269092.66620563256\n"
          ],
          "name": "stdout"
        },
        {
          "output_type": "stream",
          "text": [
            "/usr/local/lib/python3.6/dist-packages/sklearn/neighbors/lof.py:253: UserWarning: n_neighbors (20) is greater than the total number of samples (10). n_neighbors will be set to (n_samples - 1) for estimation.\n",
            "  % (self.n_neighbors, n_samples))\n"
          ],
          "name": "stderr"
        },
        {
          "output_type": "stream",
          "text": [
            "Epsilon:  0.455\n",
            "Seed Percentage : 88 Contamination:  0.06\n",
            "original_std :  133520.19096001922\n",
            "Epsilon:  0.502\n",
            "Seed Percentage : 88 Contamination:  0.06\n",
            "original_std :  134135.0550326494\n"
          ],
          "name": "stdout"
        },
        {
          "output_type": "stream",
          "text": [
            "/usr/local/lib/python3.6/dist-packages/sklearn/neighbors/lof.py:253: UserWarning: n_neighbors (20) is greater than the total number of samples (16). n_neighbors will be set to (n_samples - 1) for estimation.\n",
            "  % (self.n_neighbors, n_samples))\n"
          ],
          "name": "stderr"
        },
        {
          "output_type": "stream",
          "text": [
            "Epsilon:  0.233\n",
            "Seed Percentage : 88 Contamination:  0.06\n",
            "original_std :  1175687.3064264837\n",
            "Epsilon:  0.444\n",
            "Seed Percentage : 88 Contamination:  0.06\n",
            "original_std :  99.38079899999066\n",
            "Epsilon:  1.0\n",
            "Seed Percentage : 86 Contamination:  0.07\n",
            "original_std :  81830.64974857203\n"
          ],
          "name": "stdout"
        },
        {
          "output_type": "stream",
          "text": [
            "/usr/local/lib/python3.6/dist-packages/sklearn/neighbors/lof.py:253: UserWarning: n_neighbors (20) is greater than the total number of samples (9). n_neighbors will be set to (n_samples - 1) for estimation.\n",
            "  % (self.n_neighbors, n_samples))\n"
          ],
          "name": "stderr"
        },
        {
          "output_type": "stream",
          "text": [
            "Epsilon:  0.327\n",
            "Seed Percentage : 88 Contamination:  0.06\n",
            "original_std :  4.5175395145262565\n",
            "Epsilon:  1.0\n",
            "Seed Percentage : 88 Contamination:  0.06\n",
            "original_std :  2798.687739142131\n"
          ],
          "name": "stdout"
        },
        {
          "output_type": "stream",
          "text": [
            "/usr/local/lib/python3.6/dist-packages/sklearn/neighbors/lof.py:253: UserWarning: n_neighbors (20) is greater than the total number of samples (7). n_neighbors will be set to (n_samples - 1) for estimation.\n",
            "  % (self.n_neighbors, n_samples))\n"
          ],
          "name": "stderr"
        },
        {
          "output_type": "stream",
          "text": [
            "Epsilon:  0.568\n",
            "Seed Percentage : 88 Contamination:  0.06\n",
            "original_std :  54.803943491524606\n"
          ],
          "name": "stdout"
        },
        {
          "output_type": "stream",
          "text": [
            "/usr/local/lib/python3.6/dist-packages/sklearn/neighbors/lof.py:253: UserWarning: n_neighbors (20) is greater than the total number of samples (7). n_neighbors will be set to (n_samples - 1) for estimation.\n",
            "  % (self.n_neighbors, n_samples))\n"
          ],
          "name": "stderr"
        },
        {
          "output_type": "stream",
          "text": [
            "Epsilon:  0.606\n",
            "Seed Percentage : 95 Contamination:  0.025\n",
            "original_std :  1778.6665406692384\n"
          ],
          "name": "stdout"
        },
        {
          "output_type": "stream",
          "text": [
            "/usr/local/lib/python3.6/dist-packages/sklearn/neighbors/lof.py:253: UserWarning: n_neighbors (20) is greater than the total number of samples (12). n_neighbors will be set to (n_samples - 1) for estimation.\n",
            "  % (self.n_neighbors, n_samples))\n"
          ],
          "name": "stderr"
        },
        {
          "output_type": "stream",
          "text": [
            "Epsilon:  0.375\n",
            "Seed Percentage : 88 Contamination:  0.06\n",
            "original_std :  56553.21832771519\n",
            "Epsilon:  0.22\n",
            "Seed Percentage : 88 Contamination:  0.06\n",
            "original_std :  10842.30397819373\n",
            "Epsilon:  1.0\n",
            "Seed Percentage : 88 Contamination:  0.06\n",
            "original_std :  578.1218315121873\n"
          ],
          "name": "stdout"
        },
        {
          "output_type": "stream",
          "text": [
            "/usr/local/lib/python3.6/dist-packages/sklearn/neighbors/lof.py:253: UserWarning: n_neighbors (20) is greater than the total number of samples (6). n_neighbors will be set to (n_samples - 1) for estimation.\n",
            "  % (self.n_neighbors, n_samples))\n"
          ],
          "name": "stderr"
        },
        {
          "output_type": "stream",
          "text": [
            "Epsilon:  0.652\n",
            "Seed Percentage : 88 Contamination:  0.06\n",
            "original_std :  595.8664432419552\n"
          ],
          "name": "stdout"
        },
        {
          "output_type": "stream",
          "text": [
            "/usr/local/lib/python3.6/dist-packages/sklearn/neighbors/lof.py:253: UserWarning: n_neighbors (20) is greater than the total number of samples (13). n_neighbors will be set to (n_samples - 1) for estimation.\n",
            "  % (self.n_neighbors, n_samples))\n"
          ],
          "name": "stderr"
        },
        {
          "output_type": "stream",
          "text": [
            "Epsilon:  0.28\n",
            "Seed Percentage : 88 Contamination:  0.06\n",
            "original_std :  523918.6120301112\n",
            "Epsilon:  0.941\n",
            "Seed Percentage : 88 Contamination:  0.06\n",
            "original_std :  0.0\n",
            "Epsilon:  0.5\n",
            "Seed Percentage : 88 Contamination:  0.06\n",
            "original_std :  638.5285819757797\n"
          ],
          "name": "stdout"
        },
        {
          "output_type": "stream",
          "text": [
            "/usr/local/lib/python3.6/dist-packages/sklearn/neighbors/lof.py:253: UserWarning: n_neighbors (20) is greater than the total number of samples (6). n_neighbors will be set to (n_samples - 1) for estimation.\n",
            "  % (self.n_neighbors, n_samples))\n"
          ],
          "name": "stderr"
        },
        {
          "output_type": "stream",
          "text": [
            "Epsilon:  0.776\n",
            "Seed Percentage : 92 Contamination:  0.04\n",
            "original_std :  4351.978575325169\n"
          ],
          "name": "stdout"
        },
        {
          "output_type": "stream",
          "text": [
            "/usr/local/lib/python3.6/dist-packages/sklearn/neighbors/lof.py:253: UserWarning: n_neighbors (20) is greater than the total number of samples (16). n_neighbors will be set to (n_samples - 1) for estimation.\n",
            "  % (self.n_neighbors, n_samples))\n"
          ],
          "name": "stderr"
        },
        {
          "output_type": "stream",
          "text": [
            "Epsilon:  0.459\n",
            "Seed Percentage : 91 Contamination:  0.045\n",
            "original_std :  6208.401793643423\n",
            "Epsilon:  0.703\n",
            "Seed Percentage : 88 Contamination:  0.06\n",
            "original_std :  0.0\n",
            "Epsilon:  0.5\n",
            "Seed Percentage : 88 Contamination:  0.06\n",
            "original_std :  59884.138641280115\n"
          ],
          "name": "stdout"
        },
        {
          "output_type": "stream",
          "text": [
            "/usr/local/lib/python3.6/dist-packages/sklearn/neighbors/lof.py:253: UserWarning: n_neighbors (20) is greater than the total number of samples (7). n_neighbors will be set to (n_samples - 1) for estimation.\n",
            "  % (self.n_neighbors, n_samples))\n"
          ],
          "name": "stderr"
        },
        {
          "output_type": "stream",
          "text": [
            "Epsilon:  0.751\n",
            "Seed Percentage : 91 Contamination:  0.045\n",
            "original_std :  23988.967818627\n",
            "Epsilon:  0.493\n",
            "Seed Percentage : 88 Contamination:  0.06\n",
            "original_std :  1192016.4540714642\n",
            "Epsilon:  0.477\n",
            "Seed Percentage : 88 Contamination:  0.06\n",
            "original_std :  630798.3627075008\n",
            "Epsilon:  0.679\n",
            "Seed Percentage : 92 Contamination:  0.04\n",
            "original_std :  21983.956058443888\n",
            "Epsilon:  0.591\n",
            "Seed Percentage : 88 Contamination:  0.06\n",
            "original_std :  54561.88251368807\n",
            "Epsilon:  0.506\n",
            "Seed Percentage : 87 Contamination:  0.065\n",
            "original_std :  169123.36922087523\n"
          ],
          "name": "stdout"
        },
        {
          "output_type": "stream",
          "text": [
            "/usr/local/lib/python3.6/dist-packages/sklearn/neighbors/lof.py:253: UserWarning: n_neighbors (20) is greater than the total number of samples (16). n_neighbors will be set to (n_samples - 1) for estimation.\n",
            "  % (self.n_neighbors, n_samples))\n"
          ],
          "name": "stderr"
        },
        {
          "output_type": "stream",
          "text": [
            "Epsilon:  0.172\n",
            "Seed Percentage : 88 Contamination:  0.06\n",
            "original_std :  63686.73331236263\n",
            "Epsilon:  1.0\n",
            "Seed Percentage : 93 Contamination:  0.035\n",
            "original_std :  653431.2294479915\n"
          ],
          "name": "stdout"
        },
        {
          "output_type": "stream",
          "text": [
            "/usr/local/lib/python3.6/dist-packages/sklearn/neighbors/lof.py:253: UserWarning: n_neighbors (20) is greater than the total number of samples (10). n_neighbors will be set to (n_samples - 1) for estimation.\n",
            "  % (self.n_neighbors, n_samples))\n"
          ],
          "name": "stderr"
        },
        {
          "output_type": "stream",
          "text": [
            "Epsilon:  0.446\n",
            "Seed Percentage : 88 Contamination:  0.06\n",
            "original_std :  17.5\n",
            "Epsilon:  1.0\n",
            "Seed Percentage : 88 Contamination:  0.06\n",
            "original_std :  1024.5436004416772\n"
          ],
          "name": "stdout"
        },
        {
          "output_type": "stream",
          "text": [
            "/usr/local/lib/python3.6/dist-packages/sklearn/neighbors/lof.py:253: UserWarning: n_neighbors (20) is greater than the total number of samples (10). n_neighbors will be set to (n_samples - 1) for estimation.\n",
            "  % (self.n_neighbors, n_samples))\n"
          ],
          "name": "stderr"
        },
        {
          "output_type": "stream",
          "text": [
            "Epsilon:  0.439\n",
            "Seed Percentage : 88 Contamination:  0.06\n",
            "original_std :  9769.872056480575\n",
            "Epsilon:  0.67\n",
            "Seed Percentage : 98 Contamination:  0.01\n",
            "original_std :  23942.839990763474\n"
          ],
          "name": "stdout"
        },
        {
          "output_type": "stream",
          "text": [
            "/usr/local/lib/python3.6/dist-packages/sklearn/neighbors/lof.py:253: UserWarning: n_neighbors (20) is greater than the total number of samples (15). n_neighbors will be set to (n_samples - 1) for estimation.\n",
            "  % (self.n_neighbors, n_samples))\n"
          ],
          "name": "stderr"
        },
        {
          "output_type": "stream",
          "text": [
            "Epsilon:  0.506\n",
            "Seed Percentage : 98 Contamination:  0.01\n",
            "original_std :  16728.742275359877\n",
            "Epsilon:  0.239\n",
            "Seed Percentage : 96 Contamination:  0.02\n",
            "original_std :  77027.14127017886\n",
            "Epsilon:  0.212\n",
            "Seed Percentage : 88 Contamination:  0.06\n",
            "original_std :  486.78487519073815\n",
            "Epsilon:  0.437\n",
            "Seed Percentage : 88 Contamination:  0.06\n",
            "original_std :  0.0\n",
            "Epsilon:  0.5\n",
            "Seed Percentage : 88 Contamination:  0.06\n",
            "original_std :  2.1863775779997945\n"
          ],
          "name": "stdout"
        },
        {
          "output_type": "stream",
          "text": [
            "/usr/local/lib/python3.6/dist-packages/sklearn/neighbors/lof.py:253: UserWarning: n_neighbors (20) is greater than the total number of samples (8). n_neighbors will be set to (n_samples - 1) for estimation.\n",
            "  % (self.n_neighbors, n_samples))\n"
          ],
          "name": "stderr"
        },
        {
          "output_type": "stream",
          "text": [
            "Epsilon:  1.0\n",
            "Seed Percentage : 88 Contamination:  0.06\n",
            "original_std :  66.19601353937261\n"
          ],
          "name": "stdout"
        },
        {
          "output_type": "stream",
          "text": [
            "/usr/local/lib/python3.6/dist-packages/sklearn/neighbors/lof.py:253: UserWarning: n_neighbors (20) is greater than the total number of samples (9). n_neighbors will be set to (n_samples - 1) for estimation.\n",
            "  % (self.n_neighbors, n_samples))\n"
          ],
          "name": "stderr"
        },
        {
          "output_type": "stream",
          "text": [
            "Epsilon:  0.561\n",
            "Seed Percentage : 88 Contamination:  0.06\n",
            "original_std :  72.79224366486304\n",
            "Epsilon:  0.505\n",
            "Seed Percentage : 88 Contamination:  0.06\n",
            "original_std :  49.69039949999533\n",
            "Epsilon:  1.0\n",
            "Seed Percentage : 88 Contamination:  0.06\n",
            "original_std :  250.0\n"
          ],
          "name": "stdout"
        },
        {
          "output_type": "stream",
          "text": [
            "/usr/local/lib/python3.6/dist-packages/sklearn/neighbors/lof.py:253: UserWarning: n_neighbors (20) is greater than the total number of samples (9). n_neighbors will be set to (n_samples - 1) for estimation.\n",
            "  % (self.n_neighbors, n_samples))\n"
          ],
          "name": "stderr"
        },
        {
          "output_type": "stream",
          "text": [
            "Epsilon:  1.0\n",
            "Seed Percentage : 95 Contamination:  0.025\n",
            "original_std :  1982.105060619909\n"
          ],
          "name": "stdout"
        },
        {
          "output_type": "stream",
          "text": [
            "/usr/local/lib/python3.6/dist-packages/sklearn/neighbors/lof.py:253: UserWarning: n_neighbors (20) is greater than the total number of samples (10). n_neighbors will be set to (n_samples - 1) for estimation.\n",
            "  % (self.n_neighbors, n_samples))\n"
          ],
          "name": "stderr"
        },
        {
          "output_type": "stream",
          "text": [
            "Epsilon:  0.528\n",
            "Seed Percentage : 88 Contamination:  0.06\n",
            "original_std :  421.6318743880733\n",
            "Epsilon:  0.619\n",
            "Seed Percentage : 88 Contamination:  0.06\n",
            "original_std :  985.1408211519813\n"
          ],
          "name": "stdout"
        },
        {
          "output_type": "stream",
          "text": [
            "/usr/local/lib/python3.6/dist-packages/sklearn/neighbors/lof.py:253: UserWarning: n_neighbors (20) is greater than the total number of samples (8). n_neighbors will be set to (n_samples - 1) for estimation.\n",
            "  % (self.n_neighbors, n_samples))\n"
          ],
          "name": "stderr"
        },
        {
          "output_type": "stream",
          "text": [
            "Epsilon:  0.5\n",
            "Seed Percentage : 88 Contamination:  0.06\n",
            "original_std :  0.0\n"
          ],
          "name": "stdout"
        },
        {
          "output_type": "stream",
          "text": [
            "/usr/local/lib/python3.6/dist-packages/sklearn/neighbors/lof.py:253: UserWarning: n_neighbors (20) is greater than the total number of samples (8). n_neighbors will be set to (n_samples - 1) for estimation.\n",
            "  % (self.n_neighbors, n_samples))\n"
          ],
          "name": "stderr"
        },
        {
          "output_type": "stream",
          "text": [
            "Epsilon:  0.5\n",
            "Seed Percentage : 88 Contamination:  0.06\n",
            "original_std :  253046.85640896932\n"
          ],
          "name": "stdout"
        },
        {
          "output_type": "stream",
          "text": [
            "/usr/local/lib/python3.6/dist-packages/sklearn/neighbors/lof.py:253: UserWarning: n_neighbors (20) is greater than the total number of samples (6). n_neighbors will be set to (n_samples - 1) for estimation.\n",
            "  % (self.n_neighbors, n_samples))\n"
          ],
          "name": "stderr"
        },
        {
          "output_type": "stream",
          "text": [
            "Epsilon:  0.619\n",
            "Seed Percentage : 88 Contamination:  0.06\n",
            "original_std :  296482.22422085074\n",
            "Epsilon:  0.244\n",
            "Seed Percentage : 86 Contamination:  0.07\n",
            "original_std :  813.8980914744702\n",
            "Epsilon:  0.415\n",
            "Seed Percentage : 88 Contamination:  0.06\n",
            "original_std :  0.0\n",
            "Epsilon:  0.5\n",
            "Seed Percentage : 88 Contamination:  0.06\n",
            "original_std :  445.36177141512326\n"
          ],
          "name": "stdout"
        },
        {
          "output_type": "stream",
          "text": [
            "/usr/local/lib/python3.6/dist-packages/sklearn/neighbors/lof.py:253: UserWarning: n_neighbors (20) is greater than the total number of samples (6). n_neighbors will be set to (n_samples - 1) for estimation.\n",
            "  % (self.n_neighbors, n_samples))\n"
          ],
          "name": "stderr"
        },
        {
          "output_type": "stream",
          "text": [
            "Epsilon:  1.0\n",
            "Seed Percentage : 88 Contamination:  0.06\n",
            "original_std :  179.5995545651492\n"
          ],
          "name": "stdout"
        },
        {
          "output_type": "stream",
          "text": [
            "/usr/local/lib/python3.6/dist-packages/sklearn/neighbors/lof.py:253: UserWarning: n_neighbors (20) is greater than the total number of samples (11). n_neighbors will be set to (n_samples - 1) for estimation.\n",
            "  % (self.n_neighbors, n_samples))\n"
          ],
          "name": "stderr"
        },
        {
          "output_type": "stream",
          "text": [
            "Epsilon:  1.0\n",
            "Seed Percentage : 89 Contamination:  0.055\n",
            "original_std :  39663.98648036108\n"
          ],
          "name": "stdout"
        },
        {
          "output_type": "stream",
          "text": [
            "/usr/local/lib/python3.6/dist-packages/sklearn/neighbors/lof.py:253: UserWarning: n_neighbors (20) is greater than the total number of samples (15). n_neighbors will be set to (n_samples - 1) for estimation.\n",
            "  % (self.n_neighbors, n_samples))\n"
          ],
          "name": "stderr"
        },
        {
          "output_type": "stream",
          "text": [
            "Epsilon:  0.404\n",
            "Seed Percentage : 88 Contamination:  0.06\n",
            "original_std :  4823.932585172991\n",
            "Epsilon:  0.375\n",
            "Seed Percentage : 88 Contamination:  0.06\n",
            "original_std :  30060.88374959547\n",
            "Epsilon:  0.65\n",
            "Seed Percentage : 88 Contamination:  0.06\n",
            "original_std :  24098.604639086894\n",
            "Epsilon:  0.604\n",
            "Seed Percentage : 95 Contamination:  0.025\n",
            "original_std :  242374.29646473832\n"
          ],
          "name": "stdout"
        },
        {
          "output_type": "stream",
          "text": [
            "/usr/local/lib/python3.6/dist-packages/sklearn/neighbors/lof.py:253: UserWarning: n_neighbors (20) is greater than the total number of samples (14). n_neighbors will be set to (n_samples - 1) for estimation.\n",
            "  % (self.n_neighbors, n_samples))\n"
          ],
          "name": "stderr"
        },
        {
          "output_type": "stream",
          "text": [
            "Epsilon:  0.497\n",
            "Seed Percentage : 86 Contamination:  0.07\n",
            "original_std :  195756.875145336\n",
            "Epsilon:  0.396\n",
            "Seed Percentage : 88 Contamination:  0.06\n",
            "original_std :  0.0\n",
            "Epsilon:  0.5\n",
            "Seed Percentage : 88 Contamination:  0.06\n",
            "original_std :  101856.85028388527\n"
          ],
          "name": "stdout"
        },
        {
          "output_type": "stream",
          "text": [
            "/usr/local/lib/python3.6/dist-packages/sklearn/neighbors/lof.py:253: UserWarning: n_neighbors (20) is greater than the total number of samples (16). n_neighbors will be set to (n_samples - 1) for estimation.\n",
            "  % (self.n_neighbors, n_samples))\n"
          ],
          "name": "stderr"
        },
        {
          "output_type": "stream",
          "text": [
            "Epsilon:  0.83\n",
            "Seed Percentage : 88 Contamination:  0.06\n",
            "original_std :  268851.1719159944\n",
            "Epsilon:  0.787\n",
            "Seed Percentage : 90 Contamination:  0.05\n",
            "original_std :  734919.356120112\n",
            "Epsilon:  0.684\n",
            "Seed Percentage : 88 Contamination:  0.06\n",
            "original_std :  204165.79897080647\n",
            "Epsilon:  0.462\n",
            "Seed Percentage : 88 Contamination:  0.06\n",
            "original_std :  238708.33559171925\n",
            "Epsilon:  0.329\n",
            "Seed Percentage : 88 Contamination:  0.06\n",
            "original_std :  0.0\n"
          ],
          "name": "stdout"
        },
        {
          "output_type": "stream",
          "text": [
            "/usr/local/lib/python3.6/dist-packages/sklearn/neighbors/lof.py:253: UserWarning: n_neighbors (20) is greater than the total number of samples (17). n_neighbors will be set to (n_samples - 1) for estimation.\n",
            "  % (self.n_neighbors, n_samples))\n"
          ],
          "name": "stderr"
        },
        {
          "output_type": "stream",
          "text": [
            "Epsilon:  0.5\n",
            "Seed Percentage : 88 Contamination:  0.06\n",
            "original_std :  263681.3391945964\n"
          ],
          "name": "stdout"
        },
        {
          "output_type": "stream",
          "text": [
            "/usr/local/lib/python3.6/dist-packages/sklearn/neighbors/lof.py:253: UserWarning: n_neighbors (20) is greater than the total number of samples (6). n_neighbors will be set to (n_samples - 1) for estimation.\n",
            "  % (self.n_neighbors, n_samples))\n"
          ],
          "name": "stderr"
        },
        {
          "output_type": "stream",
          "text": [
            "Epsilon:  0.364\n",
            "Seed Percentage : 87 Contamination:  0.065\n",
            "original_std :  1068.3151509370186\n",
            "Epsilon:  0.428\n",
            "Seed Percentage : 88 Contamination:  0.06\n",
            "original_std :  0.0\n",
            "Epsilon:  0.5\n",
            "Seed Percentage : 90 Contamination:  0.05\n",
            "original_std :  73505.9300205023\n"
          ],
          "name": "stdout"
        },
        {
          "output_type": "stream",
          "text": [
            "/usr/local/lib/python3.6/dist-packages/sklearn/neighbors/lof.py:253: UserWarning: n_neighbors (20) is greater than the total number of samples (7). n_neighbors will be set to (n_samples - 1) for estimation.\n",
            "  % (self.n_neighbors, n_samples))\n"
          ],
          "name": "stderr"
        },
        {
          "output_type": "stream",
          "text": [
            "Epsilon:  0.648\n",
            "Seed Percentage : 88 Contamination:  0.06\n",
            "original_std :  1111314.720573459\n",
            "Epsilon:  1.0\n",
            "Seed Percentage : 88 Contamination:  0.06\n",
            "original_std :  129286.91571834995\n"
          ],
          "name": "stdout"
        },
        {
          "output_type": "stream",
          "text": [
            "/usr/local/lib/python3.6/dist-packages/sklearn/neighbors/lof.py:253: UserWarning: n_neighbors (20) is greater than the total number of samples (7). n_neighbors will be set to (n_samples - 1) for estimation.\n",
            "  % (self.n_neighbors, n_samples))\n"
          ],
          "name": "stderr"
        },
        {
          "output_type": "stream",
          "text": [
            "Epsilon:  0.27\n",
            "Seed Percentage : 88 Contamination:  0.06\n",
            "original_std :  56655.77237325317\n",
            "Epsilon:  0.5\n",
            "Seed Percentage : 88 Contamination:  0.06\n",
            "original_std :  197135.6695837215\n"
          ],
          "name": "stdout"
        },
        {
          "output_type": "stream",
          "text": [
            "/usr/local/lib/python3.6/dist-packages/sklearn/neighbors/lof.py:253: UserWarning: n_neighbors (20) is greater than the total number of samples (9). n_neighbors will be set to (n_samples - 1) for estimation.\n",
            "  % (self.n_neighbors, n_samples))\n"
          ],
          "name": "stderr"
        },
        {
          "output_type": "stream",
          "text": [
            "Epsilon:  0.338\n",
            "Seed Percentage : 88 Contamination:  0.06\n",
            "original_std :  232272.72178185414\n",
            "Epsilon:  0.9\n",
            "Seed Percentage : 95 Contamination:  0.025\n",
            "original_std :  96733.87514116442\n"
          ],
          "name": "stdout"
        },
        {
          "output_type": "stream",
          "text": [
            "/usr/local/lib/python3.6/dist-packages/sklearn/neighbors/lof.py:253: UserWarning: n_neighbors (20) is greater than the total number of samples (9). n_neighbors will be set to (n_samples - 1) for estimation.\n",
            "  % (self.n_neighbors, n_samples))\n"
          ],
          "name": "stderr"
        },
        {
          "output_type": "stream",
          "text": [
            "Epsilon:  0.22\n",
            "Seed Percentage : 88 Contamination:  0.06\n",
            "original_std :  220000.0\n",
            "Epsilon:  1.0\n",
            "Seed Percentage : 86 Contamination:  0.07\n",
            "original_std :  417384.75142048066\n"
          ],
          "name": "stdout"
        },
        {
          "output_type": "stream",
          "text": [
            "/usr/local/lib/python3.6/dist-packages/sklearn/neighbors/lof.py:253: UserWarning: n_neighbors (20) is greater than the total number of samples (12). n_neighbors will be set to (n_samples - 1) for estimation.\n",
            "  % (self.n_neighbors, n_samples))\n"
          ],
          "name": "stderr"
        },
        {
          "output_type": "stream",
          "text": [
            "Epsilon:  0.502\n",
            "Seed Percentage : 88 Contamination:  0.06\n",
            "original_std :  0.0\n",
            "Epsilon:  0.5\n",
            "Seed Percentage : 88 Contamination:  0.06\n",
            "original_std :  422307.72771127586\n"
          ],
          "name": "stdout"
        },
        {
          "output_type": "stream",
          "text": [
            "/usr/local/lib/python3.6/dist-packages/sklearn/neighbors/lof.py:253: UserWarning: n_neighbors (20) is greater than the total number of samples (12). n_neighbors will be set to (n_samples - 1) for estimation.\n",
            "  % (self.n_neighbors, n_samples))\n"
          ],
          "name": "stderr"
        },
        {
          "output_type": "stream",
          "text": [
            "Epsilon:  0.735\n",
            "Seed Percentage : 88 Contamination:  0.06\n",
            "original_std :  0.0\n",
            "Epsilon:  0.5\n",
            "Seed Percentage : 88 Contamination:  0.06\n",
            "original_std :  0.0\n"
          ],
          "name": "stdout"
        },
        {
          "output_type": "stream",
          "text": [
            "/usr/local/lib/python3.6/dist-packages/sklearn/neighbors/lof.py:253: UserWarning: n_neighbors (20) is greater than the total number of samples (8). n_neighbors will be set to (n_samples - 1) for estimation.\n",
            "  % (self.n_neighbors, n_samples))\n"
          ],
          "name": "stderr"
        },
        {
          "output_type": "stream",
          "text": [
            "Epsilon:  0.5\n",
            "Seed Percentage : 88 Contamination:  0.06\n",
            "original_std :  1645942.1113577792\n"
          ],
          "name": "stdout"
        },
        {
          "output_type": "stream",
          "text": [
            "/usr/local/lib/python3.6/dist-packages/sklearn/neighbors/lof.py:253: UserWarning: n_neighbors (20) is greater than the total number of samples (6). n_neighbors will be set to (n_samples - 1) for estimation.\n",
            "  % (self.n_neighbors, n_samples))\n"
          ],
          "name": "stderr"
        },
        {
          "output_type": "stream",
          "text": [
            "Epsilon:  0.186\n",
            "Seed Percentage : 88 Contamination:  0.06\n",
            "original_std :  2313089.6697017606\n",
            "Epsilon:  0.497\n",
            "Seed Percentage : 88 Contamination:  0.06\n",
            "original_std :  61282.58770283412\n",
            "Epsilon:  1.0\n",
            "Seed Percentage : 91 Contamination:  0.045\n",
            "original_std :  233446.62302747107\n"
          ],
          "name": "stdout"
        },
        {
          "output_type": "stream",
          "text": [
            "/usr/local/lib/python3.6/dist-packages/sklearn/neighbors/lof.py:253: UserWarning: n_neighbors (20) is greater than the total number of samples (6). n_neighbors will be set to (n_samples - 1) for estimation.\n",
            "  % (self.n_neighbors, n_samples))\n"
          ],
          "name": "stderr"
        },
        {
          "output_type": "stream",
          "text": [
            "Epsilon:  0.523\n",
            "Seed Percentage : 88 Contamination:  0.06\n",
            "original_std :  1726305.0090800873\n",
            "Epsilon:  0.735\n",
            "Seed Percentage : 97 Contamination:  0.015\n",
            "original_std :  1355744.1959215929\n"
          ],
          "name": "stdout"
        },
        {
          "output_type": "stream",
          "text": [
            "/usr/local/lib/python3.6/dist-packages/sklearn/neighbors/lof.py:253: UserWarning: n_neighbors (20) is greater than the total number of samples (8). n_neighbors will be set to (n_samples - 1) for estimation.\n",
            "  % (self.n_neighbors, n_samples))\n"
          ],
          "name": "stderr"
        },
        {
          "output_type": "stream",
          "text": [
            "Epsilon:  0.386\n",
            "Seed Percentage : 88 Contamination:  0.06\n",
            "original_std :  456.2848130353362\n",
            "Epsilon:  0.288\n",
            "Seed Percentage : 88 Contamination:  0.06\n",
            "original_std :  24.84646732989441\n",
            "Epsilon:  1.0\n",
            "Seed Percentage : 88 Contamination:  0.06\n",
            "original_std :  153.51628578102063\n"
          ],
          "name": "stdout"
        },
        {
          "output_type": "stream",
          "text": [
            "/usr/local/lib/python3.6/dist-packages/sklearn/neighbors/lof.py:253: UserWarning: n_neighbors (20) is greater than the total number of samples (14). n_neighbors will be set to (n_samples - 1) for estimation.\n",
            "  % (self.n_neighbors, n_samples))\n"
          ],
          "name": "stderr"
        },
        {
          "output_type": "stream",
          "text": [
            "Epsilon:  1.0\n",
            "Seed Percentage : 96 Contamination:  0.02\n",
            "original_std :  136.54467610685973\n"
          ],
          "name": "stdout"
        },
        {
          "output_type": "stream",
          "text": [
            "/usr/local/lib/python3.6/dist-packages/sklearn/neighbors/lof.py:253: UserWarning: n_neighbors (20) is greater than the total number of samples (10). n_neighbors will be set to (n_samples - 1) for estimation.\n",
            "  % (self.n_neighbors, n_samples))\n"
          ],
          "name": "stderr"
        },
        {
          "output_type": "stream",
          "text": [
            "Epsilon:  0.625\n",
            "Seed Percentage : 88 Contamination:  0.06\n",
            "original_std :  25.0\n",
            "Epsilon:  1.0\n",
            "Seed Percentage : 88 Contamination:  0.06\n",
            "original_std :  0.0\n"
          ],
          "name": "stdout"
        },
        {
          "output_type": "stream",
          "text": [
            "/usr/local/lib/python3.6/dist-packages/sklearn/neighbors/lof.py:253: UserWarning: n_neighbors (20) is greater than the total number of samples (6). n_neighbors will be set to (n_samples - 1) for estimation.\n",
            "  % (self.n_neighbors, n_samples))\n"
          ],
          "name": "stderr"
        },
        {
          "output_type": "stream",
          "text": [
            "Epsilon:  0.5\n",
            "Seed Percentage : 88 Contamination:  0.06\n",
            "original_std :  2361.5742207768553\n"
          ],
          "name": "stdout"
        },
        {
          "output_type": "stream",
          "text": [
            "/usr/local/lib/python3.6/dist-packages/sklearn/neighbors/lof.py:253: UserWarning: n_neighbors (20) is greater than the total number of samples (6). n_neighbors will be set to (n_samples - 1) for estimation.\n",
            "  % (self.n_neighbors, n_samples))\n"
          ],
          "name": "stderr"
        },
        {
          "output_type": "stream",
          "text": [
            "Epsilon:  0.583\n",
            "Seed Percentage : 88 Contamination:  0.06\n",
            "original_std :  180.703400654953\n",
            "Epsilon:  0.442\n",
            "Seed Percentage : 88 Contamination:  0.06\n",
            "original_std :  27662.35282633943\n"
          ],
          "name": "stdout"
        },
        {
          "output_type": "stream",
          "text": [
            "/usr/local/lib/python3.6/dist-packages/sklearn/neighbors/lof.py:253: UserWarning: n_neighbors (20) is greater than the total number of samples (11). n_neighbors will be set to (n_samples - 1) for estimation.\n",
            "  % (self.n_neighbors, n_samples))\n"
          ],
          "name": "stderr"
        },
        {
          "output_type": "stream",
          "text": [
            "Epsilon:  0.612\n",
            "Seed Percentage : 88 Contamination:  0.06\n",
            "original_std :  7850.88901547674\n"
          ],
          "name": "stdout"
        },
        {
          "output_type": "stream",
          "text": [
            "/usr/local/lib/python3.6/dist-packages/sklearn/neighbors/lof.py:253: UserWarning: n_neighbors (20) is greater than the total number of samples (12). n_neighbors will be set to (n_samples - 1) for estimation.\n",
            "  % (self.n_neighbors, n_samples))\n"
          ],
          "name": "stderr"
        },
        {
          "output_type": "stream",
          "text": [
            "Epsilon:  0.833\n",
            "Seed Percentage : 94 Contamination:  0.03\n",
            "original_std :  331.6890789002984\n"
          ],
          "name": "stdout"
        },
        {
          "output_type": "stream",
          "text": [
            "/usr/local/lib/python3.6/dist-packages/sklearn/neighbors/lof.py:253: UserWarning: n_neighbors (20) is greater than the total number of samples (6). n_neighbors will be set to (n_samples - 1) for estimation.\n",
            "  % (self.n_neighbors, n_samples))\n"
          ],
          "name": "stderr"
        },
        {
          "output_type": "stream",
          "text": [
            "Epsilon:  0.266\n",
            "Seed Percentage : 88 Contamination:  0.06\n",
            "original_std :  258.5773041514321\n"
          ],
          "name": "stdout"
        },
        {
          "output_type": "stream",
          "text": [
            "/usr/local/lib/python3.6/dist-packages/sklearn/neighbors/lof.py:253: UserWarning: n_neighbors (20) is greater than the total number of samples (18). n_neighbors will be set to (n_samples - 1) for estimation.\n",
            "  % (self.n_neighbors, n_samples))\n"
          ],
          "name": "stderr"
        },
        {
          "output_type": "stream",
          "text": [
            "Epsilon:  0.647\n",
            "Seed Percentage : 88 Contamination:  0.06\n",
            "original_std :  429.1626213401577\n"
          ],
          "name": "stdout"
        },
        {
          "output_type": "stream",
          "text": [
            "/usr/local/lib/python3.6/dist-packages/sklearn/neighbors/lof.py:253: UserWarning: n_neighbors (20) is greater than the total number of samples (6). n_neighbors will be set to (n_samples - 1) for estimation.\n",
            "  % (self.n_neighbors, n_samples))\n"
          ],
          "name": "stderr"
        },
        {
          "output_type": "stream",
          "text": [
            "Epsilon:  0.737\n",
            "Seed Percentage : 91 Contamination:  0.045\n",
            "original_std :  324.6920775372965\n"
          ],
          "name": "stdout"
        },
        {
          "output_type": "stream",
          "text": [
            "/usr/local/lib/python3.6/dist-packages/sklearn/neighbors/lof.py:253: UserWarning: n_neighbors (20) is greater than the total number of samples (6). n_neighbors will be set to (n_samples - 1) for estimation.\n",
            "  % (self.n_neighbors, n_samples))\n"
          ],
          "name": "stderr"
        },
        {
          "output_type": "stream",
          "text": [
            "Epsilon:  0.172\n",
            "Seed Percentage : 87 Contamination:  0.065\n",
            "original_std :  383.1027063252751\n",
            "Epsilon:  0.339\n",
            "Seed Percentage : 95 Contamination:  0.025\n",
            "original_std :  298.5701090196405\n"
          ],
          "name": "stdout"
        },
        {
          "output_type": "stream",
          "text": [
            "/usr/local/lib/python3.6/dist-packages/sklearn/neighbors/lof.py:253: UserWarning: n_neighbors (20) is greater than the total number of samples (16). n_neighbors will be set to (n_samples - 1) for estimation.\n",
            "  % (self.n_neighbors, n_samples))\n"
          ],
          "name": "stderr"
        },
        {
          "output_type": "stream",
          "text": [
            "Epsilon:  0.6\n",
            "Seed Percentage : 88 Contamination:  0.06\n",
            "original_std :  445.2721250046116\n",
            "Epsilon:  0.62\n",
            "Seed Percentage : 93 Contamination:  0.035\n",
            "original_std :  377.7536175280861\n"
          ],
          "name": "stdout"
        },
        {
          "output_type": "stream",
          "text": [
            "/usr/local/lib/python3.6/dist-packages/sklearn/neighbors/lof.py:253: UserWarning: n_neighbors (20) is greater than the total number of samples (7). n_neighbors will be set to (n_samples - 1) for estimation.\n",
            "  % (self.n_neighbors, n_samples))\n"
          ],
          "name": "stderr"
        },
        {
          "output_type": "stream",
          "text": [
            "Epsilon:  0.3\n",
            "Seed Percentage : 90 Contamination:  0.05\n",
            "original_std :  313.86081310032955\n"
          ],
          "name": "stdout"
        },
        {
          "output_type": "stream",
          "text": [
            "/usr/local/lib/python3.6/dist-packages/sklearn/neighbors/lof.py:253: UserWarning: n_neighbors (20) is greater than the total number of samples (15). n_neighbors will be set to (n_samples - 1) for estimation.\n",
            "  % (self.n_neighbors, n_samples))\n"
          ],
          "name": "stderr"
        },
        {
          "output_type": "stream",
          "text": [
            "Epsilon:  0.298\n",
            "Seed Percentage : 88 Contamination:  0.06\n",
            "original_std :  185.3441909955704\n",
            "Epsilon:  0.476\n",
            "Seed Percentage : 88 Contamination:  0.06\n",
            "original_std :  0.0\n"
          ],
          "name": "stdout"
        },
        {
          "output_type": "stream",
          "text": [
            "/usr/local/lib/python3.6/dist-packages/sklearn/neighbors/lof.py:253: UserWarning: n_neighbors (20) is greater than the total number of samples (9). n_neighbors will be set to (n_samples - 1) for estimation.\n",
            "  % (self.n_neighbors, n_samples))\n"
          ],
          "name": "stderr"
        },
        {
          "output_type": "stream",
          "text": [
            "Epsilon:  0.5\n",
            "Seed Percentage : 88 Contamination:  0.06\n",
            "original_std :  975.6032251343586\n"
          ],
          "name": "stdout"
        },
        {
          "output_type": "stream",
          "text": [
            "/usr/local/lib/python3.6/dist-packages/sklearn/neighbors/lof.py:253: UserWarning: n_neighbors (20) is greater than the total number of samples (6). n_neighbors will be set to (n_samples - 1) for estimation.\n",
            "  % (self.n_neighbors, n_samples))\n"
          ],
          "name": "stderr"
        },
        {
          "output_type": "stream",
          "text": [
            "Epsilon:  0.41\n",
            "Seed Percentage : 88 Contamination:  0.06\n",
            "original_std :  934.5230512584125\n"
          ],
          "name": "stdout"
        },
        {
          "output_type": "stream",
          "text": [
            "/usr/local/lib/python3.6/dist-packages/sklearn/neighbors/lof.py:253: UserWarning: n_neighbors (20) is greater than the total number of samples (11). n_neighbors will be set to (n_samples - 1) for estimation.\n",
            "  % (self.n_neighbors, n_samples))\n"
          ],
          "name": "stderr"
        },
        {
          "output_type": "stream",
          "text": [
            "Epsilon:  0.345\n",
            "Seed Percentage : 88 Contamination:  0.06\n",
            "original_std :  80.15447379542509\n"
          ],
          "name": "stdout"
        },
        {
          "output_type": "stream",
          "text": [
            "/usr/local/lib/python3.6/dist-packages/sklearn/neighbors/lof.py:253: UserWarning: n_neighbors (20) is greater than the total number of samples (9). n_neighbors will be set to (n_samples - 1) for estimation.\n",
            "  % (self.n_neighbors, n_samples))\n"
          ],
          "name": "stderr"
        },
        {
          "output_type": "stream",
          "text": [
            "Epsilon:  0.384\n",
            "Seed Percentage : 88 Contamination:  0.06\n",
            "original_std :  63.640295343108086\n"
          ],
          "name": "stdout"
        },
        {
          "output_type": "stream",
          "text": [
            "/usr/local/lib/python3.6/dist-packages/sklearn/neighbors/lof.py:253: UserWarning: n_neighbors (20) is greater than the total number of samples (11). n_neighbors will be set to (n_samples - 1) for estimation.\n",
            "  % (self.n_neighbors, n_samples))\n"
          ],
          "name": "stderr"
        },
        {
          "output_type": "stream",
          "text": [
            "Epsilon:  0.29\n",
            "Seed Percentage : 88 Contamination:  0.06\n",
            "original_std :  354972.61240207753\n"
          ],
          "name": "stdout"
        },
        {
          "output_type": "stream",
          "text": [
            "/usr/local/lib/python3.6/dist-packages/sklearn/neighbors/lof.py:253: UserWarning: n_neighbors (20) is greater than the total number of samples (18). n_neighbors will be set to (n_samples - 1) for estimation.\n",
            "  % (self.n_neighbors, n_samples))\n"
          ],
          "name": "stderr"
        },
        {
          "output_type": "stream",
          "text": [
            "Epsilon:  0.455\n",
            "Seed Percentage : 88 Contamination:  0.06\n",
            "original_std :  197112.8413427756\n"
          ],
          "name": "stdout"
        },
        {
          "output_type": "stream",
          "text": [
            "/usr/local/lib/python3.6/dist-packages/sklearn/neighbors/lof.py:253: UserWarning: n_neighbors (20) is greater than the total number of samples (9). n_neighbors will be set to (n_samples - 1) for estimation.\n",
            "  % (self.n_neighbors, n_samples))\n"
          ],
          "name": "stderr"
        },
        {
          "output_type": "stream",
          "text": [
            "Epsilon:  0.318\n",
            "Seed Percentage : 88 Contamination:  0.06\n",
            "original_std :  661580.5989362815\n"
          ],
          "name": "stdout"
        },
        {
          "output_type": "stream",
          "text": [
            "/usr/local/lib/python3.6/dist-packages/sklearn/neighbors/lof.py:253: UserWarning: n_neighbors (20) is greater than the total number of samples (6). n_neighbors will be set to (n_samples - 1) for estimation.\n",
            "  % (self.n_neighbors, n_samples))\n"
          ],
          "name": "stderr"
        },
        {
          "output_type": "stream",
          "text": [
            "Epsilon:  0.4\n",
            "Seed Percentage : 88 Contamination:  0.06\n",
            "original_std :  714759.4000780962\n"
          ],
          "name": "stdout"
        },
        {
          "output_type": "stream",
          "text": [
            "/usr/local/lib/python3.6/dist-packages/sklearn/neighbors/lof.py:253: UserWarning: n_neighbors (20) is greater than the total number of samples (9). n_neighbors will be set to (n_samples - 1) for estimation.\n",
            "  % (self.n_neighbors, n_samples))\n"
          ],
          "name": "stderr"
        },
        {
          "output_type": "stream",
          "text": [
            "Epsilon:  0.368\n",
            "Seed Percentage : 88 Contamination:  0.06\n",
            "original_std :  14.598014961505093\n"
          ],
          "name": "stdout"
        },
        {
          "output_type": "stream",
          "text": [
            "/usr/local/lib/python3.6/dist-packages/sklearn/neighbors/lof.py:253: UserWarning: n_neighbors (20) is greater than the total number of samples (10). n_neighbors will be set to (n_samples - 1) for estimation.\n",
            "  % (self.n_neighbors, n_samples))\n"
          ],
          "name": "stderr"
        },
        {
          "output_type": "stream",
          "text": [
            "Epsilon:  0.409\n",
            "Seed Percentage : 90 Contamination:  0.05\n",
            "original_std :  271.8038305728041\n"
          ],
          "name": "stdout"
        },
        {
          "output_type": "stream",
          "text": [
            "/usr/local/lib/python3.6/dist-packages/sklearn/neighbors/lof.py:253: UserWarning: n_neighbors (20) is greater than the total number of samples (7). n_neighbors will be set to (n_samples - 1) for estimation.\n",
            "  % (self.n_neighbors, n_samples))\n"
          ],
          "name": "stderr"
        },
        {
          "output_type": "stream",
          "text": [
            "Epsilon:  0.753\n",
            "Seed Percentage : 88 Contamination:  0.06\n",
            "original_std :  22.878496887573508\n"
          ],
          "name": "stdout"
        },
        {
          "output_type": "stream",
          "text": [
            "/usr/local/lib/python3.6/dist-packages/sklearn/neighbors/lof.py:253: UserWarning: n_neighbors (20) is greater than the total number of samples (11). n_neighbors will be set to (n_samples - 1) for estimation.\n",
            "  % (self.n_neighbors, n_samples))\n"
          ],
          "name": "stderr"
        },
        {
          "output_type": "stream",
          "text": [
            "Epsilon:  0.323\n",
            "Seed Percentage : 88 Contamination:  0.06\n",
            "original_std :  10105.544270349816\n"
          ],
          "name": "stdout"
        },
        {
          "output_type": "stream",
          "text": [
            "/usr/local/lib/python3.6/dist-packages/sklearn/neighbors/lof.py:253: UserWarning: n_neighbors (20) is greater than the total number of samples (11). n_neighbors will be set to (n_samples - 1) for estimation.\n",
            "  % (self.n_neighbors, n_samples))\n"
          ],
          "name": "stderr"
        },
        {
          "output_type": "stream",
          "text": [
            "Epsilon:  0.362\n",
            "Seed Percentage : 88 Contamination:  0.06\n",
            "original_std :  7137.821376302436\n"
          ],
          "name": "stdout"
        },
        {
          "output_type": "stream",
          "text": [
            "/usr/local/lib/python3.6/dist-packages/sklearn/neighbors/lof.py:253: UserWarning: n_neighbors (20) is greater than the total number of samples (6). n_neighbors will be set to (n_samples - 1) for estimation.\n",
            "  % (self.n_neighbors, n_samples))\n"
          ],
          "name": "stderr"
        },
        {
          "output_type": "stream",
          "text": [
            "Epsilon:  0.355\n",
            "Seed Percentage : 88 Contamination:  0.06\n",
            "original_std :  3470.3506066870727\n"
          ],
          "name": "stdout"
        },
        {
          "output_type": "stream",
          "text": [
            "/usr/local/lib/python3.6/dist-packages/sklearn/neighbors/lof.py:253: UserWarning: n_neighbors (20) is greater than the total number of samples (9). n_neighbors will be set to (n_samples - 1) for estimation.\n",
            "  % (self.n_neighbors, n_samples))\n"
          ],
          "name": "stderr"
        },
        {
          "output_type": "stream",
          "text": [
            "Epsilon:  0.553\n",
            "Seed Percentage : 88 Contamination:  0.06\n",
            "original_std :  15588.970905383361\n"
          ],
          "name": "stdout"
        },
        {
          "output_type": "stream",
          "text": [
            "/usr/local/lib/python3.6/dist-packages/sklearn/neighbors/lof.py:253: UserWarning: n_neighbors (20) is greater than the total number of samples (6). n_neighbors will be set to (n_samples - 1) for estimation.\n",
            "  % (self.n_neighbors, n_samples))\n"
          ],
          "name": "stderr"
        },
        {
          "output_type": "stream",
          "text": [
            "Epsilon:  0.375\n",
            "Seed Percentage : 88 Contamination:  0.06\n",
            "original_std :  708391.461840617\n"
          ],
          "name": "stdout"
        },
        {
          "output_type": "stream",
          "text": [
            "/usr/local/lib/python3.6/dist-packages/sklearn/neighbors/lof.py:253: UserWarning: n_neighbors (20) is greater than the total number of samples (6). n_neighbors will be set to (n_samples - 1) for estimation.\n",
            "  % (self.n_neighbors, n_samples))\n"
          ],
          "name": "stderr"
        },
        {
          "output_type": "stream",
          "text": [
            "Epsilon:  0.686\n",
            "Seed Percentage : 88 Contamination:  0.06\n",
            "original_std :  23584.95283014151\n"
          ],
          "name": "stdout"
        },
        {
          "output_type": "stream",
          "text": [
            "/usr/local/lib/python3.6/dist-packages/sklearn/neighbors/lof.py:253: UserWarning: n_neighbors (20) is greater than the total number of samples (13). n_neighbors will be set to (n_samples - 1) for estimation.\n",
            "  % (self.n_neighbors, n_samples))\n"
          ],
          "name": "stderr"
        },
        {
          "output_type": "stream",
          "text": [
            "Epsilon:  0.333\n",
            "Seed Percentage : 88 Contamination:  0.06\n",
            "original_std :  23815.698604072062\n"
          ],
          "name": "stdout"
        },
        {
          "output_type": "stream",
          "text": [
            "/usr/local/lib/python3.6/dist-packages/sklearn/neighbors/lof.py:253: UserWarning: n_neighbors (20) is greater than the total number of samples (10). n_neighbors will be set to (n_samples - 1) for estimation.\n",
            "  % (self.n_neighbors, n_samples))\n"
          ],
          "name": "stderr"
        },
        {
          "output_type": "stream",
          "text": [
            "Epsilon:  0.357\n",
            "Seed Percentage : 88 Contamination:  0.06\n",
            "original_std :  24363.949614467816\n"
          ],
          "name": "stdout"
        },
        {
          "output_type": "stream",
          "text": [
            "/usr/local/lib/python3.6/dist-packages/sklearn/neighbors/lof.py:253: UserWarning: n_neighbors (20) is greater than the total number of samples (8). n_neighbors will be set to (n_samples - 1) for estimation.\n",
            "  % (self.n_neighbors, n_samples))\n"
          ],
          "name": "stderr"
        },
        {
          "output_type": "stream",
          "text": [
            "Epsilon:  0.715\n",
            "Seed Percentage : 88 Contamination:  0.06\n",
            "original_std :  16357.701550034466\n"
          ],
          "name": "stdout"
        },
        {
          "output_type": "stream",
          "text": [
            "/usr/local/lib/python3.6/dist-packages/sklearn/neighbors/lof.py:253: UserWarning: n_neighbors (20) is greater than the total number of samples (7). n_neighbors will be set to (n_samples - 1) for estimation.\n",
            "  % (self.n_neighbors, n_samples))\n"
          ],
          "name": "stderr"
        },
        {
          "output_type": "stream",
          "text": [
            "Epsilon:  0.391\n",
            "Seed Percentage : 88 Contamination:  0.06\n",
            "original_std :  17868.891514322237\n",
            "Epsilon:  0.8\n",
            "Seed Percentage : 88 Contamination:  0.06\n",
            "original_std :  0.0\n"
          ],
          "name": "stdout"
        },
        {
          "output_type": "stream",
          "text": [
            "/usr/local/lib/python3.6/dist-packages/sklearn/neighbors/lof.py:253: UserWarning: n_neighbors (20) is greater than the total number of samples (9). n_neighbors will be set to (n_samples - 1) for estimation.\n",
            "  % (self.n_neighbors, n_samples))\n"
          ],
          "name": "stderr"
        },
        {
          "output_type": "stream",
          "text": [
            "Epsilon:  0.5\n",
            "Seed Percentage : 88 Contamination:  0.06\n",
            "original_std :  6126.760161997908\n"
          ],
          "name": "stdout"
        },
        {
          "output_type": "stream",
          "text": [
            "/usr/local/lib/python3.6/dist-packages/sklearn/neighbors/lof.py:253: UserWarning: n_neighbors (20) is greater than the total number of samples (6). n_neighbors will be set to (n_samples - 1) for estimation.\n",
            "  % (self.n_neighbors, n_samples))\n"
          ],
          "name": "stderr"
        },
        {
          "output_type": "stream",
          "text": [
            "Epsilon:  0.35\n",
            "Seed Percentage : 88 Contamination:  0.06\n",
            "original_std :  3803.472097965226\n"
          ],
          "name": "stdout"
        },
        {
          "output_type": "stream",
          "text": [
            "/usr/local/lib/python3.6/dist-packages/sklearn/neighbors/lof.py:253: UserWarning: n_neighbors (20) is greater than the total number of samples (11). n_neighbors will be set to (n_samples - 1) for estimation.\n",
            "  % (self.n_neighbors, n_samples))\n"
          ],
          "name": "stderr"
        },
        {
          "output_type": "stream",
          "text": [
            "Epsilon:  0.85\n",
            "Seed Percentage : 88 Contamination:  0.06\n",
            "original_std :  5579.146440092785\n"
          ],
          "name": "stdout"
        },
        {
          "output_type": "stream",
          "text": [
            "/usr/local/lib/python3.6/dist-packages/sklearn/neighbors/lof.py:253: UserWarning: n_neighbors (20) is greater than the total number of samples (10). n_neighbors will be set to (n_samples - 1) for estimation.\n",
            "  % (self.n_neighbors, n_samples))\n"
          ],
          "name": "stderr"
        },
        {
          "output_type": "stream",
          "text": [
            "Epsilon:  0.564\n",
            "Seed Percentage : 88 Contamination:  0.06\n",
            "original_std :  178322.51222811698\n"
          ],
          "name": "stdout"
        },
        {
          "output_type": "stream",
          "text": [
            "/usr/local/lib/python3.6/dist-packages/sklearn/neighbors/lof.py:253: UserWarning: n_neighbors (20) is greater than the total number of samples (8). n_neighbors will be set to (n_samples - 1) for estimation.\n",
            "  % (self.n_neighbors, n_samples))\n"
          ],
          "name": "stderr"
        },
        {
          "output_type": "stream",
          "text": [
            "Epsilon:  0.928\n",
            "Seed Percentage : 88 Contamination:  0.06\n",
            "original_std :  176441.0059238741\n"
          ],
          "name": "stdout"
        },
        {
          "output_type": "stream",
          "text": [
            "/usr/local/lib/python3.6/dist-packages/sklearn/neighbors/lof.py:253: UserWarning: n_neighbors (20) is greater than the total number of samples (7). n_neighbors will be set to (n_samples - 1) for estimation.\n",
            "  % (self.n_neighbors, n_samples))\n"
          ],
          "name": "stderr"
        },
        {
          "output_type": "stream",
          "text": [
            "Epsilon:  0.898\n",
            "Seed Percentage : 96 Contamination:  0.02\n",
            "original_std :  255682.6002910078\n"
          ],
          "name": "stdout"
        },
        {
          "output_type": "stream",
          "text": [
            "/usr/local/lib/python3.6/dist-packages/sklearn/neighbors/lof.py:253: UserWarning: n_neighbors (20) is greater than the total number of samples (7). n_neighbors will be set to (n_samples - 1) for estimation.\n",
            "  % (self.n_neighbors, n_samples))\n"
          ],
          "name": "stderr"
        },
        {
          "output_type": "stream",
          "text": [
            "Epsilon:  0.814\n",
            "Seed Percentage : 88 Contamination:  0.06\n",
            "original_std :  38575.76914849429\n",
            "Epsilon:  0.215\n",
            "Seed Percentage : 88 Contamination:  0.06\n",
            "original_std :  175693.8625374641\n"
          ],
          "name": "stdout"
        },
        {
          "output_type": "stream",
          "text": [
            "/usr/local/lib/python3.6/dist-packages/sklearn/neighbors/lof.py:253: UserWarning: n_neighbors (20) is greater than the total number of samples (17). n_neighbors will be set to (n_samples - 1) for estimation.\n",
            "  % (self.n_neighbors, n_samples))\n"
          ],
          "name": "stderr"
        },
        {
          "output_type": "stream",
          "text": [
            "Epsilon:  0.668\n",
            "Seed Percentage : 91 Contamination:  0.045\n",
            "original_std :  397583.42066651734\n"
          ],
          "name": "stdout"
        },
        {
          "output_type": "stream",
          "text": [
            "/usr/local/lib/python3.6/dist-packages/sklearn/neighbors/lof.py:253: UserWarning: n_neighbors (20) is greater than the total number of samples (6). n_neighbors will be set to (n_samples - 1) for estimation.\n",
            "  % (self.n_neighbors, n_samples))\n"
          ],
          "name": "stderr"
        },
        {
          "output_type": "stream",
          "text": [
            "Epsilon:  0.845\n",
            "Seed Percentage : 88 Contamination:  0.06\n",
            "original_std :  44778.3657675928\n"
          ],
          "name": "stdout"
        },
        {
          "output_type": "stream",
          "text": [
            "/usr/local/lib/python3.6/dist-packages/sklearn/neighbors/lof.py:253: UserWarning: n_neighbors (20) is greater than the total number of samples (12). n_neighbors will be set to (n_samples - 1) for estimation.\n",
            "  % (self.n_neighbors, n_samples))\n"
          ],
          "name": "stderr"
        },
        {
          "output_type": "stream",
          "text": [
            "Epsilon:  0.355\n",
            "Seed Percentage : 88 Contamination:  0.06\n",
            "original_std :  57298.71601652918\n"
          ],
          "name": "stdout"
        },
        {
          "output_type": "stream",
          "text": [
            "/usr/local/lib/python3.6/dist-packages/sklearn/neighbors/lof.py:253: UserWarning: n_neighbors (20) is greater than the total number of samples (7). n_neighbors will be set to (n_samples - 1) for estimation.\n",
            "  % (self.n_neighbors, n_samples))\n"
          ],
          "name": "stderr"
        },
        {
          "output_type": "stream",
          "text": [
            "Epsilon:  0.452\n",
            "Seed Percentage : 88 Contamination:  0.06\n",
            "original_std :  24472.206457303535\n"
          ],
          "name": "stdout"
        },
        {
          "output_type": "stream",
          "text": [
            "/usr/local/lib/python3.6/dist-packages/sklearn/neighbors/lof.py:253: UserWarning: n_neighbors (20) is greater than the total number of samples (7). n_neighbors will be set to (n_samples - 1) for estimation.\n",
            "  % (self.n_neighbors, n_samples))\n"
          ],
          "name": "stderr"
        },
        {
          "output_type": "stream",
          "text": [
            "Epsilon:  0.362\n",
            "Seed Percentage : 86 Contamination:  0.07\n",
            "original_std :  47666.363635400405\n"
          ],
          "name": "stdout"
        },
        {
          "output_type": "stream",
          "text": [
            "/usr/local/lib/python3.6/dist-packages/sklearn/neighbors/lof.py:253: UserWarning: n_neighbors (20) is greater than the total number of samples (6). n_neighbors will be set to (n_samples - 1) for estimation.\n",
            "  % (self.n_neighbors, n_samples))\n"
          ],
          "name": "stderr"
        },
        {
          "output_type": "stream",
          "text": [
            "Epsilon:  0.347\n",
            "Seed Percentage : 88 Contamination:  0.06\n",
            "original_std :  140198.27229875396\n"
          ],
          "name": "stdout"
        },
        {
          "output_type": "stream",
          "text": [
            "/usr/local/lib/python3.6/dist-packages/sklearn/neighbors/lof.py:253: UserWarning: n_neighbors (20) is greater than the total number of samples (15). n_neighbors will be set to (n_samples - 1) for estimation.\n",
            "  % (self.n_neighbors, n_samples))\n"
          ],
          "name": "stderr"
        },
        {
          "output_type": "stream",
          "text": [
            "Epsilon:  0.805\n",
            "Seed Percentage : 88 Contamination:  0.06\n",
            "original_std :  100017.35960433181\n"
          ],
          "name": "stdout"
        },
        {
          "output_type": "stream",
          "text": [
            "/usr/local/lib/python3.6/dist-packages/sklearn/neighbors/lof.py:253: UserWarning: n_neighbors (20) is greater than the total number of samples (6). n_neighbors will be set to (n_samples - 1) for estimation.\n",
            "  % (self.n_neighbors, n_samples))\n"
          ],
          "name": "stderr"
        },
        {
          "output_type": "stream",
          "text": [
            "Epsilon:  0.566\n",
            "Seed Percentage : 88 Contamination:  0.06\n",
            "original_std :  93764.74953226103\n"
          ],
          "name": "stdout"
        },
        {
          "output_type": "stream",
          "text": [
            "/usr/local/lib/python3.6/dist-packages/sklearn/neighbors/lof.py:253: UserWarning: n_neighbors (20) is greater than the total number of samples (6). n_neighbors will be set to (n_samples - 1) for estimation.\n",
            "  % (self.n_neighbors, n_samples))\n"
          ],
          "name": "stderr"
        },
        {
          "output_type": "stream",
          "text": [
            "Epsilon:  0.179\n",
            "Seed Percentage : 91 Contamination:  0.045\n",
            "original_std :  255499.28190810158\n"
          ],
          "name": "stdout"
        },
        {
          "output_type": "stream",
          "text": [
            "/usr/local/lib/python3.6/dist-packages/sklearn/neighbors/lof.py:253: UserWarning: n_neighbors (20) is greater than the total number of samples (19). n_neighbors will be set to (n_samples - 1) for estimation.\n",
            "  % (self.n_neighbors, n_samples))\n"
          ],
          "name": "stderr"
        },
        {
          "output_type": "stream",
          "text": [
            "Epsilon:  0.446\n",
            "Seed Percentage : 90 Contamination:  0.05\n",
            "original_std :  181944.2744585948\n",
            "Epsilon:  0.741\n",
            "Seed Percentage : 88 Contamination:  0.06\n",
            "original_std :  77146.8252947665\n"
          ],
          "name": "stdout"
        },
        {
          "output_type": "stream",
          "text": [
            "/usr/local/lib/python3.6/dist-packages/sklearn/neighbors/lof.py:253: UserWarning: n_neighbors (20) is greater than the total number of samples (11). n_neighbors will be set to (n_samples - 1) for estimation.\n",
            "  % (self.n_neighbors, n_samples))\n"
          ],
          "name": "stderr"
        },
        {
          "output_type": "stream",
          "text": [
            "Epsilon:  0.39\n",
            "Seed Percentage : 92 Contamination:  0.04\n",
            "original_std :  239075.6007148008\n"
          ],
          "name": "stdout"
        },
        {
          "output_type": "stream",
          "text": [
            "/usr/local/lib/python3.6/dist-packages/sklearn/neighbors/lof.py:253: UserWarning: n_neighbors (20) is greater than the total number of samples (7). n_neighbors will be set to (n_samples - 1) for estimation.\n",
            "  % (self.n_neighbors, n_samples))\n"
          ],
          "name": "stderr"
        },
        {
          "output_type": "stream",
          "text": [
            "Epsilon:  0.67\n",
            "Seed Percentage : 92 Contamination:  0.04\n",
            "original_std :  59230.769230769234\n"
          ],
          "name": "stdout"
        },
        {
          "output_type": "stream",
          "text": [
            "/usr/local/lib/python3.6/dist-packages/sklearn/neighbors/lof.py:253: UserWarning: n_neighbors (20) is greater than the total number of samples (14). n_neighbors will be set to (n_samples - 1) for estimation.\n",
            "  % (self.n_neighbors, n_samples))\n"
          ],
          "name": "stderr"
        },
        {
          "output_type": "stream",
          "text": [
            "Epsilon:  0.468\n",
            "Seed Percentage : 88 Contamination:  0.06\n",
            "original_std :  149506.10819926017\n"
          ],
          "name": "stdout"
        },
        {
          "output_type": "stream",
          "text": [
            "/usr/local/lib/python3.6/dist-packages/sklearn/neighbors/lof.py:253: UserWarning: n_neighbors (20) is greater than the total number of samples (13). n_neighbors will be set to (n_samples - 1) for estimation.\n",
            "  % (self.n_neighbors, n_samples))\n"
          ],
          "name": "stderr"
        },
        {
          "output_type": "stream",
          "text": [
            "Epsilon:  0.314\n",
            "Seed Percentage : 89 Contamination:  0.055\n",
            "original_std :  145657.77655718027\n"
          ],
          "name": "stdout"
        },
        {
          "output_type": "stream",
          "text": [
            "/usr/local/lib/python3.6/dist-packages/sklearn/neighbors/lof.py:253: UserWarning: n_neighbors (20) is greater than the total number of samples (12). n_neighbors will be set to (n_samples - 1) for estimation.\n",
            "  % (self.n_neighbors, n_samples))\n"
          ],
          "name": "stderr"
        },
        {
          "output_type": "stream",
          "text": [
            "Epsilon:  0.289\n",
            "Seed Percentage : 88 Contamination:  0.06\n",
            "original_std :  49982.44589812691\n",
            "Epsilon:  0.522\n",
            "Seed Percentage : 88 Contamination:  0.06\n",
            "original_std :  87437.59679527642\n"
          ],
          "name": "stdout"
        },
        {
          "output_type": "stream",
          "text": [
            "/usr/local/lib/python3.6/dist-packages/sklearn/neighbors/lof.py:253: UserWarning: n_neighbors (20) is greater than the total number of samples (7). n_neighbors will be set to (n_samples - 1) for estimation.\n",
            "  % (self.n_neighbors, n_samples))\n"
          ],
          "name": "stderr"
        },
        {
          "output_type": "stream",
          "text": [
            "Epsilon:  0.378\n",
            "Seed Percentage : 88 Contamination:  0.06\n",
            "original_std :  56515.092595713235\n"
          ],
          "name": "stdout"
        },
        {
          "output_type": "stream",
          "text": [
            "/usr/local/lib/python3.6/dist-packages/sklearn/neighbors/lof.py:253: UserWarning: n_neighbors (20) is greater than the total number of samples (9). n_neighbors will be set to (n_samples - 1) for estimation.\n",
            "  % (self.n_neighbors, n_samples))\n"
          ],
          "name": "stderr"
        },
        {
          "output_type": "stream",
          "text": [
            "Epsilon:  0.515\n",
            "Seed Percentage : 88 Contamination:  0.06\n",
            "original_std :  284043.8150864913\n"
          ],
          "name": "stdout"
        },
        {
          "output_type": "stream",
          "text": [
            "/usr/local/lib/python3.6/dist-packages/sklearn/neighbors/lof.py:253: UserWarning: n_neighbors (20) is greater than the total number of samples (7). n_neighbors will be set to (n_samples - 1) for estimation.\n",
            "  % (self.n_neighbors, n_samples))\n"
          ],
          "name": "stderr"
        },
        {
          "output_type": "stream",
          "text": [
            "Epsilon:  0.729\n",
            "Seed Percentage : 88 Contamination:  0.06\n",
            "original_std :  106623.03795250921\n"
          ],
          "name": "stdout"
        },
        {
          "output_type": "stream",
          "text": [
            "/usr/local/lib/python3.6/dist-packages/sklearn/neighbors/lof.py:253: UserWarning: n_neighbors (20) is greater than the total number of samples (9). n_neighbors will be set to (n_samples - 1) for estimation.\n",
            "  % (self.n_neighbors, n_samples))\n"
          ],
          "name": "stderr"
        },
        {
          "output_type": "stream",
          "text": [
            "Epsilon:  0.556\n",
            "Seed Percentage : 88 Contamination:  0.06\n",
            "original_std :  93128.0811902234\n"
          ],
          "name": "stdout"
        },
        {
          "output_type": "stream",
          "text": [
            "/usr/local/lib/python3.6/dist-packages/sklearn/neighbors/lof.py:253: UserWarning: n_neighbors (20) is greater than the total number of samples (6). n_neighbors will be set to (n_samples - 1) for estimation.\n",
            "  % (self.n_neighbors, n_samples))\n"
          ],
          "name": "stderr"
        },
        {
          "output_type": "stream",
          "text": [
            "Epsilon:  0.507\n",
            "Seed Percentage : 88 Contamination:  0.06\n",
            "original_std :  2.1065374432940898\n"
          ],
          "name": "stdout"
        },
        {
          "output_type": "stream",
          "text": [
            "/usr/local/lib/python3.6/dist-packages/sklearn/neighbors/lof.py:253: UserWarning: n_neighbors (20) is greater than the total number of samples (9). n_neighbors will be set to (n_samples - 1) for estimation.\n",
            "  % (self.n_neighbors, n_samples))\n"
          ],
          "name": "stderr"
        },
        {
          "output_type": "stream",
          "text": [
            "Epsilon:  0.4\n",
            "Seed Percentage : 87 Contamination:  0.065\n",
            "original_std :  5.9499868697334115\n"
          ],
          "name": "stdout"
        },
        {
          "output_type": "stream",
          "text": [
            "/usr/local/lib/python3.6/dist-packages/sklearn/neighbors/lof.py:253: UserWarning: n_neighbors (20) is greater than the total number of samples (8). n_neighbors will be set to (n_samples - 1) for estimation.\n",
            "  % (self.n_neighbors, n_samples))\n"
          ],
          "name": "stderr"
        },
        {
          "output_type": "stream",
          "text": [
            "Epsilon:  0.227\n",
            "Seed Percentage : 88 Contamination:  0.06\n",
            "original_std :  2596.411207229085\n"
          ],
          "name": "stdout"
        },
        {
          "output_type": "stream",
          "text": [
            "/usr/local/lib/python3.6/dist-packages/sklearn/neighbors/lof.py:253: UserWarning: n_neighbors (20) is greater than the total number of samples (16). n_neighbors will be set to (n_samples - 1) for estimation.\n",
            "  % (self.n_neighbors, n_samples))\n"
          ],
          "name": "stderr"
        },
        {
          "output_type": "stream",
          "text": [
            "Epsilon:  0.793\n",
            "Seed Percentage : 88 Contamination:  0.06\n",
            "original_std :  117.23729497618638\n"
          ],
          "name": "stdout"
        },
        {
          "output_type": "stream",
          "text": [
            "/usr/local/lib/python3.6/dist-packages/sklearn/neighbors/lof.py:253: UserWarning: n_neighbors (20) is greater than the total number of samples (11). n_neighbors will be set to (n_samples - 1) for estimation.\n",
            "  % (self.n_neighbors, n_samples))\n"
          ],
          "name": "stderr"
        },
        {
          "output_type": "stream",
          "text": [
            "Epsilon:  0.333\n",
            "Seed Percentage : 88 Contamination:  0.06\n",
            "original_std :  105335.08243617952\n"
          ],
          "name": "stdout"
        },
        {
          "output_type": "stream",
          "text": [
            "/usr/local/lib/python3.6/dist-packages/sklearn/neighbors/lof.py:253: UserWarning: n_neighbors (20) is greater than the total number of samples (6). n_neighbors will be set to (n_samples - 1) for estimation.\n",
            "  % (self.n_neighbors, n_samples))\n"
          ],
          "name": "stderr"
        },
        {
          "output_type": "stream",
          "text": [
            "Epsilon:  0.858\n",
            "Seed Percentage : 88 Contamination:  0.06\n",
            "original_std :  181.63992327788256\n"
          ],
          "name": "stdout"
        },
        {
          "output_type": "stream",
          "text": [
            "/usr/local/lib/python3.6/dist-packages/sklearn/neighbors/lof.py:253: UserWarning: n_neighbors (20) is greater than the total number of samples (7). n_neighbors will be set to (n_samples - 1) for estimation.\n",
            "  % (self.n_neighbors, n_samples))\n"
          ],
          "name": "stderr"
        },
        {
          "output_type": "stream",
          "text": [
            "Epsilon:  0.546\n",
            "Seed Percentage : 90 Contamination:  0.05\n",
            "original_std :  764.8988495219483\n"
          ],
          "name": "stdout"
        },
        {
          "output_type": "stream",
          "text": [
            "/usr/local/lib/python3.6/dist-packages/sklearn/neighbors/lof.py:253: UserWarning: n_neighbors (20) is greater than the total number of samples (9). n_neighbors will be set to (n_samples - 1) for estimation.\n",
            "  % (self.n_neighbors, n_samples))\n"
          ],
          "name": "stderr"
        },
        {
          "output_type": "stream",
          "text": [
            "Epsilon:  0.496\n",
            "Seed Percentage : 88 Contamination:  0.06\n",
            "original_std :  270.3578357936015\n"
          ],
          "name": "stdout"
        },
        {
          "output_type": "stream",
          "text": [
            "/usr/local/lib/python3.6/dist-packages/sklearn/neighbors/lof.py:253: UserWarning: n_neighbors (20) is greater than the total number of samples (10). n_neighbors will be set to (n_samples - 1) for estimation.\n",
            "  % (self.n_neighbors, n_samples))\n"
          ],
          "name": "stderr"
        },
        {
          "output_type": "stream",
          "text": [
            "Epsilon:  0.436\n",
            "Seed Percentage : 88 Contamination:  0.06\n",
            "original_std :  196.11856055946964\n"
          ],
          "name": "stdout"
        },
        {
          "output_type": "stream",
          "text": [
            "/usr/local/lib/python3.6/dist-packages/sklearn/neighbors/lof.py:253: UserWarning: n_neighbors (20) is greater than the total number of samples (8). n_neighbors will be set to (n_samples - 1) for estimation.\n",
            "  % (self.n_neighbors, n_samples))\n"
          ],
          "name": "stderr"
        },
        {
          "output_type": "stream",
          "text": [
            "Epsilon:  0.399\n",
            "Seed Percentage : 88 Contamination:  0.06\n",
            "original_std :  43.3541616610601\n"
          ],
          "name": "stdout"
        },
        {
          "output_type": "stream",
          "text": [
            "/usr/local/lib/python3.6/dist-packages/sklearn/neighbors/lof.py:253: UserWarning: n_neighbors (20) is greater than the total number of samples (7). n_neighbors will be set to (n_samples - 1) for estimation.\n",
            "  % (self.n_neighbors, n_samples))\n"
          ],
          "name": "stderr"
        },
        {
          "output_type": "stream",
          "text": [
            "Epsilon:  0.634\n",
            "Seed Percentage : 88 Contamination:  0.06\n",
            "original_std :  98.78405741818868\n"
          ],
          "name": "stdout"
        },
        {
          "output_type": "stream",
          "text": [
            "/usr/local/lib/python3.6/dist-packages/sklearn/neighbors/lof.py:253: UserWarning: n_neighbors (20) is greater than the total number of samples (6). n_neighbors will be set to (n_samples - 1) for estimation.\n",
            "  % (self.n_neighbors, n_samples))\n"
          ],
          "name": "stderr"
        },
        {
          "output_type": "stream",
          "text": [
            "Epsilon:  0.929\n",
            "Seed Percentage : 88 Contamination:  0.06\n",
            "original_std :  184.8120106755533\n"
          ],
          "name": "stdout"
        },
        {
          "output_type": "stream",
          "text": [
            "/usr/local/lib/python3.6/dist-packages/sklearn/neighbors/lof.py:253: UserWarning: n_neighbors (20) is greater than the total number of samples (10). n_neighbors will be set to (n_samples - 1) for estimation.\n",
            "  % (self.n_neighbors, n_samples))\n"
          ],
          "name": "stderr"
        },
        {
          "output_type": "stream",
          "text": [
            "Epsilon:  0.383\n",
            "Seed Percentage : 86 Contamination:  0.07\n",
            "original_std :  1979.4540953393075\n"
          ],
          "name": "stdout"
        },
        {
          "output_type": "stream",
          "text": [
            "/usr/local/lib/python3.6/dist-packages/sklearn/neighbors/lof.py:253: UserWarning: n_neighbors (20) is greater than the total number of samples (13). n_neighbors will be set to (n_samples - 1) for estimation.\n",
            "  % (self.n_neighbors, n_samples))\n"
          ],
          "name": "stderr"
        },
        {
          "output_type": "stream",
          "text": [
            "Epsilon:  0.949\n",
            "Seed Percentage : 88 Contamination:  0.06\n",
            "original_std :  573.3310432961925\n"
          ],
          "name": "stdout"
        },
        {
          "output_type": "stream",
          "text": [
            "/usr/local/lib/python3.6/dist-packages/sklearn/neighbors/lof.py:253: UserWarning: n_neighbors (20) is greater than the total number of samples (15). n_neighbors will be set to (n_samples - 1) for estimation.\n",
            "  % (self.n_neighbors, n_samples))\n"
          ],
          "name": "stderr"
        },
        {
          "output_type": "stream",
          "text": [
            "Epsilon:  0.465\n",
            "Seed Percentage : 91 Contamination:  0.045\n",
            "original_std :  285.0838035512698\n"
          ],
          "name": "stdout"
        },
        {
          "output_type": "stream",
          "text": [
            "/usr/local/lib/python3.6/dist-packages/sklearn/neighbors/lof.py:253: UserWarning: n_neighbors (20) is greater than the total number of samples (13). n_neighbors will be set to (n_samples - 1) for estimation.\n",
            "  % (self.n_neighbors, n_samples))\n"
          ],
          "name": "stderr"
        },
        {
          "output_type": "stream",
          "text": [
            "Epsilon:  0.403\n",
            "Seed Percentage : 88 Contamination:  0.06\n",
            "original_std :  1660.0309903399059\n",
            "Epsilon:  0.955\n",
            "Seed Percentage : 88 Contamination:  0.06\n",
            "original_std :  47.8966579601333\n"
          ],
          "name": "stdout"
        },
        {
          "output_type": "stream",
          "text": [
            "/usr/local/lib/python3.6/dist-packages/sklearn/neighbors/lof.py:253: UserWarning: n_neighbors (20) is greater than the total number of samples (6). n_neighbors will be set to (n_samples - 1) for estimation.\n",
            "  % (self.n_neighbors, n_samples))\n"
          ],
          "name": "stderr"
        },
        {
          "output_type": "stream",
          "text": [
            "Epsilon:  0.306\n",
            "Seed Percentage : 88 Contamination:  0.06\n",
            "original_std :  133.43591292130787\n"
          ],
          "name": "stdout"
        },
        {
          "output_type": "stream",
          "text": [
            "/usr/local/lib/python3.6/dist-packages/sklearn/neighbors/lof.py:253: UserWarning: n_neighbors (20) is greater than the total number of samples (16). n_neighbors will be set to (n_samples - 1) for estimation.\n",
            "  % (self.n_neighbors, n_samples))\n"
          ],
          "name": "stderr"
        },
        {
          "output_type": "stream",
          "text": [
            "Epsilon:  0.559\n",
            "Seed Percentage : 88 Contamination:  0.06\n",
            "original_std :  28.811154864532927\n"
          ],
          "name": "stdout"
        },
        {
          "output_type": "stream",
          "text": [
            "/usr/local/lib/python3.6/dist-packages/sklearn/neighbors/lof.py:253: UserWarning: n_neighbors (20) is greater than the total number of samples (7). n_neighbors will be set to (n_samples - 1) for estimation.\n",
            "  % (self.n_neighbors, n_samples))\n"
          ],
          "name": "stderr"
        },
        {
          "output_type": "stream",
          "text": [
            "Epsilon:  0.268\n",
            "Seed Percentage : 88 Contamination:  0.06\n",
            "original_std :  1426.3924678089904\n"
          ],
          "name": "stdout"
        },
        {
          "output_type": "stream",
          "text": [
            "/usr/local/lib/python3.6/dist-packages/sklearn/neighbors/lof.py:253: UserWarning: n_neighbors (20) is greater than the total number of samples (11). n_neighbors will be set to (n_samples - 1) for estimation.\n",
            "  % (self.n_neighbors, n_samples))\n"
          ],
          "name": "stderr"
        },
        {
          "output_type": "stream",
          "text": [
            "Epsilon:  0.626\n",
            "Seed Percentage : 88 Contamination:  0.06\n",
            "original_std :  279.04362909547945\n"
          ],
          "name": "stdout"
        },
        {
          "output_type": "stream",
          "text": [
            "/usr/local/lib/python3.6/dist-packages/sklearn/neighbors/lof.py:253: UserWarning: n_neighbors (20) is greater than the total number of samples (6). n_neighbors will be set to (n_samples - 1) for estimation.\n",
            "  % (self.n_neighbors, n_samples))\n"
          ],
          "name": "stderr"
        },
        {
          "output_type": "stream",
          "text": [
            "Epsilon:  0.537\n",
            "Seed Percentage : 87 Contamination:  0.065\n",
            "original_std :  380.74300305455387\n"
          ],
          "name": "stdout"
        },
        {
          "output_type": "stream",
          "text": [
            "/usr/local/lib/python3.6/dist-packages/sklearn/neighbors/lof.py:253: UserWarning: n_neighbors (20) is greater than the total number of samples (7). n_neighbors will be set to (n_samples - 1) for estimation.\n",
            "  % (self.n_neighbors, n_samples))\n"
          ],
          "name": "stderr"
        },
        {
          "output_type": "stream",
          "text": [
            "Epsilon:  0.66\n",
            "Seed Percentage : 91 Contamination:  0.045\n",
            "original_std :  263.39686733562763\n"
          ],
          "name": "stdout"
        },
        {
          "output_type": "stream",
          "text": [
            "/usr/local/lib/python3.6/dist-packages/sklearn/neighbors/lof.py:253: UserWarning: n_neighbors (20) is greater than the total number of samples (8). n_neighbors will be set to (n_samples - 1) for estimation.\n",
            "  % (self.n_neighbors, n_samples))\n"
          ],
          "name": "stderr"
        },
        {
          "output_type": "stream",
          "text": [
            "Epsilon:  0.826\n",
            "Seed Percentage : 88 Contamination:  0.06\n",
            "original_std :  3405.284044029909\n"
          ],
          "name": "stdout"
        },
        {
          "output_type": "stream",
          "text": [
            "/usr/local/lib/python3.6/dist-packages/sklearn/neighbors/lof.py:253: UserWarning: n_neighbors (20) is greater than the total number of samples (12). n_neighbors will be set to (n_samples - 1) for estimation.\n",
            "  % (self.n_neighbors, n_samples))\n"
          ],
          "name": "stderr"
        },
        {
          "output_type": "stream",
          "text": [
            "Epsilon:  0.8\n",
            "Seed Percentage : 88 Contamination:  0.06\n",
            "original_std :  1562.4100527196777\n"
          ],
          "name": "stdout"
        },
        {
          "output_type": "stream",
          "text": [
            "/usr/local/lib/python3.6/dist-packages/sklearn/neighbors/lof.py:253: UserWarning: n_neighbors (20) is greater than the total number of samples (18). n_neighbors will be set to (n_samples - 1) for estimation.\n",
            "  % (self.n_neighbors, n_samples))\n"
          ],
          "name": "stderr"
        },
        {
          "output_type": "stream",
          "text": [
            "Epsilon:  0.589\n",
            "Seed Percentage : 91 Contamination:  0.045\n",
            "original_std :  87.99191092872621\n"
          ],
          "name": "stdout"
        },
        {
          "output_type": "stream",
          "text": [
            "/usr/local/lib/python3.6/dist-packages/sklearn/neighbors/lof.py:253: UserWarning: n_neighbors (20) is greater than the total number of samples (9). n_neighbors will be set to (n_samples - 1) for estimation.\n",
            "  % (self.n_neighbors, n_samples))\n"
          ],
          "name": "stderr"
        },
        {
          "output_type": "stream",
          "text": [
            "Epsilon:  0.824\n",
            "Seed Percentage : 86 Contamination:  0.07\n",
            "original_std :  1493.5204665710435\n"
          ],
          "name": "stdout"
        },
        {
          "output_type": "stream",
          "text": [
            "/usr/local/lib/python3.6/dist-packages/sklearn/neighbors/lof.py:253: UserWarning: n_neighbors (20) is greater than the total number of samples (12). n_neighbors will be set to (n_samples - 1) for estimation.\n",
            "  % (self.n_neighbors, n_samples))\n"
          ],
          "name": "stderr"
        },
        {
          "output_type": "stream",
          "text": [
            "Epsilon:  0.751\n",
            "Seed Percentage : 88 Contamination:  0.06\n",
            "original_std :  0.0\n",
            "Epsilon:  0.5\n",
            "Seed Percentage : 88 Contamination:  0.06\n",
            "original_std :  286.86232421765595\n"
          ],
          "name": "stdout"
        },
        {
          "output_type": "stream",
          "text": [
            "/usr/local/lib/python3.6/dist-packages/sklearn/neighbors/lof.py:253: UserWarning: n_neighbors (20) is greater than the total number of samples (6). n_neighbors will be set to (n_samples - 1) for estimation.\n",
            "  % (self.n_neighbors, n_samples))\n"
          ],
          "name": "stderr"
        },
        {
          "output_type": "stream",
          "text": [
            "Epsilon:  0.254\n",
            "Seed Percentage : 88 Contamination:  0.06\n",
            "original_std :  252.8321994797142\n",
            "Epsilon:  0.262\n",
            "Seed Percentage : 88 Contamination:  0.06\n",
            "original_std :  114.2251823822113\n"
          ],
          "name": "stdout"
        },
        {
          "output_type": "stream",
          "text": [
            "/usr/local/lib/python3.6/dist-packages/sklearn/neighbors/lof.py:253: UserWarning: n_neighbors (20) is greater than the total number of samples (16). n_neighbors will be set to (n_samples - 1) for estimation.\n",
            "  % (self.n_neighbors, n_samples))\n"
          ],
          "name": "stderr"
        },
        {
          "output_type": "stream",
          "text": [
            "Epsilon:  0.345\n",
            "Seed Percentage : 88 Contamination:  0.06\n",
            "original_std :  167.37557567737693\n",
            "Epsilon:  0.376\n",
            "Seed Percentage : 88 Contamination:  0.06\n",
            "original_std :  220.3313830741026\n"
          ],
          "name": "stdout"
        },
        {
          "output_type": "stream",
          "text": [
            "/usr/local/lib/python3.6/dist-packages/sklearn/neighbors/lof.py:253: UserWarning: n_neighbors (20) is greater than the total number of samples (6). n_neighbors will be set to (n_samples - 1) for estimation.\n",
            "  % (self.n_neighbors, n_samples))\n"
          ],
          "name": "stderr"
        },
        {
          "output_type": "stream",
          "text": [
            "Epsilon:  0.95\n",
            "Seed Percentage : 88 Contamination:  0.06\n",
            "original_std :  0.0\n"
          ],
          "name": "stdout"
        },
        {
          "output_type": "stream",
          "text": [
            "/usr/local/lib/python3.6/dist-packages/sklearn/neighbors/lof.py:253: UserWarning: n_neighbors (20) is greater than the total number of samples (7). n_neighbors will be set to (n_samples - 1) for estimation.\n",
            "  % (self.n_neighbors, n_samples))\n"
          ],
          "name": "stderr"
        },
        {
          "output_type": "stream",
          "text": [
            "Epsilon:  0.5\n",
            "Seed Percentage : 88 Contamination:  0.06\n",
            "original_std :  228.64284598562924\n"
          ],
          "name": "stdout"
        },
        {
          "output_type": "stream",
          "text": [
            "/usr/local/lib/python3.6/dist-packages/sklearn/neighbors/lof.py:253: UserWarning: n_neighbors (20) is greater than the total number of samples (7). n_neighbors will be set to (n_samples - 1) for estimation.\n",
            "  % (self.n_neighbors, n_samples))\n"
          ],
          "name": "stderr"
        },
        {
          "output_type": "stream",
          "text": [
            "Epsilon:  0.395\n",
            "Seed Percentage : 88 Contamination:  0.06\n",
            "original_std :  397.8783015661232\n"
          ],
          "name": "stdout"
        },
        {
          "output_type": "stream",
          "text": [
            "/usr/local/lib/python3.6/dist-packages/sklearn/neighbors/lof.py:253: UserWarning: n_neighbors (20) is greater than the total number of samples (7). n_neighbors will be set to (n_samples - 1) for estimation.\n",
            "  % (self.n_neighbors, n_samples))\n"
          ],
          "name": "stderr"
        },
        {
          "output_type": "stream",
          "text": [
            "Epsilon:  0.55\n",
            "Seed Percentage : 94 Contamination:  0.03\n",
            "original_std :  288.69006854872987\n"
          ],
          "name": "stdout"
        },
        {
          "output_type": "stream",
          "text": [
            "/usr/local/lib/python3.6/dist-packages/sklearn/neighbors/lof.py:253: UserWarning: n_neighbors (20) is greater than the total number of samples (7). n_neighbors will be set to (n_samples - 1) for estimation.\n",
            "  % (self.n_neighbors, n_samples))\n"
          ],
          "name": "stderr"
        },
        {
          "output_type": "stream",
          "text": [
            "Epsilon:  0.47\n",
            "Seed Percentage : 88 Contamination:  0.06\n",
            "original_std :  306.9563848859023\n"
          ],
          "name": "stdout"
        },
        {
          "output_type": "stream",
          "text": [
            "/usr/local/lib/python3.6/dist-packages/sklearn/neighbors/lof.py:253: UserWarning: n_neighbors (20) is greater than the total number of samples (19). n_neighbors will be set to (n_samples - 1) for estimation.\n",
            "  % (self.n_neighbors, n_samples))\n"
          ],
          "name": "stderr"
        },
        {
          "output_type": "stream",
          "text": [
            "Epsilon:  0.545\n",
            "Seed Percentage : 94 Contamination:  0.03\n",
            "original_std :  185.7551779886216\n"
          ],
          "name": "stdout"
        },
        {
          "output_type": "stream",
          "text": [
            "/usr/local/lib/python3.6/dist-packages/sklearn/neighbors/lof.py:253: UserWarning: n_neighbors (20) is greater than the total number of samples (6). n_neighbors will be set to (n_samples - 1) for estimation.\n",
            "  % (self.n_neighbors, n_samples))\n"
          ],
          "name": "stderr"
        },
        {
          "output_type": "stream",
          "text": [
            "Epsilon:  0.263\n",
            "Seed Percentage : 88 Contamination:  0.06\n",
            "original_std :  140.04372495031393\n"
          ],
          "name": "stdout"
        },
        {
          "output_type": "stream",
          "text": [
            "/usr/local/lib/python3.6/dist-packages/sklearn/neighbors/lof.py:253: UserWarning: n_neighbors (20) is greater than the total number of samples (19). n_neighbors will be set to (n_samples - 1) for estimation.\n",
            "  % (self.n_neighbors, n_samples))\n"
          ],
          "name": "stderr"
        },
        {
          "output_type": "stream",
          "text": [
            "Epsilon:  1.0\n",
            "Seed Percentage : 88 Contamination:  0.06\n",
            "original_std :  49.49747468305833\n"
          ],
          "name": "stdout"
        },
        {
          "output_type": "stream",
          "text": [
            "/usr/local/lib/python3.6/dist-packages/sklearn/neighbors/lof.py:253: UserWarning: n_neighbors (20) is greater than the total number of samples (7). n_neighbors will be set to (n_samples - 1) for estimation.\n",
            "  % (self.n_neighbors, n_samples))\n"
          ],
          "name": "stderr"
        },
        {
          "output_type": "stream",
          "text": [
            "Epsilon:  1.0\n",
            "Seed Percentage : 88 Contamination:  0.06\n",
            "original_std :  3078.79899220053\n"
          ],
          "name": "stdout"
        },
        {
          "output_type": "stream",
          "text": [
            "/usr/local/lib/python3.6/dist-packages/sklearn/neighbors/lof.py:253: UserWarning: n_neighbors (20) is greater than the total number of samples (6). n_neighbors will be set to (n_samples - 1) for estimation.\n",
            "  % (self.n_neighbors, n_samples))\n"
          ],
          "name": "stderr"
        },
        {
          "output_type": "stream",
          "text": [
            "Epsilon:  0.364\n",
            "Seed Percentage : 88 Contamination:  0.06\n",
            "original_std :  1368.8964719877133\n"
          ],
          "name": "stdout"
        },
        {
          "output_type": "stream",
          "text": [
            "/usr/local/lib/python3.6/dist-packages/sklearn/neighbors/lof.py:253: UserWarning: n_neighbors (20) is greater than the total number of samples (8). n_neighbors will be set to (n_samples - 1) for estimation.\n",
            "  % (self.n_neighbors, n_samples))\n"
          ],
          "name": "stderr"
        },
        {
          "output_type": "stream",
          "text": [
            "Epsilon:  0.405\n",
            "Seed Percentage : 88 Contamination:  0.06\n",
            "original_std :  12445.069205211008\n"
          ],
          "name": "stdout"
        },
        {
          "output_type": "stream",
          "text": [
            "/usr/local/lib/python3.6/dist-packages/sklearn/neighbors/lof.py:253: UserWarning: n_neighbors (20) is greater than the total number of samples (7). n_neighbors will be set to (n_samples - 1) for estimation.\n",
            "  % (self.n_neighbors, n_samples))\n"
          ],
          "name": "stderr"
        },
        {
          "output_type": "stream",
          "text": [
            "Epsilon:  0.538\n",
            "Seed Percentage : 91 Contamination:  0.045\n",
            "original_std :  8529.909591483893\n"
          ],
          "name": "stdout"
        },
        {
          "output_type": "stream",
          "text": [
            "/usr/local/lib/python3.6/dist-packages/sklearn/neighbors/lof.py:253: UserWarning: n_neighbors (20) is greater than the total number of samples (17). n_neighbors will be set to (n_samples - 1) for estimation.\n",
            "  % (self.n_neighbors, n_samples))\n"
          ],
          "name": "stderr"
        },
        {
          "output_type": "stream",
          "text": [
            "Epsilon:  0.735\n",
            "Seed Percentage : 88 Contamination:  0.06\n",
            "original_std :  2683.4336676893818\n"
          ],
          "name": "stdout"
        },
        {
          "output_type": "stream",
          "text": [
            "/usr/local/lib/python3.6/dist-packages/sklearn/neighbors/lof.py:253: UserWarning: n_neighbors (20) is greater than the total number of samples (12). n_neighbors will be set to (n_samples - 1) for estimation.\n",
            "  % (self.n_neighbors, n_samples))\n"
          ],
          "name": "stderr"
        },
        {
          "output_type": "stream",
          "text": [
            "Epsilon:  0.415\n",
            "Seed Percentage : 96 Contamination:  0.02\n",
            "original_std :  8713.755119860145\n"
          ],
          "name": "stdout"
        },
        {
          "output_type": "stream",
          "text": [
            "/usr/local/lib/python3.6/dist-packages/sklearn/neighbors/lof.py:253: UserWarning: n_neighbors (20) is greater than the total number of samples (15). n_neighbors will be set to (n_samples - 1) for estimation.\n",
            "  % (self.n_neighbors, n_samples))\n"
          ],
          "name": "stderr"
        },
        {
          "output_type": "stream",
          "text": [
            "Epsilon:  0.812\n",
            "Seed Percentage : 88 Contamination:  0.06\n",
            "original_std :  260874.59737497548\n",
            "Epsilon:  0.833\n",
            "Seed Percentage : 88 Contamination:  0.06\n",
            "original_std :  721689.9279058953\n"
          ],
          "name": "stdout"
        },
        {
          "output_type": "stream",
          "text": [
            "/usr/local/lib/python3.6/dist-packages/sklearn/neighbors/lof.py:253: UserWarning: n_neighbors (20) is greater than the total number of samples (6). n_neighbors will be set to (n_samples - 1) for estimation.\n",
            "  % (self.n_neighbors, n_samples))\n"
          ],
          "name": "stderr"
        },
        {
          "output_type": "stream",
          "text": [
            "Epsilon:  0.302\n",
            "Seed Percentage : 90 Contamination:  0.05\n",
            "original_std :  417451.4135310121\n"
          ],
          "name": "stdout"
        },
        {
          "output_type": "stream",
          "text": [
            "/usr/local/lib/python3.6/dist-packages/sklearn/neighbors/lof.py:253: UserWarning: n_neighbors (20) is greater than the total number of samples (14). n_neighbors will be set to (n_samples - 1) for estimation.\n",
            "  % (self.n_neighbors, n_samples))\n"
          ],
          "name": "stderr"
        },
        {
          "output_type": "stream",
          "text": [
            "Epsilon:  0.803\n",
            "Seed Percentage : 88 Contamination:  0.06\n",
            "original_std :  529108.2644937192\n"
          ],
          "name": "stdout"
        },
        {
          "output_type": "stream",
          "text": [
            "/usr/local/lib/python3.6/dist-packages/sklearn/neighbors/lof.py:253: UserWarning: n_neighbors (20) is greater than the total number of samples (10). n_neighbors will be set to (n_samples - 1) for estimation.\n",
            "  % (self.n_neighbors, n_samples))\n"
          ],
          "name": "stderr"
        },
        {
          "output_type": "stream",
          "text": [
            "Epsilon:  0.361\n",
            "Seed Percentage : 88 Contamination:  0.06\n",
            "original_std :  712998.8407695874\n"
          ],
          "name": "stdout"
        },
        {
          "output_type": "stream",
          "text": [
            "/usr/local/lib/python3.6/dist-packages/sklearn/neighbors/lof.py:253: UserWarning: n_neighbors (20) is greater than the total number of samples (15). n_neighbors will be set to (n_samples - 1) for estimation.\n",
            "  % (self.n_neighbors, n_samples))\n"
          ],
          "name": "stderr"
        },
        {
          "output_type": "stream",
          "text": [
            "Epsilon:  0.455\n",
            "Seed Percentage : 92 Contamination:  0.04\n",
            "original_std :  503486.94833417196\n"
          ],
          "name": "stdout"
        },
        {
          "output_type": "stream",
          "text": [
            "/usr/local/lib/python3.6/dist-packages/sklearn/neighbors/lof.py:253: UserWarning: n_neighbors (20) is greater than the total number of samples (7). n_neighbors will be set to (n_samples - 1) for estimation.\n",
            "  % (self.n_neighbors, n_samples))\n"
          ],
          "name": "stderr"
        },
        {
          "output_type": "stream",
          "text": [
            "Epsilon:  0.24\n",
            "Seed Percentage : 94 Contamination:  0.03\n",
            "original_std :  4223721.764114847\n"
          ],
          "name": "stdout"
        },
        {
          "output_type": "stream",
          "text": [
            "/usr/local/lib/python3.6/dist-packages/sklearn/neighbors/lof.py:253: UserWarning: n_neighbors (20) is greater than the total number of samples (14). n_neighbors will be set to (n_samples - 1) for estimation.\n",
            "  % (self.n_neighbors, n_samples))\n"
          ],
          "name": "stderr"
        },
        {
          "output_type": "stream",
          "text": [
            "Epsilon:  0.916\n",
            "Seed Percentage : 88 Contamination:  0.06\n",
            "original_std :  611204.8990080402\n",
            "Epsilon:  0.375\n",
            "Seed Percentage : 88 Contamination:  0.06\n",
            "original_std :  251331.02464800735\n"
          ],
          "name": "stdout"
        },
        {
          "output_type": "stream",
          "text": [
            "/usr/local/lib/python3.6/dist-packages/sklearn/neighbors/lof.py:253: UserWarning: n_neighbors (20) is greater than the total number of samples (7). n_neighbors will be set to (n_samples - 1) for estimation.\n",
            "  % (self.n_neighbors, n_samples))\n"
          ],
          "name": "stderr"
        },
        {
          "output_type": "stream",
          "text": [
            "Epsilon:  0.24\n",
            "Seed Percentage : 88 Contamination:  0.06\n",
            "original_std :  143279.18767160398\n"
          ],
          "name": "stdout"
        },
        {
          "output_type": "stream",
          "text": [
            "/usr/local/lib/python3.6/dist-packages/sklearn/neighbors/lof.py:253: UserWarning: n_neighbors (20) is greater than the total number of samples (9). n_neighbors will be set to (n_samples - 1) for estimation.\n",
            "  % (self.n_neighbors, n_samples))\n"
          ],
          "name": "stderr"
        },
        {
          "output_type": "stream",
          "text": [
            "Epsilon:  0.263\n",
            "Seed Percentage : 87 Contamination:  0.065\n",
            "original_std :  61083.95861435308\n"
          ],
          "name": "stdout"
        },
        {
          "output_type": "stream",
          "text": [
            "/usr/local/lib/python3.6/dist-packages/sklearn/neighbors/lof.py:253: UserWarning: n_neighbors (20) is greater than the total number of samples (11). n_neighbors will be set to (n_samples - 1) for estimation.\n",
            "  % (self.n_neighbors, n_samples))\n"
          ],
          "name": "stderr"
        },
        {
          "output_type": "stream",
          "text": [
            "Epsilon:  0.465\n",
            "Seed Percentage : 94 Contamination:  0.03\n",
            "original_std :  141318.4824954248\n"
          ],
          "name": "stdout"
        },
        {
          "output_type": "stream",
          "text": [
            "/usr/local/lib/python3.6/dist-packages/sklearn/neighbors/lof.py:253: UserWarning: n_neighbors (20) is greater than the total number of samples (8). n_neighbors will be set to (n_samples - 1) for estimation.\n",
            "  % (self.n_neighbors, n_samples))\n"
          ],
          "name": "stderr"
        },
        {
          "output_type": "stream",
          "text": [
            "Epsilon:  0.242\n",
            "Seed Percentage : 88 Contamination:  0.06\n",
            "original_std :  95789.18398543252\n"
          ],
          "name": "stdout"
        },
        {
          "output_type": "stream",
          "text": [
            "/usr/local/lib/python3.6/dist-packages/sklearn/neighbors/lof.py:253: UserWarning: n_neighbors (20) is greater than the total number of samples (17). n_neighbors will be set to (n_samples - 1) for estimation.\n",
            "  % (self.n_neighbors, n_samples))\n"
          ],
          "name": "stderr"
        },
        {
          "output_type": "stream",
          "text": [
            "Epsilon:  0.179\n",
            "Seed Percentage : 90 Contamination:  0.05\n",
            "original_std :  402046.7675604234\n"
          ],
          "name": "stdout"
        },
        {
          "output_type": "stream",
          "text": [
            "/usr/local/lib/python3.6/dist-packages/sklearn/neighbors/lof.py:253: UserWarning: n_neighbors (20) is greater than the total number of samples (11). n_neighbors will be set to (n_samples - 1) for estimation.\n",
            "  % (self.n_neighbors, n_samples))\n"
          ],
          "name": "stderr"
        },
        {
          "output_type": "stream",
          "text": [
            "Epsilon:  0.687\n",
            "Seed Percentage : 88 Contamination:  0.06\n",
            "original_std :  77515.75601486162\n"
          ],
          "name": "stdout"
        },
        {
          "output_type": "stream",
          "text": [
            "/usr/local/lib/python3.6/dist-packages/sklearn/neighbors/lof.py:253: UserWarning: n_neighbors (20) is greater than the total number of samples (11). n_neighbors will be set to (n_samples - 1) for estimation.\n",
            "  % (self.n_neighbors, n_samples))\n"
          ],
          "name": "stderr"
        },
        {
          "output_type": "stream",
          "text": [
            "Epsilon:  0.523\n",
            "Seed Percentage : 88 Contamination:  0.06\n",
            "original_std :  72341.8754164938\n"
          ],
          "name": "stdout"
        },
        {
          "output_type": "stream",
          "text": [
            "/usr/local/lib/python3.6/dist-packages/sklearn/neighbors/lof.py:253: UserWarning: n_neighbors (20) is greater than the total number of samples (12). n_neighbors will be set to (n_samples - 1) for estimation.\n",
            "  % (self.n_neighbors, n_samples))\n"
          ],
          "name": "stderr"
        },
        {
          "output_type": "stream",
          "text": [
            "Epsilon:  0.469\n",
            "Seed Percentage : 88 Contamination:  0.06\n",
            "original_std :  118.86292551392295\n"
          ],
          "name": "stdout"
        },
        {
          "output_type": "stream",
          "text": [
            "/usr/local/lib/python3.6/dist-packages/sklearn/neighbors/lof.py:253: UserWarning: n_neighbors (20) is greater than the total number of samples (7). n_neighbors will be set to (n_samples - 1) for estimation.\n",
            "  % (self.n_neighbors, n_samples))\n"
          ],
          "name": "stderr"
        },
        {
          "output_type": "stream",
          "text": [
            "Epsilon:  0.966\n",
            "Seed Percentage : 88 Contamination:  0.06\n",
            "original_std :  22.971449671276734\n"
          ],
          "name": "stdout"
        },
        {
          "output_type": "stream",
          "text": [
            "/usr/local/lib/python3.6/dist-packages/sklearn/neighbors/lof.py:253: UserWarning: n_neighbors (20) is greater than the total number of samples (9). n_neighbors will be set to (n_samples - 1) for estimation.\n",
            "  % (self.n_neighbors, n_samples))\n"
          ],
          "name": "stderr"
        },
        {
          "output_type": "stream",
          "text": [
            "Epsilon:  0.927\n",
            "Seed Percentage : 88 Contamination:  0.06\n",
            "original_std :  20.497289793748074\n"
          ],
          "name": "stdout"
        },
        {
          "output_type": "stream",
          "text": [
            "/usr/local/lib/python3.6/dist-packages/sklearn/neighbors/lof.py:253: UserWarning: n_neighbors (20) is greater than the total number of samples (8). n_neighbors will be set to (n_samples - 1) for estimation.\n",
            "  % (self.n_neighbors, n_samples))\n"
          ],
          "name": "stderr"
        },
        {
          "output_type": "stream",
          "text": [
            "Epsilon:  1.0\n",
            "Seed Percentage : 88 Contamination:  0.06\n",
            "original_std :  0.0\n"
          ],
          "name": "stdout"
        },
        {
          "output_type": "stream",
          "text": [
            "/usr/local/lib/python3.6/dist-packages/sklearn/neighbors/lof.py:253: UserWarning: n_neighbors (20) is greater than the total number of samples (6). n_neighbors will be set to (n_samples - 1) for estimation.\n",
            "  % (self.n_neighbors, n_samples))\n"
          ],
          "name": "stderr"
        },
        {
          "output_type": "stream",
          "text": [
            "Epsilon:  0.5\n",
            "Seed Percentage : 88 Contamination:  0.06\n",
            "original_std :  22.808380526074668\n"
          ],
          "name": "stdout"
        },
        {
          "output_type": "stream",
          "text": [
            "/usr/local/lib/python3.6/dist-packages/sklearn/neighbors/lof.py:253: UserWarning: n_neighbors (20) is greater than the total number of samples (6). n_neighbors will be set to (n_samples - 1) for estimation.\n",
            "  % (self.n_neighbors, n_samples))\n"
          ],
          "name": "stderr"
        },
        {
          "output_type": "stream",
          "text": [
            "Epsilon:  0.448\n",
            "Seed Percentage : 88 Contamination:  0.06\n",
            "original_std :  17.532660484748725\n"
          ],
          "name": "stdout"
        },
        {
          "output_type": "stream",
          "text": [
            "/usr/local/lib/python3.6/dist-packages/sklearn/neighbors/lof.py:253: UserWarning: n_neighbors (20) is greater than the total number of samples (6). n_neighbors will be set to (n_samples - 1) for estimation.\n",
            "  % (self.n_neighbors, n_samples))\n"
          ],
          "name": "stderr"
        },
        {
          "output_type": "stream",
          "text": [
            "Epsilon:  0.488\n",
            "Seed Percentage : 89 Contamination:  0.055\n",
            "original_std :  75.4524382541629\n"
          ],
          "name": "stdout"
        },
        {
          "output_type": "stream",
          "text": [
            "/usr/local/lib/python3.6/dist-packages/sklearn/neighbors/lof.py:253: UserWarning: n_neighbors (20) is greater than the total number of samples (7). n_neighbors will be set to (n_samples - 1) for estimation.\n",
            "  % (self.n_neighbors, n_samples))\n"
          ],
          "name": "stderr"
        },
        {
          "output_type": "stream",
          "text": [
            "Epsilon:  0.423\n",
            "Seed Percentage : 92 Contamination:  0.04\n",
            "original_std :  68.69192291329001\n",
            "Epsilon:  0.653\n",
            "Seed Percentage : 88 Contamination:  0.06\n",
            "original_std :  34.87646850751314\n",
            "Epsilon:  0.626\n",
            "Seed Percentage : 86 Contamination:  0.07\n",
            "original_std :  73.11201908178641\n"
          ],
          "name": "stdout"
        },
        {
          "output_type": "stream",
          "text": [
            "/usr/local/lib/python3.6/dist-packages/sklearn/neighbors/lof.py:253: UserWarning: n_neighbors (20) is greater than the total number of samples (6). n_neighbors will be set to (n_samples - 1) for estimation.\n",
            "  % (self.n_neighbors, n_samples))\n"
          ],
          "name": "stderr"
        },
        {
          "output_type": "stream",
          "text": [
            "Epsilon:  0.597\n",
            "Seed Percentage : 90 Contamination:  0.05\n",
            "original_std :  100.55606695272046\n",
            "Epsilon:  0.662\n",
            "Seed Percentage : 88 Contamination:  0.06\n",
            "original_std :  822628.7151619496\n"
          ],
          "name": "stdout"
        },
        {
          "output_type": "stream",
          "text": [
            "/usr/local/lib/python3.6/dist-packages/sklearn/neighbors/lof.py:253: UserWarning: n_neighbors (20) is greater than the total number of samples (10). n_neighbors will be set to (n_samples - 1) for estimation.\n",
            "  % (self.n_neighbors, n_samples))\n"
          ],
          "name": "stderr"
        },
        {
          "output_type": "stream",
          "text": [
            "Epsilon:  0.375\n",
            "Seed Percentage : 87 Contamination:  0.065\n",
            "original_std :  4643728.970342692\n"
          ],
          "name": "stdout"
        },
        {
          "output_type": "stream",
          "text": [
            "/usr/local/lib/python3.6/dist-packages/sklearn/neighbors/lof.py:253: UserWarning: n_neighbors (20) is greater than the total number of samples (10). n_neighbors will be set to (n_samples - 1) for estimation.\n",
            "  % (self.n_neighbors, n_samples))\n"
          ],
          "name": "stderr"
        },
        {
          "output_type": "stream",
          "text": [
            "Epsilon:  0.822\n",
            "Seed Percentage : 92 Contamination:  0.04\n",
            "original_std :  247981.4838380693\n"
          ],
          "name": "stdout"
        },
        {
          "output_type": "stream",
          "text": [
            "/usr/local/lib/python3.6/dist-packages/sklearn/neighbors/lof.py:253: UserWarning: n_neighbors (20) is greater than the total number of samples (8). n_neighbors will be set to (n_samples - 1) for estimation.\n",
            "  % (self.n_neighbors, n_samples))\n"
          ],
          "name": "stderr"
        },
        {
          "output_type": "stream",
          "text": [
            "Epsilon:  0.816\n",
            "Seed Percentage : 88 Contamination:  0.06\n",
            "original_std :  7376.856579871945\n"
          ],
          "name": "stdout"
        },
        {
          "output_type": "stream",
          "text": [
            "/usr/local/lib/python3.6/dist-packages/sklearn/neighbors/lof.py:253: UserWarning: n_neighbors (20) is greater than the total number of samples (14). n_neighbors will be set to (n_samples - 1) for estimation.\n",
            "  % (self.n_neighbors, n_samples))\n"
          ],
          "name": "stderr"
        },
        {
          "output_type": "stream",
          "text": [
            "Epsilon:  0.951\n",
            "Seed Percentage : 88 Contamination:  0.06\n",
            "original_std :  355679.0063463903\n"
          ],
          "name": "stdout"
        },
        {
          "output_type": "stream",
          "text": [
            "/usr/local/lib/python3.6/dist-packages/sklearn/neighbors/lof.py:253: UserWarning: n_neighbors (20) is greater than the total number of samples (8). n_neighbors will be set to (n_samples - 1) for estimation.\n",
            "  % (self.n_neighbors, n_samples))\n"
          ],
          "name": "stderr"
        },
        {
          "output_type": "stream",
          "text": [
            "Epsilon:  0.862\n",
            "Seed Percentage : 88 Contamination:  0.06\n",
            "original_std :  63202.299105688384\n"
          ],
          "name": "stdout"
        },
        {
          "output_type": "stream",
          "text": [
            "/usr/local/lib/python3.6/dist-packages/sklearn/neighbors/lof.py:253: UserWarning: n_neighbors (20) is greater than the total number of samples (6). n_neighbors will be set to (n_samples - 1) for estimation.\n",
            "  % (self.n_neighbors, n_samples))\n"
          ],
          "name": "stderr"
        },
        {
          "output_type": "stream",
          "text": [
            "Epsilon:  0.405\n",
            "Seed Percentage : 97 Contamination:  0.015\n",
            "original_std :  10009.51927869047\n"
          ],
          "name": "stdout"
        },
        {
          "output_type": "stream",
          "text": [
            "/usr/local/lib/python3.6/dist-packages/sklearn/neighbors/lof.py:253: UserWarning: n_neighbors (20) is greater than the total number of samples (7). n_neighbors will be set to (n_samples - 1) for estimation.\n",
            "  % (self.n_neighbors, n_samples))\n"
          ],
          "name": "stderr"
        },
        {
          "output_type": "stream",
          "text": [
            "Epsilon:  0.424\n",
            "Seed Percentage : 88 Contamination:  0.06\n",
            "original_std :  129864.18488909515\n",
            "Epsilon:  0.372\n",
            "Seed Percentage : 88 Contamination:  0.06\n",
            "original_std :  0.0\n"
          ],
          "name": "stdout"
        },
        {
          "output_type": "stream",
          "text": [
            "/usr/local/lib/python3.6/dist-packages/sklearn/neighbors/lof.py:253: UserWarning: n_neighbors (20) is greater than the total number of samples (11). n_neighbors will be set to (n_samples - 1) for estimation.\n",
            "  % (self.n_neighbors, n_samples))\n"
          ],
          "name": "stderr"
        },
        {
          "output_type": "stream",
          "text": [
            "Epsilon:  0.5\n",
            "Seed Percentage : 88 Contamination:  0.06\n",
            "original_std :  0.0\n"
          ],
          "name": "stdout"
        },
        {
          "output_type": "stream",
          "text": [
            "/usr/local/lib/python3.6/dist-packages/sklearn/neighbors/lof.py:253: UserWarning: n_neighbors (20) is greater than the total number of samples (18). n_neighbors will be set to (n_samples - 1) for estimation.\n",
            "  % (self.n_neighbors, n_samples))\n"
          ],
          "name": "stderr"
        },
        {
          "output_type": "stream",
          "text": [
            "Epsilon:  0.5\n",
            "Seed Percentage : 88 Contamination:  0.06\n",
            "original_std :  0.0\n"
          ],
          "name": "stdout"
        },
        {
          "output_type": "stream",
          "text": [
            "/usr/local/lib/python3.6/dist-packages/sklearn/neighbors/lof.py:253: UserWarning: n_neighbors (20) is greater than the total number of samples (16). n_neighbors will be set to (n_samples - 1) for estimation.\n",
            "  % (self.n_neighbors, n_samples))\n"
          ],
          "name": "stderr"
        },
        {
          "output_type": "stream",
          "text": [
            "Epsilon:  0.5\n",
            "Seed Percentage : 88 Contamination:  0.06\n",
            "original_std :  0.0\n"
          ],
          "name": "stdout"
        },
        {
          "output_type": "stream",
          "text": [
            "/usr/local/lib/python3.6/dist-packages/sklearn/neighbors/lof.py:253: UserWarning: n_neighbors (20) is greater than the total number of samples (18). n_neighbors will be set to (n_samples - 1) for estimation.\n",
            "  % (self.n_neighbors, n_samples))\n"
          ],
          "name": "stderr"
        },
        {
          "output_type": "stream",
          "text": [
            "Epsilon:  0.5\n",
            "Seed Percentage : 88 Contamination:  0.06\n",
            "original_std :  0.0\n"
          ],
          "name": "stdout"
        },
        {
          "output_type": "stream",
          "text": [
            "/usr/local/lib/python3.6/dist-packages/sklearn/neighbors/lof.py:253: UserWarning: n_neighbors (20) is greater than the total number of samples (16). n_neighbors will be set to (n_samples - 1) for estimation.\n",
            "  % (self.n_neighbors, n_samples))\n"
          ],
          "name": "stderr"
        },
        {
          "output_type": "stream",
          "text": [
            "Epsilon:  0.5\n",
            "Seed Percentage : 88 Contamination:  0.06\n",
            "original_std :  0.0\n"
          ],
          "name": "stdout"
        },
        {
          "output_type": "stream",
          "text": [
            "/usr/local/lib/python3.6/dist-packages/sklearn/neighbors/lof.py:253: UserWarning: n_neighbors (20) is greater than the total number of samples (16). n_neighbors will be set to (n_samples - 1) for estimation.\n",
            "  % (self.n_neighbors, n_samples))\n"
          ],
          "name": "stderr"
        },
        {
          "output_type": "stream",
          "text": [
            "Epsilon:  0.5\n",
            "Seed Percentage : 88 Contamination:  0.06\n",
            "original_std :  0.0\n"
          ],
          "name": "stdout"
        },
        {
          "output_type": "stream",
          "text": [
            "/usr/local/lib/python3.6/dist-packages/sklearn/neighbors/lof.py:253: UserWarning: n_neighbors (20) is greater than the total number of samples (16). n_neighbors will be set to (n_samples - 1) for estimation.\n",
            "  % (self.n_neighbors, n_samples))\n"
          ],
          "name": "stderr"
        },
        {
          "output_type": "stream",
          "text": [
            "Epsilon:  0.5\n",
            "Seed Percentage : 88 Contamination:  0.06\n",
            "original_std :  124.48382313466365\n"
          ],
          "name": "stdout"
        },
        {
          "output_type": "stream",
          "text": [
            "/usr/local/lib/python3.6/dist-packages/sklearn/neighbors/lof.py:253: UserWarning: n_neighbors (20) is greater than the total number of samples (18). n_neighbors will be set to (n_samples - 1) for estimation.\n",
            "  % (self.n_neighbors, n_samples))\n"
          ],
          "name": "stderr"
        },
        {
          "output_type": "stream",
          "text": [
            "Epsilon:  0.526\n",
            "Seed Percentage : 88 Contamination:  0.06\n",
            "original_std :  213.66796671471369\n"
          ],
          "name": "stdout"
        },
        {
          "output_type": "stream",
          "text": [
            "/usr/local/lib/python3.6/dist-packages/sklearn/neighbors/lof.py:253: UserWarning: n_neighbors (20) is greater than the total number of samples (12). n_neighbors will be set to (n_samples - 1) for estimation.\n",
            "  % (self.n_neighbors, n_samples))\n"
          ],
          "name": "stderr"
        },
        {
          "output_type": "stream",
          "text": [
            "Epsilon:  0.918\n",
            "Seed Percentage : 88 Contamination:  0.06\n",
            "original_std :  846.0356560813183\n"
          ],
          "name": "stdout"
        },
        {
          "output_type": "stream",
          "text": [
            "/usr/local/lib/python3.6/dist-packages/sklearn/neighbors/lof.py:253: UserWarning: n_neighbors (20) is greater than the total number of samples (10). n_neighbors will be set to (n_samples - 1) for estimation.\n",
            "  % (self.n_neighbors, n_samples))\n"
          ],
          "name": "stderr"
        },
        {
          "output_type": "stream",
          "text": [
            "Epsilon:  0.332\n",
            "Seed Percentage : 88 Contamination:  0.06\n",
            "original_std :  924.3237017168583\n"
          ],
          "name": "stdout"
        },
        {
          "output_type": "stream",
          "text": [
            "/usr/local/lib/python3.6/dist-packages/sklearn/neighbors/lof.py:253: UserWarning: n_neighbors (20) is greater than the total number of samples (13). n_neighbors will be set to (n_samples - 1) for estimation.\n",
            "  % (self.n_neighbors, n_samples))\n"
          ],
          "name": "stderr"
        },
        {
          "output_type": "stream",
          "text": [
            "Epsilon:  0.705\n",
            "Seed Percentage : 88 Contamination:  0.06\n",
            "original_std :  1755.9422921421233\n"
          ],
          "name": "stdout"
        },
        {
          "output_type": "stream",
          "text": [
            "/usr/local/lib/python3.6/dist-packages/sklearn/neighbors/lof.py:253: UserWarning: n_neighbors (20) is greater than the total number of samples (12). n_neighbors will be set to (n_samples - 1) for estimation.\n",
            "  % (self.n_neighbors, n_samples))\n"
          ],
          "name": "stderr"
        },
        {
          "output_type": "stream",
          "text": [
            "Epsilon:  0.5\n",
            "Seed Percentage : 88 Contamination:  0.06\n",
            "original_std :  893.9707341235437\n"
          ],
          "name": "stdout"
        },
        {
          "output_type": "stream",
          "text": [
            "/usr/local/lib/python3.6/dist-packages/sklearn/neighbors/lof.py:253: UserWarning: n_neighbors (20) is greater than the total number of samples (6). n_neighbors will be set to (n_samples - 1) for estimation.\n",
            "  % (self.n_neighbors, n_samples))\n"
          ],
          "name": "stderr"
        },
        {
          "output_type": "stream",
          "text": [
            "Epsilon:  0.392\n",
            "Seed Percentage : 88 Contamination:  0.06\n",
            "original_std :  954.7032697824667\n"
          ],
          "name": "stdout"
        },
        {
          "output_type": "stream",
          "text": [
            "/usr/local/lib/python3.6/dist-packages/sklearn/neighbors/lof.py:253: UserWarning: n_neighbors (20) is greater than the total number of samples (7). n_neighbors will be set to (n_samples - 1) for estimation.\n",
            "  % (self.n_neighbors, n_samples))\n"
          ],
          "name": "stderr"
        },
        {
          "output_type": "stream",
          "text": [
            "Epsilon:  0.392\n",
            "Seed Percentage : 88 Contamination:  0.06\n",
            "original_std :  173.5662281538536\n"
          ],
          "name": "stdout"
        },
        {
          "output_type": "stream",
          "text": [
            "/usr/local/lib/python3.6/dist-packages/sklearn/neighbors/lof.py:253: UserWarning: n_neighbors (20) is greater than the total number of samples (6). n_neighbors will be set to (n_samples - 1) for estimation.\n",
            "  % (self.n_neighbors, n_samples))\n"
          ],
          "name": "stderr"
        },
        {
          "output_type": "stream",
          "text": [
            "Epsilon:  0.633\n",
            "Seed Percentage : 89 Contamination:  0.055\n",
            "original_std :  15925.972706254654\n"
          ],
          "name": "stdout"
        },
        {
          "output_type": "stream",
          "text": [
            "/usr/local/lib/python3.6/dist-packages/sklearn/neighbors/lof.py:253: UserWarning: n_neighbors (20) is greater than the total number of samples (9). n_neighbors will be set to (n_samples - 1) for estimation.\n",
            "  % (self.n_neighbors, n_samples))\n"
          ],
          "name": "stderr"
        },
        {
          "output_type": "stream",
          "text": [
            "Epsilon:  0.389\n",
            "Seed Percentage : 94 Contamination:  0.03\n",
            "original_std :  2344.5986558775594\n",
            "Epsilon:  0.308\n",
            "Seed Percentage : 88 Contamination:  0.06\n",
            "original_std :  1896.2099685683438\n",
            "Epsilon:  0.364\n",
            "Seed Percentage : 88 Contamination:  0.06\n",
            "original_std :  3721.230458121209\n"
          ],
          "name": "stdout"
        },
        {
          "output_type": "stream",
          "text": [
            "/usr/local/lib/python3.6/dist-packages/sklearn/neighbors/lof.py:253: UserWarning: n_neighbors (20) is greater than the total number of samples (7). n_neighbors will be set to (n_samples - 1) for estimation.\n",
            "  % (self.n_neighbors, n_samples))\n"
          ],
          "name": "stderr"
        },
        {
          "output_type": "stream",
          "text": [
            "Epsilon:  0.436\n",
            "Seed Percentage : 90 Contamination:  0.05\n",
            "original_std :  2733.32661424962\n"
          ],
          "name": "stdout"
        },
        {
          "output_type": "stream",
          "text": [
            "/usr/local/lib/python3.6/dist-packages/sklearn/neighbors/lof.py:253: UserWarning: n_neighbors (20) is greater than the total number of samples (7). n_neighbors will be set to (n_samples - 1) for estimation.\n",
            "  % (self.n_neighbors, n_samples))\n"
          ],
          "name": "stderr"
        },
        {
          "output_type": "stream",
          "text": [
            "Epsilon:  0.4\n",
            "Seed Percentage : 88 Contamination:  0.06\n",
            "original_std :  5342.590730504052\n"
          ],
          "name": "stdout"
        },
        {
          "output_type": "stream",
          "text": [
            "/usr/local/lib/python3.6/dist-packages/sklearn/neighbors/lof.py:253: UserWarning: n_neighbors (20) is greater than the total number of samples (11). n_neighbors will be set to (n_samples - 1) for estimation.\n",
            "  % (self.n_neighbors, n_samples))\n"
          ],
          "name": "stderr"
        },
        {
          "output_type": "stream",
          "text": [
            "Epsilon:  0.227\n",
            "Seed Percentage : 88 Contamination:  0.06\n",
            "original_std :  4642.956699515972\n",
            "Epsilon:  0.473\n",
            "Seed Percentage : 86 Contamination:  0.07\n",
            "original_std :  3765.1692303711043\n"
          ],
          "name": "stdout"
        },
        {
          "output_type": "stream",
          "text": [
            "/usr/local/lib/python3.6/dist-packages/sklearn/neighbors/lof.py:253: UserWarning: n_neighbors (20) is greater than the total number of samples (9). n_neighbors will be set to (n_samples - 1) for estimation.\n",
            "  % (self.n_neighbors, n_samples))\n"
          ],
          "name": "stderr"
        },
        {
          "output_type": "stream",
          "text": [
            "Epsilon:  0.479\n",
            "Seed Percentage : 88 Contamination:  0.06\n",
            "original_std :  3522.522287410844\n"
          ],
          "name": "stdout"
        },
        {
          "output_type": "stream",
          "text": [
            "/usr/local/lib/python3.6/dist-packages/sklearn/neighbors/lof.py:253: UserWarning: n_neighbors (20) is greater than the total number of samples (15). n_neighbors will be set to (n_samples - 1) for estimation.\n",
            "  % (self.n_neighbors, n_samples))\n"
          ],
          "name": "stderr"
        },
        {
          "output_type": "stream",
          "text": [
            "Epsilon:  0.4\n",
            "Seed Percentage : 87 Contamination:  0.065\n",
            "original_std :  4970.983460292339\n"
          ],
          "name": "stdout"
        },
        {
          "output_type": "stream",
          "text": [
            "/usr/local/lib/python3.6/dist-packages/sklearn/neighbors/lof.py:253: UserWarning: n_neighbors (20) is greater than the total number of samples (7). n_neighbors will be set to (n_samples - 1) for estimation.\n",
            "  % (self.n_neighbors, n_samples))\n"
          ],
          "name": "stderr"
        },
        {
          "output_type": "stream",
          "text": [
            "Epsilon:  0.211\n",
            "Seed Percentage : 88 Contamination:  0.06\n",
            "original_std :  3574.7752177085003\n"
          ],
          "name": "stdout"
        },
        {
          "output_type": "stream",
          "text": [
            "/usr/local/lib/python3.6/dist-packages/sklearn/neighbors/lof.py:253: UserWarning: n_neighbors (20) is greater than the total number of samples (16). n_neighbors will be set to (n_samples - 1) for estimation.\n",
            "  % (self.n_neighbors, n_samples))\n"
          ],
          "name": "stderr"
        },
        {
          "output_type": "stream",
          "text": [
            "Epsilon:  0.222\n",
            "Seed Percentage : 88 Contamination:  0.06\n",
            "original_std :  1755.9422921421233\n",
            "Epsilon:  0.3\n",
            "Seed Percentage : 88 Contamination:  0.06\n",
            "original_std :  22985.57666655065\n"
          ],
          "name": "stdout"
        },
        {
          "output_type": "stream",
          "text": [
            "/usr/local/lib/python3.6/dist-packages/sklearn/neighbors/lof.py:253: UserWarning: n_neighbors (20) is greater than the total number of samples (6). n_neighbors will be set to (n_samples - 1) for estimation.\n",
            "  % (self.n_neighbors, n_samples))\n"
          ],
          "name": "stderr"
        },
        {
          "output_type": "stream",
          "text": [
            "Epsilon:  0.5\n",
            "Seed Percentage : 88 Contamination:  0.06\n",
            "original_std :  224057.59428226383\n"
          ],
          "name": "stdout"
        },
        {
          "output_type": "stream",
          "text": [
            "/usr/local/lib/python3.6/dist-packages/sklearn/neighbors/lof.py:253: UserWarning: n_neighbors (20) is greater than the total number of samples (14). n_neighbors will be set to (n_samples - 1) for estimation.\n",
            "  % (self.n_neighbors, n_samples))\n"
          ],
          "name": "stderr"
        },
        {
          "output_type": "stream",
          "text": [
            "Epsilon:  0.511\n",
            "Seed Percentage : 88 Contamination:  0.06\n",
            "original_std :  49.1384099593519\n"
          ],
          "name": "stdout"
        },
        {
          "output_type": "stream",
          "text": [
            "/usr/local/lib/python3.6/dist-packages/sklearn/neighbors/lof.py:253: UserWarning: n_neighbors (20) is greater than the total number of samples (6). n_neighbors will be set to (n_samples - 1) for estimation.\n",
            "  % (self.n_neighbors, n_samples))\n"
          ],
          "name": "stderr"
        },
        {
          "output_type": "stream",
          "text": [
            "Epsilon:  0.464\n",
            "Seed Percentage : 88 Contamination:  0.06\n",
            "original_std :  57.14549872642077\n"
          ],
          "name": "stdout"
        },
        {
          "output_type": "stream",
          "text": [
            "/usr/local/lib/python3.6/dist-packages/sklearn/neighbors/lof.py:253: UserWarning: n_neighbors (20) is greater than the total number of samples (6). n_neighbors will be set to (n_samples - 1) for estimation.\n",
            "  % (self.n_neighbors, n_samples))\n"
          ],
          "name": "stderr"
        },
        {
          "output_type": "stream",
          "text": [
            "Epsilon:  0.295\n",
            "Seed Percentage : 88 Contamination:  0.06\n",
            "original_std :  54.10582223753743\n"
          ],
          "name": "stdout"
        },
        {
          "output_type": "stream",
          "text": [
            "/usr/local/lib/python3.6/dist-packages/sklearn/neighbors/lof.py:253: UserWarning: n_neighbors (20) is greater than the total number of samples (18). n_neighbors will be set to (n_samples - 1) for estimation.\n",
            "  % (self.n_neighbors, n_samples))\n"
          ],
          "name": "stderr"
        },
        {
          "output_type": "stream",
          "text": [
            "Epsilon:  0.222\n",
            "Seed Percentage : 88 Contamination:  0.06\n",
            "original_std :  65.67046044455604\n"
          ],
          "name": "stdout"
        },
        {
          "output_type": "stream",
          "text": [
            "/usr/local/lib/python3.6/dist-packages/sklearn/neighbors/lof.py:253: UserWarning: n_neighbors (20) is greater than the total number of samples (15). n_neighbors will be set to (n_samples - 1) for estimation.\n",
            "  % (self.n_neighbors, n_samples))\n"
          ],
          "name": "stderr"
        },
        {
          "output_type": "stream",
          "text": [
            "Epsilon:  0.359\n",
            "Seed Percentage : 94 Contamination:  0.03\n",
            "original_std :  72.20392788634193\n"
          ],
          "name": "stdout"
        },
        {
          "output_type": "stream",
          "text": [
            "/usr/local/lib/python3.6/dist-packages/sklearn/neighbors/lof.py:253: UserWarning: n_neighbors (20) is greater than the total number of samples (8). n_neighbors will be set to (n_samples - 1) for estimation.\n",
            "  % (self.n_neighbors, n_samples))\n"
          ],
          "name": "stderr"
        },
        {
          "output_type": "stream",
          "text": [
            "Epsilon:  0.399\n",
            "Seed Percentage : 88 Contamination:  0.06\n",
            "original_std :  44.9694340635948\n"
          ],
          "name": "stdout"
        },
        {
          "output_type": "stream",
          "text": [
            "/usr/local/lib/python3.6/dist-packages/sklearn/neighbors/lof.py:253: UserWarning: n_neighbors (20) is greater than the total number of samples (19). n_neighbors will be set to (n_samples - 1) for estimation.\n",
            "  % (self.n_neighbors, n_samples))\n"
          ],
          "name": "stderr"
        },
        {
          "output_type": "stream",
          "text": [
            "Epsilon:  0.676\n",
            "Seed Percentage : 88 Contamination:  0.06\n",
            "original_std :  41.49966532662911\n"
          ],
          "name": "stdout"
        },
        {
          "output_type": "stream",
          "text": [
            "/usr/local/lib/python3.6/dist-packages/sklearn/neighbors/lof.py:253: UserWarning: n_neighbors (20) is greater than the total number of samples (10). n_neighbors will be set to (n_samples - 1) for estimation.\n",
            "  % (self.n_neighbors, n_samples))\n"
          ],
          "name": "stderr"
        },
        {
          "output_type": "stream",
          "text": [
            "Epsilon:  0.545\n",
            "Seed Percentage : 88 Contamination:  0.06\n",
            "original_std :  64.04869403962233\n"
          ],
          "name": "stdout"
        },
        {
          "output_type": "stream",
          "text": [
            "/usr/local/lib/python3.6/dist-packages/sklearn/neighbors/lof.py:253: UserWarning: n_neighbors (20) is greater than the total number of samples (6). n_neighbors will be set to (n_samples - 1) for estimation.\n",
            "  % (self.n_neighbors, n_samples))\n"
          ],
          "name": "stderr"
        },
        {
          "output_type": "stream",
          "text": [
            "Epsilon:  0.167\n",
            "Seed Percentage : 88 Contamination:  0.06\n",
            "original_std :  57.44127435912264\n",
            "Epsilon:  0.4\n",
            "Seed Percentage : 88 Contamination:  0.06\n",
            "original_std :  51.19163343099469\n"
          ],
          "name": "stdout"
        },
        {
          "output_type": "stream",
          "text": [
            "/usr/local/lib/python3.6/dist-packages/sklearn/neighbors/lof.py:253: UserWarning: n_neighbors (20) is greater than the total number of samples (8). n_neighbors will be set to (n_samples - 1) for estimation.\n",
            "  % (self.n_neighbors, n_samples))\n"
          ],
          "name": "stderr"
        },
        {
          "output_type": "stream",
          "text": [
            "Epsilon:  0.265\n",
            "Seed Percentage : 88 Contamination:  0.06\n",
            "original_std :  23.72267759125781\n"
          ],
          "name": "stdout"
        },
        {
          "output_type": "stream",
          "text": [
            "/usr/local/lib/python3.6/dist-packages/sklearn/neighbors/lof.py:253: UserWarning: n_neighbors (20) is greater than the total number of samples (12). n_neighbors will be set to (n_samples - 1) for estimation.\n",
            "  % (self.n_neighbors, n_samples))\n"
          ],
          "name": "stderr"
        },
        {
          "output_type": "stream",
          "text": [
            "Epsilon:  0.389\n",
            "Seed Percentage : 88 Contamination:  0.06\n",
            "original_std :  68.56529734493974\n"
          ],
          "name": "stdout"
        },
        {
          "output_type": "stream",
          "text": [
            "/usr/local/lib/python3.6/dist-packages/sklearn/neighbors/lof.py:253: UserWarning: n_neighbors (20) is greater than the total number of samples (9). n_neighbors will be set to (n_samples - 1) for estimation.\n",
            "  % (self.n_neighbors, n_samples))\n"
          ],
          "name": "stderr"
        },
        {
          "output_type": "stream",
          "text": [
            "Epsilon:  0.222\n",
            "Seed Percentage : 88 Contamination:  0.06\n",
            "original_std :  2.3239693055919077\n"
          ],
          "name": "stdout"
        },
        {
          "output_type": "stream",
          "text": [
            "/usr/local/lib/python3.6/dist-packages/sklearn/neighbors/lof.py:253: UserWarning: n_neighbors (20) is greater than the total number of samples (15). n_neighbors will be set to (n_samples - 1) for estimation.\n",
            "  % (self.n_neighbors, n_samples))\n"
          ],
          "name": "stderr"
        },
        {
          "output_type": "stream",
          "text": [
            "Epsilon:  0.535\n",
            "Seed Percentage : 88 Contamination:  0.06\n",
            "original_std :  1.8526901892923167\n"
          ],
          "name": "stdout"
        },
        {
          "output_type": "stream",
          "text": [
            "/usr/local/lib/python3.6/dist-packages/sklearn/neighbors/lof.py:253: UserWarning: n_neighbors (20) is greater than the total number of samples (6). n_neighbors will be set to (n_samples - 1) for estimation.\n",
            "  % (self.n_neighbors, n_samples))\n"
          ],
          "name": "stderr"
        },
        {
          "output_type": "stream",
          "text": [
            "Epsilon:  0.447\n",
            "Seed Percentage : 88 Contamination:  0.06\n",
            "original_std :  2.2931536623192663\n"
          ],
          "name": "stdout"
        },
        {
          "output_type": "stream",
          "text": [
            "/usr/local/lib/python3.6/dist-packages/sklearn/neighbors/lof.py:253: UserWarning: n_neighbors (20) is greater than the total number of samples (8). n_neighbors will be set to (n_samples - 1) for estimation.\n",
            "  % (self.n_neighbors, n_samples))\n"
          ],
          "name": "stderr"
        },
        {
          "output_type": "stream",
          "text": [
            "Epsilon:  0.213\n",
            "Seed Percentage : 88 Contamination:  0.06\n",
            "original_std :  2.029102171232828\n"
          ],
          "name": "stdout"
        },
        {
          "output_type": "stream",
          "text": [
            "/usr/local/lib/python3.6/dist-packages/sklearn/neighbors/lof.py:253: UserWarning: n_neighbors (20) is greater than the total number of samples (11). n_neighbors will be set to (n_samples - 1) for estimation.\n",
            "  % (self.n_neighbors, n_samples))\n"
          ],
          "name": "stderr"
        },
        {
          "output_type": "stream",
          "text": [
            "Epsilon:  0.281\n",
            "Seed Percentage : 88 Contamination:  0.06\n",
            "original_std :  0.0\n"
          ],
          "name": "stdout"
        },
        {
          "output_type": "stream",
          "text": [
            "/usr/local/lib/python3.6/dist-packages/sklearn/neighbors/lof.py:253: UserWarning: n_neighbors (20) is greater than the total number of samples (13). n_neighbors will be set to (n_samples - 1) for estimation.\n",
            "  % (self.n_neighbors, n_samples))\n"
          ],
          "name": "stderr"
        },
        {
          "output_type": "stream",
          "text": [
            "Epsilon:  0.5\n",
            "Seed Percentage : 90 Contamination:  0.05\n",
            "original_std :  3.1468237955119127\n"
          ],
          "name": "stdout"
        },
        {
          "output_type": "stream",
          "text": [
            "/usr/local/lib/python3.6/dist-packages/sklearn/neighbors/lof.py:253: UserWarning: n_neighbors (20) is greater than the total number of samples (7). n_neighbors will be set to (n_samples - 1) for estimation.\n",
            "  % (self.n_neighbors, n_samples))\n"
          ],
          "name": "stderr"
        },
        {
          "output_type": "stream",
          "text": [
            "Epsilon:  0.364\n",
            "Seed Percentage : 88 Contamination:  0.06\n",
            "original_std :  2.055520813887938\n"
          ],
          "name": "stdout"
        },
        {
          "output_type": "stream",
          "text": [
            "/usr/local/lib/python3.6/dist-packages/sklearn/neighbors/lof.py:253: UserWarning: n_neighbors (20) is greater than the total number of samples (10). n_neighbors will be set to (n_samples - 1) for estimation.\n",
            "  % (self.n_neighbors, n_samples))\n"
          ],
          "name": "stderr"
        },
        {
          "output_type": "stream",
          "text": [
            "Epsilon:  0.244\n",
            "Seed Percentage : 88 Contamination:  0.06\n",
            "original_std :  1.3647157213134171\n"
          ],
          "name": "stdout"
        },
        {
          "output_type": "stream",
          "text": [
            "/usr/local/lib/python3.6/dist-packages/sklearn/neighbors/lof.py:253: UserWarning: n_neighbors (20) is greater than the total number of samples (14). n_neighbors will be set to (n_samples - 1) for estimation.\n",
            "  % (self.n_neighbors, n_samples))\n"
          ],
          "name": "stderr"
        },
        {
          "output_type": "stream",
          "text": [
            "Epsilon:  0.324\n",
            "Seed Percentage : 88 Contamination:  0.06\n",
            "original_std :  2.5052367028885714\n"
          ],
          "name": "stdout"
        },
        {
          "output_type": "stream",
          "text": [
            "/usr/local/lib/python3.6/dist-packages/sklearn/neighbors/lof.py:253: UserWarning: n_neighbors (20) is greater than the total number of samples (10). n_neighbors will be set to (n_samples - 1) for estimation.\n",
            "  % (self.n_neighbors, n_samples))\n"
          ],
          "name": "stderr"
        },
        {
          "output_type": "stream",
          "text": [
            "Epsilon:  0.451\n",
            "Seed Percentage : 88 Contamination:  0.06\n",
            "original_std :  2.159084563847872\n"
          ],
          "name": "stdout"
        },
        {
          "output_type": "stream",
          "text": [
            "/usr/local/lib/python3.6/dist-packages/sklearn/neighbors/lof.py:253: UserWarning: n_neighbors (20) is greater than the total number of samples (8). n_neighbors will be set to (n_samples - 1) for estimation.\n",
            "  % (self.n_neighbors, n_samples))\n"
          ],
          "name": "stderr"
        },
        {
          "output_type": "stream",
          "text": [
            "Epsilon:  0.162\n",
            "Seed Percentage : 88 Contamination:  0.06\n",
            "original_std :  1.494377462356817\n"
          ],
          "name": "stdout"
        },
        {
          "output_type": "stream",
          "text": [
            "/usr/local/lib/python3.6/dist-packages/sklearn/neighbors/lof.py:253: UserWarning: n_neighbors (20) is greater than the total number of samples (13). n_neighbors will be set to (n_samples - 1) for estimation.\n",
            "  % (self.n_neighbors, n_samples))\n"
          ],
          "name": "stderr"
        },
        {
          "output_type": "stream",
          "text": [
            "Epsilon:  0.256\n",
            "Seed Percentage : 87 Contamination:  0.065\n",
            "original_std :  2.8753736170278814\n"
          ],
          "name": "stdout"
        },
        {
          "output_type": "stream",
          "text": [
            "/usr/local/lib/python3.6/dist-packages/sklearn/neighbors/lof.py:253: UserWarning: n_neighbors (20) is greater than the total number of samples (10). n_neighbors will be set to (n_samples - 1) for estimation.\n",
            "  % (self.n_neighbors, n_samples))\n"
          ],
          "name": "stderr"
        },
        {
          "output_type": "stream",
          "text": [
            "Epsilon:  0.333\n",
            "Seed Percentage : 88 Contamination:  0.06\n",
            "original_std :  15090.870584562044\n"
          ],
          "name": "stdout"
        },
        {
          "output_type": "stream",
          "text": [
            "/usr/local/lib/python3.6/dist-packages/sklearn/neighbors/lof.py:253: UserWarning: n_neighbors (20) is greater than the total number of samples (16). n_neighbors will be set to (n_samples - 1) for estimation.\n",
            "  % (self.n_neighbors, n_samples))\n"
          ],
          "name": "stderr"
        },
        {
          "output_type": "stream",
          "text": [
            "Epsilon:  0.444\n",
            "Seed Percentage : 87 Contamination:  0.065\n",
            "original_std :  125472.54430750976\n"
          ],
          "name": "stdout"
        },
        {
          "output_type": "stream",
          "text": [
            "/usr/local/lib/python3.6/dist-packages/sklearn/neighbors/lof.py:253: UserWarning: n_neighbors (20) is greater than the total number of samples (8). n_neighbors will be set to (n_samples - 1) for estimation.\n",
            "  % (self.n_neighbors, n_samples))\n"
          ],
          "name": "stderr"
        },
        {
          "output_type": "stream",
          "text": [
            "Epsilon:  0.627\n",
            "Seed Percentage : 88 Contamination:  0.06\n",
            "original_std :  23364.896048280178\n"
          ],
          "name": "stdout"
        },
        {
          "output_type": "stream",
          "text": [
            "/usr/local/lib/python3.6/dist-packages/sklearn/neighbors/lof.py:253: UserWarning: n_neighbors (20) is greater than the total number of samples (8). n_neighbors will be set to (n_samples - 1) for estimation.\n",
            "  % (self.n_neighbors, n_samples))\n"
          ],
          "name": "stderr"
        },
        {
          "output_type": "stream",
          "text": [
            "Epsilon:  0.583\n",
            "Seed Percentage : 88 Contamination:  0.06\n",
            "original_std :  91316.89608283936\n"
          ],
          "name": "stdout"
        },
        {
          "output_type": "stream",
          "text": [
            "/usr/local/lib/python3.6/dist-packages/sklearn/neighbors/lof.py:253: UserWarning: n_neighbors (20) is greater than the total number of samples (7). n_neighbors will be set to (n_samples - 1) for estimation.\n",
            "  % (self.n_neighbors, n_samples))\n"
          ],
          "name": "stderr"
        },
        {
          "output_type": "stream",
          "text": [
            "Epsilon:  0.483\n",
            "Seed Percentage : 88 Contamination:  0.06\n",
            "original_std :  112231.53909372774\n"
          ],
          "name": "stdout"
        },
        {
          "output_type": "stream",
          "text": [
            "/usr/local/lib/python3.6/dist-packages/sklearn/neighbors/lof.py:253: UserWarning: n_neighbors (20) is greater than the total number of samples (7). n_neighbors will be set to (n_samples - 1) for estimation.\n",
            "  % (self.n_neighbors, n_samples))\n"
          ],
          "name": "stderr"
        },
        {
          "output_type": "stream",
          "text": [
            "Epsilon:  0.467\n",
            "Seed Percentage : 88 Contamination:  0.06\n",
            "original_std :  163867.48005753968\n"
          ],
          "name": "stdout"
        },
        {
          "output_type": "stream",
          "text": [
            "/usr/local/lib/python3.6/dist-packages/sklearn/neighbors/lof.py:253: UserWarning: n_neighbors (20) is greater than the total number of samples (7). n_neighbors will be set to (n_samples - 1) for estimation.\n",
            "  % (self.n_neighbors, n_samples))\n"
          ],
          "name": "stderr"
        },
        {
          "output_type": "stream",
          "text": [
            "Epsilon:  0.263\n",
            "Seed Percentage : 88 Contamination:  0.06\n",
            "original_std :  216.06377659282816\n"
          ],
          "name": "stdout"
        },
        {
          "output_type": "stream",
          "text": [
            "/usr/local/lib/python3.6/dist-packages/sklearn/neighbors/lof.py:253: UserWarning: n_neighbors (20) is greater than the total number of samples (14). n_neighbors will be set to (n_samples - 1) for estimation.\n",
            "  % (self.n_neighbors, n_samples))\n"
          ],
          "name": "stderr"
        },
        {
          "output_type": "stream",
          "text": [
            "Epsilon:  0.845\n",
            "Seed Percentage : 87 Contamination:  0.065\n",
            "original_std :  220.98854608327554\n"
          ],
          "name": "stdout"
        },
        {
          "output_type": "stream",
          "text": [
            "/usr/local/lib/python3.6/dist-packages/sklearn/neighbors/lof.py:253: UserWarning: n_neighbors (20) is greater than the total number of samples (6). n_neighbors will be set to (n_samples - 1) for estimation.\n",
            "  % (self.n_neighbors, n_samples))\n"
          ],
          "name": "stderr"
        },
        {
          "output_type": "stream",
          "text": [
            "Epsilon:  0.327\n",
            "Seed Percentage : 88 Contamination:  0.06\n",
            "original_std :  0.0\n"
          ],
          "name": "stdout"
        },
        {
          "output_type": "stream",
          "text": [
            "/usr/local/lib/python3.6/dist-packages/sklearn/neighbors/lof.py:253: UserWarning: n_neighbors (20) is greater than the total number of samples (8). n_neighbors will be set to (n_samples - 1) for estimation.\n",
            "  % (self.n_neighbors, n_samples))\n"
          ],
          "name": "stderr"
        },
        {
          "output_type": "stream",
          "text": [
            "Epsilon:  0.5\n",
            "Seed Percentage : 88 Contamination:  0.06\n",
            "original_std :  220.65558884580489\n"
          ],
          "name": "stdout"
        },
        {
          "output_type": "stream",
          "text": [
            "/usr/local/lib/python3.6/dist-packages/sklearn/neighbors/lof.py:253: UserWarning: n_neighbors (20) is greater than the total number of samples (9). n_neighbors will be set to (n_samples - 1) for estimation.\n",
            "  % (self.n_neighbors, n_samples))\n"
          ],
          "name": "stderr"
        },
        {
          "output_type": "stream",
          "text": [
            "Epsilon:  0.496\n",
            "Seed Percentage : 88 Contamination:  0.06\n",
            "original_std :  25.440562537456245\n"
          ],
          "name": "stdout"
        },
        {
          "output_type": "stream",
          "text": [
            "/usr/local/lib/python3.6/dist-packages/sklearn/neighbors/lof.py:253: UserWarning: n_neighbors (20) is greater than the total number of samples (6). n_neighbors will be set to (n_samples - 1) for estimation.\n",
            "  % (self.n_neighbors, n_samples))\n"
          ],
          "name": "stderr"
        },
        {
          "output_type": "stream",
          "text": [
            "Epsilon:  0.929\n",
            "Seed Percentage : 88 Contamination:  0.06\n",
            "original_std :  0.0\n"
          ],
          "name": "stdout"
        },
        {
          "output_type": "stream",
          "text": [
            "/usr/local/lib/python3.6/dist-packages/sklearn/neighbors/lof.py:253: UserWarning: n_neighbors (20) is greater than the total number of samples (6). n_neighbors will be set to (n_samples - 1) for estimation.\n",
            "  % (self.n_neighbors, n_samples))\n"
          ],
          "name": "stderr"
        },
        {
          "output_type": "stream",
          "text": [
            "Epsilon:  0.5\n",
            "Seed Percentage : 88 Contamination:  0.06\n",
            "original_std :  30.788945803217576\n"
          ],
          "name": "stdout"
        },
        {
          "output_type": "stream",
          "text": [
            "/usr/local/lib/python3.6/dist-packages/sklearn/neighbors/lof.py:253: UserWarning: n_neighbors (20) is greater than the total number of samples (16). n_neighbors will be set to (n_samples - 1) for estimation.\n",
            "  % (self.n_neighbors, n_samples))\n"
          ],
          "name": "stderr"
        },
        {
          "output_type": "stream",
          "text": [
            "Epsilon:  0.929\n",
            "Seed Percentage : 88 Contamination:  0.06\n",
            "original_std :  544.6123474970659\n"
          ],
          "name": "stdout"
        },
        {
          "output_type": "stream",
          "text": [
            "/usr/local/lib/python3.6/dist-packages/sklearn/neighbors/lof.py:253: UserWarning: n_neighbors (20) is greater than the total number of samples (7). n_neighbors will be set to (n_samples - 1) for estimation.\n",
            "  % (self.n_neighbors, n_samples))\n"
          ],
          "name": "stderr"
        },
        {
          "output_type": "stream",
          "text": [
            "Epsilon:  0.205\n",
            "Seed Percentage : 88 Contamination:  0.06\n",
            "original_std :  0.0\n",
            "Epsilon:  0.5\n",
            "Seed Percentage : 88 Contamination:  0.06\n",
            "original_std :  432.0172321665987\n"
          ],
          "name": "stdout"
        },
        {
          "output_type": "stream",
          "text": [
            "/usr/local/lib/python3.6/dist-packages/sklearn/neighbors/lof.py:253: UserWarning: n_neighbors (20) is greater than the total number of samples (16). n_neighbors will be set to (n_samples - 1) for estimation.\n",
            "  % (self.n_neighbors, n_samples))\n"
          ],
          "name": "stderr"
        },
        {
          "output_type": "stream",
          "text": [
            "Epsilon:  0.429\n",
            "Seed Percentage : 88 Contamination:  0.06\n",
            "original_std :  655.3036827812481\n"
          ],
          "name": "stdout"
        },
        {
          "output_type": "stream",
          "text": [
            "/usr/local/lib/python3.6/dist-packages/sklearn/neighbors/lof.py:253: UserWarning: n_neighbors (20) is greater than the total number of samples (9). n_neighbors will be set to (n_samples - 1) for estimation.\n",
            "  % (self.n_neighbors, n_samples))\n"
          ],
          "name": "stderr"
        },
        {
          "output_type": "stream",
          "text": [
            "Epsilon:  0.942\n",
            "Seed Percentage : 88 Contamination:  0.06\n",
            "original_std :  187.39762830342863\n"
          ],
          "name": "stdout"
        },
        {
          "output_type": "stream",
          "text": [
            "/usr/local/lib/python3.6/dist-packages/sklearn/neighbors/lof.py:253: UserWarning: n_neighbors (20) is greater than the total number of samples (6). n_neighbors will be set to (n_samples - 1) for estimation.\n",
            "  % (self.n_neighbors, n_samples))\n"
          ],
          "name": "stderr"
        },
        {
          "output_type": "stream",
          "text": [
            "Epsilon:  0.214\n",
            "Seed Percentage : 88 Contamination:  0.06\n",
            "original_std :  538.052482097572\n"
          ],
          "name": "stdout"
        },
        {
          "output_type": "stream",
          "text": [
            "/usr/local/lib/python3.6/dist-packages/sklearn/neighbors/lof.py:253: UserWarning: n_neighbors (20) is greater than the total number of samples (16). n_neighbors will be set to (n_samples - 1) for estimation.\n",
            "  % (self.n_neighbors, n_samples))\n"
          ],
          "name": "stderr"
        },
        {
          "output_type": "stream",
          "text": [
            "Epsilon:  0.364\n",
            "Seed Percentage : 88 Contamination:  0.06\n",
            "original_std :  0.0\n"
          ],
          "name": "stdout"
        },
        {
          "output_type": "stream",
          "text": [
            "/usr/local/lib/python3.6/dist-packages/sklearn/neighbors/lof.py:253: UserWarning: n_neighbors (20) is greater than the total number of samples (9). n_neighbors will be set to (n_samples - 1) for estimation.\n",
            "  % (self.n_neighbors, n_samples))\n"
          ],
          "name": "stderr"
        },
        {
          "output_type": "stream",
          "text": [
            "Epsilon:  0.5\n",
            "Seed Percentage : 88 Contamination:  0.06\n",
            "original_std :  44.30011286667337\n"
          ],
          "name": "stdout"
        },
        {
          "output_type": "stream",
          "text": [
            "/usr/local/lib/python3.6/dist-packages/sklearn/neighbors/lof.py:253: UserWarning: n_neighbors (20) is greater than the total number of samples (16). n_neighbors will be set to (n_samples - 1) for estimation.\n",
            "  % (self.n_neighbors, n_samples))\n"
          ],
          "name": "stderr"
        },
        {
          "output_type": "stream",
          "text": [
            "Epsilon:  0.619\n",
            "Seed Percentage : 88 Contamination:  0.06\n",
            "original_std :  29.308435219233388\n"
          ],
          "name": "stdout"
        },
        {
          "output_type": "stream",
          "text": [
            "/usr/local/lib/python3.6/dist-packages/sklearn/neighbors/lof.py:253: UserWarning: n_neighbors (20) is greater than the total number of samples (8). n_neighbors will be set to (n_samples - 1) for estimation.\n",
            "  % (self.n_neighbors, n_samples))\n"
          ],
          "name": "stderr"
        },
        {
          "output_type": "stream",
          "text": [
            "Epsilon:  0.929\n",
            "Seed Percentage : 87 Contamination:  0.065\n",
            "original_std :  188.248505970167\n"
          ],
          "name": "stdout"
        },
        {
          "output_type": "stream",
          "text": [
            "/usr/local/lib/python3.6/dist-packages/sklearn/neighbors/lof.py:253: UserWarning: n_neighbors (20) is greater than the total number of samples (8). n_neighbors will be set to (n_samples - 1) for estimation.\n",
            "  % (self.n_neighbors, n_samples))\n"
          ],
          "name": "stderr"
        },
        {
          "output_type": "stream",
          "text": [
            "Epsilon:  0.403\n",
            "Seed Percentage : 88 Contamination:  0.06\n",
            "original_std :  0.0\n"
          ],
          "name": "stdout"
        },
        {
          "output_type": "stream",
          "text": [
            "/usr/local/lib/python3.6/dist-packages/sklearn/neighbors/lof.py:253: UserWarning: n_neighbors (20) is greater than the total number of samples (8). n_neighbors will be set to (n_samples - 1) for estimation.\n",
            "  % (self.n_neighbors, n_samples))\n"
          ],
          "name": "stderr"
        },
        {
          "output_type": "stream",
          "text": [
            "Epsilon:  0.5\n",
            "Seed Percentage : 88 Contamination:  0.06\n",
            "original_std :  0.0\n"
          ],
          "name": "stdout"
        },
        {
          "output_type": "stream",
          "text": [
            "/usr/local/lib/python3.6/dist-packages/sklearn/neighbors/lof.py:253: UserWarning: n_neighbors (20) is greater than the total number of samples (16). n_neighbors will be set to (n_samples - 1) for estimation.\n",
            "  % (self.n_neighbors, n_samples))\n"
          ],
          "name": "stderr"
        },
        {
          "output_type": "stream",
          "text": [
            "Epsilon:  0.5\n",
            "Seed Percentage : 88 Contamination:  0.06\n",
            "original_std :  234662.95274049736\n"
          ],
          "name": "stdout"
        },
        {
          "output_type": "stream",
          "text": [
            "/usr/local/lib/python3.6/dist-packages/sklearn/neighbors/lof.py:253: UserWarning: n_neighbors (20) is greater than the total number of samples (16). n_neighbors will be set to (n_samples - 1) for estimation.\n",
            "  % (self.n_neighbors, n_samples))\n"
          ],
          "name": "stderr"
        },
        {
          "output_type": "stream",
          "text": [
            "Epsilon:  0.438\n",
            "Seed Percentage : 88 Contamination:  0.06\n",
            "original_std :  543753.0630536686\n"
          ],
          "name": "stdout"
        },
        {
          "output_type": "stream",
          "text": [
            "/usr/local/lib/python3.6/dist-packages/sklearn/neighbors/lof.py:253: UserWarning: n_neighbors (20) is greater than the total number of samples (6). n_neighbors will be set to (n_samples - 1) for estimation.\n",
            "  % (self.n_neighbors, n_samples))\n"
          ],
          "name": "stderr"
        },
        {
          "output_type": "stream",
          "text": [
            "Epsilon:  0.467\n",
            "Seed Percentage : 88 Contamination:  0.06\n",
            "original_std :  26523.05077139925\n"
          ],
          "name": "stdout"
        },
        {
          "output_type": "stream",
          "text": [
            "/usr/local/lib/python3.6/dist-packages/sklearn/neighbors/lof.py:253: UserWarning: n_neighbors (20) is greater than the total number of samples (9). n_neighbors will be set to (n_samples - 1) for estimation.\n",
            "  % (self.n_neighbors, n_samples))\n"
          ],
          "name": "stderr"
        },
        {
          "output_type": "stream",
          "text": [
            "Epsilon:  0.706\n",
            "Seed Percentage : 88 Contamination:  0.06\n",
            "original_std :  50887.94880257342\n"
          ],
          "name": "stdout"
        },
        {
          "output_type": "stream",
          "text": [
            "/usr/local/lib/python3.6/dist-packages/sklearn/neighbors/lof.py:253: UserWarning: n_neighbors (20) is greater than the total number of samples (6). n_neighbors will be set to (n_samples - 1) for estimation.\n",
            "  % (self.n_neighbors, n_samples))\n"
          ],
          "name": "stderr"
        },
        {
          "output_type": "stream",
          "text": [
            "Epsilon:  0.719\n",
            "Seed Percentage : 88 Contamination:  0.06\n",
            "original_std :  1216987.3599898233\n"
          ],
          "name": "stdout"
        },
        {
          "output_type": "stream",
          "text": [
            "/usr/local/lib/python3.6/dist-packages/sklearn/neighbors/lof.py:253: UserWarning: n_neighbors (20) is greater than the total number of samples (6). n_neighbors will be set to (n_samples - 1) for estimation.\n",
            "  % (self.n_neighbors, n_samples))\n"
          ],
          "name": "stderr"
        },
        {
          "output_type": "stream",
          "text": [
            "Epsilon:  0.527\n",
            "Seed Percentage : 88 Contamination:  0.06\n",
            "original_std :  20138.409955990955\n"
          ],
          "name": "stdout"
        },
        {
          "output_type": "stream",
          "text": [
            "/usr/local/lib/python3.6/dist-packages/sklearn/neighbors/lof.py:253: UserWarning: n_neighbors (20) is greater than the total number of samples (8). n_neighbors will be set to (n_samples - 1) for estimation.\n",
            "  % (self.n_neighbors, n_samples))\n"
          ],
          "name": "stderr"
        },
        {
          "output_type": "stream",
          "text": [
            "Epsilon:  0.889\n",
            "Seed Percentage : 88 Contamination:  0.06\n",
            "original_std :  1036.1493886286646\n"
          ],
          "name": "stdout"
        },
        {
          "output_type": "stream",
          "text": [
            "/usr/local/lib/python3.6/dist-packages/sklearn/neighbors/lof.py:253: UserWarning: n_neighbors (20) is greater than the total number of samples (6). n_neighbors will be set to (n_samples - 1) for estimation.\n",
            "  % (self.n_neighbors, n_samples))\n"
          ],
          "name": "stderr"
        },
        {
          "output_type": "stream",
          "text": [
            "Epsilon:  0.798\n",
            "Seed Percentage : 88 Contamination:  0.06\n",
            "original_std :  24065.478997102888\n"
          ],
          "name": "stdout"
        },
        {
          "output_type": "stream",
          "text": [
            "/usr/local/lib/python3.6/dist-packages/sklearn/neighbors/lof.py:253: UserWarning: n_neighbors (20) is greater than the total number of samples (6). n_neighbors will be set to (n_samples - 1) for estimation.\n",
            "  % (self.n_neighbors, n_samples))\n"
          ],
          "name": "stderr"
        },
        {
          "output_type": "stream",
          "text": [
            "Epsilon:  0.71\n",
            "Seed Percentage : 88 Contamination:  0.06\n",
            "original_std :  57.93248518323871\n"
          ],
          "name": "stdout"
        },
        {
          "output_type": "stream",
          "text": [
            "/usr/local/lib/python3.6/dist-packages/sklearn/neighbors/lof.py:253: UserWarning: n_neighbors (20) is greater than the total number of samples (10). n_neighbors will be set to (n_samples - 1) for estimation.\n",
            "  % (self.n_neighbors, n_samples))\n"
          ],
          "name": "stderr"
        },
        {
          "output_type": "stream",
          "text": [
            "Epsilon:  0.421\n",
            "Seed Percentage : 88 Contamination:  0.06\n",
            "original_std :  122.57491331834585\n"
          ],
          "name": "stdout"
        },
        {
          "output_type": "stream",
          "text": [
            "/usr/local/lib/python3.6/dist-packages/sklearn/neighbors/lof.py:253: UserWarning: n_neighbors (20) is greater than the total number of samples (9). n_neighbors will be set to (n_samples - 1) for estimation.\n",
            "  % (self.n_neighbors, n_samples))\n"
          ],
          "name": "stderr"
        },
        {
          "output_type": "stream",
          "text": [
            "Epsilon:  0.575\n",
            "Seed Percentage : 88 Contamination:  0.06\n",
            "original_std :  57.0087712549569\n"
          ],
          "name": "stdout"
        },
        {
          "output_type": "stream",
          "text": [
            "/usr/local/lib/python3.6/dist-packages/sklearn/neighbors/lof.py:253: UserWarning: n_neighbors (20) is greater than the total number of samples (8). n_neighbors will be set to (n_samples - 1) for estimation.\n",
            "  % (self.n_neighbors, n_samples))\n"
          ],
          "name": "stderr"
        },
        {
          "output_type": "stream",
          "text": [
            "Epsilon:  0.25\n",
            "Seed Percentage : 88 Contamination:  0.06\n",
            "original_std :  83.27054926563173\n"
          ],
          "name": "stdout"
        },
        {
          "output_type": "stream",
          "text": [
            "/usr/local/lib/python3.6/dist-packages/sklearn/neighbors/lof.py:253: UserWarning: n_neighbors (20) is greater than the total number of samples (18). n_neighbors will be set to (n_samples - 1) for estimation.\n",
            "  % (self.n_neighbors, n_samples))\n"
          ],
          "name": "stderr"
        },
        {
          "output_type": "stream",
          "text": [
            "Epsilon:  0.292\n",
            "Seed Percentage : 88 Contamination:  0.06\n",
            "original_std :  67.71855335973888\n"
          ],
          "name": "stdout"
        },
        {
          "output_type": "stream",
          "text": [
            "/usr/local/lib/python3.6/dist-packages/sklearn/neighbors/lof.py:253: UserWarning: n_neighbors (20) is greater than the total number of samples (8). n_neighbors will be set to (n_samples - 1) for estimation.\n",
            "  % (self.n_neighbors, n_samples))\n"
          ],
          "name": "stderr"
        },
        {
          "output_type": "stream",
          "text": [
            "Epsilon:  0.222\n",
            "Seed Percentage : 90 Contamination:  0.05\n",
            "original_std :  184935.98985121853\n",
            "Epsilon:  0.53\n",
            "Seed Percentage : 89 Contamination:  0.055\n",
            "original_std :  21249.044153892704\n"
          ],
          "name": "stdout"
        },
        {
          "output_type": "stream",
          "text": [
            "/usr/local/lib/python3.6/dist-packages/sklearn/neighbors/lof.py:253: UserWarning: n_neighbors (20) is greater than the total number of samples (10). n_neighbors will be set to (n_samples - 1) for estimation.\n",
            "  % (self.n_neighbors, n_samples))\n"
          ],
          "name": "stderr"
        },
        {
          "output_type": "stream",
          "text": [
            "Epsilon:  0.391\n",
            "Seed Percentage : 88 Contamination:  0.06\n",
            "original_std :  12122.314628782065\n",
            "Epsilon:  0.392\n",
            "Seed Percentage : 88 Contamination:  0.06\n",
            "original_std :  48625.94515287081\n"
          ],
          "name": "stdout"
        },
        {
          "output_type": "stream",
          "text": [
            "/usr/local/lib/python3.6/dist-packages/sklearn/neighbors/lof.py:253: UserWarning: n_neighbors (20) is greater than the total number of samples (7). n_neighbors will be set to (n_samples - 1) for estimation.\n",
            "  % (self.n_neighbors, n_samples))\n"
          ],
          "name": "stderr"
        },
        {
          "output_type": "stream",
          "text": [
            "Epsilon:  0.422\n",
            "Seed Percentage : 88 Contamination:  0.06\n",
            "original_std :  4135.6143177433705\n"
          ],
          "name": "stdout"
        },
        {
          "output_type": "stream",
          "text": [
            "/usr/local/lib/python3.6/dist-packages/sklearn/neighbors/lof.py:253: UserWarning: n_neighbors (20) is greater than the total number of samples (10). n_neighbors will be set to (n_samples - 1) for estimation.\n",
            "  % (self.n_neighbors, n_samples))\n"
          ],
          "name": "stderr"
        },
        {
          "output_type": "stream",
          "text": [
            "Epsilon:  0.655\n",
            "Seed Percentage : 90 Contamination:  0.05\n",
            "original_std :  12224.844723447277\n"
          ],
          "name": "stdout"
        },
        {
          "output_type": "stream",
          "text": [
            "/usr/local/lib/python3.6/dist-packages/sklearn/neighbors/lof.py:253: UserWarning: n_neighbors (20) is greater than the total number of samples (11). n_neighbors will be set to (n_samples - 1) for estimation.\n",
            "  % (self.n_neighbors, n_samples))\n"
          ],
          "name": "stderr"
        },
        {
          "output_type": "stream",
          "text": [
            "Epsilon:  0.531\n",
            "Seed Percentage : 88 Contamination:  0.06\n",
            "original_std :  49644.61591149638\n"
          ],
          "name": "stdout"
        },
        {
          "output_type": "stream",
          "text": [
            "/usr/local/lib/python3.6/dist-packages/sklearn/neighbors/lof.py:253: UserWarning: n_neighbors (20) is greater than the total number of samples (11). n_neighbors will be set to (n_samples - 1) for estimation.\n",
            "  % (self.n_neighbors, n_samples))\n"
          ],
          "name": "stderr"
        },
        {
          "output_type": "stream",
          "text": [
            "Epsilon:  0.477\n",
            "Seed Percentage : 87 Contamination:  0.065\n",
            "original_std :  1690.9686573085853\n"
          ],
          "name": "stdout"
        },
        {
          "output_type": "stream",
          "text": [
            "/usr/local/lib/python3.6/dist-packages/sklearn/neighbors/lof.py:253: UserWarning: n_neighbors (20) is greater than the total number of samples (10). n_neighbors will be set to (n_samples - 1) for estimation.\n",
            "  % (self.n_neighbors, n_samples))\n"
          ],
          "name": "stderr"
        },
        {
          "output_type": "stream",
          "text": [
            "Epsilon:  0.6\n",
            "Seed Percentage : 88 Contamination:  0.06\n",
            "original_std :  35459.46152438656\n"
          ],
          "name": "stdout"
        },
        {
          "output_type": "stream",
          "text": [
            "/usr/local/lib/python3.6/dist-packages/sklearn/neighbors/lof.py:253: UserWarning: n_neighbors (20) is greater than the total number of samples (8). n_neighbors will be set to (n_samples - 1) for estimation.\n",
            "  % (self.n_neighbors, n_samples))\n"
          ],
          "name": "stderr"
        },
        {
          "output_type": "stream",
          "text": [
            "Epsilon:  0.254\n",
            "Seed Percentage : 88 Contamination:  0.06\n",
            "original_std :  4595.561301241601\n",
            "Epsilon:  0.448\n",
            "Seed Percentage : 92 Contamination:  0.04\n",
            "original_std :  138008.38611941563\n"
          ],
          "name": "stdout"
        },
        {
          "output_type": "stream",
          "text": [
            "/usr/local/lib/python3.6/dist-packages/sklearn/neighbors/lof.py:253: UserWarning: n_neighbors (20) is greater than the total number of samples (7). n_neighbors will be set to (n_samples - 1) for estimation.\n",
            "  % (self.n_neighbors, n_samples))\n"
          ],
          "name": "stderr"
        },
        {
          "output_type": "stream",
          "text": [
            "Epsilon:  0.929\n",
            "Seed Percentage : 92 Contamination:  0.04\n",
            "original_std :  10801.886851919156\n"
          ],
          "name": "stdout"
        },
        {
          "output_type": "stream",
          "text": [
            "/usr/local/lib/python3.6/dist-packages/sklearn/neighbors/lof.py:253: UserWarning: n_neighbors (20) is greater than the total number of samples (14). n_neighbors will be set to (n_samples - 1) for estimation.\n",
            "  % (self.n_neighbors, n_samples))\n"
          ],
          "name": "stderr"
        },
        {
          "output_type": "stream",
          "text": [
            "Epsilon:  0.682\n",
            "Seed Percentage : 88 Contamination:  0.06\n",
            "original_std :  43522.095991647424\n"
          ],
          "name": "stdout"
        },
        {
          "output_type": "stream",
          "text": [
            "/usr/local/lib/python3.6/dist-packages/sklearn/neighbors/lof.py:253: UserWarning: n_neighbors (20) is greater than the total number of samples (13). n_neighbors will be set to (n_samples - 1) for estimation.\n",
            "  % (self.n_neighbors, n_samples))\n"
          ],
          "name": "stderr"
        },
        {
          "output_type": "stream",
          "text": [
            "Epsilon:  0.692\n",
            "Seed Percentage : 87 Contamination:  0.065\n",
            "original_std :  17308.342235393313\n"
          ],
          "name": "stdout"
        },
        {
          "output_type": "stream",
          "text": [
            "/usr/local/lib/python3.6/dist-packages/sklearn/neighbors/lof.py:253: UserWarning: n_neighbors (20) is greater than the total number of samples (9). n_neighbors will be set to (n_samples - 1) for estimation.\n",
            "  % (self.n_neighbors, n_samples))\n"
          ],
          "name": "stderr"
        },
        {
          "output_type": "stream",
          "text": [
            "Epsilon:  0.444\n",
            "Seed Percentage : 88 Contamination:  0.06\n",
            "original_std :  64890.00308213893\n"
          ],
          "name": "stdout"
        },
        {
          "output_type": "stream",
          "text": [
            "/usr/local/lib/python3.6/dist-packages/sklearn/neighbors/lof.py:253: UserWarning: n_neighbors (20) is greater than the total number of samples (16). n_neighbors will be set to (n_samples - 1) for estimation.\n",
            "  % (self.n_neighbors, n_samples))\n"
          ],
          "name": "stderr"
        },
        {
          "output_type": "stream",
          "text": [
            "Epsilon:  0.857\n",
            "Seed Percentage : 88 Contamination:  0.06\n",
            "original_std :  15263.616635574412\n"
          ],
          "name": "stdout"
        },
        {
          "output_type": "stream",
          "text": [
            "/usr/local/lib/python3.6/dist-packages/sklearn/neighbors/lof.py:253: UserWarning: n_neighbors (20) is greater than the total number of samples (6). n_neighbors will be set to (n_samples - 1) for estimation.\n",
            "  % (self.n_neighbors, n_samples))\n"
          ],
          "name": "stderr"
        },
        {
          "output_type": "stream",
          "text": [
            "Epsilon:  0.587\n",
            "Seed Percentage : 88 Contamination:  0.06\n",
            "original_std :  403085.25807045115\n"
          ],
          "name": "stdout"
        },
        {
          "output_type": "stream",
          "text": [
            "/usr/local/lib/python3.6/dist-packages/sklearn/neighbors/lof.py:253: UserWarning: n_neighbors (20) is greater than the total number of samples (19). n_neighbors will be set to (n_samples - 1) for estimation.\n",
            "  % (self.n_neighbors, n_samples))\n"
          ],
          "name": "stderr"
        },
        {
          "output_type": "stream",
          "text": [
            "Epsilon:  0.343\n",
            "Seed Percentage : 88 Contamination:  0.06\n",
            "original_std :  60381.0239690878\n"
          ],
          "name": "stdout"
        },
        {
          "output_type": "stream",
          "text": [
            "/usr/local/lib/python3.6/dist-packages/sklearn/neighbors/lof.py:253: UserWarning: n_neighbors (20) is greater than the total number of samples (12). n_neighbors will be set to (n_samples - 1) for estimation.\n",
            "  % (self.n_neighbors, n_samples))\n"
          ],
          "name": "stderr"
        },
        {
          "output_type": "stream",
          "text": [
            "Epsilon:  0.42\n",
            "Seed Percentage : 88 Contamination:  0.06\n",
            "original_std :  62815.03319319133\n"
          ],
          "name": "stdout"
        },
        {
          "output_type": "stream",
          "text": [
            "/usr/local/lib/python3.6/dist-packages/sklearn/neighbors/lof.py:253: UserWarning: n_neighbors (20) is greater than the total number of samples (6). n_neighbors will be set to (n_samples - 1) for estimation.\n",
            "  % (self.n_neighbors, n_samples))\n"
          ],
          "name": "stderr"
        },
        {
          "output_type": "stream",
          "text": [
            "Epsilon:  0.278\n",
            "Seed Percentage : 88 Contamination:  0.06\n",
            "original_std :  0.0\n"
          ],
          "name": "stdout"
        },
        {
          "output_type": "stream",
          "text": [
            "/usr/local/lib/python3.6/dist-packages/sklearn/neighbors/lof.py:253: UserWarning: n_neighbors (20) is greater than the total number of samples (9). n_neighbors will be set to (n_samples - 1) for estimation.\n",
            "  % (self.n_neighbors, n_samples))\n"
          ],
          "name": "stderr"
        },
        {
          "output_type": "stream",
          "text": [
            "Epsilon:  0.5\n",
            "Seed Percentage : 88 Contamination:  0.06\n",
            "original_std :  146469.22671674076\n"
          ],
          "name": "stdout"
        },
        {
          "output_type": "stream",
          "text": [
            "/usr/local/lib/python3.6/dist-packages/sklearn/neighbors/lof.py:253: UserWarning: n_neighbors (20) is greater than the total number of samples (7). n_neighbors will be set to (n_samples - 1) for estimation.\n",
            "  % (self.n_neighbors, n_samples))\n"
          ],
          "name": "stderr"
        },
        {
          "output_type": "stream",
          "text": [
            "Epsilon:  0.44\n",
            "Seed Percentage : 90 Contamination:  0.05\n",
            "original_std :  222940.45271464658\n"
          ],
          "name": "stdout"
        },
        {
          "output_type": "stream",
          "text": [
            "/usr/local/lib/python3.6/dist-packages/sklearn/neighbors/lof.py:253: UserWarning: n_neighbors (20) is greater than the total number of samples (8). n_neighbors will be set to (n_samples - 1) for estimation.\n",
            "  % (self.n_neighbors, n_samples))\n"
          ],
          "name": "stderr"
        },
        {
          "output_type": "stream",
          "text": [
            "Epsilon:  0.567\n",
            "Seed Percentage : 88 Contamination:  0.06\n",
            "original_std :  212150.94789172642\n"
          ],
          "name": "stdout"
        },
        {
          "output_type": "stream",
          "text": [
            "/usr/local/lib/python3.6/dist-packages/sklearn/neighbors/lof.py:253: UserWarning: n_neighbors (20) is greater than the total number of samples (11). n_neighbors will be set to (n_samples - 1) for estimation.\n",
            "  % (self.n_neighbors, n_samples))\n"
          ],
          "name": "stderr"
        },
        {
          "output_type": "stream",
          "text": [
            "Epsilon:  0.417\n",
            "Seed Percentage : 88 Contamination:  0.06\n",
            "original_std :  284936.44117628067\n"
          ],
          "name": "stdout"
        },
        {
          "output_type": "stream",
          "text": [
            "/usr/local/lib/python3.6/dist-packages/sklearn/neighbors/lof.py:253: UserWarning: n_neighbors (20) is greater than the total number of samples (9). n_neighbors will be set to (n_samples - 1) for estimation.\n",
            "  % (self.n_neighbors, n_samples))\n"
          ],
          "name": "stderr"
        },
        {
          "output_type": "stream",
          "text": [
            "Epsilon:  0.831\n",
            "Seed Percentage : 88 Contamination:  0.06\n",
            "original_std :  130397.66493464583\n"
          ],
          "name": "stdout"
        },
        {
          "output_type": "stream",
          "text": [
            "/usr/local/lib/python3.6/dist-packages/sklearn/neighbors/lof.py:253: UserWarning: n_neighbors (20) is greater than the total number of samples (7). n_neighbors will be set to (n_samples - 1) for estimation.\n",
            "  % (self.n_neighbors, n_samples))\n"
          ],
          "name": "stderr"
        },
        {
          "output_type": "stream",
          "text": [
            "Epsilon:  0.348\n",
            "Seed Percentage : 92 Contamination:  0.04\n",
            "original_std :  231108.81790681573\n"
          ],
          "name": "stdout"
        },
        {
          "output_type": "stream",
          "text": [
            "/usr/local/lib/python3.6/dist-packages/sklearn/neighbors/lof.py:253: UserWarning: n_neighbors (20) is greater than the total number of samples (7). n_neighbors will be set to (n_samples - 1) for estimation.\n",
            "  % (self.n_neighbors, n_samples))\n"
          ],
          "name": "stderr"
        },
        {
          "output_type": "stream",
          "text": [
            "Epsilon:  0.363\n",
            "Seed Percentage : 88 Contamination:  0.06\n",
            "original_std :  106565.34539664464\n"
          ],
          "name": "stdout"
        },
        {
          "output_type": "stream",
          "text": [
            "/usr/local/lib/python3.6/dist-packages/sklearn/neighbors/lof.py:253: UserWarning: n_neighbors (20) is greater than the total number of samples (14). n_neighbors will be set to (n_samples - 1) for estimation.\n",
            "  % (self.n_neighbors, n_samples))\n"
          ],
          "name": "stderr"
        },
        {
          "output_type": "stream",
          "text": [
            "Epsilon:  0.354\n",
            "Seed Percentage : 90 Contamination:  0.05\n",
            "original_std :  14.655267295553918\n"
          ],
          "name": "stdout"
        },
        {
          "output_type": "stream",
          "text": [
            "/usr/local/lib/python3.6/dist-packages/sklearn/neighbors/lof.py:253: UserWarning: n_neighbors (20) is greater than the total number of samples (9). n_neighbors will be set to (n_samples - 1) for estimation.\n",
            "  % (self.n_neighbors, n_samples))\n"
          ],
          "name": "stderr"
        },
        {
          "output_type": "stream",
          "text": [
            "Epsilon:  0.408\n",
            "Seed Percentage : 88 Contamination:  0.06\n",
            "original_std :  4.085814184592883\n"
          ],
          "name": "stdout"
        },
        {
          "output_type": "stream",
          "text": [
            "/usr/local/lib/python3.6/dist-packages/sklearn/neighbors/lof.py:253: UserWarning: n_neighbors (20) is greater than the total number of samples (11). n_neighbors will be set to (n_samples - 1) for estimation.\n",
            "  % (self.n_neighbors, n_samples))\n"
          ],
          "name": "stderr"
        },
        {
          "output_type": "stream",
          "text": [
            "Epsilon:  0.833\n",
            "Seed Percentage : 88 Contamination:  0.06\n",
            "original_std :  15.204535262939919\n"
          ],
          "name": "stdout"
        },
        {
          "output_type": "stream",
          "text": [
            "/usr/local/lib/python3.6/dist-packages/sklearn/neighbors/lof.py:253: UserWarning: n_neighbors (20) is greater than the total number of samples (7). n_neighbors will be set to (n_samples - 1) for estimation.\n",
            "  % (self.n_neighbors, n_samples))\n"
          ],
          "name": "stderr"
        },
        {
          "output_type": "stream",
          "text": [
            "Epsilon:  0.347\n",
            "Seed Percentage : 88 Contamination:  0.06\n",
            "original_std :  549.7474167490215\n"
          ],
          "name": "stdout"
        },
        {
          "output_type": "stream",
          "text": [
            "/usr/local/lib/python3.6/dist-packages/sklearn/neighbors/lof.py:253: UserWarning: n_neighbors (20) is greater than the total number of samples (11). n_neighbors will be set to (n_samples - 1) for estimation.\n",
            "  % (self.n_neighbors, n_samples))\n"
          ],
          "name": "stderr"
        },
        {
          "output_type": "stream",
          "text": [
            "Epsilon:  0.25\n",
            "Seed Percentage : 88 Contamination:  0.06\n",
            "original_std :  886.3266892066379\n"
          ],
          "name": "stdout"
        },
        {
          "output_type": "stream",
          "text": [
            "/usr/local/lib/python3.6/dist-packages/sklearn/neighbors/lof.py:253: UserWarning: n_neighbors (20) is greater than the total number of samples (6). n_neighbors will be set to (n_samples - 1) for estimation.\n",
            "  % (self.n_neighbors, n_samples))\n"
          ],
          "name": "stderr"
        },
        {
          "output_type": "stream",
          "text": [
            "Epsilon:  1.0\n",
            "Seed Percentage : 88 Contamination:  0.06\n",
            "original_std :  1251.1402336658832\n"
          ],
          "name": "stdout"
        },
        {
          "output_type": "stream",
          "text": [
            "/usr/local/lib/python3.6/dist-packages/sklearn/neighbors/lof.py:253: UserWarning: n_neighbors (20) is greater than the total number of samples (8). n_neighbors will be set to (n_samples - 1) for estimation.\n",
            "  % (self.n_neighbors, n_samples))\n"
          ],
          "name": "stderr"
        },
        {
          "output_type": "stream",
          "text": [
            "Epsilon:  0.264\n",
            "Seed Percentage : 88 Contamination:  0.06\n",
            "original_std :  0.0\n"
          ],
          "name": "stdout"
        },
        {
          "output_type": "stream",
          "text": [
            "/usr/local/lib/python3.6/dist-packages/sklearn/neighbors/lof.py:253: UserWarning: n_neighbors (20) is greater than the total number of samples (11). n_neighbors will be set to (n_samples - 1) for estimation.\n",
            "  % (self.n_neighbors, n_samples))\n"
          ],
          "name": "stderr"
        },
        {
          "output_type": "stream",
          "text": [
            "Epsilon:  0.5\n",
            "Seed Percentage : 88 Contamination:  0.06\n",
            "original_std :  1418.7751089997862\n"
          ],
          "name": "stdout"
        },
        {
          "output_type": "stream",
          "text": [
            "/usr/local/lib/python3.6/dist-packages/sklearn/neighbors/lof.py:253: UserWarning: n_neighbors (20) is greater than the total number of samples (8). n_neighbors will be set to (n_samples - 1) for estimation.\n",
            "  % (self.n_neighbors, n_samples))\n"
          ],
          "name": "stderr"
        },
        {
          "output_type": "stream",
          "text": [
            "Epsilon:  0.325\n",
            "Seed Percentage : 90 Contamination:  0.05\n",
            "original_std :  1257.6681032177128\n"
          ],
          "name": "stdout"
        },
        {
          "output_type": "stream",
          "text": [
            "/usr/local/lib/python3.6/dist-packages/sklearn/neighbors/lof.py:253: UserWarning: n_neighbors (20) is greater than the total number of samples (11). n_neighbors will be set to (n_samples - 1) for estimation.\n",
            "  % (self.n_neighbors, n_samples))\n"
          ],
          "name": "stderr"
        },
        {
          "output_type": "stream",
          "text": [
            "Epsilon:  0.46\n",
            "Seed Percentage : 88 Contamination:  0.06\n",
            "original_std :  942.5489045667604\n"
          ],
          "name": "stdout"
        },
        {
          "output_type": "stream",
          "text": [
            "/usr/local/lib/python3.6/dist-packages/sklearn/neighbors/lof.py:253: UserWarning: n_neighbors (20) is greater than the total number of samples (11). n_neighbors will be set to (n_samples - 1) for estimation.\n",
            "  % (self.n_neighbors, n_samples))\n"
          ],
          "name": "stderr"
        },
        {
          "output_type": "stream",
          "text": [
            "Epsilon:  1.0\n",
            "Seed Percentage : 88 Contamination:  0.06\n",
            "original_std :  1105.073212758121\n"
          ],
          "name": "stdout"
        },
        {
          "output_type": "stream",
          "text": [
            "/usr/local/lib/python3.6/dist-packages/sklearn/neighbors/lof.py:253: UserWarning: n_neighbors (20) is greater than the total number of samples (8). n_neighbors will be set to (n_samples - 1) for estimation.\n",
            "  % (self.n_neighbors, n_samples))\n"
          ],
          "name": "stderr"
        },
        {
          "output_type": "stream",
          "text": [
            "Epsilon:  0.784\n",
            "Seed Percentage : 88 Contamination:  0.06\n",
            "original_std :  815.3462284344131\n"
          ],
          "name": "stdout"
        },
        {
          "output_type": "stream",
          "text": [
            "/usr/local/lib/python3.6/dist-packages/sklearn/neighbors/lof.py:253: UserWarning: n_neighbors (20) is greater than the total number of samples (6). n_neighbors will be set to (n_samples - 1) for estimation.\n",
            "  % (self.n_neighbors, n_samples))\n"
          ],
          "name": "stderr"
        },
        {
          "output_type": "stream",
          "text": [
            "Epsilon:  0.418\n",
            "Seed Percentage : 88 Contamination:  0.06\n",
            "original_std :  2328.7484595282294\n"
          ],
          "name": "stdout"
        },
        {
          "output_type": "stream",
          "text": [
            "/usr/local/lib/python3.6/dist-packages/sklearn/neighbors/lof.py:253: UserWarning: n_neighbors (20) is greater than the total number of samples (6). n_neighbors will be set to (n_samples - 1) for estimation.\n",
            "  % (self.n_neighbors, n_samples))\n"
          ],
          "name": "stderr"
        },
        {
          "output_type": "stream",
          "text": [
            "Epsilon:  0.73\n",
            "Seed Percentage : 88 Contamination:  0.06\n",
            "original_std :  67.18548123582124\n"
          ],
          "name": "stdout"
        },
        {
          "output_type": "stream",
          "text": [
            "/usr/local/lib/python3.6/dist-packages/sklearn/neighbors/lof.py:253: UserWarning: n_neighbors (20) is greater than the total number of samples (7). n_neighbors will be set to (n_samples - 1) for estimation.\n",
            "  % (self.n_neighbors, n_samples))\n"
          ],
          "name": "stderr"
        },
        {
          "output_type": "stream",
          "text": [
            "Epsilon:  0.455\n",
            "Seed Percentage : 88 Contamination:  0.06\n",
            "original_std :  60.42789597731248\n"
          ],
          "name": "stdout"
        },
        {
          "output_type": "stream",
          "text": [
            "/usr/local/lib/python3.6/dist-packages/sklearn/neighbors/lof.py:253: UserWarning: n_neighbors (20) is greater than the total number of samples (6). n_neighbors will be set to (n_samples - 1) for estimation.\n",
            "  % (self.n_neighbors, n_samples))\n"
          ],
          "name": "stderr"
        },
        {
          "output_type": "stream",
          "text": [
            "Epsilon:  0.371\n",
            "Seed Percentage : 88 Contamination:  0.06\n",
            "original_std :  48.76232732338425\n"
          ],
          "name": "stdout"
        },
        {
          "output_type": "stream",
          "text": [
            "/usr/local/lib/python3.6/dist-packages/sklearn/neighbors/lof.py:253: UserWarning: n_neighbors (20) is greater than the total number of samples (14). n_neighbors will be set to (n_samples - 1) for estimation.\n",
            "  % (self.n_neighbors, n_samples))\n"
          ],
          "name": "stderr"
        },
        {
          "output_type": "stream",
          "text": [
            "Epsilon:  0.231\n",
            "Seed Percentage : 88 Contamination:  0.06\n",
            "original_std :  49.85185152621431\n",
            "Epsilon:  1.0\n",
            "Seed Percentage : 88 Contamination:  0.06\n",
            "original_std :  17.49635530559413\n"
          ],
          "name": "stdout"
        },
        {
          "output_type": "stream",
          "text": [
            "/usr/local/lib/python3.6/dist-packages/sklearn/neighbors/lof.py:253: UserWarning: n_neighbors (20) is greater than the total number of samples (13). n_neighbors will be set to (n_samples - 1) for estimation.\n",
            "  % (self.n_neighbors, n_samples))\n"
          ],
          "name": "stderr"
        },
        {
          "output_type": "stream",
          "text": [
            "Epsilon:  1.0\n",
            "Seed Percentage : 88 Contamination:  0.06\n",
            "original_std :  58.105692218095506\n"
          ],
          "name": "stdout"
        },
        {
          "output_type": "stream",
          "text": [
            "/usr/local/lib/python3.6/dist-packages/sklearn/neighbors/lof.py:253: UserWarning: n_neighbors (20) is greater than the total number of samples (7). n_neighbors will be set to (n_samples - 1) for estimation.\n",
            "  % (self.n_neighbors, n_samples))\n"
          ],
          "name": "stderr"
        },
        {
          "output_type": "stream",
          "text": [
            "Epsilon:  0.714\n",
            "Seed Percentage : 88 Contamination:  0.06\n",
            "original_std :  67.67338841819581\n"
          ],
          "name": "stdout"
        },
        {
          "output_type": "stream",
          "text": [
            "/usr/local/lib/python3.6/dist-packages/sklearn/neighbors/lof.py:253: UserWarning: n_neighbors (20) is greater than the total number of samples (19). n_neighbors will be set to (n_samples - 1) for estimation.\n",
            "  % (self.n_neighbors, n_samples))\n"
          ],
          "name": "stderr"
        },
        {
          "output_type": "stream",
          "text": [
            "Epsilon:  0.286\n",
            "Seed Percentage : 92 Contamination:  0.04\n",
            "original_std :  16.569737868106163\n",
            "Epsilon:  0.4\n",
            "Seed Percentage : 88 Contamination:  0.06\n",
            "original_std :  272.234835308701\n"
          ],
          "name": "stdout"
        },
        {
          "output_type": "stream",
          "text": [
            "/usr/local/lib/python3.6/dist-packages/sklearn/neighbors/lof.py:253: UserWarning: n_neighbors (20) is greater than the total number of samples (13). n_neighbors will be set to (n_samples - 1) for estimation.\n",
            "  % (self.n_neighbors, n_samples))\n"
          ],
          "name": "stderr"
        },
        {
          "output_type": "stream",
          "text": [
            "Epsilon:  0.647\n",
            "Seed Percentage : 88 Contamination:  0.06\n",
            "original_std :  58.24823725107175\n"
          ],
          "name": "stdout"
        },
        {
          "output_type": "stream",
          "text": [
            "/usr/local/lib/python3.6/dist-packages/sklearn/neighbors/lof.py:253: UserWarning: n_neighbors (20) is greater than the total number of samples (6). n_neighbors will be set to (n_samples - 1) for estimation.\n",
            "  % (self.n_neighbors, n_samples))\n"
          ],
          "name": "stderr"
        },
        {
          "output_type": "stream",
          "text": [
            "Epsilon:  0.8\n",
            "Seed Percentage : 88 Contamination:  0.06\n",
            "original_std :  30.13713512562611\n"
          ],
          "name": "stdout"
        },
        {
          "output_type": "stream",
          "text": [
            "/usr/local/lib/python3.6/dist-packages/sklearn/neighbors/lof.py:253: UserWarning: n_neighbors (20) is greater than the total number of samples (14). n_neighbors will be set to (n_samples - 1) for estimation.\n",
            "  % (self.n_neighbors, n_samples))\n"
          ],
          "name": "stderr"
        },
        {
          "output_type": "stream",
          "text": [
            "Epsilon:  0.384\n",
            "Seed Percentage : 88 Contamination:  0.06\n",
            "original_std :  48.0071609241788\n"
          ],
          "name": "stdout"
        },
        {
          "output_type": "stream",
          "text": [
            "/usr/local/lib/python3.6/dist-packages/sklearn/neighbors/lof.py:253: UserWarning: n_neighbors (20) is greater than the total number of samples (9). n_neighbors will be set to (n_samples - 1) for estimation.\n",
            "  % (self.n_neighbors, n_samples))\n"
          ],
          "name": "stderr"
        },
        {
          "output_type": "stream",
          "text": [
            "Epsilon:  0.8\n",
            "Seed Percentage : 88 Contamination:  0.06\n",
            "original_std :  0.0\n"
          ],
          "name": "stdout"
        },
        {
          "output_type": "stream",
          "text": [
            "/usr/local/lib/python3.6/dist-packages/sklearn/neighbors/lof.py:253: UserWarning: n_neighbors (20) is greater than the total number of samples (16). n_neighbors will be set to (n_samples - 1) for estimation.\n",
            "  % (self.n_neighbors, n_samples))\n"
          ],
          "name": "stderr"
        },
        {
          "output_type": "stream",
          "text": [
            "Epsilon:  0.5\n",
            "Seed Percentage : 88 Contamination:  0.06\n",
            "original_std :  72.58361622506328\n"
          ],
          "name": "stdout"
        },
        {
          "output_type": "stream",
          "text": [
            "/usr/local/lib/python3.6/dist-packages/sklearn/neighbors/lof.py:253: UserWarning: n_neighbors (20) is greater than the total number of samples (7). n_neighbors will be set to (n_samples - 1) for estimation.\n",
            "  % (self.n_neighbors, n_samples))\n"
          ],
          "name": "stderr"
        },
        {
          "output_type": "stream",
          "text": [
            "Epsilon:  0.222\n",
            "Seed Percentage : 88 Contamination:  0.06\n",
            "original_std :  121.783619588186\n",
            "Epsilon:  0.359\n",
            "Seed Percentage : 88 Contamination:  0.06\n",
            "original_std :  23.570226039551585\n"
          ],
          "name": "stdout"
        },
        {
          "output_type": "stream",
          "text": [
            "/usr/local/lib/python3.6/dist-packages/sklearn/neighbors/lof.py:253: UserWarning: n_neighbors (20) is greater than the total number of samples (6). n_neighbors will be set to (n_samples - 1) for estimation.\n",
            "  % (self.n_neighbors, n_samples))\n"
          ],
          "name": "stderr"
        },
        {
          "output_type": "stream",
          "text": [
            "Epsilon:  1.0\n",
            "Seed Percentage : 93 Contamination:  0.035\n",
            "original_std :  40.00239326867386\n"
          ],
          "name": "stdout"
        },
        {
          "output_type": "stream",
          "text": [
            "/usr/local/lib/python3.6/dist-packages/sklearn/neighbors/lof.py:253: UserWarning: n_neighbors (20) is greater than the total number of samples (6). n_neighbors will be set to (n_samples - 1) for estimation.\n",
            "  % (self.n_neighbors, n_samples))\n"
          ],
          "name": "stderr"
        },
        {
          "output_type": "stream",
          "text": [
            "Epsilon:  0.699\n",
            "Seed Percentage : 88 Contamination:  0.06\n",
            "original_std :  61.122088660501625\n",
            "Epsilon:  0.714\n",
            "Seed Percentage : 88 Contamination:  0.06\n",
            "original_std :  15.713484026367722\n"
          ],
          "name": "stdout"
        },
        {
          "output_type": "stream",
          "text": [
            "/usr/local/lib/python3.6/dist-packages/sklearn/neighbors/lof.py:253: UserWarning: n_neighbors (20) is greater than the total number of samples (12). n_neighbors will be set to (n_samples - 1) for estimation.\n",
            "  % (self.n_neighbors, n_samples))\n"
          ],
          "name": "stderr"
        },
        {
          "output_type": "stream",
          "text": [
            "Epsilon:  1.0\n",
            "Seed Percentage : 88 Contamination:  0.06\n",
            "original_std :  83.52512365146032\n"
          ],
          "name": "stdout"
        },
        {
          "output_type": "stream",
          "text": [
            "/usr/local/lib/python3.6/dist-packages/sklearn/neighbors/lof.py:253: UserWarning: n_neighbors (20) is greater than the total number of samples (9). n_neighbors will be set to (n_samples - 1) for estimation.\n",
            "  % (self.n_neighbors, n_samples))\n"
          ],
          "name": "stderr"
        },
        {
          "output_type": "stream",
          "text": [
            "Epsilon:  0.3\n",
            "Seed Percentage : 88 Contamination:  0.06\n",
            "original_std :  54.539740862359565\n"
          ],
          "name": "stdout"
        },
        {
          "output_type": "stream",
          "text": [
            "/usr/local/lib/python3.6/dist-packages/sklearn/neighbors/lof.py:253: UserWarning: n_neighbors (20) is greater than the total number of samples (11). n_neighbors will be set to (n_samples - 1) for estimation.\n",
            "  % (self.n_neighbors, n_samples))\n"
          ],
          "name": "stderr"
        },
        {
          "output_type": "stream",
          "text": [
            "Epsilon:  0.909\n",
            "Seed Percentage : 97 Contamination:  0.015\n",
            "original_std :  170.99987242376713\n"
          ],
          "name": "stdout"
        },
        {
          "output_type": "stream",
          "text": [
            "/usr/local/lib/python3.6/dist-packages/sklearn/neighbors/lof.py:253: UserWarning: n_neighbors (20) is greater than the total number of samples (6). n_neighbors will be set to (n_samples - 1) for estimation.\n",
            "  % (self.n_neighbors, n_samples))\n"
          ],
          "name": "stderr"
        },
        {
          "output_type": "stream",
          "text": [
            "Epsilon:  0.226\n",
            "Seed Percentage : 96 Contamination:  0.02\n",
            "original_std :  95.40814221019085\n",
            "Epsilon:  0.249\n",
            "Seed Percentage : 88 Contamination:  0.06\n",
            "original_std :  107.09522750852179\n",
            "Epsilon:  0.344\n",
            "Seed Percentage : 88 Contamination:  0.06\n",
            "original_std :  284.36263709390516\n"
          ],
          "name": "stdout"
        },
        {
          "output_type": "stream",
          "text": [
            "/usr/local/lib/python3.6/dist-packages/sklearn/neighbors/lof.py:253: UserWarning: n_neighbors (20) is greater than the total number of samples (7). n_neighbors will be set to (n_samples - 1) for estimation.\n",
            "  % (self.n_neighbors, n_samples))\n"
          ],
          "name": "stderr"
        },
        {
          "output_type": "stream",
          "text": [
            "Epsilon:  0.312\n",
            "Seed Percentage : 90 Contamination:  0.05\n",
            "original_std :  200.49810472919688\n"
          ],
          "name": "stdout"
        },
        {
          "output_type": "stream",
          "text": [
            "/usr/local/lib/python3.6/dist-packages/sklearn/neighbors/lof.py:253: UserWarning: n_neighbors (20) is greater than the total number of samples (8). n_neighbors will be set to (n_samples - 1) for estimation.\n",
            "  % (self.n_neighbors, n_samples))\n"
          ],
          "name": "stderr"
        },
        {
          "output_type": "stream",
          "text": [
            "Epsilon:  0.468\n",
            "Seed Percentage : 88 Contamination:  0.06\n",
            "original_std :  100.72680322977043\n"
          ],
          "name": "stdout"
        },
        {
          "output_type": "stream",
          "text": [
            "/usr/local/lib/python3.6/dist-packages/sklearn/neighbors/lof.py:253: UserWarning: n_neighbors (20) is greater than the total number of samples (10). n_neighbors will be set to (n_samples - 1) for estimation.\n",
            "  % (self.n_neighbors, n_samples))\n"
          ],
          "name": "stderr"
        },
        {
          "output_type": "stream",
          "text": [
            "Epsilon:  0.625\n",
            "Seed Percentage : 88 Contamination:  0.06\n",
            "original_std :  32.82607226593159\n"
          ],
          "name": "stdout"
        },
        {
          "output_type": "stream",
          "text": [
            "/usr/local/lib/python3.6/dist-packages/sklearn/neighbors/lof.py:253: UserWarning: n_neighbors (20) is greater than the total number of samples (6). n_neighbors will be set to (n_samples - 1) for estimation.\n",
            "  % (self.n_neighbors, n_samples))\n"
          ],
          "name": "stderr"
        },
        {
          "output_type": "stream",
          "text": [
            "Epsilon:  0.714\n",
            "Seed Percentage : 88 Contamination:  0.06\n",
            "original_std :  60.86386220264224\n"
          ],
          "name": "stdout"
        },
        {
          "output_type": "stream",
          "text": [
            "/usr/local/lib/python3.6/dist-packages/sklearn/neighbors/lof.py:253: UserWarning: n_neighbors (20) is greater than the total number of samples (7). n_neighbors will be set to (n_samples - 1) for estimation.\n",
            "  % (self.n_neighbors, n_samples))\n"
          ],
          "name": "stderr"
        },
        {
          "output_type": "stream",
          "text": [
            "Epsilon:  0.286\n",
            "Seed Percentage : 87 Contamination:  0.065\n",
            "original_std :  291.5237715435913\n"
          ],
          "name": "stdout"
        },
        {
          "output_type": "stream",
          "text": [
            "/usr/local/lib/python3.6/dist-packages/sklearn/neighbors/lof.py:253: UserWarning: n_neighbors (20) is greater than the total number of samples (12). n_neighbors will be set to (n_samples - 1) for estimation.\n",
            "  % (self.n_neighbors, n_samples))\n"
          ],
          "name": "stderr"
        },
        {
          "output_type": "stream",
          "text": [
            "Epsilon:  0.464\n",
            "Seed Percentage : 87 Contamination:  0.065\n",
            "original_std :  190.14590409406668\n"
          ],
          "name": "stdout"
        },
        {
          "output_type": "stream",
          "text": [
            "/usr/local/lib/python3.6/dist-packages/sklearn/neighbors/lof.py:253: UserWarning: n_neighbors (20) is greater than the total number of samples (16). n_neighbors will be set to (n_samples - 1) for estimation.\n",
            "  % (self.n_neighbors, n_samples))\n"
          ],
          "name": "stderr"
        },
        {
          "output_type": "stream",
          "text": [
            "Epsilon:  0.573\n",
            "Seed Percentage : 88 Contamination:  0.06\n",
            "original_std :  69.7502730583614\n"
          ],
          "name": "stdout"
        },
        {
          "output_type": "stream",
          "text": [
            "/usr/local/lib/python3.6/dist-packages/sklearn/neighbors/lof.py:253: UserWarning: n_neighbors (20) is greater than the total number of samples (16). n_neighbors will be set to (n_samples - 1) for estimation.\n",
            "  % (self.n_neighbors, n_samples))\n"
          ],
          "name": "stderr"
        },
        {
          "output_type": "stream",
          "text": [
            "Epsilon:  0.262\n",
            "Seed Percentage : 87 Contamination:  0.065\n",
            "original_std :  66.89730936293327\n"
          ],
          "name": "stdout"
        },
        {
          "output_type": "stream",
          "text": [
            "/usr/local/lib/python3.6/dist-packages/sklearn/neighbors/lof.py:253: UserWarning: n_neighbors (20) is greater than the total number of samples (13). n_neighbors will be set to (n_samples - 1) for estimation.\n",
            "  % (self.n_neighbors, n_samples))\n"
          ],
          "name": "stderr"
        },
        {
          "output_type": "stream",
          "text": [
            "Epsilon:  0.4\n",
            "Seed Percentage : 88 Contamination:  0.06\n",
            "original_std :  234.6916548143674\n"
          ],
          "name": "stdout"
        },
        {
          "output_type": "stream",
          "text": [
            "/usr/local/lib/python3.6/dist-packages/sklearn/neighbors/lof.py:253: UserWarning: n_neighbors (20) is greater than the total number of samples (8). n_neighbors will be set to (n_samples - 1) for estimation.\n",
            "  % (self.n_neighbors, n_samples))\n"
          ],
          "name": "stderr"
        },
        {
          "output_type": "stream",
          "text": [
            "Epsilon:  0.724\n",
            "Seed Percentage : 88 Contamination:  0.06\n",
            "original_std :  50.135618545237676\n"
          ],
          "name": "stdout"
        },
        {
          "output_type": "stream",
          "text": [
            "/usr/local/lib/python3.6/dist-packages/sklearn/neighbors/lof.py:253: UserWarning: n_neighbors (20) is greater than the total number of samples (9). n_neighbors will be set to (n_samples - 1) for estimation.\n",
            "  % (self.n_neighbors, n_samples))\n"
          ],
          "name": "stderr"
        },
        {
          "output_type": "stream",
          "text": [
            "Epsilon:  0.583\n",
            "Seed Percentage : 88 Contamination:  0.06\n",
            "original_std :  37.211475078946016\n"
          ],
          "name": "stdout"
        },
        {
          "output_type": "stream",
          "text": [
            "/usr/local/lib/python3.6/dist-packages/sklearn/neighbors/lof.py:253: UserWarning: n_neighbors (20) is greater than the total number of samples (9). n_neighbors will be set to (n_samples - 1) for estimation.\n",
            "  % (self.n_neighbors, n_samples))\n"
          ],
          "name": "stderr"
        },
        {
          "output_type": "stream",
          "text": [
            "Epsilon:  0.5\n",
            "Seed Percentage : 95 Contamination:  0.025\n",
            "original_std :  151.19225886229196\n"
          ],
          "name": "stdout"
        },
        {
          "output_type": "stream",
          "text": [
            "/usr/local/lib/python3.6/dist-packages/sklearn/neighbors/lof.py:253: UserWarning: n_neighbors (20) is greater than the total number of samples (7). n_neighbors will be set to (n_samples - 1) for estimation.\n",
            "  % (self.n_neighbors, n_samples))\n"
          ],
          "name": "stderr"
        },
        {
          "output_type": "stream",
          "text": [
            "Epsilon:  0.129\n",
            "Seed Percentage : 88 Contamination:  0.06\n",
            "original_std :  198.97187126716065\n",
            "Epsilon:  0.667\n",
            "Seed Percentage : 88 Contamination:  0.06\n",
            "original_std :  206.0541999895497\n"
          ],
          "name": "stdout"
        },
        {
          "output_type": "stream",
          "text": [
            "/usr/local/lib/python3.6/dist-packages/sklearn/neighbors/lof.py:253: UserWarning: n_neighbors (20) is greater than the total number of samples (6). n_neighbors will be set to (n_samples - 1) for estimation.\n",
            "  % (self.n_neighbors, n_samples))\n"
          ],
          "name": "stderr"
        },
        {
          "output_type": "stream",
          "text": [
            "Epsilon:  0.593\n",
            "Seed Percentage : 93 Contamination:  0.035\n",
            "original_std :  111.66159668757159\n"
          ],
          "name": "stdout"
        },
        {
          "output_type": "stream",
          "text": [
            "/usr/local/lib/python3.6/dist-packages/sklearn/neighbors/lof.py:253: UserWarning: n_neighbors (20) is greater than the total number of samples (6). n_neighbors will be set to (n_samples - 1) for estimation.\n",
            "  % (self.n_neighbors, n_samples))\n"
          ],
          "name": "stderr"
        },
        {
          "output_type": "stream",
          "text": [
            "Epsilon:  0.331\n",
            "Seed Percentage : 90 Contamination:  0.05\n",
            "original_std :  127.68711759609894\n",
            "Epsilon:  0.773\n",
            "Seed Percentage : 88 Contamination:  0.06\n",
            "original_std :  102.32784398354627\n"
          ],
          "name": "stdout"
        },
        {
          "output_type": "stream",
          "text": [
            "/usr/local/lib/python3.6/dist-packages/sklearn/neighbors/lof.py:253: UserWarning: n_neighbors (20) is greater than the total number of samples (10). n_neighbors will be set to (n_samples - 1) for estimation.\n",
            "  % (self.n_neighbors, n_samples))\n"
          ],
          "name": "stderr"
        },
        {
          "output_type": "stream",
          "text": [
            "Epsilon:  0.574\n",
            "Seed Percentage : 88 Contamination:  0.06\n",
            "original_std :  65.47756275618234\n"
          ],
          "name": "stdout"
        },
        {
          "output_type": "stream",
          "text": [
            "/usr/local/lib/python3.6/dist-packages/sklearn/neighbors/lof.py:253: UserWarning: n_neighbors (20) is greater than the total number of samples (9). n_neighbors will be set to (n_samples - 1) for estimation.\n",
            "  % (self.n_neighbors, n_samples))\n"
          ],
          "name": "stderr"
        },
        {
          "output_type": "stream",
          "text": [
            "Epsilon:  0.297\n",
            "Seed Percentage : 94 Contamination:  0.03\n",
            "original_std :  104.40140793705206\n"
          ],
          "name": "stdout"
        },
        {
          "output_type": "stream",
          "text": [
            "/usr/local/lib/python3.6/dist-packages/sklearn/neighbors/lof.py:253: UserWarning: n_neighbors (20) is greater than the total number of samples (14). n_neighbors will be set to (n_samples - 1) for estimation.\n",
            "  % (self.n_neighbors, n_samples))\n"
          ],
          "name": "stderr"
        },
        {
          "output_type": "stream",
          "text": [
            "Epsilon:  0.778\n",
            "Seed Percentage : 92 Contamination:  0.04\n",
            "original_std :  161.7405527380193\n"
          ],
          "name": "stdout"
        },
        {
          "output_type": "stream",
          "text": [
            "/usr/local/lib/python3.6/dist-packages/sklearn/neighbors/lof.py:253: UserWarning: n_neighbors (20) is greater than the total number of samples (17). n_neighbors will be set to (n_samples - 1) for estimation.\n",
            "  % (self.n_neighbors, n_samples))\n"
          ],
          "name": "stderr"
        },
        {
          "output_type": "stream",
          "text": [
            "Epsilon:  0.216\n",
            "Seed Percentage : 92 Contamination:  0.04\n",
            "original_std :  222.28545971340546\n",
            "Epsilon:  0.248\n",
            "Seed Percentage : 88 Contamination:  0.06\n",
            "original_std :  236.42977815833606\n",
            "Epsilon:  0.456\n",
            "Seed Percentage : 96 Contamination:  0.02\n",
            "original_std :  117.01716516868007\n"
          ],
          "name": "stdout"
        },
        {
          "output_type": "stream",
          "text": [
            "/usr/local/lib/python3.6/dist-packages/sklearn/neighbors/lof.py:253: UserWarning: n_neighbors (20) is greater than the total number of samples (10). n_neighbors will be set to (n_samples - 1) for estimation.\n",
            "  % (self.n_neighbors, n_samples))\n"
          ],
          "name": "stderr"
        },
        {
          "output_type": "stream",
          "text": [
            "Epsilon:  0.241\n",
            "Seed Percentage : 92 Contamination:  0.04\n",
            "original_std :  598.889422418583\n",
            "Epsilon:  0.734\n",
            "Seed Percentage : 87 Contamination:  0.065\n",
            "original_std :  38.87077951366553\n",
            "Epsilon:  0.538\n",
            "Seed Percentage : 88 Contamination:  0.06\n",
            "original_std :  34.99271061118826\n"
          ],
          "name": "stdout"
        },
        {
          "output_type": "stream",
          "text": [
            "/usr/local/lib/python3.6/dist-packages/sklearn/neighbors/lof.py:253: UserWarning: n_neighbors (20) is greater than the total number of samples (8). n_neighbors will be set to (n_samples - 1) for estimation.\n",
            "  % (self.n_neighbors, n_samples))\n"
          ],
          "name": "stderr"
        },
        {
          "output_type": "stream",
          "text": [
            "Epsilon:  1.0\n",
            "Seed Percentage : 88 Contamination:  0.06\n",
            "original_std :  76.09802291064526\n"
          ],
          "name": "stdout"
        },
        {
          "output_type": "stream",
          "text": [
            "/usr/local/lib/python3.6/dist-packages/sklearn/neighbors/lof.py:253: UserWarning: n_neighbors (20) is greater than the total number of samples (7). n_neighbors will be set to (n_samples - 1) for estimation.\n",
            "  % (self.n_neighbors, n_samples))\n"
          ],
          "name": "stderr"
        },
        {
          "output_type": "stream",
          "text": [
            "Epsilon:  0.345\n",
            "Seed Percentage : 88 Contamination:  0.06\n",
            "original_std :  40.79079416840139\n"
          ],
          "name": "stdout"
        },
        {
          "output_type": "stream",
          "text": [
            "/usr/local/lib/python3.6/dist-packages/sklearn/neighbors/lof.py:253: UserWarning: n_neighbors (20) is greater than the total number of samples (11). n_neighbors will be set to (n_samples - 1) for estimation.\n",
            "  % (self.n_neighbors, n_samples))\n"
          ],
          "name": "stderr"
        },
        {
          "output_type": "stream",
          "text": [
            "Epsilon:  0.5\n",
            "Seed Percentage : 88 Contamination:  0.06\n",
            "original_std :  26.8741924943285\n"
          ],
          "name": "stdout"
        },
        {
          "output_type": "stream",
          "text": [
            "/usr/local/lib/python3.6/dist-packages/sklearn/neighbors/lof.py:253: UserWarning: n_neighbors (20) is greater than the total number of samples (12). n_neighbors will be set to (n_samples - 1) for estimation.\n",
            "  % (self.n_neighbors, n_samples))\n"
          ],
          "name": "stderr"
        },
        {
          "output_type": "stream",
          "text": [
            "Epsilon:  0.75\n",
            "Seed Percentage : 88 Contamination:  0.06\n",
            "original_std :  288.75883824857493\n"
          ],
          "name": "stdout"
        },
        {
          "output_type": "stream",
          "text": [
            "/usr/local/lib/python3.6/dist-packages/sklearn/neighbors/lof.py:253: UserWarning: n_neighbors (20) is greater than the total number of samples (6). n_neighbors will be set to (n_samples - 1) for estimation.\n",
            "  % (self.n_neighbors, n_samples))\n"
          ],
          "name": "stderr"
        },
        {
          "output_type": "stream",
          "text": [
            "Epsilon:  0.546\n",
            "Seed Percentage : 88 Contamination:  0.06\n",
            "original_std :  62.919665427596335\n"
          ],
          "name": "stdout"
        },
        {
          "output_type": "stream",
          "text": [
            "/usr/local/lib/python3.6/dist-packages/sklearn/neighbors/lof.py:253: UserWarning: n_neighbors (20) is greater than the total number of samples (6). n_neighbors will be set to (n_samples - 1) for estimation.\n",
            "  % (self.n_neighbors, n_samples))\n"
          ],
          "name": "stderr"
        },
        {
          "output_type": "stream",
          "text": [
            "Epsilon:  0.25\n",
            "Seed Percentage : 88 Contamination:  0.06\n",
            "original_std :  105.23231442860126\n",
            "Epsilon:  0.176\n",
            "Seed Percentage : 90 Contamination:  0.05\n",
            "original_std :  77.50579823684534\n",
            "Epsilon:  0.297\n",
            "Seed Percentage : 88 Contamination:  0.06\n",
            "original_std :  83.29545805944844\n",
            "Epsilon:  0.294\n",
            "Seed Percentage : 88 Contamination:  0.06\n",
            "original_std :  48.0071609241788\n"
          ],
          "name": "stdout"
        },
        {
          "output_type": "stream",
          "text": [
            "/usr/local/lib/python3.6/dist-packages/sklearn/neighbors/lof.py:253: UserWarning: n_neighbors (20) is greater than the total number of samples (15). n_neighbors will be set to (n_samples - 1) for estimation.\n",
            "  % (self.n_neighbors, n_samples))\n"
          ],
          "name": "stderr"
        },
        {
          "output_type": "stream",
          "text": [
            "Epsilon:  0.8\n",
            "Seed Percentage : 88 Contamination:  0.06\n",
            "original_std :  57.884516789471576\n"
          ],
          "name": "stdout"
        },
        {
          "output_type": "stream",
          "text": [
            "/usr/local/lib/python3.6/dist-packages/sklearn/neighbors/lof.py:253: UserWarning: n_neighbors (20) is greater than the total number of samples (12). n_neighbors will be set to (n_samples - 1) for estimation.\n",
            "  % (self.n_neighbors, n_samples))\n"
          ],
          "name": "stderr"
        },
        {
          "output_type": "stream",
          "text": [
            "Epsilon:  0.429\n",
            "Seed Percentage : 88 Contamination:  0.06\n",
            "original_std :  0.0\n"
          ],
          "name": "stdout"
        },
        {
          "output_type": "stream",
          "text": [
            "/usr/local/lib/python3.6/dist-packages/sklearn/neighbors/lof.py:253: UserWarning: n_neighbors (20) is greater than the total number of samples (9). n_neighbors will be set to (n_samples - 1) for estimation.\n",
            "  % (self.n_neighbors, n_samples))\n"
          ],
          "name": "stderr"
        },
        {
          "output_type": "stream",
          "text": [
            "Epsilon:  0.5\n",
            "Seed Percentage : 88 Contamination:  0.06\n",
            "original_std :  59.94789404140899\n"
          ],
          "name": "stdout"
        },
        {
          "output_type": "stream",
          "text": [
            "/usr/local/lib/python3.6/dist-packages/sklearn/neighbors/lof.py:253: UserWarning: n_neighbors (20) is greater than the total number of samples (6). n_neighbors will be set to (n_samples - 1) for estimation.\n",
            "  % (self.n_neighbors, n_samples))\n"
          ],
          "name": "stderr"
        },
        {
          "output_type": "stream",
          "text": [
            "Epsilon:  0.447\n",
            "Seed Percentage : 88 Contamination:  0.06\n",
            "original_std :  20.086617988656585\n"
          ],
          "name": "stdout"
        },
        {
          "output_type": "stream",
          "text": [
            "/usr/local/lib/python3.6/dist-packages/sklearn/neighbors/lof.py:253: UserWarning: n_neighbors (20) is greater than the total number of samples (8). n_neighbors will be set to (n_samples - 1) for estimation.\n",
            "  % (self.n_neighbors, n_samples))\n"
          ],
          "name": "stderr"
        },
        {
          "output_type": "stream",
          "text": [
            "Epsilon:  0.545\n",
            "Seed Percentage : 88 Contamination:  0.06\n",
            "original_std :  233.53504508735006\n"
          ],
          "name": "stdout"
        },
        {
          "output_type": "stream",
          "text": [
            "/usr/local/lib/python3.6/dist-packages/sklearn/neighbors/lof.py:253: UserWarning: n_neighbors (20) is greater than the total number of samples (6). n_neighbors will be set to (n_samples - 1) for estimation.\n",
            "  % (self.n_neighbors, n_samples))\n"
          ],
          "name": "stderr"
        },
        {
          "output_type": "stream",
          "text": [
            "Epsilon:  0.604\n",
            "Seed Percentage : 88 Contamination:  0.06\n",
            "original_std :  48.555523773190714\n"
          ],
          "name": "stdout"
        },
        {
          "output_type": "stream",
          "text": [
            "/usr/local/lib/python3.6/dist-packages/sklearn/neighbors/lof.py:253: UserWarning: n_neighbors (20) is greater than the total number of samples (9). n_neighbors will be set to (n_samples - 1) for estimation.\n",
            "  % (self.n_neighbors, n_samples))\n"
          ],
          "name": "stderr"
        },
        {
          "output_type": "stream",
          "text": [
            "Epsilon:  0.385\n",
            "Seed Percentage : 88 Contamination:  0.06\n",
            "original_std :  407.68070294723975\n"
          ],
          "name": "stdout"
        },
        {
          "output_type": "stream",
          "text": [
            "/usr/local/lib/python3.6/dist-packages/sklearn/neighbors/lof.py:253: UserWarning: n_neighbors (20) is greater than the total number of samples (12). n_neighbors will be set to (n_samples - 1) for estimation.\n",
            "  % (self.n_neighbors, n_samples))\n"
          ],
          "name": "stderr"
        },
        {
          "output_type": "stream",
          "text": [
            "Epsilon:  0.803\n",
            "Seed Percentage : 88 Contamination:  0.06\n",
            "original_std :  293.5261280260341\n"
          ],
          "name": "stdout"
        },
        {
          "output_type": "stream",
          "text": [
            "/usr/local/lib/python3.6/dist-packages/sklearn/neighbors/lof.py:253: UserWarning: n_neighbors (20) is greater than the total number of samples (9). n_neighbors will be set to (n_samples - 1) for estimation.\n",
            "  % (self.n_neighbors, n_samples))\n"
          ],
          "name": "stderr"
        },
        {
          "output_type": "stream",
          "text": [
            "Epsilon:  0.318\n",
            "Seed Percentage : 93 Contamination:  0.035\n",
            "original_std :  35.508801725769345\n",
            "Epsilon:  0.645\n",
            "Seed Percentage : 88 Contamination:  0.06\n",
            "original_std :  325.1078880754647\n"
          ],
          "name": "stdout"
        },
        {
          "output_type": "stream",
          "text": [
            "/usr/local/lib/python3.6/dist-packages/sklearn/neighbors/lof.py:253: UserWarning: n_neighbors (20) is greater than the total number of samples (16). n_neighbors will be set to (n_samples - 1) for estimation.\n",
            "  % (self.n_neighbors, n_samples))\n"
          ],
          "name": "stderr"
        },
        {
          "output_type": "stream",
          "text": [
            "Epsilon:  0.394\n",
            "Seed Percentage : 88 Contamination:  0.06\n",
            "original_std :  79.33981065994269\n"
          ],
          "name": "stdout"
        },
        {
          "output_type": "stream",
          "text": [
            "/usr/local/lib/python3.6/dist-packages/sklearn/neighbors/lof.py:253: UserWarning: n_neighbors (20) is greater than the total number of samples (6). n_neighbors will be set to (n_samples - 1) for estimation.\n",
            "  % (self.n_neighbors, n_samples))\n"
          ],
          "name": "stderr"
        },
        {
          "output_type": "stream",
          "text": [
            "Epsilon:  0.37\n",
            "Seed Percentage : 88 Contamination:  0.06\n",
            "original_std :  57.26651798068966\n"
          ],
          "name": "stdout"
        },
        {
          "output_type": "stream",
          "text": [
            "/usr/local/lib/python3.6/dist-packages/sklearn/neighbors/lof.py:253: UserWarning: n_neighbors (20) is greater than the total number of samples (6). n_neighbors will be set to (n_samples - 1) for estimation.\n",
            "  % (self.n_neighbors, n_samples))\n"
          ],
          "name": "stderr"
        },
        {
          "output_type": "stream",
          "text": [
            "Epsilon:  0.714\n",
            "Seed Percentage : 88 Contamination:  0.06\n",
            "original_std :  161.66356513056107\n"
          ],
          "name": "stdout"
        },
        {
          "output_type": "stream",
          "text": [
            "/usr/local/lib/python3.6/dist-packages/sklearn/neighbors/lof.py:253: UserWarning: n_neighbors (20) is greater than the total number of samples (14). n_neighbors will be set to (n_samples - 1) for estimation.\n",
            "  % (self.n_neighbors, n_samples))\n"
          ],
          "name": "stderr"
        },
        {
          "output_type": "stream",
          "text": [
            "Epsilon:  0.222\n",
            "Seed Percentage : 88 Contamination:  0.06\n",
            "original_std :  132.76048711410903\n",
            "Epsilon:  0.574\n",
            "Seed Percentage : 88 Contamination:  0.06\n",
            "original_std :  173.7684442648383\n"
          ],
          "name": "stdout"
        },
        {
          "output_type": "stream",
          "text": [
            "/usr/local/lib/python3.6/dist-packages/sklearn/neighbors/lof.py:253: UserWarning: n_neighbors (20) is greater than the total number of samples (7). n_neighbors will be set to (n_samples - 1) for estimation.\n",
            "  % (self.n_neighbors, n_samples))\n"
          ],
          "name": "stderr"
        },
        {
          "output_type": "stream",
          "text": [
            "Epsilon:  0.515\n",
            "Seed Percentage : 86 Contamination:  0.07\n",
            "original_std :  103.72145390419476\n"
          ],
          "name": "stdout"
        },
        {
          "output_type": "stream",
          "text": [
            "/usr/local/lib/python3.6/dist-packages/sklearn/neighbors/lof.py:253: UserWarning: n_neighbors (20) is greater than the total number of samples (6). n_neighbors will be set to (n_samples - 1) for estimation.\n",
            "  % (self.n_neighbors, n_samples))\n"
          ],
          "name": "stderr"
        },
        {
          "output_type": "stream",
          "text": [
            "Epsilon:  0.788\n",
            "Seed Percentage : 88 Contamination:  0.06\n",
            "original_std :  43.573771396552395\n"
          ],
          "name": "stdout"
        },
        {
          "output_type": "stream",
          "text": [
            "/usr/local/lib/python3.6/dist-packages/sklearn/neighbors/lof.py:253: UserWarning: n_neighbors (20) is greater than the total number of samples (15). n_neighbors will be set to (n_samples - 1) for estimation.\n",
            "  % (self.n_neighbors, n_samples))\n"
          ],
          "name": "stderr"
        },
        {
          "output_type": "stream",
          "text": [
            "Epsilon:  0.865\n",
            "Seed Percentage : 88 Contamination:  0.06\n",
            "original_std :  644914.2708638791\n"
          ],
          "name": "stdout"
        },
        {
          "output_type": "stream",
          "text": [
            "/usr/local/lib/python3.6/dist-packages/sklearn/neighbors/lof.py:253: UserWarning: n_neighbors (20) is greater than the total number of samples (11). n_neighbors will be set to (n_samples - 1) for estimation.\n",
            "  % (self.n_neighbors, n_samples))\n"
          ],
          "name": "stderr"
        },
        {
          "output_type": "stream",
          "text": [
            "Epsilon:  0.851\n",
            "Seed Percentage : 88 Contamination:  0.06\n",
            "original_std :  261560.62238737976\n"
          ],
          "name": "stdout"
        },
        {
          "output_type": "stream",
          "text": [
            "/usr/local/lib/python3.6/dist-packages/sklearn/neighbors/lof.py:253: UserWarning: n_neighbors (20) is greater than the total number of samples (6). n_neighbors will be set to (n_samples - 1) for estimation.\n",
            "  % (self.n_neighbors, n_samples))\n"
          ],
          "name": "stderr"
        },
        {
          "output_type": "stream",
          "text": [
            "Epsilon:  0.849\n",
            "Seed Percentage : 87 Contamination:  0.065\n",
            "original_std :  464421.39741295297\n"
          ],
          "name": "stdout"
        },
        {
          "output_type": "stream",
          "text": [
            "/usr/local/lib/python3.6/dist-packages/sklearn/neighbors/lof.py:253: UserWarning: n_neighbors (20) is greater than the total number of samples (7). n_neighbors will be set to (n_samples - 1) for estimation.\n",
            "  % (self.n_neighbors, n_samples))\n"
          ],
          "name": "stderr"
        },
        {
          "output_type": "stream",
          "text": [
            "Epsilon:  0.463\n",
            "Seed Percentage : 88 Contamination:  0.06\n",
            "original_std :  45901.84736845277\n"
          ],
          "name": "stdout"
        },
        {
          "output_type": "stream",
          "text": [
            "/usr/local/lib/python3.6/dist-packages/sklearn/neighbors/lof.py:253: UserWarning: n_neighbors (20) is greater than the total number of samples (8). n_neighbors will be set to (n_samples - 1) for estimation.\n",
            "  % (self.n_neighbors, n_samples))\n"
          ],
          "name": "stderr"
        },
        {
          "output_type": "stream",
          "text": [
            "Epsilon:  0.338\n",
            "Seed Percentage : 88 Contamination:  0.06\n",
            "original_std :  221628.94160082532\n"
          ],
          "name": "stdout"
        },
        {
          "output_type": "stream",
          "text": [
            "/usr/local/lib/python3.6/dist-packages/sklearn/neighbors/lof.py:253: UserWarning: n_neighbors (20) is greater than the total number of samples (7). n_neighbors will be set to (n_samples - 1) for estimation.\n",
            "  % (self.n_neighbors, n_samples))\n"
          ],
          "name": "stderr"
        },
        {
          "output_type": "stream",
          "text": [
            "Epsilon:  0.515\n",
            "Seed Percentage : 89 Contamination:  0.055\n",
            "original_std :  429314.66491130745\n"
          ],
          "name": "stdout"
        },
        {
          "output_type": "stream",
          "text": [
            "/usr/local/lib/python3.6/dist-packages/sklearn/neighbors/lof.py:253: UserWarning: n_neighbors (20) is greater than the total number of samples (7). n_neighbors will be set to (n_samples - 1) for estimation.\n",
            "  % (self.n_neighbors, n_samples))\n"
          ],
          "name": "stderr"
        },
        {
          "output_type": "stream",
          "text": [
            "Epsilon:  0.351\n",
            "Seed Percentage : 88 Contamination:  0.06\n",
            "original_std :  122147.55294871045\n",
            "Epsilon:  0.683\n",
            "Seed Percentage : 88 Contamination:  0.06\n",
            "original_std :  131412.92944262127\n"
          ],
          "name": "stdout"
        },
        {
          "output_type": "stream",
          "text": [
            "/usr/local/lib/python3.6/dist-packages/sklearn/neighbors/lof.py:253: UserWarning: n_neighbors (20) is greater than the total number of samples (9). n_neighbors will be set to (n_samples - 1) for estimation.\n",
            "  % (self.n_neighbors, n_samples))\n"
          ],
          "name": "stderr"
        },
        {
          "output_type": "stream",
          "text": [
            "Epsilon:  0.267\n",
            "Seed Percentage : 88 Contamination:  0.06\n",
            "original_std :  42439.826683068444\n"
          ],
          "name": "stdout"
        },
        {
          "output_type": "stream",
          "text": [
            "/usr/local/lib/python3.6/dist-packages/sklearn/neighbors/lof.py:253: UserWarning: n_neighbors (20) is greater than the total number of samples (9). n_neighbors will be set to (n_samples - 1) for estimation.\n",
            "  % (self.n_neighbors, n_samples))\n"
          ],
          "name": "stderr"
        },
        {
          "output_type": "stream",
          "text": [
            "Epsilon:  0.538\n",
            "Seed Percentage : 86 Contamination:  0.07\n",
            "original_std :  294637.0573358952\n"
          ],
          "name": "stdout"
        },
        {
          "output_type": "stream",
          "text": [
            "/usr/local/lib/python3.6/dist-packages/sklearn/neighbors/lof.py:253: UserWarning: n_neighbors (20) is greater than the total number of samples (6). n_neighbors will be set to (n_samples - 1) for estimation.\n",
            "  % (self.n_neighbors, n_samples))\n"
          ],
          "name": "stderr"
        },
        {
          "output_type": "stream",
          "text": [
            "Epsilon:  0.208\n",
            "Seed Percentage : 88 Contamination:  0.06\n",
            "original_std :  2516.6114784235833\n",
            "Epsilon:  0.571\n",
            "Seed Percentage : 88 Contamination:  0.06\n",
            "original_std :  3055.0504633038936\n"
          ],
          "name": "stdout"
        },
        {
          "output_type": "stream",
          "text": [
            "/usr/local/lib/python3.6/dist-packages/sklearn/neighbors/lof.py:253: UserWarning: n_neighbors (20) is greater than the total number of samples (6). n_neighbors will be set to (n_samples - 1) for estimation.\n",
            "  % (self.n_neighbors, n_samples))\n"
          ],
          "name": "stderr"
        },
        {
          "output_type": "stream",
          "text": [
            "Epsilon:  0.4\n",
            "Seed Percentage : 88 Contamination:  0.06\n",
            "original_std :  2163.66366222047\n"
          ],
          "name": "stdout"
        },
        {
          "output_type": "stream",
          "text": [
            "/usr/local/lib/python3.6/dist-packages/sklearn/neighbors/lof.py:253: UserWarning: n_neighbors (20) is greater than the total number of samples (6). n_neighbors will be set to (n_samples - 1) for estimation.\n",
            "  % (self.n_neighbors, n_samples))\n"
          ],
          "name": "stderr"
        },
        {
          "output_type": "stream",
          "text": [
            "Epsilon:  0.714\n",
            "Seed Percentage : 88 Contamination:  0.06\n",
            "original_std :  2516.6114784235833\n"
          ],
          "name": "stdout"
        },
        {
          "output_type": "stream",
          "text": [
            "/usr/local/lib/python3.6/dist-packages/sklearn/neighbors/lof.py:253: UserWarning: n_neighbors (20) is greater than the total number of samples (19). n_neighbors will be set to (n_samples - 1) for estimation.\n",
            "  % (self.n_neighbors, n_samples))\n"
          ],
          "name": "stderr"
        },
        {
          "output_type": "stream",
          "text": [
            "Epsilon:  0.571\n",
            "Seed Percentage : 88 Contamination:  0.06\n",
            "original_std :  2163.66366222047\n"
          ],
          "name": "stdout"
        },
        {
          "output_type": "stream",
          "text": [
            "/usr/local/lib/python3.6/dist-packages/sklearn/neighbors/lof.py:253: UserWarning: n_neighbors (20) is greater than the total number of samples (6). n_neighbors will be set to (n_samples - 1) for estimation.\n",
            "  % (self.n_neighbors, n_samples))\n"
          ],
          "name": "stderr"
        },
        {
          "output_type": "stream",
          "text": [
            "Epsilon:  0.714\n",
            "Seed Percentage : 88 Contamination:  0.06\n",
            "original_std :  2163.66366222047\n"
          ],
          "name": "stdout"
        },
        {
          "output_type": "stream",
          "text": [
            "/usr/local/lib/python3.6/dist-packages/sklearn/neighbors/lof.py:253: UserWarning: n_neighbors (20) is greater than the total number of samples (19). n_neighbors will be set to (n_samples - 1) for estimation.\n",
            "  % (self.n_neighbors, n_samples))\n"
          ],
          "name": "stderr"
        },
        {
          "output_type": "stream",
          "text": [
            "Epsilon:  0.714\n",
            "Seed Percentage : 88 Contamination:  0.06\n",
            "original_std :  953.7935951882996\n"
          ],
          "name": "stdout"
        },
        {
          "output_type": "stream",
          "text": [
            "/usr/local/lib/python3.6/dist-packages/sklearn/neighbors/lof.py:253: UserWarning: n_neighbors (20) is greater than the total number of samples (19). n_neighbors will be set to (n_samples - 1) for estimation.\n",
            "  % (self.n_neighbors, n_samples))\n"
          ],
          "name": "stderr"
        },
        {
          "output_type": "stream",
          "text": [
            "Epsilon:  0.667\n",
            "Seed Percentage : 88 Contamination:  0.06\n",
            "original_std :  2608.7459737497543\n"
          ],
          "name": "stdout"
        },
        {
          "output_type": "stream",
          "text": [
            "/usr/local/lib/python3.6/dist-packages/sklearn/neighbors/lof.py:253: UserWarning: n_neighbors (20) is greater than the total number of samples (12). n_neighbors will be set to (n_samples - 1) for estimation.\n",
            "  % (self.n_neighbors, n_samples))\n"
          ],
          "name": "stderr"
        },
        {
          "output_type": "stream",
          "text": [
            "Epsilon:  1.0\n",
            "Seed Percentage : 88 Contamination:  0.06\n",
            "original_std :  1858.5159758939553\n"
          ],
          "name": "stdout"
        },
        {
          "output_type": "stream",
          "text": [
            "/usr/local/lib/python3.6/dist-packages/sklearn/neighbors/lof.py:253: UserWarning: n_neighbors (20) is greater than the total number of samples (6). n_neighbors will be set to (n_samples - 1) for estimation.\n",
            "  % (self.n_neighbors, n_samples))\n"
          ],
          "name": "stderr"
        },
        {
          "output_type": "stream",
          "text": [
            "Epsilon:  0.714\n",
            "Seed Percentage : 88 Contamination:  0.06\n",
            "original_std :  5256.440362950597\n"
          ],
          "name": "stdout"
        },
        {
          "output_type": "stream",
          "text": [
            "/usr/local/lib/python3.6/dist-packages/sklearn/neighbors/lof.py:253: UserWarning: n_neighbors (20) is greater than the total number of samples (14). n_neighbors will be set to (n_samples - 1) for estimation.\n",
            "  % (self.n_neighbors, n_samples))\n"
          ],
          "name": "stderr"
        },
        {
          "output_type": "stream",
          "text": [
            "Epsilon:  0.389\n",
            "Seed Percentage : 88 Contamination:  0.06\n",
            "original_std :  0.0\n",
            "Epsilon:  0.5\n",
            "Seed Percentage : 88 Contamination:  0.06\n",
            "original_std :  0.0\n"
          ],
          "name": "stdout"
        },
        {
          "output_type": "stream",
          "text": [
            "/usr/local/lib/python3.6/dist-packages/sklearn/neighbors/lof.py:253: UserWarning: n_neighbors (20) is greater than the total number of samples (12). n_neighbors will be set to (n_samples - 1) for estimation.\n",
            "  % (self.n_neighbors, n_samples))\n"
          ],
          "name": "stderr"
        },
        {
          "output_type": "stream",
          "text": [
            "Epsilon:  0.5\n",
            "Seed Percentage : 88 Contamination:  0.06\n",
            "original_std :  3562.6265159721265\n"
          ],
          "name": "stdout"
        },
        {
          "output_type": "stream",
          "text": [
            "/usr/local/lib/python3.6/dist-packages/sklearn/neighbors/lof.py:253: UserWarning: n_neighbors (20) is greater than the total number of samples (7). n_neighbors will be set to (n_samples - 1) for estimation.\n",
            "  % (self.n_neighbors, n_samples))\n"
          ],
          "name": "stderr"
        },
        {
          "output_type": "stream",
          "text": [
            "Epsilon:  0.364\n",
            "Seed Percentage : 96 Contamination:  0.02\n",
            "original_std :  8614.492890047295\n",
            "Epsilon:  0.252\n",
            "Seed Percentage : 88 Contamination:  0.06\n",
            "original_std :  3478.327964999673\n",
            "Epsilon:  1.0\n",
            "Seed Percentage : 89 Contamination:  0.055\n",
            "original_std :  59235.78354579119\n"
          ],
          "name": "stdout"
        },
        {
          "output_type": "stream",
          "text": [
            "/usr/local/lib/python3.6/dist-packages/sklearn/neighbors/lof.py:253: UserWarning: n_neighbors (20) is greater than the total number of samples (9). n_neighbors will be set to (n_samples - 1) for estimation.\n",
            "  % (self.n_neighbors, n_samples))\n"
          ],
          "name": "stderr"
        },
        {
          "output_type": "stream",
          "text": [
            "Epsilon:  0.791\n",
            "Seed Percentage : 90 Contamination:  0.05\n",
            "original_std :  100631.7917740028\n",
            "Epsilon:  0.337\n",
            "Seed Percentage : 91 Contamination:  0.045\n",
            "original_std :  4166.660365464674\n",
            "Epsilon:  0.222\n",
            "Seed Percentage : 88 Contamination:  0.06\n",
            "original_std :  4730.63303257491\n",
            "Epsilon:  0.278\n",
            "Seed Percentage : 88 Contamination:  0.06\n",
            "original_std :  8912.431125760724\n",
            "Epsilon:  0.526\n",
            "Seed Percentage : 88 Contamination:  0.06\n",
            "original_std :  5997.24454635296\n"
          ],
          "name": "stdout"
        },
        {
          "output_type": "stream",
          "text": [
            "/usr/local/lib/python3.6/dist-packages/sklearn/neighbors/lof.py:253: UserWarning: n_neighbors (20) is greater than the total number of samples (7). n_neighbors will be set to (n_samples - 1) for estimation.\n",
            "  % (self.n_neighbors, n_samples))\n"
          ],
          "name": "stderr"
        },
        {
          "output_type": "stream",
          "text": [
            "Epsilon:  0.5\n",
            "Seed Percentage : 88 Contamination:  0.06\n",
            "original_std :  5787.477685415613\n"
          ],
          "name": "stdout"
        },
        {
          "output_type": "stream",
          "text": [
            "/usr/local/lib/python3.6/dist-packages/sklearn/neighbors/lof.py:253: UserWarning: n_neighbors (20) is greater than the total number of samples (11). n_neighbors will be set to (n_samples - 1) for estimation.\n",
            "  % (self.n_neighbors, n_samples))\n"
          ],
          "name": "stderr"
        },
        {
          "output_type": "stream",
          "text": [
            "Epsilon:  0.438\n",
            "Seed Percentage : 88 Contamination:  0.06\n",
            "original_std :  3596.913324939597\n"
          ],
          "name": "stdout"
        },
        {
          "output_type": "stream",
          "text": [
            "/usr/local/lib/python3.6/dist-packages/sklearn/neighbors/lof.py:253: UserWarning: n_neighbors (20) is greater than the total number of samples (14). n_neighbors will be set to (n_samples - 1) for estimation.\n",
            "  % (self.n_neighbors, n_samples))\n"
          ],
          "name": "stderr"
        },
        {
          "output_type": "stream",
          "text": [
            "Epsilon:  0.51\n",
            "Seed Percentage : 88 Contamination:  0.06\n",
            "original_std :  6118.17773241609\n"
          ],
          "name": "stdout"
        },
        {
          "output_type": "stream",
          "text": [
            "/usr/local/lib/python3.6/dist-packages/sklearn/neighbors/lof.py:253: UserWarning: n_neighbors (20) is greater than the total number of samples (17). n_neighbors will be set to (n_samples - 1) for estimation.\n",
            "  % (self.n_neighbors, n_samples))\n"
          ],
          "name": "stderr"
        },
        {
          "output_type": "stream",
          "text": [
            "Epsilon:  0.438\n",
            "Seed Percentage : 95 Contamination:  0.025\n",
            "original_std :  9819.97037581164\n"
          ],
          "name": "stdout"
        },
        {
          "output_type": "stream",
          "text": [
            "/usr/local/lib/python3.6/dist-packages/sklearn/neighbors/lof.py:253: UserWarning: n_neighbors (20) is greater than the total number of samples (9). n_neighbors will be set to (n_samples - 1) for estimation.\n",
            "  % (self.n_neighbors, n_samples))\n"
          ],
          "name": "stderr"
        },
        {
          "output_type": "stream",
          "text": [
            "Epsilon:  0.625\n",
            "Seed Percentage : 88 Contamination:  0.06\n",
            "original_std :  68828.262442723\n",
            "Epsilon:  0.789\n",
            "Seed Percentage : 88 Contamination:  0.06\n",
            "original_std :  0.0\n",
            "Epsilon:  0.5\n",
            "Seed Percentage : 92 Contamination:  0.04\n",
            "original_std :  6868.5028471237265\n"
          ],
          "name": "stdout"
        },
        {
          "output_type": "stream",
          "text": [
            "/usr/local/lib/python3.6/dist-packages/sklearn/neighbors/lof.py:253: UserWarning: n_neighbors (20) is greater than the total number of samples (7). n_neighbors will be set to (n_samples - 1) for estimation.\n",
            "  % (self.n_neighbors, n_samples))\n"
          ],
          "name": "stderr"
        },
        {
          "output_type": "stream",
          "text": [
            "Epsilon:  0.259\n",
            "Seed Percentage : 88 Contamination:  0.06\n",
            "original_std :  3800.58475033046\n",
            "Epsilon:  0.364\n",
            "Seed Percentage : 88 Contamination:  0.06\n",
            "original_std :  3523.908639389709\n"
          ],
          "name": "stdout"
        },
        {
          "output_type": "stream",
          "text": [
            "/usr/local/lib/python3.6/dist-packages/sklearn/neighbors/lof.py:253: UserWarning: n_neighbors (20) is greater than the total number of samples (18). n_neighbors will be set to (n_samples - 1) for estimation.\n",
            "  % (self.n_neighbors, n_samples))\n"
          ],
          "name": "stderr"
        },
        {
          "output_type": "stream",
          "text": [
            "Epsilon:  0.51\n",
            "Seed Percentage : 88 Contamination:  0.06\n",
            "original_std :  18821.39468687652\n"
          ],
          "name": "stdout"
        },
        {
          "output_type": "stream",
          "text": [
            "/usr/local/lib/python3.6/dist-packages/sklearn/neighbors/lof.py:253: UserWarning: n_neighbors (20) is greater than the total number of samples (18). n_neighbors will be set to (n_samples - 1) for estimation.\n",
            "  % (self.n_neighbors, n_samples))\n"
          ],
          "name": "stderr"
        },
        {
          "output_type": "stream",
          "text": [
            "Epsilon:  0.549\n",
            "Seed Percentage : 88 Contamination:  0.06\n",
            "original_std :  5162.246500055537\n"
          ],
          "name": "stdout"
        },
        {
          "output_type": "stream",
          "text": [
            "/usr/local/lib/python3.6/dist-packages/sklearn/neighbors/lof.py:253: UserWarning: n_neighbors (20) is greater than the total number of samples (7). n_neighbors will be set to (n_samples - 1) for estimation.\n",
            "  % (self.n_neighbors, n_samples))\n"
          ],
          "name": "stderr"
        },
        {
          "output_type": "stream",
          "text": [
            "Epsilon:  0.2\n",
            "Seed Percentage : 93 Contamination:  0.035\n",
            "original_std :  1746.0304184699137\n",
            "Epsilon:  0.694\n",
            "Seed Percentage : 88 Contamination:  0.06\n",
            "original_std :  5967.359131140005\n"
          ],
          "name": "stdout"
        },
        {
          "output_type": "stream",
          "text": [
            "/usr/local/lib/python3.6/dist-packages/sklearn/neighbors/lof.py:253: UserWarning: n_neighbors (20) is greater than the total number of samples (15). n_neighbors will be set to (n_samples - 1) for estimation.\n",
            "  % (self.n_neighbors, n_samples))\n"
          ],
          "name": "stderr"
        },
        {
          "output_type": "stream",
          "text": [
            "Epsilon:  0.25\n",
            "Seed Percentage : 88 Contamination:  0.06\n",
            "original_std :  4327.688631231328\n"
          ],
          "name": "stdout"
        },
        {
          "output_type": "stream",
          "text": [
            "/usr/local/lib/python3.6/dist-packages/sklearn/neighbors/lof.py:253: UserWarning: n_neighbors (20) is greater than the total number of samples (8). n_neighbors will be set to (n_samples - 1) for estimation.\n",
            "  % (self.n_neighbors, n_samples))\n"
          ],
          "name": "stderr"
        },
        {
          "output_type": "stream",
          "text": [
            "Epsilon:  0.364\n",
            "Seed Percentage : 97 Contamination:  0.015\n",
            "original_std :  46786.83863968791\n"
          ],
          "name": "stdout"
        },
        {
          "output_type": "stream",
          "text": [
            "/usr/local/lib/python3.6/dist-packages/sklearn/neighbors/lof.py:253: UserWarning: n_neighbors (20) is greater than the total number of samples (15). n_neighbors will be set to (n_samples - 1) for estimation.\n",
            "  % (self.n_neighbors, n_samples))\n"
          ],
          "name": "stderr"
        },
        {
          "output_type": "stream",
          "text": [
            "Epsilon:  0.603\n",
            "Seed Percentage : 88 Contamination:  0.06\n",
            "original_std :  3596.913324939597\n",
            "Epsilon:  0.51\n",
            "Seed Percentage : 95 Contamination:  0.025\n",
            "original_std :  21498.287577153675\n"
          ],
          "name": "stdout"
        },
        {
          "output_type": "stream",
          "text": [
            "/usr/local/lib/python3.6/dist-packages/sklearn/neighbors/lof.py:253: UserWarning: n_neighbors (20) is greater than the total number of samples (17). n_neighbors will be set to (n_samples - 1) for estimation.\n",
            "  % (self.n_neighbors, n_samples))\n"
          ],
          "name": "stderr"
        },
        {
          "output_type": "stream",
          "text": [
            "Epsilon:  0.528\n",
            "Seed Percentage : 88 Contamination:  0.06\n",
            "original_std :  5070.531819445326\n",
            "Epsilon:  0.2\n",
            "Seed Percentage : 88 Contamination:  0.06\n",
            "original_std :  4550.830602384321\n",
            "Epsilon:  0.389\n",
            "Seed Percentage : 88 Contamination:  0.06\n",
            "original_std :  4049.6210195866956\n"
          ],
          "name": "stdout"
        },
        {
          "output_type": "stream",
          "text": [
            "/usr/local/lib/python3.6/dist-packages/sklearn/neighbors/lof.py:253: UserWarning: n_neighbors (20) is greater than the total number of samples (13). n_neighbors will be set to (n_samples - 1) for estimation.\n",
            "  % (self.n_neighbors, n_samples))\n"
          ],
          "name": "stderr"
        },
        {
          "output_type": "stream",
          "text": [
            "Epsilon:  0.278\n",
            "Seed Percentage : 88 Contamination:  0.06\n",
            "original_std :  4955.928216771901\n",
            "Epsilon:  0.613\n",
            "Seed Percentage : 88 Contamination:  0.06\n",
            "original_std :  5956.8762787219275\n"
          ],
          "name": "stdout"
        },
        {
          "output_type": "stream",
          "text": [
            "/usr/local/lib/python3.6/dist-packages/sklearn/neighbors/lof.py:253: UserWarning: n_neighbors (20) is greater than the total number of samples (7). n_neighbors will be set to (n_samples - 1) for estimation.\n",
            "  % (self.n_neighbors, n_samples))\n"
          ],
          "name": "stderr"
        },
        {
          "output_type": "stream",
          "text": [
            "Epsilon:  0.5\n",
            "Seed Percentage : 88 Contamination:  0.06\n",
            "original_std :  3500.0\n"
          ],
          "name": "stdout"
        },
        {
          "output_type": "stream",
          "text": [
            "/usr/local/lib/python3.6/dist-packages/sklearn/neighbors/lof.py:253: UserWarning: n_neighbors (20) is greater than the total number of samples (8). n_neighbors will be set to (n_samples - 1) for estimation.\n",
            "  % (self.n_neighbors, n_samples))\n"
          ],
          "name": "stderr"
        },
        {
          "output_type": "stream",
          "text": [
            "Epsilon:  1.0\n",
            "Seed Percentage : 88 Contamination:  0.06\n",
            "original_std :  3639.5604130169345\n"
          ],
          "name": "stdout"
        },
        {
          "output_type": "stream",
          "text": [
            "/usr/local/lib/python3.6/dist-packages/sklearn/neighbors/lof.py:253: UserWarning: n_neighbors (20) is greater than the total number of samples (6). n_neighbors will be set to (n_samples - 1) for estimation.\n",
            "  % (self.n_neighbors, n_samples))\n"
          ],
          "name": "stderr"
        },
        {
          "output_type": "stream",
          "text": [
            "Epsilon:  0.333\n",
            "Seed Percentage : 88 Contamination:  0.06\n",
            "original_std :  4769.696007084728\n"
          ],
          "name": "stdout"
        },
        {
          "output_type": "stream",
          "text": [
            "/usr/local/lib/python3.6/dist-packages/sklearn/neighbors/lof.py:253: UserWarning: n_neighbors (20) is greater than the total number of samples (10). n_neighbors will be set to (n_samples - 1) for estimation.\n",
            "  % (self.n_neighbors, n_samples))\n"
          ],
          "name": "stderr"
        },
        {
          "output_type": "stream",
          "text": [
            "Epsilon:  0.5\n",
            "Seed Percentage : 88 Contamination:  0.06\n",
            "original_std :  1000.0\n"
          ],
          "name": "stdout"
        },
        {
          "output_type": "stream",
          "text": [
            "/usr/local/lib/python3.6/dist-packages/sklearn/neighbors/lof.py:253: UserWarning: n_neighbors (20) is greater than the total number of samples (8). n_neighbors will be set to (n_samples - 1) for estimation.\n",
            "  % (self.n_neighbors, n_samples))\n"
          ],
          "name": "stderr"
        },
        {
          "output_type": "stream",
          "text": [
            "Epsilon:  0.667\n",
            "Seed Percentage : 88 Contamination:  0.06\n",
            "original_std :  4876.013761678861\n"
          ],
          "name": "stdout"
        },
        {
          "output_type": "stream",
          "text": [
            "/usr/local/lib/python3.6/dist-packages/sklearn/neighbors/lof.py:253: UserWarning: n_neighbors (20) is greater than the total number of samples (6). n_neighbors will be set to (n_samples - 1) for estimation.\n",
            "  % (self.n_neighbors, n_samples))\n"
          ],
          "name": "stderr"
        },
        {
          "output_type": "stream",
          "text": [
            "Epsilon:  0.389\n",
            "Seed Percentage : 88 Contamination:  0.06\n",
            "original_std :  6110.100926607787\n"
          ],
          "name": "stdout"
        },
        {
          "output_type": "stream",
          "text": [
            "/usr/local/lib/python3.6/dist-packages/sklearn/neighbors/lof.py:253: UserWarning: n_neighbors (20) is greater than the total number of samples (14). n_neighbors will be set to (n_samples - 1) for estimation.\n",
            "  % (self.n_neighbors, n_samples))\n"
          ],
          "name": "stderr"
        },
        {
          "output_type": "stream",
          "text": [
            "Epsilon:  0.381\n",
            "Seed Percentage : 88 Contamination:  0.06\n",
            "original_std :  6814.690014960328\n"
          ],
          "name": "stdout"
        },
        {
          "output_type": "stream",
          "text": [
            "/usr/local/lib/python3.6/dist-packages/sklearn/neighbors/lof.py:253: UserWarning: n_neighbors (20) is greater than the total number of samples (9). n_neighbors will be set to (n_samples - 1) for estimation.\n",
            "  % (self.n_neighbors, n_samples))\n"
          ],
          "name": "stderr"
        },
        {
          "output_type": "stream",
          "text": [
            "Epsilon:  0.889\n",
            "Seed Percentage : 95 Contamination:  0.025\n",
            "original_std :  44988.19289546981\n"
          ],
          "name": "stdout"
        },
        {
          "output_type": "stream",
          "text": [
            "/usr/local/lib/python3.6/dist-packages/sklearn/neighbors/lof.py:253: UserWarning: n_neighbors (20) is greater than the total number of samples (10). n_neighbors will be set to (n_samples - 1) for estimation.\n",
            "  % (self.n_neighbors, n_samples))\n"
          ],
          "name": "stderr"
        },
        {
          "output_type": "stream",
          "text": [
            "Epsilon:  0.512\n",
            "Seed Percentage : 88 Contamination:  0.06\n",
            "original_std :  4193.672454740389\n",
            "Epsilon:  0.278\n",
            "Seed Percentage : 88 Contamination:  0.06\n",
            "original_std :  4487.637339278754\n",
            "Epsilon:  0.9\n",
            "Seed Percentage : 88 Contamination:  0.06\n",
            "original_std :  4027.6819911981906\n"
          ],
          "name": "stdout"
        },
        {
          "output_type": "stream",
          "text": [
            "/usr/local/lib/python3.6/dist-packages/sklearn/neighbors/lof.py:253: UserWarning: n_neighbors (20) is greater than the total number of samples (6). n_neighbors will be set to (n_samples - 1) for estimation.\n",
            "  % (self.n_neighbors, n_samples))\n"
          ],
          "name": "stderr"
        },
        {
          "output_type": "stream",
          "text": [
            "Epsilon:  0.818\n",
            "Seed Percentage : 88 Contamination:  0.06\n",
            "original_std :  5821.41639885766\n"
          ],
          "name": "stdout"
        },
        {
          "output_type": "stream",
          "text": [
            "/usr/local/lib/python3.6/dist-packages/sklearn/neighbors/lof.py:253: UserWarning: n_neighbors (20) is greater than the total number of samples (9). n_neighbors will be set to (n_samples - 1) for estimation.\n",
            "  % (self.n_neighbors, n_samples))\n"
          ],
          "name": "stderr"
        },
        {
          "output_type": "stream",
          "text": [
            "Epsilon:  0.714\n",
            "Seed Percentage : 88 Contamination:  0.06\n",
            "original_std :  4027.6819911981906\n"
          ],
          "name": "stdout"
        },
        {
          "output_type": "stream",
          "text": [
            "/usr/local/lib/python3.6/dist-packages/sklearn/neighbors/lof.py:253: UserWarning: n_neighbors (20) is greater than the total number of samples (6). n_neighbors will be set to (n_samples - 1) for estimation.\n",
            "  % (self.n_neighbors, n_samples))\n"
          ],
          "name": "stderr"
        },
        {
          "output_type": "stream",
          "text": [
            "Epsilon:  0.818\n",
            "Seed Percentage : 88 Contamination:  0.06\n",
            "original_std :  4487.637339278754\n"
          ],
          "name": "stdout"
        },
        {
          "output_type": "stream",
          "text": [
            "/usr/local/lib/python3.6/dist-packages/sklearn/neighbors/lof.py:253: UserWarning: n_neighbors (20) is greater than the total number of samples (9). n_neighbors will be set to (n_samples - 1) for estimation.\n",
            "  % (self.n_neighbors, n_samples))\n"
          ],
          "name": "stderr"
        },
        {
          "output_type": "stream",
          "text": [
            "Epsilon:  0.9\n",
            "Seed Percentage : 88 Contamination:  0.06\n",
            "original_std :  4121.210380458634\n"
          ],
          "name": "stdout"
        },
        {
          "output_type": "stream",
          "text": [
            "/usr/local/lib/python3.6/dist-packages/sklearn/neighbors/lof.py:253: UserWarning: n_neighbors (20) is greater than the total number of samples (6). n_neighbors will be set to (n_samples - 1) for estimation.\n",
            "  % (self.n_neighbors, n_samples))\n"
          ],
          "name": "stderr"
        },
        {
          "output_type": "stream",
          "text": [
            "Epsilon:  0.9\n",
            "Seed Percentage : 88 Contamination:  0.06\n",
            "original_std :  5821.41639885766\n"
          ],
          "name": "stdout"
        },
        {
          "output_type": "stream",
          "text": [
            "/usr/local/lib/python3.6/dist-packages/sklearn/neighbors/lof.py:253: UserWarning: n_neighbors (20) is greater than the total number of samples (8). n_neighbors will be set to (n_samples - 1) for estimation.\n",
            "  % (self.n_neighbors, n_samples))\n"
          ],
          "name": "stderr"
        },
        {
          "output_type": "stream",
          "text": [
            "Epsilon:  0.714\n",
            "Seed Percentage : 88 Contamination:  0.06\n",
            "original_std :  108.21029274344147\n"
          ],
          "name": "stdout"
        },
        {
          "output_type": "stream",
          "text": [
            "/usr/local/lib/python3.6/dist-packages/sklearn/neighbors/lof.py:253: UserWarning: n_neighbors (20) is greater than the total number of samples (6). n_neighbors will be set to (n_samples - 1) for estimation.\n",
            "  % (self.n_neighbors, n_samples))\n"
          ],
          "name": "stderr"
        },
        {
          "output_type": "stream",
          "text": [
            "Epsilon:  0.364\n",
            "Seed Percentage : 88 Contamination:  0.06\n",
            "original_std :  111.58512297533882\n"
          ],
          "name": "stdout"
        },
        {
          "output_type": "stream",
          "text": [
            "/usr/local/lib/python3.6/dist-packages/sklearn/neighbors/lof.py:253: UserWarning: n_neighbors (20) is greater than the total number of samples (13). n_neighbors will be set to (n_samples - 1) for estimation.\n",
            "  % (self.n_neighbors, n_samples))\n"
          ],
          "name": "stderr"
        },
        {
          "output_type": "stream",
          "text": [
            "Epsilon:  0.296\n",
            "Seed Percentage : 88 Contamination:  0.06\n",
            "original_std :  56.040024759095175\n"
          ],
          "name": "stdout"
        },
        {
          "output_type": "stream",
          "text": [
            "/usr/local/lib/python3.6/dist-packages/sklearn/neighbors/lof.py:253: UserWarning: n_neighbors (20) is greater than the total number of samples (11). n_neighbors will be set to (n_samples - 1) for estimation.\n",
            "  % (self.n_neighbors, n_samples))\n"
          ],
          "name": "stderr"
        },
        {
          "output_type": "stream",
          "text": [
            "Epsilon:  0.368\n",
            "Seed Percentage : 88 Contamination:  0.06\n",
            "original_std :  47.061163639895135\n",
            "Epsilon:  0.51\n",
            "Seed Percentage : 88 Contamination:  0.06\n",
            "original_std :  124.85825296444499\n",
            "Epsilon:  0.493\n",
            "Seed Percentage : 88 Contamination:  0.06\n",
            "original_std :  384779.87935383985\n"
          ],
          "name": "stdout"
        },
        {
          "output_type": "stream",
          "text": [
            "/usr/local/lib/python3.6/dist-packages/sklearn/neighbors/lof.py:253: UserWarning: n_neighbors (20) is greater than the total number of samples (12). n_neighbors will be set to (n_samples - 1) for estimation.\n",
            "  % (self.n_neighbors, n_samples))\n"
          ],
          "name": "stderr"
        },
        {
          "output_type": "stream",
          "text": [
            "Epsilon:  0.824\n",
            "Seed Percentage : 92 Contamination:  0.04\n",
            "original_std :  6.655131045349087\n"
          ],
          "name": "stdout"
        },
        {
          "output_type": "stream",
          "text": [
            "/usr/local/lib/python3.6/dist-packages/sklearn/neighbors/lof.py:253: UserWarning: n_neighbors (20) is greater than the total number of samples (6). n_neighbors will be set to (n_samples - 1) for estimation.\n",
            "  % (self.n_neighbors, n_samples))\n"
          ],
          "name": "stderr"
        },
        {
          "output_type": "stream",
          "text": [
            "Epsilon:  0.423\n",
            "Seed Percentage : 87 Contamination:  0.065\n",
            "original_std :  8.219555568885704\n"
          ],
          "name": "stdout"
        },
        {
          "output_type": "stream",
          "text": [
            "/usr/local/lib/python3.6/dist-packages/sklearn/neighbors/lof.py:253: UserWarning: n_neighbors (20) is greater than the total number of samples (13). n_neighbors will be set to (n_samples - 1) for estimation.\n",
            "  % (self.n_neighbors, n_samples))\n"
          ],
          "name": "stderr"
        },
        {
          "output_type": "stream",
          "text": [
            "Epsilon:  0.423\n",
            "Seed Percentage : 88 Contamination:  0.06\n",
            "original_std :  21.594752448994022\n"
          ],
          "name": "stdout"
        },
        {
          "output_type": "stream",
          "text": [
            "/usr/local/lib/python3.6/dist-packages/sklearn/neighbors/lof.py:253: UserWarning: n_neighbors (20) is greater than the total number of samples (8). n_neighbors will be set to (n_samples - 1) for estimation.\n",
            "  % (self.n_neighbors, n_samples))\n"
          ],
          "name": "stderr"
        },
        {
          "output_type": "stream",
          "text": [
            "Epsilon:  0.625\n",
            "Seed Percentage : 88 Contamination:  0.06\n",
            "original_std :  93.40038893420747\n"
          ],
          "name": "stdout"
        },
        {
          "output_type": "stream",
          "text": [
            "/usr/local/lib/python3.6/dist-packages/sklearn/neighbors/lof.py:253: UserWarning: n_neighbors (20) is greater than the total number of samples (6). n_neighbors will be set to (n_samples - 1) for estimation.\n",
            "  % (self.n_neighbors, n_samples))\n"
          ],
          "name": "stderr"
        },
        {
          "output_type": "stream",
          "text": [
            "Epsilon:  0.379\n",
            "Seed Percentage : 88 Contamination:  0.06\n",
            "original_std :  97.70135902614433\n"
          ],
          "name": "stdout"
        },
        {
          "output_type": "stream",
          "text": [
            "/usr/local/lib/python3.6/dist-packages/sklearn/neighbors/lof.py:253: UserWarning: n_neighbors (20) is greater than the total number of samples (14). n_neighbors will be set to (n_samples - 1) for estimation.\n",
            "  % (self.n_neighbors, n_samples))\n"
          ],
          "name": "stderr"
        },
        {
          "output_type": "stream",
          "text": [
            "Epsilon:  0.798\n",
            "Seed Percentage : 88 Contamination:  0.06\n",
            "original_std :  34.448028487370166\n"
          ],
          "name": "stdout"
        },
        {
          "output_type": "stream",
          "text": [
            "/usr/local/lib/python3.6/dist-packages/sklearn/neighbors/lof.py:253: UserWarning: n_neighbors (20) is greater than the total number of samples (6). n_neighbors will be set to (n_samples - 1) for estimation.\n",
            "  % (self.n_neighbors, n_samples))\n"
          ],
          "name": "stderr"
        },
        {
          "output_type": "stream",
          "text": [
            "Epsilon:  0.65\n",
            "Seed Percentage : 88 Contamination:  0.06\n",
            "original_std :  146.43921757659197\n"
          ],
          "name": "stdout"
        },
        {
          "output_type": "stream",
          "text": [
            "/usr/local/lib/python3.6/dist-packages/sklearn/neighbors/lof.py:253: UserWarning: n_neighbors (20) is greater than the total number of samples (6). n_neighbors will be set to (n_samples - 1) for estimation.\n",
            "  % (self.n_neighbors, n_samples))\n"
          ],
          "name": "stderr"
        },
        {
          "output_type": "stream",
          "text": [
            "Epsilon:  0.487\n",
            "Seed Percentage : 88 Contamination:  0.06\n",
            "original_std :  63.00942389833445\n"
          ],
          "name": "stdout"
        },
        {
          "output_type": "stream",
          "text": [
            "/usr/local/lib/python3.6/dist-packages/sklearn/neighbors/lof.py:253: UserWarning: n_neighbors (20) is greater than the total number of samples (9). n_neighbors will be set to (n_samples - 1) for estimation.\n",
            "  % (self.n_neighbors, n_samples))\n"
          ],
          "name": "stderr"
        },
        {
          "output_type": "stream",
          "text": [
            "Epsilon:  0.395\n",
            "Seed Percentage : 88 Contamination:  0.06\n",
            "original_std :  35.64736140305479\n"
          ],
          "name": "stdout"
        },
        {
          "output_type": "stream",
          "text": [
            "/usr/local/lib/python3.6/dist-packages/sklearn/neighbors/lof.py:253: UserWarning: n_neighbors (20) is greater than the total number of samples (8). n_neighbors will be set to (n_samples - 1) for estimation.\n",
            "  % (self.n_neighbors, n_samples))\n"
          ],
          "name": "stderr"
        },
        {
          "output_type": "stream",
          "text": [
            "Epsilon:  0.44\n",
            "Seed Percentage : 88 Contamination:  0.06\n",
            "original_std :  290.18408908063094\n"
          ],
          "name": "stdout"
        },
        {
          "output_type": "stream",
          "text": [
            "/usr/local/lib/python3.6/dist-packages/sklearn/neighbors/lof.py:253: UserWarning: n_neighbors (20) is greater than the total number of samples (8). n_neighbors will be set to (n_samples - 1) for estimation.\n",
            "  % (self.n_neighbors, n_samples))\n"
          ],
          "name": "stderr"
        },
        {
          "output_type": "stream",
          "text": [
            "Epsilon:  0.643\n",
            "Seed Percentage : 88 Contamination:  0.06\n",
            "original_std :  102.64285438137209\n"
          ],
          "name": "stdout"
        },
        {
          "output_type": "stream",
          "text": [
            "/usr/local/lib/python3.6/dist-packages/sklearn/neighbors/lof.py:253: UserWarning: n_neighbors (20) is greater than the total number of samples (6). n_neighbors will be set to (n_samples - 1) for estimation.\n",
            "  % (self.n_neighbors, n_samples))\n"
          ],
          "name": "stderr"
        },
        {
          "output_type": "stream",
          "text": [
            "Epsilon:  0.732\n",
            "Seed Percentage : 88 Contamination:  0.06\n",
            "original_std :  20.344259359556172\n"
          ],
          "name": "stdout"
        },
        {
          "output_type": "stream",
          "text": [
            "/usr/local/lib/python3.6/dist-packages/sklearn/neighbors/lof.py:253: UserWarning: n_neighbors (20) is greater than the total number of samples (6). n_neighbors will be set to (n_samples - 1) for estimation.\n",
            "  % (self.n_neighbors, n_samples))\n"
          ],
          "name": "stderr"
        },
        {
          "output_type": "stream",
          "text": [
            "Epsilon:  0.75\n",
            "Seed Percentage : 88 Contamination:  0.06\n",
            "original_std :  114.33963013937102\n"
          ],
          "name": "stdout"
        },
        {
          "output_type": "stream",
          "text": [
            "/usr/local/lib/python3.6/dist-packages/sklearn/neighbors/lof.py:253: UserWarning: n_neighbors (20) is greater than the total number of samples (6). n_neighbors will be set to (n_samples - 1) for estimation.\n",
            "  % (self.n_neighbors, n_samples))\n"
          ],
          "name": "stderr"
        },
        {
          "output_type": "stream",
          "text": [
            "Epsilon:  0.349\n",
            "Seed Percentage : 88 Contamination:  0.06\n",
            "original_std :  66.14016051789815\n"
          ],
          "name": "stdout"
        },
        {
          "output_type": "stream",
          "text": [
            "/usr/local/lib/python3.6/dist-packages/sklearn/neighbors/lof.py:253: UserWarning: n_neighbors (20) is greater than the total number of samples (7). n_neighbors will be set to (n_samples - 1) for estimation.\n",
            "  % (self.n_neighbors, n_samples))\n"
          ],
          "name": "stderr"
        },
        {
          "output_type": "stream",
          "text": [
            "Epsilon:  0.5\n",
            "Seed Percentage : 88 Contamination:  0.06\n",
            "original_std :  15.794653347894828\n"
          ],
          "name": "stdout"
        },
        {
          "output_type": "stream",
          "text": [
            "/usr/local/lib/python3.6/dist-packages/sklearn/neighbors/lof.py:253: UserWarning: n_neighbors (20) is greater than the total number of samples (12). n_neighbors will be set to (n_samples - 1) for estimation.\n",
            "  % (self.n_neighbors, n_samples))\n"
          ],
          "name": "stderr"
        },
        {
          "output_type": "stream",
          "text": [
            "Epsilon:  0.459\n",
            "Seed Percentage : 88 Contamination:  0.06\n",
            "original_std :  17.422715643899007\n",
            "Epsilon:  0.49\n",
            "Seed Percentage : 88 Contamination:  0.06\n",
            "original_std :  18.01133429997084\n"
          ],
          "name": "stdout"
        },
        {
          "output_type": "stream",
          "text": [
            "/usr/local/lib/python3.6/dist-packages/sklearn/neighbors/lof.py:253: UserWarning: n_neighbors (20) is greater than the total number of samples (7). n_neighbors will be set to (n_samples - 1) for estimation.\n",
            "  % (self.n_neighbors, n_samples))\n"
          ],
          "name": "stderr"
        },
        {
          "output_type": "stream",
          "text": [
            "Epsilon:  0.5\n",
            "Seed Percentage : 88 Contamination:  0.06\n",
            "original_std :  6.998542122237652\n"
          ],
          "name": "stdout"
        },
        {
          "output_type": "stream",
          "text": [
            "/usr/local/lib/python3.6/dist-packages/sklearn/neighbors/lof.py:253: UserWarning: n_neighbors (20) is greater than the total number of samples (7). n_neighbors will be set to (n_samples - 1) for estimation.\n",
            "  % (self.n_neighbors, n_samples))\n"
          ],
          "name": "stderr"
        },
        {
          "output_type": "stream",
          "text": [
            "Epsilon:  1.0\n",
            "Seed Percentage : 87 Contamination:  0.065\n",
            "original_std :  32.30711995830021\n"
          ],
          "name": "stdout"
        },
        {
          "output_type": "stream",
          "text": [
            "/usr/local/lib/python3.6/dist-packages/sklearn/neighbors/lof.py:253: UserWarning: n_neighbors (20) is greater than the total number of samples (7). n_neighbors will be set to (n_samples - 1) for estimation.\n",
            "  % (self.n_neighbors, n_samples))\n"
          ],
          "name": "stderr"
        },
        {
          "output_type": "stream",
          "text": [
            "Epsilon:  0.8\n",
            "Seed Percentage : 88 Contamination:  0.06\n",
            "original_std :  127.44058239358579\n"
          ],
          "name": "stdout"
        },
        {
          "output_type": "stream",
          "text": [
            "/usr/local/lib/python3.6/dist-packages/sklearn/neighbors/lof.py:253: UserWarning: n_neighbors (20) is greater than the total number of samples (8). n_neighbors will be set to (n_samples - 1) for estimation.\n",
            "  % (self.n_neighbors, n_samples))\n"
          ],
          "name": "stderr"
        },
        {
          "output_type": "stream",
          "text": [
            "Epsilon:  0.499\n",
            "Seed Percentage : 88 Contamination:  0.06\n",
            "original_std :  9.428090415820632\n"
          ],
          "name": "stdout"
        },
        {
          "output_type": "stream",
          "text": [
            "/usr/local/lib/python3.6/dist-packages/sklearn/neighbors/lof.py:253: UserWarning: n_neighbors (20) is greater than the total number of samples (7). n_neighbors will be set to (n_samples - 1) for estimation.\n",
            "  % (self.n_neighbors, n_samples))\n"
          ],
          "name": "stderr"
        },
        {
          "output_type": "stream",
          "text": [
            "Epsilon:  1.0\n",
            "Seed Percentage : 87 Contamination:  0.065\n",
            "original_std :  31.622776601683793\n"
          ],
          "name": "stdout"
        },
        {
          "output_type": "stream",
          "text": [
            "/usr/local/lib/python3.6/dist-packages/sklearn/neighbors/lof.py:253: UserWarning: n_neighbors (20) is greater than the total number of samples (6). n_neighbors will be set to (n_samples - 1) for estimation.\n",
            "  % (self.n_neighbors, n_samples))\n"
          ],
          "name": "stderr"
        },
        {
          "output_type": "stream",
          "text": [
            "Epsilon:  0.8\n",
            "Seed Percentage : 88 Contamination:  0.06\n",
            "original_std :  65.7961920546234\n"
          ],
          "name": "stdout"
        },
        {
          "output_type": "stream",
          "text": [
            "/usr/local/lib/python3.6/dist-packages/sklearn/neighbors/lof.py:253: UserWarning: n_neighbors (20) is greater than the total number of samples (8). n_neighbors will be set to (n_samples - 1) for estimation.\n",
            "  % (self.n_neighbors, n_samples))\n"
          ],
          "name": "stderr"
        },
        {
          "output_type": "stream",
          "text": [
            "Epsilon:  0.43\n",
            "Seed Percentage : 88 Contamination:  0.06\n",
            "original_std :  0.0\n"
          ],
          "name": "stdout"
        },
        {
          "output_type": "stream",
          "text": [
            "/usr/local/lib/python3.6/dist-packages/sklearn/neighbors/lof.py:253: UserWarning: n_neighbors (20) is greater than the total number of samples (12). n_neighbors will be set to (n_samples - 1) for estimation.\n",
            "  % (self.n_neighbors, n_samples))\n"
          ],
          "name": "stderr"
        },
        {
          "output_type": "stream",
          "text": [
            "Epsilon:  0.5\n",
            "Seed Percentage : 88 Contamination:  0.06\n",
            "original_std :  0.0\n"
          ],
          "name": "stdout"
        },
        {
          "output_type": "stream",
          "text": [
            "/usr/local/lib/python3.6/dist-packages/sklearn/neighbors/lof.py:253: UserWarning: n_neighbors (20) is greater than the total number of samples (6). n_neighbors will be set to (n_samples - 1) for estimation.\n",
            "  % (self.n_neighbors, n_samples))\n"
          ],
          "name": "stderr"
        },
        {
          "output_type": "stream",
          "text": [
            "Epsilon:  0.5\n",
            "Seed Percentage : 88 Contamination:  0.06\n",
            "original_std :  0.0\n"
          ],
          "name": "stdout"
        },
        {
          "output_type": "stream",
          "text": [
            "/usr/local/lib/python3.6/dist-packages/sklearn/neighbors/lof.py:253: UserWarning: n_neighbors (20) is greater than the total number of samples (6). n_neighbors will be set to (n_samples - 1) for estimation.\n",
            "  % (self.n_neighbors, n_samples))\n"
          ],
          "name": "stderr"
        },
        {
          "output_type": "stream",
          "text": [
            "Epsilon:  0.5\n",
            "Seed Percentage : 88 Contamination:  0.06\n",
            "original_std :  0.0\n"
          ],
          "name": "stdout"
        },
        {
          "output_type": "stream",
          "text": [
            "/usr/local/lib/python3.6/dist-packages/sklearn/neighbors/lof.py:253: UserWarning: n_neighbors (20) is greater than the total number of samples (6). n_neighbors will be set to (n_samples - 1) for estimation.\n",
            "  % (self.n_neighbors, n_samples))\n"
          ],
          "name": "stderr"
        },
        {
          "output_type": "stream",
          "text": [
            "Epsilon:  0.5\n",
            "Seed Percentage : 88 Contamination:  0.06\n",
            "original_std :  0.0\n"
          ],
          "name": "stdout"
        },
        {
          "output_type": "stream",
          "text": [
            "/usr/local/lib/python3.6/dist-packages/sklearn/neighbors/lof.py:253: UserWarning: n_neighbors (20) is greater than the total number of samples (7). n_neighbors will be set to (n_samples - 1) for estimation.\n",
            "  % (self.n_neighbors, n_samples))\n"
          ],
          "name": "stderr"
        },
        {
          "output_type": "stream",
          "text": [
            "Epsilon:  0.5\n",
            "Seed Percentage : 88 Contamination:  0.06\n",
            "original_std :  0.502338282435253\n"
          ],
          "name": "stdout"
        },
        {
          "output_type": "stream",
          "text": [
            "/usr/local/lib/python3.6/dist-packages/sklearn/neighbors/lof.py:253: UserWarning: n_neighbors (20) is greater than the total number of samples (7). n_neighbors will be set to (n_samples - 1) for estimation.\n",
            "  % (self.n_neighbors, n_samples))\n"
          ],
          "name": "stderr"
        },
        {
          "output_type": "stream",
          "text": [
            "Epsilon:  0.533\n",
            "Seed Percentage : 94 Contamination:  0.03\n",
            "original_std :  3.979097635529893\n"
          ],
          "name": "stdout"
        },
        {
          "output_type": "stream",
          "text": [
            "/usr/local/lib/python3.6/dist-packages/sklearn/neighbors/lof.py:253: UserWarning: n_neighbors (20) is greater than the total number of samples (8). n_neighbors will be set to (n_samples - 1) for estimation.\n",
            "  % (self.n_neighbors, n_samples))\n"
          ],
          "name": "stderr"
        },
        {
          "output_type": "stream",
          "text": [
            "Epsilon:  0.875\n",
            "Seed Percentage : 88 Contamination:  0.06\n",
            "original_std :  0.3184162195757134\n"
          ],
          "name": "stdout"
        },
        {
          "output_type": "stream",
          "text": [
            "/usr/local/lib/python3.6/dist-packages/sklearn/neighbors/lof.py:253: UserWarning: n_neighbors (20) is greater than the total number of samples (17). n_neighbors will be set to (n_samples - 1) for estimation.\n",
            "  % (self.n_neighbors, n_samples))\n"
          ],
          "name": "stderr"
        },
        {
          "output_type": "stream",
          "text": [
            "Epsilon:  0.778\n",
            "Seed Percentage : 88 Contamination:  0.06\n",
            "original_std :  5.7262375010444115\n"
          ],
          "name": "stdout"
        },
        {
          "output_type": "stream",
          "text": [
            "/usr/local/lib/python3.6/dist-packages/sklearn/neighbors/lof.py:253: UserWarning: n_neighbors (20) is greater than the total number of samples (6). n_neighbors will be set to (n_samples - 1) for estimation.\n",
            "  % (self.n_neighbors, n_samples))\n"
          ],
          "name": "stderr"
        },
        {
          "output_type": "stream",
          "text": [
            "Epsilon:  0.8\n",
            "Seed Percentage : 86 Contamination:  0.07\n",
            "original_std :  112115.33743823317\n"
          ],
          "name": "stdout"
        },
        {
          "output_type": "stream",
          "text": [
            "/usr/local/lib/python3.6/dist-packages/sklearn/neighbors/lof.py:253: UserWarning: n_neighbors (20) is greater than the total number of samples (7). n_neighbors will be set to (n_samples - 1) for estimation.\n",
            "  % (self.n_neighbors, n_samples))\n"
          ],
          "name": "stderr"
        },
        {
          "output_type": "stream",
          "text": [
            "Epsilon:  0.515\n",
            "Seed Percentage : 88 Contamination:  0.06\n",
            "original_std :  78014.42174367506\n"
          ],
          "name": "stdout"
        },
        {
          "output_type": "stream",
          "text": [
            "/usr/local/lib/python3.6/dist-packages/sklearn/neighbors/lof.py:253: UserWarning: n_neighbors (20) is greater than the total number of samples (15). n_neighbors will be set to (n_samples - 1) for estimation.\n",
            "  % (self.n_neighbors, n_samples))\n"
          ],
          "name": "stderr"
        },
        {
          "output_type": "stream",
          "text": [
            "Epsilon:  0.428\n",
            "Seed Percentage : 94 Contamination:  0.03\n",
            "original_std :  209434.73932135061\n"
          ],
          "name": "stdout"
        },
        {
          "output_type": "stream",
          "text": [
            "/usr/local/lib/python3.6/dist-packages/sklearn/neighbors/lof.py:253: UserWarning: n_neighbors (20) is greater than the total number of samples (8). n_neighbors will be set to (n_samples - 1) for estimation.\n",
            "  % (self.n_neighbors, n_samples))\n"
          ],
          "name": "stderr"
        },
        {
          "output_type": "stream",
          "text": [
            "Epsilon:  0.364\n",
            "Seed Percentage : 88 Contamination:  0.06\n",
            "original_std :  298814.22460853896\n"
          ],
          "name": "stdout"
        },
        {
          "output_type": "stream",
          "text": [
            "/usr/local/lib/python3.6/dist-packages/sklearn/neighbors/lof.py:253: UserWarning: n_neighbors (20) is greater than the total number of samples (17). n_neighbors will be set to (n_samples - 1) for estimation.\n",
            "  % (self.n_neighbors, n_samples))\n"
          ],
          "name": "stderr"
        },
        {
          "output_type": "stream",
          "text": [
            "Epsilon:  0.38\n",
            "Seed Percentage : 88 Contamination:  0.06\n",
            "original_std :  31499.007920885382\n"
          ],
          "name": "stdout"
        },
        {
          "output_type": "stream",
          "text": [
            "/usr/local/lib/python3.6/dist-packages/sklearn/neighbors/lof.py:253: UserWarning: n_neighbors (20) is greater than the total number of samples (13). n_neighbors will be set to (n_samples - 1) for estimation.\n",
            "  % (self.n_neighbors, n_samples))\n"
          ],
          "name": "stderr"
        },
        {
          "output_type": "stream",
          "text": [
            "Epsilon:  0.529\n",
            "Seed Percentage : 88 Contamination:  0.06\n",
            "original_std :  10971.104782057679\n"
          ],
          "name": "stdout"
        },
        {
          "output_type": "stream",
          "text": [
            "/usr/local/lib/python3.6/dist-packages/sklearn/neighbors/lof.py:253: UserWarning: n_neighbors (20) is greater than the total number of samples (8). n_neighbors will be set to (n_samples - 1) for estimation.\n",
            "  % (self.n_neighbors, n_samples))\n"
          ],
          "name": "stderr"
        },
        {
          "output_type": "stream",
          "text": [
            "Epsilon:  0.36\n",
            "Seed Percentage : 88 Contamination:  0.06\n",
            "original_std :  14892.438424321997\n"
          ],
          "name": "stdout"
        },
        {
          "output_type": "stream",
          "text": [
            "/usr/local/lib/python3.6/dist-packages/sklearn/neighbors/lof.py:253: UserWarning: n_neighbors (20) is greater than the total number of samples (6). n_neighbors will be set to (n_samples - 1) for estimation.\n",
            "  % (self.n_neighbors, n_samples))\n"
          ],
          "name": "stderr"
        },
        {
          "output_type": "stream",
          "text": [
            "Epsilon:  0.206\n",
            "Seed Percentage : 88 Contamination:  0.06\n",
            "original_std :  11873.912409916427\n"
          ],
          "name": "stdout"
        },
        {
          "output_type": "stream",
          "text": [
            "/usr/local/lib/python3.6/dist-packages/sklearn/neighbors/lof.py:253: UserWarning: n_neighbors (20) is greater than the total number of samples (12). n_neighbors will be set to (n_samples - 1) for estimation.\n",
            "  % (self.n_neighbors, n_samples))\n"
          ],
          "name": "stderr"
        },
        {
          "output_type": "stream",
          "text": [
            "Epsilon:  0.514\n",
            "Seed Percentage : 87 Contamination:  0.065\n",
            "original_std :  16014.641738109536\n"
          ],
          "name": "stdout"
        },
        {
          "output_type": "stream",
          "text": [
            "/usr/local/lib/python3.6/dist-packages/sklearn/neighbors/lof.py:253: UserWarning: n_neighbors (20) is greater than the total number of samples (7). n_neighbors will be set to (n_samples - 1) for estimation.\n",
            "  % (self.n_neighbors, n_samples))\n"
          ],
          "name": "stderr"
        },
        {
          "output_type": "stream",
          "text": [
            "Epsilon:  0.421\n",
            "Seed Percentage : 88 Contamination:  0.06\n",
            "original_std :  54591.00214131354\n"
          ],
          "name": "stdout"
        },
        {
          "output_type": "stream",
          "text": [
            "/usr/local/lib/python3.6/dist-packages/sklearn/neighbors/lof.py:253: UserWarning: n_neighbors (20) is greater than the total number of samples (16). n_neighbors will be set to (n_samples - 1) for estimation.\n",
            "  % (self.n_neighbors, n_samples))\n"
          ],
          "name": "stderr"
        },
        {
          "output_type": "stream",
          "text": [
            "Epsilon:  0.364\n",
            "Seed Percentage : 88 Contamination:  0.06\n",
            "original_std :  56879.2580823625\n"
          ],
          "name": "stdout"
        },
        {
          "output_type": "stream",
          "text": [
            "/usr/local/lib/python3.6/dist-packages/sklearn/neighbors/lof.py:253: UserWarning: n_neighbors (20) is greater than the total number of samples (13). n_neighbors will be set to (n_samples - 1) for estimation.\n",
            "  % (self.n_neighbors, n_samples))\n"
          ],
          "name": "stderr"
        },
        {
          "output_type": "stream",
          "text": [
            "Epsilon:  0.364\n",
            "Seed Percentage : 88 Contamination:  0.06\n",
            "original_std :  57595.030167541365\n"
          ],
          "name": "stdout"
        },
        {
          "output_type": "stream",
          "text": [
            "/usr/local/lib/python3.6/dist-packages/sklearn/neighbors/lof.py:253: UserWarning: n_neighbors (20) is greater than the total number of samples (10). n_neighbors will be set to (n_samples - 1) for estimation.\n",
            "  % (self.n_neighbors, n_samples))\n"
          ],
          "name": "stderr"
        },
        {
          "output_type": "stream",
          "text": [
            "Epsilon:  0.394\n",
            "Seed Percentage : 88 Contamination:  0.06\n",
            "original_std :  89320.00055978504\n"
          ],
          "name": "stdout"
        },
        {
          "output_type": "stream",
          "text": [
            "/usr/local/lib/python3.6/dist-packages/sklearn/neighbors/lof.py:253: UserWarning: n_neighbors (20) is greater than the total number of samples (8). n_neighbors will be set to (n_samples - 1) for estimation.\n",
            "  % (self.n_neighbors, n_samples))\n"
          ],
          "name": "stderr"
        },
        {
          "output_type": "stream",
          "text": [
            "Epsilon:  0.417\n",
            "Seed Percentage : 94 Contamination:  0.03\n",
            "original_std :  63241.11829506082\n"
          ],
          "name": "stdout"
        },
        {
          "output_type": "stream",
          "text": [
            "/usr/local/lib/python3.6/dist-packages/sklearn/neighbors/lof.py:253: UserWarning: n_neighbors (20) is greater than the total number of samples (10). n_neighbors will be set to (n_samples - 1) for estimation.\n",
            "  % (self.n_neighbors, n_samples))\n"
          ],
          "name": "stderr"
        },
        {
          "output_type": "stream",
          "text": [
            "Epsilon:  0.282\n",
            "Seed Percentage : 88 Contamination:  0.06\n",
            "original_std :  50250.720999180696\n"
          ],
          "name": "stdout"
        },
        {
          "output_type": "stream",
          "text": [
            "/usr/local/lib/python3.6/dist-packages/sklearn/neighbors/lof.py:253: UserWarning: n_neighbors (20) is greater than the total number of samples (18). n_neighbors will be set to (n_samples - 1) for estimation.\n",
            "  % (self.n_neighbors, n_samples))\n"
          ],
          "name": "stderr"
        },
        {
          "output_type": "stream",
          "text": [
            "Epsilon:  0.206\n",
            "Seed Percentage : 88 Contamination:  0.06\n",
            "original_std :  81798.60786419724\n"
          ],
          "name": "stdout"
        },
        {
          "output_type": "stream",
          "text": [
            "/usr/local/lib/python3.6/dist-packages/sklearn/neighbors/lof.py:253: UserWarning: n_neighbors (20) is greater than the total number of samples (16). n_neighbors will be set to (n_samples - 1) for estimation.\n",
            "  % (self.n_neighbors, n_samples))\n"
          ],
          "name": "stderr"
        },
        {
          "output_type": "stream",
          "text": [
            "Epsilon:  0.26\n",
            "Seed Percentage : 88 Contamination:  0.06\n",
            "original_std :  84188.48727046287\n"
          ],
          "name": "stdout"
        },
        {
          "output_type": "stream",
          "text": [
            "/usr/local/lib/python3.6/dist-packages/sklearn/neighbors/lof.py:253: UserWarning: n_neighbors (20) is greater than the total number of samples (13). n_neighbors will be set to (n_samples - 1) for estimation.\n",
            "  % (self.n_neighbors, n_samples))\n"
          ],
          "name": "stderr"
        },
        {
          "output_type": "stream",
          "text": [
            "Epsilon:  0.751\n",
            "Seed Percentage : 88 Contamination:  0.06\n",
            "original_std :  64430.85225435266\n"
          ],
          "name": "stdout"
        },
        {
          "output_type": "stream",
          "text": [
            "/usr/local/lib/python3.6/dist-packages/sklearn/neighbors/lof.py:253: UserWarning: n_neighbors (20) is greater than the total number of samples (6). n_neighbors will be set to (n_samples - 1) for estimation.\n",
            "  % (self.n_neighbors, n_samples))\n"
          ],
          "name": "stderr"
        },
        {
          "output_type": "stream",
          "text": [
            "Epsilon:  0.675\n",
            "Seed Percentage : 87 Contamination:  0.065\n",
            "original_std :  368849.5628301598\n"
          ],
          "name": "stdout"
        },
        {
          "output_type": "stream",
          "text": [
            "/usr/local/lib/python3.6/dist-packages/sklearn/neighbors/lof.py:253: UserWarning: n_neighbors (20) is greater than the total number of samples (6). n_neighbors will be set to (n_samples - 1) for estimation.\n",
            "  % (self.n_neighbors, n_samples))\n"
          ],
          "name": "stderr"
        },
        {
          "output_type": "stream",
          "text": [
            "Epsilon:  0.678\n",
            "Seed Percentage : 87 Contamination:  0.065\n",
            "original_std :  241576.01748150046\n"
          ],
          "name": "stdout"
        },
        {
          "output_type": "stream",
          "text": [
            "/usr/local/lib/python3.6/dist-packages/sklearn/neighbors/lof.py:253: UserWarning: n_neighbors (20) is greater than the total number of samples (8). n_neighbors will be set to (n_samples - 1) for estimation.\n",
            "  % (self.n_neighbors, n_samples))\n"
          ],
          "name": "stderr"
        },
        {
          "output_type": "stream",
          "text": [
            "Epsilon:  0.3\n",
            "Seed Percentage : 88 Contamination:  0.06\n",
            "original_std :  71747.69403959964\n",
            "Epsilon:  0.522\n",
            "Seed Percentage : 88 Contamination:  0.06\n",
            "original_std :  201651.93334610562\n"
          ],
          "name": "stdout"
        },
        {
          "output_type": "stream",
          "text": [
            "/usr/local/lib/python3.6/dist-packages/sklearn/neighbors/lof.py:253: UserWarning: n_neighbors (20) is greater than the total number of samples (10). n_neighbors will be set to (n_samples - 1) for estimation.\n",
            "  % (self.n_neighbors, n_samples))\n"
          ],
          "name": "stderr"
        },
        {
          "output_type": "stream",
          "text": [
            "Epsilon:  0.578\n",
            "Seed Percentage : 88 Contamination:  0.06\n",
            "original_std :  41154.603495707364\n"
          ],
          "name": "stdout"
        },
        {
          "output_type": "stream",
          "text": [
            "/usr/local/lib/python3.6/dist-packages/sklearn/neighbors/lof.py:253: UserWarning: n_neighbors (20) is greater than the total number of samples (9). n_neighbors will be set to (n_samples - 1) for estimation.\n",
            "  % (self.n_neighbors, n_samples))\n"
          ],
          "name": "stderr"
        },
        {
          "output_type": "stream",
          "text": [
            "Epsilon:  0.952\n",
            "Seed Percentage : 88 Contamination:  0.06\n",
            "original_std :  135269.79214394715\n"
          ],
          "name": "stdout"
        },
        {
          "output_type": "stream",
          "text": [
            "/usr/local/lib/python3.6/dist-packages/sklearn/neighbors/lof.py:253: UserWarning: n_neighbors (20) is greater than the total number of samples (6). n_neighbors will be set to (n_samples - 1) for estimation.\n",
            "  % (self.n_neighbors, n_samples))\n"
          ],
          "name": "stderr"
        },
        {
          "output_type": "stream",
          "text": [
            "Epsilon:  0.438\n",
            "Seed Percentage : 88 Contamination:  0.06\n",
            "original_std :  738696.7502899204\n"
          ],
          "name": "stdout"
        },
        {
          "output_type": "stream",
          "text": [
            "/usr/local/lib/python3.6/dist-packages/sklearn/neighbors/lof.py:253: UserWarning: n_neighbors (20) is greater than the total number of samples (6). n_neighbors will be set to (n_samples - 1) for estimation.\n",
            "  % (self.n_neighbors, n_samples))\n"
          ],
          "name": "stderr"
        },
        {
          "output_type": "stream",
          "text": [
            "Epsilon:  0.735\n",
            "Seed Percentage : 88 Contamination:  0.06\n",
            "original_std :  63245.553203367585\n"
          ],
          "name": "stdout"
        },
        {
          "output_type": "stream",
          "text": [
            "/usr/local/lib/python3.6/dist-packages/sklearn/neighbors/lof.py:253: UserWarning: n_neighbors (20) is greater than the total number of samples (15). n_neighbors will be set to (n_samples - 1) for estimation.\n",
            "  % (self.n_neighbors, n_samples))\n"
          ],
          "name": "stderr"
        },
        {
          "output_type": "stream",
          "text": [
            "Epsilon:  0.476\n",
            "Seed Percentage : 88 Contamination:  0.06\n",
            "original_std :  56179.377434959104\n"
          ],
          "name": "stdout"
        },
        {
          "output_type": "stream",
          "text": [
            "/usr/local/lib/python3.6/dist-packages/sklearn/neighbors/lof.py:253: UserWarning: n_neighbors (20) is greater than the total number of samples (6). n_neighbors will be set to (n_samples - 1) for estimation.\n",
            "  % (self.n_neighbors, n_samples))\n"
          ],
          "name": "stderr"
        },
        {
          "output_type": "stream",
          "text": [
            "Epsilon:  0.5\n",
            "Seed Percentage : 88 Contamination:  0.06\n",
            "original_std :  67649.33512956518\n"
          ],
          "name": "stdout"
        },
        {
          "output_type": "stream",
          "text": [
            "/usr/local/lib/python3.6/dist-packages/sklearn/neighbors/lof.py:253: UserWarning: n_neighbors (20) is greater than the total number of samples (7). n_neighbors will be set to (n_samples - 1) for estimation.\n",
            "  % (self.n_neighbors, n_samples))\n"
          ],
          "name": "stderr"
        },
        {
          "output_type": "stream",
          "text": [
            "Epsilon:  0.996\n",
            "Seed Percentage : 88 Contamination:  0.06\n",
            "original_std :  644.104809729876\n"
          ],
          "name": "stdout"
        },
        {
          "output_type": "stream",
          "text": [
            "/usr/local/lib/python3.6/dist-packages/sklearn/neighbors/lof.py:253: UserWarning: n_neighbors (20) is greater than the total number of samples (6). n_neighbors will be set to (n_samples - 1) for estimation.\n",
            "  % (self.n_neighbors, n_samples))\n"
          ],
          "name": "stderr"
        },
        {
          "output_type": "stream",
          "text": [
            "Epsilon:  0.311\n",
            "Seed Percentage : 88 Contamination:  0.06\n",
            "original_std :  752.2170933683677\n"
          ],
          "name": "stdout"
        },
        {
          "output_type": "stream",
          "text": [
            "/usr/local/lib/python3.6/dist-packages/sklearn/neighbors/lof.py:253: UserWarning: n_neighbors (20) is greater than the total number of samples (13). n_neighbors will be set to (n_samples - 1) for estimation.\n",
            "  % (self.n_neighbors, n_samples))\n"
          ],
          "name": "stderr"
        },
        {
          "output_type": "stream",
          "text": [
            "Epsilon:  0.918\n",
            "Seed Percentage : 88 Contamination:  0.06\n",
            "original_std :  338.294781773234\n"
          ],
          "name": "stdout"
        },
        {
          "output_type": "stream",
          "text": [
            "/usr/local/lib/python3.6/dist-packages/sklearn/neighbors/lof.py:253: UserWarning: n_neighbors (20) is greater than the total number of samples (6). n_neighbors will be set to (n_samples - 1) for estimation.\n",
            "  % (self.n_neighbors, n_samples))\n"
          ],
          "name": "stderr"
        },
        {
          "output_type": "stream",
          "text": [
            "Epsilon:  0.426\n",
            "Seed Percentage : 88 Contamination:  0.06\n",
            "original_std :  260.87459737497545\n"
          ],
          "name": "stdout"
        },
        {
          "output_type": "stream",
          "text": [
            "/usr/local/lib/python3.6/dist-packages/sklearn/neighbors/lof.py:253: UserWarning: n_neighbors (20) is greater than the total number of samples (8). n_neighbors will be set to (n_samples - 1) for estimation.\n",
            "  % (self.n_neighbors, n_samples))\n"
          ],
          "name": "stderr"
        },
        {
          "output_type": "stream",
          "text": [
            "Epsilon:  1.0\n",
            "Seed Percentage : 88 Contamination:  0.06\n",
            "original_std :  760.114095054157\n"
          ],
          "name": "stdout"
        },
        {
          "output_type": "stream",
          "text": [
            "/usr/local/lib/python3.6/dist-packages/sklearn/neighbors/lof.py:253: UserWarning: n_neighbors (20) is greater than the total number of samples (6). n_neighbors will be set to (n_samples - 1) for estimation.\n",
            "  % (self.n_neighbors, n_samples))\n"
          ],
          "name": "stderr"
        },
        {
          "output_type": "stream",
          "text": [
            "Epsilon:  0.421\n",
            "Seed Percentage : 88 Contamination:  0.06\n",
            "original_std :  0.0\n"
          ],
          "name": "stdout"
        },
        {
          "output_type": "stream",
          "text": [
            "/usr/local/lib/python3.6/dist-packages/sklearn/neighbors/lof.py:253: UserWarning: n_neighbors (20) is greater than the total number of samples (8). n_neighbors will be set to (n_samples - 1) for estimation.\n",
            "  % (self.n_neighbors, n_samples))\n"
          ],
          "name": "stderr"
        },
        {
          "output_type": "stream",
          "text": [
            "Epsilon:  0.5\n",
            "Seed Percentage : 88 Contamination:  0.06\n",
            "original_std :  31.711532630498134\n"
          ],
          "name": "stdout"
        },
        {
          "output_type": "stream",
          "text": [
            "/usr/local/lib/python3.6/dist-packages/sklearn/neighbors/lof.py:253: UserWarning: n_neighbors (20) is greater than the total number of samples (7). n_neighbors will be set to (n_samples - 1) for estimation.\n",
            "  % (self.n_neighbors, n_samples))\n"
          ],
          "name": "stderr"
        },
        {
          "output_type": "stream",
          "text": [
            "Epsilon:  0.4\n",
            "Seed Percentage : 88 Contamination:  0.06\n",
            "original_std :  593.289347620535\n"
          ],
          "name": "stdout"
        },
        {
          "output_type": "stream",
          "text": [
            "/usr/local/lib/python3.6/dist-packages/sklearn/neighbors/lof.py:253: UserWarning: n_neighbors (20) is greater than the total number of samples (13). n_neighbors will be set to (n_samples - 1) for estimation.\n",
            "  % (self.n_neighbors, n_samples))\n"
          ],
          "name": "stderr"
        },
        {
          "output_type": "stream",
          "text": [
            "Epsilon:  0.317\n",
            "Seed Percentage : 90 Contamination:  0.05\n",
            "original_std :  774.2228361395704\n"
          ],
          "name": "stdout"
        },
        {
          "output_type": "stream",
          "text": [
            "/usr/local/lib/python3.6/dist-packages/sklearn/neighbors/lof.py:253: UserWarning: n_neighbors (20) is greater than the total number of samples (10). n_neighbors will be set to (n_samples - 1) for estimation.\n",
            "  % (self.n_neighbors, n_samples))\n"
          ],
          "name": "stderr"
        },
        {
          "output_type": "stream",
          "text": [
            "Epsilon:  0.655\n",
            "Seed Percentage : 88 Contamination:  0.06\n",
            "original_std :  577.4290480704582\n"
          ],
          "name": "stdout"
        },
        {
          "output_type": "stream",
          "text": [
            "/usr/local/lib/python3.6/dist-packages/sklearn/neighbors/lof.py:253: UserWarning: n_neighbors (20) is greater than the total number of samples (10). n_neighbors will be set to (n_samples - 1) for estimation.\n",
            "  % (self.n_neighbors, n_samples))\n"
          ],
          "name": "stderr"
        },
        {
          "output_type": "stream",
          "text": [
            "Epsilon:  0.248\n",
            "Seed Percentage : 88 Contamination:  0.06\n",
            "original_std :  414.68863821747834\n"
          ],
          "name": "stdout"
        },
        {
          "output_type": "stream",
          "text": [
            "/usr/local/lib/python3.6/dist-packages/sklearn/neighbors/lof.py:253: UserWarning: n_neighbors (20) is greater than the total number of samples (12). n_neighbors will be set to (n_samples - 1) for estimation.\n",
            "  % (self.n_neighbors, n_samples))\n"
          ],
          "name": "stderr"
        },
        {
          "output_type": "stream",
          "text": [
            "Epsilon:  0.614\n",
            "Seed Percentage : 88 Contamination:  0.06\n",
            "original_std :  622.9410530343586\n"
          ],
          "name": "stdout"
        },
        {
          "output_type": "stream",
          "text": [
            "/usr/local/lib/python3.6/dist-packages/sklearn/neighbors/lof.py:253: UserWarning: n_neighbors (20) is greater than the total number of samples (9). n_neighbors will be set to (n_samples - 1) for estimation.\n",
            "  % (self.n_neighbors, n_samples))\n"
          ],
          "name": "stderr"
        },
        {
          "output_type": "stream",
          "text": [
            "Epsilon:  0.686\n",
            "Seed Percentage : 88 Contamination:  0.06\n",
            "original_std :  32.113081446662825\n"
          ],
          "name": "stdout"
        },
        {
          "output_type": "stream",
          "text": [
            "/usr/local/lib/python3.6/dist-packages/sklearn/neighbors/lof.py:253: UserWarning: n_neighbors (20) is greater than the total number of samples (6). n_neighbors will be set to (n_samples - 1) for estimation.\n",
            "  % (self.n_neighbors, n_samples))\n"
          ],
          "name": "stderr"
        },
        {
          "output_type": "stream",
          "text": [
            "Epsilon:  0.4\n",
            "Seed Percentage : 88 Contamination:  0.06\n",
            "original_std :  689.265410096543\n"
          ],
          "name": "stdout"
        },
        {
          "output_type": "stream",
          "text": [
            "/usr/local/lib/python3.6/dist-packages/sklearn/neighbors/lof.py:253: UserWarning: n_neighbors (20) is greater than the total number of samples (12). n_neighbors will be set to (n_samples - 1) for estimation.\n",
            "  % (self.n_neighbors, n_samples))\n"
          ],
          "name": "stderr"
        },
        {
          "output_type": "stream",
          "text": [
            "Epsilon:  0.635\n",
            "Seed Percentage : 88 Contamination:  0.06\n",
            "original_std :  0.0\n"
          ],
          "name": "stdout"
        },
        {
          "output_type": "stream",
          "text": [
            "/usr/local/lib/python3.6/dist-packages/sklearn/neighbors/lof.py:253: UserWarning: n_neighbors (20) is greater than the total number of samples (6). n_neighbors will be set to (n_samples - 1) for estimation.\n",
            "  % (self.n_neighbors, n_samples))\n"
          ],
          "name": "stderr"
        },
        {
          "output_type": "stream",
          "text": [
            "Epsilon:  0.5\n",
            "Seed Percentage : 90 Contamination:  0.05\n",
            "original_std :  774.2228361395704\n"
          ],
          "name": "stdout"
        },
        {
          "output_type": "stream",
          "text": [
            "/usr/local/lib/python3.6/dist-packages/sklearn/neighbors/lof.py:253: UserWarning: n_neighbors (20) is greater than the total number of samples (7). n_neighbors will be set to (n_samples - 1) for estimation.\n",
            "  % (self.n_neighbors, n_samples))\n"
          ],
          "name": "stderr"
        },
        {
          "output_type": "stream",
          "text": [
            "Epsilon:  0.655\n",
            "Seed Percentage : 88 Contamination:  0.06\n",
            "original_std :  20.463381929681123\n"
          ],
          "name": "stdout"
        },
        {
          "output_type": "stream",
          "text": [
            "/usr/local/lib/python3.6/dist-packages/sklearn/neighbors/lof.py:253: UserWarning: n_neighbors (20) is greater than the total number of samples (10). n_neighbors will be set to (n_samples - 1) for estimation.\n",
            "  % (self.n_neighbors, n_samples))\n"
          ],
          "name": "stderr"
        },
        {
          "output_type": "stream",
          "text": [
            "Epsilon:  0.5\n",
            "Seed Percentage : 88 Contamination:  0.06\n",
            "original_std :  19.351738834491524\n"
          ],
          "name": "stdout"
        },
        {
          "output_type": "stream",
          "text": [
            "/usr/local/lib/python3.6/dist-packages/sklearn/neighbors/lof.py:253: UserWarning: n_neighbors (20) is greater than the total number of samples (8). n_neighbors will be set to (n_samples - 1) for estimation.\n",
            "  % (self.n_neighbors, n_samples))\n"
          ],
          "name": "stderr"
        },
        {
          "output_type": "stream",
          "text": [
            "Epsilon:  0.6\n",
            "Seed Percentage : 94 Contamination:  0.03\n",
            "original_std :  693.088298195509\n"
          ],
          "name": "stdout"
        },
        {
          "output_type": "stream",
          "text": [
            "/usr/local/lib/python3.6/dist-packages/sklearn/neighbors/lof.py:253: UserWarning: n_neighbors (20) is greater than the total number of samples (7). n_neighbors will be set to (n_samples - 1) for estimation.\n",
            "  % (self.n_neighbors, n_samples))\n"
          ],
          "name": "stderr"
        },
        {
          "output_type": "stream",
          "text": [
            "Epsilon:  0.168\n",
            "Seed Percentage : 88 Contamination:  0.06\n",
            "original_std :  850.2144337361801\n",
            "Epsilon:  0.421\n",
            "Seed Percentage : 88 Contamination:  0.06\n",
            "original_std :  636.4643002993613\n"
          ],
          "name": "stdout"
        },
        {
          "output_type": "stream",
          "text": [
            "/usr/local/lib/python3.6/dist-packages/sklearn/neighbors/lof.py:253: UserWarning: n_neighbors (20) is greater than the total number of samples (6). n_neighbors will be set to (n_samples - 1) for estimation.\n",
            "  % (self.n_neighbors, n_samples))\n"
          ],
          "name": "stderr"
        },
        {
          "output_type": "stream",
          "text": [
            "Epsilon:  0.444\n",
            "Seed Percentage : 91 Contamination:  0.045\n",
            "original_std :  547.2729107939556\n"
          ],
          "name": "stdout"
        },
        {
          "output_type": "stream",
          "text": [
            "/usr/local/lib/python3.6/dist-packages/sklearn/neighbors/lof.py:253: UserWarning: n_neighbors (20) is greater than the total number of samples (6). n_neighbors will be set to (n_samples - 1) for estimation.\n",
            "  % (self.n_neighbors, n_samples))\n"
          ],
          "name": "stderr"
        },
        {
          "output_type": "stream",
          "text": [
            "Epsilon:  0.311\n",
            "Seed Percentage : 88 Contamination:  0.06\n",
            "original_std :  302.3059524536176\n"
          ],
          "name": "stdout"
        },
        {
          "output_type": "stream",
          "text": [
            "/usr/local/lib/python3.6/dist-packages/sklearn/neighbors/lof.py:253: UserWarning: n_neighbors (20) is greater than the total number of samples (12). n_neighbors will be set to (n_samples - 1) for estimation.\n",
            "  % (self.n_neighbors, n_samples))\n"
          ],
          "name": "stderr"
        },
        {
          "output_type": "stream",
          "text": [
            "Epsilon:  0.474\n",
            "Seed Percentage : 88 Contamination:  0.06\n",
            "original_std :  33.87507433433947\n"
          ],
          "name": "stdout"
        },
        {
          "output_type": "stream",
          "text": [
            "/usr/local/lib/python3.6/dist-packages/sklearn/neighbors/lof.py:253: UserWarning: n_neighbors (20) is greater than the total number of samples (6). n_neighbors will be set to (n_samples - 1) for estimation.\n",
            "  % (self.n_neighbors, n_samples))\n"
          ],
          "name": "stderr"
        },
        {
          "output_type": "stream",
          "text": [
            "Epsilon:  0.4\n",
            "Seed Percentage : 88 Contamination:  0.06\n",
            "original_std :  799.8858124878767\n"
          ],
          "name": "stdout"
        },
        {
          "output_type": "stream",
          "text": [
            "/usr/local/lib/python3.6/dist-packages/sklearn/neighbors/lof.py:253: UserWarning: n_neighbors (20) is greater than the total number of samples (11). n_neighbors will be set to (n_samples - 1) for estimation.\n",
            "  % (self.n_neighbors, n_samples))\n"
          ],
          "name": "stderr"
        },
        {
          "output_type": "stream",
          "text": [
            "Epsilon:  0.143\n",
            "Seed Percentage : 88 Contamination:  0.06\n",
            "original_std :  413.9854881212625\n"
          ],
          "name": "stdout"
        },
        {
          "output_type": "stream",
          "text": [
            "/usr/local/lib/python3.6/dist-packages/sklearn/neighbors/lof.py:253: UserWarning: n_neighbors (20) is greater than the total number of samples (19). n_neighbors will be set to (n_samples - 1) for estimation.\n",
            "  % (self.n_neighbors, n_samples))\n"
          ],
          "name": "stderr"
        },
        {
          "output_type": "stream",
          "text": [
            "Epsilon:  0.534\n",
            "Seed Percentage : 90 Contamination:  0.05\n",
            "original_std :  1064.410720260697\n"
          ],
          "name": "stdout"
        },
        {
          "output_type": "stream",
          "text": [
            "/usr/local/lib/python3.6/dist-packages/sklearn/neighbors/lof.py:253: UserWarning: n_neighbors (20) is greater than the total number of samples (8). n_neighbors will be set to (n_samples - 1) for estimation.\n",
            "  % (self.n_neighbors, n_samples))\n"
          ],
          "name": "stderr"
        },
        {
          "output_type": "stream",
          "text": [
            "Epsilon:  0.503\n",
            "Seed Percentage : 88 Contamination:  0.06\n",
            "original_std :  27539.76135618382\n",
            "Epsilon:  0.67\n",
            "Seed Percentage : 88 Contamination:  0.06\n",
            "original_std :  16053.079811318807\n"
          ],
          "name": "stdout"
        },
        {
          "output_type": "stream",
          "text": [
            "/usr/local/lib/python3.6/dist-packages/sklearn/neighbors/lof.py:253: UserWarning: n_neighbors (20) is greater than the total number of samples (6). n_neighbors will be set to (n_samples - 1) for estimation.\n",
            "  % (self.n_neighbors, n_samples))\n"
          ],
          "name": "stderr"
        },
        {
          "output_type": "stream",
          "text": [
            "Epsilon:  0.99\n",
            "Seed Percentage : 88 Contamination:  0.06\n",
            "original_std :  63085.11213754956\n"
          ],
          "name": "stdout"
        },
        {
          "output_type": "stream",
          "text": [
            "/usr/local/lib/python3.6/dist-packages/sklearn/neighbors/lof.py:253: UserWarning: n_neighbors (20) is greater than the total number of samples (7). n_neighbors will be set to (n_samples - 1) for estimation.\n",
            "  % (self.n_neighbors, n_samples))\n"
          ],
          "name": "stderr"
        },
        {
          "output_type": "stream",
          "text": [
            "Epsilon:  0.4\n",
            "Seed Percentage : 88 Contamination:  0.06\n",
            "original_std :  8731.387434458067\n"
          ],
          "name": "stdout"
        },
        {
          "output_type": "stream",
          "text": [
            "/usr/local/lib/python3.6/dist-packages/sklearn/neighbors/lof.py:253: UserWarning: n_neighbors (20) is greater than the total number of samples (19). n_neighbors will be set to (n_samples - 1) for estimation.\n",
            "  % (self.n_neighbors, n_samples))\n"
          ],
          "name": "stderr"
        },
        {
          "output_type": "stream",
          "text": [
            "Epsilon:  0.752\n",
            "Seed Percentage : 91 Contamination:  0.045\n",
            "original_std :  466.2944944512594\n"
          ],
          "name": "stdout"
        },
        {
          "output_type": "stream",
          "text": [
            "/usr/local/lib/python3.6/dist-packages/sklearn/neighbors/lof.py:253: UserWarning: n_neighbors (20) is greater than the total number of samples (7). n_neighbors will be set to (n_samples - 1) for estimation.\n",
            "  % (self.n_neighbors, n_samples))\n"
          ],
          "name": "stderr"
        },
        {
          "output_type": "stream",
          "text": [
            "Epsilon:  0.588\n",
            "Seed Percentage : 91 Contamination:  0.045\n",
            "original_std :  466.2944944512594\n"
          ],
          "name": "stdout"
        },
        {
          "output_type": "stream",
          "text": [
            "/usr/local/lib/python3.6/dist-packages/sklearn/neighbors/lof.py:253: UserWarning: n_neighbors (20) is greater than the total number of samples (12). n_neighbors will be set to (n_samples - 1) for estimation.\n",
            "  % (self.n_neighbors, n_samples))\n"
          ],
          "name": "stderr"
        },
        {
          "output_type": "stream",
          "text": [
            "Epsilon:  0.588\n",
            "Seed Percentage : 88 Contamination:  0.06\n",
            "original_std :  668.1354343826451\n"
          ],
          "name": "stdout"
        },
        {
          "output_type": "stream",
          "text": [
            "/usr/local/lib/python3.6/dist-packages/sklearn/neighbors/lof.py:253: UserWarning: n_neighbors (20) is greater than the total number of samples (12). n_neighbors will be set to (n_samples - 1) for estimation.\n",
            "  % (self.n_neighbors, n_samples))\n"
          ],
          "name": "stderr"
        },
        {
          "output_type": "stream",
          "text": [
            "Epsilon:  0.3\n",
            "Seed Percentage : 90 Contamination:  0.05\n",
            "original_std :  480.18591440888207\n"
          ],
          "name": "stdout"
        },
        {
          "output_type": "stream",
          "text": [
            "/usr/local/lib/python3.6/dist-packages/sklearn/neighbors/lof.py:253: UserWarning: n_neighbors (20) is greater than the total number of samples (11). n_neighbors will be set to (n_samples - 1) for estimation.\n",
            "  % (self.n_neighbors, n_samples))\n"
          ],
          "name": "stderr"
        },
        {
          "output_type": "stream",
          "text": [
            "Epsilon:  0.588\n",
            "Seed Percentage : 88 Contamination:  0.06\n",
            "original_std :  6407.594377210307\n"
          ],
          "name": "stdout"
        },
        {
          "output_type": "stream",
          "text": [
            "/usr/local/lib/python3.6/dist-packages/sklearn/neighbors/lof.py:253: UserWarning: n_neighbors (20) is greater than the total number of samples (11). n_neighbors will be set to (n_samples - 1) for estimation.\n",
            "  % (self.n_neighbors, n_samples))\n"
          ],
          "name": "stderr"
        },
        {
          "output_type": "stream",
          "text": [
            "Epsilon:  0.459\n",
            "Seed Percentage : 88 Contamination:  0.06\n",
            "original_std :  49528.491079089305\n",
            "Epsilon:  0.641\n",
            "Seed Percentage : 88 Contamination:  0.06\n",
            "original_std :  8614.087299302231\n"
          ],
          "name": "stdout"
        },
        {
          "output_type": "stream",
          "text": [
            "/usr/local/lib/python3.6/dist-packages/sklearn/neighbors/lof.py:253: UserWarning: n_neighbors (20) is greater than the total number of samples (7). n_neighbors will be set to (n_samples - 1) for estimation.\n",
            "  % (self.n_neighbors, n_samples))\n"
          ],
          "name": "stderr"
        },
        {
          "output_type": "stream",
          "text": [
            "Epsilon:  0.612\n",
            "Seed Percentage : 88 Contamination:  0.06\n",
            "original_std :  580.2884574739973\n"
          ],
          "name": "stdout"
        },
        {
          "output_type": "stream",
          "text": [
            "/usr/local/lib/python3.6/dist-packages/sklearn/neighbors/lof.py:253: UserWarning: n_neighbors (20) is greater than the total number of samples (10). n_neighbors will be set to (n_samples - 1) for estimation.\n",
            "  % (self.n_neighbors, n_samples))\n"
          ],
          "name": "stderr"
        },
        {
          "output_type": "stream",
          "text": [
            "Epsilon:  0.75\n",
            "Seed Percentage : 88 Contamination:  0.06\n",
            "original_std :  159589.3166850463\n"
          ],
          "name": "stdout"
        },
        {
          "output_type": "stream",
          "text": [
            "/usr/local/lib/python3.6/dist-packages/sklearn/neighbors/lof.py:253: UserWarning: n_neighbors (20) is greater than the total number of samples (7). n_neighbors will be set to (n_samples - 1) for estimation.\n",
            "  % (self.n_neighbors, n_samples))\n"
          ],
          "name": "stderr"
        },
        {
          "output_type": "stream",
          "text": [
            "Epsilon:  0.222\n",
            "Seed Percentage : 88 Contamination:  0.06\n",
            "original_std :  126994.9380318534\n"
          ],
          "name": "stdout"
        },
        {
          "output_type": "stream",
          "text": [
            "/usr/local/lib/python3.6/dist-packages/sklearn/neighbors/lof.py:253: UserWarning: n_neighbors (20) is greater than the total number of samples (8). n_neighbors will be set to (n_samples - 1) for estimation.\n",
            "  % (self.n_neighbors, n_samples))\n"
          ],
          "name": "stderr"
        },
        {
          "output_type": "stream",
          "text": [
            "Epsilon:  0.543\n",
            "Seed Percentage : 88 Contamination:  0.06\n",
            "original_std :  159589.3166850463\n"
          ],
          "name": "stdout"
        },
        {
          "output_type": "stream",
          "text": [
            "/usr/local/lib/python3.6/dist-packages/sklearn/neighbors/lof.py:253: UserWarning: n_neighbors (20) is greater than the total number of samples (7). n_neighbors will be set to (n_samples - 1) for estimation.\n",
            "  % (self.n_neighbors, n_samples))\n"
          ],
          "name": "stderr"
        },
        {
          "output_type": "stream",
          "text": [
            "Epsilon:  0.222\n",
            "Seed Percentage : 88 Contamination:  0.06\n",
            "original_std :  261.66655834306005\n"
          ],
          "name": "stdout"
        },
        {
          "output_type": "stream",
          "text": [
            "/usr/local/lib/python3.6/dist-packages/sklearn/neighbors/lof.py:253: UserWarning: n_neighbors (20) is greater than the total number of samples (8). n_neighbors will be set to (n_samples - 1) for estimation.\n",
            "  % (self.n_neighbors, n_samples))\n"
          ],
          "name": "stderr"
        },
        {
          "output_type": "stream",
          "text": [
            "Epsilon:  0.267\n",
            "Seed Percentage : 88 Contamination:  0.06\n",
            "original_std :  1526.0338895643065\n"
          ],
          "name": "stdout"
        },
        {
          "output_type": "stream",
          "text": [
            "/usr/local/lib/python3.6/dist-packages/sklearn/neighbors/lof.py:253: UserWarning: n_neighbors (20) is greater than the total number of samples (7). n_neighbors will be set to (n_samples - 1) for estimation.\n",
            "  % (self.n_neighbors, n_samples))\n"
          ],
          "name": "stderr"
        },
        {
          "output_type": "stream",
          "text": [
            "Epsilon:  0.709\n",
            "Seed Percentage : 88 Contamination:  0.06\n",
            "original_std :  241.29533252841838\n"
          ],
          "name": "stdout"
        },
        {
          "output_type": "stream",
          "text": [
            "/usr/local/lib/python3.6/dist-packages/sklearn/neighbors/lof.py:253: UserWarning: n_neighbors (20) is greater than the total number of samples (9). n_neighbors will be set to (n_samples - 1) for estimation.\n",
            "  % (self.n_neighbors, n_samples))\n"
          ],
          "name": "stderr"
        },
        {
          "output_type": "stream",
          "text": [
            "Epsilon:  0.325\n",
            "Seed Percentage : 88 Contamination:  0.06\n",
            "original_std :  276.38539919628334\n"
          ],
          "name": "stdout"
        },
        {
          "output_type": "stream",
          "text": [
            "/usr/local/lib/python3.6/dist-packages/sklearn/neighbors/lof.py:253: UserWarning: n_neighbors (20) is greater than the total number of samples (8). n_neighbors will be set to (n_samples - 1) for estimation.\n",
            "  % (self.n_neighbors, n_samples))\n"
          ],
          "name": "stderr"
        },
        {
          "output_type": "stream",
          "text": [
            "Epsilon:  0.4\n",
            "Seed Percentage : 88 Contamination:  0.06\n",
            "original_std :  21042.112155166775\n"
          ],
          "name": "stdout"
        },
        {
          "output_type": "stream",
          "text": [
            "/usr/local/lib/python3.6/dist-packages/sklearn/neighbors/lof.py:253: UserWarning: n_neighbors (20) is greater than the total number of samples (6). n_neighbors will be set to (n_samples - 1) for estimation.\n",
            "  % (self.n_neighbors, n_samples))\n"
          ],
          "name": "stderr"
        },
        {
          "output_type": "stream",
          "text": [
            "Epsilon:  0.31\n",
            "Seed Percentage : 88 Contamination:  0.06\n",
            "original_std :  23833.851975708836\n"
          ],
          "name": "stdout"
        },
        {
          "output_type": "stream",
          "text": [
            "/usr/local/lib/python3.6/dist-packages/sklearn/neighbors/lof.py:253: UserWarning: n_neighbors (20) is greater than the total number of samples (9). n_neighbors will be set to (n_samples - 1) for estimation.\n",
            "  % (self.n_neighbors, n_samples))\n"
          ],
          "name": "stderr"
        },
        {
          "output_type": "stream",
          "text": [
            "Epsilon:  0.278\n",
            "Seed Percentage : 88 Contamination:  0.06\n",
            "original_std :  17608.84517994944\n"
          ],
          "name": "stdout"
        },
        {
          "output_type": "stream",
          "text": [
            "/usr/local/lib/python3.6/dist-packages/sklearn/neighbors/lof.py:253: UserWarning: n_neighbors (20) is greater than the total number of samples (10). n_neighbors will be set to (n_samples - 1) for estimation.\n",
            "  % (self.n_neighbors, n_samples))\n"
          ],
          "name": "stderr"
        },
        {
          "output_type": "stream",
          "text": [
            "Epsilon:  0.495\n",
            "Seed Percentage : 88 Contamination:  0.06\n",
            "original_std :  16085.707942145413\n"
          ],
          "name": "stdout"
        },
        {
          "output_type": "stream",
          "text": [
            "/usr/local/lib/python3.6/dist-packages/sklearn/neighbors/lof.py:253: UserWarning: n_neighbors (20) is greater than the total number of samples (7). n_neighbors will be set to (n_samples - 1) for estimation.\n",
            "  % (self.n_neighbors, n_samples))\n"
          ],
          "name": "stderr"
        },
        {
          "output_type": "stream",
          "text": [
            "Epsilon:  0.351\n",
            "Seed Percentage : 96 Contamination:  0.02\n",
            "original_std :  74586.20687331355\n"
          ],
          "name": "stdout"
        },
        {
          "output_type": "stream",
          "text": [
            "/usr/local/lib/python3.6/dist-packages/sklearn/neighbors/lof.py:253: UserWarning: n_neighbors (20) is greater than the total number of samples (8). n_neighbors will be set to (n_samples - 1) for estimation.\n",
            "  % (self.n_neighbors, n_samples))\n"
          ],
          "name": "stderr"
        },
        {
          "output_type": "stream",
          "text": [
            "Epsilon:  0.212\n",
            "Seed Percentage : 88 Contamination:  0.06\n",
            "original_std :  64813.13858573224\n",
            "Epsilon:  0.251\n",
            "Seed Percentage : 88 Contamination:  0.06\n",
            "original_std :  0.0\n"
          ],
          "name": "stdout"
        },
        {
          "output_type": "stream",
          "text": [
            "/usr/local/lib/python3.6/dist-packages/sklearn/neighbors/lof.py:253: UserWarning: n_neighbors (20) is greater than the total number of samples (15). n_neighbors will be set to (n_samples - 1) for estimation.\n",
            "  % (self.n_neighbors, n_samples))\n"
          ],
          "name": "stderr"
        },
        {
          "output_type": "stream",
          "text": [
            "Epsilon:  0.5\n",
            "Seed Percentage : 88 Contamination:  0.06\n",
            "original_std :  0.0\n",
            "Epsilon:  0.5\n",
            "Seed Percentage : 88 Contamination:  0.06\n",
            "original_std :  0.0\n",
            "Epsilon:  0.5\n",
            "Seed Percentage : 88 Contamination:  0.06\n",
            "original_std :  846.5309110323931\n",
            "Epsilon:  0.48\n",
            "Seed Percentage : 88 Contamination:  0.06\n",
            "original_std :  592.572086159919\n"
          ],
          "name": "stdout"
        },
        {
          "output_type": "stream",
          "text": [
            "/usr/local/lib/python3.6/dist-packages/sklearn/neighbors/lof.py:253: UserWarning: n_neighbors (20) is greater than the total number of samples (6). n_neighbors will be set to (n_samples - 1) for estimation.\n",
            "  % (self.n_neighbors, n_samples))\n"
          ],
          "name": "stderr"
        },
        {
          "output_type": "stream",
          "text": [
            "Epsilon:  0.89\n",
            "Seed Percentage : 88 Contamination:  0.06\n",
            "original_std :  0.0\n",
            "Epsilon:  0.5\n",
            "Seed Percentage : 88 Contamination:  0.06\n",
            "original_std :  253429.5377659141\n",
            "Epsilon:  0.702\n",
            "Seed Percentage : 88 Contamination:  0.06\n",
            "original_std :  158710.07809489884\n"
          ],
          "name": "stdout"
        },
        {
          "output_type": "stream",
          "text": [
            "/usr/local/lib/python3.6/dist-packages/sklearn/neighbors/lof.py:253: UserWarning: n_neighbors (20) is greater than the total number of samples (7). n_neighbors will be set to (n_samples - 1) for estimation.\n",
            "  % (self.n_neighbors, n_samples))\n"
          ],
          "name": "stderr"
        },
        {
          "output_type": "stream",
          "text": [
            "Epsilon:  0.523\n",
            "Seed Percentage : 88 Contamination:  0.06\n",
            "original_std :  55.18277710381101\n"
          ],
          "name": "stdout"
        },
        {
          "output_type": "stream",
          "text": [
            "/usr/local/lib/python3.6/dist-packages/sklearn/neighbors/lof.py:253: UserWarning: n_neighbors (20) is greater than the total number of samples (9). n_neighbors will be set to (n_samples - 1) for estimation.\n",
            "  % (self.n_neighbors, n_samples))\n"
          ],
          "name": "stderr"
        },
        {
          "output_type": "stream",
          "text": [
            "Epsilon:  0.419\n",
            "Seed Percentage : 88 Contamination:  0.06\n",
            "original_std :  13124.356427370183\n"
          ],
          "name": "stdout"
        },
        {
          "output_type": "stream",
          "text": [
            "/usr/local/lib/python3.6/dist-packages/sklearn/neighbors/lof.py:253: UserWarning: n_neighbors (20) is greater than the total number of samples (6). n_neighbors will be set to (n_samples - 1) for estimation.\n",
            "  % (self.n_neighbors, n_samples))\n"
          ],
          "name": "stderr"
        },
        {
          "output_type": "stream",
          "text": [
            "Epsilon:  0.503\n",
            "Seed Percentage : 90 Contamination:  0.05\n",
            "original_std :  25624.35972858639\n"
          ],
          "name": "stdout"
        },
        {
          "output_type": "stream",
          "text": [
            "/usr/local/lib/python3.6/dist-packages/sklearn/neighbors/lof.py:253: UserWarning: n_neighbors (20) is greater than the total number of samples (7). n_neighbors will be set to (n_samples - 1) for estimation.\n",
            "  % (self.n_neighbors, n_samples))\n"
          ],
          "name": "stderr"
        },
        {
          "output_type": "stream",
          "text": [
            "Epsilon:  0.621\n",
            "Seed Percentage : 95 Contamination:  0.025\n",
            "original_std :  13055.644925503808\n"
          ],
          "name": "stdout"
        },
        {
          "output_type": "stream",
          "text": [
            "/usr/local/lib/python3.6/dist-packages/sklearn/neighbors/lof.py:253: UserWarning: n_neighbors (20) is greater than the total number of samples (10). n_neighbors will be set to (n_samples - 1) for estimation.\n",
            "  % (self.n_neighbors, n_samples))\n"
          ],
          "name": "stderr"
        },
        {
          "output_type": "stream",
          "text": [
            "Epsilon:  0.296\n",
            "Seed Percentage : 88 Contamination:  0.06\n",
            "original_std :  5426.127954935576\n",
            "Epsilon:  0.83\n",
            "Seed Percentage : 89 Contamination:  0.055\n",
            "original_std :  5040.95863734067\n"
          ],
          "name": "stdout"
        },
        {
          "output_type": "stream",
          "text": [
            "/usr/local/lib/python3.6/dist-packages/sklearn/neighbors/lof.py:253: UserWarning: n_neighbors (20) is greater than the total number of samples (6). n_neighbors will be set to (n_samples - 1) for estimation.\n",
            "  % (self.n_neighbors, n_samples))\n"
          ],
          "name": "stderr"
        },
        {
          "output_type": "stream",
          "text": [
            "Epsilon:  0.375\n",
            "Seed Percentage : 88 Contamination:  0.06\n",
            "original_std :  5305.220502800363\n"
          ],
          "name": "stdout"
        },
        {
          "output_type": "stream",
          "text": [
            "/usr/local/lib/python3.6/dist-packages/sklearn/neighbors/lof.py:253: UserWarning: n_neighbors (20) is greater than the total number of samples (19). n_neighbors will be set to (n_samples - 1) for estimation.\n",
            "  % (self.n_neighbors, n_samples))\n"
          ],
          "name": "stderr"
        },
        {
          "output_type": "stream",
          "text": [
            "Epsilon:  0.83\n",
            "Seed Percentage : 88 Contamination:  0.06\n",
            "original_std :  443.16334460331893\n"
          ],
          "name": "stdout"
        },
        {
          "output_type": "stream",
          "text": [
            "/usr/local/lib/python3.6/dist-packages/sklearn/neighbors/lof.py:253: UserWarning: n_neighbors (20) is greater than the total number of samples (6). n_neighbors will be set to (n_samples - 1) for estimation.\n",
            "  % (self.n_neighbors, n_samples))\n"
          ],
          "name": "stderr"
        },
        {
          "output_type": "stream",
          "text": [
            "Epsilon:  1.0\n",
            "Seed Percentage : 88 Contamination:  0.06\n",
            "original_std :  414.81294311747047\n"
          ],
          "name": "stdout"
        },
        {
          "output_type": "stream",
          "text": [
            "/usr/local/lib/python3.6/dist-packages/sklearn/neighbors/lof.py:253: UserWarning: n_neighbors (20) is greater than the total number of samples (8). n_neighbors will be set to (n_samples - 1) for estimation.\n",
            "  % (self.n_neighbors, n_samples))\n"
          ],
          "name": "stderr"
        },
        {
          "output_type": "stream",
          "text": [
            "Epsilon:  0.819\n",
            "Seed Percentage : 88 Contamination:  0.06\n",
            "original_std :  12898.402413335016\n"
          ],
          "name": "stdout"
        },
        {
          "output_type": "stream",
          "text": [
            "/usr/local/lib/python3.6/dist-packages/sklearn/neighbors/lof.py:253: UserWarning: n_neighbors (20) is greater than the total number of samples (9). n_neighbors will be set to (n_samples - 1) for estimation.\n",
            "  % (self.n_neighbors, n_samples))\n"
          ],
          "name": "stderr"
        },
        {
          "output_type": "stream",
          "text": [
            "Epsilon:  0.846\n",
            "Seed Percentage : 88 Contamination:  0.06\n",
            "original_std :  0.0\n"
          ],
          "name": "stdout"
        },
        {
          "output_type": "stream",
          "text": [
            "/usr/local/lib/python3.6/dist-packages/sklearn/neighbors/lof.py:253: UserWarning: n_neighbors (20) is greater than the total number of samples (7). n_neighbors will be set to (n_samples - 1) for estimation.\n",
            "  % (self.n_neighbors, n_samples))\n"
          ],
          "name": "stderr"
        },
        {
          "output_type": "stream",
          "text": [
            "Epsilon:  0.5\n",
            "Seed Percentage : 88 Contamination:  0.06\n",
            "original_std :  26523.05077139925\n"
          ],
          "name": "stdout"
        },
        {
          "output_type": "stream",
          "text": [
            "/usr/local/lib/python3.6/dist-packages/sklearn/neighbors/lof.py:253: UserWarning: n_neighbors (20) is greater than the total number of samples (7). n_neighbors will be set to (n_samples - 1) for estimation.\n",
            "  % (self.n_neighbors, n_samples))\n"
          ],
          "name": "stderr"
        },
        {
          "output_type": "stream",
          "text": [
            "Epsilon:  0.706\n",
            "Seed Percentage : 88 Contamination:  0.06\n",
            "original_std :  298881.1107570148\n"
          ],
          "name": "stdout"
        },
        {
          "output_type": "stream",
          "text": [
            "/usr/local/lib/python3.6/dist-packages/sklearn/neighbors/lof.py:253: UserWarning: n_neighbors (20) is greater than the total number of samples (6). n_neighbors will be set to (n_samples - 1) for estimation.\n",
            "  % (self.n_neighbors, n_samples))\n"
          ],
          "name": "stderr"
        },
        {
          "output_type": "stream",
          "text": [
            "Epsilon:  0.841\n",
            "Seed Percentage : 88 Contamination:  0.06\n",
            "original_std :  49025.22026694242\n"
          ],
          "name": "stdout"
        },
        {
          "output_type": "stream",
          "text": [
            "/usr/local/lib/python3.6/dist-packages/sklearn/neighbors/lof.py:253: UserWarning: n_neighbors (20) is greater than the total number of samples (7). n_neighbors will be set to (n_samples - 1) for estimation.\n",
            "  % (self.n_neighbors, n_samples))\n"
          ],
          "name": "stderr"
        },
        {
          "output_type": "stream",
          "text": [
            "Epsilon:  0.774\n",
            "Seed Percentage : 88 Contamination:  0.06\n",
            "original_std :  245436.47085241793\n"
          ],
          "name": "stdout"
        },
        {
          "output_type": "stream",
          "text": [
            "/usr/local/lib/python3.6/dist-packages/sklearn/neighbors/lof.py:253: UserWarning: n_neighbors (20) is greater than the total number of samples (6). n_neighbors will be set to (n_samples - 1) for estimation.\n",
            "  % (self.n_neighbors, n_samples))\n"
          ],
          "name": "stderr"
        },
        {
          "output_type": "stream",
          "text": [
            "Epsilon:  0.537\n",
            "Seed Percentage : 88 Contamination:  0.06\n",
            "original_std :  2324.1485896273216\n"
          ],
          "name": "stdout"
        },
        {
          "output_type": "stream",
          "text": [
            "/usr/local/lib/python3.6/dist-packages/sklearn/neighbors/lof.py:253: UserWarning: n_neighbors (20) is greater than the total number of samples (7). n_neighbors will be set to (n_samples - 1) for estimation.\n",
            "  % (self.n_neighbors, n_samples))\n"
          ],
          "name": "stderr"
        },
        {
          "output_type": "stream",
          "text": [
            "Epsilon:  0.797\n",
            "Seed Percentage : 87 Contamination:  0.065\n",
            "original_std :  2432.462743805134\n"
          ],
          "name": "stdout"
        },
        {
          "output_type": "stream",
          "text": [
            "/usr/local/lib/python3.6/dist-packages/sklearn/neighbors/lof.py:253: UserWarning: n_neighbors (20) is greater than the total number of samples (9). n_neighbors will be set to (n_samples - 1) for estimation.\n",
            "  % (self.n_neighbors, n_samples))\n"
          ],
          "name": "stderr"
        },
        {
          "output_type": "stream",
          "text": [
            "Epsilon:  0.797\n",
            "Seed Percentage : 88 Contamination:  0.06\n",
            "original_std :  2324.1485896273216\n"
          ],
          "name": "stdout"
        },
        {
          "output_type": "stream",
          "text": [
            "/usr/local/lib/python3.6/dist-packages/sklearn/neighbors/lof.py:253: UserWarning: n_neighbors (20) is greater than the total number of samples (8). n_neighbors will be set to (n_samples - 1) for estimation.\n",
            "  % (self.n_neighbors, n_samples))\n"
          ],
          "name": "stderr"
        },
        {
          "output_type": "stream",
          "text": [
            "Epsilon:  0.797\n",
            "Seed Percentage : 88 Contamination:  0.06\n",
            "original_std :  2324.1485896273216\n"
          ],
          "name": "stdout"
        },
        {
          "output_type": "stream",
          "text": [
            "/usr/local/lib/python3.6/dist-packages/sklearn/neighbors/lof.py:253: UserWarning: n_neighbors (20) is greater than the total number of samples (9). n_neighbors will be set to (n_samples - 1) for estimation.\n",
            "  % (self.n_neighbors, n_samples))\n"
          ],
          "name": "stderr"
        },
        {
          "output_type": "stream",
          "text": [
            "Epsilon:  0.797\n",
            "Seed Percentage : 87 Contamination:  0.065\n",
            "original_std :  2464.33941452877\n"
          ],
          "name": "stdout"
        },
        {
          "output_type": "stream",
          "text": [
            "/usr/local/lib/python3.6/dist-packages/sklearn/neighbors/lof.py:253: UserWarning: n_neighbors (20) is greater than the total number of samples (9). n_neighbors will be set to (n_samples - 1) for estimation.\n",
            "  % (self.n_neighbors, n_samples))\n"
          ],
          "name": "stderr"
        },
        {
          "output_type": "stream",
          "text": [
            "Epsilon:  0.797\n",
            "Seed Percentage : 88 Contamination:  0.06\n",
            "original_std :  2464.0890190651703\n"
          ],
          "name": "stdout"
        },
        {
          "output_type": "stream",
          "text": [
            "/usr/local/lib/python3.6/dist-packages/sklearn/neighbors/lof.py:253: UserWarning: n_neighbors (20) is greater than the total number of samples (8). n_neighbors will be set to (n_samples - 1) for estimation.\n",
            "  % (self.n_neighbors, n_samples))\n"
          ],
          "name": "stderr"
        },
        {
          "output_type": "stream",
          "text": [
            "Epsilon:  0.797\n",
            "Seed Percentage : 88 Contamination:  0.06\n",
            "original_std :  215541.9526062927\n"
          ],
          "name": "stdout"
        },
        {
          "output_type": "stream",
          "text": [
            "/usr/local/lib/python3.6/dist-packages/sklearn/neighbors/lof.py:253: UserWarning: n_neighbors (20) is greater than the total number of samples (7). n_neighbors will be set to (n_samples - 1) for estimation.\n",
            "  % (self.n_neighbors, n_samples))\n"
          ],
          "name": "stderr"
        },
        {
          "output_type": "stream",
          "text": [
            "Epsilon:  0.462\n",
            "Seed Percentage : 93 Contamination:  0.035\n",
            "original_std :  95595.58334753523\n"
          ],
          "name": "stdout"
        },
        {
          "output_type": "stream",
          "text": [
            "/usr/local/lib/python3.6/dist-packages/sklearn/neighbors/lof.py:253: UserWarning: n_neighbors (20) is greater than the total number of samples (6). n_neighbors will be set to (n_samples - 1) for estimation.\n",
            "  % (self.n_neighbors, n_samples))\n"
          ],
          "name": "stderr"
        },
        {
          "output_type": "stream",
          "text": [
            "Epsilon:  0.407\n",
            "Seed Percentage : 88 Contamination:  0.06\n",
            "original_std :  110953.88876510262\n"
          ],
          "name": "stdout"
        },
        {
          "output_type": "stream",
          "text": [
            "/usr/local/lib/python3.6/dist-packages/sklearn/neighbors/lof.py:253: UserWarning: n_neighbors (20) is greater than the total number of samples (15). n_neighbors will be set to (n_samples - 1) for estimation.\n",
            "  % (self.n_neighbors, n_samples))\n"
          ],
          "name": "stderr"
        },
        {
          "output_type": "stream",
          "text": [
            "Epsilon:  0.352\n",
            "Seed Percentage : 88 Contamination:  0.06\n",
            "original_std :  43969.6865275764\n"
          ],
          "name": "stdout"
        },
        {
          "output_type": "stream",
          "text": [
            "/usr/local/lib/python3.6/dist-packages/sklearn/neighbors/lof.py:253: UserWarning: n_neighbors (20) is greater than the total number of samples (9). n_neighbors will be set to (n_samples - 1) for estimation.\n",
            "  % (self.n_neighbors, n_samples))\n"
          ],
          "name": "stderr"
        },
        {
          "output_type": "stream",
          "text": [
            "Epsilon:  0.312\n",
            "Seed Percentage : 88 Contamination:  0.06\n",
            "original_std :  379613.29007293726\n"
          ],
          "name": "stdout"
        },
        {
          "output_type": "stream",
          "text": [
            "/usr/local/lib/python3.6/dist-packages/sklearn/neighbors/lof.py:253: UserWarning: n_neighbors (20) is greater than the total number of samples (9). n_neighbors will be set to (n_samples - 1) for estimation.\n",
            "  % (self.n_neighbors, n_samples))\n"
          ],
          "name": "stderr"
        },
        {
          "output_type": "stream",
          "text": [
            "Epsilon:  0.994\n",
            "Seed Percentage : 88 Contamination:  0.06\n",
            "original_std :  113594.21566846322\n"
          ],
          "name": "stdout"
        },
        {
          "output_type": "stream",
          "text": [
            "/usr/local/lib/python3.6/dist-packages/sklearn/neighbors/lof.py:253: UserWarning: n_neighbors (20) is greater than the total number of samples (8). n_neighbors will be set to (n_samples - 1) for estimation.\n",
            "  % (self.n_neighbors, n_samples))\n"
          ],
          "name": "stderr"
        },
        {
          "output_type": "stream",
          "text": [
            "Epsilon:  0.522\n",
            "Seed Percentage : 88 Contamination:  0.06\n",
            "original_std :  1030946.8409616904\n"
          ],
          "name": "stdout"
        },
        {
          "output_type": "stream",
          "text": [
            "/usr/local/lib/python3.6/dist-packages/sklearn/neighbors/lof.py:253: UserWarning: n_neighbors (20) is greater than the total number of samples (6). n_neighbors will be set to (n_samples - 1) for estimation.\n",
            "  % (self.n_neighbors, n_samples))\n"
          ],
          "name": "stderr"
        },
        {
          "output_type": "stream",
          "text": [
            "Epsilon:  0.339\n",
            "Seed Percentage : 88 Contamination:  0.06\n",
            "original_std :  1186425.1714710034\n"
          ],
          "name": "stdout"
        },
        {
          "output_type": "stream",
          "text": [
            "/usr/local/lib/python3.6/dist-packages/sklearn/neighbors/lof.py:253: UserWarning: n_neighbors (20) is greater than the total number of samples (12). n_neighbors will be set to (n_samples - 1) for estimation.\n",
            "  % (self.n_neighbors, n_samples))\n"
          ],
          "name": "stderr"
        },
        {
          "output_type": "stream",
          "text": [
            "Epsilon:  0.309\n",
            "Seed Percentage : 88 Contamination:  0.06\n",
            "original_std :  26.70702727977131\n"
          ],
          "name": "stdout"
        },
        {
          "output_type": "stream",
          "text": [
            "/usr/local/lib/python3.6/dist-packages/sklearn/neighbors/lof.py:253: UserWarning: n_neighbors (20) is greater than the total number of samples (8). n_neighbors will be set to (n_samples - 1) for estimation.\n",
            "  % (self.n_neighbors, n_samples))\n"
          ],
          "name": "stderr"
        },
        {
          "output_type": "stream",
          "text": [
            "Epsilon:  0.333\n",
            "Seed Percentage : 88 Contamination:  0.06\n",
            "original_std :  81.967981553775\n"
          ],
          "name": "stdout"
        },
        {
          "output_type": "stream",
          "text": [
            "/usr/local/lib/python3.6/dist-packages/sklearn/neighbors/lof.py:253: UserWarning: n_neighbors (20) is greater than the total number of samples (14). n_neighbors will be set to (n_samples - 1) for estimation.\n",
            "  % (self.n_neighbors, n_samples))\n"
          ],
          "name": "stderr"
        },
        {
          "output_type": "stream",
          "text": [
            "Epsilon:  0.75\n",
            "Seed Percentage : 88 Contamination:  0.06\n",
            "original_std :  32.99659846414599\n"
          ],
          "name": "stdout"
        },
        {
          "output_type": "stream",
          "text": [
            "/usr/local/lib/python3.6/dist-packages/sklearn/neighbors/lof.py:253: UserWarning: n_neighbors (20) is greater than the total number of samples (8). n_neighbors will be set to (n_samples - 1) for estimation.\n",
            "  % (self.n_neighbors, n_samples))\n"
          ],
          "name": "stderr"
        },
        {
          "output_type": "stream",
          "text": [
            "Epsilon:  0.5\n",
            "Seed Percentage : 88 Contamination:  0.06\n",
            "original_std :  683.6782504317207\n"
          ],
          "name": "stdout"
        },
        {
          "output_type": "stream",
          "text": [
            "/usr/local/lib/python3.6/dist-packages/sklearn/neighbors/lof.py:253: UserWarning: n_neighbors (20) is greater than the total number of samples (7). n_neighbors will be set to (n_samples - 1) for estimation.\n",
            "  % (self.n_neighbors, n_samples))\n"
          ],
          "name": "stderr"
        },
        {
          "output_type": "stream",
          "text": [
            "Epsilon:  0.671\n",
            "Seed Percentage : 88 Contamination:  0.06\n",
            "original_std :  0.0\n",
            "Epsilon:  0.5\n",
            "Seed Percentage : 87 Contamination:  0.065\n",
            "original_std :  164.78679407039874\n"
          ],
          "name": "stdout"
        },
        {
          "output_type": "stream",
          "text": [
            "/usr/local/lib/python3.6/dist-packages/sklearn/neighbors/lof.py:253: UserWarning: n_neighbors (20) is greater than the total number of samples (16). n_neighbors will be set to (n_samples - 1) for estimation.\n",
            "  % (self.n_neighbors, n_samples))\n"
          ],
          "name": "stderr"
        },
        {
          "output_type": "stream",
          "text": [
            "Epsilon:  0.732\n",
            "Seed Percentage : 88 Contamination:  0.06\n",
            "original_std :  31.18047822311618\n"
          ],
          "name": "stdout"
        },
        {
          "output_type": "stream",
          "text": [
            "/usr/local/lib/python3.6/dist-packages/sklearn/neighbors/lof.py:253: UserWarning: n_neighbors (20) is greater than the total number of samples (8). n_neighbors will be set to (n_samples - 1) for estimation.\n",
            "  % (self.n_neighbors, n_samples))\n"
          ],
          "name": "stderr"
        },
        {
          "output_type": "stream",
          "text": [
            "Epsilon:  0.667\n",
            "Seed Percentage : 86 Contamination:  0.07\n",
            "original_std :  384.04372436250304\n"
          ],
          "name": "stdout"
        },
        {
          "output_type": "stream",
          "text": [
            "/usr/local/lib/python3.6/dist-packages/sklearn/neighbors/lof.py:253: UserWarning: n_neighbors (20) is greater than the total number of samples (6). n_neighbors will be set to (n_samples - 1) for estimation.\n",
            "  % (self.n_neighbors, n_samples))\n"
          ],
          "name": "stderr"
        },
        {
          "output_type": "stream",
          "text": [
            "Epsilon:  0.767\n",
            "Seed Percentage : 88 Contamination:  0.06\n",
            "original_std :  30.58823529411765\n"
          ],
          "name": "stdout"
        },
        {
          "output_type": "stream",
          "text": [
            "/usr/local/lib/python3.6/dist-packages/sklearn/neighbors/lof.py:253: UserWarning: n_neighbors (20) is greater than the total number of samples (15). n_neighbors will be set to (n_samples - 1) for estimation.\n",
            "  % (self.n_neighbors, n_samples))\n"
          ],
          "name": "stderr"
        },
        {
          "output_type": "stream",
          "text": [
            "Epsilon:  1.0\n",
            "Seed Percentage : 88 Contamination:  0.06\n",
            "original_std :  209.76906641468804\n"
          ],
          "name": "stdout"
        },
        {
          "output_type": "stream",
          "text": [
            "/usr/local/lib/python3.6/dist-packages/sklearn/neighbors/lof.py:253: UserWarning: n_neighbors (20) is greater than the total number of samples (17). n_neighbors will be set to (n_samples - 1) for estimation.\n",
            "  % (self.n_neighbors, n_samples))\n"
          ],
          "name": "stderr"
        },
        {
          "output_type": "stream",
          "text": [
            "Epsilon:  0.625\n",
            "Seed Percentage : 87 Contamination:  0.065\n",
            "original_std :  86.07545744868278\n"
          ],
          "name": "stdout"
        },
        {
          "output_type": "stream",
          "text": [
            "/usr/local/lib/python3.6/dist-packages/sklearn/neighbors/lof.py:253: UserWarning: n_neighbors (20) is greater than the total number of samples (7). n_neighbors will be set to (n_samples - 1) for estimation.\n",
            "  % (self.n_neighbors, n_samples))\n"
          ],
          "name": "stderr"
        },
        {
          "output_type": "stream",
          "text": [
            "Epsilon:  0.444\n",
            "Seed Percentage : 88 Contamination:  0.06\n",
            "original_std :  3116.7011445904395\n"
          ],
          "name": "stdout"
        },
        {
          "output_type": "stream",
          "text": [
            "/usr/local/lib/python3.6/dist-packages/sklearn/neighbors/lof.py:253: UserWarning: n_neighbors (20) is greater than the total number of samples (8). n_neighbors will be set to (n_samples - 1) for estimation.\n",
            "  % (self.n_neighbors, n_samples))\n"
          ],
          "name": "stderr"
        },
        {
          "output_type": "stream",
          "text": [
            "Epsilon:  0.922\n"
          ],
          "name": "stdout"
        },
        {
          "output_type": "stream",
          "text": [
            "/usr/local/lib/python3.6/dist-packages/sklearn/neighbors/lof.py:253: UserWarning: n_neighbors (20) is greater than the total number of samples (9). n_neighbors will be set to (n_samples - 1) for estimation.\n",
            "  % (self.n_neighbors, n_samples))\n"
          ],
          "name": "stderr"
        }
      ]
    },
    {
      "cell_type": "code",
      "metadata": {
        "id": "p7iHFHpsShWZ",
        "colab_type": "code",
        "colab": {
          "base_uri": "https://localhost:8080/",
          "height": 1000
        },
        "outputId": "d310038a-5d73-432d-f9ac-698267006b71"
      },
      "source": [
        "final_df = pd.merge(my_df1, my_df2,how='left',left_on=('MCAT Name', 'Unit'), right_on=('MCAT Name', 'Unit'))\n",
        "final_df = final_df.replace(np.nan, '---', regex=True)\n",
        "final_df"
      ],
      "execution_count": 404,
      "outputs": [
        {
          "output_type": "execute_result",
          "data": {
            "text/html": [
              "<div>\n",
              "<style scoped>\n",
              "    .dataframe tbody tr th:only-of-type {\n",
              "        vertical-align: middle;\n",
              "    }\n",
              "\n",
              "    .dataframe tbody tr th {\n",
              "        vertical-align: top;\n",
              "    }\n",
              "\n",
              "    .dataframe thead th {\n",
              "        text-align: right;\n",
              "    }\n",
              "</style>\n",
              "<table border=\"1\" class=\"dataframe\">\n",
              "  <thead>\n",
              "    <tr style=\"text-align: right;\">\n",
              "      <th></th>\n",
              "      <th>MCAT Name</th>\n",
              "      <th>Unit</th>\n",
              "      <th>Unit Wise Min Price</th>\n",
              "      <th>Unit Wise Max Price</th>\n",
              "      <th>Most Common Price 1</th>\n",
              "      <th>Most Common Price 2</th>\n",
              "      <th>Most Common Price 3</th>\n",
              "      <th>ISQ Name</th>\n",
              "      <th>ISQ Options</th>\n",
              "      <th>ISQ Min Price</th>\n",
              "      <th>ISQ Max Price</th>\n",
              "    </tr>\n",
              "  </thead>\n",
              "  <tbody>\n",
              "    <tr>\n",
              "      <th>0</th>\n",
              "      <td>AC Motors</td>\n",
              "      <td>Number</td>\n",
              "      <td>22000.0</td>\n",
              "      <td>25000.0</td>\n",
              "      <td>22000.0</td>\n",
              "      <td>25000.0</td>\n",
              "      <td>0.0</td>\n",
              "      <td>---</td>\n",
              "      <td>---</td>\n",
              "      <td>---</td>\n",
              "      <td>---</td>\n",
              "    </tr>\n",
              "    <tr>\n",
              "      <th>1</th>\n",
              "      <td>AC Motors</td>\n",
              "      <td>Piece</td>\n",
              "      <td>45.0</td>\n",
              "      <td>12000.0</td>\n",
              "      <td>5000.0</td>\n",
              "      <td>45.0</td>\n",
              "      <td>3500.0</td>\n",
              "      <td>No of Phase</td>\n",
              "      <td>Three Phase</td>\n",
              "      <td>2000</td>\n",
              "      <td>40000</td>\n",
              "    </tr>\n",
              "    <tr>\n",
              "      <th>2</th>\n",
              "      <td>AC Motors</td>\n",
              "      <td>Unit</td>\n",
              "      <td>2000.0</td>\n",
              "      <td>100000.0</td>\n",
              "      <td>5000.0</td>\n",
              "      <td>3000.0</td>\n",
              "      <td>20000.0</td>\n",
              "      <td>No of Phase</td>\n",
              "      <td>Three Phase</td>\n",
              "      <td>2000</td>\n",
              "      <td>5000</td>\n",
              "    </tr>\n",
              "    <tr>\n",
              "      <th>3</th>\n",
              "      <td>Acme Safety Shoes</td>\n",
              "      <td>Box</td>\n",
              "      <td>860.0</td>\n",
              "      <td>860.0</td>\n",
              "      <td>860.0</td>\n",
              "      <td>0.0</td>\n",
              "      <td>0.0</td>\n",
              "      <td>---</td>\n",
              "      <td>---</td>\n",
              "      <td>---</td>\n",
              "      <td>---</td>\n",
              "    </tr>\n",
              "    <tr>\n",
              "      <th>4</th>\n",
              "      <td>Acme Safety Shoes</td>\n",
              "      <td>Pair</td>\n",
              "      <td>200.0</td>\n",
              "      <td>1911.0</td>\n",
              "      <td>700.0</td>\n",
              "      <td>475.0</td>\n",
              "      <td>650.0</td>\n",
              "      <td>Brand</td>\n",
              "      <td>Acme</td>\n",
              "      <td>349</td>\n",
              "      <td>1100</td>\n",
              "    </tr>\n",
              "    <tr>\n",
              "      <th>5</th>\n",
              "      <td>Acme Safety Shoes</td>\n",
              "      <td>Pair</td>\n",
              "      <td>200.0</td>\n",
              "      <td>1911.0</td>\n",
              "      <td>700.0</td>\n",
              "      <td>475.0</td>\n",
              "      <td>650.0</td>\n",
              "      <td>Certification</td>\n",
              "      <td>CE</td>\n",
              "      <td>835</td>\n",
              "      <td>1100</td>\n",
              "    </tr>\n",
              "    <tr>\n",
              "      <th>6</th>\n",
              "      <td>Acme Safety Shoes</td>\n",
              "      <td>Pair</td>\n",
              "      <td>200.0</td>\n",
              "      <td>1911.0</td>\n",
              "      <td>700.0</td>\n",
              "      <td>475.0</td>\n",
              "      <td>650.0</td>\n",
              "      <td>Certification</td>\n",
              "      <td>ISI</td>\n",
              "      <td>575</td>\n",
              "      <td>910</td>\n",
              "    </tr>\n",
              "    <tr>\n",
              "      <th>7</th>\n",
              "      <td>Acme Safety Shoes</td>\n",
              "      <td>Pair</td>\n",
              "      <td>200.0</td>\n",
              "      <td>1911.0</td>\n",
              "      <td>700.0</td>\n",
              "      <td>475.0</td>\n",
              "      <td>650.0</td>\n",
              "      <td>Color</td>\n",
              "      <td>Black</td>\n",
              "      <td>200</td>\n",
              "      <td>1300</td>\n",
              "    </tr>\n",
              "    <tr>\n",
              "      <th>8</th>\n",
              "      <td>Acme Safety Shoes</td>\n",
              "      <td>Pair</td>\n",
              "      <td>200.0</td>\n",
              "      <td>1911.0</td>\n",
              "      <td>700.0</td>\n",
              "      <td>475.0</td>\n",
              "      <td>650.0</td>\n",
              "      <td>Length</td>\n",
              "      <td>Low ankle</td>\n",
              "      <td>349</td>\n",
              "      <td>1020</td>\n",
              "    </tr>\n",
              "    <tr>\n",
              "      <th>9</th>\n",
              "      <td>Acme Safety Shoes</td>\n",
              "      <td>Pair</td>\n",
              "      <td>200.0</td>\n",
              "      <td>1911.0</td>\n",
              "      <td>700.0</td>\n",
              "      <td>475.0</td>\n",
              "      <td>650.0</td>\n",
              "      <td>Material</td>\n",
              "      <td>Leather</td>\n",
              "      <td>475</td>\n",
              "      <td>1050</td>\n",
              "    </tr>\n",
              "    <tr>\n",
              "      <th>10</th>\n",
              "      <td>Acme Safety Shoes</td>\n",
              "      <td>Pair</td>\n",
              "      <td>200.0</td>\n",
              "      <td>1911.0</td>\n",
              "      <td>700.0</td>\n",
              "      <td>475.0</td>\n",
              "      <td>650.0</td>\n",
              "      <td>Size</td>\n",
              "      <td>7</td>\n",
              "      <td>475</td>\n",
              "      <td>1020</td>\n",
              "    </tr>\n",
              "    <tr>\n",
              "      <th>11</th>\n",
              "      <td>Acme Safety Shoes</td>\n",
              "      <td>Pair</td>\n",
              "      <td>200.0</td>\n",
              "      <td>1911.0</td>\n",
              "      <td>700.0</td>\n",
              "      <td>475.0</td>\n",
              "      <td>650.0</td>\n",
              "      <td>Size</td>\n",
              "      <td>All Sizes</td>\n",
              "      <td>349</td>\n",
              "      <td>1550</td>\n",
              "    </tr>\n",
              "    <tr>\n",
              "      <th>12</th>\n",
              "      <td>Acme Safety Shoes</td>\n",
              "      <td>Pair</td>\n",
              "      <td>200.0</td>\n",
              "      <td>1911.0</td>\n",
              "      <td>700.0</td>\n",
              "      <td>475.0</td>\n",
              "      <td>650.0</td>\n",
              "      <td>Sole</td>\n",
              "      <td>PU</td>\n",
              "      <td>400</td>\n",
              "      <td>1500</td>\n",
              "    </tr>\n",
              "    <tr>\n",
              "      <th>13</th>\n",
              "      <td>Acme Safety Shoes</td>\n",
              "      <td>Pair</td>\n",
              "      <td>200.0</td>\n",
              "      <td>1911.0</td>\n",
              "      <td>700.0</td>\n",
              "      <td>475.0</td>\n",
              "      <td>650.0</td>\n",
              "      <td>Sole Type</td>\n",
              "      <td>PU</td>\n",
              "      <td>575</td>\n",
              "      <td>850</td>\n",
              "    </tr>\n",
              "    <tr>\n",
              "      <th>14</th>\n",
              "      <td>Acme Safety Shoes</td>\n",
              "      <td>Piece</td>\n",
              "      <td>200.0</td>\n",
              "      <td>699.0</td>\n",
              "      <td>399.0</td>\n",
              "      <td>200.0</td>\n",
              "      <td>699.0</td>\n",
              "      <td>Color</td>\n",
              "      <td>Black, Brown</td>\n",
              "      <td>200</td>\n",
              "      <td>200</td>\n",
              "    </tr>\n",
              "    <tr>\n",
              "      <th>15</th>\n",
              "      <td>Acme Safety Shoes</td>\n",
              "      <td>Unit</td>\n",
              "      <td>680.0</td>\n",
              "      <td>720.0</td>\n",
              "      <td>680.0</td>\n",
              "      <td>720.0</td>\n",
              "      <td>0.0</td>\n",
              "      <td>---</td>\n",
              "      <td>---</td>\n",
              "      <td>---</td>\n",
              "      <td>---</td>\n",
              "    </tr>\n",
              "    <tr>\n",
              "      <th>16</th>\n",
              "      <td>Air Conditioner Voltage Stabilizer</td>\n",
              "      <td>Box</td>\n",
              "      <td>300.0</td>\n",
              "      <td>4150.0</td>\n",
              "      <td>600.0</td>\n",
              "      <td>1900.0</td>\n",
              "      <td>4150.0</td>\n",
              "      <td>---</td>\n",
              "      <td>---</td>\n",
              "      <td>---</td>\n",
              "      <td>---</td>\n",
              "    </tr>\n",
              "    <tr>\n",
              "      <th>17</th>\n",
              "      <td>Air Conditioner Voltage Stabilizer</td>\n",
              "      <td>Piece</td>\n",
              "      <td>0.0</td>\n",
              "      <td>10000.0</td>\n",
              "      <td>2200.0</td>\n",
              "      <td>3650.0</td>\n",
              "      <td>6750.0</td>\n",
              "      <td>Power</td>\n",
              "      <td>4KVA</td>\n",
              "      <td>330</td>\n",
              "      <td>2200</td>\n",
              "    </tr>\n",
              "    <tr>\n",
              "      <th>18</th>\n",
              "      <td>Air Conditioner Voltage Stabilizer</td>\n",
              "      <td>Piece</td>\n",
              "      <td>0.0</td>\n",
              "      <td>10000.0</td>\n",
              "      <td>2200.0</td>\n",
              "      <td>3650.0</td>\n",
              "      <td>6750.0</td>\n",
              "      <td>Power</td>\n",
              "      <td>5KVA</td>\n",
              "      <td>1250</td>\n",
              "      <td>2800</td>\n",
              "    </tr>\n",
              "    <tr>\n",
              "      <th>19</th>\n",
              "      <td>Air Conditioner Voltage Stabilizer</td>\n",
              "      <td>Unit</td>\n",
              "      <td>1439.6</td>\n",
              "      <td>7091.8</td>\n",
              "      <td>2600.0</td>\n",
              "      <td>1439.0</td>\n",
              "      <td>1439.0</td>\n",
              "      <td>---</td>\n",
              "      <td>---</td>\n",
              "      <td>---</td>\n",
              "      <td>---</td>\n",
              "    </tr>\n",
              "    <tr>\n",
              "      <th>20</th>\n",
              "      <td>Air Spray Gun</td>\n",
              "      <td>Piece</td>\n",
              "      <td>100.0</td>\n",
              "      <td>22000.0</td>\n",
              "      <td>1000.0</td>\n",
              "      <td>1100.0</td>\n",
              "      <td>22000.0</td>\n",
              "      <td>---</td>\n",
              "      <td>---</td>\n",
              "      <td>---</td>\n",
              "      <td>---</td>\n",
              "    </tr>\n",
              "    <tr>\n",
              "      <th>21</th>\n",
              "      <td>Air Spray Gun</td>\n",
              "      <td>Unit</td>\n",
              "      <td>350.0</td>\n",
              "      <td>36000.0</td>\n",
              "      <td>34000.0</td>\n",
              "      <td>33000.0</td>\n",
              "      <td>36000.0</td>\n",
              "      <td>---</td>\n",
              "      <td>---</td>\n",
              "      <td>---</td>\n",
              "      <td>---</td>\n",
              "    </tr>\n",
              "    <tr>\n",
              "      <th>22</th>\n",
              "      <td>Aluminium False Ceilings</td>\n",
              "      <td>Number</td>\n",
              "      <td>150.0</td>\n",
              "      <td>200.0</td>\n",
              "      <td>200.0</td>\n",
              "      <td>150.0</td>\n",
              "      <td>0.0</td>\n",
              "      <td>---</td>\n",
              "      <td>---</td>\n",
              "      <td>---</td>\n",
              "      <td>---</td>\n",
              "    </tr>\n",
              "    <tr>\n",
              "      <th>23</th>\n",
              "      <td>Aluminium False Ceilings</td>\n",
              "      <td>Piece</td>\n",
              "      <td>40.0</td>\n",
              "      <td>270.0</td>\n",
              "      <td>40.0</td>\n",
              "      <td>270.0</td>\n",
              "      <td>230.0</td>\n",
              "      <td>---</td>\n",
              "      <td>---</td>\n",
              "      <td>---</td>\n",
              "      <td>---</td>\n",
              "    </tr>\n",
              "    <tr>\n",
              "      <th>24</th>\n",
              "      <td>Aluminium False Ceilings</td>\n",
              "      <td>Square Feet</td>\n",
              "      <td>0.0</td>\n",
              "      <td>250.0</td>\n",
              "      <td>75.0</td>\n",
              "      <td>90.0</td>\n",
              "      <td>60.0</td>\n",
              "      <td>Color</td>\n",
              "      <td>White</td>\n",
              "      <td>8.5</td>\n",
              "      <td>110</td>\n",
              "    </tr>\n",
              "    <tr>\n",
              "      <th>25</th>\n",
              "      <td>Aluminium False Ceilings</td>\n",
              "      <td>Square Feet</td>\n",
              "      <td>0.0</td>\n",
              "      <td>250.0</td>\n",
              "      <td>75.0</td>\n",
              "      <td>90.0</td>\n",
              "      <td>60.0</td>\n",
              "      <td>Material</td>\n",
              "      <td>Aluminum</td>\n",
              "      <td>52</td>\n",
              "      <td>222</td>\n",
              "    </tr>\n",
              "    <tr>\n",
              "      <th>26</th>\n",
              "      <td>Aluminium False Ceilings</td>\n",
              "      <td>Square Feet(s)</td>\n",
              "      <td>75.0</td>\n",
              "      <td>75.0</td>\n",
              "      <td>75.0</td>\n",
              "      <td>0.0</td>\n",
              "      <td>0.0</td>\n",
              "      <td>---</td>\n",
              "      <td>---</td>\n",
              "      <td>---</td>\n",
              "      <td>---</td>\n",
              "    </tr>\n",
              "    <tr>\n",
              "      <th>27</th>\n",
              "      <td>Aluminium False Ceilings</td>\n",
              "      <td>Square Meter</td>\n",
              "      <td>650.0</td>\n",
              "      <td>650.0</td>\n",
              "      <td>650.0</td>\n",
              "      <td>0.0</td>\n",
              "      <td>0.0</td>\n",
              "      <td>---</td>\n",
              "      <td>---</td>\n",
              "      <td>---</td>\n",
              "      <td>---</td>\n",
              "    </tr>\n",
              "    <tr>\n",
              "      <th>28</th>\n",
              "      <td>Aluminium Melting Furnace</td>\n",
              "      <td>Piece</td>\n",
              "      <td>50000.0</td>\n",
              "      <td>1150000.0</td>\n",
              "      <td>180000.0</td>\n",
              "      <td>200000.0</td>\n",
              "      <td>50000.0</td>\n",
              "      <td>Melting Material</td>\n",
              "      <td>Aluminium</td>\n",
              "      <td>50000</td>\n",
              "      <td>1e+06</td>\n",
              "    </tr>\n",
              "    <tr>\n",
              "      <th>29</th>\n",
              "      <td>Aluminium Melting Furnace</td>\n",
              "      <td>Piece</td>\n",
              "      <td>50000.0</td>\n",
              "      <td>1150000.0</td>\n",
              "      <td>180000.0</td>\n",
              "      <td>200000.0</td>\n",
              "      <td>50000.0</td>\n",
              "      <td>Power Source</td>\n",
              "      <td>Electric</td>\n",
              "      <td>50000</td>\n",
              "      <td>325000</td>\n",
              "    </tr>\n",
              "    <tr>\n",
              "      <th>...</th>\n",
              "      <td>...</td>\n",
              "      <td>...</td>\n",
              "      <td>...</td>\n",
              "      <td>...</td>\n",
              "      <td>...</td>\n",
              "      <td>...</td>\n",
              "      <td>...</td>\n",
              "      <td>...</td>\n",
              "      <td>...</td>\n",
              "      <td>...</td>\n",
              "      <td>...</td>\n",
              "    </tr>\n",
              "    <tr>\n",
              "      <th>828</th>\n",
              "      <td>Water Packaging Machine</td>\n",
              "      <td>Piece</td>\n",
              "      <td>0.0</td>\n",
              "      <td>1500000.0</td>\n",
              "      <td>200000.0</td>\n",
              "      <td>225000.0</td>\n",
              "      <td>170000.0</td>\n",
              "      <td>---</td>\n",
              "      <td>---</td>\n",
              "      <td>---</td>\n",
              "      <td>---</td>\n",
              "    </tr>\n",
              "    <tr>\n",
              "      <th>829</th>\n",
              "      <td>Water Packaging Machine</td>\n",
              "      <td>Set</td>\n",
              "      <td>1500000.0</td>\n",
              "      <td>1500000.0</td>\n",
              "      <td>1500000.0</td>\n",
              "      <td>0.0</td>\n",
              "      <td>0.0</td>\n",
              "      <td>---</td>\n",
              "      <td>---</td>\n",
              "      <td>---</td>\n",
              "      <td>---</td>\n",
              "    </tr>\n",
              "    <tr>\n",
              "      <th>830</th>\n",
              "      <td>Water Packaging Machine</td>\n",
              "      <td>Unit</td>\n",
              "      <td>100000.0</td>\n",
              "      <td>1250000.0</td>\n",
              "      <td>155000.0</td>\n",
              "      <td>125000.0</td>\n",
              "      <td>120000.0</td>\n",
              "      <td>Material</td>\n",
              "      <td>Stainless Steel</td>\n",
              "      <td>120000</td>\n",
              "      <td>125000</td>\n",
              "    </tr>\n",
              "    <tr>\n",
              "      <th>831</th>\n",
              "      <td>Water Packaging Machine</td>\n",
              "      <td>nos</td>\n",
              "      <td>40000.0</td>\n",
              "      <td>40000.0</td>\n",
              "      <td>40000.0</td>\n",
              "      <td>0.0</td>\n",
              "      <td>0.0</td>\n",
              "      <td>---</td>\n",
              "      <td>---</td>\n",
              "      <td>---</td>\n",
              "      <td>---</td>\n",
              "    </tr>\n",
              "    <tr>\n",
              "      <th>832</th>\n",
              "      <td>Wheel Loader</td>\n",
              "      <td>No</td>\n",
              "      <td>1600000.0</td>\n",
              "      <td>1600000.0</td>\n",
              "      <td>1600000.0</td>\n",
              "      <td>0.0</td>\n",
              "      <td>0.0</td>\n",
              "      <td>---</td>\n",
              "      <td>---</td>\n",
              "      <td>---</td>\n",
              "      <td>---</td>\n",
              "    </tr>\n",
              "    <tr>\n",
              "      <th>833</th>\n",
              "      <td>Wheel Loader</td>\n",
              "      <td>Piece</td>\n",
              "      <td>10.0</td>\n",
              "      <td>4249600.0</td>\n",
              "      <td>2500000.0</td>\n",
              "      <td>10.0</td>\n",
              "      <td>3500000.0</td>\n",
              "      <td>---</td>\n",
              "      <td>---</td>\n",
              "      <td>---</td>\n",
              "      <td>---</td>\n",
              "    </tr>\n",
              "    <tr>\n",
              "      <th>834</th>\n",
              "      <td>Wheel Loader</td>\n",
              "      <td>Unit</td>\n",
              "      <td>985650.0</td>\n",
              "      <td>7000000.0</td>\n",
              "      <td>1650000.0</td>\n",
              "      <td>1850000.0</td>\n",
              "      <td>2450000.0</td>\n",
              "      <td>---</td>\n",
              "      <td>---</td>\n",
              "      <td>---</td>\n",
              "      <td>---</td>\n",
              "    </tr>\n",
              "    <tr>\n",
              "      <th>835</th>\n",
              "      <td>Wire Drawing Machines</td>\n",
              "      <td>1 Unit</td>\n",
              "      <td>500000.0</td>\n",
              "      <td>630000.0</td>\n",
              "      <td>630000.0</td>\n",
              "      <td>500000.0</td>\n",
              "      <td>0.0</td>\n",
              "      <td>---</td>\n",
              "      <td>---</td>\n",
              "      <td>---</td>\n",
              "      <td>---</td>\n",
              "    </tr>\n",
              "    <tr>\n",
              "      <th>836</th>\n",
              "      <td>Wire Drawing Machines</td>\n",
              "      <td>Piece</td>\n",
              "      <td>5800.0</td>\n",
              "      <td>1000000.0</td>\n",
              "      <td>250000.0</td>\n",
              "      <td>200000.0</td>\n",
              "      <td>325000.0</td>\n",
              "      <td>---</td>\n",
              "      <td>---</td>\n",
              "      <td>---</td>\n",
              "      <td>---</td>\n",
              "    </tr>\n",
              "    <tr>\n",
              "      <th>837</th>\n",
              "      <td>Wire Drawing Machines</td>\n",
              "      <td>Set</td>\n",
              "      <td>250000.0</td>\n",
              "      <td>3989000.0</td>\n",
              "      <td>300000.0</td>\n",
              "      <td>3989000.0</td>\n",
              "      <td>250000.0</td>\n",
              "      <td>---</td>\n",
              "      <td>---</td>\n",
              "      <td>---</td>\n",
              "      <td>---</td>\n",
              "    </tr>\n",
              "    <tr>\n",
              "      <th>838</th>\n",
              "      <td>Wire Drawing Machines</td>\n",
              "      <td>Unit</td>\n",
              "      <td>20000.0</td>\n",
              "      <td>4000000.0</td>\n",
              "      <td>2000000.0</td>\n",
              "      <td>70000.0</td>\n",
              "      <td>500000.0</td>\n",
              "      <td>Max Inlet Wire Diameter</td>\n",
              "      <td>3-6 mm</td>\n",
              "      <td>300000</td>\n",
              "      <td>500000</td>\n",
              "    </tr>\n",
              "    <tr>\n",
              "      <th>839</th>\n",
              "      <td>Wire Drawing Machines</td>\n",
              "      <td>Unit</td>\n",
              "      <td>20000.0</td>\n",
              "      <td>4000000.0</td>\n",
              "      <td>2000000.0</td>\n",
              "      <td>70000.0</td>\n",
              "      <td>500000.0</td>\n",
              "      <td>Types of Metal</td>\n",
              "      <td>Copper</td>\n",
              "      <td>400000</td>\n",
              "      <td>3e+06</td>\n",
              "    </tr>\n",
              "    <tr>\n",
              "      <th>840</th>\n",
              "      <td>Wire Drawing Machines</td>\n",
              "      <td>Unit</td>\n",
              "      <td>20000.0</td>\n",
              "      <td>4000000.0</td>\n",
              "      <td>2000000.0</td>\n",
              "      <td>70000.0</td>\n",
              "      <td>500000.0</td>\n",
              "      <td>Usage/Application</td>\n",
              "      <td>Wire Drawing</td>\n",
              "      <td>600000</td>\n",
              "      <td>3e+06</td>\n",
              "    </tr>\n",
              "    <tr>\n",
              "      <th>841</th>\n",
              "      <td>Womens Capri</td>\n",
              "      <td>Piece</td>\n",
              "      <td>0.0</td>\n",
              "      <td>1749.0</td>\n",
              "      <td>200.0</td>\n",
              "      <td>225.0</td>\n",
              "      <td>275.0</td>\n",
              "      <td>Brand</td>\n",
              "      <td>Onesport</td>\n",
              "      <td>225</td>\n",
              "      <td>275</td>\n",
              "    </tr>\n",
              "    <tr>\n",
              "      <th>842</th>\n",
              "      <td>Womens Capri</td>\n",
              "      <td>Piece</td>\n",
              "      <td>0.0</td>\n",
              "      <td>1749.0</td>\n",
              "      <td>200.0</td>\n",
              "      <td>225.0</td>\n",
              "      <td>275.0</td>\n",
              "      <td>Brand</td>\n",
              "      <td>Westwood</td>\n",
              "      <td>1499</td>\n",
              "      <td>1649</td>\n",
              "    </tr>\n",
              "    <tr>\n",
              "      <th>843</th>\n",
              "      <td>Womens Capri</td>\n",
              "      <td>Piece</td>\n",
              "      <td>0.0</td>\n",
              "      <td>1749.0</td>\n",
              "      <td>200.0</td>\n",
              "      <td>225.0</td>\n",
              "      <td>275.0</td>\n",
              "      <td>Color</td>\n",
              "      <td>Black</td>\n",
              "      <td>175</td>\n",
              "      <td>225</td>\n",
              "    </tr>\n",
              "    <tr>\n",
              "      <th>844</th>\n",
              "      <td>Womens Capri</td>\n",
              "      <td>Piece</td>\n",
              "      <td>0.0</td>\n",
              "      <td>1749.0</td>\n",
              "      <td>200.0</td>\n",
              "      <td>225.0</td>\n",
              "      <td>275.0</td>\n",
              "      <td>Fabric</td>\n",
              "      <td>Cotton</td>\n",
              "      <td>0</td>\n",
              "      <td>1649</td>\n",
              "    </tr>\n",
              "    <tr>\n",
              "      <th>845</th>\n",
              "      <td>Womens Capri</td>\n",
              "      <td>Piece</td>\n",
              "      <td>0.0</td>\n",
              "      <td>1749.0</td>\n",
              "      <td>200.0</td>\n",
              "      <td>225.0</td>\n",
              "      <td>275.0</td>\n",
              "      <td>Fabric</td>\n",
              "      <td>Cotton and Lycra blended</td>\n",
              "      <td>200</td>\n",
              "      <td>200</td>\n",
              "    </tr>\n",
              "    <tr>\n",
              "      <th>846</th>\n",
              "      <td>Womens Capri</td>\n",
              "      <td>Piece</td>\n",
              "      <td>0.0</td>\n",
              "      <td>1749.0</td>\n",
              "      <td>200.0</td>\n",
              "      <td>225.0</td>\n",
              "      <td>275.0</td>\n",
              "      <td>Fabric</td>\n",
              "      <td>Lycra Cotton</td>\n",
              "      <td>90</td>\n",
              "      <td>480</td>\n",
              "    </tr>\n",
              "    <tr>\n",
              "      <th>847</th>\n",
              "      <td>Womens Capri</td>\n",
              "      <td>Piece</td>\n",
              "      <td>0.0</td>\n",
              "      <td>1749.0</td>\n",
              "      <td>200.0</td>\n",
              "      <td>225.0</td>\n",
              "      <td>275.0</td>\n",
              "      <td>Fabric</td>\n",
              "      <td>Polyester Spandex Jersey</td>\n",
              "      <td>225</td>\n",
              "      <td>300</td>\n",
              "    </tr>\n",
              "    <tr>\n",
              "      <th>848</th>\n",
              "      <td>Womens Capri</td>\n",
              "      <td>Piece</td>\n",
              "      <td>0.0</td>\n",
              "      <td>1749.0</td>\n",
              "      <td>200.0</td>\n",
              "      <td>225.0</td>\n",
              "      <td>275.0</td>\n",
              "      <td>Size</td>\n",
              "      <td>All Sizes</td>\n",
              "      <td>95</td>\n",
              "      <td>480</td>\n",
              "    </tr>\n",
              "    <tr>\n",
              "      <th>849</th>\n",
              "      <td>Womens Capri</td>\n",
              "      <td>Piece</td>\n",
              "      <td>0.0</td>\n",
              "      <td>1749.0</td>\n",
              "      <td>200.0</td>\n",
              "      <td>225.0</td>\n",
              "      <td>275.0</td>\n",
              "      <td>Size</td>\n",
              "      <td>S, M, L, XL</td>\n",
              "      <td>200</td>\n",
              "      <td>200</td>\n",
              "    </tr>\n",
              "    <tr>\n",
              "      <th>850</th>\n",
              "      <td>Womens Capri</td>\n",
              "      <td>Set</td>\n",
              "      <td>275.0</td>\n",
              "      <td>330.0</td>\n",
              "      <td>330.0</td>\n",
              "      <td>275.0</td>\n",
              "      <td>0.0</td>\n",
              "      <td>---</td>\n",
              "      <td>---</td>\n",
              "      <td>---</td>\n",
              "      <td>---</td>\n",
              "    </tr>\n",
              "    <tr>\n",
              "      <th>851</th>\n",
              "      <td>Womens Capri</td>\n",
              "      <td>Unit</td>\n",
              "      <td>100.0</td>\n",
              "      <td>435.0</td>\n",
              "      <td>435.0</td>\n",
              "      <td>100.0</td>\n",
              "      <td>0.0</td>\n",
              "      <td>---</td>\n",
              "      <td>---</td>\n",
              "      <td>---</td>\n",
              "      <td>---</td>\n",
              "    </tr>\n",
              "    <tr>\n",
              "      <th>852</th>\n",
              "      <td>Wooden Crates</td>\n",
              "      <td>Cubic Feet</td>\n",
              "      <td>280.0</td>\n",
              "      <td>550.0</td>\n",
              "      <td>500.0</td>\n",
              "      <td>330.0</td>\n",
              "      <td>280.0</td>\n",
              "      <td>Shape</td>\n",
              "      <td>Rectangular</td>\n",
              "      <td>280</td>\n",
              "      <td>550</td>\n",
              "    </tr>\n",
              "    <tr>\n",
              "      <th>853</th>\n",
              "      <td>Wooden Crates</td>\n",
              "      <td>Cubic Feet</td>\n",
              "      <td>280.0</td>\n",
              "      <td>550.0</td>\n",
              "      <td>500.0</td>\n",
              "      <td>330.0</td>\n",
              "      <td>280.0</td>\n",
              "      <td>Wood Type</td>\n",
              "      <td>Rubber Wood</td>\n",
              "      <td>400</td>\n",
              "      <td>550</td>\n",
              "    </tr>\n",
              "    <tr>\n",
              "      <th>854</th>\n",
              "      <td>Wooden Crates</td>\n",
              "      <td>Kilogram</td>\n",
              "      <td>50.0</td>\n",
              "      <td>100.0</td>\n",
              "      <td>50.0</td>\n",
              "      <td>100.0</td>\n",
              "      <td>0.0</td>\n",
              "      <td>---</td>\n",
              "      <td>---</td>\n",
              "      <td>---</td>\n",
              "      <td>---</td>\n",
              "    </tr>\n",
              "    <tr>\n",
              "      <th>855</th>\n",
              "      <td>Wooden Crates</td>\n",
              "      <td>Number</td>\n",
              "      <td>385.0</td>\n",
              "      <td>385.0</td>\n",
              "      <td>385.0</td>\n",
              "      <td>0.0</td>\n",
              "      <td>0.0</td>\n",
              "      <td>---</td>\n",
              "      <td>---</td>\n",
              "      <td>---</td>\n",
              "      <td>---</td>\n",
              "    </tr>\n",
              "    <tr>\n",
              "      <th>856</th>\n",
              "      <td>Wooden Crates</td>\n",
              "      <td>Piece</td>\n",
              "      <td>0.0</td>\n",
              "      <td>4500.0</td>\n",
              "      <td>750.0</td>\n",
              "      <td>200.0</td>\n",
              "      <td>700.0</td>\n",
              "      <td>Shape</td>\n",
              "      <td>Rectangular</td>\n",
              "      <td>200</td>\n",
              "      <td>1000</td>\n",
              "    </tr>\n",
              "    <tr>\n",
              "      <th>857</th>\n",
              "      <td>Wooden Crates</td>\n",
              "      <td>Square Feet</td>\n",
              "      <td>35.0</td>\n",
              "      <td>350.0</td>\n",
              "      <td>35.0</td>\n",
              "      <td>70.0</td>\n",
              "      <td>320.0</td>\n",
              "      <td>---</td>\n",
              "      <td>---</td>\n",
              "      <td>---</td>\n",
              "      <td>---</td>\n",
              "    </tr>\n",
              "  </tbody>\n",
              "</table>\n",
              "<p>858 rows × 11 columns</p>\n",
              "</div>"
            ],
            "text/plain": [
              "                              MCAT Name  ... ISQ Max Price\n",
              "0                             AC Motors  ...           ---\n",
              "1                             AC Motors  ...         40000\n",
              "2                             AC Motors  ...          5000\n",
              "3                     Acme Safety Shoes  ...           ---\n",
              "4                     Acme Safety Shoes  ...          1100\n",
              "5                     Acme Safety Shoes  ...          1100\n",
              "6                     Acme Safety Shoes  ...           910\n",
              "7                     Acme Safety Shoes  ...          1300\n",
              "8                     Acme Safety Shoes  ...          1020\n",
              "9                     Acme Safety Shoes  ...          1050\n",
              "10                    Acme Safety Shoes  ...          1020\n",
              "11                    Acme Safety Shoes  ...          1550\n",
              "12                    Acme Safety Shoes  ...          1500\n",
              "13                    Acme Safety Shoes  ...           850\n",
              "14                    Acme Safety Shoes  ...           200\n",
              "15                    Acme Safety Shoes  ...           ---\n",
              "16   Air Conditioner Voltage Stabilizer  ...           ---\n",
              "17   Air Conditioner Voltage Stabilizer  ...          2200\n",
              "18   Air Conditioner Voltage Stabilizer  ...          2800\n",
              "19   Air Conditioner Voltage Stabilizer  ...           ---\n",
              "20                        Air Spray Gun  ...           ---\n",
              "21                        Air Spray Gun  ...           ---\n",
              "22             Aluminium False Ceilings  ...           ---\n",
              "23             Aluminium False Ceilings  ...           ---\n",
              "24             Aluminium False Ceilings  ...           110\n",
              "25             Aluminium False Ceilings  ...           222\n",
              "26             Aluminium False Ceilings  ...           ---\n",
              "27             Aluminium False Ceilings  ...           ---\n",
              "28            Aluminium Melting Furnace  ...         1e+06\n",
              "29            Aluminium Melting Furnace  ...        325000\n",
              "..                                  ...  ...           ...\n",
              "828             Water Packaging Machine  ...           ---\n",
              "829             Water Packaging Machine  ...           ---\n",
              "830             Water Packaging Machine  ...        125000\n",
              "831             Water Packaging Machine  ...           ---\n",
              "832                        Wheel Loader  ...           ---\n",
              "833                        Wheel Loader  ...           ---\n",
              "834                        Wheel Loader  ...           ---\n",
              "835               Wire Drawing Machines  ...           ---\n",
              "836               Wire Drawing Machines  ...           ---\n",
              "837               Wire Drawing Machines  ...           ---\n",
              "838               Wire Drawing Machines  ...        500000\n",
              "839               Wire Drawing Machines  ...         3e+06\n",
              "840               Wire Drawing Machines  ...         3e+06\n",
              "841                        Womens Capri  ...           275\n",
              "842                        Womens Capri  ...          1649\n",
              "843                        Womens Capri  ...           225\n",
              "844                        Womens Capri  ...          1649\n",
              "845                        Womens Capri  ...           200\n",
              "846                        Womens Capri  ...           480\n",
              "847                        Womens Capri  ...           300\n",
              "848                        Womens Capri  ...           480\n",
              "849                        Womens Capri  ...           200\n",
              "850                        Womens Capri  ...           ---\n",
              "851                        Womens Capri  ...           ---\n",
              "852                       Wooden Crates  ...           550\n",
              "853                       Wooden Crates  ...           550\n",
              "854                       Wooden Crates  ...           ---\n",
              "855                       Wooden Crates  ...           ---\n",
              "856                       Wooden Crates  ...          1000\n",
              "857                       Wooden Crates  ...           ---\n",
              "\n",
              "[858 rows x 11 columns]"
            ]
          },
          "metadata": {
            "tags": []
          },
          "execution_count": 404
        }
      ]
    },
    {
      "cell_type": "code",
      "metadata": {
        "id": "3U8tCAA8X-ka",
        "colab_type": "code",
        "colab": {}
      },
      "source": [
        "final_df.to_csv(\"output.csv\")"
      ],
      "execution_count": 0,
      "outputs": []
    },
    {
      "cell_type": "markdown",
      "metadata": {
        "id": "JpCjUBDvX1Je",
        "colab_type": "text"
      },
      "source": [
        "### Results Visualisation"
      ]
    },
    {
      "cell_type": "code",
      "metadata": {
        "id": "sjkr0T_eEhVM",
        "colab_type": "code",
        "colab": {}
      },
      "source": [
        "\n",
        "def plot_figure(x,c,u,min_price,max_price):\n",
        "    \n",
        "    k = x\n",
        "    fig, ax = plt.subplots()\n",
        "    num_bins = 10\n",
        "    n, bins, patches = ax.hist(k['Price'], num_bins, color=['grey'])\n",
        "    d = ax.fill_betweenx(n,min_price,max_price,color='g',alpha=0.5)\n",
        "    ax.set_xlabel('Prices')\n",
        "    ax.set_ylabel('Counts')\n",
        "    ax.set_title(r'Histogram for item-'+ c +' and unit - '+ u)\n",
        "    fig.tight_layout()\n",
        "    plt.show()"
      ],
      "execution_count": 0,
      "outputs": []
    },
    {
      "cell_type": "markdown",
      "metadata": {
        "id": "to5tYq-HyMHI",
        "colab_type": "text"
      },
      "source": [
        "# Individual Algorithm Analysis Section"
      ]
    },
    {
      "cell_type": "markdown",
      "metadata": {
        "id": "_D76dTQkDMTL",
        "colab_type": "text"
      },
      "source": [
        "## Isolation Forests\n",
        "\n",
        "The challenge is to determine contamination factor"
      ]
    },
    {
      "cell_type": "code",
      "metadata": {
        "id": "VrznQh0MhSUu",
        "colab_type": "code",
        "outputId": "2c29175c-05c7-4f6d-9f44-7082c129c45b",
        "colab": {
          "base_uri": "https://localhost:8080/",
          "height": 919
        }
      },
      "source": [
        "df = data\n",
        "fig, axs = plt.subplots(2, 1, figsize=(22, 12), facecolor='w', edgecolor='k')\n",
        "axs = axs.ravel()\n",
        "\n",
        "for i, column in enumerate(cols):\n",
        "    isolation_forest = IsolationForest(contamination=contamination_factor)\n",
        "    z = isolation_forest.fit_predict(df[column].values.reshape(-1,1))\n",
        "\n",
        "    xx = np.linspace(df[column].min(), df[column].max(), len(df)).reshape(-1,1)\n",
        "    \n",
        "    \n",
        "    anomaly_score = isolation_forest.decision_function(df[column].values.reshape(-1,1))\n",
        "    outlier = isolation_forest.predict(xx)\n",
        "    \n",
        "    axs[i].plot(xx, anomaly_score, label='anomaly score')\n",
        "    axs[i].fill_between(xx.T[0], np.min(anomaly_score), np.max(anomaly_score), \n",
        "                     where=outlier==-1, color='r', \n",
        "                     alpha=.4, label='outlier region')\n",
        "    axs[i].legend()\n",
        "    axs[i].set_title(column)\n",
        "    \n"
      ],
      "execution_count": 0,
      "outputs": [
        {
          "output_type": "error",
          "ename": "NameError",
          "evalue": "ignored",
          "traceback": [
            "\u001b[0;31m---------------------------------------------------------------------------\u001b[0m",
            "\u001b[0;31mNameError\u001b[0m                                 Traceback (most recent call last)",
            "\u001b[0;32m<ipython-input-32-2bb7691c5b1d>\u001b[0m in \u001b[0;36m<module>\u001b[0;34m()\u001b[0m\n\u001b[1;32m      3\u001b[0m \u001b[0maxs\u001b[0m \u001b[0;34m=\u001b[0m \u001b[0maxs\u001b[0m\u001b[0;34m.\u001b[0m\u001b[0mravel\u001b[0m\u001b[0;34m(\u001b[0m\u001b[0;34m)\u001b[0m\u001b[0;34m\u001b[0m\u001b[0;34m\u001b[0m\u001b[0m\n\u001b[1;32m      4\u001b[0m \u001b[0;34m\u001b[0m\u001b[0m\n\u001b[0;32m----> 5\u001b[0;31m \u001b[0;32mfor\u001b[0m \u001b[0mi\u001b[0m\u001b[0;34m,\u001b[0m \u001b[0mcolumn\u001b[0m \u001b[0;32min\u001b[0m \u001b[0menumerate\u001b[0m\u001b[0;34m(\u001b[0m\u001b[0mcols\u001b[0m\u001b[0;34m)\u001b[0m\u001b[0;34m:\u001b[0m\u001b[0;34m\u001b[0m\u001b[0;34m\u001b[0m\u001b[0m\n\u001b[0m\u001b[1;32m      6\u001b[0m     \u001b[0misolation_forest\u001b[0m \u001b[0;34m=\u001b[0m \u001b[0mIsolationForest\u001b[0m\u001b[0;34m(\u001b[0m\u001b[0mcontamination\u001b[0m\u001b[0;34m=\u001b[0m\u001b[0mcontamination_factor\u001b[0m\u001b[0;34m)\u001b[0m\u001b[0;34m\u001b[0m\u001b[0;34m\u001b[0m\u001b[0m\n\u001b[1;32m      7\u001b[0m     \u001b[0mz\u001b[0m \u001b[0;34m=\u001b[0m \u001b[0misolation_forest\u001b[0m\u001b[0;34m.\u001b[0m\u001b[0mfit_predict\u001b[0m\u001b[0;34m(\u001b[0m\u001b[0mdf\u001b[0m\u001b[0;34m[\u001b[0m\u001b[0mcolumn\u001b[0m\u001b[0;34m]\u001b[0m\u001b[0;34m.\u001b[0m\u001b[0mvalues\u001b[0m\u001b[0;34m.\u001b[0m\u001b[0mreshape\u001b[0m\u001b[0;34m(\u001b[0m\u001b[0;34m-\u001b[0m\u001b[0;36m1\u001b[0m\u001b[0;34m,\u001b[0m\u001b[0;36m1\u001b[0m\u001b[0;34m)\u001b[0m\u001b[0;34m)\u001b[0m\u001b[0;34m\u001b[0m\u001b[0;34m\u001b[0m\u001b[0m\n",
            "\u001b[0;31mNameError\u001b[0m: name 'cols' is not defined"
          ]
        },
        {
          "output_type": "display_data",
          "data": {
            "image/png": "[encoded data removed]",
            "text/plain": [
              "<Figure size 1584x864 with 2 Axes>"
            ]
          },
          "metadata": {
            "tags": []
          }
        }
      ]
    },
    {
      "cell_type": "code",
      "metadata": {
        "id": "2XTc1AOam7RV",
        "colab_type": "code",
        "outputId": "1b7d7907-1c12-4ad6-a33f-56afd7d34036",
        "colab": {
          "base_uri": "https://localhost:8080/",
          "height": 164
        }
      },
      "source": [
        "if_vote = z"
      ],
      "execution_count": 0,
      "outputs": [
        {
          "output_type": "error",
          "ename": "NameError",
          "evalue": "ignored",
          "traceback": [
            "\u001b[0;31m---------------------------------------------------------------------------\u001b[0m",
            "\u001b[0;31mNameError\u001b[0m                                 Traceback (most recent call last)",
            "\u001b[0;32m<ipython-input-33-347c9093b481>\u001b[0m in \u001b[0;36m<module>\u001b[0;34m()\u001b[0m\n\u001b[0;32m----> 1\u001b[0;31m \u001b[0mif_vote\u001b[0m \u001b[0;34m=\u001b[0m \u001b[0mz\u001b[0m\u001b[0;34m\u001b[0m\u001b[0;34m\u001b[0m\u001b[0m\n\u001b[0m",
            "\u001b[0;31mNameError\u001b[0m: name 'z' is not defined"
          ]
        }
      ]
    },
    {
      "cell_type": "code",
      "metadata": {
        "id": "t35Rvnqho6va",
        "colab_type": "code",
        "outputId": "3c64dbb4-efdb-42bb-f571-2c3fe6b53ec4",
        "colab": {
          "base_uri": "https://localhost:8080/",
          "height": 164
        }
      },
      "source": [
        "z"
      ],
      "execution_count": 0,
      "outputs": [
        {
          "output_type": "error",
          "ename": "NameError",
          "evalue": "ignored",
          "traceback": [
            "\u001b[0;31m---------------------------------------------------------------------------\u001b[0m",
            "\u001b[0;31mNameError\u001b[0m                                 Traceback (most recent call last)",
            "\u001b[0;32m<ipython-input-34-3a710d2a84f8>\u001b[0m in \u001b[0;36m<module>\u001b[0;34m()\u001b[0m\n\u001b[0;32m----> 1\u001b[0;31m \u001b[0mz\u001b[0m\u001b[0;34m\u001b[0m\u001b[0;34m\u001b[0m\u001b[0m\n\u001b[0m",
            "\u001b[0;31mNameError\u001b[0m: name 'z' is not defined"
          ]
        }
      ]
    },
    {
      "cell_type": "markdown",
      "metadata": {
        "id": "4XErowjw0C8-",
        "colab_type": "text"
      },
      "source": [
        "## DBScan\n",
        "\n",
        "The challenge is to set *e* value."
      ]
    },
    {
      "cell_type": "code",
      "metadata": {
        "id": "2op5gRsmY3xL",
        "colab_type": "code",
        "colab": {}
      },
      "source": [
        "def getHyperparameters(sd,retain):\n",
        "  \n",
        "  import math\n",
        "  \n",
        "  dis=[]\n",
        "  temp =list(sd['Price'])\n",
        "  for i in range(0,len(temp)-1):\n",
        "    dis.append(temp[i+1]-temp[i])\n",
        "\n",
        "  arr = np.array(dis)\n",
        "  diss = pd.DataFrame(dis,columns=['dis'])\n",
        "  std=diss['dis'].std()\n",
        "  ma = diss['dis'].max()\n",
        "  n=len(dis)\n",
        "  \n",
        "  cnt={}\n",
        "  unique_dis=list(set(dis))\n",
        "  for i in unique_dis:\n",
        "    cnt[i]=dis.count(i)\n",
        "  keys = cnt.keys()\n",
        "  keys=sorted(keys)\n",
        "  cands=[]\n",
        "  full = int(round((retain*n),0))\n",
        "  for i in keys:\n",
        "    full = full - cnt[i]\n",
        "    cands.append(i)\n",
        "    if(full<=0):\n",
        "      break\n",
        "    \n",
        "  \n",
        "  b = pd.DataFrame(cands)\n",
        "  epsilon = round(np.max(np.array(b))*1000,0)/1000\n",
        "  return(epsilon)\n",
        "  \n",
        "\n",
        "\n",
        "\n",
        "  "
      ],
      "execution_count": 0,
      "outputs": []
    },
    {
      "cell_type": "code",
      "metadata": {
        "id": "uXW3kMGj0CAm",
        "colab_type": "code",
        "outputId": "494ed654-ca65-47a7-8f45-4e8ef779cd6b",
        "colab": {
          "base_uri": "https://localhost:8080/",
          "height": 358
        }
      },
      "source": [
        "from sklearn.preprocessing import MinMaxScaler\n",
        "scaler = MinMaxScaler()\n",
        "sd = scaler.fit_transform(data)\n",
        "sd = pd.DataFrame(sd,columns=['Price'])\n"
      ],
      "execution_count": 0,
      "outputs": [
        {
          "output_type": "error",
          "ename": "ValueError",
          "evalue": "ignored",
          "traceback": [
            "\u001b[0;31m---------------------------------------------------------------------------\u001b[0m",
            "\u001b[0;31mValueError\u001b[0m                                Traceback (most recent call last)",
            "\u001b[0;32m<ipython-input-36-086a1e280fbb>\u001b[0m in \u001b[0;36m<module>\u001b[0;34m()\u001b[0m\n\u001b[1;32m      1\u001b[0m \u001b[0;32mfrom\u001b[0m \u001b[0msklearn\u001b[0m\u001b[0;34m.\u001b[0m\u001b[0mpreprocessing\u001b[0m \u001b[0;32mimport\u001b[0m \u001b[0mMinMaxScaler\u001b[0m\u001b[0;34m\u001b[0m\u001b[0;34m\u001b[0m\u001b[0m\n\u001b[1;32m      2\u001b[0m \u001b[0mscaler\u001b[0m \u001b[0;34m=\u001b[0m \u001b[0mMinMaxScaler\u001b[0m\u001b[0;34m(\u001b[0m\u001b[0;34m)\u001b[0m\u001b[0;34m\u001b[0m\u001b[0;34m\u001b[0m\u001b[0m\n\u001b[0;32m----> 3\u001b[0;31m \u001b[0msd\u001b[0m \u001b[0;34m=\u001b[0m \u001b[0mscaler\u001b[0m\u001b[0;34m.\u001b[0m\u001b[0mfit_transform\u001b[0m\u001b[0;34m(\u001b[0m\u001b[0mdata\u001b[0m\u001b[0;34m)\u001b[0m\u001b[0;34m\u001b[0m\u001b[0;34m\u001b[0m\u001b[0m\n\u001b[0m\u001b[1;32m      4\u001b[0m \u001b[0msd\u001b[0m \u001b[0;34m=\u001b[0m \u001b[0mpd\u001b[0m\u001b[0;34m.\u001b[0m\u001b[0mDataFrame\u001b[0m\u001b[0;34m(\u001b[0m\u001b[0msd\u001b[0m\u001b[0;34m,\u001b[0m\u001b[0mcolumns\u001b[0m\u001b[0;34m=\u001b[0m\u001b[0;34m[\u001b[0m\u001b[0;34m'Price'\u001b[0m\u001b[0;34m]\u001b[0m\u001b[0;34m)\u001b[0m\u001b[0;34m\u001b[0m\u001b[0;34m\u001b[0m\u001b[0m\n",
            "\u001b[0;32m/usr/local/lib/python3.6/dist-packages/sklearn/base.py\u001b[0m in \u001b[0;36mfit_transform\u001b[0;34m(self, X, y, **fit_params)\u001b[0m\n\u001b[1;32m    551\u001b[0m         \u001b[0;32mif\u001b[0m \u001b[0my\u001b[0m \u001b[0;32mis\u001b[0m \u001b[0;32mNone\u001b[0m\u001b[0;34m:\u001b[0m\u001b[0;34m\u001b[0m\u001b[0;34m\u001b[0m\u001b[0m\n\u001b[1;32m    552\u001b[0m             \u001b[0;31m# fit method of arity 1 (unsupervised transformation)\u001b[0m\u001b[0;34m\u001b[0m\u001b[0;34m\u001b[0m\u001b[0;34m\u001b[0m\u001b[0m\n\u001b[0;32m--> 553\u001b[0;31m             \u001b[0;32mreturn\u001b[0m \u001b[0mself\u001b[0m\u001b[0;34m.\u001b[0m\u001b[0mfit\u001b[0m\u001b[0;34m(\u001b[0m\u001b[0mX\u001b[0m\u001b[0;34m,\u001b[0m \u001b[0;34m**\u001b[0m\u001b[0mfit_params\u001b[0m\u001b[0;34m)\u001b[0m\u001b[0;34m.\u001b[0m\u001b[0mtransform\u001b[0m\u001b[0;34m(\u001b[0m\u001b[0mX\u001b[0m\u001b[0;34m)\u001b[0m\u001b[0;34m\u001b[0m\u001b[0;34m\u001b[0m\u001b[0m\n\u001b[0m\u001b[1;32m    554\u001b[0m         \u001b[0;32melse\u001b[0m\u001b[0;34m:\u001b[0m\u001b[0;34m\u001b[0m\u001b[0;34m\u001b[0m\u001b[0m\n\u001b[1;32m    555\u001b[0m             \u001b[0;31m# fit method of arity 2 (supervised transformation)\u001b[0m\u001b[0;34m\u001b[0m\u001b[0;34m\u001b[0m\u001b[0;34m\u001b[0m\u001b[0m\n",
            "\u001b[0;32m/usr/local/lib/python3.6/dist-packages/sklearn/preprocessing/data.py\u001b[0m in \u001b[0;36mfit\u001b[0;34m(self, X, y)\u001b[0m\n\u001b[1;32m    323\u001b[0m         \u001b[0;31m# Reset internal state before fitting\u001b[0m\u001b[0;34m\u001b[0m\u001b[0;34m\u001b[0m\u001b[0;34m\u001b[0m\u001b[0m\n\u001b[1;32m    324\u001b[0m         \u001b[0mself\u001b[0m\u001b[0;34m.\u001b[0m\u001b[0m_reset\u001b[0m\u001b[0;34m(\u001b[0m\u001b[0;34m)\u001b[0m\u001b[0;34m\u001b[0m\u001b[0;34m\u001b[0m\u001b[0m\n\u001b[0;32m--> 325\u001b[0;31m         \u001b[0;32mreturn\u001b[0m \u001b[0mself\u001b[0m\u001b[0;34m.\u001b[0m\u001b[0mpartial_fit\u001b[0m\u001b[0;34m(\u001b[0m\u001b[0mX\u001b[0m\u001b[0;34m,\u001b[0m \u001b[0my\u001b[0m\u001b[0;34m)\u001b[0m\u001b[0;34m\u001b[0m\u001b[0;34m\u001b[0m\u001b[0m\n\u001b[0m\u001b[1;32m    326\u001b[0m \u001b[0;34m\u001b[0m\u001b[0m\n\u001b[1;32m    327\u001b[0m     \u001b[0;32mdef\u001b[0m \u001b[0mpartial_fit\u001b[0m\u001b[0;34m(\u001b[0m\u001b[0mself\u001b[0m\u001b[0;34m,\u001b[0m \u001b[0mX\u001b[0m\u001b[0;34m,\u001b[0m \u001b[0my\u001b[0m\u001b[0;34m=\u001b[0m\u001b[0;32mNone\u001b[0m\u001b[0;34m)\u001b[0m\u001b[0;34m:\u001b[0m\u001b[0;34m\u001b[0m\u001b[0;34m\u001b[0m\u001b[0m\n",
            "\u001b[0;32m/usr/local/lib/python3.6/dist-packages/sklearn/preprocessing/data.py\u001b[0m in \u001b[0;36mpartial_fit\u001b[0;34m(self, X, y)\u001b[0m\n\u001b[1;32m    351\u001b[0m         X = check_array(X, copy=self.copy,\n\u001b[1;32m    352\u001b[0m                         \u001b[0mestimator\u001b[0m\u001b[0;34m=\u001b[0m\u001b[0mself\u001b[0m\u001b[0;34m,\u001b[0m \u001b[0mdtype\u001b[0m\u001b[0;34m=\u001b[0m\u001b[0mFLOAT_DTYPES\u001b[0m\u001b[0;34m,\u001b[0m\u001b[0;34m\u001b[0m\u001b[0;34m\u001b[0m\u001b[0m\n\u001b[0;32m--> 353\u001b[0;31m                         force_all_finite=\"allow-nan\")\n\u001b[0m\u001b[1;32m    354\u001b[0m \u001b[0;34m\u001b[0m\u001b[0m\n\u001b[1;32m    355\u001b[0m         \u001b[0mdata_min\u001b[0m \u001b[0;34m=\u001b[0m \u001b[0mnp\u001b[0m\u001b[0;34m.\u001b[0m\u001b[0mnanmin\u001b[0m\u001b[0;34m(\u001b[0m\u001b[0mX\u001b[0m\u001b[0;34m,\u001b[0m \u001b[0maxis\u001b[0m\u001b[0;34m=\u001b[0m\u001b[0;36m0\u001b[0m\u001b[0;34m)\u001b[0m\u001b[0;34m\u001b[0m\u001b[0;34m\u001b[0m\u001b[0m\n",
            "\u001b[0;32m/usr/local/lib/python3.6/dist-packages/sklearn/utils/validation.py\u001b[0m in \u001b[0;36mcheck_array\u001b[0;34m(array, accept_sparse, accept_large_sparse, dtype, order, copy, force_all_finite, ensure_2d, allow_nd, ensure_min_samples, ensure_min_features, warn_on_dtype, estimator)\u001b[0m\n\u001b[1;32m    494\u001b[0m             \u001b[0;32mtry\u001b[0m\u001b[0;34m:\u001b[0m\u001b[0;34m\u001b[0m\u001b[0;34m\u001b[0m\u001b[0m\n\u001b[1;32m    495\u001b[0m                 \u001b[0mwarnings\u001b[0m\u001b[0;34m.\u001b[0m\u001b[0msimplefilter\u001b[0m\u001b[0;34m(\u001b[0m\u001b[0;34m'error'\u001b[0m\u001b[0;34m,\u001b[0m \u001b[0mComplexWarning\u001b[0m\u001b[0;34m)\u001b[0m\u001b[0;34m\u001b[0m\u001b[0;34m\u001b[0m\u001b[0m\n\u001b[0;32m--> 496\u001b[0;31m                 \u001b[0marray\u001b[0m \u001b[0;34m=\u001b[0m \u001b[0mnp\u001b[0m\u001b[0;34m.\u001b[0m\u001b[0masarray\u001b[0m\u001b[0;34m(\u001b[0m\u001b[0marray\u001b[0m\u001b[0;34m,\u001b[0m \u001b[0mdtype\u001b[0m\u001b[0;34m=\u001b[0m\u001b[0mdtype\u001b[0m\u001b[0;34m,\u001b[0m \u001b[0morder\u001b[0m\u001b[0;34m=\u001b[0m\u001b[0morder\u001b[0m\u001b[0;34m)\u001b[0m\u001b[0;34m\u001b[0m\u001b[0;34m\u001b[0m\u001b[0m\n\u001b[0m\u001b[1;32m    497\u001b[0m             \u001b[0;32mexcept\u001b[0m \u001b[0mComplexWarning\u001b[0m\u001b[0;34m:\u001b[0m\u001b[0;34m\u001b[0m\u001b[0;34m\u001b[0m\u001b[0m\n\u001b[1;32m    498\u001b[0m                 raise ValueError(\"Complex data not supported\\n\"\n",
            "\u001b[0;32m/usr/local/lib/python3.6/dist-packages/numpy/core/numeric.py\u001b[0m in \u001b[0;36masarray\u001b[0;34m(a, dtype, order)\u001b[0m\n\u001b[1;32m    536\u001b[0m \u001b[0;34m\u001b[0m\u001b[0m\n\u001b[1;32m    537\u001b[0m     \"\"\"\n\u001b[0;32m--> 538\u001b[0;31m     \u001b[0;32mreturn\u001b[0m \u001b[0marray\u001b[0m\u001b[0;34m(\u001b[0m\u001b[0ma\u001b[0m\u001b[0;34m,\u001b[0m \u001b[0mdtype\u001b[0m\u001b[0;34m,\u001b[0m \u001b[0mcopy\u001b[0m\u001b[0;34m=\u001b[0m\u001b[0;32mFalse\u001b[0m\u001b[0;34m,\u001b[0m \u001b[0morder\u001b[0m\u001b[0;34m=\u001b[0m\u001b[0morder\u001b[0m\u001b[0;34m)\u001b[0m\u001b[0;34m\u001b[0m\u001b[0;34m\u001b[0m\u001b[0m\n\u001b[0m\u001b[1;32m    539\u001b[0m \u001b[0;34m\u001b[0m\u001b[0m\n\u001b[1;32m    540\u001b[0m \u001b[0;34m\u001b[0m\u001b[0m\n",
            "\u001b[0;31mValueError\u001b[0m: could not convert string to float: 'Impact Drill'"
          ]
        }
      ]
    },
    {
      "cell_type": "code",
      "metadata": {
        "id": "5wNV1K-80Imt",
        "colab_type": "code",
        "colab": {}
      },
      "source": [
        "import math\n",
        "dis=[]\n",
        "temp =list(sd['Price'])\n",
        "for i in range(0,len(temp)-1):\n",
        "  dis.append(temp[i+1]-temp[i])\n",
        "\n",
        "arr = np.array(dis)\n",
        "\n",
        "diss = pd.DataFrame(dis,columns=['dis'])\n",
        "diss.describe()\n",
        "std=diss['dis'].std()\n",
        "ma = diss['dis'].max()\n",
        "n=len(dis)"
      ],
      "execution_count": 0,
      "outputs": []
    },
    {
      "cell_type": "code",
      "metadata": {
        "id": "XcUm4HTj9cJz",
        "colab_type": "code",
        "colab": {}
      },
      "source": [
        "cnt={}\n",
        "unique_dis=list(set(dis))\n",
        "for i in unique_dis:\n",
        "  cnt[i]=dis.count(i)\n",
        "keys = cnt.keys()\n",
        "keys=sorted(keys)\n",
        "\n",
        "\n",
        "print(len(keys))\n",
        "\n",
        "  "
      ],
      "execution_count": 0,
      "outputs": []
    },
    {
      "cell_type": "code",
      "metadata": {
        "id": "ascr1G2F_IKx",
        "colab_type": "code",
        "colab": {}
      },
      "source": [
        "cands=[]\n",
        "full = int(round((0.92*n),0))\n",
        "for i in keys:\n",
        "  full = full - cnt[i]\n",
        "  cands.append(i)\n",
        "  if(full<=0):\n",
        "    break\n",
        "    \n"
      ],
      "execution_count": 0,
      "outputs": []
    },
    {
      "cell_type": "code",
      "metadata": {
        "id": "OgLp95Ab_nE6",
        "colab_type": "code",
        "colab": {}
      },
      "source": [
        "\n",
        "b = pd.DataFrame(cands)\n",
        "b.describe()\n",
        "epsilon = round(np.max(np.array(b))*1000,0)/1000\n",
        "epsilon"
      ],
      "execution_count": 0,
      "outputs": []
    },
    {
      "cell_type": "code",
      "metadata": {
        "id": "T6MY-O2P1ITw",
        "colab_type": "code",
        "outputId": "cebd6490-4267-45ad-ccf8-6ab49546e129",
        "colab": {
          "base_uri": "https://localhost:8080/",
          "height": 232
        }
      },
      "source": [
        "#main\n",
        "\n",
        "from sklearn.cluster import DBSCAN\n",
        "outlier_detection = DBSCAN(\n",
        "  eps = epsilon ,\n",
        "  metric=\"euclidean\",\n",
        "  min_samples = 3,\n",
        "  n_jobs = -1)\n",
        "clusters = outlier_detection.fit_predict(sd)"
      ],
      "execution_count": 0,
      "outputs": [
        {
          "output_type": "error",
          "ename": "NameError",
          "evalue": "ignored",
          "traceback": [
            "\u001b[0;31m---------------------------------------------------------------------------\u001b[0m",
            "\u001b[0;31mNameError\u001b[0m                                 Traceback (most recent call last)",
            "\u001b[0;32m<ipython-input-37-0bd80be82813>\u001b[0m in \u001b[0;36m<module>\u001b[0;34m()\u001b[0m\n\u001b[1;32m      2\u001b[0m \u001b[0;32mfrom\u001b[0m \u001b[0msklearn\u001b[0m\u001b[0;34m.\u001b[0m\u001b[0mcluster\u001b[0m \u001b[0;32mimport\u001b[0m \u001b[0mDBSCAN\u001b[0m\u001b[0;34m\u001b[0m\u001b[0;34m\u001b[0m\u001b[0m\n\u001b[1;32m      3\u001b[0m outlier_detection = DBSCAN(\n\u001b[0;32m----> 4\u001b[0;31m   \u001b[0meps\u001b[0m \u001b[0;34m=\u001b[0m \u001b[0mepsilon\u001b[0m \u001b[0;34m,\u001b[0m\u001b[0;34m\u001b[0m\u001b[0;34m\u001b[0m\u001b[0m\n\u001b[0m\u001b[1;32m      5\u001b[0m   \u001b[0mmetric\u001b[0m\u001b[0;34m=\u001b[0m\u001b[0;34m\"euclidean\"\u001b[0m\u001b[0;34m,\u001b[0m\u001b[0;34m\u001b[0m\u001b[0;34m\u001b[0m\u001b[0m\n\u001b[1;32m      6\u001b[0m   \u001b[0mmin_samples\u001b[0m \u001b[0;34m=\u001b[0m \u001b[0;36m3\u001b[0m\u001b[0;34m,\u001b[0m\u001b[0;34m\u001b[0m\u001b[0;34m\u001b[0m\u001b[0m\n",
            "\u001b[0;31mNameError\u001b[0m: name 'epsilon' is not defined"
          ]
        }
      ]
    },
    {
      "cell_type": "code",
      "metadata": {
        "id": "UVuMRWJz0NGM",
        "colab_type": "code",
        "colab": {}
      },
      "source": [
        "cluster_map = pd.DataFrame()\n",
        "cluster_map['cluster'] = outlier_detection.labels_\n",
        "cluster_map[cluster_map.cluster == 0]\n",
        "clusters[clusters!=-1]=1\n",
        "dbscan_vote = clusters"
      ],
      "execution_count": 0,
      "outputs": []
    },
    {
      "cell_type": "code",
      "metadata": {
        "id": "R2j-LkXCCeRB",
        "colab_type": "code",
        "colab": {}
      },
      "source": [
        "dbscan_vote"
      ],
      "execution_count": 0,
      "outputs": []
    },
    {
      "cell_type": "markdown",
      "metadata": {
        "id": "JvXCZPNz5nWY",
        "colab_type": "text"
      },
      "source": [
        "## LOF"
      ]
    },
    {
      "cell_type": "code",
      "metadata": {
        "id": "EO-m7sOh5qPy",
        "colab_type": "code",
        "outputId": "81289a4c-cfcb-4ac8-a971-111b6c532246",
        "colab": {
          "base_uri": "https://localhost:8080/",
          "height": 232
        }
      },
      "source": [
        "clf = LocalOutlierFactor(n_neighbors=20, contamination=contamination_factor)\n",
        "y_pred = clf.fit_predict(data)\n",
        "X_scores = clf.negative_outlier_factor_\n",
        "\n",
        "lof_vote = y_pred"
      ],
      "execution_count": 0,
      "outputs": [
        {
          "output_type": "error",
          "ename": "NameError",
          "evalue": "ignored",
          "traceback": [
            "\u001b[0;31m---------------------------------------------------------------------------\u001b[0m",
            "\u001b[0;31mNameError\u001b[0m                                 Traceback (most recent call last)",
            "\u001b[0;32m<ipython-input-38-37147703f36a>\u001b[0m in \u001b[0;36m<module>\u001b[0;34m()\u001b[0m\n\u001b[0;32m----> 1\u001b[0;31m \u001b[0mclf\u001b[0m \u001b[0;34m=\u001b[0m \u001b[0mLocalOutlierFactor\u001b[0m\u001b[0;34m(\u001b[0m\u001b[0mn_neighbors\u001b[0m\u001b[0;34m=\u001b[0m\u001b[0;36m20\u001b[0m\u001b[0;34m,\u001b[0m \u001b[0mcontamination\u001b[0m\u001b[0;34m=\u001b[0m\u001b[0mcontamination_factor\u001b[0m\u001b[0;34m)\u001b[0m\u001b[0;34m\u001b[0m\u001b[0;34m\u001b[0m\u001b[0m\n\u001b[0m\u001b[1;32m      2\u001b[0m \u001b[0my_pred\u001b[0m \u001b[0;34m=\u001b[0m \u001b[0mclf\u001b[0m\u001b[0;34m.\u001b[0m\u001b[0mfit_predict\u001b[0m\u001b[0;34m(\u001b[0m\u001b[0mdata\u001b[0m\u001b[0;34m)\u001b[0m\u001b[0;34m\u001b[0m\u001b[0;34m\u001b[0m\u001b[0m\n\u001b[1;32m      3\u001b[0m \u001b[0mX_scores\u001b[0m \u001b[0;34m=\u001b[0m \u001b[0mclf\u001b[0m\u001b[0;34m.\u001b[0m\u001b[0mnegative_outlier_factor_\u001b[0m\u001b[0;34m\u001b[0m\u001b[0;34m\u001b[0m\u001b[0m\n\u001b[1;32m      4\u001b[0m \u001b[0;34m\u001b[0m\u001b[0m\n\u001b[1;32m      5\u001b[0m \u001b[0mlof_vote\u001b[0m \u001b[0;34m=\u001b[0m \u001b[0my_pred\u001b[0m\u001b[0;34m\u001b[0m\u001b[0;34m\u001b[0m\u001b[0m\n",
            "\u001b[0;31mNameError\u001b[0m: name 'contamination_factor' is not defined"
          ]
        }
      ]
    },
    {
      "cell_type": "code",
      "metadata": {
        "id": "h5Vv1U5WBHdY",
        "colab_type": "code",
        "colab": {}
      },
      "source": [
        "lof_vote"
      ],
      "execution_count": 0,
      "outputs": []
    },
    {
      "cell_type": "markdown",
      "metadata": {
        "id": "z45JTSF-cmWZ",
        "colab_type": "text"
      },
      "source": [
        "## Autoencoders (To Be Used Later)\n",
        "\n",
        "\n",
        "To be used later, when more data is available. This would be a semi-supervised learning approach, where <=5% of total data should be labeled. This will greatly improve the accurcy of price range prediction."
      ]
    },
    {
      "cell_type": "code",
      "metadata": {
        "id": "e63pQ4qh25kn",
        "colab_type": "code",
        "outputId": "2aa18e30-f075-420c-ffbf-856c7d4c34a1",
        "colab": {
          "base_uri": "https://localhost:8080/",
          "height": 232
        }
      },
      "source": [
        "#prepare 5-10% labeled data\n",
        "\n",
        "data=[]\n",
        "for i in indices:\n",
        "  data.append(label_data[i])\n",
        "  \n",
        "data = np.array(data)\n",
        "  \n",
        "  \n",
        "indices=[]\n",
        "limit = int(round(0.4*len(t),0))\n",
        "while(1):\n",
        "  i = random.randint(0,len(t))\n",
        "  if(limit<=0):\n",
        "    break\n",
        "  if(t[i]!=-1):\n",
        "    indices.append(i)\n",
        "    limit = limit - 1\n",
        "  "
      ],
      "execution_count": 0,
      "outputs": [
        {
          "output_type": "error",
          "ename": "NameError",
          "evalue": "ignored",
          "traceback": [
            "\u001b[0;31m---------------------------------------------------------------------------\u001b[0m",
            "\u001b[0;31mNameError\u001b[0m                                 Traceback (most recent call last)",
            "\u001b[0;32m<ipython-input-39-0f25e3444434>\u001b[0m in \u001b[0;36m<module>\u001b[0;34m()\u001b[0m\n\u001b[1;32m      1\u001b[0m \u001b[0;34m\u001b[0m\u001b[0m\n\u001b[1;32m      2\u001b[0m \u001b[0mdata\u001b[0m\u001b[0;34m=\u001b[0m\u001b[0;34m[\u001b[0m\u001b[0;34m]\u001b[0m\u001b[0;34m\u001b[0m\u001b[0;34m\u001b[0m\u001b[0m\n\u001b[0;32m----> 3\u001b[0;31m \u001b[0;32mfor\u001b[0m \u001b[0mi\u001b[0m \u001b[0;32min\u001b[0m \u001b[0mindices\u001b[0m\u001b[0;34m:\u001b[0m\u001b[0;34m\u001b[0m\u001b[0;34m\u001b[0m\u001b[0m\n\u001b[0m\u001b[1;32m      4\u001b[0m   \u001b[0mdata\u001b[0m\u001b[0;34m.\u001b[0m\u001b[0mappend\u001b[0m\u001b[0;34m(\u001b[0m\u001b[0mlabel_data\u001b[0m\u001b[0;34m[\u001b[0m\u001b[0mi\u001b[0m\u001b[0;34m]\u001b[0m\u001b[0;34m)\u001b[0m\u001b[0;34m\u001b[0m\u001b[0;34m\u001b[0m\u001b[0m\n\u001b[1;32m      5\u001b[0m \u001b[0;34m\u001b[0m\u001b[0m\n",
            "\u001b[0;31mNameError\u001b[0m: name 'indices' is not defined"
          ]
        }
      ]
    },
    {
      "cell_type": "code",
      "metadata": {
        "id": "E6E52OywdMXE",
        "colab_type": "code",
        "colab": {}
      },
      "source": [
        "from keras.models import Model\n",
        "from keras.layers import Dense, Input\n",
        "from keras.datasets import mnist\n",
        "from keras.regularizers import l1\n",
        "from keras.optimizers import Adam"
      ],
      "execution_count": 0,
      "outputs": []
    },
    {
      "cell_type": "code",
      "metadata": {
        "id": "SJySaGAoi7vZ",
        "colab_type": "code",
        "outputId": "7b23300b-a368-45ce-a266-bbe314372e53",
        "colab": {
          "base_uri": "https://localhost:8080/",
          "height": 181
        }
      },
      "source": [
        "data =  data.reshape(-1,48)\n",
        "data"
      ],
      "execution_count": 0,
      "outputs": [
        {
          "output_type": "error",
          "ename": "AttributeError",
          "evalue": "ignored",
          "traceback": [
            "\u001b[0;31m---------------------------------------------------------------------------\u001b[0m",
            "\u001b[0;31mAttributeError\u001b[0m                            Traceback (most recent call last)",
            "\u001b[0;32m<ipython-input-40-90f5f32a223b>\u001b[0m in \u001b[0;36m<module>\u001b[0;34m()\u001b[0m\n\u001b[0;32m----> 1\u001b[0;31m \u001b[0mdata\u001b[0m \u001b[0;34m=\u001b[0m  \u001b[0mdata\u001b[0m\u001b[0;34m.\u001b[0m\u001b[0mreshape\u001b[0m\u001b[0;34m(\u001b[0m\u001b[0;34m-\u001b[0m\u001b[0;36m1\u001b[0m\u001b[0;34m,\u001b[0m\u001b[0;36m48\u001b[0m\u001b[0;34m)\u001b[0m\u001b[0;34m\u001b[0m\u001b[0;34m\u001b[0m\u001b[0m\n\u001b[0m\u001b[1;32m      2\u001b[0m \u001b[0mdata\u001b[0m\u001b[0;34m\u001b[0m\u001b[0;34m\u001b[0m\u001b[0m\n",
            "\u001b[0;31mAttributeError\u001b[0m: 'list' object has no attribute 'reshape'"
          ]
        }
      ]
    },
    {
      "cell_type": "code",
      "metadata": {
        "id": "vO_a57JlwF-w",
        "colab_type": "code",
        "colab": {}
      },
      "source": [
        "from sklearn.model_selection import data_test_split\n",
        "from sklearn.metrics import confusion_matrix, precision_recall_curve\n",
        "from sklearn.metrics import recall_score, classification_report, auc, roc_curve\n",
        "from sklearn.metrics import precision_recall_fscore_support, f1_score\n",
        "from sklearn.preprocessing import StandardScaler\n",
        "from pylab import rcParams\n",
        "from keras.models import Model, load_model\n",
        "from keras.layers import Input, Dense\n",
        "from keras.callbacks import ModelCheckpoint, TensorBoard\n",
        "from keras import regularizers"
      ],
      "execution_count": 0,
      "outputs": []
    },
    {
      "cell_type": "code",
      "metadata": {
        "id": "8MmPVKMRcoqu",
        "colab_type": "code",
        "colab": {}
      },
      "source": [
        "input_size = 48\n",
        "\n",
        "encoding_dim = 24\n",
        "hidden_dim = int(encoding_dim / 2) \n",
        "learning_rate = 1e-7\n",
        "\n",
        "input_layer = Input(shape=(input_size,))\n",
        "\n",
        "decoder = Dense(hidden_dim, activation='relu')(input_layer)\n",
        "decoder = Dense(input_size, activation='linear')(decoder)\n",
        "\n",
        "autoencoder = Model(input_layer, decoder)\n",
        "autoencoder.compile(optimizer='adam', loss='mean_squared_error',metrics = ['mean_squared_error'])\n",
        "autoencoder.summary()"
      ],
      "execution_count": 0,
      "outputs": []
    },
    {
      "cell_type": "code",
      "metadata": {
        "id": "BovGt4xOdBFv",
        "colab_type": "code",
        "outputId": "ee006245-928e-4e1c-c89a-f6d3b9996e2a",
        "colab": {
          "base_uri": "https://localhost:8080/",
          "height": 164
        }
      },
      "source": [
        "autoencoder.fit(data, data, epochs=300)\n"
      ],
      "execution_count": 0,
      "outputs": [
        {
          "output_type": "error",
          "ename": "NameError",
          "evalue": "ignored",
          "traceback": [
            "\u001b[0;31m---------------------------------------------------------------------------\u001b[0m",
            "\u001b[0;31mNameError\u001b[0m                                 Traceback (most recent call last)",
            "\u001b[0;32m<ipython-input-41-05c9de5b4331>\u001b[0m in \u001b[0;36m<module>\u001b[0;34m()\u001b[0m\n\u001b[0;32m----> 1\u001b[0;31m \u001b[0mautoencoder\u001b[0m\u001b[0;34m.\u001b[0m\u001b[0mfit\u001b[0m\u001b[0;34m(\u001b[0m\u001b[0mdata\u001b[0m\u001b[0;34m,\u001b[0m \u001b[0mdata\u001b[0m\u001b[0;34m,\u001b[0m \u001b[0mepochs\u001b[0m\u001b[0;34m=\u001b[0m\u001b[0;36m300\u001b[0m\u001b[0;34m)\u001b[0m\u001b[0;34m\u001b[0m\u001b[0;34m\u001b[0m\u001b[0m\n\u001b[0m",
            "\u001b[0;31mNameError\u001b[0m: name 'autoencoder' is not defined"
          ]
        }
      ]
    },
    {
      "cell_type": "code",
      "metadata": {
        "id": "pIBMg2-h0fey",
        "colab_type": "code",
        "outputId": "f565c353-8182-4427-dada-310a8a177fcd",
        "colab": {
          "base_uri": "https://localhost:8080/",
          "height": 181
        }
      },
      "source": [
        "reconstructed = autoencoder.predict(data)\n",
        "reconstructed"
      ],
      "execution_count": 0,
      "outputs": [
        {
          "output_type": "error",
          "ename": "NameError",
          "evalue": "ignored",
          "traceback": [
            "\u001b[0;31m---------------------------------------------------------------------------\u001b[0m",
            "\u001b[0;31mNameError\u001b[0m                                 Traceback (most recent call last)",
            "\u001b[0;32m<ipython-input-42-76193ddb2884>\u001b[0m in \u001b[0;36m<module>\u001b[0;34m()\u001b[0m\n\u001b[0;32m----> 1\u001b[0;31m \u001b[0mreconstructed\u001b[0m \u001b[0;34m=\u001b[0m \u001b[0mautoencoder\u001b[0m\u001b[0;34m.\u001b[0m\u001b[0mpredict\u001b[0m\u001b[0;34m(\u001b[0m\u001b[0mdata\u001b[0m\u001b[0;34m)\u001b[0m\u001b[0;34m\u001b[0m\u001b[0;34m\u001b[0m\u001b[0m\n\u001b[0m\u001b[1;32m      2\u001b[0m \u001b[0mreconstructed\u001b[0m\u001b[0;34m\u001b[0m\u001b[0;34m\u001b[0m\u001b[0m\n",
            "\u001b[0;31mNameError\u001b[0m: name 'autoencoder' is not defined"
          ]
        }
      ]
    },
    {
      "cell_type": "code",
      "metadata": {
        "id": "Gy1m90zZjk1l",
        "colab_type": "code",
        "colab": {}
      },
      "source": [
        "markers = []\n",
        "checks = list(data - reconstructed)\n",
        "checks = checks[0]\n",
        "\n",
        "\n",
        "for i in range(len(checks)):\n",
        "  if(abs(checks[i])>2):\n",
        "    markers.append(-1)\n",
        "  else:\n",
        "    markers.append(1)\n",
        "\n",
        "np.array(markers)"
      ],
      "execution_count": 0,
      "outputs": []
    },
    {
      "cell_type": "code",
      "metadata": {
        "id": "IYEnBTlsHAhl",
        "colab_type": "code",
        "colab": {}
      },
      "source": [
        ""
      ],
      "execution_count": 0,
      "outputs": []
    }
  ]
}