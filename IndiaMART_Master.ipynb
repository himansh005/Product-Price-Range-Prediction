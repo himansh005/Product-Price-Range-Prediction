{
  "nbformat": 4,
  "nbformat_minor": 0,
  "metadata": {
    "colab": {
      "name": "IndiaMART_Master.ipynb",
      "version": "0.3.2",
      "provenance": [],
      "collapsed_sections": [
        "3PxWIGYRHZ9w",
        "to5tYq-HyMHI"
      ]
    },
    "kernelspec": {
      "name": "python3",
      "display_name": "Python 3"
    },
    "accelerator": "GPU"
  },
  "cells": [
    {
      "cell_type": "markdown",
      "metadata": {
        "id": "iusx9sarbusV",
        "colab_type": "text"
      },
      "source": [
        "# IndiaMart PriceRangePrediction\n",
        "\n",
        "New Section\n",
        "\n",
        "\n",
        "```\n",
        "# To Achieve the target, we have assumed the following things:\n",
        "\n",
        "      1. 85% and above prices should be retained after outlier detection for finding the price range.\n",
        "      2. Units which have counts < 5 are removed.\n",
        "     \n",
        "```\n",
        "\n",
        "\n",
        "```\n",
        "# The following ensemble technique is used to find outliers:\n",
        "\n",
        "        1. Isolation Forests - IF\n",
        "        2. DBScan\n",
        "        3. LOF\n",
        "        4. MaxVote(IF, DBScan, LOF)\n",
        "```\n",
        "\n",
        "```\n",
        "\n",
        "# For estimation of amount of contamination, Inter-Quartile Range Data is considered. If Data(IQR)==100%, it is set to 98% and if <=85%, it is set to 87%\n",
        "```\n",
        "\n",
        "The **contamination**  factor and **epsilon** value are not fixed and infered dynamically by the above technique. Primary test indicate robust nature of this technique.\n"
      ]
    },
    {
      "cell_type": "markdown",
      "metadata": {
        "id": "3PxWIGYRHZ9w",
        "colab_type": "text"
      },
      "source": [
        "##Imports"
      ]
    },
    {
      "cell_type": "code",
      "metadata": {
        "id": "qfAdrYqfEIJC",
        "colab_type": "code",
        "colab": {}
      },
      "source": [
        "import pandas as pd\n",
        "import numpy as np\n",
        "from matplotlib import pyplot as plt\n",
        "\n",
        "import numpy as np \n",
        "import pandas as pd \n",
        "\n",
        "import matplotlib.pyplot as plt\n",
        "import seaborn as sns\n",
        "\n",
        "from sklearn.ensemble import IsolationForest\n",
        "from sklearn.neighbors import LocalOutlierFactor\n"
      ],
      "execution_count": 0,
      "outputs": []
    },
    {
      "cell_type": "markdown",
      "metadata": {
        "id": "MFGdsMenHeDM",
        "colab_type": "text"
      },
      "source": [
        "##Data Preprocessing"
      ]
    },
    {
      "cell_type": "code",
      "metadata": {
        "id": "v71eP6_3ENNV",
        "colab_type": "code",
        "colab": {}
      },
      "source": [
        "#read data\n",
        "data1 = pd.read_csv('t1.csv')\n",
        "data2 = pd.read_csv('t2.csv')\n",
        "data3 = pd.read_csv('t3.csv')\n",
        "\n",
        "#remove empty columns\n",
        "data1 = data1.drop(columns=['Unnamed: 3','Unnamed: 4'])\n",
        "data2 = data2.drop(columns=['Unnamed: 3','Unnamed: 4'])\n",
        "data3 = data3.drop(columns=['Unnamed: 3','Unnamed: 4'])"
      ],
      "execution_count": 0,
      "outputs": []
    },
    {
      "cell_type": "markdown",
      "metadata": {
        "id": "0tUTOgQ4uovj",
        "colab_type": "text"
      },
      "source": [
        "### Categories Consolidation\n",
        "\n",
        "1. Merge similar **units** by stemming. For example, \"KG\" and \"Kilogram\" are merged. Similarily, \"Unit\" and \"unit\" are merged.\n",
        "\n",
        "2. Remove **units** whole value < 5."
      ]
    },
    {
      "cell_type": "markdown",
      "metadata": {
        "id": "vkQFRtK2vlp-",
        "colab_type": "text"
      },
      "source": [
        "Processing : **Data 1**"
      ]
    },
    {
      "cell_type": "code",
      "metadata": {
        "id": "U51oRbRtvFV2",
        "colab_type": "code",
        "outputId": "7005fee4-d887-49e8-bd3a-35dbaf97d2d2",
        "colab": {
          "base_uri": "https://localhost:8080/",
          "height": 68
        }
      },
      "source": [
        "data1.Unit.unique()"
      ],
      "execution_count": 76,
      "outputs": [
        {
          "output_type": "execute_result",
          "data": {
            "text/plain": [
              "array(['Piece', 'Piece(s)', 'pack', 'unit', 'Number', 'Unit', 'Pack',\n",
              "       '1nos', 'Unit(s)', 'kit', 'Set', 'Pc_Onwards', 'ONWARDS', 'Kit'],\n",
              "      dtype=object)"
            ]
          },
          "metadata": {
            "tags": []
          },
          "execution_count": 76
        }
      ]
    },
    {
      "cell_type": "code",
      "metadata": {
        "id": "CaGp_xN6vThc",
        "colab_type": "code",
        "outputId": "507aed11-68bd-4b8e-8382-0b9c0954eb88",
        "colab": {
          "base_uri": "https://localhost:8080/",
          "height": 545
        }
      },
      "source": [
        "data1_group = data1.groupby(by='Unit')\n",
        "data1_group.describe()"
      ],
      "execution_count": 77,
      "outputs": [
        {
          "output_type": "execute_result",
          "data": {
            "text/html": [
              "<div>\n",
              "<style scoped>\n",
              "    .dataframe tbody tr th:only-of-type {\n",
              "        vertical-align: middle;\n",
              "    }\n",
              "\n",
              "    .dataframe tbody tr th {\n",
              "        vertical-align: top;\n",
              "    }\n",
              "\n",
              "    .dataframe thead tr th {\n",
              "        text-align: left;\n",
              "    }\n",
              "\n",
              "    .dataframe thead tr:last-of-type th {\n",
              "        text-align: right;\n",
              "    }\n",
              "</style>\n",
              "<table border=\"1\" class=\"dataframe\">\n",
              "  <thead>\n",
              "    <tr>\n",
              "      <th></th>\n",
              "      <th colspan=\"8\" halign=\"left\">Price</th>\n",
              "    </tr>\n",
              "    <tr>\n",
              "      <th></th>\n",
              "      <th>count</th>\n",
              "      <th>mean</th>\n",
              "      <th>std</th>\n",
              "      <th>min</th>\n",
              "      <th>25%</th>\n",
              "      <th>50%</th>\n",
              "      <th>75%</th>\n",
              "      <th>max</th>\n",
              "    </tr>\n",
              "    <tr>\n",
              "      <th>Unit</th>\n",
              "      <th></th>\n",
              "      <th></th>\n",
              "      <th></th>\n",
              "      <th></th>\n",
              "      <th></th>\n",
              "      <th></th>\n",
              "      <th></th>\n",
              "      <th></th>\n",
              "    </tr>\n",
              "  </thead>\n",
              "  <tbody>\n",
              "    <tr>\n",
              "      <th>1nos</th>\n",
              "      <td>1.0</td>\n",
              "      <td>2100.000000</td>\n",
              "      <td>NaN</td>\n",
              "      <td>2100.0</td>\n",
              "      <td>2100.0</td>\n",
              "      <td>2100.0</td>\n",
              "      <td>2100.0</td>\n",
              "      <td>2100.0</td>\n",
              "    </tr>\n",
              "    <tr>\n",
              "      <th>Kit</th>\n",
              "      <td>1.0</td>\n",
              "      <td>5690.000000</td>\n",
              "      <td>NaN</td>\n",
              "      <td>5690.0</td>\n",
              "      <td>5690.0</td>\n",
              "      <td>5690.0</td>\n",
              "      <td>5690.0</td>\n",
              "      <td>5690.0</td>\n",
              "    </tr>\n",
              "    <tr>\n",
              "      <th>Number</th>\n",
              "      <td>14.0</td>\n",
              "      <td>7822.357143</td>\n",
              "      <td>8373.961415</td>\n",
              "      <td>1250.0</td>\n",
              "      <td>2904.0</td>\n",
              "      <td>5385.0</td>\n",
              "      <td>6955.0</td>\n",
              "      <td>29840.0</td>\n",
              "    </tr>\n",
              "    <tr>\n",
              "      <th>ONWARDS</th>\n",
              "      <td>1.0</td>\n",
              "      <td>5000.000000</td>\n",
              "      <td>NaN</td>\n",
              "      <td>5000.0</td>\n",
              "      <td>5000.0</td>\n",
              "      <td>5000.0</td>\n",
              "      <td>5000.0</td>\n",
              "      <td>5000.0</td>\n",
              "    </tr>\n",
              "    <tr>\n",
              "      <th>Pack</th>\n",
              "      <td>9.0</td>\n",
              "      <td>3303.888889</td>\n",
              "      <td>1668.343973</td>\n",
              "      <td>1999.0</td>\n",
              "      <td>2226.0</td>\n",
              "      <td>3096.0</td>\n",
              "      <td>3399.0</td>\n",
              "      <td>7499.0</td>\n",
              "    </tr>\n",
              "    <tr>\n",
              "      <th>Pc_Onwards</th>\n",
              "      <td>5.0</td>\n",
              "      <td>8200.000000</td>\n",
              "      <td>2489.979920</td>\n",
              "      <td>5000.0</td>\n",
              "      <td>6000.0</td>\n",
              "      <td>10000.0</td>\n",
              "      <td>10000.0</td>\n",
              "      <td>10000.0</td>\n",
              "    </tr>\n",
              "    <tr>\n",
              "      <th>Piece</th>\n",
              "      <td>119.0</td>\n",
              "      <td>4586.991597</td>\n",
              "      <td>5631.041341</td>\n",
              "      <td>2.0</td>\n",
              "      <td>1792.5</td>\n",
              "      <td>2500.0</td>\n",
              "      <td>4995.0</td>\n",
              "      <td>39830.0</td>\n",
              "    </tr>\n",
              "    <tr>\n",
              "      <th>Piece(s)</th>\n",
              "      <td>5.0</td>\n",
              "      <td>1615.800000</td>\n",
              "      <td>575.150589</td>\n",
              "      <td>1050.0</td>\n",
              "      <td>1050.0</td>\n",
              "      <td>1600.0</td>\n",
              "      <td>2079.0</td>\n",
              "      <td>2300.0</td>\n",
              "    </tr>\n",
              "    <tr>\n",
              "      <th>Set</th>\n",
              "      <td>1.0</td>\n",
              "      <td>4895.000000</td>\n",
              "      <td>NaN</td>\n",
              "      <td>4895.0</td>\n",
              "      <td>4895.0</td>\n",
              "      <td>4895.0</td>\n",
              "      <td>4895.0</td>\n",
              "      <td>4895.0</td>\n",
              "    </tr>\n",
              "    <tr>\n",
              "      <th>Unit</th>\n",
              "      <td>17.0</td>\n",
              "      <td>18025.647059</td>\n",
              "      <td>20295.580125</td>\n",
              "      <td>1700.0</td>\n",
              "      <td>3431.0</td>\n",
              "      <td>8000.0</td>\n",
              "      <td>35000.0</td>\n",
              "      <td>55000.0</td>\n",
              "    </tr>\n",
              "    <tr>\n",
              "      <th>Unit(s)</th>\n",
              "      <td>1.0</td>\n",
              "      <td>2150.000000</td>\n",
              "      <td>NaN</td>\n",
              "      <td>2150.0</td>\n",
              "      <td>2150.0</td>\n",
              "      <td>2150.0</td>\n",
              "      <td>2150.0</td>\n",
              "      <td>2150.0</td>\n",
              "    </tr>\n",
              "    <tr>\n",
              "      <th>kit</th>\n",
              "      <td>1.0</td>\n",
              "      <td>2243.000000</td>\n",
              "      <td>NaN</td>\n",
              "      <td>2243.0</td>\n",
              "      <td>2243.0</td>\n",
              "      <td>2243.0</td>\n",
              "      <td>2243.0</td>\n",
              "      <td>2243.0</td>\n",
              "    </tr>\n",
              "    <tr>\n",
              "      <th>pack</th>\n",
              "      <td>47.0</td>\n",
              "      <td>8713.489362</td>\n",
              "      <td>11848.402409</td>\n",
              "      <td>1069.0</td>\n",
              "      <td>2412.0</td>\n",
              "      <td>3179.0</td>\n",
              "      <td>7619.5</td>\n",
              "      <td>47462.0</td>\n",
              "    </tr>\n",
              "    <tr>\n",
              "      <th>unit</th>\n",
              "      <td>25.0</td>\n",
              "      <td>6024.040000</td>\n",
              "      <td>7682.493277</td>\n",
              "      <td>1199.0</td>\n",
              "      <td>2297.0</td>\n",
              "      <td>2909.0</td>\n",
              "      <td>6230.0</td>\n",
              "      <td>37848.0</td>\n",
              "    </tr>\n",
              "  </tbody>\n",
              "</table>\n",
              "</div>"
            ],
            "text/plain": [
              "            Price                              ...                           \n",
              "            count          mean           std  ...      50%      75%      max\n",
              "Unit                                           ...                           \n",
              "1nos          1.0   2100.000000           NaN  ...   2100.0   2100.0   2100.0\n",
              "Kit           1.0   5690.000000           NaN  ...   5690.0   5690.0   5690.0\n",
              "Number       14.0   7822.357143   8373.961415  ...   5385.0   6955.0  29840.0\n",
              "ONWARDS       1.0   5000.000000           NaN  ...   5000.0   5000.0   5000.0\n",
              "Pack          9.0   3303.888889   1668.343973  ...   3096.0   3399.0   7499.0\n",
              "Pc_Onwards    5.0   8200.000000   2489.979920  ...  10000.0  10000.0  10000.0\n",
              "Piece       119.0   4586.991597   5631.041341  ...   2500.0   4995.0  39830.0\n",
              "Piece(s)      5.0   1615.800000    575.150589  ...   1600.0   2079.0   2300.0\n",
              "Set           1.0   4895.000000           NaN  ...   4895.0   4895.0   4895.0\n",
              "Unit         17.0  18025.647059  20295.580125  ...   8000.0  35000.0  55000.0\n",
              "Unit(s)       1.0   2150.000000           NaN  ...   2150.0   2150.0   2150.0\n",
              "kit           1.0   2243.000000           NaN  ...   2243.0   2243.0   2243.0\n",
              "pack         47.0   8713.489362  11848.402409  ...   3179.0   7619.5  47462.0\n",
              "unit         25.0   6024.040000   7682.493277  ...   2909.0   6230.0  37848.0\n",
              "\n",
              "[14 rows x 8 columns]"
            ]
          },
          "metadata": {
            "tags": []
          },
          "execution_count": 77
        }
      ]
    },
    {
      "cell_type": "code",
      "metadata": {
        "id": "_bzN44sGvVYT",
        "colab_type": "code",
        "outputId": "6a24ca65-f6a7-4d30-baee-b6b71e43a3d5",
        "colab": {
          "base_uri": "https://localhost:8080/",
          "height": 483
        }
      },
      "source": [
        "data1.Unit = data1.Unit.replace({\"Unit\": \"unit\",\"Pack\": \"pack\"})\n",
        "data1_group = data1.groupby(by='Unit')\n",
        "data1_group.describe()"
      ],
      "execution_count": 78,
      "outputs": [
        {
          "output_type": "execute_result",
          "data": {
            "text/html": [
              "<div>\n",
              "<style scoped>\n",
              "    .dataframe tbody tr th:only-of-type {\n",
              "        vertical-align: middle;\n",
              "    }\n",
              "\n",
              "    .dataframe tbody tr th {\n",
              "        vertical-align: top;\n",
              "    }\n",
              "\n",
              "    .dataframe thead tr th {\n",
              "        text-align: left;\n",
              "    }\n",
              "\n",
              "    .dataframe thead tr:last-of-type th {\n",
              "        text-align: right;\n",
              "    }\n",
              "</style>\n",
              "<table border=\"1\" class=\"dataframe\">\n",
              "  <thead>\n",
              "    <tr>\n",
              "      <th></th>\n",
              "      <th colspan=\"8\" halign=\"left\">Price</th>\n",
              "    </tr>\n",
              "    <tr>\n",
              "      <th></th>\n",
              "      <th>count</th>\n",
              "      <th>mean</th>\n",
              "      <th>std</th>\n",
              "      <th>min</th>\n",
              "      <th>25%</th>\n",
              "      <th>50%</th>\n",
              "      <th>75%</th>\n",
              "      <th>max</th>\n",
              "    </tr>\n",
              "    <tr>\n",
              "      <th>Unit</th>\n",
              "      <th></th>\n",
              "      <th></th>\n",
              "      <th></th>\n",
              "      <th></th>\n",
              "      <th></th>\n",
              "      <th></th>\n",
              "      <th></th>\n",
              "      <th></th>\n",
              "    </tr>\n",
              "  </thead>\n",
              "  <tbody>\n",
              "    <tr>\n",
              "      <th>1nos</th>\n",
              "      <td>1.0</td>\n",
              "      <td>2100.000000</td>\n",
              "      <td>NaN</td>\n",
              "      <td>2100.0</td>\n",
              "      <td>2100.00</td>\n",
              "      <td>2100.0</td>\n",
              "      <td>2100.00</td>\n",
              "      <td>2100.0</td>\n",
              "    </tr>\n",
              "    <tr>\n",
              "      <th>Kit</th>\n",
              "      <td>1.0</td>\n",
              "      <td>5690.000000</td>\n",
              "      <td>NaN</td>\n",
              "      <td>5690.0</td>\n",
              "      <td>5690.00</td>\n",
              "      <td>5690.0</td>\n",
              "      <td>5690.00</td>\n",
              "      <td>5690.0</td>\n",
              "    </tr>\n",
              "    <tr>\n",
              "      <th>Number</th>\n",
              "      <td>14.0</td>\n",
              "      <td>7822.357143</td>\n",
              "      <td>8373.961415</td>\n",
              "      <td>1250.0</td>\n",
              "      <td>2904.00</td>\n",
              "      <td>5385.0</td>\n",
              "      <td>6955.00</td>\n",
              "      <td>29840.0</td>\n",
              "    </tr>\n",
              "    <tr>\n",
              "      <th>ONWARDS</th>\n",
              "      <td>1.0</td>\n",
              "      <td>5000.000000</td>\n",
              "      <td>NaN</td>\n",
              "      <td>5000.0</td>\n",
              "      <td>5000.00</td>\n",
              "      <td>5000.0</td>\n",
              "      <td>5000.00</td>\n",
              "      <td>5000.0</td>\n",
              "    </tr>\n",
              "    <tr>\n",
              "      <th>Pc_Onwards</th>\n",
              "      <td>5.0</td>\n",
              "      <td>8200.000000</td>\n",
              "      <td>2489.979920</td>\n",
              "      <td>5000.0</td>\n",
              "      <td>6000.00</td>\n",
              "      <td>10000.0</td>\n",
              "      <td>10000.00</td>\n",
              "      <td>10000.0</td>\n",
              "    </tr>\n",
              "    <tr>\n",
              "      <th>Piece</th>\n",
              "      <td>119.0</td>\n",
              "      <td>4586.991597</td>\n",
              "      <td>5631.041341</td>\n",
              "      <td>2.0</td>\n",
              "      <td>1792.50</td>\n",
              "      <td>2500.0</td>\n",
              "      <td>4995.00</td>\n",
              "      <td>39830.0</td>\n",
              "    </tr>\n",
              "    <tr>\n",
              "      <th>Piece(s)</th>\n",
              "      <td>5.0</td>\n",
              "      <td>1615.800000</td>\n",
              "      <td>575.150589</td>\n",
              "      <td>1050.0</td>\n",
              "      <td>1050.00</td>\n",
              "      <td>1600.0</td>\n",
              "      <td>2079.00</td>\n",
              "      <td>2300.0</td>\n",
              "    </tr>\n",
              "    <tr>\n",
              "      <th>Set</th>\n",
              "      <td>1.0</td>\n",
              "      <td>4895.000000</td>\n",
              "      <td>NaN</td>\n",
              "      <td>4895.0</td>\n",
              "      <td>4895.00</td>\n",
              "      <td>4895.0</td>\n",
              "      <td>4895.00</td>\n",
              "      <td>4895.0</td>\n",
              "    </tr>\n",
              "    <tr>\n",
              "      <th>Unit(s)</th>\n",
              "      <td>1.0</td>\n",
              "      <td>2150.000000</td>\n",
              "      <td>NaN</td>\n",
              "      <td>2150.0</td>\n",
              "      <td>2150.00</td>\n",
              "      <td>2150.0</td>\n",
              "      <td>2150.00</td>\n",
              "      <td>2150.0</td>\n",
              "    </tr>\n",
              "    <tr>\n",
              "      <th>kit</th>\n",
              "      <td>1.0</td>\n",
              "      <td>2243.000000</td>\n",
              "      <td>NaN</td>\n",
              "      <td>2243.0</td>\n",
              "      <td>2243.00</td>\n",
              "      <td>2243.0</td>\n",
              "      <td>2243.00</td>\n",
              "      <td>2243.0</td>\n",
              "    </tr>\n",
              "    <tr>\n",
              "      <th>pack</th>\n",
              "      <td>56.0</td>\n",
              "      <td>7844.089286</td>\n",
              "      <td>11037.956356</td>\n",
              "      <td>1069.0</td>\n",
              "      <td>2341.25</td>\n",
              "      <td>3179.0</td>\n",
              "      <td>6340.00</td>\n",
              "      <td>47462.0</td>\n",
              "    </tr>\n",
              "    <tr>\n",
              "      <th>unit</th>\n",
              "      <td>42.0</td>\n",
              "      <td>10881.833333</td>\n",
              "      <td>15193.547412</td>\n",
              "      <td>1199.0</td>\n",
              "      <td>2713.00</td>\n",
              "      <td>4484.5</td>\n",
              "      <td>9790.75</td>\n",
              "      <td>55000.0</td>\n",
              "    </tr>\n",
              "  </tbody>\n",
              "</table>\n",
              "</div>"
            ],
            "text/plain": [
              "            Price                              ...                            \n",
              "            count          mean           std  ...      50%       75%      max\n",
              "Unit                                           ...                            \n",
              "1nos          1.0   2100.000000           NaN  ...   2100.0   2100.00   2100.0\n",
              "Kit           1.0   5690.000000           NaN  ...   5690.0   5690.00   5690.0\n",
              "Number       14.0   7822.357143   8373.961415  ...   5385.0   6955.00  29840.0\n",
              "ONWARDS       1.0   5000.000000           NaN  ...   5000.0   5000.00   5000.0\n",
              "Pc_Onwards    5.0   8200.000000   2489.979920  ...  10000.0  10000.00  10000.0\n",
              "Piece       119.0   4586.991597   5631.041341  ...   2500.0   4995.00  39830.0\n",
              "Piece(s)      5.0   1615.800000    575.150589  ...   1600.0   2079.00   2300.0\n",
              "Set           1.0   4895.000000           NaN  ...   4895.0   4895.00   4895.0\n",
              "Unit(s)       1.0   2150.000000           NaN  ...   2150.0   2150.00   2150.0\n",
              "kit           1.0   2243.000000           NaN  ...   2243.0   2243.00   2243.0\n",
              "pack         56.0   7844.089286  11037.956356  ...   3179.0   6340.00  47462.0\n",
              "unit         42.0  10881.833333  15193.547412  ...   4484.5   9790.75  55000.0\n",
              "\n",
              "[12 rows x 8 columns]"
            ]
          },
          "metadata": {
            "tags": []
          },
          "execution_count": 78
        }
      ]
    },
    {
      "cell_type": "code",
      "metadata": {
        "id": "3SLbutIqvcpM",
        "colab_type": "code",
        "colab": {}
      },
      "source": [
        "#thresholding\n",
        "\n",
        "data1 = data1[data1.Unit != 'Kit']\n",
        "data1 = data1[data1.Unit != 'ONWARDS']\n",
        "data1 = data1[data1.Unit != 'Set']\n",
        "data1 = data1[data1.Unit != 'Unit(s)']\n",
        "data1 = data1[data1.Unit != 'kit']\n",
        "data1 = data1[data1.Unit != '1nos']"
      ],
      "execution_count": 0,
      "outputs": []
    },
    {
      "cell_type": "code",
      "metadata": {
        "id": "3VAmcHhjvshA",
        "colab_type": "code",
        "outputId": "971e59d5-b4df-4b6b-87e5-41b469415ef6",
        "colab": {
          "base_uri": "https://localhost:8080/",
          "height": 204
        }
      },
      "source": [
        "data1.head()"
      ],
      "execution_count": 80,
      "outputs": [
        {
          "output_type": "execute_result",
          "data": {
            "text/html": [
              "<div>\n",
              "<style scoped>\n",
              "    .dataframe tbody tr th:only-of-type {\n",
              "        vertical-align: middle;\n",
              "    }\n",
              "\n",
              "    .dataframe tbody tr th {\n",
              "        vertical-align: top;\n",
              "    }\n",
              "\n",
              "    .dataframe thead th {\n",
              "        text-align: right;\n",
              "    }\n",
              "</style>\n",
              "<table border=\"1\" class=\"dataframe\">\n",
              "  <thead>\n",
              "    <tr style=\"text-align: right;\">\n",
              "      <th></th>\n",
              "      <th>Category Name</th>\n",
              "      <th>Unit</th>\n",
              "      <th>Price</th>\n",
              "    </tr>\n",
              "  </thead>\n",
              "  <tbody>\n",
              "    <tr>\n",
              "      <th>0</th>\n",
              "      <td>Impact Drill</td>\n",
              "      <td>Piece</td>\n",
              "      <td>2</td>\n",
              "    </tr>\n",
              "    <tr>\n",
              "      <th>1</th>\n",
              "      <td>Impact Drill</td>\n",
              "      <td>Piece</td>\n",
              "      <td>675</td>\n",
              "    </tr>\n",
              "    <tr>\n",
              "      <th>2</th>\n",
              "      <td>Impact Drill</td>\n",
              "      <td>Piece</td>\n",
              "      <td>766</td>\n",
              "    </tr>\n",
              "    <tr>\n",
              "      <th>3</th>\n",
              "      <td>Impact Drill</td>\n",
              "      <td>Piece</td>\n",
              "      <td>900</td>\n",
              "    </tr>\n",
              "    <tr>\n",
              "      <th>4</th>\n",
              "      <td>Impact Drill</td>\n",
              "      <td>Piece</td>\n",
              "      <td>1000</td>\n",
              "    </tr>\n",
              "  </tbody>\n",
              "</table>\n",
              "</div>"
            ],
            "text/plain": [
              "  Category Name   Unit  Price\n",
              "0  Impact Drill  Piece      2\n",
              "1  Impact Drill  Piece    675\n",
              "2  Impact Drill  Piece    766\n",
              "3  Impact Drill  Piece    900\n",
              "4  Impact Drill  Piece   1000"
            ]
          },
          "metadata": {
            "tags": []
          },
          "execution_count": 80
        }
      ]
    },
    {
      "cell_type": "markdown",
      "metadata": {
        "id": "NWVMCX7RvrDj",
        "colab_type": "text"
      },
      "source": [
        "Processing : **Data 2**"
      ]
    },
    {
      "cell_type": "code",
      "metadata": {
        "id": "CXBWRix6vlEi",
        "colab_type": "code",
        "outputId": "3dde5d96-7ee5-40cc-aed9-fb8265d68409",
        "colab": {
          "base_uri": "https://localhost:8080/",
          "height": 421
        }
      },
      "source": [
        "data2_group = data2.groupby(by='Unit')\n",
        "data2_group.describe()"
      ],
      "execution_count": 81,
      "outputs": [
        {
          "output_type": "execute_result",
          "data": {
            "text/html": [
              "<div>\n",
              "<style scoped>\n",
              "    .dataframe tbody tr th:only-of-type {\n",
              "        vertical-align: middle;\n",
              "    }\n",
              "\n",
              "    .dataframe tbody tr th {\n",
              "        vertical-align: top;\n",
              "    }\n",
              "\n",
              "    .dataframe thead tr th {\n",
              "        text-align: left;\n",
              "    }\n",
              "\n",
              "    .dataframe thead tr:last-of-type th {\n",
              "        text-align: right;\n",
              "    }\n",
              "</style>\n",
              "<table border=\"1\" class=\"dataframe\">\n",
              "  <thead>\n",
              "    <tr>\n",
              "      <th></th>\n",
              "      <th colspan=\"8\" halign=\"left\">Price</th>\n",
              "    </tr>\n",
              "    <tr>\n",
              "      <th></th>\n",
              "      <th>count</th>\n",
              "      <th>mean</th>\n",
              "      <th>std</th>\n",
              "      <th>min</th>\n",
              "      <th>25%</th>\n",
              "      <th>50%</th>\n",
              "      <th>75%</th>\n",
              "      <th>max</th>\n",
              "    </tr>\n",
              "    <tr>\n",
              "      <th>Unit</th>\n",
              "      <th></th>\n",
              "      <th></th>\n",
              "      <th></th>\n",
              "      <th></th>\n",
              "      <th></th>\n",
              "      <th></th>\n",
              "      <th></th>\n",
              "      <th></th>\n",
              "    </tr>\n",
              "  </thead>\n",
              "  <tbody>\n",
              "    <tr>\n",
              "      <th>Pack</th>\n",
              "      <td>3.0</td>\n",
              "      <td>766.333333</td>\n",
              "      <td>681.118443</td>\n",
              "      <td>78.0</td>\n",
              "      <td>429.5</td>\n",
              "      <td>781.0</td>\n",
              "      <td>1110.5</td>\n",
              "      <td>1440.0</td>\n",
              "    </tr>\n",
              "    <tr>\n",
              "      <th>Pair</th>\n",
              "      <td>113.0</td>\n",
              "      <td>102.557522</td>\n",
              "      <td>68.740446</td>\n",
              "      <td>10.0</td>\n",
              "      <td>50.0</td>\n",
              "      <td>80.0</td>\n",
              "      <td>170.0</td>\n",
              "      <td>350.0</td>\n",
              "    </tr>\n",
              "    <tr>\n",
              "      <th>Pair(s)</th>\n",
              "      <td>2.0</td>\n",
              "      <td>315.000000</td>\n",
              "      <td>190.918831</td>\n",
              "      <td>180.0</td>\n",
              "      <td>247.5</td>\n",
              "      <td>315.0</td>\n",
              "      <td>382.5</td>\n",
              "      <td>450.0</td>\n",
              "    </tr>\n",
              "    <tr>\n",
              "      <th>Piece</th>\n",
              "      <td>6.0</td>\n",
              "      <td>136.666667</td>\n",
              "      <td>116.390148</td>\n",
              "      <td>40.0</td>\n",
              "      <td>40.0</td>\n",
              "      <td>95.0</td>\n",
              "      <td>225.0</td>\n",
              "      <td>300.0</td>\n",
              "    </tr>\n",
              "    <tr>\n",
              "      <th>Pieces</th>\n",
              "      <td>1.0</td>\n",
              "      <td>695.000000</td>\n",
              "      <td>NaN</td>\n",
              "      <td>695.0</td>\n",
              "      <td>695.0</td>\n",
              "      <td>695.0</td>\n",
              "      <td>695.0</td>\n",
              "      <td>695.0</td>\n",
              "    </tr>\n",
              "    <tr>\n",
              "      <th>Set</th>\n",
              "      <td>1.0</td>\n",
              "      <td>600.000000</td>\n",
              "      <td>NaN</td>\n",
              "      <td>600.0</td>\n",
              "      <td>600.0</td>\n",
              "      <td>600.0</td>\n",
              "      <td>600.0</td>\n",
              "      <td>600.0</td>\n",
              "    </tr>\n",
              "    <tr>\n",
              "      <th>Unit</th>\n",
              "      <td>3.0</td>\n",
              "      <td>318.666667</td>\n",
              "      <td>405.000412</td>\n",
              "      <td>70.0</td>\n",
              "      <td>85.0</td>\n",
              "      <td>100.0</td>\n",
              "      <td>443.0</td>\n",
              "      <td>786.0</td>\n",
              "    </tr>\n",
              "    <tr>\n",
              "      <th>Unit/Onwards</th>\n",
              "      <td>1.0</td>\n",
              "      <td>100.000000</td>\n",
              "      <td>NaN</td>\n",
              "      <td>100.0</td>\n",
              "      <td>100.0</td>\n",
              "      <td>100.0</td>\n",
              "      <td>100.0</td>\n",
              "      <td>100.0</td>\n",
              "    </tr>\n",
              "    <tr>\n",
              "      <th>pack</th>\n",
              "      <td>5.0</td>\n",
              "      <td>4507.000000</td>\n",
              "      <td>8134.481114</td>\n",
              "      <td>51.0</td>\n",
              "      <td>150.0</td>\n",
              "      <td>1150.0</td>\n",
              "      <td>2210.0</td>\n",
              "      <td>18974.0</td>\n",
              "    </tr>\n",
              "    <tr>\n",
              "      <th>unit</th>\n",
              "      <td>9.0</td>\n",
              "      <td>2442.777778</td>\n",
              "      <td>2764.160848</td>\n",
              "      <td>366.0</td>\n",
              "      <td>974.0</td>\n",
              "      <td>1152.0</td>\n",
              "      <td>2594.0</td>\n",
              "      <td>8978.0</td>\n",
              "    </tr>\n",
              "  </tbody>\n",
              "</table>\n",
              "</div>"
            ],
            "text/plain": [
              "              Price                            ...                         \n",
              "              count         mean          std  ...     50%     75%      max\n",
              "Unit                                           ...                         \n",
              "Pack            3.0   766.333333   681.118443  ...   781.0  1110.5   1440.0\n",
              "Pair          113.0   102.557522    68.740446  ...    80.0   170.0    350.0\n",
              "Pair(s)         2.0   315.000000   190.918831  ...   315.0   382.5    450.0\n",
              "Piece           6.0   136.666667   116.390148  ...    95.0   225.0    300.0\n",
              "Pieces          1.0   695.000000          NaN  ...   695.0   695.0    695.0\n",
              "Set             1.0   600.000000          NaN  ...   600.0   600.0    600.0\n",
              "Unit            3.0   318.666667   405.000412  ...   100.0   443.0    786.0\n",
              "Unit/Onwards    1.0   100.000000          NaN  ...   100.0   100.0    100.0\n",
              "pack            5.0  4507.000000  8134.481114  ...  1150.0  2210.0  18974.0\n",
              "unit            9.0  2442.777778  2764.160848  ...  1152.0  2594.0   8978.0\n",
              "\n",
              "[10 rows x 8 columns]"
            ]
          },
          "metadata": {
            "tags": []
          },
          "execution_count": 81
        }
      ]
    },
    {
      "cell_type": "code",
      "metadata": {
        "id": "bd56_ydmv0N_",
        "colab_type": "code",
        "colab": {}
      },
      "source": [
        "data2.Unit = data2.Unit.replace({\"Unit\": \"unit\", \"Pack\": \"pack\"})\n",
        "data2.Unit = data2.Unit.replace({\"Unit\": \"unit\",\"Pack\": \"pack\"})"
      ],
      "execution_count": 0,
      "outputs": []
    },
    {
      "cell_type": "code",
      "metadata": {
        "id": "H-pGLInGv65H",
        "colab_type": "code",
        "outputId": "84ca2e3c-2214-48a4-ea34-46e93718885c",
        "colab": {
          "base_uri": "https://localhost:8080/",
          "height": 235
        }
      },
      "source": [
        "#Thresholding\n",
        "\n",
        "data2 = data2[data2.Unit != 'Pair(s)']\n",
        "data2 = data2[data2.Unit != 'Pieces']\n",
        "data2 = data2[data2.Unit != 'Set']\n",
        "data2 = data2[data2.Unit != 'Unit/Onwards']\n",
        "\n",
        "data2_group = data2.groupby(by='Unit')\n",
        "data2_group.describe()"
      ],
      "execution_count": 83,
      "outputs": [
        {
          "output_type": "execute_result",
          "data": {
            "text/html": [
              "<div>\n",
              "<style scoped>\n",
              "    .dataframe tbody tr th:only-of-type {\n",
              "        vertical-align: middle;\n",
              "    }\n",
              "\n",
              "    .dataframe tbody tr th {\n",
              "        vertical-align: top;\n",
              "    }\n",
              "\n",
              "    .dataframe thead tr th {\n",
              "        text-align: left;\n",
              "    }\n",
              "\n",
              "    .dataframe thead tr:last-of-type th {\n",
              "        text-align: right;\n",
              "    }\n",
              "</style>\n",
              "<table border=\"1\" class=\"dataframe\">\n",
              "  <thead>\n",
              "    <tr>\n",
              "      <th></th>\n",
              "      <th colspan=\"8\" halign=\"left\">Price</th>\n",
              "    </tr>\n",
              "    <tr>\n",
              "      <th></th>\n",
              "      <th>count</th>\n",
              "      <th>mean</th>\n",
              "      <th>std</th>\n",
              "      <th>min</th>\n",
              "      <th>25%</th>\n",
              "      <th>50%</th>\n",
              "      <th>75%</th>\n",
              "      <th>max</th>\n",
              "    </tr>\n",
              "    <tr>\n",
              "      <th>Unit</th>\n",
              "      <th></th>\n",
              "      <th></th>\n",
              "      <th></th>\n",
              "      <th></th>\n",
              "      <th></th>\n",
              "      <th></th>\n",
              "      <th></th>\n",
              "      <th></th>\n",
              "    </tr>\n",
              "  </thead>\n",
              "  <tbody>\n",
              "    <tr>\n",
              "      <th>Pair</th>\n",
              "      <td>113.0</td>\n",
              "      <td>102.557522</td>\n",
              "      <td>68.740446</td>\n",
              "      <td>10.0</td>\n",
              "      <td>50.00</td>\n",
              "      <td>80.0</td>\n",
              "      <td>170.00</td>\n",
              "      <td>350.0</td>\n",
              "    </tr>\n",
              "    <tr>\n",
              "      <th>Piece</th>\n",
              "      <td>6.0</td>\n",
              "      <td>136.666667</td>\n",
              "      <td>116.390148</td>\n",
              "      <td>40.0</td>\n",
              "      <td>40.00</td>\n",
              "      <td>95.0</td>\n",
              "      <td>225.00</td>\n",
              "      <td>300.0</td>\n",
              "    </tr>\n",
              "    <tr>\n",
              "      <th>pack</th>\n",
              "      <td>8.0</td>\n",
              "      <td>3104.250000</td>\n",
              "      <td>6456.924052</td>\n",
              "      <td>51.0</td>\n",
              "      <td>132.00</td>\n",
              "      <td>965.5</td>\n",
              "      <td>1632.50</td>\n",
              "      <td>18974.0</td>\n",
              "    </tr>\n",
              "    <tr>\n",
              "      <th>unit</th>\n",
              "      <td>12.0</td>\n",
              "      <td>1911.750000</td>\n",
              "      <td>2551.370225</td>\n",
              "      <td>70.0</td>\n",
              "      <td>680.25</td>\n",
              "      <td>974.0</td>\n",
              "      <td>1829.75</td>\n",
              "      <td>8978.0</td>\n",
              "    </tr>\n",
              "  </tbody>\n",
              "</table>\n",
              "</div>"
            ],
            "text/plain": [
              "       Price                                                                 \n",
              "       count         mean          std   min     25%    50%      75%      max\n",
              "Unit                                                                         \n",
              "Pair   113.0   102.557522    68.740446  10.0   50.00   80.0   170.00    350.0\n",
              "Piece    6.0   136.666667   116.390148  40.0   40.00   95.0   225.00    300.0\n",
              "pack     8.0  3104.250000  6456.924052  51.0  132.00  965.5  1632.50  18974.0\n",
              "unit    12.0  1911.750000  2551.370225  70.0  680.25  974.0  1829.75   8978.0"
            ]
          },
          "metadata": {
            "tags": []
          },
          "execution_count": 83
        }
      ]
    },
    {
      "cell_type": "markdown",
      "metadata": {
        "id": "YkXPA25wwBkg",
        "colab_type": "text"
      },
      "source": [
        "Processing : **Data 3**"
      ]
    },
    {
      "cell_type": "code",
      "metadata": {
        "id": "aWhRntdmwDLF",
        "colab_type": "code",
        "outputId": "3109e475-80f5-4d34-f243-5f1f4f27c46a",
        "colab": {
          "base_uri": "https://localhost:8080/",
          "height": 2031
        }
      },
      "source": [
        "data3['Unit'] = data3['Unit'].str.lower()\n",
        "data3_group = data3.groupby(by='Unit')\n",
        "data3_group.describe()"
      ],
      "execution_count": 84,
      "outputs": [
        {
          "output_type": "execute_result",
          "data": {
            "text/html": [
              "<div>\n",
              "<style scoped>\n",
              "    .dataframe tbody tr th:only-of-type {\n",
              "        vertical-align: middle;\n",
              "    }\n",
              "\n",
              "    .dataframe tbody tr th {\n",
              "        vertical-align: top;\n",
              "    }\n",
              "\n",
              "    .dataframe thead tr th {\n",
              "        text-align: left;\n",
              "    }\n",
              "\n",
              "    .dataframe thead tr:last-of-type th {\n",
              "        text-align: right;\n",
              "    }\n",
              "</style>\n",
              "<table border=\"1\" class=\"dataframe\">\n",
              "  <thead>\n",
              "    <tr>\n",
              "      <th></th>\n",
              "      <th colspan=\"8\" halign=\"left\">Price</th>\n",
              "    </tr>\n",
              "    <tr>\n",
              "      <th></th>\n",
              "      <th>count</th>\n",
              "      <th>mean</th>\n",
              "      <th>std</th>\n",
              "      <th>min</th>\n",
              "      <th>25%</th>\n",
              "      <th>50%</th>\n",
              "      <th>75%</th>\n",
              "      <th>max</th>\n",
              "    </tr>\n",
              "    <tr>\n",
              "      <th>Unit</th>\n",
              "      <th></th>\n",
              "      <th></th>\n",
              "      <th></th>\n",
              "      <th></th>\n",
              "      <th></th>\n",
              "      <th></th>\n",
              "      <th></th>\n",
              "      <th></th>\n",
              "    </tr>\n",
              "  </thead>\n",
              "  <tbody>\n",
              "    <tr>\n",
              "      <th>1</th>\n",
              "      <td>76.0</td>\n",
              "      <td>867.368421</td>\n",
              "      <td>1747.883443</td>\n",
              "      <td>110.0</td>\n",
              "      <td>300.00</td>\n",
              "      <td>500.0</td>\n",
              "      <td>890.00</td>\n",
              "      <td>15000.0</td>\n",
              "    </tr>\n",
              "    <tr>\n",
              "      <th>1 pc</th>\n",
              "      <td>1.0</td>\n",
              "      <td>1200.000000</td>\n",
              "      <td>NaN</td>\n",
              "      <td>1200.0</td>\n",
              "      <td>1200.00</td>\n",
              "      <td>1200.0</td>\n",
              "      <td>1200.00</td>\n",
              "      <td>1200.0</td>\n",
              "    </tr>\n",
              "    <tr>\n",
              "      <th>1 pcs</th>\n",
              "      <td>1.0</td>\n",
              "      <td>1650.000000</td>\n",
              "      <td>NaN</td>\n",
              "      <td>1650.0</td>\n",
              "      <td>1650.00</td>\n",
              "      <td>1650.0</td>\n",
              "      <td>1650.00</td>\n",
              "      <td>1650.0</td>\n",
              "    </tr>\n",
              "    <tr>\n",
              "      <th>1 pice</th>\n",
              "      <td>2.0</td>\n",
              "      <td>800.000000</td>\n",
              "      <td>0.000000</td>\n",
              "      <td>800.0</td>\n",
              "      <td>800.00</td>\n",
              "      <td>800.0</td>\n",
              "      <td>800.00</td>\n",
              "      <td>800.0</td>\n",
              "    </tr>\n",
              "    <tr>\n",
              "      <th>1 piece</th>\n",
              "      <td>1.0</td>\n",
              "      <td>750.000000</td>\n",
              "      <td>NaN</td>\n",
              "      <td>750.0</td>\n",
              "      <td>750.00</td>\n",
              "      <td>750.0</td>\n",
              "      <td>750.00</td>\n",
              "      <td>750.0</td>\n",
              "    </tr>\n",
              "    <tr>\n",
              "      <th>10</th>\n",
              "      <td>2.0</td>\n",
              "      <td>999.000000</td>\n",
              "      <td>0.000000</td>\n",
              "      <td>999.0</td>\n",
              "      <td>999.00</td>\n",
              "      <td>999.0</td>\n",
              "      <td>999.00</td>\n",
              "      <td>999.0</td>\n",
              "    </tr>\n",
              "    <tr>\n",
              "      <th>10-10000</th>\n",
              "      <td>1.0</td>\n",
              "      <td>399.000000</td>\n",
              "      <td>NaN</td>\n",
              "      <td>399.0</td>\n",
              "      <td>399.00</td>\n",
              "      <td>399.0</td>\n",
              "      <td>399.00</td>\n",
              "      <td>399.0</td>\n",
              "    </tr>\n",
              "    <tr>\n",
              "      <th>100 pic</th>\n",
              "      <td>1.0</td>\n",
              "      <td>300.000000</td>\n",
              "      <td>NaN</td>\n",
              "      <td>300.0</td>\n",
              "      <td>300.00</td>\n",
              "      <td>300.0</td>\n",
              "      <td>300.00</td>\n",
              "      <td>300.0</td>\n",
              "    </tr>\n",
              "    <tr>\n",
              "      <th>1000 per unit</th>\n",
              "      <td>1.0</td>\n",
              "      <td>1300.000000</td>\n",
              "      <td>NaN</td>\n",
              "      <td>1300.0</td>\n",
              "      <td>1300.00</td>\n",
              "      <td>1300.0</td>\n",
              "      <td>1300.00</td>\n",
              "      <td>1300.0</td>\n",
              "    </tr>\n",
              "    <tr>\n",
              "      <th>12 units</th>\n",
              "      <td>2.0</td>\n",
              "      <td>450.000000</td>\n",
              "      <td>0.000000</td>\n",
              "      <td>450.0</td>\n",
              "      <td>450.00</td>\n",
              "      <td>450.0</td>\n",
              "      <td>450.00</td>\n",
              "      <td>450.0</td>\n",
              "    </tr>\n",
              "    <tr>\n",
              "      <th>170 per peice</th>\n",
              "      <td>1.0</td>\n",
              "      <td>170.000000</td>\n",
              "      <td>NaN</td>\n",
              "      <td>170.0</td>\n",
              "      <td>170.00</td>\n",
              "      <td>170.0</td>\n",
              "      <td>170.00</td>\n",
              "      <td>170.0</td>\n",
              "    </tr>\n",
              "    <tr>\n",
              "      <th>1pc</th>\n",
              "      <td>3.0</td>\n",
              "      <td>446.666667</td>\n",
              "      <td>265.581124</td>\n",
              "      <td>140.0</td>\n",
              "      <td>370.00</td>\n",
              "      <td>600.0</td>\n",
              "      <td>600.00</td>\n",
              "      <td>600.0</td>\n",
              "    </tr>\n",
              "    <tr>\n",
              "      <th>1pcd</th>\n",
              "      <td>1.0</td>\n",
              "      <td>1400.000000</td>\n",
              "      <td>NaN</td>\n",
              "      <td>1400.0</td>\n",
              "      <td>1400.00</td>\n",
              "      <td>1400.0</td>\n",
              "      <td>1400.00</td>\n",
              "      <td>1400.0</td>\n",
              "    </tr>\n",
              "    <tr>\n",
              "      <th>1pcs</th>\n",
              "      <td>1.0</td>\n",
              "      <td>1200.000000</td>\n",
              "      <td>NaN</td>\n",
              "      <td>1200.0</td>\n",
              "      <td>1200.00</td>\n",
              "      <td>1200.0</td>\n",
              "      <td>1200.00</td>\n",
              "      <td>1200.0</td>\n",
              "    </tr>\n",
              "    <tr>\n",
              "      <th>1piece</th>\n",
              "      <td>3.0</td>\n",
              "      <td>1096.666667</td>\n",
              "      <td>1063.265411</td>\n",
              "      <td>250.0</td>\n",
              "      <td>500.00</td>\n",
              "      <td>750.0</td>\n",
              "      <td>1520.00</td>\n",
              "      <td>2290.0</td>\n",
              "    </tr>\n",
              "    <tr>\n",
              "      <th>1pis</th>\n",
              "      <td>1.0</td>\n",
              "      <td>450.000000</td>\n",
              "      <td>NaN</td>\n",
              "      <td>450.0</td>\n",
              "      <td>450.00</td>\n",
              "      <td>450.0</td>\n",
              "      <td>450.00</td>\n",
              "      <td>450.0</td>\n",
              "    </tr>\n",
              "    <tr>\n",
              "      <th>20' container</th>\n",
              "      <td>6.0</td>\n",
              "      <td>1165.666667</td>\n",
              "      <td>1186.141082</td>\n",
              "      <td>349.0</td>\n",
              "      <td>436.25</td>\n",
              "      <td>847.5</td>\n",
              "      <td>1075.00</td>\n",
              "      <td>3500.0</td>\n",
              "    </tr>\n",
              "    <tr>\n",
              "      <th>3 set</th>\n",
              "      <td>1.0</td>\n",
              "      <td>1250.000000</td>\n",
              "      <td>NaN</td>\n",
              "      <td>1250.0</td>\n",
              "      <td>1250.00</td>\n",
              "      <td>1250.0</td>\n",
              "      <td>1250.00</td>\n",
              "      <td>1250.0</td>\n",
              "    </tr>\n",
              "    <tr>\n",
              "      <th>4 pcs</th>\n",
              "      <td>1.0</td>\n",
              "      <td>575.000000</td>\n",
              "      <td>NaN</td>\n",
              "      <td>575.0</td>\n",
              "      <td>575.00</td>\n",
              "      <td>575.0</td>\n",
              "      <td>575.00</td>\n",
              "      <td>575.0</td>\n",
              "    </tr>\n",
              "    <tr>\n",
              "      <th>4 units</th>\n",
              "      <td>1.0</td>\n",
              "      <td>575.000000</td>\n",
              "      <td>NaN</td>\n",
              "      <td>575.0</td>\n",
              "      <td>575.00</td>\n",
              "      <td>575.0</td>\n",
              "      <td>575.00</td>\n",
              "      <td>575.0</td>\n",
              "    </tr>\n",
              "    <tr>\n",
              "      <th>40' container</th>\n",
              "      <td>5.0</td>\n",
              "      <td>996.000000</td>\n",
              "      <td>1464.997440</td>\n",
              "      <td>295.0</td>\n",
              "      <td>320.00</td>\n",
              "      <td>320.0</td>\n",
              "      <td>430.00</td>\n",
              "      <td>3615.0</td>\n",
              "    </tr>\n",
              "    <tr>\n",
              "      <th>5</th>\n",
              "      <td>2.0</td>\n",
              "      <td>617.500000</td>\n",
              "      <td>45.961941</td>\n",
              "      <td>585.0</td>\n",
              "      <td>601.25</td>\n",
              "      <td>617.5</td>\n",
              "      <td>633.75</td>\n",
              "      <td>650.0</td>\n",
              "    </tr>\n",
              "    <tr>\n",
              "      <th>bag</th>\n",
              "      <td>23.0</td>\n",
              "      <td>1107.913043</td>\n",
              "      <td>1037.577463</td>\n",
              "      <td>220.0</td>\n",
              "      <td>475.00</td>\n",
              "      <td>725.0</td>\n",
              "      <td>1375.00</td>\n",
              "      <td>4792.0</td>\n",
              "    </tr>\n",
              "    <tr>\n",
              "      <th>barrel</th>\n",
              "      <td>2.0</td>\n",
              "      <td>215.000000</td>\n",
              "      <td>49.497475</td>\n",
              "      <td>180.0</td>\n",
              "      <td>197.50</td>\n",
              "      <td>215.0</td>\n",
              "      <td>232.50</td>\n",
              "      <td>250.0</td>\n",
              "    </tr>\n",
              "    <tr>\n",
              "      <th>box</th>\n",
              "      <td>9.0</td>\n",
              "      <td>1048.777778</td>\n",
              "      <td>779.117093</td>\n",
              "      <td>150.0</td>\n",
              "      <td>500.00</td>\n",
              "      <td>900.0</td>\n",
              "      <td>1500.00</td>\n",
              "      <td>2350.0</td>\n",
              "    </tr>\n",
              "    <tr>\n",
              "      <th>carton</th>\n",
              "      <td>1.0</td>\n",
              "      <td>190.000000</td>\n",
              "      <td>NaN</td>\n",
              "      <td>190.0</td>\n",
              "      <td>190.00</td>\n",
              "      <td>190.0</td>\n",
              "      <td>190.00</td>\n",
              "      <td>190.0</td>\n",
              "    </tr>\n",
              "    <tr>\n",
              "      <th>day</th>\n",
              "      <td>2.0</td>\n",
              "      <td>575.000000</td>\n",
              "      <td>247.487373</td>\n",
              "      <td>400.0</td>\n",
              "      <td>487.50</td>\n",
              "      <td>575.0</td>\n",
              "      <td>662.50</td>\n",
              "      <td>750.0</td>\n",
              "    </tr>\n",
              "    <tr>\n",
              "      <th>dollar</th>\n",
              "      <td>1.0</td>\n",
              "      <td>7.000000</td>\n",
              "      <td>NaN</td>\n",
              "      <td>7.0</td>\n",
              "      <td>7.00</td>\n",
              "      <td>7.0</td>\n",
              "      <td>7.00</td>\n",
              "      <td>7.0</td>\n",
              "    </tr>\n",
              "    <tr>\n",
              "      <th>feet</th>\n",
              "      <td>1.0</td>\n",
              "      <td>2000.000000</td>\n",
              "      <td>NaN</td>\n",
              "      <td>2000.0</td>\n",
              "      <td>2000.00</td>\n",
              "      <td>2000.0</td>\n",
              "      <td>2000.00</td>\n",
              "      <td>2000.0</td>\n",
              "    </tr>\n",
              "    <tr>\n",
              "      <th>gram</th>\n",
              "      <td>1.0</td>\n",
              "      <td>1600.000000</td>\n",
              "      <td>NaN</td>\n",
              "      <td>1600.0</td>\n",
              "      <td>1600.00</td>\n",
              "      <td>1600.0</td>\n",
              "      <td>1600.00</td>\n",
              "      <td>1600.0</td>\n",
              "    </tr>\n",
              "    <tr>\n",
              "      <th>...</th>\n",
              "      <td>...</td>\n",
              "      <td>...</td>\n",
              "      <td>...</td>\n",
              "      <td>...</td>\n",
              "      <td>...</td>\n",
              "      <td>...</td>\n",
              "      <td>...</td>\n",
              "      <td>...</td>\n",
              "    </tr>\n",
              "    <tr>\n",
              "      <th>packet(s)</th>\n",
              "      <td>2.0</td>\n",
              "      <td>752.500000</td>\n",
              "      <td>357.088924</td>\n",
              "      <td>500.0</td>\n",
              "      <td>626.25</td>\n",
              "      <td>752.5</td>\n",
              "      <td>878.75</td>\n",
              "      <td>1005.0</td>\n",
              "    </tr>\n",
              "    <tr>\n",
              "      <th>pair</th>\n",
              "      <td>17.0</td>\n",
              "      <td>787.588235</td>\n",
              "      <td>589.340421</td>\n",
              "      <td>249.0</td>\n",
              "      <td>399.00</td>\n",
              "      <td>563.0</td>\n",
              "      <td>899.00</td>\n",
              "      <td>2200.0</td>\n",
              "    </tr>\n",
              "    <tr>\n",
              "      <th>pair piece</th>\n",
              "      <td>2.0</td>\n",
              "      <td>680.000000</td>\n",
              "      <td>282.842712</td>\n",
              "      <td>480.0</td>\n",
              "      <td>580.00</td>\n",
              "      <td>680.0</td>\n",
              "      <td>780.00</td>\n",
              "      <td>880.0</td>\n",
              "    </tr>\n",
              "    <tr>\n",
              "      <th>pc</th>\n",
              "      <td>1.0</td>\n",
              "      <td>550.000000</td>\n",
              "      <td>NaN</td>\n",
              "      <td>550.0</td>\n",
              "      <td>550.00</td>\n",
              "      <td>550.0</td>\n",
              "      <td>550.00</td>\n",
              "      <td>550.0</td>\n",
              "    </tr>\n",
              "    <tr>\n",
              "      <th>pcs</th>\n",
              "      <td>2.0</td>\n",
              "      <td>475.000000</td>\n",
              "      <td>176.776695</td>\n",
              "      <td>350.0</td>\n",
              "      <td>412.50</td>\n",
              "      <td>475.0</td>\n",
              "      <td>537.50</td>\n",
              "      <td>600.0</td>\n",
              "    </tr>\n",
              "    <tr>\n",
              "      <th>peice</th>\n",
              "      <td>4.0</td>\n",
              "      <td>273.750000</td>\n",
              "      <td>87.118215</td>\n",
              "      <td>200.0</td>\n",
              "      <td>233.75</td>\n",
              "      <td>247.5</td>\n",
              "      <td>287.50</td>\n",
              "      <td>400.0</td>\n",
              "    </tr>\n",
              "    <tr>\n",
              "      <th>per piece</th>\n",
              "      <td>2.0</td>\n",
              "      <td>399.500000</td>\n",
              "      <td>423.556962</td>\n",
              "      <td>100.0</td>\n",
              "      <td>249.75</td>\n",
              "      <td>399.5</td>\n",
              "      <td>549.25</td>\n",
              "      <td>699.0</td>\n",
              "    </tr>\n",
              "    <tr>\n",
              "      <th>per piese</th>\n",
              "      <td>1.0</td>\n",
              "      <td>400.000000</td>\n",
              "      <td>NaN</td>\n",
              "      <td>400.0</td>\n",
              "      <td>400.00</td>\n",
              "      <td>400.0</td>\n",
              "      <td>400.00</td>\n",
              "      <td>400.0</td>\n",
              "    </tr>\n",
              "    <tr>\n",
              "      <th>pi</th>\n",
              "      <td>1.0</td>\n",
              "      <td>699.000000</td>\n",
              "      <td>NaN</td>\n",
              "      <td>699.0</td>\n",
              "      <td>699.00</td>\n",
              "      <td>699.0</td>\n",
              "      <td>699.00</td>\n",
              "      <td>699.0</td>\n",
              "    </tr>\n",
              "    <tr>\n",
              "      <th>pices</th>\n",
              "      <td>2.0</td>\n",
              "      <td>672.500000</td>\n",
              "      <td>102.530483</td>\n",
              "      <td>600.0</td>\n",
              "      <td>636.25</td>\n",
              "      <td>672.5</td>\n",
              "      <td>708.75</td>\n",
              "      <td>745.0</td>\n",
              "    </tr>\n",
              "    <tr>\n",
              "      <th>pics</th>\n",
              "      <td>2.0</td>\n",
              "      <td>640.000000</td>\n",
              "      <td>0.000000</td>\n",
              "      <td>640.0</td>\n",
              "      <td>640.00</td>\n",
              "      <td>640.0</td>\n",
              "      <td>640.00</td>\n",
              "      <td>640.0</td>\n",
              "    </tr>\n",
              "    <tr>\n",
              "      <th>piece</th>\n",
              "      <td>3372.0</td>\n",
              "      <td>798.738731</td>\n",
              "      <td>2314.038599</td>\n",
              "      <td>1.0</td>\n",
              "      <td>330.00</td>\n",
              "      <td>500.0</td>\n",
              "      <td>799.00</td>\n",
              "      <td>109000.0</td>\n",
              "    </tr>\n",
              "    <tr>\n",
              "      <th>piece(s)</th>\n",
              "      <td>500.0</td>\n",
              "      <td>642.600000</td>\n",
              "      <td>490.081650</td>\n",
              "      <td>100.0</td>\n",
              "      <td>300.00</td>\n",
              "      <td>500.0</td>\n",
              "      <td>900.00</td>\n",
              "      <td>4000.0</td>\n",
              "    </tr>\n",
              "    <tr>\n",
              "      <th>piece(s) onwards</th>\n",
              "      <td>1.0</td>\n",
              "      <td>350.000000</td>\n",
              "      <td>NaN</td>\n",
              "      <td>350.0</td>\n",
              "      <td>350.00</td>\n",
              "      <td>350.0</td>\n",
              "      <td>350.00</td>\n",
              "      <td>350.0</td>\n",
              "    </tr>\n",
              "    <tr>\n",
              "      <th>pieces</th>\n",
              "      <td>15.0</td>\n",
              "      <td>471.933333</td>\n",
              "      <td>269.837905</td>\n",
              "      <td>200.0</td>\n",
              "      <td>290.00</td>\n",
              "      <td>350.0</td>\n",
              "      <td>600.00</td>\n",
              "      <td>1000.0</td>\n",
              "    </tr>\n",
              "    <tr>\n",
              "      <th>pound</th>\n",
              "      <td>1.0</td>\n",
              "      <td>250.000000</td>\n",
              "      <td>NaN</td>\n",
              "      <td>250.0</td>\n",
              "      <td>250.00</td>\n",
              "      <td>250.0</td>\n",
              "      <td>250.00</td>\n",
              "      <td>250.0</td>\n",
              "    </tr>\n",
              "    <tr>\n",
              "      <th>psc</th>\n",
              "      <td>3.0</td>\n",
              "      <td>1500.000000</td>\n",
              "      <td>0.000000</td>\n",
              "      <td>1500.0</td>\n",
              "      <td>1500.00</td>\n",
              "      <td>1500.0</td>\n",
              "      <td>1500.00</td>\n",
              "      <td>1500.0</td>\n",
              "    </tr>\n",
              "    <tr>\n",
              "      <th>rs</th>\n",
              "      <td>1.0</td>\n",
              "      <td>1650.000000</td>\n",
              "      <td>NaN</td>\n",
              "      <td>1650.0</td>\n",
              "      <td>1650.00</td>\n",
              "      <td>1650.0</td>\n",
              "      <td>1650.00</td>\n",
              "      <td>1650.0</td>\n",
              "    </tr>\n",
              "    <tr>\n",
              "      <th>selfie kurtis</th>\n",
              "      <td>1.0</td>\n",
              "      <td>220.000000</td>\n",
              "      <td>NaN</td>\n",
              "      <td>220.0</td>\n",
              "      <td>220.00</td>\n",
              "      <td>220.0</td>\n",
              "      <td>220.00</td>\n",
              "      <td>220.0</td>\n",
              "    </tr>\n",
              "    <tr>\n",
              "      <th>set</th>\n",
              "      <td>44.0</td>\n",
              "      <td>1653.840909</td>\n",
              "      <td>6545.811847</td>\n",
              "      <td>100.0</td>\n",
              "      <td>402.25</td>\n",
              "      <td>577.5</td>\n",
              "      <td>810.00</td>\n",
              "      <td>44000.0</td>\n",
              "    </tr>\n",
              "    <tr>\n",
              "      <th>set(s)</th>\n",
              "      <td>6.0</td>\n",
              "      <td>973.333333</td>\n",
              "      <td>740.078825</td>\n",
              "      <td>425.0</td>\n",
              "      <td>481.25</td>\n",
              "      <td>625.0</td>\n",
              "      <td>1237.50</td>\n",
              "      <td>2290.0</td>\n",
              "    </tr>\n",
              "    <tr>\n",
              "      <th>sets</th>\n",
              "      <td>1.0</td>\n",
              "      <td>200.000000</td>\n",
              "      <td>NaN</td>\n",
              "      <td>200.0</td>\n",
              "      <td>200.00</td>\n",
              "      <td>200.0</td>\n",
              "      <td>200.00</td>\n",
              "      <td>200.0</td>\n",
              "    </tr>\n",
              "    <tr>\n",
              "      <th>single</th>\n",
              "      <td>1.0</td>\n",
              "      <td>550.000000</td>\n",
              "      <td>NaN</td>\n",
              "      <td>550.0</td>\n",
              "      <td>550.00</td>\n",
              "      <td>550.0</td>\n",
              "      <td>550.00</td>\n",
              "      <td>550.0</td>\n",
              "    </tr>\n",
              "    <tr>\n",
              "      <th>single piece</th>\n",
              "      <td>1.0</td>\n",
              "      <td>695.000000</td>\n",
              "      <td>NaN</td>\n",
              "      <td>695.0</td>\n",
              "      <td>695.00</td>\n",
              "      <td>695.0</td>\n",
              "      <td>695.00</td>\n",
              "      <td>695.0</td>\n",
              "    </tr>\n",
              "    <tr>\n",
              "      <th>suit</th>\n",
              "      <td>1.0</td>\n",
              "      <td>800.000000</td>\n",
              "      <td>NaN</td>\n",
              "      <td>800.0</td>\n",
              "      <td>800.00</td>\n",
              "      <td>800.0</td>\n",
              "      <td>800.00</td>\n",
              "      <td>800.0</td>\n",
              "    </tr>\n",
              "    <tr>\n",
              "      <th>unit</th>\n",
              "      <td>63.0</td>\n",
              "      <td>1387.936508</td>\n",
              "      <td>4424.287261</td>\n",
              "      <td>110.0</td>\n",
              "      <td>307.50</td>\n",
              "      <td>500.0</td>\n",
              "      <td>807.00</td>\n",
              "      <td>35050.0</td>\n",
              "    </tr>\n",
              "    <tr>\n",
              "      <th>unit(s)</th>\n",
              "      <td>11.0</td>\n",
              "      <td>440.727273</td>\n",
              "      <td>179.737637</td>\n",
              "      <td>200.0</td>\n",
              "      <td>300.00</td>\n",
              "      <td>450.0</td>\n",
              "      <td>550.00</td>\n",
              "      <td>699.0</td>\n",
              "    </tr>\n",
              "    <tr>\n",
              "      <th>unstitch</th>\n",
              "      <td>1.0</td>\n",
              "      <td>180.000000</td>\n",
              "      <td>NaN</td>\n",
              "      <td>180.0</td>\n",
              "      <td>180.00</td>\n",
              "      <td>180.0</td>\n",
              "      <td>180.00</td>\n",
              "      <td>180.0</td>\n",
              "    </tr>\n",
              "    <tr>\n",
              "      <th>xl size</th>\n",
              "      <td>1.0</td>\n",
              "      <td>1300.000000</td>\n",
              "      <td>NaN</td>\n",
              "      <td>1300.0</td>\n",
              "      <td>1300.00</td>\n",
              "      <td>1300.0</td>\n",
              "      <td>1300.00</td>\n",
              "      <td>1300.0</td>\n",
              "    </tr>\n",
              "    <tr>\n",
              "      <th>year</th>\n",
              "      <td>1.0</td>\n",
              "      <td>330.000000</td>\n",
              "      <td>NaN</td>\n",
              "      <td>330.0</td>\n",
              "      <td>330.00</td>\n",
              "      <td>330.0</td>\n",
              "      <td>330.00</td>\n",
              "      <td>330.0</td>\n",
              "    </tr>\n",
              "  </tbody>\n",
              "</table>\n",
              "<p>76 rows × 8 columns</p>\n",
              "</div>"
            ],
            "text/plain": [
              "                   Price                            ...                           \n",
              "                   count         mean          std  ...     50%      75%       max\n",
              "Unit                                                ...                           \n",
              "1                   76.0   867.368421  1747.883443  ...   500.0   890.00   15000.0\n",
              "1 pc                 1.0  1200.000000          NaN  ...  1200.0  1200.00    1200.0\n",
              "1 pcs                1.0  1650.000000          NaN  ...  1650.0  1650.00    1650.0\n",
              "1 pice               2.0   800.000000     0.000000  ...   800.0   800.00     800.0\n",
              "1 piece              1.0   750.000000          NaN  ...   750.0   750.00     750.0\n",
              "10                   2.0   999.000000     0.000000  ...   999.0   999.00     999.0\n",
              "10-10000             1.0   399.000000          NaN  ...   399.0   399.00     399.0\n",
              "100 pic              1.0   300.000000          NaN  ...   300.0   300.00     300.0\n",
              "1000 per unit        1.0  1300.000000          NaN  ...  1300.0  1300.00    1300.0\n",
              "12 units             2.0   450.000000     0.000000  ...   450.0   450.00     450.0\n",
              "170 per peice        1.0   170.000000          NaN  ...   170.0   170.00     170.0\n",
              "1pc                  3.0   446.666667   265.581124  ...   600.0   600.00     600.0\n",
              "1pcd                 1.0  1400.000000          NaN  ...  1400.0  1400.00    1400.0\n",
              "1pcs                 1.0  1200.000000          NaN  ...  1200.0  1200.00    1200.0\n",
              "1piece               3.0  1096.666667  1063.265411  ...   750.0  1520.00    2290.0\n",
              "1pis                 1.0   450.000000          NaN  ...   450.0   450.00     450.0\n",
              "20' container        6.0  1165.666667  1186.141082  ...   847.5  1075.00    3500.0\n",
              "3 set                1.0  1250.000000          NaN  ...  1250.0  1250.00    1250.0\n",
              "4 pcs                1.0   575.000000          NaN  ...   575.0   575.00     575.0\n",
              "4 units              1.0   575.000000          NaN  ...   575.0   575.00     575.0\n",
              "40' container        5.0   996.000000  1464.997440  ...   320.0   430.00    3615.0\n",
              "5                    2.0   617.500000    45.961941  ...   617.5   633.75     650.0\n",
              "bag                 23.0  1107.913043  1037.577463  ...   725.0  1375.00    4792.0\n",
              "barrel               2.0   215.000000    49.497475  ...   215.0   232.50     250.0\n",
              "box                  9.0  1048.777778   779.117093  ...   900.0  1500.00    2350.0\n",
              "carton               1.0   190.000000          NaN  ...   190.0   190.00     190.0\n",
              "day                  2.0   575.000000   247.487373  ...   575.0   662.50     750.0\n",
              "dollar               1.0     7.000000          NaN  ...     7.0     7.00       7.0\n",
              "feet                 1.0  2000.000000          NaN  ...  2000.0  2000.00    2000.0\n",
              "gram                 1.0  1600.000000          NaN  ...  1600.0  1600.00    1600.0\n",
              "...                  ...          ...          ...  ...     ...      ...       ...\n",
              "packet(s)            2.0   752.500000   357.088924  ...   752.5   878.75    1005.0\n",
              "pair                17.0   787.588235   589.340421  ...   563.0   899.00    2200.0\n",
              "pair piece           2.0   680.000000   282.842712  ...   680.0   780.00     880.0\n",
              "pc                   1.0   550.000000          NaN  ...   550.0   550.00     550.0\n",
              "pcs                  2.0   475.000000   176.776695  ...   475.0   537.50     600.0\n",
              "peice                4.0   273.750000    87.118215  ...   247.5   287.50     400.0\n",
              "per piece            2.0   399.500000   423.556962  ...   399.5   549.25     699.0\n",
              "per piese            1.0   400.000000          NaN  ...   400.0   400.00     400.0\n",
              "pi                   1.0   699.000000          NaN  ...   699.0   699.00     699.0\n",
              "pices                2.0   672.500000   102.530483  ...   672.5   708.75     745.0\n",
              "pics                 2.0   640.000000     0.000000  ...   640.0   640.00     640.0\n",
              "piece             3372.0   798.738731  2314.038599  ...   500.0   799.00  109000.0\n",
              "piece(s)           500.0   642.600000   490.081650  ...   500.0   900.00    4000.0\n",
              "piece(s) onwards     1.0   350.000000          NaN  ...   350.0   350.00     350.0\n",
              "pieces              15.0   471.933333   269.837905  ...   350.0   600.00    1000.0\n",
              "pound                1.0   250.000000          NaN  ...   250.0   250.00     250.0\n",
              "psc                  3.0  1500.000000     0.000000  ...  1500.0  1500.00    1500.0\n",
              "rs                   1.0  1650.000000          NaN  ...  1650.0  1650.00    1650.0\n",
              "selfie kurtis        1.0   220.000000          NaN  ...   220.0   220.00     220.0\n",
              "set                 44.0  1653.840909  6545.811847  ...   577.5   810.00   44000.0\n",
              "set(s)               6.0   973.333333   740.078825  ...   625.0  1237.50    2290.0\n",
              "sets                 1.0   200.000000          NaN  ...   200.0   200.00     200.0\n",
              "single               1.0   550.000000          NaN  ...   550.0   550.00     550.0\n",
              "single piece         1.0   695.000000          NaN  ...   695.0   695.00     695.0\n",
              "suit                 1.0   800.000000          NaN  ...   800.0   800.00     800.0\n",
              "unit                63.0  1387.936508  4424.287261  ...   500.0   807.00   35050.0\n",
              "unit(s)             11.0   440.727273   179.737637  ...   450.0   550.00     699.0\n",
              "unstitch             1.0   180.000000          NaN  ...   180.0   180.00     180.0\n",
              "xl size              1.0  1300.000000          NaN  ...  1300.0  1300.00    1300.0\n",
              "year                 1.0   330.000000          NaN  ...   330.0   330.00     330.0\n",
              "\n",
              "[76 rows x 8 columns]"
            ]
          },
          "metadata": {
            "tags": []
          },
          "execution_count": 84
        }
      ]
    },
    {
      "cell_type": "code",
      "metadata": {
        "id": "HiUOhWEZwIhB",
        "colab_type": "code",
        "colab": {}
      },
      "source": [
        "data3.Unit = data3.Unit.replace({\"single piece\": \"piece\",\n",
        "                                 \"per piece\": \"piece\",\n",
        "                                 \"per piese\":\"piece\",\n",
        "                                 \"pi\":\"piece\",\n",
        "                                 \"peice\":\"piece\",\n",
        "                                 \"pcs\":\"piece\",\n",
        "                                 \"onepices\":\"piece\",\n",
        "                                 \"one unit\":\"piece\",\n",
        "                                 \"one pcs\":\"piece\",\n",
        "                                 \"1\":\"piece\",\n",
        "                                 \"1 pc\":\"piece\",\n",
        "                                 \"1 pcs\":\"piece\",\n",
        "                                 \"1 pice\":\"piece\",\n",
        "                                 \"1 piece\":\"piece\",\n",
        "                                 \"1pc\":\"piece\",\n",
        "                                 \"1pcd\":\"piece\",\n",
        "                                 \"1pcs\":\"piece\",\n",
        "                                 \"1piece\":\"piece\",\n",
        "                                 \"1pis\":\"piece\",\n",
        "                                 \"single\":\"piece\",\n",
        "                                 \"Unit\":\"unit\",\n",
        "                                 \"Pc\":\"piece\",\n",
        "                                 \"no\":\"number\",\n",
        "                                 \"one\":\"piece\",\n",
        "                                 \"one peace\":\"piece\",\n",
        "                                 \"pair piece\":\"pair\",\n",
        "                                 \"pc\":\"piece\",\n",
        "                                 \"pics\":\"piece\",\n",
        "                                 \"pices\":\"piece\",\n",
        "                                 \"psc\":\"pieces\",\n",
        "                                 \"unit(s)\":\"unit\",\n",
        "                                 \"set(s)\":\"sets\",\n",
        "                                 \"packet\":\"pack\",\n",
        "                                 \"packet(s)\":\"pack\",\n",
        "                                 \"packets\":\"pack\",\n",
        "                                 \"piece(s)\":\"pieces\",\n",
        "                                 \"piece(s) onwards\":\"pieces\"\n",
        "                                 })\n",
        "\n",
        "data3 = data3[data3.Unit != '10']\n",
        "data3 = data3[data3.Unit != '170 per peice']\n",
        "data3 = data3[data3.Unit != '10-10000']\n",
        "data3 = data3[data3.Unit != '100 pic']\n",
        "data3 = data3[data3.Unit != '12 units']\n",
        "data3 = data3[data3.Unit != '1000 per unit']\n",
        "data3 = data3[data3.Unit != '3 set']\n",
        "data3 = data3[data3.Unit != '4 pcs']\n",
        "data3 = data3[data3.Unit != '4 units']\n",
        "data3 = data3[data3.Unit != '5']\n",
        "data3 = data3[data3.Unit != 'barrel']\n",
        "data3 = data3[data3.Unit != 'carton']\n",
        "data3 = data3[data3.Unit != 'day']\n",
        "data3 = data3[data3.Unit != 'feet']\n",
        "data3 = data3[data3.Unit != 'pound']\n",
        "data3 = data3[data3.Unit != 'year']\n",
        "data3 = data3[data3.Unit != 'unstitch']\n",
        "data3 = data3[data3.Unit != 'xl size']\n",
        "data3 = data3[data3.Unit != 'rs']\n",
        "data3 = data3[data3.Unit != 'suit']\n",
        "data3 = data3[data3.Unit != 'selfie kurtis']\n",
        "data3 = data3[data3.Unit != 'dollar']\n",
        "data3 = data3[data3.Unit != 'gram']\n",
        "data3 = data3[data3.Unit != 'in']\n",
        "data3 = data3[data3.Unit != 'kilogram']\n",
        "data3 = data3[data3.Unit != 'meter']\n",
        "data3 = data3[data3.Unit != 'ounce']\n",
        "data3 = data3[data3.Unit != 'ounce(s)']"
      ],
      "execution_count": 0,
      "outputs": []
    },
    {
      "cell_type": "code",
      "metadata": {
        "id": "6m-lw_GMwOBc",
        "colab_type": "code",
        "outputId": "e27baa10-4694-4ffa-d95d-815acf35196d",
        "colab": {
          "base_uri": "https://localhost:8080/",
          "height": 545
        }
      },
      "source": [
        "data3_group = data3.groupby(by='Unit')\n",
        "data3_group.describe()"
      ],
      "execution_count": 86,
      "outputs": [
        {
          "output_type": "execute_result",
          "data": {
            "text/html": [
              "<div>\n",
              "<style scoped>\n",
              "    .dataframe tbody tr th:only-of-type {\n",
              "        vertical-align: middle;\n",
              "    }\n",
              "\n",
              "    .dataframe tbody tr th {\n",
              "        vertical-align: top;\n",
              "    }\n",
              "\n",
              "    .dataframe thead tr th {\n",
              "        text-align: left;\n",
              "    }\n",
              "\n",
              "    .dataframe thead tr:last-of-type th {\n",
              "        text-align: right;\n",
              "    }\n",
              "</style>\n",
              "<table border=\"1\" class=\"dataframe\">\n",
              "  <thead>\n",
              "    <tr>\n",
              "      <th></th>\n",
              "      <th colspan=\"8\" halign=\"left\">Price</th>\n",
              "    </tr>\n",
              "    <tr>\n",
              "      <th></th>\n",
              "      <th>count</th>\n",
              "      <th>mean</th>\n",
              "      <th>std</th>\n",
              "      <th>min</th>\n",
              "      <th>25%</th>\n",
              "      <th>50%</th>\n",
              "      <th>75%</th>\n",
              "      <th>max</th>\n",
              "    </tr>\n",
              "    <tr>\n",
              "      <th>Unit</th>\n",
              "      <th></th>\n",
              "      <th></th>\n",
              "      <th></th>\n",
              "      <th></th>\n",
              "      <th></th>\n",
              "      <th></th>\n",
              "      <th></th>\n",
              "      <th></th>\n",
              "    </tr>\n",
              "  </thead>\n",
              "  <tbody>\n",
              "    <tr>\n",
              "      <th>20' container</th>\n",
              "      <td>6.0</td>\n",
              "      <td>1165.666667</td>\n",
              "      <td>1186.141082</td>\n",
              "      <td>349.0</td>\n",
              "      <td>436.25</td>\n",
              "      <td>847.5</td>\n",
              "      <td>1075.0</td>\n",
              "      <td>3500.0</td>\n",
              "    </tr>\n",
              "    <tr>\n",
              "      <th>40' container</th>\n",
              "      <td>5.0</td>\n",
              "      <td>996.000000</td>\n",
              "      <td>1464.997440</td>\n",
              "      <td>295.0</td>\n",
              "      <td>320.00</td>\n",
              "      <td>320.0</td>\n",
              "      <td>430.0</td>\n",
              "      <td>3615.0</td>\n",
              "    </tr>\n",
              "    <tr>\n",
              "      <th>bag</th>\n",
              "      <td>23.0</td>\n",
              "      <td>1107.913043</td>\n",
              "      <td>1037.577463</td>\n",
              "      <td>220.0</td>\n",
              "      <td>475.00</td>\n",
              "      <td>725.0</td>\n",
              "      <td>1375.0</td>\n",
              "      <td>4792.0</td>\n",
              "    </tr>\n",
              "    <tr>\n",
              "      <th>box</th>\n",
              "      <td>9.0</td>\n",
              "      <td>1048.777778</td>\n",
              "      <td>779.117093</td>\n",
              "      <td>150.0</td>\n",
              "      <td>500.00</td>\n",
              "      <td>900.0</td>\n",
              "      <td>1500.0</td>\n",
              "      <td>2350.0</td>\n",
              "    </tr>\n",
              "    <tr>\n",
              "      <th>kurti</th>\n",
              "      <td>5.0</td>\n",
              "      <td>573.400000</td>\n",
              "      <td>121.824874</td>\n",
              "      <td>370.0</td>\n",
              "      <td>599.00</td>\n",
              "      <td>599.0</td>\n",
              "      <td>599.0</td>\n",
              "      <td>700.0</td>\n",
              "    </tr>\n",
              "    <tr>\n",
              "      <th>number</th>\n",
              "      <td>60.0</td>\n",
              "      <td>870.366667</td>\n",
              "      <td>592.397512</td>\n",
              "      <td>250.0</td>\n",
              "      <td>500.00</td>\n",
              "      <td>726.5</td>\n",
              "      <td>1000.0</td>\n",
              "      <td>3800.0</td>\n",
              "    </tr>\n",
              "    <tr>\n",
              "      <th>onwards</th>\n",
              "      <td>48.0</td>\n",
              "      <td>518.229167</td>\n",
              "      <td>106.608698</td>\n",
              "      <td>395.0</td>\n",
              "      <td>500.00</td>\n",
              "      <td>500.0</td>\n",
              "      <td>500.0</td>\n",
              "      <td>850.0</td>\n",
              "    </tr>\n",
              "    <tr>\n",
              "      <th>pack</th>\n",
              "      <td>21.0</td>\n",
              "      <td>858.047619</td>\n",
              "      <td>998.798852</td>\n",
              "      <td>55.0</td>\n",
              "      <td>320.00</td>\n",
              "      <td>500.0</td>\n",
              "      <td>1000.0</td>\n",
              "      <td>3700.0</td>\n",
              "    </tr>\n",
              "    <tr>\n",
              "      <th>pair</th>\n",
              "      <td>19.0</td>\n",
              "      <td>776.263158</td>\n",
              "      <td>560.647824</td>\n",
              "      <td>249.0</td>\n",
              "      <td>399.50</td>\n",
              "      <td>563.0</td>\n",
              "      <td>889.5</td>\n",
              "      <td>2200.0</td>\n",
              "    </tr>\n",
              "    <tr>\n",
              "      <th>piece</th>\n",
              "      <td>3488.0</td>\n",
              "      <td>798.933486</td>\n",
              "      <td>2290.240236</td>\n",
              "      <td>1.0</td>\n",
              "      <td>330.75</td>\n",
              "      <td>500.0</td>\n",
              "      <td>799.0</td>\n",
              "      <td>109000.0</td>\n",
              "    </tr>\n",
              "    <tr>\n",
              "      <th>pieces</th>\n",
              "      <td>519.0</td>\n",
              "      <td>642.059730</td>\n",
              "      <td>488.471300</td>\n",
              "      <td>100.0</td>\n",
              "      <td>300.00</td>\n",
              "      <td>500.0</td>\n",
              "      <td>900.0</td>\n",
              "      <td>4000.0</td>\n",
              "    </tr>\n",
              "    <tr>\n",
              "      <th>set</th>\n",
              "      <td>44.0</td>\n",
              "      <td>1653.840909</td>\n",
              "      <td>6545.811847</td>\n",
              "      <td>100.0</td>\n",
              "      <td>402.25</td>\n",
              "      <td>577.5</td>\n",
              "      <td>810.0</td>\n",
              "      <td>44000.0</td>\n",
              "    </tr>\n",
              "    <tr>\n",
              "      <th>sets</th>\n",
              "      <td>7.0</td>\n",
              "      <td>862.857143</td>\n",
              "      <td>736.115124</td>\n",
              "      <td>200.0</td>\n",
              "      <td>450.00</td>\n",
              "      <td>500.0</td>\n",
              "      <td>1075.0</td>\n",
              "      <td>2290.0</td>\n",
              "    </tr>\n",
              "    <tr>\n",
              "      <th>unit</th>\n",
              "      <td>74.0</td>\n",
              "      <td>1247.135135</td>\n",
              "      <td>4091.978395</td>\n",
              "      <td>110.0</td>\n",
              "      <td>300.00</td>\n",
              "      <td>500.0</td>\n",
              "      <td>790.5</td>\n",
              "      <td>35050.0</td>\n",
              "    </tr>\n",
              "  </tbody>\n",
              "</table>\n",
              "</div>"
            ],
            "text/plain": [
              "                Price                            ...                         \n",
              "                count         mean          std  ...    50%     75%       max\n",
              "Unit                                             ...                         \n",
              "20' container     6.0  1165.666667  1186.141082  ...  847.5  1075.0    3500.0\n",
              "40' container     5.0   996.000000  1464.997440  ...  320.0   430.0    3615.0\n",
              "bag              23.0  1107.913043  1037.577463  ...  725.0  1375.0    4792.0\n",
              "box               9.0  1048.777778   779.117093  ...  900.0  1500.0    2350.0\n",
              "kurti             5.0   573.400000   121.824874  ...  599.0   599.0     700.0\n",
              "number           60.0   870.366667   592.397512  ...  726.5  1000.0    3800.0\n",
              "onwards          48.0   518.229167   106.608698  ...  500.0   500.0     850.0\n",
              "pack             21.0   858.047619   998.798852  ...  500.0  1000.0    3700.0\n",
              "pair             19.0   776.263158   560.647824  ...  563.0   889.5    2200.0\n",
              "piece          3488.0   798.933486  2290.240236  ...  500.0   799.0  109000.0\n",
              "pieces          519.0   642.059730   488.471300  ...  500.0   900.0    4000.0\n",
              "set              44.0  1653.840909  6545.811847  ...  577.5   810.0   44000.0\n",
              "sets              7.0   862.857143   736.115124  ...  500.0  1075.0    2290.0\n",
              "unit             74.0  1247.135135  4091.978395  ...  500.0   790.5   35050.0\n",
              "\n",
              "[14 rows x 8 columns]"
            ]
          },
          "metadata": {
            "tags": []
          },
          "execution_count": 86
        }
      ]
    },
    {
      "cell_type": "code",
      "metadata": {
        "id": "r_6Awxevn7UR",
        "colab_type": "code",
        "outputId": "14b32d6d-5a90-4659-d027-d931dc499870",
        "colab": {
          "base_uri": "https://localhost:8080/",
          "height": 855
        }
      },
      "source": [
        "#concat all data\n",
        "data = pd.concat([data1,data2,data3])\n",
        "data.groupby(['Category Name','Unit']).describe()"
      ],
      "execution_count": 87,
      "outputs": [
        {
          "output_type": "execute_result",
          "data": {
            "text/html": [
              "<div>\n",
              "<style scoped>\n",
              "    .dataframe tbody tr th:only-of-type {\n",
              "        vertical-align: middle;\n",
              "    }\n",
              "\n",
              "    .dataframe tbody tr th {\n",
              "        vertical-align: top;\n",
              "    }\n",
              "\n",
              "    .dataframe thead tr th {\n",
              "        text-align: left;\n",
              "    }\n",
              "\n",
              "    .dataframe thead tr:last-of-type th {\n",
              "        text-align: right;\n",
              "    }\n",
              "</style>\n",
              "<table border=\"1\" class=\"dataframe\">\n",
              "  <thead>\n",
              "    <tr>\n",
              "      <th></th>\n",
              "      <th></th>\n",
              "      <th colspan=\"8\" halign=\"left\">Price</th>\n",
              "    </tr>\n",
              "    <tr>\n",
              "      <th></th>\n",
              "      <th></th>\n",
              "      <th>count</th>\n",
              "      <th>mean</th>\n",
              "      <th>std</th>\n",
              "      <th>min</th>\n",
              "      <th>25%</th>\n",
              "      <th>50%</th>\n",
              "      <th>75%</th>\n",
              "      <th>max</th>\n",
              "    </tr>\n",
              "    <tr>\n",
              "      <th>Category Name</th>\n",
              "      <th>Unit</th>\n",
              "      <th></th>\n",
              "      <th></th>\n",
              "      <th></th>\n",
              "      <th></th>\n",
              "      <th></th>\n",
              "      <th></th>\n",
              "      <th></th>\n",
              "      <th></th>\n",
              "    </tr>\n",
              "  </thead>\n",
              "  <tbody>\n",
              "    <tr>\n",
              "      <th rowspan=\"6\" valign=\"top\">Impact Drill</th>\n",
              "      <th>Number</th>\n",
              "      <td>14.0</td>\n",
              "      <td>7822.357143</td>\n",
              "      <td>8373.961415</td>\n",
              "      <td>1250.0</td>\n",
              "      <td>2904.00</td>\n",
              "      <td>5385.0</td>\n",
              "      <td>6955.00</td>\n",
              "      <td>29840.0</td>\n",
              "    </tr>\n",
              "    <tr>\n",
              "      <th>Pc_Onwards</th>\n",
              "      <td>5.0</td>\n",
              "      <td>8200.000000</td>\n",
              "      <td>2489.979920</td>\n",
              "      <td>5000.0</td>\n",
              "      <td>6000.00</td>\n",
              "      <td>10000.0</td>\n",
              "      <td>10000.00</td>\n",
              "      <td>10000.0</td>\n",
              "    </tr>\n",
              "    <tr>\n",
              "      <th>Piece</th>\n",
              "      <td>119.0</td>\n",
              "      <td>4586.991597</td>\n",
              "      <td>5631.041341</td>\n",
              "      <td>2.0</td>\n",
              "      <td>1792.50</td>\n",
              "      <td>2500.0</td>\n",
              "      <td>4995.00</td>\n",
              "      <td>39830.0</td>\n",
              "    </tr>\n",
              "    <tr>\n",
              "      <th>Piece(s)</th>\n",
              "      <td>5.0</td>\n",
              "      <td>1615.800000</td>\n",
              "      <td>575.150589</td>\n",
              "      <td>1050.0</td>\n",
              "      <td>1050.00</td>\n",
              "      <td>1600.0</td>\n",
              "      <td>2079.00</td>\n",
              "      <td>2300.0</td>\n",
              "    </tr>\n",
              "    <tr>\n",
              "      <th>pack</th>\n",
              "      <td>56.0</td>\n",
              "      <td>7844.089286</td>\n",
              "      <td>11037.956356</td>\n",
              "      <td>1069.0</td>\n",
              "      <td>2341.25</td>\n",
              "      <td>3179.0</td>\n",
              "      <td>6340.00</td>\n",
              "      <td>47462.0</td>\n",
              "    </tr>\n",
              "    <tr>\n",
              "      <th>unit</th>\n",
              "      <td>42.0</td>\n",
              "      <td>10881.833333</td>\n",
              "      <td>15193.547412</td>\n",
              "      <td>1199.0</td>\n",
              "      <td>2713.00</td>\n",
              "      <td>4484.5</td>\n",
              "      <td>9790.75</td>\n",
              "      <td>55000.0</td>\n",
              "    </tr>\n",
              "    <tr>\n",
              "      <th rowspan=\"14\" valign=\"top\">Ladies Kurta</th>\n",
              "      <th>20' container</th>\n",
              "      <td>6.0</td>\n",
              "      <td>1165.666667</td>\n",
              "      <td>1186.141082</td>\n",
              "      <td>349.0</td>\n",
              "      <td>436.25</td>\n",
              "      <td>847.5</td>\n",
              "      <td>1075.00</td>\n",
              "      <td>3500.0</td>\n",
              "    </tr>\n",
              "    <tr>\n",
              "      <th>40' container</th>\n",
              "      <td>5.0</td>\n",
              "      <td>996.000000</td>\n",
              "      <td>1464.997440</td>\n",
              "      <td>295.0</td>\n",
              "      <td>320.00</td>\n",
              "      <td>320.0</td>\n",
              "      <td>430.00</td>\n",
              "      <td>3615.0</td>\n",
              "    </tr>\n",
              "    <tr>\n",
              "      <th>bag</th>\n",
              "      <td>23.0</td>\n",
              "      <td>1107.913043</td>\n",
              "      <td>1037.577463</td>\n",
              "      <td>220.0</td>\n",
              "      <td>475.00</td>\n",
              "      <td>725.0</td>\n",
              "      <td>1375.00</td>\n",
              "      <td>4792.0</td>\n",
              "    </tr>\n",
              "    <tr>\n",
              "      <th>box</th>\n",
              "      <td>9.0</td>\n",
              "      <td>1048.777778</td>\n",
              "      <td>779.117093</td>\n",
              "      <td>150.0</td>\n",
              "      <td>500.00</td>\n",
              "      <td>900.0</td>\n",
              "      <td>1500.00</td>\n",
              "      <td>2350.0</td>\n",
              "    </tr>\n",
              "    <tr>\n",
              "      <th>kurti</th>\n",
              "      <td>5.0</td>\n",
              "      <td>573.400000</td>\n",
              "      <td>121.824874</td>\n",
              "      <td>370.0</td>\n",
              "      <td>599.00</td>\n",
              "      <td>599.0</td>\n",
              "      <td>599.00</td>\n",
              "      <td>700.0</td>\n",
              "    </tr>\n",
              "    <tr>\n",
              "      <th>number</th>\n",
              "      <td>60.0</td>\n",
              "      <td>870.366667</td>\n",
              "      <td>592.397512</td>\n",
              "      <td>250.0</td>\n",
              "      <td>500.00</td>\n",
              "      <td>726.5</td>\n",
              "      <td>1000.00</td>\n",
              "      <td>3800.0</td>\n",
              "    </tr>\n",
              "    <tr>\n",
              "      <th>onwards</th>\n",
              "      <td>48.0</td>\n",
              "      <td>518.229167</td>\n",
              "      <td>106.608698</td>\n",
              "      <td>395.0</td>\n",
              "      <td>500.00</td>\n",
              "      <td>500.0</td>\n",
              "      <td>500.00</td>\n",
              "      <td>850.0</td>\n",
              "    </tr>\n",
              "    <tr>\n",
              "      <th>pack</th>\n",
              "      <td>21.0</td>\n",
              "      <td>858.047619</td>\n",
              "      <td>998.798852</td>\n",
              "      <td>55.0</td>\n",
              "      <td>320.00</td>\n",
              "      <td>500.0</td>\n",
              "      <td>1000.00</td>\n",
              "      <td>3700.0</td>\n",
              "    </tr>\n",
              "    <tr>\n",
              "      <th>pair</th>\n",
              "      <td>19.0</td>\n",
              "      <td>776.263158</td>\n",
              "      <td>560.647824</td>\n",
              "      <td>249.0</td>\n",
              "      <td>399.50</td>\n",
              "      <td>563.0</td>\n",
              "      <td>889.50</td>\n",
              "      <td>2200.0</td>\n",
              "    </tr>\n",
              "    <tr>\n",
              "      <th>piece</th>\n",
              "      <td>3488.0</td>\n",
              "      <td>798.933486</td>\n",
              "      <td>2290.240236</td>\n",
              "      <td>1.0</td>\n",
              "      <td>330.75</td>\n",
              "      <td>500.0</td>\n",
              "      <td>799.00</td>\n",
              "      <td>109000.0</td>\n",
              "    </tr>\n",
              "    <tr>\n",
              "      <th>pieces</th>\n",
              "      <td>519.0</td>\n",
              "      <td>642.059730</td>\n",
              "      <td>488.471300</td>\n",
              "      <td>100.0</td>\n",
              "      <td>300.00</td>\n",
              "      <td>500.0</td>\n",
              "      <td>900.00</td>\n",
              "      <td>4000.0</td>\n",
              "    </tr>\n",
              "    <tr>\n",
              "      <th>set</th>\n",
              "      <td>44.0</td>\n",
              "      <td>1653.840909</td>\n",
              "      <td>6545.811847</td>\n",
              "      <td>100.0</td>\n",
              "      <td>402.25</td>\n",
              "      <td>577.5</td>\n",
              "      <td>810.00</td>\n",
              "      <td>44000.0</td>\n",
              "    </tr>\n",
              "    <tr>\n",
              "      <th>sets</th>\n",
              "      <td>7.0</td>\n",
              "      <td>862.857143</td>\n",
              "      <td>736.115124</td>\n",
              "      <td>200.0</td>\n",
              "      <td>450.00</td>\n",
              "      <td>500.0</td>\n",
              "      <td>1075.00</td>\n",
              "      <td>2290.0</td>\n",
              "    </tr>\n",
              "    <tr>\n",
              "      <th>unit</th>\n",
              "      <td>74.0</td>\n",
              "      <td>1247.135135</td>\n",
              "      <td>4091.978395</td>\n",
              "      <td>110.0</td>\n",
              "      <td>300.00</td>\n",
              "      <td>500.0</td>\n",
              "      <td>790.50</td>\n",
              "      <td>35050.0</td>\n",
              "    </tr>\n",
              "    <tr>\n",
              "      <th rowspan=\"4\" valign=\"top\">Leather Safety Gloves</th>\n",
              "      <th>Pair</th>\n",
              "      <td>113.0</td>\n",
              "      <td>102.557522</td>\n",
              "      <td>68.740446</td>\n",
              "      <td>10.0</td>\n",
              "      <td>50.00</td>\n",
              "      <td>80.0</td>\n",
              "      <td>170.00</td>\n",
              "      <td>350.0</td>\n",
              "    </tr>\n",
              "    <tr>\n",
              "      <th>Piece</th>\n",
              "      <td>6.0</td>\n",
              "      <td>136.666667</td>\n",
              "      <td>116.390148</td>\n",
              "      <td>40.0</td>\n",
              "      <td>40.00</td>\n",
              "      <td>95.0</td>\n",
              "      <td>225.00</td>\n",
              "      <td>300.0</td>\n",
              "    </tr>\n",
              "    <tr>\n",
              "      <th>pack</th>\n",
              "      <td>8.0</td>\n",
              "      <td>3104.250000</td>\n",
              "      <td>6456.924052</td>\n",
              "      <td>51.0</td>\n",
              "      <td>132.00</td>\n",
              "      <td>965.5</td>\n",
              "      <td>1632.50</td>\n",
              "      <td>18974.0</td>\n",
              "    </tr>\n",
              "    <tr>\n",
              "      <th>unit</th>\n",
              "      <td>12.0</td>\n",
              "      <td>1911.750000</td>\n",
              "      <td>2551.370225</td>\n",
              "      <td>70.0</td>\n",
              "      <td>680.25</td>\n",
              "      <td>974.0</td>\n",
              "      <td>1829.75</td>\n",
              "      <td>8978.0</td>\n",
              "    </tr>\n",
              "  </tbody>\n",
              "</table>\n",
              "</div>"
            ],
            "text/plain": [
              "                                      Price                ...                    \n",
              "                                      count          mean  ...       75%       max\n",
              "Category Name         Unit                                 ...                    \n",
              "Impact Drill          Number           14.0   7822.357143  ...   6955.00   29840.0\n",
              "                      Pc_Onwards        5.0   8200.000000  ...  10000.00   10000.0\n",
              "                      Piece           119.0   4586.991597  ...   4995.00   39830.0\n",
              "                      Piece(s)          5.0   1615.800000  ...   2079.00    2300.0\n",
              "                      pack             56.0   7844.089286  ...   6340.00   47462.0\n",
              "                      unit             42.0  10881.833333  ...   9790.75   55000.0\n",
              "Ladies Kurta          20' container     6.0   1165.666667  ...   1075.00    3500.0\n",
              "                      40' container     5.0    996.000000  ...    430.00    3615.0\n",
              "                      bag              23.0   1107.913043  ...   1375.00    4792.0\n",
              "                      box               9.0   1048.777778  ...   1500.00    2350.0\n",
              "                      kurti             5.0    573.400000  ...    599.00     700.0\n",
              "                      number           60.0    870.366667  ...   1000.00    3800.0\n",
              "                      onwards          48.0    518.229167  ...    500.00     850.0\n",
              "                      pack             21.0    858.047619  ...   1000.00    3700.0\n",
              "                      pair             19.0    776.263158  ...    889.50    2200.0\n",
              "                      piece          3488.0    798.933486  ...    799.00  109000.0\n",
              "                      pieces          519.0    642.059730  ...    900.00    4000.0\n",
              "                      set              44.0   1653.840909  ...    810.00   44000.0\n",
              "                      sets              7.0    862.857143  ...   1075.00    2290.0\n",
              "                      unit             74.0   1247.135135  ...    790.50   35050.0\n",
              "Leather Safety Gloves Pair            113.0    102.557522  ...    170.00     350.0\n",
              "                      Piece             6.0    136.666667  ...    225.00     300.0\n",
              "                      pack              8.0   3104.250000  ...   1632.50   18974.0\n",
              "                      unit             12.0   1911.750000  ...   1829.75    8978.0\n",
              "\n",
              "[24 rows x 8 columns]"
            ]
          },
          "metadata": {
            "tags": []
          },
          "execution_count": 87
        }
      ]
    },
    {
      "cell_type": "markdown",
      "metadata": {
        "id": "6Vn8311txr4i",
        "colab_type": "text"
      },
      "source": [
        "# Driver Program"
      ]
    },
    {
      "cell_type": "markdown",
      "metadata": {
        "id": "unQNTys3y94S",
        "colab_type": "text"
      },
      "source": [
        "**The Main Ensembled Function**"
      ]
    },
    {
      "cell_type": "code",
      "metadata": {
        "id": "tEki1_RKYBoe",
        "colab_type": "code",
        "colab": {}
      },
      "source": [
        "def findPriceRange(datas,contamination_factor,seed_percentage):\n",
        "    \n",
        "    \n",
        "    datax = datas\n",
        "    datay = datas\n",
        "    dataz = datas\n",
        "    ######_____Isolation Forests\n",
        "    \n",
        "    isolation_forest = IsolationForest(contamination=contamination_factor)\n",
        "    if_vote = isolation_forest.fit_predict(dataz['Price'].values.reshape(-1,1))\n",
        "    \n",
        "    ######_____DBScan\n",
        "    from sklearn.preprocessing import MinMaxScaler\n",
        "    from sklearn.cluster import DBSCAN\n",
        "     \n",
        "    scaler = MinMaxScaler()\n",
        "    sd = scaler.fit_transform(datax)\n",
        "    sd = pd.DataFrame(sd,columns=['Price'])\n",
        "    \n",
        "    \n",
        "    outlier_detection = DBSCAN(eps = getHyperparameters(sd,seed_percentage) ,metric=\"euclidean\",min_samples = 3,n_jobs = -1)\n",
        "    clusters = outlier_detection.fit_predict(sd)\n",
        "    clusters[clusters!=-1]=1\n",
        "    \n",
        "    dbscan_vote = clusters\n",
        "    \n",
        "    ######_____Local Outlier Factor\n",
        "    clf = LocalOutlierFactor(n_neighbors=20, contamination=contamination_factor)\n",
        "    y_pred = clf.fit_predict(np.array(datay['Price']).reshape(-1,1))\n",
        "    X_scores = clf.negative_outlier_factor_\n",
        "\n",
        "    lof_vote = y_pred\n",
        "    \n",
        "\n",
        "    \n",
        "    final_votes = lof_vote + if_vote + dbscan_vote\n",
        "    final_votes[final_votes>0] = 1\n",
        "    final_votes[final_votes<0]=0\n",
        "    pure_data = final_votes*np.array(datas['Price'])\n",
        "    pure_data = np.extract(pure_data!=0, pure_data)\n",
        "    min_price, max_price = np.min(pure_data), np.max(pure_data)\n",
        "    return([min_price, max_price, pure_data])\n",
        "    "
      ],
      "execution_count": 0,
      "outputs": []
    },
    {
      "cell_type": "code",
      "metadata": {
        "id": "FmNpxsrhQVaj",
        "colab_type": "code",
        "colab": {}
      },
      "source": [
        "\n",
        "def plot_figure(x,c,u,min_price,max_price):\n",
        "    \n",
        "    k = x\n",
        "    fig, ax = plt.subplots()\n",
        "    num_bins = 10\n",
        "    n, bins, patches = ax.hist(k['Price'], num_bins, color=['grey'])\n",
        "    d = ax.fill_betweenx(n,min_price,max_price,color='g',alpha=0.5)\n",
        "    ax.set_xlabel('Prices')\n",
        "    ax.set_ylabel('Counts')\n",
        "    ax.set_title(r'Histogram for item-'+ c +' and unit - '+ u)\n",
        "    fig.tight_layout()\n",
        "    plt.show()\n",
        "\n",
        "def getHyperparameters(sd,retain):\n",
        "  \n",
        "  import math\n",
        "  \n",
        "  dis=[]\n",
        "  temp =list(sd['Price'])\n",
        "  for i in range(0,len(temp)-1):\n",
        "    dis.append(temp[i+1]-temp[i])\n",
        "\n",
        "  arr = np.array(dis)\n",
        "  diss = pd.DataFrame(dis,columns=['dis'])\n",
        "  std=diss['dis'].std()\n",
        "  ma = diss['dis'].max()\n",
        "  n=len(dis)\n",
        "  \n",
        "  cnt={}\n",
        "  unique_dis=list(set(dis))\n",
        "  for i in unique_dis:\n",
        "    cnt[i]=dis.count(i)\n",
        "  keys = cnt.keys()\n",
        "  keys=sorted(keys)\n",
        "  cands=[]\n",
        "  full = int(round((retain*n),0))\n",
        "  for i in keys:\n",
        "    full = full - cnt[i]\n",
        "    cands.append(i)\n",
        "    if(full<=0):\n",
        "      break\n",
        "    \n",
        "  \n",
        "  b = pd.DataFrame(cands)\n",
        "  epsilon = round(np.max(np.array(b))*1000,0)/1000\n",
        "  return(epsilon)\n",
        "  "
      ],
      "execution_count": 0,
      "outputs": []
    },
    {
      "cell_type": "code",
      "metadata": {
        "id": "CbEK8KSZwhIy",
        "colab_type": "code",
        "colab": {}
      },
      "source": [
        "def estimateContamination(dataChunk):\n",
        "  \n",
        "  #index column addition\n",
        "  unnormal_data=pd.DataFrame(dataChunk)\n",
        "\n",
        "  # Computing IQR\n",
        "  Q1 = unnormal_data['Price'].quantile(0.25)\n",
        "  Q3 = unnormal_data['Price'].quantile(0.75)\n",
        "  IQR = Q3 - Q1 \n",
        "\n",
        "  import random\n",
        "  label_data = list(unnormal_data['Price'])\n",
        "  t=[]\n",
        "  for i in range(len(unnormal_data['Price'])):\n",
        "    if( (label_data[i] <= (Q1 - 1.5 * IQR)) or (label_data[i] >= (Q3 + 1.5 * IQR))):\n",
        "      t.append(-1)\n",
        "    else:\n",
        "      t.append(1)\n",
        "\n",
        "  filtered = t\n",
        "  #keep seed percentage == IQR range or 85% or 98%\n",
        "  #assume 85%-98% purityz\n",
        "  import math\n",
        "\n",
        "  seed_percentage  = math.floor((len(filtered)/len(unnormal_data))*100)\n",
        "  if(seed_percentage<85):\n",
        "    seed_percentage = 87\n",
        "  elif(seed_percentage>=99):\n",
        "    seed_percentage = 98\n",
        "\n",
        "#   print(\"Seed Percentage :\",seed_percentage)\n",
        "\n",
        "  contamination_factor=0.5*((100-seed_percentage)/100)    \n",
        "  \n",
        "  return([seed_percentage, contamination_factor])"
      ],
      "execution_count": 0,
      "outputs": []
    },
    {
      "cell_type": "code",
      "metadata": {
        "id": "_BrH_Y-jnpam",
        "colab_type": "code",
        "colab": {}
      },
      "source": [
        "#function to retrive relevant prices\n",
        "#usage example : accessData('Impact Drill','Piece')\n",
        "\n",
        "def accessData(category,unit):\n",
        "  return(data['Price'][(data['Category Name']==category) & (data['Unit'] == unit)])"
      ],
      "execution_count": 0,
      "outputs": []
    },
    {
      "cell_type": "code",
      "metadata": {
        "id": "ORHUn0I8jZJJ",
        "colab_type": "code",
        "colab": {}
      },
      "source": [
        "#dictionary catgory  -> unit -> prices\n",
        "\n",
        "indexes = {}\n",
        "categories = list(set(list(data['Category Name'])))\n",
        "for category in categories:\n",
        "  units = list(set(list(data['Unit'][data['Category Name'] == category])))\n",
        "  indexes[category]=units"
      ],
      "execution_count": 0,
      "outputs": []
    },
    {
      "cell_type": "code",
      "metadata": {
        "id": "SjR0FuLSE-YC",
        "colab_type": "code",
        "outputId": "e06db327-9173-4a83-9830-fea3a6d397c7",
        "colab": {
          "base_uri": "https://localhost:8080/",
          "height": 204
        }
      },
      "source": [
        "data.head()"
      ],
      "execution_count": 93,
      "outputs": [
        {
          "output_type": "execute_result",
          "data": {
            "text/html": [
              "<div>\n",
              "<style scoped>\n",
              "    .dataframe tbody tr th:only-of-type {\n",
              "        vertical-align: middle;\n",
              "    }\n",
              "\n",
              "    .dataframe tbody tr th {\n",
              "        vertical-align: top;\n",
              "    }\n",
              "\n",
              "    .dataframe thead th {\n",
              "        text-align: right;\n",
              "    }\n",
              "</style>\n",
              "<table border=\"1\" class=\"dataframe\">\n",
              "  <thead>\n",
              "    <tr style=\"text-align: right;\">\n",
              "      <th></th>\n",
              "      <th>Category Name</th>\n",
              "      <th>Unit</th>\n",
              "      <th>Price</th>\n",
              "    </tr>\n",
              "  </thead>\n",
              "  <tbody>\n",
              "    <tr>\n",
              "      <th>0</th>\n",
              "      <td>Impact Drill</td>\n",
              "      <td>Piece</td>\n",
              "      <td>2</td>\n",
              "    </tr>\n",
              "    <tr>\n",
              "      <th>1</th>\n",
              "      <td>Impact Drill</td>\n",
              "      <td>Piece</td>\n",
              "      <td>675</td>\n",
              "    </tr>\n",
              "    <tr>\n",
              "      <th>2</th>\n",
              "      <td>Impact Drill</td>\n",
              "      <td>Piece</td>\n",
              "      <td>766</td>\n",
              "    </tr>\n",
              "    <tr>\n",
              "      <th>3</th>\n",
              "      <td>Impact Drill</td>\n",
              "      <td>Piece</td>\n",
              "      <td>900</td>\n",
              "    </tr>\n",
              "    <tr>\n",
              "      <th>4</th>\n",
              "      <td>Impact Drill</td>\n",
              "      <td>Piece</td>\n",
              "      <td>1000</td>\n",
              "    </tr>\n",
              "  </tbody>\n",
              "</table>\n",
              "</div>"
            ],
            "text/plain": [
              "  Category Name   Unit  Price\n",
              "0  Impact Drill  Piece      2\n",
              "1  Impact Drill  Piece    675\n",
              "2  Impact Drill  Piece    766\n",
              "3  Impact Drill  Piece    900\n",
              "4  Impact Drill  Piece   1000"
            ]
          },
          "metadata": {
            "tags": []
          },
          "execution_count": 93
        }
      ]
    },
    {
      "cell_type": "code",
      "metadata": {
        "id": "m_OiJSuwzyZb",
        "colab_type": "code",
        "outputId": "20bac94e-cf63-4c01-d237-8065bf9eee65",
        "colab": {
          "base_uri": "https://localhost:8080/",
          "height": 8797
        }
      },
      "source": [
        "debug = 0\n",
        "prints=[]\n",
        "\n",
        "for category in categories:\n",
        "  for j in range(len(indexes[category])):\n",
        "    \n",
        "    dataChunk = pd.DataFrame(accessData(category,indexes[category][j]))\n",
        "    minn, maxx, pdata = findPriceRange(dataChunk,estimateContamination(dataChunk)[1], estimateContamination(dataChunk)[0])\n",
        "    prints.append(\"Price Range for {} per {} is {} to {}\".format(category, indexes[category][j], minn, maxx))\n",
        "    plot_figure(dataChunk,category,indexes[category][j],minn,maxx)\n"
      ],
      "execution_count": 94,
      "outputs": [
        {
          "output_type": "stream",
          "text": [
            "/usr/local/lib/python3.6/dist-packages/sklearn/ensemble/iforest.py:247: FutureWarning: behaviour=\"old\" is deprecated and will be removed in version 0.22. Please use behaviour=\"new\", which makes the decision_function change to match other anomaly detection algorithm API.\n",
            "  FutureWarning)\n",
            "/usr/local/lib/python3.6/dist-packages/sklearn/ensemble/iforest.py:415: DeprecationWarning: threshold_ attribute is deprecated in 0.20 and will be removed in 0.22.\n",
            "  \" be removed in 0.22.\", DeprecationWarning)\n",
            "/usr/local/lib/python3.6/dist-packages/sklearn/neighbors/lof.py:253: UserWarning: n_neighbors (20) is greater than the total number of samples (12). n_neighbors will be set to (n_samples - 1) for estimation.\n",
            "  % (self.n_neighbors, n_samples))\n"
          ],
          "name": "stderr"
        },
        {
          "output_type": "display_data",
          "data": {
            "image/png": "[encoded data removed]",
            "text/plain": [
              "<Figure size 432x288 with 1 Axes>"
            ]
          },
          "metadata": {
            "tags": []
          }
        },
        {
          "output_type": "stream",
          "text": [
            "/usr/local/lib/python3.6/dist-packages/sklearn/ensemble/iforest.py:247: FutureWarning: behaviour=\"old\" is deprecated and will be removed in version 0.22. Please use behaviour=\"new\", which makes the decision_function change to match other anomaly detection algorithm API.\n",
            "  FutureWarning)\n",
            "/usr/local/lib/python3.6/dist-packages/sklearn/ensemble/iforest.py:415: DeprecationWarning: threshold_ attribute is deprecated in 0.20 and will be removed in 0.22.\n",
            "  \" be removed in 0.22.\", DeprecationWarning)\n"
          ],
          "name": "stderr"
        },
        {
          "output_type": "display_data",
          "data": {
            "image/png": "[encoded data removed]",
            "text/plain": [
              "<Figure size 432x288 with 1 Axes>"
            ]
          },
          "metadata": {
            "tags": []
          }
        },
        {
          "output_type": "stream",
          "text": [
            "/usr/local/lib/python3.6/dist-packages/sklearn/ensemble/iforest.py:247: FutureWarning: behaviour=\"old\" is deprecated and will be removed in version 0.22. Please use behaviour=\"new\", which makes the decision_function change to match other anomaly detection algorithm API.\n",
            "  FutureWarning)\n",
            "/usr/local/lib/python3.6/dist-packages/sklearn/ensemble/iforest.py:415: DeprecationWarning: threshold_ attribute is deprecated in 0.20 and will be removed in 0.22.\n",
            "  \" be removed in 0.22.\", DeprecationWarning)\n",
            "/usr/local/lib/python3.6/dist-packages/sklearn/neighbors/lof.py:253: UserWarning: n_neighbors (20) is greater than the total number of samples (8). n_neighbors will be set to (n_samples - 1) for estimation.\n",
            "  % (self.n_neighbors, n_samples))\n"
          ],
          "name": "stderr"
        },
        {
          "output_type": "display_data",
          "data": {
            "image/png": "[encoded data removed]",
            "text/plain": [
              "<Figure size 432x288 with 1 Axes>"
            ]
          },
          "metadata": {
            "tags": []
          }
        },
        {
          "output_type": "stream",
          "text": [
            "/usr/local/lib/python3.6/dist-packages/sklearn/ensemble/iforest.py:247: FutureWarning: behaviour=\"old\" is deprecated and will be removed in version 0.22. Please use behaviour=\"new\", which makes the decision_function change to match other anomaly detection algorithm API.\n",
            "  FutureWarning)\n",
            "/usr/local/lib/python3.6/dist-packages/sklearn/ensemble/iforest.py:415: DeprecationWarning: threshold_ attribute is deprecated in 0.20 and will be removed in 0.22.\n",
            "  \" be removed in 0.22.\", DeprecationWarning)\n",
            "/usr/local/lib/python3.6/dist-packages/sklearn/neighbors/lof.py:253: UserWarning: n_neighbors (20) is greater than the total number of samples (6). n_neighbors will be set to (n_samples - 1) for estimation.\n",
            "  % (self.n_neighbors, n_samples))\n"
          ],
          "name": "stderr"
        },
        {
          "output_type": "display_data",
          "data": {
            "image/png": "[encoded data removed]",
            "text/plain": [
              "<Figure size 432x288 with 1 Axes>"
            ]
          },
          "metadata": {
            "tags": []
          }
        },
        {
          "output_type": "stream",
          "text": [
            "/usr/local/lib/python3.6/dist-packages/sklearn/ensemble/iforest.py:247: FutureWarning: behaviour=\"old\" is deprecated and will be removed in version 0.22. Please use behaviour=\"new\", which makes the decision_function change to match other anomaly detection algorithm API.\n",
            "  FutureWarning)\n",
            "/usr/local/lib/python3.6/dist-packages/sklearn/ensemble/iforest.py:415: DeprecationWarning: threshold_ attribute is deprecated in 0.20 and will be removed in 0.22.\n",
            "  \" be removed in 0.22.\", DeprecationWarning)\n",
            "/usr/local/lib/python3.6/dist-packages/sklearn/neighbors/lof.py:253: UserWarning: n_neighbors (20) is greater than the total number of samples (14). n_neighbors will be set to (n_samples - 1) for estimation.\n",
            "  % (self.n_neighbors, n_samples))\n"
          ],
          "name": "stderr"
        },
        {
          "output_type": "display_data",
          "data": {
            "image/png": "[encoded data removed]",
            "text/plain": [
              "<Figure size 432x288 with 1 Axes>"
            ]
          },
          "metadata": {
            "tags": []
          }
        },
        {
          "output_type": "stream",
          "text": [
            "/usr/local/lib/python3.6/dist-packages/sklearn/ensemble/iforest.py:247: FutureWarning: behaviour=\"old\" is deprecated and will be removed in version 0.22. Please use behaviour=\"new\", which makes the decision_function change to match other anomaly detection algorithm API.\n",
            "  FutureWarning)\n",
            "/usr/local/lib/python3.6/dist-packages/sklearn/ensemble/iforest.py:415: DeprecationWarning: threshold_ attribute is deprecated in 0.20 and will be removed in 0.22.\n",
            "  \" be removed in 0.22.\", DeprecationWarning)\n"
          ],
          "name": "stderr"
        },
        {
          "output_type": "display_data",
          "data": {
            "image/png": "[encoded data removed]",
            "text/plain": [
              "<Figure size 432x288 with 1 Axes>"
            ]
          },
          "metadata": {
            "tags": []
          }
        },
        {
          "output_type": "stream",
          "text": [
            "/usr/local/lib/python3.6/dist-packages/sklearn/ensemble/iforest.py:247: FutureWarning: behaviour=\"old\" is deprecated and will be removed in version 0.22. Please use behaviour=\"new\", which makes the decision_function change to match other anomaly detection algorithm API.\n",
            "  FutureWarning)\n",
            "/usr/local/lib/python3.6/dist-packages/sklearn/ensemble/iforest.py:415: DeprecationWarning: threshold_ attribute is deprecated in 0.20 and will be removed in 0.22.\n",
            "  \" be removed in 0.22.\", DeprecationWarning)\n"
          ],
          "name": "stderr"
        },
        {
          "output_type": "display_data",
          "data": {
            "image/png": "[encoded data removed]",
            "text/plain": [
              "<Figure size 432x288 with 1 Axes>"
            ]
          },
          "metadata": {
            "tags": []
          }
        },
        {
          "output_type": "stream",
          "text": [
            "/usr/local/lib/python3.6/dist-packages/sklearn/ensemble/iforest.py:247: FutureWarning: behaviour=\"old\" is deprecated and will be removed in version 0.22. Please use behaviour=\"new\", which makes the decision_function change to match other anomaly detection algorithm API.\n",
            "  FutureWarning)\n",
            "/usr/local/lib/python3.6/dist-packages/sklearn/ensemble/iforest.py:415: DeprecationWarning: threshold_ attribute is deprecated in 0.20 and will be removed in 0.22.\n",
            "  \" be removed in 0.22.\", DeprecationWarning)\n"
          ],
          "name": "stderr"
        },
        {
          "output_type": "display_data",
          "data": {
            "image/png": "[encoded data removed]",
            "text/plain": [
              "<Figure size 432x288 with 1 Axes>"
            ]
          },
          "metadata": {
            "tags": []
          }
        },
        {
          "output_type": "stream",
          "text": [
            "/usr/local/lib/python3.6/dist-packages/sklearn/ensemble/iforest.py:247: FutureWarning: behaviour=\"old\" is deprecated and will be removed in version 0.22. Please use behaviour=\"new\", which makes the decision_function change to match other anomaly detection algorithm API.\n",
            "  FutureWarning)\n",
            "/usr/local/lib/python3.6/dist-packages/sklearn/ensemble/iforest.py:415: DeprecationWarning: threshold_ attribute is deprecated in 0.20 and will be removed in 0.22.\n",
            "  \" be removed in 0.22.\", DeprecationWarning)\n",
            "/usr/local/lib/python3.6/dist-packages/sklearn/neighbors/lof.py:253: UserWarning: n_neighbors (20) is greater than the total number of samples (5). n_neighbors will be set to (n_samples - 1) for estimation.\n",
            "  % (self.n_neighbors, n_samples))\n"
          ],
          "name": "stderr"
        },
        {
          "output_type": "display_data",
          "data": {
            "image/png": "[encoded data removed]",
            "text/plain": [
              "<Figure size 432x288 with 1 Axes>"
            ]
          },
          "metadata": {
            "tags": []
          }
        },
        {
          "output_type": "stream",
          "text": [
            "/usr/local/lib/python3.6/dist-packages/sklearn/ensemble/iforest.py:247: FutureWarning: behaviour=\"old\" is deprecated and will be removed in version 0.22. Please use behaviour=\"new\", which makes the decision_function change to match other anomaly detection algorithm API.\n",
            "  FutureWarning)\n",
            "/usr/local/lib/python3.6/dist-packages/sklearn/ensemble/iforest.py:415: DeprecationWarning: threshold_ attribute is deprecated in 0.20 and will be removed in 0.22.\n",
            "  \" be removed in 0.22.\", DeprecationWarning)\n",
            "/usr/local/lib/python3.6/dist-packages/sklearn/neighbors/lof.py:253: UserWarning: n_neighbors (20) is greater than the total number of samples (5). n_neighbors will be set to (n_samples - 1) for estimation.\n",
            "  % (self.n_neighbors, n_samples))\n"
          ],
          "name": "stderr"
        },
        {
          "output_type": "display_data",
          "data": {
            "image/png": "[encoded data removed]",
            "text/plain": [
              "<Figure size 432x288 with 1 Axes>"
            ]
          },
          "metadata": {
            "tags": []
          }
        },
        {
          "output_type": "stream",
          "text": [
            "/usr/local/lib/python3.6/dist-packages/sklearn/ensemble/iforest.py:247: FutureWarning: behaviour=\"old\" is deprecated and will be removed in version 0.22. Please use behaviour=\"new\", which makes the decision_function change to match other anomaly detection algorithm API.\n",
            "  FutureWarning)\n",
            "/usr/local/lib/python3.6/dist-packages/sklearn/ensemble/iforest.py:415: DeprecationWarning: threshold_ attribute is deprecated in 0.20 and will be removed in 0.22.\n",
            "  \" be removed in 0.22.\", DeprecationWarning)\n",
            "/usr/local/lib/python3.6/dist-packages/sklearn/neighbors/lof.py:253: UserWarning: n_neighbors (20) is greater than the total number of samples (5). n_neighbors will be set to (n_samples - 1) for estimation.\n",
            "  % (self.n_neighbors, n_samples))\n"
          ],
          "name": "stderr"
        },
        {
          "output_type": "display_data",
          "data": {
            "image/png": "[encoded data removed]",
            "text/plain": [
              "<Figure size 432x288 with 1 Axes>"
            ]
          },
          "metadata": {
            "tags": []
          }
        },
        {
          "output_type": "stream",
          "text": [
            "/usr/local/lib/python3.6/dist-packages/sklearn/ensemble/iforest.py:247: FutureWarning: behaviour=\"old\" is deprecated and will be removed in version 0.22. Please use behaviour=\"new\", which makes the decision_function change to match other anomaly detection algorithm API.\n",
            "  FutureWarning)\n",
            "/usr/local/lib/python3.6/dist-packages/sklearn/ensemble/iforest.py:415: DeprecationWarning: threshold_ attribute is deprecated in 0.20 and will be removed in 0.22.\n",
            "  \" be removed in 0.22.\", DeprecationWarning)\n",
            "/usr/local/lib/python3.6/dist-packages/sklearn/neighbors/lof.py:253: UserWarning: n_neighbors (20) is greater than the total number of samples (7). n_neighbors will be set to (n_samples - 1) for estimation.\n",
            "  % (self.n_neighbors, n_samples))\n"
          ],
          "name": "stderr"
        },
        {
          "output_type": "display_data",
          "data": {
            "image/png": "[encoded data removed]",
            "text/plain": [
              "<Figure size 432x288 with 1 Axes>"
            ]
          },
          "metadata": {
            "tags": []
          }
        },
        {
          "output_type": "stream",
          "text": [
            "/usr/local/lib/python3.6/dist-packages/sklearn/ensemble/iforest.py:247: FutureWarning: behaviour=\"old\" is deprecated and will be removed in version 0.22. Please use behaviour=\"new\", which makes the decision_function change to match other anomaly detection algorithm API.\n",
            "  FutureWarning)\n",
            "/usr/local/lib/python3.6/dist-packages/sklearn/ensemble/iforest.py:415: DeprecationWarning: threshold_ attribute is deprecated in 0.20 and will be removed in 0.22.\n",
            "  \" be removed in 0.22.\", DeprecationWarning)\n"
          ],
          "name": "stderr"
        },
        {
          "output_type": "display_data",
          "data": {
            "image/png": "[encoded data removed]",
            "text/plain": [
              "<Figure size 432x288 with 1 Axes>"
            ]
          },
          "metadata": {
            "tags": []
          }
        },
        {
          "output_type": "stream",
          "text": [
            "/usr/local/lib/python3.6/dist-packages/sklearn/ensemble/iforest.py:247: FutureWarning: behaviour=\"old\" is deprecated and will be removed in version 0.22. Please use behaviour=\"new\", which makes the decision_function change to match other anomaly detection algorithm API.\n",
            "  FutureWarning)\n",
            "/usr/local/lib/python3.6/dist-packages/sklearn/ensemble/iforest.py:415: DeprecationWarning: threshold_ attribute is deprecated in 0.20 and will be removed in 0.22.\n",
            "  \" be removed in 0.22.\", DeprecationWarning)\n"
          ],
          "name": "stderr"
        },
        {
          "output_type": "display_data",
          "data": {
            "image/png": "[encoded data removed]",
            "text/plain": [
              "<Figure size 432x288 with 1 Axes>"
            ]
          },
          "metadata": {
            "tags": []
          }
        },
        {
          "output_type": "stream",
          "text": [
            "/usr/local/lib/python3.6/dist-packages/sklearn/ensemble/iforest.py:247: FutureWarning: behaviour=\"old\" is deprecated and will be removed in version 0.22. Please use behaviour=\"new\", which makes the decision_function change to match other anomaly detection algorithm API.\n",
            "  FutureWarning)\n",
            "/usr/local/lib/python3.6/dist-packages/sklearn/ensemble/iforest.py:415: DeprecationWarning: threshold_ attribute is deprecated in 0.20 and will be removed in 0.22.\n",
            "  \" be removed in 0.22.\", DeprecationWarning)\n"
          ],
          "name": "stderr"
        },
        {
          "output_type": "display_data",
          "data": {
            "image/png": "[encoded data removed]",
            "text/plain": [
              "<Figure size 432x288 with 1 Axes>"
            ]
          },
          "metadata": {
            "tags": []
          }
        },
        {
          "output_type": "stream",
          "text": [
            "/usr/local/lib/python3.6/dist-packages/sklearn/ensemble/iforest.py:247: FutureWarning: behaviour=\"old\" is deprecated and will be removed in version 0.22. Please use behaviour=\"new\", which makes the decision_function change to match other anomaly detection algorithm API.\n",
            "  FutureWarning)\n",
            "/usr/local/lib/python3.6/dist-packages/sklearn/ensemble/iforest.py:415: DeprecationWarning: threshold_ attribute is deprecated in 0.20 and will be removed in 0.22.\n",
            "  \" be removed in 0.22.\", DeprecationWarning)\n"
          ],
          "name": "stderr"
        },
        {
          "output_type": "display_data",
          "data": {
            "image/png": "[encoded data removed]",
            "text/plain": [
              "<Figure size 432x288 with 1 Axes>"
            ]
          },
          "metadata": {
            "tags": []
          }
        },
        {
          "output_type": "stream",
          "text": [
            "/usr/local/lib/python3.6/dist-packages/sklearn/ensemble/iforest.py:247: FutureWarning: behaviour=\"old\" is deprecated and will be removed in version 0.22. Please use behaviour=\"new\", which makes the decision_function change to match other anomaly detection algorithm API.\n",
            "  FutureWarning)\n",
            "/usr/local/lib/python3.6/dist-packages/sklearn/ensemble/iforest.py:415: DeprecationWarning: threshold_ attribute is deprecated in 0.20 and will be removed in 0.22.\n",
            "  \" be removed in 0.22.\", DeprecationWarning)\n",
            "/usr/local/lib/python3.6/dist-packages/sklearn/neighbors/lof.py:253: UserWarning: n_neighbors (20) is greater than the total number of samples (9). n_neighbors will be set to (n_samples - 1) for estimation.\n",
            "  % (self.n_neighbors, n_samples))\n"
          ],
          "name": "stderr"
        },
        {
          "output_type": "display_data",
          "data": {
            "image/png": "[encoded data removed]",
            "text/plain": [
              "<Figure size 432x288 with 1 Axes>"
            ]
          },
          "metadata": {
            "tags": []
          }
        },
        {
          "output_type": "stream",
          "text": [
            "/usr/local/lib/python3.6/dist-packages/sklearn/ensemble/iforest.py:247: FutureWarning: behaviour=\"old\" is deprecated and will be removed in version 0.22. Please use behaviour=\"new\", which makes the decision_function change to match other anomaly detection algorithm API.\n",
            "  FutureWarning)\n",
            "/usr/local/lib/python3.6/dist-packages/sklearn/ensemble/iforest.py:415: DeprecationWarning: threshold_ attribute is deprecated in 0.20 and will be removed in 0.22.\n",
            "  \" be removed in 0.22.\", DeprecationWarning)\n",
            "/usr/local/lib/python3.6/dist-packages/sklearn/neighbors/lof.py:253: UserWarning: n_neighbors (20) is greater than the total number of samples (19). n_neighbors will be set to (n_samples - 1) for estimation.\n",
            "  % (self.n_neighbors, n_samples))\n"
          ],
          "name": "stderr"
        },
        {
          "output_type": "display_data",
          "data": {
            "image/png": "[encoded data removed]",
            "text/plain": [
              "<Figure size 432x288 with 1 Axes>"
            ]
          },
          "metadata": {
            "tags": []
          }
        },
        {
          "output_type": "stream",
          "text": [
            "/usr/local/lib/python3.6/dist-packages/sklearn/ensemble/iforest.py:247: FutureWarning: behaviour=\"old\" is deprecated and will be removed in version 0.22. Please use behaviour=\"new\", which makes the decision_function change to match other anomaly detection algorithm API.\n",
            "  FutureWarning)\n",
            "/usr/local/lib/python3.6/dist-packages/sklearn/ensemble/iforest.py:415: DeprecationWarning: threshold_ attribute is deprecated in 0.20 and will be removed in 0.22.\n",
            "  \" be removed in 0.22.\", DeprecationWarning)\n",
            "/usr/local/lib/python3.6/dist-packages/sklearn/neighbors/lof.py:253: UserWarning: n_neighbors (20) is greater than the total number of samples (5). n_neighbors will be set to (n_samples - 1) for estimation.\n",
            "  % (self.n_neighbors, n_samples))\n"
          ],
          "name": "stderr"
        },
        {
          "output_type": "display_data",
          "data": {
            "image/png": "[encoded data removed]",
            "text/plain": [
              "<Figure size 432x288 with 1 Axes>"
            ]
          },
          "metadata": {
            "tags": []
          }
        },
        {
          "output_type": "stream",
          "text": [
            "/usr/local/lib/python3.6/dist-packages/sklearn/ensemble/iforest.py:247: FutureWarning: behaviour=\"old\" is deprecated and will be removed in version 0.22. Please use behaviour=\"new\", which makes the decision_function change to match other anomaly detection algorithm API.\n",
            "  FutureWarning)\n",
            "/usr/local/lib/python3.6/dist-packages/sklearn/ensemble/iforest.py:415: DeprecationWarning: threshold_ attribute is deprecated in 0.20 and will be removed in 0.22.\n",
            "  \" be removed in 0.22.\", DeprecationWarning)\n"
          ],
          "name": "stderr"
        },
        {
          "output_type": "display_data",
          "data": {
            "image/png": "[encoded data removed]",
            "text/plain": [
              "<Figure size 432x288 with 1 Axes>"
            ]
          },
          "metadata": {
            "tags": []
          }
        },
        {
          "output_type": "stream",
          "text": [
            "/usr/local/lib/python3.6/dist-packages/sklearn/ensemble/iforest.py:247: FutureWarning: behaviour=\"old\" is deprecated and will be removed in version 0.22. Please use behaviour=\"new\", which makes the decision_function change to match other anomaly detection algorithm API.\n",
            "  FutureWarning)\n",
            "/usr/local/lib/python3.6/dist-packages/sklearn/ensemble/iforest.py:415: DeprecationWarning: threshold_ attribute is deprecated in 0.20 and will be removed in 0.22.\n",
            "  \" be removed in 0.22.\", DeprecationWarning)\n"
          ],
          "name": "stderr"
        },
        {
          "output_type": "display_data",
          "data": {
            "image/png": "[encoded data removed]",
            "text/plain": [
              "<Figure size 432x288 with 1 Axes>"
            ]
          },
          "metadata": {
            "tags": []
          }
        },
        {
          "output_type": "stream",
          "text": [
            "/usr/local/lib/python3.6/dist-packages/sklearn/ensemble/iforest.py:247: FutureWarning: behaviour=\"old\" is deprecated and will be removed in version 0.22. Please use behaviour=\"new\", which makes the decision_function change to match other anomaly detection algorithm API.\n",
            "  FutureWarning)\n",
            "/usr/local/lib/python3.6/dist-packages/sklearn/ensemble/iforest.py:415: DeprecationWarning: threshold_ attribute is deprecated in 0.20 and will be removed in 0.22.\n",
            "  \" be removed in 0.22.\", DeprecationWarning)\n"
          ],
          "name": "stderr"
        },
        {
          "output_type": "display_data",
          "data": {
            "image/png": "[encoded data removed]",
            "text/plain": [
              "<Figure size 432x288 with 1 Axes>"
            ]
          },
          "metadata": {
            "tags": []
          }
        },
        {
          "output_type": "stream",
          "text": [
            "/usr/local/lib/python3.6/dist-packages/sklearn/ensemble/iforest.py:247: FutureWarning: behaviour=\"old\" is deprecated and will be removed in version 0.22. Please use behaviour=\"new\", which makes the decision_function change to match other anomaly detection algorithm API.\n",
            "  FutureWarning)\n",
            "/usr/local/lib/python3.6/dist-packages/sklearn/ensemble/iforest.py:415: DeprecationWarning: threshold_ attribute is deprecated in 0.20 and will be removed in 0.22.\n",
            "  \" be removed in 0.22.\", DeprecationWarning)\n",
            "/usr/local/lib/python3.6/dist-packages/sklearn/neighbors/lof.py:253: UserWarning: n_neighbors (20) is greater than the total number of samples (6). n_neighbors will be set to (n_samples - 1) for estimation.\n",
            "  % (self.n_neighbors, n_samples))\n"
          ],
          "name": "stderr"
        },
        {
          "output_type": "display_data",
          "data": {
            "image/png": "[encoded data removed]",
            "text/plain": [
              "<Figure size 432x288 with 1 Axes>"
            ]
          },
          "metadata": {
            "tags": []
          }
        },
        {
          "output_type": "stream",
          "text": [
            "/usr/local/lib/python3.6/dist-packages/sklearn/ensemble/iforest.py:247: FutureWarning: behaviour=\"old\" is deprecated and will be removed in version 0.22. Please use behaviour=\"new\", which makes the decision_function change to match other anomaly detection algorithm API.\n",
            "  FutureWarning)\n",
            "/usr/local/lib/python3.6/dist-packages/sklearn/ensemble/iforest.py:415: DeprecationWarning: threshold_ attribute is deprecated in 0.20 and will be removed in 0.22.\n",
            "  \" be removed in 0.22.\", DeprecationWarning)\n"
          ],
          "name": "stderr"
        },
        {
          "output_type": "display_data",
          "data": {
            "image/png": "[encoded data removed]",
            "text/plain": [
              "<Figure size 432x288 with 1 Axes>"
            ]
          },
          "metadata": {
            "tags": []
          }
        }
      ]
    },
    {
      "cell_type": "markdown",
      "metadata": {
        "id": "JpCjUBDvX1Je",
        "colab_type": "text"
      },
      "source": [
        "### Results Visualisation"
      ]
    },
    {
      "cell_type": "code",
      "metadata": {
        "id": "sjkr0T_eEhVM",
        "colab_type": "code",
        "colab": {}
      },
      "source": [
        "\n",
        "def plot_figure(x,c,u,min_price,max_price):\n",
        "    \n",
        "    k = x\n",
        "    fig, ax = plt.subplots()\n",
        "    num_bins = 10\n",
        "    n, bins, patches = ax.hist(k['Price'], num_bins, color=['grey'])\n",
        "    d = ax.fill_betweenx(n,min_price,max_price,color='g',alpha=0.5)\n",
        "    ax.set_xlabel('Prices')\n",
        "    ax.set_ylabel('Counts')\n",
        "    ax.set_title(r'Histogram for item-'+ c +' and unit - '+ u)\n",
        "    fig.tight_layout()\n",
        "    plt.show()"
      ],
      "execution_count": 0,
      "outputs": []
    },
    {
      "cell_type": "markdown",
      "metadata": {
        "id": "to5tYq-HyMHI",
        "colab_type": "text"
      },
      "source": [
        "# Individual Algorithm Analysis Section"
      ]
    },
    {
      "cell_type": "markdown",
      "metadata": {
        "id": "_D76dTQkDMTL",
        "colab_type": "text"
      },
      "source": [
        "## Isolation Forests\n",
        "\n",
        "The challenge is to determine contamination factor"
      ]
    },
    {
      "cell_type": "code",
      "metadata": {
        "id": "VrznQh0MhSUu",
        "colab_type": "code",
        "outputId": "2c29175c-05c7-4f6d-9f44-7082c129c45b",
        "colab": {
          "base_uri": "https://localhost:8080/",
          "height": 919
        }
      },
      "source": [
        "df = data\n",
        "fig, axs = plt.subplots(2, 1, figsize=(22, 12), facecolor='w', edgecolor='k')\n",
        "axs = axs.ravel()\n",
        "\n",
        "for i, column in enumerate(cols):\n",
        "    isolation_forest = IsolationForest(contamination=contamination_factor)\n",
        "    z = isolation_forest.fit_predict(df[column].values.reshape(-1,1))\n",
        "\n",
        "    xx = np.linspace(df[column].min(), df[column].max(), len(df)).reshape(-1,1)\n",
        "    \n",
        "    \n",
        "    anomaly_score = isolation_forest.decision_function(df[column].values.reshape(-1,1))\n",
        "    outlier = isolation_forest.predict(xx)\n",
        "    \n",
        "    axs[i].plot(xx, anomaly_score, label='anomaly score')\n",
        "    axs[i].fill_between(xx.T[0], np.min(anomaly_score), np.max(anomaly_score), \n",
        "                     where=outlier==-1, color='r', \n",
        "                     alpha=.4, label='outlier region')\n",
        "    axs[i].legend()\n",
        "    axs[i].set_title(column)\n",
        "    \n"
      ],
      "execution_count": 0,
      "outputs": [
        {
          "output_type": "error",
          "ename": "NameError",
          "evalue": "ignored",
          "traceback": [
            "\u001b[0;31m---------------------------------------------------------------------------\u001b[0m",
            "\u001b[0;31mNameError\u001b[0m                                 Traceback (most recent call last)",
            "\u001b[0;32m<ipython-input-32-2bb7691c5b1d>\u001b[0m in \u001b[0;36m<module>\u001b[0;34m()\u001b[0m\n\u001b[1;32m      3\u001b[0m \u001b[0maxs\u001b[0m \u001b[0;34m=\u001b[0m \u001b[0maxs\u001b[0m\u001b[0;34m.\u001b[0m\u001b[0mravel\u001b[0m\u001b[0;34m(\u001b[0m\u001b[0;34m)\u001b[0m\u001b[0;34m\u001b[0m\u001b[0;34m\u001b[0m\u001b[0m\n\u001b[1;32m      4\u001b[0m \u001b[0;34m\u001b[0m\u001b[0m\n\u001b[0;32m----> 5\u001b[0;31m \u001b[0;32mfor\u001b[0m \u001b[0mi\u001b[0m\u001b[0;34m,\u001b[0m \u001b[0mcolumn\u001b[0m \u001b[0;32min\u001b[0m \u001b[0menumerate\u001b[0m\u001b[0;34m(\u001b[0m\u001b[0mcols\u001b[0m\u001b[0;34m)\u001b[0m\u001b[0;34m:\u001b[0m\u001b[0;34m\u001b[0m\u001b[0;34m\u001b[0m\u001b[0m\n\u001b[0m\u001b[1;32m      6\u001b[0m     \u001b[0misolation_forest\u001b[0m \u001b[0;34m=\u001b[0m \u001b[0mIsolationForest\u001b[0m\u001b[0;34m(\u001b[0m\u001b[0mcontamination\u001b[0m\u001b[0;34m=\u001b[0m\u001b[0mcontamination_factor\u001b[0m\u001b[0;34m)\u001b[0m\u001b[0;34m\u001b[0m\u001b[0;34m\u001b[0m\u001b[0m\n\u001b[1;32m      7\u001b[0m     \u001b[0mz\u001b[0m \u001b[0;34m=\u001b[0m \u001b[0misolation_forest\u001b[0m\u001b[0;34m.\u001b[0m\u001b[0mfit_predict\u001b[0m\u001b[0;34m(\u001b[0m\u001b[0mdf\u001b[0m\u001b[0;34m[\u001b[0m\u001b[0mcolumn\u001b[0m\u001b[0;34m]\u001b[0m\u001b[0;34m.\u001b[0m\u001b[0mvalues\u001b[0m\u001b[0;34m.\u001b[0m\u001b[0mreshape\u001b[0m\u001b[0;34m(\u001b[0m\u001b[0;34m-\u001b[0m\u001b[0;36m1\u001b[0m\u001b[0;34m,\u001b[0m\u001b[0;36m1\u001b[0m\u001b[0;34m)\u001b[0m\u001b[0;34m)\u001b[0m\u001b[0;34m\u001b[0m\u001b[0;34m\u001b[0m\u001b[0m\n",
            "\u001b[0;31mNameError\u001b[0m: name 'cols' is not defined"
          ]
        },
        {
          "output_type": "display_data",
          "data": {
            "image/png": "[encoded data removed]",
            "text/plain": [
              "<Figure size 1584x864 with 2 Axes>"
            ]
          },
          "metadata": {
            "tags": []
          }
        }
      ]
    },
    {
      "cell_type": "code",
      "metadata": {
        "id": "2XTc1AOam7RV",
        "colab_type": "code",
        "outputId": "1b7d7907-1c12-4ad6-a33f-56afd7d34036",
        "colab": {
          "base_uri": "https://localhost:8080/",
          "height": 164
        }
      },
      "source": [
        "if_vote = z"
      ],
      "execution_count": 0,
      "outputs": [
        {
          "output_type": "error",
          "ename": "NameError",
          "evalue": "ignored",
          "traceback": [
            "\u001b[0;31m---------------------------------------------------------------------------\u001b[0m",
            "\u001b[0;31mNameError\u001b[0m                                 Traceback (most recent call last)",
            "\u001b[0;32m<ipython-input-33-347c9093b481>\u001b[0m in \u001b[0;36m<module>\u001b[0;34m()\u001b[0m\n\u001b[0;32m----> 1\u001b[0;31m \u001b[0mif_vote\u001b[0m \u001b[0;34m=\u001b[0m \u001b[0mz\u001b[0m\u001b[0;34m\u001b[0m\u001b[0;34m\u001b[0m\u001b[0m\n\u001b[0m",
            "\u001b[0;31mNameError\u001b[0m: name 'z' is not defined"
          ]
        }
      ]
    },
    {
      "cell_type": "code",
      "metadata": {
        "id": "t35Rvnqho6va",
        "colab_type": "code",
        "outputId": "3c64dbb4-efdb-42bb-f571-2c3fe6b53ec4",
        "colab": {
          "base_uri": "https://localhost:8080/",
          "height": 164
        }
      },
      "source": [
        "z"
      ],
      "execution_count": 0,
      "outputs": [
        {
          "output_type": "error",
          "ename": "NameError",
          "evalue": "ignored",
          "traceback": [
            "\u001b[0;31m---------------------------------------------------------------------------\u001b[0m",
            "\u001b[0;31mNameError\u001b[0m                                 Traceback (most recent call last)",
            "\u001b[0;32m<ipython-input-34-3a710d2a84f8>\u001b[0m in \u001b[0;36m<module>\u001b[0;34m()\u001b[0m\n\u001b[0;32m----> 1\u001b[0;31m \u001b[0mz\u001b[0m\u001b[0;34m\u001b[0m\u001b[0;34m\u001b[0m\u001b[0m\n\u001b[0m",
            "\u001b[0;31mNameError\u001b[0m: name 'z' is not defined"
          ]
        }
      ]
    },
    {
      "cell_type": "markdown",
      "metadata": {
        "id": "4XErowjw0C8-",
        "colab_type": "text"
      },
      "source": [
        "## DBScan\n",
        "\n",
        "The challenge is to set *e* value."
      ]
    },
    {
      "cell_type": "code",
      "metadata": {
        "id": "2op5gRsmY3xL",
        "colab_type": "code",
        "colab": {}
      },
      "source": [
        "def getHyperparameters(sd,retain):\n",
        "  \n",
        "  import math\n",
        "  \n",
        "  dis=[]\n",
        "  temp =list(sd['Price'])\n",
        "  for i in range(0,len(temp)-1):\n",
        "    dis.append(temp[i+1]-temp[i])\n",
        "\n",
        "  arr = np.array(dis)\n",
        "  diss = pd.DataFrame(dis,columns=['dis'])\n",
        "  std=diss['dis'].std()\n",
        "  ma = diss['dis'].max()\n",
        "  n=len(dis)\n",
        "  \n",
        "  cnt={}\n",
        "  unique_dis=list(set(dis))\n",
        "  for i in unique_dis:\n",
        "    cnt[i]=dis.count(i)\n",
        "  keys = cnt.keys()\n",
        "  keys=sorted(keys)\n",
        "  cands=[]\n",
        "  full = int(round((retain*n),0))\n",
        "  for i in keys:\n",
        "    full = full - cnt[i]\n",
        "    cands.append(i)\n",
        "    if(full<=0):\n",
        "      break\n",
        "    \n",
        "  \n",
        "  b = pd.DataFrame(cands)\n",
        "  epsilon = round(np.max(np.array(b))*1000,0)/1000\n",
        "  return(epsilon)\n",
        "  \n",
        "\n",
        "\n",
        "\n",
        "  "
      ],
      "execution_count": 0,
      "outputs": []
    },
    {
      "cell_type": "code",
      "metadata": {
        "id": "uXW3kMGj0CAm",
        "colab_type": "code",
        "outputId": "494ed654-ca65-47a7-8f45-4e8ef779cd6b",
        "colab": {
          "base_uri": "https://localhost:8080/",
          "height": 358
        }
      },
      "source": [
        "from sklearn.preprocessing import MinMaxScaler\n",
        "scaler = MinMaxScaler()\n",
        "sd = scaler.fit_transform(data)\n",
        "sd = pd.DataFrame(sd,columns=['Price'])\n"
      ],
      "execution_count": 0,
      "outputs": [
        {
          "output_type": "error",
          "ename": "ValueError",
          "evalue": "ignored",
          "traceback": [
            "\u001b[0;31m---------------------------------------------------------------------------\u001b[0m",
            "\u001b[0;31mValueError\u001b[0m                                Traceback (most recent call last)",
            "\u001b[0;32m<ipython-input-36-086a1e280fbb>\u001b[0m in \u001b[0;36m<module>\u001b[0;34m()\u001b[0m\n\u001b[1;32m      1\u001b[0m \u001b[0;32mfrom\u001b[0m \u001b[0msklearn\u001b[0m\u001b[0;34m.\u001b[0m\u001b[0mpreprocessing\u001b[0m \u001b[0;32mimport\u001b[0m \u001b[0mMinMaxScaler\u001b[0m\u001b[0;34m\u001b[0m\u001b[0;34m\u001b[0m\u001b[0m\n\u001b[1;32m      2\u001b[0m \u001b[0mscaler\u001b[0m \u001b[0;34m=\u001b[0m \u001b[0mMinMaxScaler\u001b[0m\u001b[0;34m(\u001b[0m\u001b[0;34m)\u001b[0m\u001b[0;34m\u001b[0m\u001b[0;34m\u001b[0m\u001b[0m\n\u001b[0;32m----> 3\u001b[0;31m \u001b[0msd\u001b[0m \u001b[0;34m=\u001b[0m \u001b[0mscaler\u001b[0m\u001b[0;34m.\u001b[0m\u001b[0mfit_transform\u001b[0m\u001b[0;34m(\u001b[0m\u001b[0mdata\u001b[0m\u001b[0;34m)\u001b[0m\u001b[0;34m\u001b[0m\u001b[0;34m\u001b[0m\u001b[0m\n\u001b[0m\u001b[1;32m      4\u001b[0m \u001b[0msd\u001b[0m \u001b[0;34m=\u001b[0m \u001b[0mpd\u001b[0m\u001b[0;34m.\u001b[0m\u001b[0mDataFrame\u001b[0m\u001b[0;34m(\u001b[0m\u001b[0msd\u001b[0m\u001b[0;34m,\u001b[0m\u001b[0mcolumns\u001b[0m\u001b[0;34m=\u001b[0m\u001b[0;34m[\u001b[0m\u001b[0;34m'Price'\u001b[0m\u001b[0;34m]\u001b[0m\u001b[0;34m)\u001b[0m\u001b[0;34m\u001b[0m\u001b[0;34m\u001b[0m\u001b[0m\n",
            "\u001b[0;32m/usr/local/lib/python3.6/dist-packages/sklearn/base.py\u001b[0m in \u001b[0;36mfit_transform\u001b[0;34m(self, X, y, **fit_params)\u001b[0m\n\u001b[1;32m    551\u001b[0m         \u001b[0;32mif\u001b[0m \u001b[0my\u001b[0m \u001b[0;32mis\u001b[0m \u001b[0;32mNone\u001b[0m\u001b[0;34m:\u001b[0m\u001b[0;34m\u001b[0m\u001b[0;34m\u001b[0m\u001b[0m\n\u001b[1;32m    552\u001b[0m             \u001b[0;31m# fit method of arity 1 (unsupervised transformation)\u001b[0m\u001b[0;34m\u001b[0m\u001b[0;34m\u001b[0m\u001b[0;34m\u001b[0m\u001b[0m\n\u001b[0;32m--> 553\u001b[0;31m             \u001b[0;32mreturn\u001b[0m \u001b[0mself\u001b[0m\u001b[0;34m.\u001b[0m\u001b[0mfit\u001b[0m\u001b[0;34m(\u001b[0m\u001b[0mX\u001b[0m\u001b[0;34m,\u001b[0m \u001b[0;34m**\u001b[0m\u001b[0mfit_params\u001b[0m\u001b[0;34m)\u001b[0m\u001b[0;34m.\u001b[0m\u001b[0mtransform\u001b[0m\u001b[0;34m(\u001b[0m\u001b[0mX\u001b[0m\u001b[0;34m)\u001b[0m\u001b[0;34m\u001b[0m\u001b[0;34m\u001b[0m\u001b[0m\n\u001b[0m\u001b[1;32m    554\u001b[0m         \u001b[0;32melse\u001b[0m\u001b[0;34m:\u001b[0m\u001b[0;34m\u001b[0m\u001b[0;34m\u001b[0m\u001b[0m\n\u001b[1;32m    555\u001b[0m             \u001b[0;31m# fit method of arity 2 (supervised transformation)\u001b[0m\u001b[0;34m\u001b[0m\u001b[0;34m\u001b[0m\u001b[0;34m\u001b[0m\u001b[0m\n",
            "\u001b[0;32m/usr/local/lib/python3.6/dist-packages/sklearn/preprocessing/data.py\u001b[0m in \u001b[0;36mfit\u001b[0;34m(self, X, y)\u001b[0m\n\u001b[1;32m    323\u001b[0m         \u001b[0;31m# Reset internal state before fitting\u001b[0m\u001b[0;34m\u001b[0m\u001b[0;34m\u001b[0m\u001b[0;34m\u001b[0m\u001b[0m\n\u001b[1;32m    324\u001b[0m         \u001b[0mself\u001b[0m\u001b[0;34m.\u001b[0m\u001b[0m_reset\u001b[0m\u001b[0;34m(\u001b[0m\u001b[0;34m)\u001b[0m\u001b[0;34m\u001b[0m\u001b[0;34m\u001b[0m\u001b[0m\n\u001b[0;32m--> 325\u001b[0;31m         \u001b[0;32mreturn\u001b[0m \u001b[0mself\u001b[0m\u001b[0;34m.\u001b[0m\u001b[0mpartial_fit\u001b[0m\u001b[0;34m(\u001b[0m\u001b[0mX\u001b[0m\u001b[0;34m,\u001b[0m \u001b[0my\u001b[0m\u001b[0;34m)\u001b[0m\u001b[0;34m\u001b[0m\u001b[0;34m\u001b[0m\u001b[0m\n\u001b[0m\u001b[1;32m    326\u001b[0m \u001b[0;34m\u001b[0m\u001b[0m\n\u001b[1;32m    327\u001b[0m     \u001b[0;32mdef\u001b[0m \u001b[0mpartial_fit\u001b[0m\u001b[0;34m(\u001b[0m\u001b[0mself\u001b[0m\u001b[0;34m,\u001b[0m \u001b[0mX\u001b[0m\u001b[0;34m,\u001b[0m \u001b[0my\u001b[0m\u001b[0;34m=\u001b[0m\u001b[0;32mNone\u001b[0m\u001b[0;34m)\u001b[0m\u001b[0;34m:\u001b[0m\u001b[0;34m\u001b[0m\u001b[0;34m\u001b[0m\u001b[0m\n",
            "\u001b[0;32m/usr/local/lib/python3.6/dist-packages/sklearn/preprocessing/data.py\u001b[0m in \u001b[0;36mpartial_fit\u001b[0;34m(self, X, y)\u001b[0m\n\u001b[1;32m    351\u001b[0m         X = check_array(X, copy=self.copy,\n\u001b[1;32m    352\u001b[0m                         \u001b[0mestimator\u001b[0m\u001b[0;34m=\u001b[0m\u001b[0mself\u001b[0m\u001b[0;34m,\u001b[0m \u001b[0mdtype\u001b[0m\u001b[0;34m=\u001b[0m\u001b[0mFLOAT_DTYPES\u001b[0m\u001b[0;34m,\u001b[0m\u001b[0;34m\u001b[0m\u001b[0;34m\u001b[0m\u001b[0m\n\u001b[0;32m--> 353\u001b[0;31m                         force_all_finite=\"allow-nan\")\n\u001b[0m\u001b[1;32m    354\u001b[0m \u001b[0;34m\u001b[0m\u001b[0m\n\u001b[1;32m    355\u001b[0m         \u001b[0mdata_min\u001b[0m \u001b[0;34m=\u001b[0m \u001b[0mnp\u001b[0m\u001b[0;34m.\u001b[0m\u001b[0mnanmin\u001b[0m\u001b[0;34m(\u001b[0m\u001b[0mX\u001b[0m\u001b[0;34m,\u001b[0m \u001b[0maxis\u001b[0m\u001b[0;34m=\u001b[0m\u001b[0;36m0\u001b[0m\u001b[0;34m)\u001b[0m\u001b[0;34m\u001b[0m\u001b[0;34m\u001b[0m\u001b[0m\n",
            "\u001b[0;32m/usr/local/lib/python3.6/dist-packages/sklearn/utils/validation.py\u001b[0m in \u001b[0;36mcheck_array\u001b[0;34m(array, accept_sparse, accept_large_sparse, dtype, order, copy, force_all_finite, ensure_2d, allow_nd, ensure_min_samples, ensure_min_features, warn_on_dtype, estimator)\u001b[0m\n\u001b[1;32m    494\u001b[0m             \u001b[0;32mtry\u001b[0m\u001b[0;34m:\u001b[0m\u001b[0;34m\u001b[0m\u001b[0;34m\u001b[0m\u001b[0m\n\u001b[1;32m    495\u001b[0m                 \u001b[0mwarnings\u001b[0m\u001b[0;34m.\u001b[0m\u001b[0msimplefilter\u001b[0m\u001b[0;34m(\u001b[0m\u001b[0;34m'error'\u001b[0m\u001b[0;34m,\u001b[0m \u001b[0mComplexWarning\u001b[0m\u001b[0;34m)\u001b[0m\u001b[0;34m\u001b[0m\u001b[0;34m\u001b[0m\u001b[0m\n\u001b[0;32m--> 496\u001b[0;31m                 \u001b[0marray\u001b[0m \u001b[0;34m=\u001b[0m \u001b[0mnp\u001b[0m\u001b[0;34m.\u001b[0m\u001b[0masarray\u001b[0m\u001b[0;34m(\u001b[0m\u001b[0marray\u001b[0m\u001b[0;34m,\u001b[0m \u001b[0mdtype\u001b[0m\u001b[0;34m=\u001b[0m\u001b[0mdtype\u001b[0m\u001b[0;34m,\u001b[0m \u001b[0morder\u001b[0m\u001b[0;34m=\u001b[0m\u001b[0morder\u001b[0m\u001b[0;34m)\u001b[0m\u001b[0;34m\u001b[0m\u001b[0;34m\u001b[0m\u001b[0m\n\u001b[0m\u001b[1;32m    497\u001b[0m             \u001b[0;32mexcept\u001b[0m \u001b[0mComplexWarning\u001b[0m\u001b[0;34m:\u001b[0m\u001b[0;34m\u001b[0m\u001b[0;34m\u001b[0m\u001b[0m\n\u001b[1;32m    498\u001b[0m                 raise ValueError(\"Complex data not supported\\n\"\n",
            "\u001b[0;32m/usr/local/lib/python3.6/dist-packages/numpy/core/numeric.py\u001b[0m in \u001b[0;36masarray\u001b[0;34m(a, dtype, order)\u001b[0m\n\u001b[1;32m    536\u001b[0m \u001b[0;34m\u001b[0m\u001b[0m\n\u001b[1;32m    537\u001b[0m     \"\"\"\n\u001b[0;32m--> 538\u001b[0;31m     \u001b[0;32mreturn\u001b[0m \u001b[0marray\u001b[0m\u001b[0;34m(\u001b[0m\u001b[0ma\u001b[0m\u001b[0;34m,\u001b[0m \u001b[0mdtype\u001b[0m\u001b[0;34m,\u001b[0m \u001b[0mcopy\u001b[0m\u001b[0;34m=\u001b[0m\u001b[0;32mFalse\u001b[0m\u001b[0;34m,\u001b[0m \u001b[0morder\u001b[0m\u001b[0;34m=\u001b[0m\u001b[0morder\u001b[0m\u001b[0;34m)\u001b[0m\u001b[0;34m\u001b[0m\u001b[0;34m\u001b[0m\u001b[0m\n\u001b[0m\u001b[1;32m    539\u001b[0m \u001b[0;34m\u001b[0m\u001b[0m\n\u001b[1;32m    540\u001b[0m \u001b[0;34m\u001b[0m\u001b[0m\n",
            "\u001b[0;31mValueError\u001b[0m: could not convert string to float: 'Impact Drill'"
          ]
        }
      ]
    },
    {
      "cell_type": "code",
      "metadata": {
        "id": "5wNV1K-80Imt",
        "colab_type": "code",
        "colab": {}
      },
      "source": [
        "import math\n",
        "dis=[]\n",
        "temp =list(sd['Price'])\n",
        "for i in range(0,len(temp)-1):\n",
        "  dis.append(temp[i+1]-temp[i])\n",
        "\n",
        "arr = np.array(dis)\n",
        "\n",
        "diss = pd.DataFrame(dis,columns=['dis'])\n",
        "diss.describe()\n",
        "std=diss['dis'].std()\n",
        "ma = diss['dis'].max()\n",
        "n=len(dis)"
      ],
      "execution_count": 0,
      "outputs": []
    },
    {
      "cell_type": "code",
      "metadata": {
        "id": "XcUm4HTj9cJz",
        "colab_type": "code",
        "colab": {}
      },
      "source": [
        "cnt={}\n",
        "unique_dis=list(set(dis))\n",
        "for i in unique_dis:\n",
        "  cnt[i]=dis.count(i)\n",
        "keys = cnt.keys()\n",
        "keys=sorted(keys)\n",
        "\n",
        "\n",
        "print(len(keys))\n",
        "\n",
        "  "
      ],
      "execution_count": 0,
      "outputs": []
    },
    {
      "cell_type": "code",
      "metadata": {
        "id": "ascr1G2F_IKx",
        "colab_type": "code",
        "colab": {}
      },
      "source": [
        "cands=[]\n",
        "full = int(round((0.92*n),0))\n",
        "for i in keys:\n",
        "  full = full - cnt[i]\n",
        "  cands.append(i)\n",
        "  if(full<=0):\n",
        "    break\n",
        "    \n"
      ],
      "execution_count": 0,
      "outputs": []
    },
    {
      "cell_type": "code",
      "metadata": {
        "id": "OgLp95Ab_nE6",
        "colab_type": "code",
        "colab": {}
      },
      "source": [
        "\n",
        "b = pd.DataFrame(cands)\n",
        "b.describe()\n",
        "epsilon = round(np.max(np.array(b))*1000,0)/1000\n",
        "epsilon"
      ],
      "execution_count": 0,
      "outputs": []
    },
    {
      "cell_type": "code",
      "metadata": {
        "id": "T6MY-O2P1ITw",
        "colab_type": "code",
        "outputId": "cebd6490-4267-45ad-ccf8-6ab49546e129",
        "colab": {
          "base_uri": "https://localhost:8080/",
          "height": 232
        }
      },
      "source": [
        "#main\n",
        "\n",
        "from sklearn.cluster import DBSCAN\n",
        "outlier_detection = DBSCAN(\n",
        "  eps = epsilon ,\n",
        "  metric=\"euclidean\",\n",
        "  min_samples = 3,\n",
        "  n_jobs = -1)\n",
        "clusters = outlier_detection.fit_predict(sd)"
      ],
      "execution_count": 0,
      "outputs": [
        {
          "output_type": "error",
          "ename": "NameError",
          "evalue": "ignored",
          "traceback": [
            "\u001b[0;31m---------------------------------------------------------------------------\u001b[0m",
            "\u001b[0;31mNameError\u001b[0m                                 Traceback (most recent call last)",
            "\u001b[0;32m<ipython-input-37-0bd80be82813>\u001b[0m in \u001b[0;36m<module>\u001b[0;34m()\u001b[0m\n\u001b[1;32m      2\u001b[0m \u001b[0;32mfrom\u001b[0m \u001b[0msklearn\u001b[0m\u001b[0;34m.\u001b[0m\u001b[0mcluster\u001b[0m \u001b[0;32mimport\u001b[0m \u001b[0mDBSCAN\u001b[0m\u001b[0;34m\u001b[0m\u001b[0;34m\u001b[0m\u001b[0m\n\u001b[1;32m      3\u001b[0m outlier_detection = DBSCAN(\n\u001b[0;32m----> 4\u001b[0;31m   \u001b[0meps\u001b[0m \u001b[0;34m=\u001b[0m \u001b[0mepsilon\u001b[0m \u001b[0;34m,\u001b[0m\u001b[0;34m\u001b[0m\u001b[0;34m\u001b[0m\u001b[0m\n\u001b[0m\u001b[1;32m      5\u001b[0m   \u001b[0mmetric\u001b[0m\u001b[0;34m=\u001b[0m\u001b[0;34m\"euclidean\"\u001b[0m\u001b[0;34m,\u001b[0m\u001b[0;34m\u001b[0m\u001b[0;34m\u001b[0m\u001b[0m\n\u001b[1;32m      6\u001b[0m   \u001b[0mmin_samples\u001b[0m \u001b[0;34m=\u001b[0m \u001b[0;36m3\u001b[0m\u001b[0;34m,\u001b[0m\u001b[0;34m\u001b[0m\u001b[0;34m\u001b[0m\u001b[0m\n",
            "\u001b[0;31mNameError\u001b[0m: name 'epsilon' is not defined"
          ]
        }
      ]
    },
    {
      "cell_type": "code",
      "metadata": {
        "id": "UVuMRWJz0NGM",
        "colab_type": "code",
        "colab": {}
      },
      "source": [
        "cluster_map = pd.DataFrame()\n",
        "cluster_map['cluster'] = outlier_detection.labels_\n",
        "cluster_map[cluster_map.cluster == 0]\n",
        "clusters[clusters!=-1]=1\n",
        "dbscan_vote = clusters"
      ],
      "execution_count": 0,
      "outputs": []
    },
    {
      "cell_type": "code",
      "metadata": {
        "id": "R2j-LkXCCeRB",
        "colab_type": "code",
        "colab": {}
      },
      "source": [
        "dbscan_vote"
      ],
      "execution_count": 0,
      "outputs": []
    },
    {
      "cell_type": "markdown",
      "metadata": {
        "id": "JvXCZPNz5nWY",
        "colab_type": "text"
      },
      "source": [
        "## LOF"
      ]
    },
    {
      "cell_type": "code",
      "metadata": {
        "id": "EO-m7sOh5qPy",
        "colab_type": "code",
        "outputId": "81289a4c-cfcb-4ac8-a971-111b6c532246",
        "colab": {
          "base_uri": "https://localhost:8080/",
          "height": 232
        }
      },
      "source": [
        "clf = LocalOutlierFactor(n_neighbors=20, contamination=contamination_factor)\n",
        "y_pred = clf.fit_predict(data)\n",
        "X_scores = clf.negative_outlier_factor_\n",
        "\n",
        "lof_vote = y_pred"
      ],
      "execution_count": 0,
      "outputs": [
        {
          "output_type": "error",
          "ename": "NameError",
          "evalue": "ignored",
          "traceback": [
            "\u001b[0;31m---------------------------------------------------------------------------\u001b[0m",
            "\u001b[0;31mNameError\u001b[0m                                 Traceback (most recent call last)",
            "\u001b[0;32m<ipython-input-38-37147703f36a>\u001b[0m in \u001b[0;36m<module>\u001b[0;34m()\u001b[0m\n\u001b[0;32m----> 1\u001b[0;31m \u001b[0mclf\u001b[0m \u001b[0;34m=\u001b[0m \u001b[0mLocalOutlierFactor\u001b[0m\u001b[0;34m(\u001b[0m\u001b[0mn_neighbors\u001b[0m\u001b[0;34m=\u001b[0m\u001b[0;36m20\u001b[0m\u001b[0;34m,\u001b[0m \u001b[0mcontamination\u001b[0m\u001b[0;34m=\u001b[0m\u001b[0mcontamination_factor\u001b[0m\u001b[0;34m)\u001b[0m\u001b[0;34m\u001b[0m\u001b[0;34m\u001b[0m\u001b[0m\n\u001b[0m\u001b[1;32m      2\u001b[0m \u001b[0my_pred\u001b[0m \u001b[0;34m=\u001b[0m \u001b[0mclf\u001b[0m\u001b[0;34m.\u001b[0m\u001b[0mfit_predict\u001b[0m\u001b[0;34m(\u001b[0m\u001b[0mdata\u001b[0m\u001b[0;34m)\u001b[0m\u001b[0;34m\u001b[0m\u001b[0;34m\u001b[0m\u001b[0m\n\u001b[1;32m      3\u001b[0m \u001b[0mX_scores\u001b[0m \u001b[0;34m=\u001b[0m \u001b[0mclf\u001b[0m\u001b[0;34m.\u001b[0m\u001b[0mnegative_outlier_factor_\u001b[0m\u001b[0;34m\u001b[0m\u001b[0;34m\u001b[0m\u001b[0m\n\u001b[1;32m      4\u001b[0m \u001b[0;34m\u001b[0m\u001b[0m\n\u001b[1;32m      5\u001b[0m \u001b[0mlof_vote\u001b[0m \u001b[0;34m=\u001b[0m \u001b[0my_pred\u001b[0m\u001b[0;34m\u001b[0m\u001b[0;34m\u001b[0m\u001b[0m\n",
            "\u001b[0;31mNameError\u001b[0m: name 'contamination_factor' is not defined"
          ]
        }
      ]
    },
    {
      "cell_type": "code",
      "metadata": {
        "id": "h5Vv1U5WBHdY",
        "colab_type": "code",
        "colab": {}
      },
      "source": [
        "lof_vote"
      ],
      "execution_count": 0,
      "outputs": []
    },
    {
      "cell_type": "markdown",
      "metadata": {
        "id": "z45JTSF-cmWZ",
        "colab_type": "text"
      },
      "source": [
        "## Autoencoders (To Be Used Later)\n",
        "\n",
        "\n",
        "To be used later, when more data is available. This would be a semi-supervised learning approach, where <=5% of total data should be labeled. This will greatly improve the accurcy of price range prediction."
      ]
    },
    {
      "cell_type": "code",
      "metadata": {
        "id": "e63pQ4qh25kn",
        "colab_type": "code",
        "outputId": "2aa18e30-f075-420c-ffbf-856c7d4c34a1",
        "colab": {
          "base_uri": "https://localhost:8080/",
          "height": 232
        }
      },
      "source": [
        "#prepare 5-10% labeled data\n",
        "\n",
        "data=[]\n",
        "for i in indices:\n",
        "  data.append(label_data[i])\n",
        "  \n",
        "data = np.array(data)\n",
        "  \n",
        "  \n",
        "indices=[]\n",
        "limit = int(round(0.4*len(t),0))\n",
        "while(1):\n",
        "  i = random.randint(0,len(t))\n",
        "  if(limit<=0):\n",
        "    break\n",
        "  if(t[i]!=-1):\n",
        "    indices.append(i)\n",
        "    limit = limit - 1\n",
        "  "
      ],
      "execution_count": 0,
      "outputs": [
        {
          "output_type": "error",
          "ename": "NameError",
          "evalue": "ignored",
          "traceback": [
            "\u001b[0;31m---------------------------------------------------------------------------\u001b[0m",
            "\u001b[0;31mNameError\u001b[0m                                 Traceback (most recent call last)",
            "\u001b[0;32m<ipython-input-39-0f25e3444434>\u001b[0m in \u001b[0;36m<module>\u001b[0;34m()\u001b[0m\n\u001b[1;32m      1\u001b[0m \u001b[0;34m\u001b[0m\u001b[0m\n\u001b[1;32m      2\u001b[0m \u001b[0mdata\u001b[0m\u001b[0;34m=\u001b[0m\u001b[0;34m[\u001b[0m\u001b[0;34m]\u001b[0m\u001b[0;34m\u001b[0m\u001b[0;34m\u001b[0m\u001b[0m\n\u001b[0;32m----> 3\u001b[0;31m \u001b[0;32mfor\u001b[0m \u001b[0mi\u001b[0m \u001b[0;32min\u001b[0m \u001b[0mindices\u001b[0m\u001b[0;34m:\u001b[0m\u001b[0;34m\u001b[0m\u001b[0;34m\u001b[0m\u001b[0m\n\u001b[0m\u001b[1;32m      4\u001b[0m   \u001b[0mdata\u001b[0m\u001b[0;34m.\u001b[0m\u001b[0mappend\u001b[0m\u001b[0;34m(\u001b[0m\u001b[0mlabel_data\u001b[0m\u001b[0;34m[\u001b[0m\u001b[0mi\u001b[0m\u001b[0;34m]\u001b[0m\u001b[0;34m)\u001b[0m\u001b[0;34m\u001b[0m\u001b[0;34m\u001b[0m\u001b[0m\n\u001b[1;32m      5\u001b[0m \u001b[0;34m\u001b[0m\u001b[0m\n",
            "\u001b[0;31mNameError\u001b[0m: name 'indices' is not defined"
          ]
        }
      ]
    },
    {
      "cell_type": "code",
      "metadata": {
        "id": "E6E52OywdMXE",
        "colab_type": "code",
        "colab": {}
      },
      "source": [
        "from keras.models import Model\n",
        "from keras.layers import Dense, Input\n",
        "from keras.datasets import mnist\n",
        "from keras.regularizers import l1\n",
        "from keras.optimizers import Adam"
      ],
      "execution_count": 0,
      "outputs": []
    },
    {
      "cell_type": "code",
      "metadata": {
        "id": "SJySaGAoi7vZ",
        "colab_type": "code",
        "outputId": "7b23300b-a368-45ce-a266-bbe314372e53",
        "colab": {
          "base_uri": "https://localhost:8080/",
          "height": 181
        }
      },
      "source": [
        "data =  data.reshape(-1,48)\n",
        "data"
      ],
      "execution_count": 0,
      "outputs": [
        {
          "output_type": "error",
          "ename": "AttributeError",
          "evalue": "ignored",
          "traceback": [
            "\u001b[0;31m---------------------------------------------------------------------------\u001b[0m",
            "\u001b[0;31mAttributeError\u001b[0m                            Traceback (most recent call last)",
            "\u001b[0;32m<ipython-input-40-90f5f32a223b>\u001b[0m in \u001b[0;36m<module>\u001b[0;34m()\u001b[0m\n\u001b[0;32m----> 1\u001b[0;31m \u001b[0mdata\u001b[0m \u001b[0;34m=\u001b[0m  \u001b[0mdata\u001b[0m\u001b[0;34m.\u001b[0m\u001b[0mreshape\u001b[0m\u001b[0;34m(\u001b[0m\u001b[0;34m-\u001b[0m\u001b[0;36m1\u001b[0m\u001b[0;34m,\u001b[0m\u001b[0;36m48\u001b[0m\u001b[0;34m)\u001b[0m\u001b[0;34m\u001b[0m\u001b[0;34m\u001b[0m\u001b[0m\n\u001b[0m\u001b[1;32m      2\u001b[0m \u001b[0mdata\u001b[0m\u001b[0;34m\u001b[0m\u001b[0;34m\u001b[0m\u001b[0m\n",
            "\u001b[0;31mAttributeError\u001b[0m: 'list' object has no attribute 'reshape'"
          ]
        }
      ]
    },
    {
      "cell_type": "code",
      "metadata": {
        "id": "vO_a57JlwF-w",
        "colab_type": "code",
        "colab": {}
      },
      "source": [
        "from sklearn.model_selection import data_test_split\n",
        "from sklearn.metrics import confusion_matrix, precision_recall_curve\n",
        "from sklearn.metrics import recall_score, classification_report, auc, roc_curve\n",
        "from sklearn.metrics import precision_recall_fscore_support, f1_score\n",
        "from sklearn.preprocessing import StandardScaler\n",
        "from pylab import rcParams\n",
        "from keras.models import Model, load_model\n",
        "from keras.layers import Input, Dense\n",
        "from keras.callbacks import ModelCheckpoint, TensorBoard\n",
        "from keras import regularizers"
      ],
      "execution_count": 0,
      "outputs": []
    },
    {
      "cell_type": "code",
      "metadata": {
        "id": "8MmPVKMRcoqu",
        "colab_type": "code",
        "colab": {}
      },
      "source": [
        "input_size = 48\n",
        "\n",
        "encoding_dim = 24\n",
        "hidden_dim = int(encoding_dim / 2) \n",
        "learning_rate = 1e-7\n",
        "\n",
        "input_layer = Input(shape=(input_size,))\n",
        "\n",
        "decoder = Dense(hidden_dim, activation='relu')(input_layer)\n",
        "decoder = Dense(input_size, activation='linear')(decoder)\n",
        "\n",
        "autoencoder = Model(input_layer, decoder)\n",
        "autoencoder.compile(optimizer='adam', loss='mean_squared_error',metrics = ['mean_squared_error'])\n",
        "autoencoder.summary()"
      ],
      "execution_count": 0,
      "outputs": []
    },
    {
      "cell_type": "code",
      "metadata": {
        "id": "BovGt4xOdBFv",
        "colab_type": "code",
        "outputId": "ee006245-928e-4e1c-c89a-f6d3b9996e2a",
        "colab": {
          "base_uri": "https://localhost:8080/",
          "height": 164
        }
      },
      "source": [
        "autoencoder.fit(data, data, epochs=300)\n"
      ],
      "execution_count": 0,
      "outputs": [
        {
          "output_type": "error",
          "ename": "NameError",
          "evalue": "ignored",
          "traceback": [
            "\u001b[0;31m---------------------------------------------------------------------------\u001b[0m",
            "\u001b[0;31mNameError\u001b[0m                                 Traceback (most recent call last)",
            "\u001b[0;32m<ipython-input-41-05c9de5b4331>\u001b[0m in \u001b[0;36m<module>\u001b[0;34m()\u001b[0m\n\u001b[0;32m----> 1\u001b[0;31m \u001b[0mautoencoder\u001b[0m\u001b[0;34m.\u001b[0m\u001b[0mfit\u001b[0m\u001b[0;34m(\u001b[0m\u001b[0mdata\u001b[0m\u001b[0;34m,\u001b[0m \u001b[0mdata\u001b[0m\u001b[0;34m,\u001b[0m \u001b[0mepochs\u001b[0m\u001b[0;34m=\u001b[0m\u001b[0;36m300\u001b[0m\u001b[0;34m)\u001b[0m\u001b[0;34m\u001b[0m\u001b[0;34m\u001b[0m\u001b[0m\n\u001b[0m",
            "\u001b[0;31mNameError\u001b[0m: name 'autoencoder' is not defined"
          ]
        }
      ]
    },
    {
      "cell_type": "code",
      "metadata": {
        "id": "pIBMg2-h0fey",
        "colab_type": "code",
        "outputId": "f565c353-8182-4427-dada-310a8a177fcd",
        "colab": {
          "base_uri": "https://localhost:8080/",
          "height": 181
        }
      },
      "source": [
        "reconstructed = autoencoder.predict(data)\n",
        "reconstructed"
      ],
      "execution_count": 0,
      "outputs": [
        {
          "output_type": "error",
          "ename": "NameError",
          "evalue": "ignored",
          "traceback": [
            "\u001b[0;31m---------------------------------------------------------------------------\u001b[0m",
            "\u001b[0;31mNameError\u001b[0m                                 Traceback (most recent call last)",
            "\u001b[0;32m<ipython-input-42-76193ddb2884>\u001b[0m in \u001b[0;36m<module>\u001b[0;34m()\u001b[0m\n\u001b[0;32m----> 1\u001b[0;31m \u001b[0mreconstructed\u001b[0m \u001b[0;34m=\u001b[0m \u001b[0mautoencoder\u001b[0m\u001b[0;34m.\u001b[0m\u001b[0mpredict\u001b[0m\u001b[0;34m(\u001b[0m\u001b[0mdata\u001b[0m\u001b[0;34m)\u001b[0m\u001b[0;34m\u001b[0m\u001b[0;34m\u001b[0m\u001b[0m\n\u001b[0m\u001b[1;32m      2\u001b[0m \u001b[0mreconstructed\u001b[0m\u001b[0;34m\u001b[0m\u001b[0;34m\u001b[0m\u001b[0m\n",
            "\u001b[0;31mNameError\u001b[0m: name 'autoencoder' is not defined"
          ]
        }
      ]
    },
    {
      "cell_type": "code",
      "metadata": {
        "id": "Gy1m90zZjk1l",
        "colab_type": "code",
        "colab": {}
      },
      "source": [
        "markers = []\n",
        "checks = list(data - reconstructed)\n",
        "checks = checks[0]\n",
        "\n",
        "\n",
        "for i in range(len(checks)):\n",
        "  if(abs(checks[i])>2):\n",
        "    markers.append(-1)\n",
        "  else:\n",
        "    markers.append(1)\n",
        "\n",
        "np.array(markers)"
      ],
      "execution_count": 0,
      "outputs": []
    },
    {
      "cell_type": "code",
      "metadata": {
        "id": "IYEnBTlsHAhl",
        "colab_type": "code",
        "colab": {}
      },
      "source": [
        ""
      ],
      "execution_count": 0,
      "outputs": []
    }
  ]
}